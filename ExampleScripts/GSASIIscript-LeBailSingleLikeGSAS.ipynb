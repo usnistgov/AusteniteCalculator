{
 "cells": [
  {
   "cell_type": "code",
   "execution_count": null,
   "metadata": {},
   "outputs": [],
   "source": [
    "#pip install PySPG"
   ]
  },
  {
   "cell_type": "code",
   "execution_count": null,
   "metadata": {},
   "outputs": [],
   "source": [
    "# following tutorial at\n",
    "# https://gsas-ii.readthedocs.io/en/latest/GSASIIscriptable.html#peak-fitting"
   ]
  },
  {
   "cell_type": "code",
   "execution_count": 19,
   "metadata": {},
   "outputs": [
    {
     "ename": "ModuleNotFoundError",
     "evalue": "No module named 'pandas'",
     "output_type": "error",
     "traceback": [
      "\u001b[0;31m---------------------------------------------------------------------------\u001b[0m",
      "\u001b[0;31mModuleNotFoundError\u001b[0m                       Traceback (most recent call last)",
      "\u001b[0;32m<ipython-input-19-2c9925b75e89>\u001b[0m in \u001b[0;36m<module>\u001b[0;34m\u001b[0m\n\u001b[1;32m      1\u001b[0m \u001b[0;32mimport\u001b[0m \u001b[0mos\u001b[0m\u001b[0;34m,\u001b[0m\u001b[0msys\u001b[0m\u001b[0;34m\u001b[0m\u001b[0;34m\u001b[0m\u001b[0m\n\u001b[1;32m      2\u001b[0m \u001b[0;32mimport\u001b[0m \u001b[0mmatplotlib\u001b[0m\u001b[0;34m.\u001b[0m\u001b[0mpyplot\u001b[0m \u001b[0;32mas\u001b[0m \u001b[0mplt\u001b[0m\u001b[0;34m\u001b[0m\u001b[0;34m\u001b[0m\u001b[0m\n\u001b[0;32m----> 3\u001b[0;31m \u001b[0;32mimport\u001b[0m \u001b[0mpandas\u001b[0m \u001b[0;32mas\u001b[0m \u001b[0mpd\u001b[0m  \u001b[0;31m# AC got a 'no module named pandas' error.  Do we need it?\u001b[0m\u001b[0;34m\u001b[0m\u001b[0;34m\u001b[0m\u001b[0m\n\u001b[0m\u001b[1;32m      4\u001b[0m \u001b[0;32mimport\u001b[0m \u001b[0mnumpy\u001b[0m \u001b[0;32mas\u001b[0m \u001b[0mnp\u001b[0m\u001b[0;34m\u001b[0m\u001b[0;34m\u001b[0m\u001b[0m\n\u001b[1;32m      5\u001b[0m \u001b[0;32mimport\u001b[0m \u001b[0mmath\u001b[0m\u001b[0;34m\u001b[0m\u001b[0;34m\u001b[0m\u001b[0m\n",
      "\u001b[0;31mModuleNotFoundError\u001b[0m: No module named 'pandas'"
     ]
    }
   ],
   "source": [
    "import os,sys\n",
    "import matplotlib.pyplot as plt\n",
    "#import pandas as pd  # AC got a 'no module named pandas' error.  Do we need it?\n",
    "import numpy as np\n",
    "import math\n",
    "import csv\n",
    "import re\n",
    "\n",
    "# Eventually we'll have to find a common pathway, for now just change if this is commented out.\n",
    "\n",
    "if re.search('dtn1',os.getcwd()) is not None:\n",
    "    print(\"David's computer\")\n",
    "    sys.path.insert(0,'/Users/dtn1/gsas2full/GSASII/') # needed to \"find\" GSAS-II modules\n",
    "\n",
    "elif re.search('creuzige',os.getcwd()) is not None:\n",
    "    print(\"Adam's computer\")\n",
    "    sys.path.insert(0,'/Users/creuzige/gsas2full/envs/gsas2pkg/GSASII/') # needed to \"find\" GSAS-II modules\n",
    "\n",
    "elif re.search('maxgarman', os.getcwd()) is not None:\n",
    "    print(\"Max's Computer\")\n",
    "    sys.path.insert(0, '../opt/anaconda3/GSASII')\n",
    "\n",
    "import GSASIIscriptable as G2sc"
   ]
  },
  {
   "cell_type": "code",
   "execution_count": 9,
   "metadata": {},
   "outputs": [],
   "source": [
    "ScriptDirectory=os.getcwd()\n",
    "GitLabDirectory=os.path.dirname(os.getcwd())\n",
    "ExampleDataDirectory=os.path.join(GitLabDirectory,\"Example01\")\n",
    "SaveDataDirectory=os.path.join(GitLabDirectory,\"SaveData\")"
   ]
  },
  {
   "cell_type": "code",
   "execution_count": 4,
   "metadata": {},
   "outputs": [
    {
     "data": {
      "text/plain": [
       "'/Users/creuzige/Documents/NIST_Research/GitHub/AusteniteCalculator'"
      ]
     },
     "execution_count": 4,
     "metadata": {},
     "output_type": "execute_result"
    }
   ],
   "source": [
    "GitLabDirectory"
   ]
  },
  {
   "cell_type": "code",
   "execution_count": 11,
   "metadata": {
    "scrolled": true
   },
   "outputs": [
    {
     "ename": "FileNotFoundError",
     "evalue": "[Errno 2] No such file or directory: '/Users/creuzige/Documents/NIST_Research/GitHub/AusteniteCalculator/Example01/Example01/Gonio_BB-HD-Cu_Gallipix3d[30-120]_New_Control_proper_power.xrdml'",
     "output_type": "error",
     "traceback": [
      "\u001b[0;31m---------------------------------------------------------------------------\u001b[0m",
      "\u001b[0;31mFileNotFoundError\u001b[0m                         Traceback (most recent call last)",
      "\u001b[0;32m<ipython-input-11-640f178b061b>\u001b[0m in \u001b[0;36m<module>\u001b[0;34m\u001b[0m\n\u001b[1;32m      6\u001b[0m hist = gpx.add_powder_histogram(DataPathWrap('Example01/Gonio_BB-HD-Cu_Gallipix3d[30-120]_New_Control_proper_power.xrdml'),\n\u001b[1;32m      7\u001b[0m                                 \u001b[0mDataPathWrap\u001b[0m\u001b[0;34m(\u001b[0m\u001b[0;34m'Example01/TestCalibration.instprm'\u001b[0m\u001b[0;34m)\u001b[0m\u001b[0;34m,\u001b[0m \u001b[0;31m# need to get a\u001b[0m\u001b[0;34m\u001b[0m\u001b[0;34m\u001b[0m\u001b[0m\n\u001b[0;32m----> 8\u001b[0;31m                                 fmthint='Panalytical xrdml (xml)', databank=1, instbank=1)\n\u001b[0m",
      "\u001b[0;32m~/gsas2full/envs/gsas2pkg/GSASII/GSASIIscriptable.py\u001b[0m in \u001b[0;36madd_powder_histogram\u001b[0;34m(self, datafile, iparams, phases, fmthint, databank, instbank)\u001b[0m\n\u001b[1;32m   2086\u001b[0m         \u001b[0mdatafile\u001b[0m \u001b[0;34m=\u001b[0m \u001b[0mos\u001b[0m\u001b[0;34m.\u001b[0m\u001b[0mpath\u001b[0m\u001b[0;34m.\u001b[0m\u001b[0mabspath\u001b[0m\u001b[0;34m(\u001b[0m\u001b[0mos\u001b[0m\u001b[0;34m.\u001b[0m\u001b[0mpath\u001b[0m\u001b[0;34m.\u001b[0m\u001b[0mexpanduser\u001b[0m\u001b[0;34m(\u001b[0m\u001b[0mdatafile\u001b[0m\u001b[0;34m)\u001b[0m\u001b[0;34m)\u001b[0m\u001b[0;34m\u001b[0m\u001b[0;34m\u001b[0m\u001b[0m\n\u001b[1;32m   2087\u001b[0m         \u001b[0miparams\u001b[0m \u001b[0;34m=\u001b[0m \u001b[0mos\u001b[0m\u001b[0;34m.\u001b[0m\u001b[0mpath\u001b[0m\u001b[0;34m.\u001b[0m\u001b[0mabspath\u001b[0m\u001b[0;34m(\u001b[0m\u001b[0mos\u001b[0m\u001b[0;34m.\u001b[0m\u001b[0mpath\u001b[0m\u001b[0;34m.\u001b[0m\u001b[0mexpanduser\u001b[0m\u001b[0;34m(\u001b[0m\u001b[0miparams\u001b[0m\u001b[0;34m)\u001b[0m\u001b[0;34m)\u001b[0m\u001b[0;34m\u001b[0m\u001b[0;34m\u001b[0m\u001b[0m\n\u001b[0;32m-> 2088\u001b[0;31m         \u001b[0mpwdrreaders\u001b[0m \u001b[0;34m=\u001b[0m \u001b[0mimport_generic\u001b[0m\u001b[0;34m(\u001b[0m\u001b[0mdatafile\u001b[0m\u001b[0;34m,\u001b[0m \u001b[0mReaders\u001b[0m\u001b[0;34m[\u001b[0m\u001b[0;34m'Pwdr'\u001b[0m\u001b[0;34m]\u001b[0m\u001b[0;34m,\u001b[0m\u001b[0mfmthint\u001b[0m\u001b[0;34m=\u001b[0m\u001b[0mfmthint\u001b[0m\u001b[0;34m,\u001b[0m\u001b[0mbank\u001b[0m\u001b[0;34m=\u001b[0m\u001b[0mdatabank\u001b[0m\u001b[0;34m)\u001b[0m\u001b[0;34m\u001b[0m\u001b[0;34m\u001b[0m\u001b[0m\n\u001b[0m\u001b[1;32m   2089\u001b[0m         histname, new_names, pwdrdata = load_pwd_from_reader(\n\u001b[1;32m   2090\u001b[0m                                           \u001b[0mpwdrreaders\u001b[0m\u001b[0;34m[\u001b[0m\u001b[0;36m0\u001b[0m\u001b[0;34m]\u001b[0m\u001b[0;34m,\u001b[0m \u001b[0miparams\u001b[0m\u001b[0;34m,\u001b[0m\u001b[0;34m\u001b[0m\u001b[0;34m\u001b[0m\u001b[0m\n",
      "\u001b[0;32m~/gsas2full/envs/gsas2pkg/GSASII/GSASIIscriptable.py\u001b[0m in \u001b[0;36mimport_generic\u001b[0;34m(filename, readerlist, fmthint, bank)\u001b[0m\n\u001b[1;32m   1586\u001b[0m         \u001b[0;32mraise\u001b[0m \u001b[0mG2ImportException\u001b[0m\u001b[0;34m(\u001b[0m\u001b[0;34m\"Could not read file: \"\u001b[0m\u001b[0;34m,\u001b[0m \u001b[0mfilename\u001b[0m\u001b[0;34m)\u001b[0m\u001b[0;34m\u001b[0m\u001b[0;34m\u001b[0m\u001b[0m\n\u001b[1;32m   1587\u001b[0m \u001b[0;34m\u001b[0m\u001b[0m\n\u001b[0;32m-> 1588\u001b[0;31m     \u001b[0;32mwith\u001b[0m \u001b[0mopen\u001b[0m\u001b[0;34m(\u001b[0m\u001b[0mfilename\u001b[0m\u001b[0;34m,\u001b[0m \u001b[0;34m'r'\u001b[0m\u001b[0;34m)\u001b[0m\u001b[0;34m:\u001b[0m\u001b[0;34m\u001b[0m\u001b[0;34m\u001b[0m\u001b[0m\n\u001b[0m\u001b[1;32m   1589\u001b[0m         \u001b[0mrd_list\u001b[0m \u001b[0;34m=\u001b[0m \u001b[0;34m[\u001b[0m\u001b[0;34m]\u001b[0m\u001b[0;34m\u001b[0m\u001b[0;34m\u001b[0m\u001b[0m\n\u001b[1;32m   1590\u001b[0m \u001b[0;34m\u001b[0m\u001b[0m\n",
      "\u001b[0;31mFileNotFoundError\u001b[0m: [Errno 2] No such file or directory: '/Users/creuzige/Documents/NIST_Research/GitHub/AusteniteCalculator/Example01/Example01/Gonio_BB-HD-Cu_Gallipix3d[30-120]_New_Control_proper_power.xrdml'"
     ]
    }
   ],
   "source": [
    "\n",
    "datadir = os.path.expanduser(ExampleDataDirectory)\n",
    "SaveDir= os.path.expanduser(SaveDataDirectory)\n",
    "DataPathWrap = lambda fil: os.path.join(datadir,fil)\n",
    "SaveWrap = lambda fil: os.path.join(SaveDir,fil)\n",
    "gpx = G2sc.G2Project(newgpx=SaveWrap('pkfit.gpx'))\n",
    "hist = gpx.add_powder_histogram(DataPathWrap('Example01/Gonio_BB-HD-Cu_Gallipix3d[30-120]_New_Control_proper_power.xrdml'),\n",
    "                                DataPathWrap('Example01/TestCalibration.instprm'), # need to get a \n",
    "                                fmthint='Panalytical xrdml (xml)', databank=1, instbank=1)"
   ]
  },
  {
   "cell_type": "code",
   "execution_count": null,
   "metadata": {},
   "outputs": [],
   "source": [
    "# Exploring the data structure.\n",
    "# For more details see the developers documentation \n",
    "# https://gsas-ii.readthedocs.io/en/latest/index.html"
   ]
  },
  {
   "cell_type": "code",
   "execution_count": null,
   "metadata": {},
   "outputs": [],
   "source": [
    "#Alternate Data "
   ]
  },
  {
   "cell_type": "code",
   "execution_count": 13,
   "metadata": {
    "scrolled": false
   },
   "outputs": [
    {
     "name": "stdout",
     "output_type": "stream",
     "text": [
      "/Users/creuzige/Documents/NIST_Research/GitHub/AusteniteCalculator/ExampleData/Example01/Gonio_BB-HD-Cu_Gallipix3d[30-120]_New_Control_proper_power.xrdml block # 1 read by Reader Panalytical xrdml (xml)\n",
      "Instrument parameters read: /Users/creuzige/Documents/NIST_Research/GitHub/AusteniteCalculator/ExampleData/Example01/TestCalibration.instprm (G2 fmt) bank 1\n"
     ]
    }
   ],
   "source": [
    "ScriptDirectory=os.getcwd()\n",
    "GitLabDirectory=os.path.dirname(os.getcwd())\n",
    "ExampleDataDirectory=os.path.join(GitLabDirectory,\"ExampleData/Example01\")\n",
    "SaveDataDirectory=os.path.join(GitLabDirectory,\"SaveData\")\n",
    "\n",
    "datadir = os.path.expanduser(ExampleDataDirectory)\n",
    "SaveDir= os.path.expanduser(SaveDataDirectory)\n",
    "DataPathWrap = lambda fil: os.path.join(datadir,fil)\n",
    "SaveWrap = lambda fil: os.path.join(SaveDir,fil)\n",
    "gpx = G2sc.G2Project(newgpx=SaveWrap('pkfit.gpx'))\n",
    "hist = gpx.add_powder_histogram(DataPathWrap('Gonio_BB-HD-Cu_Gallipix3d[30-120]_New_Control_proper_power.xrdml'),\n",
    "                                DataPathWrap('TestCalibration.instprm'), # need to get a \n",
    "                                fmthint='Panalytical xrdml (xml)', databank=1, instbank=1)"
   ]
  },
  {
   "cell_type": "code",
   "execution_count": null,
   "metadata": {
    "scrolled": true
   },
   "outputs": [],
   "source": [
    "#hist.data['data'][0]['hId']\n",
    "#hist.data['Comments']\n",
    "#hist['data']['hId'].data"
   ]
  },
  {
   "cell_type": "code",
   "execution_count": null,
   "metadata": {
    "scrolled": true
   },
   "outputs": [],
   "source": [
    "#len(hist.data['data']) # 3 objects\n",
    "\n",
    "#hist.data['data'][0] # dict: with some kind of meta-info?\n",
    "#hist.data['data'][1] # np.array: see below\n",
    "#hist.data['data'][2] # string: file name"
   ]
  },
  {
   "cell_type": "markdown",
   "metadata": {},
   "source": [
    "# From: https://gsas-ii.readthedocs.io/en/latest/GSASIIobj.html?highlight=Powder%20Diffraction%20Tree#powder-diffraction-tree-items\n",
    "    \n",
    "    Data \t\t\n",
    "\n",
    "(list) The data consist of a list of 6 np.arrays containing in order:\n",
    "\n",
    "    the x-postions (two-theta in degrees),\n",
    "    the intensity values (Yobs),\n",
    "    the weights for each Yobs value\n",
    "    the computed intensity values (Ycalc)\n",
    "    the background values\n",
    "    Yobs-Ycalc\n"
   ]
  },
  {
   "cell_type": "code",
   "execution_count": 6,
   "metadata": {},
   "outputs": [
    {
     "data": {
      "image/png": "[encoded data removed]",
      "text/plain": [
       "<Figure size 432x288 with 1 Axes>"
      ]
     },
     "metadata": {
      "needs_background": "light"
     },
     "output_type": "display_data"
    }
   ],
   "source": [
    "plt.plot(hist.data['data'][1][0], hist.data['data'][1][1])\n",
    "plt.xlabel(\"2theta\")\n",
    "plt.ylabel(\"intensity\")\n",
    "plt.show()\n"
   ]
  },
  {
   "cell_type": "markdown",
   "metadata": {},
   "source": [
    "## Add phases to the project"
   ]
  },
  {
   "cell_type": "code",
   "execution_count": 7,
   "metadata": {},
   "outputs": [
    {
     "name": "stdout",
     "output_type": "stream",
     "text": [
      "/Users/creuzige/Documents/NIST_Research/GitHub/AusteniteCalculator/ExampleData/Example01/austenite-Duplex.cif read by Reader CIF\n",
      "gpx file saved as /Users/creuzige/Documents/NIST_Research/GitHub/AusteniteCalculator/SaveData/pkfit.gpx\n",
      "/Users/creuzige/Documents/NIST_Research/GitHub/AusteniteCalculator/ExampleData/Example01/ferrite-Duplex.cif read by Reader CIF\n",
      "gpx file saved as /Users/creuzige/Documents/NIST_Research/GitHub/AusteniteCalculator/SaveData/pkfit.gpx\n"
     ]
    }
   ],
   "source": [
    "PhaseAustenite = gpx.add_phase(DataPathWrap(\"Example01/austenite-Duplex.cif\"),\n",
    "         phasename=\"Austenite\",fmthint='CIF')\n",
    "\n",
    "PhaseFerrite = gpx.add_phase(DataPathWrap(\"Example01/ferrite-Duplex.cif\"),\n",
    "         phasename=\"Ferrite\",fmthint='CIF')"
   ]
  },
  {
   "cell_type": "code",
   "execution_count": null,
   "metadata": {},
   "outputs": [],
   "source": [
    "## Guess locations for peaks based on lattice parameter"
   ]
  },
  {
   "cell_type": "code",
   "execution_count": null,
   "metadata": {},
   "outputs": [],
   "source": [
    "# Read the lattice parameter \n",
    "#a0_Austenite=PhaseAustenite.data['General']['Cell'][1]\n",
    "#a0_Ferrite=PhaseFerrite.data['General']['Cell'][1]\n",
    "\n",
    "# Fit values to check if the Peak Extraction has better luck\n",
    "a0_Austenite=3.600\n",
    "a0_Ferrite=2.8762"
   ]
  },
  {
   "cell_type": "code",
   "execution_count": null,
   "metadata": {},
   "outputs": [],
   "source": []
  },
  {
   "cell_type": "code",
   "execution_count": null,
   "metadata": {},
   "outputs": [],
   "source": [
    "# Find the ka1 wavelength\n",
    "# hist.data['Comments']\n",
    "\n",
    "Ka1_wavelength=float([s for s in hist.data['Comments'] if s.startswith('Ka1')][0].split('=')[1])\n",
    "\n",
    "# Hardcode for testing\n",
    "#Ka1_wavelength=2.29092 # Cr wavelength for testing"
   ]
  },
  {
   "cell_type": "code",
   "execution_count": null,
   "metadata": {},
   "outputs": [],
   "source": []
  },
  {
   "cell_type": "markdown",
   "metadata": {},
   "source": [
    "# Calculate locations of peaks from .cif file\n",
    "\n"
   ]
  },
  {
   "cell_type": "markdown",
   "metadata": {},
   "source": [
    "## Bragg diffraction\n",
    "n * lambda=2 * d * sin(theta)"
   ]
  },
  {
   "cell_type": "code",
   "execution_count": null,
   "metadata": {},
   "outputs": [],
   "source": [
    "#hardcoding HKL lists for now, likely better ways to do this later...\n",
    "HKL_BCC=[[1,1,0],[2,0,0],[2,1,1],[2,2,0],[3,1,0],[2,2,2],[3,2,1],[4,1,1]]\n",
    "HKL_FCC=[[1,1,1],[2,0,0],[2,2,0],[3,1,1],[2,2,2],[4,0,0],[3,3,1],[4,2,0],[4,2,2]]"
   ]
  },
  {
   "cell_type": "code",
   "execution_count": null,
   "metadata": {},
   "outputs": [],
   "source": [
    "#for hkl in HKL_BCC:\n",
    "#    d=(a0_Ferrite/ math.sqrt(hkl[0]*hkl[0]+hkl[1]*hkl[1]+hkl[2]*hkl[2]))   \n",
    "    \n",
    "d_BCC=[a0_Ferrite/ math.sqrt(hkl[0]*hkl[0]+hkl[1]*hkl[1]+hkl[2]*hkl[2]) for hkl in HKL_BCC]\n",
    "SinTheta_BCC=[1*Ka1_wavelength/(2*d) for d in d_BCC]\n",
    "\n",
    "d_FCC=[a0_Austenite/ math.sqrt(hkl[0]*hkl[0]+hkl[1]*hkl[1]+hkl[2]*hkl[2]) for hkl in HKL_FCC]\n",
    "SinTheta_FCC=[1*Ka1_wavelength/(2*d) for d in d_FCC]"
   ]
  },
  {
   "cell_type": "code",
   "execution_count": null,
   "metadata": {},
   "outputs": [],
   "source": [
    "d_BCC"
   ]
  },
  {
   "cell_type": "code",
   "execution_count": null,
   "metadata": {},
   "outputs": [],
   "source": [
    "# Create a list of 2Theta values from the dspacing and wavelength. Mark any non-physical values with np.nan\n",
    "TwoTheta_BCC=[np.nan]*len(SinTheta_BCC)\n",
    "for i,value in enumerate(SinTheta_BCC):\n",
    "    #print(value)\n",
    "    try:\n",
    "        TwoTheta_BCC[i]=(2*math.degrees(math.asin(value)))\n",
    "    except:\n",
    "        TwoTheta_BCC[i]=(np.nan)\n",
    "#print(TwoTheta_BCC)\n",
    "#print(HKL_BCC)       \n",
    "        \n",
    "TwoTheta_FCC=[np.nan]*len(SinTheta_FCC)\n",
    "for i,value in enumerate(SinTheta_FCC):\n",
    "    #print(value)\n",
    "    try:\n",
    "        TwoTheta_FCC[i]=(2*math.degrees(math.asin(value)))\n",
    "    except:\n",
    "        TwoTheta_FCC[i]=(np.nan)\n",
    "#print(TwoTheta_FCC)\n",
    "#print(HKL_FCC)\n",
    "\n"
   ]
  },
  {
   "cell_type": "code",
   "execution_count": null,
   "metadata": {},
   "outputs": [],
   "source": [
    "# Create a list of TwoTheta in the data range\n",
    "#print(max(hist.data['data'][1][0]))\n",
    "\n",
    "TwoThetaInRange_BCC=[np.nan if i > max(hist.data['data'][1][0]) else i for i in TwoTheta_BCC]\n",
    "TwoThetaInRange_BCC=[np.nan if i < min(hist.data['data'][1][0]) else i for i in TwoThetaInRange_BCC]\n",
    "\n",
    "TwoThetaInRange_FCC=[np.nan if i > max(hist.data['data'][1][0]) else i for i in TwoTheta_FCC]\n",
    "TwoThetaInRange_FCC=[np.nan if i < min(hist.data['data'][1][0]) else i for i in TwoThetaInRange_FCC]\n",
    "\n",
    "\n",
    "#print(TwoTheta_FCC)\n",
    "#print(TwoThetaInRange_FCC)\n",
    "\n"
   ]
  },
  {
   "cell_type": "code",
   "execution_count": null,
   "metadata": {},
   "outputs": [],
   "source": [
    "PeaksList=[]\n",
    "PeaksList = np.array(TwoThetaInRange_BCC)[~np.isnan(np.array(TwoThetaInRange_BCC))]\n",
    "PeaksList = np.concatenate((PeaksList,\n",
    "                           np.array(TwoThetaInRange_FCC)[~np.isnan(np.array(TwoThetaInRange_FCC))]),\n",
    "                           axis=0)\n",
    "PeaksList=list(PeaksList)\n",
    "# Don't sort, it actually makes keeping track of the different items harder...\n",
    "# PeaksList.sort()"
   ]
  },
  {
   "cell_type": "code",
   "execution_count": null,
   "metadata": {},
   "outputs": [],
   "source": [
    "print(PeaksList)"
   ]
  },
  {
   "cell_type": "code",
   "execution_count": null,
   "metadata": {},
   "outputs": [],
   "source": []
  },
  {
   "cell_type": "code",
   "execution_count": null,
   "metadata": {},
   "outputs": [],
   "source": [
    "#CIF is slightly off, kludge for now...\n",
    "# Likely need to refine, adjust lattice parameters and start over again with peaks with non-negative intensities\n",
    "# Or fix the negative intensities...\n",
    "PeaksList=[x+0.5 for x in PeaksList]"
   ]
  },
  {
   "cell_type": "code",
   "execution_count": null,
   "metadata": {},
   "outputs": [],
   "source": []
  },
  {
   "cell_type": "code",
   "execution_count": null,
   "metadata": {},
   "outputs": [],
   "source": [
    "# reset the peak list in case of errors...\n",
    "hist.Peaks['peaks']=[]"
   ]
  },
  {
   "cell_type": "markdown",
   "metadata": {},
   "source": [
    "## Start Fitting"
   ]
  },
  {
   "cell_type": "code",
   "execution_count": null,
   "metadata": {
    "scrolled": true
   },
   "outputs": [],
   "source": []
  },
  {
   "cell_type": "code",
   "execution_count": null,
   "metadata": {},
   "outputs": [],
   "source": []
  },
  {
   "cell_type": "code",
   "execution_count": null,
   "metadata": {},
   "outputs": [],
   "source": [
    "# Add controls for number of cycles?\n",
    "\n",
    "hist.set_refinements({'Background': {\"no. coeffs\": 5,'type': 'chebyschev-1', 'refine': True}})\n",
    "hist.refine_peaks()"
   ]
  },
  {
   "cell_type": "code",
   "execution_count": null,
   "metadata": {},
   "outputs": [],
   "source": [
    "plt.scatter(hist.data['data'][1][0], hist.data['data'][1][1], label='data', color='0.7')\n",
    "plt.plot(hist.data['data'][1][0], hist.data['data'][1][4], label='background', color='r')\n",
    "plt.plot(hist.data['data'][1][0], hist.data['data'][1][3], label='fit', color='b')\n",
    "plt.xlabel(\"2theta\")\n",
    "plt.ylabel(\"intensity\")\n",
    "plt.legend()\n",
    "plt.show()"
   ]
  },
  {
   "cell_type": "markdown",
   "metadata": {},
   "source": [
    "## Add a few peaks to the list\n",
    "\n",
    "- It seems like the peak positions are slightly off from the .cif file (about 0.4°)\n",
    "- This results in negative intensities for some of the higher peaks\n",
    "- Maybe look for maxima?  Or a series of fit sequences?\n",
    "- Error check negative peaks?"
   ]
  },
  {
   "cell_type": "code",
   "execution_count": null,
   "metadata": {},
   "outputs": [],
   "source": [
    "#for peak in PeaksList[0:5]:\n",
    "for peak in PeaksList:\n",
    "    hist.add_peak(1, ttheta=peak)\n",
    "\n",
    "\n"
   ]
  },
  {
   "cell_type": "code",
   "execution_count": null,
   "metadata": {},
   "outputs": [],
   "source": []
  },
  {
   "cell_type": "code",
   "execution_count": null,
   "metadata": {
    "scrolled": false
   },
   "outputs": [],
   "source": [
    "# Need to use this order, otherwise fitting gets unstable\n",
    "hist.set_peakFlags(area=True)\n",
    "hist.refine_peaks()\n",
    "\n",
    "# Resetting the value doesn't seem to work...\n",
    "# for i,value in enumerate(hist.Peaks['peaks']):\n",
    "#     print(value[2])\n",
    "#     if value[2]<0:\n",
    "#         print(hist.Peaks['peaks'][i][2],-value[2])\n",
    "#         hist.Peaks['peaks'][i][2]=-value[2]\n",
    "        \n",
    "# hist.set_peakFlags(pos=True)\n",
    "# hist.refine_peaks('hold')\n",
    "        \n",
    "hist.set_peakFlags(pos=True,area=True)\n",
    "hist.refine_peaks()\n",
    "hist.set_peakFlags(pos=True,area=True,sig=True)\n",
    "hist.refine_peaks()"
   ]
  },
  {
   "cell_type": "code",
   "execution_count": null,
   "metadata": {
    "scrolled": true
   },
   "outputs": [],
   "source": []
  },
  {
   "cell_type": "code",
   "execution_count": null,
   "metadata": {},
   "outputs": [],
   "source": [
    "#hist.set_peakFlags(area=True,pos=True,sig=True)"
   ]
  },
  {
   "cell_type": "code",
   "execution_count": null,
   "metadata": {},
   "outputs": [],
   "source": []
  },
  {
   "cell_type": "code",
   "execution_count": null,
   "metadata": {},
   "outputs": [],
   "source": [
    "\n",
    "plt.xlim([40,120])\n",
    "\n",
    "plt.scatter(hist.data['data'][1][0], hist.data['data'][1][1], label='data', color='0.7')\n",
    "plt.plot(hist.data['data'][1][0], hist.data['data'][1][4], label='background', color='r')\n",
    "plt.plot(hist.data['data'][1][0], hist.data['data'][1][3], label='fit', color='b')\n",
    "plt.xlabel(\"2theta\")\n",
    "plt.ylabel(\"intensity\")\n",
    "plt.legend()\n",
    "plt.show()"
   ]
  },
  {
   "cell_type": "code",
   "execution_count": null,
   "metadata": {},
   "outputs": [],
   "source": [
    "type(hist)"
   ]
  },
  {
   "cell_type": "code",
   "execution_count": null,
   "metadata": {},
   "outputs": [],
   "source": [
    "hist.Peaks['peaks'][0][0]"
   ]
  },
  {
   "cell_type": "code",
   "execution_count": null,
   "metadata": {},
   "outputs": [],
   "source": [
    "for i,value in enumerate(hist.Peaks['peaks']):\n",
    "    print(value[2])\n",
    "    if value[2]<0:\n",
    "        print(hist.Peaks['peaks'][i][2],-value[2])\n",
    "        hist.Peaks['peaks'][i][2]=-value[2]\n",
    "# hist.PeakList[0][0]=0\n",
    "print(hist.PeakList)"
   ]
  },
  {
   "cell_type": "code",
   "execution_count": null,
   "metadata": {},
   "outputs": [],
   "source": [
    "for i,value in enumerate(hist.PeakList):\n",
    "    print(value[1])\n",
    "    if value[1]<0:\n",
    "        print(hist.PeakList[i][1],-value[1])\n",
    "        hist.PeakList[i][1]=-value[1]\n",
    "hist.PeakList[0][0]=0\n",
    "print(hist.PeakList)"
   ]
  },
  {
   "cell_type": "code",
   "execution_count": null,
   "metadata": {},
   "outputs": [],
   "source": []
  },
  {
   "cell_type": "markdown",
   "metadata": {},
   "source": [
    "### Recreate the lattice parameter a_0 from fit data\n",
    "Added 2021 Apr 01 - AC\n",
    "\n",
    "\n",
    "*We should probably work out data structures before too long*"
   ]
  },
  {
   "cell_type": "code",
   "execution_count": null,
   "metadata": {},
   "outputs": [],
   "source": []
  },
  {
   "cell_type": "code",
   "execution_count": null,
   "metadata": {},
   "outputs": [],
   "source": [
    "#Find the hkls in range (may not be the ones fit, need to check)\n",
    "\n",
    "#TwoThetaInRange_BCC\n",
    "#HKL_BCC\n",
    "\n",
    "#Merged with BCC, then FCC\n",
    "hkl_list=[]\n",
    "for i,row in enumerate(TwoThetaInRange_BCC):\n",
    "    if np.isfinite(row):\n",
    "        hkl_list.append(HKL_BCC[i])\n",
    "for i,row in enumerate(TwoThetaInRange_FCC):\n",
    "    if np.isfinite(row):\n",
    "        hkl_list.append(HKL_FCC[i])\n",
    "        \n",
    "dspace_list=[]\n",
    "for row in hkl_list:\n",
    "    dspace_list.append(math.sqrt(row[0]*row[0]+row[1]*row[1]+row[2]*row[2]))"
   ]
  },
  {
   "cell_type": "code",
   "execution_count": null,
   "metadata": {},
   "outputs": [],
   "source": [
    "#hkl_list\n",
    "dspace_list"
   ]
  },
  {
   "cell_type": "code",
   "execution_count": null,
   "metadata": {},
   "outputs": [],
   "source": [
    "# Read the 2theta position\n",
    "hist.Peaks['peaks']\n",
    "FitPos=[row[0] for row in hist.Peaks['peaks']] # only way to access column in list of lists\n",
    "\n",
    "# Merge to determine the hkl\n",
    "\n",
    "\n",
    "a0_list=[]\n",
    "# probably should check if the lengths are the same\n",
    "if len(FitPos) == len(dspace_list):\n",
    "    for i,row in enumerate(FitPos):\n",
    "        #row/2.0 since row is 2theta...\n",
    "        a0_list.append((Ka1_wavelength*dspace_list[i])/(2*math.sin(math.radians(row/2.0))))\n",
    "        print(row,math.sin(math.radians(row/2.0)),dspace_list[i],a0_list[i])\n",
    "else:\n",
    "    print(\"These are not the same length\")\n",
    "\n",
    "# \n",
    "#n * lambda=2 * d * sin(theta)\n",
    "#Ka1_wavelength\n",
    "\n",
    "#[2*math.sin(math.radians(row))* for row in FitPos]\n",
    "\n",
    "#hist.Peaks['sigDict']"
   ]
  },
  {
   "cell_type": "code",
   "execution_count": null,
   "metadata": {},
   "outputs": [],
   "source": [
    "# Looks like it does things in order, but not verified...\n",
    "pos_keys=[key for key, value in hist.Peaks['sigDict'].items() if 'pos' in key]\n",
    "\n",
    "FitPos_uncert=[]\n",
    "for name in pos_keys:\n",
    "    FitPos_uncert.append(hist.Peaks['sigDict'][name])"
   ]
  },
  {
   "cell_type": "code",
   "execution_count": null,
   "metadata": {},
   "outputs": [],
   "source": [
    "# upper and lower bounds on uncertainties\n",
    "a0_uncert_LB=[]\n",
    "a0_uncert_UB=[]\n",
    "if len(FitPos_uncert) == len(dspace_list):\n",
    "    for i,row in enumerate(FitPos_uncert):\n",
    "        #row/2.0 since row is 2theta...\n",
    "        a0_uncert_UB.append((Ka1_wavelength*dspace_list[i])/(2*math.sin(math.radians((FitPos[i]+row)/2.0))))\n",
    "        a0_uncert_LB.append((Ka1_wavelength*dspace_list[i])/(2*math.sin(math.radians((FitPos[i]-row)/2.0))))\n",
    "        #print(row,math.sin(math.radians(row/2.0)),dspace_list[i],a0_list[i])\n",
    "else:\n",
    "    print(\"These are not the same length\")"
   ]
  },
  {
   "cell_type": "code",
   "execution_count": null,
   "metadata": {},
   "outputs": [],
   "source": [
    "print(a0_uncert_LB)\n",
    "\n",
    "print(a0_list)\n",
    "\n",
    "print(a0_uncert_UB)"
   ]
  },
  {
   "cell_type": "code",
   "execution_count": null,
   "metadata": {},
   "outputs": [],
   "source": [
    "hist.Peaks['sigDict']"
   ]
  },
  {
   "cell_type": "code",
   "execution_count": null,
   "metadata": {},
   "outputs": [],
   "source": [
    "a0_list"
   ]
  },
  {
   "cell_type": "markdown",
   "metadata": {},
   "source": [
    "### Maybe fit entire pattern for lattice parameters, then try peakfitting?\n",
    "- Seems like it works ok in the GUI, but need to allow the phase fraction to be refined (only on one)\n",
    "- Add constraint, (austenite + ferrite  =1) 0:0:scale, 1:0:scale\n",
    "- Need to refine both with the constraint enabled.  \n",
    "- weight fracitons are quite different than the phase fractions (lattice cell dimensions?)\n",
    "- Over estimation of the peak hights at first, then underestimate later\n",
    "- austenite=3.60097, ferrite=2.87564\n",
    "- Tried these parameters, had worse luck fitting...\n",
    "- Maybe use the scale factor from the sample parameters to get the areas close?"
   ]
  },
  {
   "cell_type": "code",
   "execution_count": null,
   "metadata": {},
   "outputs": [],
   "source": []
  },
  {
   "cell_type": "code",
   "execution_count": null,
   "metadata": {},
   "outputs": [],
   "source": []
  },
  {
   "cell_type": "code",
   "execution_count": null,
   "metadata": {},
   "outputs": [],
   "source": []
  },
  {
   "cell_type": "code",
   "execution_count": null,
   "metadata": {},
   "outputs": [],
   "source": [
    "# Not working properly yet..."
   ]
  },
  {
   "cell_type": "code",
   "execution_count": null,
   "metadata": {},
   "outputs": [],
   "source": [
    "# print('peak positions: ',[i[0] for i in hist.PeakList])\n",
    "# for i in range(len(hist.Peaks['peaks'])):\n",
    "#     print('peak',i,'pos=',hist.Peaks['peaks'][i][0],'sig=',hist.Peaks['sigDict']['pos'+str(i)])\n"
   ]
  },
  {
   "cell_type": "code",
   "execution_count": null,
   "metadata": {},
   "outputs": [],
   "source": [
    "# for peak in PeaksList:\n",
    "#     hist.add_peak(1, ttheta=peak)\n",
    "# hist.set_peakFlags(area=True,pos=True,sig=True)\n"
   ]
  },
  {
   "cell_type": "markdown",
   "metadata": {},
   "source": [
    "# pattern simulation, extract intensities from that?\n",
    "https://gsas-ii.readthedocs.io/en/latest/GSASIIscriptable.html#pattern-simulation"
   ]
  },
  {
   "cell_type": "code",
   "execution_count": 14,
   "metadata": {},
   "outputs": [
    {
     "name": "stdout",
     "output_type": "stream",
     "text": [
      "/Users/creuzige/Documents/NIST_Research/GitHub/AusteniteCalculator/ExampleData/Example01/austenite-Duplex.cif read by Reader CIF\n",
      "gpx file saved as /Users/creuzige/Documents/NIST_Research/GitHub/AusteniteCalculator/SaveData/Austenite-sim.gpx\n",
      "Simulating 5000 points from 5.0 to 120.0 degrees 2theta\n",
      "Instrument parameters read: /Users/creuzige/Documents/NIST_Research/GitHub/AusteniteCalculator/ExampleData/Example01/TestCalibration.instprm (G2 fmt) bank 1\n",
      "gpx file saved as /Users/creuzige/Documents/NIST_Research/GitHub/AusteniteCalculator/SaveData/Austenite-sim.gpx\n",
      " Hessian Levenberg-Marquardt SVD refinement on 1 variables:\n",
      "initial chi^2 6795.5 with 5000 obs.\n",
      "Read from file:/Users/creuzige/Documents/NIST_Research/GitHub/AusteniteCalculator/SaveData/Austenite-sim.bak0.gpx\n",
      "Save to file  :/Users/creuzige/Documents/NIST_Research/GitHub/AusteniteCalculator/SaveData/Austenite-sim.gpx\n",
      "GPX file save successful\n",
      " Refinement results are in file: /Users/creuzige/Documents/NIST_Research/GitHub/AusteniteCalculator/SaveData/Austenite-sim.lst\n",
      " ***** Refinement successful *****\n",
      "gpx file saved as /Users/creuzige/Documents/NIST_Research/GitHub/AusteniteCalculator/SaveData/Austenite-sim.gpx\n"
     ]
    }
   ],
   "source": [
    "gpx = G2sc.G2Project(newgpx=SaveWrap('Austenite-sim.gpx')) # create a project    \n",
    "\n",
    "PhaseAustenite = gpx.add_phase(DataPathWrap(\"austenite-Duplex.cif\"),\n",
    "         phasename=\"Austenite\",fmthint='CIF')\n",
    "\n",
    "#PhaseFerrite = gpx.add_phase(DataPathWrap(\"ferrite-Duplex.cif\"),\n",
    "#         phasename=\"Ferrite\",fmthint='CIF')\n",
    "\n",
    "histogram_scale=100.\n",
    "\n",
    "# add a simulated histogram and link it to the previous phase(s)\n",
    "hist1 = gpx.add_simulated_powder_histogram(\"Austenite simulation\",\n",
    "            DataPathWrap('TestCalibration.instprm'),5.,120.,Npoints=5000,\n",
    "            phases=gpx.phases(),scale=histogram_scale)\n",
    "gpx.do_refinements()   # calculate pattern\n",
    "gpx.save()"
   ]
  },
  {
   "cell_type": "code",
   "execution_count": null,
   "metadata": {},
   "outputs": [],
   "source": [
    "plt.xlim([40,120])\n",
    "\n",
    "plt.plot(hist1.data['data'][1][0], hist1.data['data'][1][1])\n",
    "plt.xlabel(\"2theta\")\n",
    "plt.ylabel(\"intensity\")\n",
    "plt.show()\n"
   ]
  },
  {
   "cell_type": "markdown",
   "metadata": {},
   "source": [
    "### Theoretical intensities are included in the Reflection Lists\n",
    "- see line ~817 in GSASIIobs.py for the full description of the reflection lists\n",
    "columns 0,1,2: h,k,l\n",
    "column 5: 2-theta\n",
    "column 9: Calculated structure factor squared (inludes anamolous scattering and thermal parameters?)\n",
    "column 11: Intensity correction (scales, polarization, preferred orientation, absorbtion, extinction)\n",
    "\n",
    "It's not clear where thermal parameters or the unit cell volume come in.\n",
    "Also not clear where "
   ]
  },
  {
   "cell_type": "code",
   "execution_count": 15,
   "metadata": {},
   "outputs": [
    {
     "data": {
      "text/plain": [
       "{'Reflection Lists': {'Austenite': {'RefList': array([[1.00000000e+00, 1.00000000e+00, 1.00000000e+00, 8.00000000e+00,\n",
       "           2.09227696e+00, 4.32018543e+01, 1.82586308e+01, 7.22514369e+00,\n",
       "           4.62975800e+03, 4.63218490e+03, 0.00000000e+00, 5.73217693e+01,\n",
       "           1.00000000e+00, 1.00000000e+00, 1.00000000e+00],\n",
       "          [2.00000000e+00, 0.00000000e+00, 0.00000000e+00, 6.00000000e+00,\n",
       "           1.81196500e+00, 5.03128461e+01, 1.92333413e+01, 8.27422165e+00,\n",
       "           3.94912629e+03, 3.94287522e+03, 0.00000000e+00, 3.16919701e+01,\n",
       "           1.00000000e+00, 1.00000000e+00, 1.00000000e+00],\n",
       "          [2.00000000e+00, 2.00000000e+00, 0.00000000e+00, 1.20000000e+01,\n",
       "           1.28125274e+00, 7.39073982e+01, 2.31778804e+01, 1.23576683e+01,\n",
       "           2.31686985e+03, 2.31291061e+03, 0.00000000e+00, 3.15626715e+01,\n",
       "           1.00000000e+00, 1.00000000e+00, 1.00000000e+00],\n",
       "          [3.00000000e+00, 1.00000000e+00, 1.00000000e+00, 2.40000000e+01,\n",
       "           1.09265601e+00, 8.96483699e+01, 2.68082135e+01, 1.59054134e+01,\n",
       "           1.67961057e+03, 1.67773912e+03, 0.00000000e+00, 5.00768290e+01,\n",
       "           1.00000000e+00, 1.00000000e+00, 1.00000000e+00],\n",
       "          [2.00000000e+00, 2.00000000e+00, 2.00000000e+00, 8.00000000e+00,\n",
       "           1.04613848e+00, 9.48308347e+01, 2.82883124e+01, 1.72992446e+01,\n",
       "           1.53037969e+03, 1.52434750e+03, 0.00000000e+00, 1.60867978e+01,\n",
       "           1.00000000e+00, 1.00000000e+00, 1.00000000e+00],\n",
       "          [4.00000000e+00, 0.00000000e+00, 0.00000000e+00, 6.00000000e+00,\n",
       "           9.05982500e-01, 1.16462937e+02, 3.72330094e+01, 2.51655784e+01,\n",
       "           1.08785851e+03, 1.08571114e+03, 0.00000000e+00, 1.25816686e+01,\n",
       "           1.00000000e+00, 1.00000000e+00, 1.00000000e+00]]),\n",
       "   'Type': 'PXC',\n",
       "   'FF': {'El': ['Fe', 'Cr', 'Mn', 'Ni', 'Si', 'Cu', 'C'],\n",
       "    'FF': array([[18.72796044, 16.93335666, 17.72727158, 20.77788941,  9.02121718,\n",
       "            22.09877239,  3.07063656],\n",
       "           [17.51540512, 15.71725276, 16.54759773, 19.5134577 ,  8.51680184,\n",
       "            20.7484006 ,  2.69509023],\n",
       "           [14.09773075, 12.46283314, 13.27293048, 15.85413152,  7.29639214,\n",
       "            16.81324094,  1.98486989],\n",
       "           [12.42017573, 10.96917287, 11.69537795, 13.99049896,  6.64544049,\n",
       "            14.81268576,  1.77556602],\n",
       "           [11.96780201, 10.57838366, 11.27370363, 13.47944404,  6.45043084,\n",
       "            14.26475612,  1.72949972],\n",
       "           [10.53023641,  9.37419003,  9.94743958, 11.82657463,  5.75211987,\n",
       "            12.49256884,  1.60112444]])},\n",
       "   'Super': False}},\n",
       " 'Limits': [(5.0, 120.0), [5.0, 120.0]],\n",
       " 'data': [{'wtFactor': 1.0,\n",
       "   'Dummy': True,\n",
       "   'ranId': 8051857820586937158,\n",
       "   'Offset': [0.0, 0.0],\n",
       "   'delOffset': 0.0,\n",
       "   'refOffset': -0.0,\n",
       "   'refDelt': 0.0,\n",
       "   'Yminmax': [0.0, 0.0],\n",
       "   'hId': 0,\n",
       "   'wRb': 39.9531901208747,\n",
       "   '0:0:Nref': 6,\n",
       "   'R': 2.0238713347350554,\n",
       "   'wR': 8.767630200703305,\n",
       "   'wRmin': 7.520668778179525,\n",
       "   'sumwYo': 884009.8011574257,\n",
       "   '0:0:Rf': 0.08261248934564092,\n",
       "   'Durbin-Watson': 2.9338820935511234,\n",
       "   '0::Name': 'Austenite',\n",
       "   'Rb': 1.668587081461022,\n",
       "   '0:0:sumInt': 878522.9077232117,\n",
       "   '0:0:Rf^2': 0.14686711273724573,\n",
       "   'Nobs': 5000},\n",
       "  masked_array(\n",
       "    data=[[5.0, 5.023004600920184, 5.046009201840368, 5.069013802760552,\n",
       "           5.092018403680736, 5.11502300460092, 5.1380276055211045,\n",
       "           5.161032206441289, 5.184036807361473, 5.207041408281657,\n",
       "           5.230046009201841, 5.253050610122024, 5.276055211042208,\n",
       "           5.299059811962392, 5.322064412882576, 5.34506901380276,\n",
       "           5.368073614722944, 5.3910782156431285, 5.414082816563313,\n",
       "           5.437087417483497, 5.460092018403681, 5.483096619323865,\n",
       "           5.506101220244049, 5.529105821164233, 5.552110422084417,\n",
       "           5.575115023004601, 5.598119623924785, 5.621124224844969,\n",
       "           5.644128825765153, 5.6671334266853375, 5.690138027605521,\n",
       "           5.713142628525705, 5.736147229445889, 5.759151830366073,\n",
       "           5.782156431286257, 5.805161032206441, 5.828165633126625,\n",
       "           5.851170234046809, 5.874174834966993, 5.897179435887177,\n",
       "           5.9201840368073615, 5.943188637727546, 5.96619323864773,\n",
       "           5.989197839567914, 6.012202440488098, 6.035207041408282,\n",
       "           6.058211642328466, 6.081216243248649, 6.104220844168834,\n",
       "           6.127225445089017, 118.87277455491098, 118.89577915583116,\n",
       "           118.91878375675135, 118.94178835767153, 118.96479295859172,\n",
       "           118.9877975595119, 119.01080216043209, 119.03380676135227,\n",
       "           119.05681136227246, 119.07981596319264, 119.10282056411282,\n",
       "           119.125825165033, 119.1488297659532, 119.17183436687337,\n",
       "           119.19483896779356, 119.21784356871375, 119.24084816963392,\n",
       "           119.26385277055411, 119.2868573714743, 119.30986197239447,\n",
       "           119.33286657331466, 119.35587117423485, 119.37887577515502,\n",
       "           119.40188037607521, 119.4248849769954, 119.44788957791559,\n",
       "           119.47089417883576, 119.49389877975595, 119.51690338067614,\n",
       "           119.53990798159631, 119.5629125825165, 119.58591718343669,\n",
       "           119.60892178435687, 119.63192638527705, 119.65493098619724,\n",
       "           119.67793558711742, 119.7009401880376, 119.7239447889578,\n",
       "           119.74694938987797, 119.76995399079816, 119.79295859171835,\n",
       "           119.81596319263852, 119.83896779355871, 119.8619723944789,\n",
       "           119.88497699539909, 119.90798159631926, 119.93098619723945,\n",
       "           119.95399079815964, 119.97699539907981, 120.0],\n",
       "          [2.0, -2.0, 1.0, 0.0, 1.0, 1.0, 2.0, 0.0, 1.0, 1.0, 1.0, 0.0,\n",
       "           2.0, 0.0, 2.0, 0.0, 1.0, 1.0, 3.0, 0.0, 1.0, 0.0, 3.0, 1.0, 2.0,\n",
       "           -1.0, 1.0, 1.0, 1.0, 0.0, 2.0, 0.0, 1.0, 0.0, 2.0, 1.0, 2.0,\n",
       "           0.0, 1.0, 0.0, 2.0, 0.0, 1.0, 0.0, 2.0, 1.0, 4.0, -1.0, 2.0,\n",
       "           1.0, 6.0, 1.0, 5.0, 1.6687734127044678, 7.515781402587891, 3.0,\n",
       "           9.0, 3.0, 6.0, 2.0, 4.68784236907959, 3.5633156299591064, 5.0,\n",
       "           3.0, 5.210097312927246, 2.0, 4.9903411865234375, 2.0, 14.0, 3.0,\n",
       "           4.0, 3.4896419048309326, 5.397106647491455, 3.0,\n",
       "           6.218945741653442, 1.1331803798675537, 5.049506902694702, 3.0,\n",
       "           4.888248562812805, 2.0, 4.0, 1.0, 4.588149070739746, 1.0,\n",
       "           3.448421001434326, 3.0, 5.0, 1.0, 4.0, 3.0, 5.065629601478577,\n",
       "           3.0, 3.0, 1.0, 3.8373448848724365, 1.0, 4.730385899543762, 2.0,\n",
       "           3.627832531929016, 1.0],\n",
       "          [0.5, 1.0, 1.0, 1.0, 1.0, 1.0, 0.5, 1.0, 1.0, 1.0, 1.0, 1.0, 0.5,\n",
       "           1.0, 0.5, 1.0, 1.0, 1.0, 0.3333333333333333, 1.0, 1.0, 1.0,\n",
       "           0.3333333333333333, 1.0, 0.5, 1.0, 1.0, 1.0, 1.0, 1.0, 0.5, 1.0,\n",
       "           1.0, 1.0, 0.5, 1.0, 0.5, 1.0, 1.0, 1.0, 0.5, 1.0, 1.0, 1.0, 0.5,\n",
       "           1.0, 0.25, 1.0, 0.5, 1.0, 0.16666666666666666, 1.0, 0.2,\n",
       "           0.5992425289059273, 0.1330533641725759, 0.3333333333333333,\n",
       "           0.1111111111111111, 0.3333333333333333, 0.16666666666666666,\n",
       "           0.5, 0.21331775287408816, 0.28063750277756794, 0.2,\n",
       "           0.3333333333333333, 0.19193499467251968, 0.5,\n",
       "           0.20038710032502974, 0.5, 0.07142857142857142,\n",
       "           0.3333333333333333, 0.25, 0.28656235432513477,\n",
       "           0.18528446171520335, 0.3333333333333333, 0.16079895878527606,\n",
       "           0.8824720386677364, 0.19803913912194943, 0.3333333333333333,\n",
       "           0.2045722485569715, 0.5, 0.25, 1.0, 0.21795281377785972, 1.0,\n",
       "           0.28998779429311644, 0.3333333333333333, 0.2, 1.0, 0.25,\n",
       "           0.3333333333333333, 0.19740882746502347, 0.3333333333333333,\n",
       "           0.3333333333333333, 1.0, 0.2605968527723936, 1.0,\n",
       "           0.21139924336753335, 0.5, 0.2756466819233999, 1.0],\n",
       "          [1.0, 1.0, 1.0, 1.0, 1.0, 1.0, 1.0, 1.0, 1.0, 1.0, 1.0, 1.0, 1.0,\n",
       "           1.0, 1.0, 1.0, 1.0, 1.0, 1.0, 1.0, 1.0, 1.0, 1.0, 1.0, 1.0, 1.0,\n",
       "           1.0, 1.0, 1.0, 1.0, 1.0, 1.0, 1.0, 1.0, 1.0, 1.0, 1.0, 1.0, 1.0,\n",
       "           1.0, 1.0, 1.0, 1.0, 1.0, 1.0, 1.0, 1.0, 1.0, 1.0, 1.0,\n",
       "           5.078526973724365, 4.994584083557129, 4.913228631019592,\n",
       "           4.834386706352234, 4.757890701293945, 4.683679580688477,\n",
       "           4.611692190170288, 4.541781425476074, 4.473896503448486,\n",
       "           4.407986164093018, 4.343921184539795, 4.281657814979553,\n",
       "           4.22114360332489, 4.162297487258911, 4.105048656463623,\n",
       "           4.0493632555007935, 3.9951705932617188, 3.942408561706543,\n",
       "           3.8910489082336426, 3.841028928756714, 3.7922937870025635,\n",
       "           3.7448209524154663, 3.6985533237457275, 3.6534441709518433,\n",
       "           3.609472870826721, 3.566590189933777, 3.524753451347351,\n",
       "           3.4839465618133545, 3.4441242814064026, 3.4052497148513794,\n",
       "           3.367308795452118, 3.330261528491974, 3.294074535369873,\n",
       "           3.2587279677391052, 3.224210500717163, 3.1904677152633667,\n",
       "           3.15749853849411, 3.1252697110176086, 3.093755304813385,\n",
       "           3.0629395842552185, 3.0328148007392883, 3.00333571434021,\n",
       "           2.974495828151703, 2.9462886452674866, 2.9186724424362183,\n",
       "           2.891642391681671, 2.865192949771881, 2.8392856121063232,\n",
       "           2.813916265964508, 2.7890809774398804],\n",
       "          [1.0, 1.0, 1.0, 1.0, 1.0, 1.0, 1.0, 1.0, 1.0, 1.0, 1.0, 1.0, 1.0,\n",
       "           1.0, 1.0, 1.0, 1.0, 1.0, 1.0, 1.0, 1.0, 1.0, 1.0, 1.0, 1.0, 1.0,\n",
       "           1.0, 1.0, 1.0, 1.0, 1.0, 1.0, 1.0, 1.0, 1.0, 1.0, 1.0, 1.0, 1.0,\n",
       "           1.0, 1.0, 1.0, 1.0, 1.0, 1.0, 1.0, 1.0, 1.0, 1.0, 1.0, 1.0, 1.0,\n",
       "           1.0, 1.0, 1.0, 1.0, 1.0, 1.0, 1.0, 1.0, 1.0, 1.0, 1.0, 1.0, 1.0,\n",
       "           1.0, 1.0, 1.0, 1.0, 1.0, 1.0, 1.0, 1.0, 1.0, 1.0, 1.0, 1.0, 1.0,\n",
       "           1.0, 1.0, 1.0, 1.0, 1.0, 1.0, 1.0, 1.0, 1.0, 1.0, 1.0, 1.0, 1.0,\n",
       "           1.0, 1.0, 1.0, 1.0, 1.0, 1.0, 1.0, 1.0, 1.0],\n",
       "          [1.0, -3.0, 0.0, -1.0, 0.0, 0.0, 1.0, -1.0, 0.0, 0.0, 0.0, -1.0,\n",
       "           1.0, -1.0, 1.0, -1.0, 0.0, 0.0, 2.0, -1.0, 0.0, -1.0, 2.0, 0.0,\n",
       "           1.0, -2.0, 0.0, 0.0, 0.0, -1.0, 1.0, -1.0, 0.0, -1.0, 1.0, 0.0,\n",
       "           1.0, -1.0, 0.0, -1.0, 1.0, -1.0, 0.0, -1.0, 1.0, 0.0, 3.0, -2.0,\n",
       "           1.0, 0.0, 0.9214730262756348, -3.994584083557129,\n",
       "           0.08677136898040771, -3.165613293647766, 2.7578907012939453,\n",
       "           -1.6836795806884766, 4.388307809829712, -1.5417814254760742,\n",
       "           1.5261034965515137, -2.4079861640930176, 0.3439211845397949,\n",
       "           -0.7183421850204468, 0.7788563966751099, -1.1622974872589111,\n",
       "           1.105048656463623, -2.0493632555007935, 0.9951705932617188,\n",
       "           -1.942408561706543, 10.108951091766357, -0.8410289287567139,\n",
       "           0.20770621299743652, -0.2551790475845337, 1.6985533237457275,\n",
       "           -0.6534441709518433, 2.609472870826721, -2.433409810066223,\n",
       "           1.524753451347351, -0.4839465618133545, 1.4441242814064026,\n",
       "           -1.4052497148513794, 0.6326912045478821, -2.330261528491974,\n",
       "           1.294074535369873, -2.2587279677391052, 0.22421050071716309,\n",
       "           -0.1904677152633667, 1.84250146150589, -2.1252697110176086,\n",
       "           0.906244695186615, -0.0629395842552185, 2.0328148007392883,\n",
       "           -0.003335714340209961, 0.02550417184829712, -1.9462886452674866,\n",
       "           0.9186724424362183, -1.8916423916816711, 1.865192949771881,\n",
       "           -0.8392856121063232, 0.8139162659645081, -1.7890809774398804]],\n",
       "    mask=[[False, False, False, ..., False, False, False],\n",
       "          [False, False, False, ..., False, False, False],\n",
       "          [False, False, False, ..., False, False, False],\n",
       "          [False, False, False, ..., False, False, False],\n",
       "          [False, False, False, ..., False, False, False],\n",
       "          [False, False, False, ..., False, False, False]],\n",
       "    fill_value=1e+20),\n",
       "  'PWDR Austenite simulation'],\n",
       " 'Index Peak List': [[], []],\n",
       " 'Comments': ['This is a dummy dataset for powder pattern simulation'],\n",
       " 'Unit Cells List': [],\n",
       " 'Sample Parameters': {'InstrName': '',\n",
       "  'ranId': 8051857820586937158,\n",
       "  'Scale': [100.0, True],\n",
       "  'Type': 'Bragg-Brentano',\n",
       "  'Absorption': [0.0, False],\n",
       "  'DisplaceX': [0.0, False],\n",
       "  'DisplaceY': [0.0, False],\n",
       "  'Temperature': 300.0,\n",
       "  'Pressure': 0.1,\n",
       "  'Time': 0.0,\n",
       "  'FreePrm1': 0.0,\n",
       "  'FreePrm2': 0.0,\n",
       "  'FreePrm3': 0.0,\n",
       "  'Gonio. radius': 200.0,\n",
       "  'Omega': 0.0,\n",
       "  'Chi': 0.0,\n",
       "  'Phi': 0.0,\n",
       "  'Azimuth': 0.0,\n",
       "  'Materials': [{'Name': 'vacuum', 'VolFrac': 1.0},\n",
       "   {'Name': 'vacuum', 'VolFrac': 0.0}],\n",
       "  'Thick': 1.0,\n",
       "  'Contrast': [0.0, 0.0],\n",
       "  'Trans': 1.0,\n",
       "  'SlitLen': 0.0,\n",
       "  'Shift': [0.0, False],\n",
       "  'Transparency': [0.0, False],\n",
       "  'SurfRoughA': [0.0, False],\n",
       "  'SurfRoughB': [0.0, False]},\n",
       " 'Peak List': {'peaks': [], 'sigDict': {}},\n",
       " 'Background': [['chebyschev-1', False, 3, 1.0, 0.0, 0.0],\n",
       "  {'nDebye': 0,\n",
       "   'debyeTerms': [],\n",
       "   'nPeaks': 0,\n",
       "   'peaksList': [],\n",
       "   'background PWDR': ['', 1.0, False]}],\n",
       " 'Instrument Parameters': [{'Type': ['PXC', 'PXC', False],\n",
       "   'Bank': [1.0, 1.0, False],\n",
       "   'Lam1': [1.5405, 1.5405, False],\n",
       "   'Lam2': [1.5443, 1.5443, False],\n",
       "   'Zero': [0.0, 0.0, False],\n",
       "   'Polariz.': [0.7, 0.7, False],\n",
       "   'Azimuth': [0.0, 0.0, False],\n",
       "   'I(L2)/I(L1)': [0.5, 0.5, False],\n",
       "   'U': [2.0432141532813843, 2.0432141532813843, False],\n",
       "   'V': [11.458800039208487, 11.458800039208487, False],\n",
       "   'W': [13.401233944613113, 13.401233944613113, False],\n",
       "   'X': [0.8467938094652971, 0.8467938094652971, False],\n",
       "   'Y': [7.820418834830757, 7.820418834830757, False],\n",
       "   'Z': [0.0, 0.0, False],\n",
       "   'SH/L': [0.002, 0.002, False],\n",
       "   'Source': ['?', '?', False]},\n",
       "  {}]}"
      ]
     },
     "execution_count": 15,
     "metadata": {},
     "output_type": "execute_result"
    }
   ],
   "source": [
    "hist1.data"
   ]
  },
  {
   "cell_type": "code",
   "execution_count": 42,
   "metadata": {},
   "outputs": [
    {
     "data": {
      "text/plain": [
       "array([265525.03448949, 124957.4834746 ,  73001.6377495 ,  84015.85508741,\n",
       "        24521.87000703,  13660.05767411])"
      ]
     },
     "execution_count": 42,
     "metadata": {},
     "output_type": "execute_result"
    }
   ],
   "source": [
    "hist1.data['Reflection Lists']['Austenite']['RefList'][:,9]*hist1.data['Reflection Lists']['Austenite']['RefList'][:,11]"
   ]
  },
  {
   "cell_type": "code",
   "execution_count": 45,
   "metadata": {},
   "outputs": [
    {
     "data": {
      "text/plain": [
       "array([57.32176932, 31.69197005, 31.56267145, 50.07682902, 16.08679781,\n",
       "       12.58166857])"
      ]
     },
     "execution_count": 45,
     "metadata": {},
     "output_type": "execute_result"
    }
   ],
   "source": [
    "hist1.data['Reflection Lists']['Austenite']['RefList'][:,11]"
   ]
  },
  {
   "cell_type": "markdown",
   "metadata": {},
   "source": [
    "#### Array of the strucutre factors and intensity corrections (theoretical intensities?) for this material"
   ]
  },
  {
   "cell_type": "code",
   "execution_count": null,
   "metadata": {},
   "outputs": [],
   "source": [
    "hist1.data['Reflection Lists']['Austenite']['RefList'][:,9] * hist1.data['Reflection Lists']['Austenite']['RefList'][:,11] / histogram_scale"
   ]
  },
  {
   "cell_type": "code",
   "execution_count": null,
   "metadata": {},
   "outputs": [],
   "source": [
    "hist1.data['Reflection Lists']"
   ]
  },
  {
   "cell_type": "code",
   "execution_count": null,
   "metadata": {},
   "outputs": [],
   "source": [
    "PhaseAustenite"
   ]
  },
  {
   "cell_type": "code",
   "execution_count": null,
   "metadata": {},
   "outputs": [],
   "source": []
  },
  {
   "cell_type": "code",
   "execution_count": null,
   "metadata": {},
   "outputs": [],
   "source": [
    "gpx = G2sc.G2Project(newgpx=SaveWrap('Ferrite-sim.gpx')) # create a project    \n",
    "\n",
    "PhaseFerrite = gpx.add_phase(DataPathWrap(\"ferrite-Duplex.cif\"),\n",
    "         phasename=\"Ferrite\",fmthint='CIF')\n",
    "\n",
    "#PhaseFerrite = gpx.add_phase(DataPathWrap(\"ferrite-Duplex.cif\"),\n",
    "#         phasename=\"Ferrite\",fmthint='CIF')\n",
    "\n",
    "# add a simulated histogram and link it to the previous phase(s)\n",
    "hist2 = gpx.add_simulated_powder_histogram(\"Ferrite simulation\",\n",
    "            DataPathWrap('TestCalibration.instprm'),5.,120.,Npoints=1000,\n",
    "            phases=gpx.phases(),scale=500000.)\n",
    "gpx.do_refinements()   # calculate pattern\n",
    "gpx.save()"
   ]
  },
  {
   "cell_type": "code",
   "execution_count": null,
   "metadata": {},
   "outputs": [],
   "source": []
  },
  {
   "cell_type": "markdown",
   "metadata": {},
   "source": [
    "## Used the GUI to investigate this data a bit more.  \n",
    "- Peakfits like I did above seem to work ok.  \n",
    "- Values of integrated intensity are closest to the I100 column of the reflection lists\n",
    "- Intensities and F values between this and the magic spreadsheet don't agree\n",
    "- Compositions are slightly different. Only wt% used in magic spreadsheet."
   ]
  },
  {
   "cell_type": "code",
   "execution_count": null,
   "metadata": {},
   "outputs": [],
   "source": []
  },
  {
   "cell_type": "code",
   "execution_count": null,
   "metadata": {},
   "outputs": [],
   "source": []
  },
  {
   "cell_type": "code",
   "execution_count": null,
   "metadata": {},
   "outputs": [],
   "source": [
    "### Have not edited below this for austenite calculator"
   ]
  },
  {
   "cell_type": "code",
   "execution_count": null,
   "metadata": {},
   "outputs": [],
   "source": []
  },
  {
   "cell_type": "code",
   "execution_count": null,
   "metadata": {},
   "outputs": [],
   "source": [
    "dlist=[2.0923, 2.0923-0.05, 2.0923+0.05]\n",
    "TOFlist=[]\n",
    "for i in dlist:\n",
    "    print(TOF_calc(i,16324.50,6.86,0.00))\n",
    "    TOFlist.append(TOF_calc(i,16324.50,6.86,0.00))"
   ]
  },
  {
   "cell_type": "code",
   "execution_count": null,
   "metadata": {},
   "outputs": [],
   "source": []
  },
  {
   "cell_type": "code",
   "execution_count": null,
   "metadata": {
    "scrolled": true
   },
   "outputs": [],
   "source": [
    "\n",
    "\n",
    "plt.xlim(TOFlist[1],TOFlist[2])\n",
    "plt.plot(hist.data['data'][1][0], hist.data['data'][1][1])\n",
    "plt.show()"
   ]
  },
  {
   "cell_type": "code",
   "execution_count": null,
   "metadata": {},
   "outputs": [],
   "source": []
  },
  {
   "cell_type": "code",
   "execution_count": null,
   "metadata": {},
   "outputs": [],
   "source": [
    "def OutputData(hist, append, Tick, LowLimit, HighLimit):\n",
    "    # plot fit and difference\n",
    "    plt.figure(figsize=[10,8])\n",
    "    plt.scatter(hist.data['data'][1][0], hist.data['data'][1][1],color='k',label='Data')\n",
    "    plt.plot(hist.data['data'][1][0], hist.data['data'][1][3],color='b',label='Computed Intensity')\n",
    "    plt.plot(hist.data['data'][1][0], hist.data['data'][1][5],'-o',color='g',label='Difference')\n",
    "    # vertical line for place of intial guess\n",
    "    plt.vlines(Tick,0,plt.gca().get_ylim()[0]*0.5)\n",
    "    # horizontal line to benchmark difference plot\n",
    "    plt.hlines(0,plt.gca().get_xlim()[0],plt.gca().get_xlim()[1],'0.7')\n",
    "    plt.xlim(LowLimit, HighLimit)\n",
    "    plt.legend()\n",
    "    # option to view on screen\n",
    "    #plt.show()\n",
    "    # option to save the plot\n",
    "    plt.savefig(\"GSASPeakFit-\"+append+\".png\", dpi=300)\n",
    "\n",
    "    keys = hist.Peaks['sigDict'].keys()\n",
    "    #print(keys)\n",
    "    with open(\"GSASPeakFit-\"+append+\".csv\",'a') as fd:\n",
    "        wr=csv.writer(fd)\n",
    "        dwr=csv.DictWriter(fd, keys)\n",
    "\n",
    "        wr.writerow(['# TOF position (pos)', 'Area (int)','Alpha (alp)','Beta (bet)','Sigma (sig)','Gamma (gam)'])\n",
    "        wr.writerow(['# Peak Parameter List'])\n",
    "        wr.writerow(['# Peak Parameter Flags'])\n",
    "        wr.writerow(hist.Peaks['peaks'][0][0::2])\n",
    "        wr.writerow(hist.Peaks['peaks'][0][1::2])\n",
    "        wr.writerow([\"########################\"])\n",
    "        wr.writerow(['# Background Values'])\n",
    "        wr.writerow(hist['Background'][0][3:])\n",
    "        wr.writerow([\"########################\"])\n",
    "        wr.writerow(['# SigDict Keys'])\n",
    "        wr.writerow(['# SigDict Values'])\n",
    "        dwr.writeheader()\n",
    "        dwr.writerows([hist.Peaks['sigDict']])\n",
    "        wr.writerow([\"########################\"])\n",
    "        wr.writerow(['# Covariance Matrix'])\n",
    "        wr.writerows(np.array(hist['Peak Fit Result'][1]))\n",
    "        wr.writerow([\"########################\"])        \n",
    "        wr.writerow(['# Correlation Matrix'])\n",
    "        wr.writerows(np.corrcoef(hist['Peak Fit Result'][1]))\n",
    "        wr.writerow([\"########################\"])        \n",
    "        wr.writerow(['# Reduced ChiSq (GOF)'])\n",
    "        wr.writerow([hist.data['Peak Fit Rvals']['GOF']])\n",
    "        wr.writerow([\"########################\"])   \n",
    "        wr.writerow(['# Dspacing (1 term) -/+ (3 terms)'])\n",
    "        try:\n",
    "            d=Dspace_calc(hist.Peaks['peaks'][0][0],16324.50,6.86,0.00)\n",
    "            d_minus=Dspace_calc(hist.Peaks['peaks'][0][0]-hist.Peaks['sigDict']['pos0'],16324.50,6.86,0.00)\n",
    "            d_plus=Dspace_calc(hist.Peaks['peaks'][0][0]+hist.Peaks['sigDict']['pos0'],16324.50,6.86,0.00)\n",
    "            wr.writerow([d,d_minus,d_plus])\n",
    "            wr.writerow([d,d-d_minus,d_plus-d])\n",
    "        except:\n",
    "            wr.writerow([Dspace_calc(hist.Peaks['peaks'][0][0],16324.50,6.86,0.00)])             \n",
    "    fd.close()"
   ]
  },
  {
   "cell_type": "code",
   "execution_count": null,
   "metadata": {},
   "outputs": [],
   "source": [
    "for i in range(len(hist.Peaks['peaks'])):\n",
    "    print(i)"
   ]
  },
  {
   "cell_type": "code",
   "execution_count": null,
   "metadata": {},
   "outputs": [],
   "source": [
    "hist['Background'][0][3:]"
   ]
  },
  {
   "cell_type": "code",
   "execution_count": null,
   "metadata": {},
   "outputs": [],
   "source": [
    "hist.Peaks['peaks'][0][0::2]"
   ]
  },
  {
   "cell_type": "code",
   "execution_count": null,
   "metadata": {},
   "outputs": [],
   "source": [
    "hist.Peaks['sigDict']"
   ]
  },
  {
   "cell_type": "code",
   "execution_count": null,
   "metadata": {},
   "outputs": [],
   "source": [
    "#OutputData(hist, \"\", TOFlist[0],TOFlist[1],TOFlist[2])\n",
    "# Doesn't work well prior to fitting"
   ]
  },
  {
   "cell_type": "code",
   "execution_count": null,
   "metadata": {},
   "outputs": [],
   "source": []
  },
  {
   "cell_type": "markdown",
   "metadata": {},
   "source": [
    "# Sequence 1, following Rawplot method"
   ]
  },
  {
   "cell_type": "code",
   "execution_count": null,
   "metadata": {},
   "outputs": [],
   "source": []
  },
  {
   "cell_type": "code",
   "execution_count": null,
   "metadata": {},
   "outputs": [],
   "source": [
    "# Define peaks to fit\n",
    "#Limit is between the 422 and 333 peaks\n",
    "\n",
    "hist.set_refinements({'Limits': [TOFlist[1],TOFlist[2]],  \n",
    "      'Background': {\"no. coeffs\": 2,'type': 'chebyschev-1', 'refine': True}\n",
    "                     })\n",
    "# TOF data isn't listed right now.\n",
    "peak1 = hist.add_peak(1, dspace=2.0923)\n",
    "\n",
    "\n"
   ]
  },
  {
   "cell_type": "code",
   "execution_count": null,
   "metadata": {
    "scrolled": false
   },
   "outputs": [],
   "source": [
    "# Following Rawplot method (seq1)\n",
    "\n",
    "#area alone doesn't work well, since there is no positions\n",
    "hist.set_peakFlags(area=True)\n",
    "hist.refine_peaks()\n",
    "OutputData(hist, \"Seq1-Step1-Area\",TOFlist[0],TOFlist[1],TOFlist[2])\n",
    "\n",
    "#\n",
    "hist.set_peakFlags(area=0,pos=True)\n",
    "hist.refine_peaks()\n",
    "OutputData(hist, \"Seq1-Step2-Pos\",TOFlist[0],TOFlist[1],TOFlist[2])\n",
    "\n",
    "hist.set_peakFlags(area=True,pos=True)\n",
    "hist.refine_peaks()\n",
    "OutputData(hist, \"Seq1-Step3-Pos-Area\",TOFlist[0],TOFlist[1],TOFlist[2])\n",
    "\n",
    "#These don't change sigma and gamma, but they do change alpha and beta...\n",
    "\n",
    "hist.set_peakFlags(area=True, pos=0, sig=True)\n",
    "hist.refine_peaks()\n",
    "OutputData(hist, \"Seq1-Step4-Area-Sig\",TOFlist[0],TOFlist[1],TOFlist[2])\n",
    "\n",
    "#hist.set_peakFlags(area=True, pos=True, gam=True)\n",
    "#hist.refine_peaks()\n",
    "\n",
    "hist.set_peakFlags(area=0, pos=0, sig=0, gam=True)\n",
    "hist.refine_peaks()\n",
    "OutputData(hist, \"Seq1-Step5-Gam\",TOFlist[0],TOFlist[1],TOFlist[2])\n",
    "\n",
    "hist.set_peakFlags(area=True, pos=True, sig=True, gam=0)\n",
    "hist.refine_peaks()\n",
    "OutputData(hist, \"Seq1-Step6-Area-Pos-Sig\",TOFlist[0],TOFlist[1],TOFlist[2])\n",
    "\n",
    "\n",
    "\n",
    "# hist.set_peakFlags(area=True, pos=True,alp=True,bet=True, sig=True, gam=True)\n",
    "# hist.refine_peaks()\n",
    "# OutputData(hist, \"Seq-Area-Pos-Sig-Gam-Alp-Bet\",TOFlist[0],TOFlist[1],TOFlist[2])\n"
   ]
  },
  {
   "cell_type": "code",
   "execution_count": null,
   "metadata": {},
   "outputs": [],
   "source": []
  },
  {
   "cell_type": "markdown",
   "metadata": {},
   "source": [
    "# Sequence 2 (Single background; alpha and beta refined, not gamma)"
   ]
  },
  {
   "cell_type": "code",
   "execution_count": null,
   "metadata": {},
   "outputs": [],
   "source": []
  },
  {
   "cell_type": "code",
   "execution_count": null,
   "metadata": {},
   "outputs": [],
   "source": [
    "# Define peaks to fit\n",
    "#Limit is between the 422 and 333 peaks\n",
    "\n",
    "hist.set_refinements({'Limits': [TOFlist[1],TOFlist[2]],  \n",
    "      'Background': {\"no. coeffs\": 1,'type': 'chebyschev-1', 'refine': True}\n",
    "                     })\n",
    "# TOF data isn't listed right now.\n",
    "peak1 = hist.add_peak(1, dspace=2.0923)\n",
    "\n",
    "\n"
   ]
  },
  {
   "cell_type": "code",
   "execution_count": null,
   "metadata": {
    "scrolled": false
   },
   "outputs": [],
   "source": [
    "# Following Rawplot method (seq2)\n",
    "\n",
    "#area alone doesn't work well, since there is no positions\n",
    "hist.set_peakFlags(area=True)\n",
    "hist.refine_peaks()\n",
    "OutputData(hist, \"Seq2-Step1-Area\",TOFlist[0],TOFlist[1],TOFlist[2])\n",
    "\n",
    "#\n",
    "hist.set_peakFlags(area=0,pos=True)\n",
    "hist.refine_peaks()\n",
    "OutputData(hist, \"Seq2-Step2-Pos\",TOFlist[0],TOFlist[1],TOFlist[2])\n",
    "\n",
    "hist.set_peakFlags(area=True,pos=True)\n",
    "hist.refine_peaks()\n",
    "OutputData(hist, \"Seq2-Step3-Pos-Area\",TOFlist[0],TOFlist[1],TOFlist[2])\n",
    "\n",
    "#These don't change sigma and gamma, but they do change alpha and beta...\n",
    "\n",
    "hist.set_peakFlags(area=True, pos=0, sig=True)\n",
    "hist.refine_peaks()\n",
    "OutputData(hist, \"Seq2-Step4-Area-Sig\",TOFlist[0],TOFlist[1],TOFlist[2])\n",
    "\n",
    "#hist.set_peakFlags(area=True, pos=True, gam=True)\n",
    "#hist.refine_peaks()\n",
    "\n",
    "hist.set_peakFlags(area=0, pos=0, sig=0, alp=True)\n",
    "hist.refine_peaks()\n",
    "OutputData(hist, \"Seq2-Step5-Alp\",TOFlist[0],TOFlist[1],TOFlist[2])\n",
    "\n",
    "hist.set_peakFlags(alp=0, bet=True)\n",
    "hist.refine_peaks()\n",
    "OutputData(hist, \"Seq2-Step6-Bet\",TOFlist[0],TOFlist[1],TOFlist[2])\n",
    "\n",
    "hist.set_peakFlags(area=True, pos=True, sig=True, bet=0)\n",
    "hist.refine_peaks()\n",
    "OutputData(hist, \"Seq2-Step7-Area-Pos-Sig\",TOFlist[0],TOFlist[1],TOFlist[2])\n",
    "\n",
    "\n",
    "\n",
    "# hist.set_peakFlags(area=True, pos=True,alp=True,bet=True, sig=True, gam=True)\n",
    "# hist.refine_peaks()\n",
    "# OutputData(hist, \"Seq-Area-Pos-Sig-Gam-Alp-Bet\",TOFlist[0],TOFlist[1],TOFlist[2])\n"
   ]
  },
  {
   "cell_type": "code",
   "execution_count": null,
   "metadata": {},
   "outputs": [],
   "source": []
  },
  {
   "cell_type": "code",
   "execution_count": null,
   "metadata": {},
   "outputs": [],
   "source": [
    "gpx.get_Covariance(['0:0:Back;0','0:0:Back;1','0:0:pos0','0:0:int0','sig0'])"
   ]
  },
  {
   "cell_type": "code",
   "execution_count": null,
   "metadata": {},
   "outputs": [],
   "source": [
    "hist.keys()"
   ]
  },
  {
   "cell_type": "code",
   "execution_count": null,
   "metadata": {},
   "outputs": [],
   "source": [
    "hist['Background']"
   ]
  },
  {
   "cell_type": "code",
   "execution_count": null,
   "metadata": {},
   "outputs": [],
   "source": [
    "hist['Peak Fit Result'][1]"
   ]
  },
  {
   "cell_type": "code",
   "execution_count": null,
   "metadata": {},
   "outputs": [],
   "source": [
    "np.corrcoef(hist['Peak Fit Result'][1])"
   ]
  },
  {
   "cell_type": "markdown",
   "metadata": {},
   "source": [
    "# Nothing run below this"
   ]
  },
  {
   "cell_type": "code",
   "execution_count": null,
   "metadata": {},
   "outputs": [],
   "source": []
  },
  {
   "cell_type": "code",
   "execution_count": null,
   "metadata": {},
   "outputs": [],
   "source": []
  },
  {
   "cell_type": "code",
   "execution_count": null,
   "metadata": {},
   "outputs": [],
   "source": []
  },
  {
   "cell_type": "code",
   "execution_count": null,
   "metadata": {},
   "outputs": [],
   "source": [
    "hist.Peaks['sigDict']"
   ]
  },
  {
   "cell_type": "code",
   "execution_count": null,
   "metadata": {
    "scrolled": false
   },
   "outputs": [],
   "source": [
    "hist.data"
   ]
  },
  {
   "cell_type": "code",
   "execution_count": null,
   "metadata": {},
   "outputs": [],
   "source": [
    "if 'C' in hist.data['Instrument Parameters'][0]['Type'][0]:\n",
    "    print(\"hi\")\n",
    "else:\n",
    "    print(\"low\")"
   ]
  },
  {
   "cell_type": "code",
   "execution_count": null,
   "metadata": {},
   "outputs": [],
   "source": [
    "hist.data['Peak Fit Rvals']['GOF']"
   ]
  },
  {
   "cell_type": "code",
   "execution_count": null,
   "metadata": {},
   "outputs": [],
   "source": []
  },
  {
   "cell_type": "code",
   "execution_count": null,
   "metadata": {},
   "outputs": [],
   "source": []
  },
  {
   "cell_type": "code",
   "execution_count": null,
   "metadata": {},
   "outputs": [],
   "source": []
  },
  {
   "cell_type": "code",
   "execution_count": null,
   "metadata": {},
   "outputs": [],
   "source": []
  },
  {
   "cell_type": "code",
   "execution_count": null,
   "metadata": {},
   "outputs": [],
   "source": [
    "hist.set_peakFlags(area=True, pos=True, sig=True)\n",
    "hist.refine_peaks()\n",
    "hist.set_peakFlags(area=True, pos=True, gam=True)\n",
    "hist.refine_peaks()\n",
    "hist.set_peakFlags(area=True, pos=True, sig=True, gam=True)\n",
    "hist.refine_peaks()"
   ]
  },
  {
   "cell_type": "code",
   "execution_count": null,
   "metadata": {},
   "outputs": [],
   "source": [
    "print('peak positions: ',[i[0] for i in hist.PeakList])\n",
    "for i in range(len(hist.Peaks['peaks'])):\n",
    "    print('peak',i,'pos=',hist.Peaks['peaks'][i][0],'sig=',hist.Peaks['sigDict']['pos'+str(i)])\n"
   ]
  },
  {
   "cell_type": "code",
   "execution_count": null,
   "metadata": {},
   "outputs": [],
   "source": [
    "hist.Peaks['sigDict']"
   ]
  },
  {
   "cell_type": "code",
   "execution_count": null,
   "metadata": {},
   "outputs": [],
   "source": []
  },
  {
   "cell_type": "code",
   "execution_count": null,
   "metadata": {},
   "outputs": [],
   "source": [
    "# fit peaks\n",
    "plt.plot(hist.data['data'][1][0], hist.data['data'][1][3],label='Computed Intensity')\n",
    "plt.xlim(11752.,40000.)\n",
    "plt.show()"
   ]
  },
  {
   "cell_type": "code",
   "execution_count": null,
   "metadata": {},
   "outputs": [],
   "source": [
    "# fit difference\n",
    "plt.figure(figsize=[10,8])\n",
    "plt.plot(hist.data['data'][1][0], hist.data['data'][1][1],color='k',label='Data')\n",
    "plt.plot(hist.data['data'][1][0], hist.data['data'][1][3],color='b',label='Computed Intensity')\n",
    "plt.plot(hist.data['data'][1][0], hist.data['data'][1][5],color='g',label='Difference')\n",
    "plt.xlim(11752.,40000.)\n",
    "plt.legend()\n",
    "plt.show()"
   ]
  },
  {
   "cell_type": "code",
   "execution_count": null,
   "metadata": {},
   "outputs": [],
   "source": [
    "for i in range(len(hist.Peaks['peaks'])):\n",
    "    print('peak',i)\n",
    "    print('TOF pos=',hist.Peaks['peaks'][i][0],'sig=',hist.Peaks['sigDict']['pos'+str(i)])\n",
    "    print('Dspace pos=', Dspace_calc(hist.Peaks['peaks'][i][0],16324.50,6.86,0.00),\n",
    "          'sig (pos)=',Dspace_calc(hist.Peaks['peaks'][i][0]+hist.Peaks['sigDict']['pos'+str(i)],16324.50,6.86,0.00)-\n",
    "          Dspace_calc(hist.Peaks['peaks'][i][0],16324.50,6.86,0.00),\n",
    "          'sig (neg)=',Dspace_calc(hist.Peaks['peaks'][i][0],16324.50,6.86,0.00)-\n",
    "          Dspace_calc(hist.Peaks['peaks'][i][0]-hist.Peaks['sigDict']['pos'+str(i)],16324.50,6.86,0.00))\n",
    "    \n",
    "    "
   ]
  },
  {
   "cell_type": "code",
   "execution_count": null,
   "metadata": {},
   "outputs": [],
   "source": [
    "print(hist.Peaks)"
   ]
  },
  {
   "cell_type": "markdown",
   "metadata": {},
   "source": [
    "## From GSASIIscriptable.py, lines 4007\n",
    "\n",
    "        :returns: dict with two elements where item\n",
    "          'peaks' is a list of peaks where each element is \n",
    "          [pos,pos-ref,area,area-ref,sig,sig-ref,gam,gam-ref], \n",
    "          where the -ref items are refinement flags and item\n",
    "          'sigDict' is a dict with possible items 'Back;#', \n",
    "          'pos#', 'int#', 'sig#', 'gam#'\n",
    "          \n",
    "Fitting output lists:pos       esd       int       esd      alp     esd     bet     esd      sig       esd       gam       esd      bins\n",
    "\n",
    "The fitting output values correspond to the column values"
   ]
  },
  {
   "cell_type": "code",
   "execution_count": null,
   "metadata": {},
   "outputs": [],
   "source": [
    "#print(hist.Peaks)\n",
    "HistDF=pd.DataFrame(hist.Peaks['peaks'], columns=['pos','pos-ref','area','area-ref','alph',\n",
    "                                                  'alph-ref','bet','bet-ref','Sig','Sig-ref',\n",
    "                                                  'Gam','gam-ref'])\n",
    "print(HistDF)"
   ]
  },
  {
   "cell_type": "code",
   "execution_count": null,
   "metadata": {},
   "outputs": [],
   "source": [
    "print(hist.Peaks['sigDict'])"
   ]
  },
  {
   "cell_type": "code",
   "execution_count": null,
   "metadata": {},
   "outputs": [],
   "source": [
    "SigDF=pd.DataFrame(hist.Peaks['sigDict'])#, columns=['pos','pos-ref','area','area-ref','alph',\n",
    "                                            #      'alph-ref','bet','bet-ref','Sig','Sig-ref',\n",
    "                                            #      'Gam','gam-ref'])\n",
    "print(SigDF)"
   ]
  },
  {
   "cell_type": "code",
   "execution_count": null,
   "metadata": {},
   "outputs": [],
   "source": [
    "DataList=[]\n",
    "for i in range(len(hist.Peaks['peaks'])):\n",
    "    #print('peak',i)\n",
    "    #print('TOF pos=',hist.Peaks['peaks'][i][0],'sig=',hist.Peaks['sigDict']['pos'+str(i)])\n",
    "    DataList.append([i,hist.Peaks['peaks'][i][0],hist.Peaks['sigDict']['pos'+str(i)]])\n",
    "#print(DataList)\n",
    "ListDF=pd.DataFrame(DataList, columns=['Peak index','TOF Pos','TOF esd'])\n",
    "\n",
    "#ListDF['Dspace Pos']=Dspace_calc(ListDF['TOF Pos'],16324.50,6.86,0.00)\n",
    "ListDF['Dspace Pos']=ListDF.apply(lambda x: Dspace_calc(x['TOF Pos'],16324.50,6.86,0.00), axis=1)\n",
    "ListDF['Dspace esd']=ListDF.apply(lambda x: Dspace_calc(x['TOF Pos']+x['TOF esd'],16324.50,6.86,0.00) - \n",
    "                                      Dspace_calc(x['TOF Pos'],16324.50,6.86,0.00), axis=1)\n",
    "print(ListDF)\n",
    "ListDF.to_csv('GSASPeakFit.csv')"
   ]
  },
  {
   "cell_type": "code",
   "execution_count": null,
   "metadata": {},
   "outputs": [],
   "source": [
    "##  See further down on sequential refinements\n",
    "# Sequential Refinement\n",
    "\n",
    "# gpx.set_Controls('cycles',10)"
   ]
  },
  {
   "cell_type": "code",
   "execution_count": null,
   "metadata": {},
   "outputs": [],
   "source": []
  },
  {
   "cell_type": "code",
   "execution_count": null,
   "metadata": {},
   "outputs": [],
   "source": []
  }
 ],
 "metadata": {
  "kernelspec": {
   "display_name": "Python 3",
   "language": "python",
   "name": "python3"
  },
  "language_info": {
   "codemirror_mode": {
    "name": "ipython",
    "version": 3
   },
   "file_extension": ".py",
   "mimetype": "text/x-python",
   "name": "python",
   "nbconvert_exporter": "python",
   "pygments_lexer": "ipython3",
   "version": "3.7.7"
  }
 },
 "nbformat": 4,
 "nbformat_minor": 4
}
