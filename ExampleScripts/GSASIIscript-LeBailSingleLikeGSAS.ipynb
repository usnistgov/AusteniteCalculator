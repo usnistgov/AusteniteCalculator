{
 "cells": [
  {
   "cell_type": "code",
   "execution_count": 1,
   "metadata": {},
   "outputs": [],
   "source": [
    "#pip install PySPG"
   ]
  },
  {
   "cell_type": "code",
   "execution_count": 2,
   "metadata": {},
   "outputs": [],
   "source": [
    "# following tutorial at\n",
    "# https://gsas-ii.readthedocs.io/en/latest/GSASIIscriptable.html#peak-fitting"
   ]
  },
  {
   "cell_type": "code",
   "execution_count": 3,
   "metadata": {},
   "outputs": [
    {
     "name": "stdout",
     "output_type": "stream",
     "text": [
      "GSAS-II binary directory: /Users/creuzige/gsas2full/envs/gsas2pkg/GSASII/bindist\n",
      "6 values read from config file /Users/creuzige/gsas2full/envs/gsas2pkg/GSASII/config.py\n"
     ]
    }
   ],
   "source": [
    "import os,sys\n",
    "import matplotlib.pyplot as plt\n",
    "#import pandas as pd  # AC got a 'no module named pandas' error.  Do we need it?\n",
    "import numpy as np\n",
    "import math\n",
    "import csv\n",
    "\n",
    "# Eventually we'll have to find a common pathway, for now just change if this is commented out.\n",
    "#sys.path.insert(0,'/Users/dtn1/gsas2full/GSASII/') # needed to \"find\" GSAS-II modules\n",
    "sys.path.insert(0,'/Users/creuzige/gsas2full/envs/gsas2pkg/GSASII/') # needed to \"find\" GSAS-II modules\n",
    "\n",
    "import GSASIIscriptable as G2sc"
   ]
  },
  {
   "cell_type": "code",
   "execution_count": 4,
   "metadata": {},
   "outputs": [],
   "source": [
    "ScriptDirectory=os.getcwd()\n",
    "GitLabDirectory=os.path.dirname(os.getcwd())\n",
    "ExampleDataDirectory=os.path.join(GitLabDirectory,\"ExampleData\")\n",
    "SaveDataDirectory=os.path.join(GitLabDirectory,\"SaveData\")"
   ]
  },
  {
   "cell_type": "code",
   "execution_count": 5,
   "metadata": {},
   "outputs": [
    {
     "data": {
      "text/plain": [
       "'/Users/creuzige/Documents/NIST_Research/GitLab/austenitecalculator'"
      ]
     },
     "execution_count": 5,
     "metadata": {},
     "output_type": "execute_result"
    }
   ],
   "source": [
    "GitLabDirectory"
   ]
  },
  {
   "cell_type": "code",
   "execution_count": 6,
   "metadata": {
    "scrolled": false
   },
   "outputs": [
    {
     "name": "stdout",
     "output_type": "stream",
     "text": [
      "/Users/creuzige/Documents/NIST_Research/GitLab/austenitecalculator/ExampleData/Gonio_BB-HD-Cu_Gallipix3d[30-120]_New_Control_proper power.xrdml block # 1 read by Reader Panalytical xrdml (xml)\n",
      "Instrument parameters read: /Users/creuzige/Documents/NIST_Research/GitLab/austenitecalculator/ExampleData/TestCalibration.instprm (G2 fmt) bank 1\n"
     ]
    }
   ],
   "source": [
    "\n",
    "datadir = os.path.expanduser(ExampleDataDirectory)\n",
    "SaveDir= os.path.expanduser(SaveDataDirectory)\n",
    "DataPathWrap = lambda fil: os.path.join(datadir,fil)\n",
    "SaveWrap = lambda fil: os.path.join(SaveDir,fil)\n",
    "gpx = G2sc.G2Project(newgpx=SaveWrap('pkfit.gpx'))\n",
    "hist = gpx.add_powder_histogram(DataPathWrap('Gonio_BB-HD-Cu_Gallipix3d[30-120]_New_Control_proper power.xrdml'),\n",
    "                                DataPathWrap('TestCalibration.instprm'), # need to get a \n",
    "                                fmthint='Panalytical xrdml (xml)', databank=1, instbank=1)"
   ]
  },
  {
   "cell_type": "code",
   "execution_count": 7,
   "metadata": {},
   "outputs": [],
   "source": [
    "# Exploring the data structure.\n",
    "# For more details see the developers documentation \n",
    "# https://gsas-ii.readthedocs.io/en/latest/index.html"
   ]
  },
  {
   "cell_type": "code",
   "execution_count": 8,
   "metadata": {
    "scrolled": true
   },
   "outputs": [],
   "source": [
    "#hist.data['data'][0]['hId']\n",
    "#hist.data['Comments']\n",
    "#hist['data']['hId'].data"
   ]
  },
  {
   "cell_type": "code",
   "execution_count": 9,
   "metadata": {
    "scrolled": true
   },
   "outputs": [],
   "source": [
    "#len(hist.data['data']) # 3 objects\n",
    "\n",
    "#hist.data['data'][0] # dict: with some kind of meta-info?\n",
    "#hist.data['data'][1] # np.array: see below\n",
    "#hist.data['data'][2] # string: file name"
   ]
  },
  {
   "cell_type": "markdown",
   "metadata": {},
   "source": [
    "# From: https://gsas-ii.readthedocs.io/en/latest/GSASIIobj.html?highlight=Powder%20Diffraction%20Tree#powder-diffraction-tree-items\n",
    "    \n",
    "    Data \t\t\n",
    "\n",
    "(list) The data consist of a list of 6 np.arrays containing in order:\n",
    "\n",
    "    the x-postions (two-theta in degrees),\n",
    "    the intensity values (Yobs),\n",
    "    the weights for each Yobs value\n",
    "    the computed intensity values (Ycalc)\n",
    "    the background values\n",
    "    Yobs-Ycalc\n"
   ]
  },
  {
   "cell_type": "code",
   "execution_count": 10,
   "metadata": {},
   "outputs": [
    {
     "data": {
      "image/png": "[encoded data removed]",
      "text/plain": [
       "<Figure size 432x288 with 1 Axes>"
      ]
     },
     "metadata": {
      "needs_background": "light"
     },
     "output_type": "display_data"
    }
   ],
   "source": [
    "plt.plot(hist.data['data'][1][0], hist.data['data'][1][1])\n",
    "plt.xlabel(\"2theta\")\n",
    "plt.ylabel(\"intensity\")\n",
    "plt.show()\n"
   ]
  },
  {
   "cell_type": "markdown",
   "metadata": {},
   "source": [
    "## Add phases to the project"
   ]
  },
  {
   "cell_type": "code",
   "execution_count": 11,
   "metadata": {},
   "outputs": [
    {
     "name": "stdout",
     "output_type": "stream",
     "text": [
      "/Users/creuzige/Documents/NIST_Research/GitLab/austenitecalculator/ExampleData/austenite-Duplex.cif read by Reader CIF\n",
      "gpx file saved as /Users/creuzige/Documents/NIST_Research/GitLab/austenitecalculator/SaveData/pkfit.gpx\n",
      "/Users/creuzige/Documents/NIST_Research/GitLab/austenitecalculator/ExampleData/ferrite-Duplex.cif read by Reader CIF\n",
      "gpx file saved as /Users/creuzige/Documents/NIST_Research/GitLab/austenitecalculator/SaveData/pkfit.gpx\n"
     ]
    }
   ],
   "source": [
    "PhaseAustenite = gpx.add_phase(DataPathWrap(\"austenite-Duplex.cif\"),\n",
    "         phasename=\"Austenite\",fmthint='CIF')\n",
    "\n",
    "PhaseFerrite = gpx.add_phase(DataPathWrap(\"ferrite-Duplex.cif\"),\n",
    "         phasename=\"Ferrite\",fmthint='CIF')"
   ]
  },
  {
   "cell_type": "code",
   "execution_count": 12,
   "metadata": {},
   "outputs": [],
   "source": [
    "## Guess locations for peaks based on lattice parameter"
   ]
  },
  {
   "cell_type": "code",
   "execution_count": 13,
   "metadata": {},
   "outputs": [],
   "source": [
    "# Read the lattice parameter \n",
    "a0_Austenite=PhaseAustenite.data['General']['Cell'][1]\n",
    "a0_Ferrite=PhaseFerrite.data['General']['Cell'][1]\n",
    "\n",
    "# Fit values to check if the Peak Extraction has better luck\n",
    "#a0_Austenite=3.60097\n",
    "#a0_Ferrite=2.87564"
   ]
  },
  {
   "cell_type": "code",
   "execution_count": null,
   "metadata": {},
   "outputs": [],
   "source": []
  },
  {
   "cell_type": "code",
   "execution_count": 14,
   "metadata": {},
   "outputs": [],
   "source": [
    "# Find the ka1 wavelength\n",
    "# hist.data['Comments']\n",
    "\n",
    "Ka1_wavelength=float([s for s in hist.data['Comments'] if s.startswith('Ka1')][0].split('=')[1])\n",
    "\n",
    "# Hardcode for testing\n",
    "#Ka1_wavelength=2.29092 # Cr wavelength for testing"
   ]
  },
  {
   "cell_type": "code",
   "execution_count": null,
   "metadata": {},
   "outputs": [],
   "source": []
  },
  {
   "cell_type": "markdown",
   "metadata": {},
   "source": [
    "# Calculate locations of peaks from .cif file\n",
    "\n"
   ]
  },
  {
   "cell_type": "markdown",
   "metadata": {},
   "source": [
    "## Bragg diffraction\n",
    "n * lambda=2 * d * sin(theta)"
   ]
  },
  {
   "cell_type": "code",
   "execution_count": 15,
   "metadata": {},
   "outputs": [],
   "source": [
    "#hardcoding HKL lists for now, likely better ways to do this later...\n",
    "HKL_BCC=[[1,1,0],[2,0,0],[2,1,1],[2,2,0],[3,1,0],[2,2,2],[3,2,1],[4,1,1]]\n",
    "HKL_FCC=[[1,1,1],[2,0,0],[2,2,0],[3,1,1],[2,2,2],[4,0,0],[3,3,1],[4,2,0],[4,2,2]]"
   ]
  },
  {
   "cell_type": "code",
   "execution_count": 16,
   "metadata": {},
   "outputs": [],
   "source": [
    "#for hkl in HKL_BCC:\n",
    "#    d=(a0_Ferrite/ math.sqrt(hkl[0]*hkl[0]+hkl[1]*hkl[1]+hkl[2]*hkl[2]))   \n",
    "    \n",
    "d_BCC=[a0_Ferrite/ math.sqrt(hkl[0]*hkl[0]+hkl[1]*hkl[1]+hkl[2]*hkl[2]) for hkl in HKL_BCC]\n",
    "SinTheta_BCC=[1*Ka1_wavelength/(2*d) for d in d_BCC]\n",
    "\n",
    "d_FCC=[a0_Austenite/ math.sqrt(hkl[0]*hkl[0]+hkl[1]*hkl[1]+hkl[2]*hkl[2]) for hkl in HKL_FCC]\n",
    "SinTheta_FCC=[1*Ka1_wavelength/(2*d) for d in d_FCC]"
   ]
  },
  {
   "cell_type": "code",
   "execution_count": 17,
   "metadata": {},
   "outputs": [
    {
     "data": {
      "text/plain": [
       "[2.045073019344297,\n",
       " 1.446085,\n",
       " 1.1807234582308708,\n",
       " 1.0225365096721486,\n",
       " 0.9145844580409181,\n",
       " 0.8348975640210801,\n",
       " 0.7729649460218565,\n",
       " 0.6816910064480991]"
      ]
     },
     "execution_count": 17,
     "metadata": {},
     "output_type": "execute_result"
    }
   ],
   "source": [
    "d_BCC"
   ]
  },
  {
   "cell_type": "code",
   "execution_count": 18,
   "metadata": {},
   "outputs": [],
   "source": [
    "# Create a list of 2Theta values from the dspacing and wavelength. Mark any non-physical values with np.nan\n",
    "TwoTheta_BCC=[np.nan]*len(SinTheta_BCC)\n",
    "for i,value in enumerate(SinTheta_BCC):\n",
    "    #print(value)\n",
    "    try:\n",
    "        TwoTheta_BCC[i]=(2*math.degrees(math.asin(value)))\n",
    "    except:\n",
    "        TwoTheta_BCC[i]=(np.nan)\n",
    "#print(TwoTheta_BCC)\n",
    "#print(HKL_BCC)       \n",
    "        \n",
    "TwoTheta_FCC=[np.nan]*len(SinTheta_FCC)\n",
    "for i,value in enumerate(SinTheta_FCC):\n",
    "    #print(value)\n",
    "    try:\n",
    "        TwoTheta_FCC[i]=(2*math.degrees(math.asin(value)))\n",
    "    except:\n",
    "        TwoTheta_FCC[i]=(np.nan)\n",
    "#print(TwoTheta_FCC)\n",
    "#print(HKL_FCC)\n",
    "\n"
   ]
  },
  {
   "cell_type": "code",
   "execution_count": 19,
   "metadata": {},
   "outputs": [],
   "source": [
    "# Create a list of TwoTheta in the data range\n",
    "#print(max(hist.data['data'][1][0]))\n",
    "\n",
    "TwoThetaInRange_BCC=[np.nan if i > max(hist.data['data'][1][0]) else i for i in TwoTheta_BCC]\n",
    "TwoThetaInRange_BCC=[np.nan if i < min(hist.data['data'][1][0]) else i for i in TwoThetaInRange_BCC]\n",
    "\n",
    "TwoThetaInRange_FCC=[np.nan if i > max(hist.data['data'][1][0]) else i for i in TwoTheta_FCC]\n",
    "TwoThetaInRange_FCC=[np.nan if i < min(hist.data['data'][1][0]) else i for i in TwoThetaInRange_FCC]\n",
    "\n",
    "\n",
    "#print(TwoTheta_FCC)\n",
    "#print(TwoThetaInRange_FCC)\n",
    "\n"
   ]
  },
  {
   "cell_type": "code",
   "execution_count": 20,
   "metadata": {},
   "outputs": [],
   "source": [
    "PeaksList=[]\n",
    "PeaksList = np.array(TwoThetaInRange_BCC)[~np.isnan(np.array(TwoThetaInRange_BCC))]\n",
    "PeaksList = np.concatenate((PeaksList,\n",
    "                           np.array(TwoThetaInRange_FCC)[~np.isnan(np.array(TwoThetaInRange_FCC))]),\n",
    "                           axis=0)\n",
    "PeaksList=list(PeaksList)\n",
    "# Don't sort, it actually makes keeping track of the different items harder...\n",
    "# PeaksList.sort()"
   ]
  },
  {
   "cell_type": "code",
   "execution_count": 21,
   "metadata": {},
   "outputs": [
    {
     "name": "stdout",
     "output_type": "stream",
     "text": [
      "[44.25400504560493, 64.37327635613593, 81.44495562762073, 97.75788776253452, 114.75469634990064, 43.20474072132704, 50.31626972156883, 73.91288231727276, 89.65561531281976, 94.83876690428124, 116.47470981868203]\n"
     ]
    }
   ],
   "source": [
    "print(PeaksList)"
   ]
  },
  {
   "cell_type": "code",
   "execution_count": null,
   "metadata": {},
   "outputs": [],
   "source": []
  },
  {
   "cell_type": "code",
   "execution_count": 22,
   "metadata": {},
   "outputs": [],
   "source": [
    "#CIF is slightly off, kludge for now...\n",
    "# Likely need to refine, adjust lattice parameters and start over again with peaks with non-negative intensities\n",
    "# Or fix the negative intensities...\n",
    "PeaksList=[x+0.5 for x in PeaksList]"
   ]
  },
  {
   "cell_type": "code",
   "execution_count": null,
   "metadata": {},
   "outputs": [],
   "source": []
  },
  {
   "cell_type": "code",
   "execution_count": 23,
   "metadata": {},
   "outputs": [],
   "source": [
    "# reset the peak list in case of errors...\n",
    "hist.Peaks['peaks']=[]"
   ]
  },
  {
   "cell_type": "markdown",
   "metadata": {},
   "source": [
    "## Start Fitting"
   ]
  },
  {
   "cell_type": "code",
   "execution_count": null,
   "metadata": {
    "scrolled": true
   },
   "outputs": [],
   "source": []
  },
  {
   "cell_type": "code",
   "execution_count": null,
   "metadata": {},
   "outputs": [],
   "source": []
  },
  {
   "cell_type": "code",
   "execution_count": 24,
   "metadata": {},
   "outputs": [
    {
     "name": "stdout",
     "output_type": "stream",
     "text": [
      "Number of function calls: 7 Number of observations: 3140 Number of parameters: 5\n",
      "fitpeak time =    0.028s,    0.009s/cycle\n",
      "Rwp =   34.25%, chi**2 =       940533, reduced chi**2 = 300.01\n",
      "Background coefficients for chebyschev-1 function\n",
      "value:   2358.63862  -324.96757   298.54077  -102.21858    74.60512\n",
      "esd  :     18.76352    30.97063    29.62959    24.74965    24.56130\n"
     ]
    },
    {
     "data": {
      "text/plain": [
       "({'Back;0': 18.763518424198292,\n",
       "  'Back;1': 30.970626765226825,\n",
       "  'Back;2': 29.62959121345793,\n",
       "  'Back;3': 24.749651164576715,\n",
       "  'Back;4': 24.561297441179025},\n",
       " (array([2358.63861521, -324.96757161,  298.54076704, -102.21857721,\n",
       "           74.60511932]),\n",
       "  array([[ 1.1735244 , -0.20545698,  1.15333329, -0.10391783,  0.57912169],\n",
       "         [-0.20545698,  3.197154  , -0.28853898,  1.37527663, -0.08905987],\n",
       "         [ 1.15333329, -0.28853898,  2.92627332, -0.18693209,  1.26759655],\n",
       "         [-0.10391783,  1.37527663, -0.18693209,  2.04174609, -0.13769551],\n",
       "         [ 0.57912169, -0.08905987,  1.26759655, -0.13769551,  2.0107875 ]]),\n",
       "  {'fvec': array([-1.63134087, -1.25567881, -0.38417849, ...,  3.21357246,\n",
       "           4.01609119,  2.47074978]),\n",
       "   'nfev': 7,\n",
       "   'njev': 6,\n",
       "   'fjac': array([[-1.18532501e+00,  1.48489515e-02,  1.49700174e-02, ...,\n",
       "            1.81777323e-02,  1.83272403e-02,  1.80318245e-02],\n",
       "          [ 1.06736706e-02,  8.31820270e-01,  2.05874272e-02, ...,\n",
       "           -2.62137631e-02, -2.65787410e-02, -2.62975373e-02],\n",
       "          [ 6.58759434e-02,  4.10452205e-02, -8.27241792e-01, ...,\n",
       "            2.58520432e-02,  2.63270460e-02,  2.61616588e-02],\n",
       "          [ 4.35410546e-01,  1.90348263e-04,  3.59267630e-01, ...,\n",
       "            6.47464484e-02,  6.55258293e-02,  6.47130318e-02],\n",
       "          [-3.96329759e-02, -3.56652378e-01,  9.37980134e-03, ...,\n",
       "           -5.16661029e-02, -5.22079292e-02, -5.14815637e-02]]),\n",
       "   'ipvt': array([1, 4, 5, 3, 2], dtype=int32),\n",
       "   'qtf': array([-3.05244718e-12,  8.77742323e-13,  7.18314297e-14, -1.54765090e-13,\n",
       "          -2.60347299e-13])},\n",
       "  'Both actual and predicted relative reductions in the sum of squares\\n  are at most 0.001000 and the relative error between two consecutive iterates is at \\n  most 0.000000',\n",
       "  3),\n",
       " array([18.76351842, 30.97062677, 29.62959121, 24.74965116, 24.56129744]),\n",
       " {'Rwp': 34.247244669820816, 'GOF': 300.0104846434412},\n",
       " ['Back;0', 'Back;1', 'Back;2', 'Back;3', 'Back;4'],\n",
       " {'Back;0': 2358.638615205059,\n",
       "  'Back;1': -324.96757161373284,\n",
       "  'Back;2': 298.540767044634,\n",
       "  'Back;3': -102.2185772129055,\n",
       "  'Back;4': 74.60511932400607,\n",
       "  'nDebye': 0,\n",
       "  'nPeaks': 0,\n",
       "  'Back File': '',\n",
       "  'BF mult': 1.0,\n",
       "  'Type': 'PXC',\n",
       "  'Bank': 1.0,\n",
       "  'Lam1': 1.5405,\n",
       "  'Lam2': 1.5443,\n",
       "  'Zero': 0.0,\n",
       "  'Polariz.': 0.7,\n",
       "  'Azimuth': 0.0,\n",
       "  'I(L2)/I(L1)': 0.5,\n",
       "  'U': 2.0432141532813843,\n",
       "  'V': 11.458800039208487,\n",
       "  'W': 13.401233944613113,\n",
       "  'X': 0.8467938094652971,\n",
       "  'Y': 7.820418834830757,\n",
       "  'Z': 0.0,\n",
       "  'SH/L': 0.002,\n",
       "  'Source': '?',\n",
       "  'Pdabc': []},\n",
       " ['Back;0', 'Back;1', 'Back;2', 'Back;3', 'Back;4'],\n",
       " [])"
      ]
     },
     "execution_count": 24,
     "metadata": {},
     "output_type": "execute_result"
    }
   ],
   "source": [
    "# Add controls for number of cycles?\n",
    "\n",
    "hist.set_refinements({'Background': {\"no. coeffs\": 5,'type': 'chebyschev-1', 'refine': True}})\n",
    "hist.refine_peaks()"
   ]
  },
  {
   "cell_type": "code",
   "execution_count": 25,
   "metadata": {},
   "outputs": [
    {
     "data": {
      "image/png": "[encoded data removed]",
      "text/plain": [
       "<Figure size 432x288 with 1 Axes>"
      ]
     },
     "metadata": {
      "needs_background": "light"
     },
     "output_type": "display_data"
    }
   ],
   "source": [
    "plt.scatter(hist.data['data'][1][0], hist.data['data'][1][1], label='data', color='0.7')\n",
    "plt.plot(hist.data['data'][1][0], hist.data['data'][1][4], label='background', color='r')\n",
    "plt.plot(hist.data['data'][1][0], hist.data['data'][1][3], label='fit', color='b')\n",
    "plt.xlabel(\"2theta\")\n",
    "plt.ylabel(\"intensity\")\n",
    "plt.legend()\n",
    "plt.show()"
   ]
  },
  {
   "cell_type": "markdown",
   "metadata": {},
   "source": [
    "## Add a few peaks to the list\n",
    "\n",
    "- It seems like the peak positions are slightly off from the .cif file (about 0.4°)\n",
    "- This results in negative intensities for some of the higher peaks\n",
    "- Maybe look for maxima?  Or a series of fit sequences?\n",
    "- Error check negative peaks?"
   ]
  },
  {
   "cell_type": "code",
   "execution_count": 26,
   "metadata": {},
   "outputs": [],
   "source": [
    "#for peak in PeaksList[0:5]:\n",
    "for peak in PeaksList:\n",
    "    hist.add_peak(1, ttheta=peak)\n",
    "\n",
    "\n"
   ]
  },
  {
   "cell_type": "code",
   "execution_count": null,
   "metadata": {},
   "outputs": [],
   "source": []
  },
  {
   "cell_type": "code",
   "execution_count": 27,
   "metadata": {
    "scrolled": false
   },
   "outputs": [
    {
     "name": "stdout",
     "output_type": "stream",
     "text": [
      "Number of function calls: 3 Number of observations: 3140 Number of parameters: 16\n",
      "fitpeak time =    0.062s,    0.062s/cycle\n",
      "Rwp =   28.95%, chi**2 =       672146, reduced chi**2 = 215.16\n",
      "Background coefficients for chebyschev-1 function\n",
      "value:   2311.08818  -323.81198   342.87760  -107.65019    48.45557\n",
      "esd  :     16.57061    27.42416    26.27250    21.77779    21.35645\n",
      "Peak coefficients:\n",
      "                pos       esd       int       esd       sig       esd       gam       esd      bins  \n",
      " Peak1   :  44.75401              9125.1    2013.7    18.465               4.135               4.35\n",
      " Peak2   :  64.87328             74308.4    3907.9    21.509               5.973               5.03\n",
      " Peak3   :  81.94496             62278.8    3760.9    24.894               7.913               5.75\n",
      " Peak4   :  98.25789              5673.8    2404.5    29.372              10.331               6.67\n",
      " Peak5   : 115.25470              6928.1    2832.1    36.560              13.918               8.04\n",
      " Peak6   :  43.70474             10728.1    2065.7    18.325               4.049               4.32\n",
      " Peak7   :  50.81627             26010.7    2678.1    19.305               4.652               4.54\n",
      " Peak8   :  74.41288             83950.4    4179.1    23.279               7.001               5.41\n",
      " Peak9   :  90.15562             22298.7    2746.9    26.946               9.041               6.18\n",
      " Peak10  :  95.33877              4477.4    2325.8    28.443               9.843               6.48\n",
      " Peak11  : 116.97471               -51.8    2798.0    37.527              14.376               8.22\n",
      "Number of function calls: 15 Number of observations: 3140 Number of parameters: 27\n",
      "fitpeak time =    0.260s,    0.037s/cycle\n",
      "Rwp =    4.45%, chi**2 =      15891.4, reduced chi**2 =   5.10\n",
      "Background coefficients for chebyschev-1 function\n",
      "value:   2259.52911  -320.55850   351.14344  -122.73812    81.57627\n",
      "esd  :      2.50137     4.14048     3.94018     3.29848     3.25750\n",
      "Peak coefficients:\n",
      "                pos       esd       int       esd       sig       esd       gam       esd      bins  \n",
      " Peak1   :  44.51322   0.00044  164400.4     829.1    18.433               4.115               4.34\n",
      " Peak2   :  64.75727   0.00059  135471.2     768.5    21.489               5.962               5.02\n",
      " Peak3   :  82.03033   0.00076  103314.4     712.4    24.913               7.924               5.76\n",
      " Peak4   :  98.56370   0.00316   18626.9     451.2    29.473              10.384               6.69\n",
      " Peak5   : 115.80979   0.00256   34624.0     576.4    36.866              14.063               8.10\n",
      " Peak6   :  43.47426   0.00047  141840.2     775.3    18.295               4.030               4.31\n",
      " Peak7   :  50.66688   0.00082   68729.7     573.2    19.284               4.639               4.53\n",
      " Peak8   :  74.46407   0.00074  102740.4     700.1    23.289               7.006               5.41\n",
      " Peak9   :  90.41506   0.00101   78917.8     648.7    27.016               9.079               6.19\n",
      " Peak10  :  95.64351   0.00415   12952.2     416.2    28.537               9.892               6.50\n",
      " Peak11  : 109.36714   3.28475     -93.0     382.1    33.646              12.503               7.50\n",
      "Number of function calls: 4 Number of observations: 3140 Number of parameters: 38\n",
      "fitpeak time =    0.088s,    0.044s/cycle\n",
      "Rwp =    3.81%, chi**2 =      11658.4, reduced chi**2 =   3.76\n",
      "Background coefficients for chebyschev-1 function\n",
      "value:   2258.72184  -321.98736   351.08048  -125.66297    82.47624\n",
      "esd  :      2.15304     3.56243     3.39470     2.84447     2.80935\n",
      "Peak coefficients:\n",
      "                pos       esd       int       esd       sig       esd       gam       esd      bins  \n",
      " Peak1   :  44.51325   0.00036  164058.4     712.6    15.513     0.321     4.115               4.34\n",
      " Peak2   :  64.75712   0.00056  136752.4     667.9    28.394     0.625     5.962               5.02\n",
      " Peak3   :  82.03005   0.00055  102887.0     611.0    14.895     0.494     7.924               5.76\n",
      " Peak4   :  98.56335   0.00220   18108.6     395.6    14.454     2.349    10.384               6.69\n",
      " Peak5   : 115.80992   0.00239   35252.7     528.4    49.450     4.005    14.063               8.10\n",
      " Peak6   :  43.47427   0.00041  141817.6     669.2    17.846     0.402     4.030               4.31\n",
      " Peak7   :  50.66700   0.00083   71238.0     516.2    35.974     1.228     4.639               4.53\n",
      " Peak8   :  74.46408   0.00060  102450.2     603.1    20.252     0.555     7.006               5.41\n",
      " Peak9   :  90.41459   0.00104   80829.7     574.9    43.593     1.376     9.079               6.19\n",
      " Peak10  :  95.64432   0.00288   12547.7     367.5    14.256     2.990     9.893               6.50\n",
      " Peak11  : 109.12109   0.15125     174.4     319.9  -807.748    57.128    12.449               7.48\n"
     ]
    },
    {
     "data": {
      "text/plain": [
       "({'Back;0': 2.153043807361839,\n",
       "  'Back;1': 3.56242965458058,\n",
       "  'Back;2': 3.394697102133094,\n",
       "  'Back;3': 2.8444689127030527,\n",
       "  'Back;4': 2.8093484977851766,\n",
       "  'pos0': 0.0003612545529353229,\n",
       "  'int0': 712.5770869437828,\n",
       "  'sig0': 0.32068224133451856,\n",
       "  'pos1': 0.0005606872235763083,\n",
       "  'int1': 667.919764478276,\n",
       "  'sig1': 0.6249412672163114,\n",
       "  'pos2': 0.0005491756856568266,\n",
       "  'int2': 610.9942596594183,\n",
       "  'sig2': 0.4944579567584917,\n",
       "  'pos3': 0.002196789536108943,\n",
       "  'int3': 395.6178952428172,\n",
       "  'sig3': 2.348727970043318,\n",
       "  'pos4': 0.002385416849159153,\n",
       "  'int4': 528.418947442315,\n",
       "  'sig4': 4.005327005243603,\n",
       "  'pos5': 0.00040604859092279697,\n",
       "  'int5': 669.2414125781797,\n",
       "  'sig5': 0.40171557061442337,\n",
       "  'pos6': 0.0008306077010370429,\n",
       "  'int6': 516.2295407150607,\n",
       "  'sig6': 1.2279321731960762,\n",
       "  'pos7': 0.0005993773368114559,\n",
       "  'int7': 603.1397348102781,\n",
       "  'sig7': 0.5548314033867013,\n",
       "  'pos8': 0.0010431852839559701,\n",
       "  'int8': 574.8613873255981,\n",
       "  'sig8': 1.3764392434891308,\n",
       "  'pos9': 0.002881028007318085,\n",
       "  'int9': 367.5218145963235,\n",
       "  'sig9': 2.9896107116194037,\n",
       "  'pos10': 0.15125395618215426,\n",
       "  'int10': 319.85858422810924,\n",
       "  'sig10': 57.128163184175435},\n",
       " (array([ 2.25872184e+03, -3.21987355e+02,  3.51080476e+02, -1.25662972e+02,\n",
       "          8.24762401e+01,  4.45132501e+01,  1.64058360e+05,  1.55130590e+01,\n",
       "          6.47571194e+01,  1.36752448e+05,  2.83944464e+01,  8.20300548e+01,\n",
       "          1.02886971e+05,  1.48946630e+01,  9.85633502e+01,  1.81085834e+04,\n",
       "          1.44542679e+01,  1.15809924e+02,  3.52526684e+04,  4.94504313e+01,\n",
       "          4.34742676e+01,  1.41817628e+05,  1.78455911e+01,  5.06669958e+01,\n",
       "          7.12379775e+04,  3.59737759e+01,  7.44640824e+01,  1.02450160e+05,\n",
       "          2.02517286e+01,  9.04145925e+01,  8.08297161e+04,  4.35929450e+01,\n",
       "          9.56443242e+01,  1.25477369e+04,  1.42563586e+01,  1.09121095e+02,\n",
       "          1.74375999e+02, -8.07748264e+02]),\n",
       "  array([[ 1.23341347e+00, -1.16141326e-01,  1.20722425e+00, ...,\n",
       "          -3.66134714e-05, -1.54389622e+01, -1.21736031e+00],\n",
       "         [-1.16141326e-01,  3.37672389e+00, -1.63841366e-01, ...,\n",
       "          -6.18595077e-05, -3.28392707e+01, -2.58473549e+00],\n",
       "         [ 1.20722425e+00, -1.63841366e-01,  3.06623202e+00, ...,\n",
       "          -1.73163983e-04, -7.08949491e+00, -5.64169747e-01],\n",
       "         ...,\n",
       "         [-3.66134714e-05, -6.18595076e-05, -1.73163983e-04, ...,\n",
       "           6.08718417e-03, -5.91805478e-02, -2.98016387e-02],\n",
       "         [-1.54389622e+01, -3.28392707e+01, -7.08949491e+00, ...,\n",
       "          -5.91805478e-02,  2.72219340e+04,  2.13008712e+03],\n",
       "         [-1.21736031e+00, -2.58473549e+00, -5.64169747e-01, ...,\n",
       "          -2.98016387e-02,  2.13008712e+03,  8.68367332e+02]]),\n",
       "  {'fvec': array([-1.96525277, -1.59692659, -0.734345  , ...,  1.97265182,\n",
       "           2.76592933,  1.2417083 ]),\n",
       "   'nfev': 4,\n",
       "   'njev': 3,\n",
       "   'fjac': array([[-5.40621267e+03,  0.00000000e+00,  0.00000000e+00, ...,\n",
       "            0.00000000e+00,  0.00000000e+00,  0.00000000e+00],\n",
       "          [ 3.14797618e+00, -4.81631756e+03,  0.00000000e+00, ...,\n",
       "            0.00000000e+00,  0.00000000e+00,  0.00000000e+00],\n",
       "          [ 0.00000000e+00,  0.00000000e+00, -3.53073780e+03, ...,\n",
       "            0.00000000e+00,  0.00000000e+00,  0.00000000e+00],\n",
       "          ...,\n",
       "          [ 0.00000000e+00,  0.00000000e+00,  3.78849596e-12, ...,\n",
       "           -1.86122313e-03, -1.88962966e-03, -1.87209427e-03],\n",
       "          [ 5.48173504e-06,  1.68606425e-05,  0.00000000e+00, ...,\n",
       "           -1.62155487e-03, -1.64739220e-03, -1.63317713e-03],\n",
       "          [ 8.65515922e-06, -6.02876333e-06,  0.00000000e+00, ...,\n",
       "            1.55652845e-03,  1.58154769e-03,  1.56811498e-03]]),\n",
       "   'ipvt': array([ 6, 21, 12,  9, 27, 24, 30, 15, 18, 33, 36,  8, 23, 14, 29, 11, 26,\n",
       "          32,  1, 17,  4,  5, 35,  3,  2, 20, 38, 37, 34, 16, 25, 19, 31, 28,\n",
       "          13, 10, 22,  7], dtype=int32),\n",
       "   'qtf': array([-5.03010873e-01, -3.23668949e-02,  4.71598685e-02, -4.14855248e-01,\n",
       "          -7.16667895e-02, -8.63983031e-01, -3.24742460e-01,  6.16024706e-02,\n",
       "           1.29174002e-03, -1.72915806e-02,  1.21904472e-02, -7.38338286e-01,\n",
       "          -6.34812566e-02,  1.11659247e-01, -1.00221404e-01,  5.66038890e-01,\n",
       "           7.66678351e-01,  1.67331452e-01, -2.64269990e-02, -8.41699166e-02,\n",
       "           2.46577321e-02, -1.17476710e-02,  6.49017975e-02,  1.30096675e-02,\n",
       "           4.29226004e-03,  7.55572810e-03,  7.99069321e-01,  1.68560395e-02,\n",
       "          -8.57150963e-02,  8.46305190e-03,  1.99945803e-01, -1.17553893e-04,\n",
       "          -5.63238718e-03,  1.01840783e-02, -2.20547276e-02,  7.92707961e-02,\n",
       "           3.25217151e-03, -6.42484778e-02])},\n",
       "  'Both actual and predicted relative reductions in the sum of squares\\n  are at most 0.001000',\n",
       "  1),\n",
       " array([2.15304381e+00, 3.56242965e+00, 3.39469710e+00, 2.84446891e+00,\n",
       "        2.80934850e+00, 3.61254553e-04, 7.12577087e+02, 3.20682241e-01,\n",
       "        5.60687224e-04, 6.67919764e+02, 6.24941267e-01, 5.49175686e-04,\n",
       "        6.10994260e+02, 4.94457957e-01, 2.19678954e-03, 3.95617895e+02,\n",
       "        2.34872797e+00, 2.38541685e-03, 5.28418947e+02, 4.00532701e+00,\n",
       "        4.06048591e-04, 6.69241413e+02, 4.01715571e-01, 8.30607701e-04,\n",
       "        5.16229541e+02, 1.22793217e+00, 5.99377337e-04, 6.03139735e+02,\n",
       "        5.54831403e-01, 1.04318528e-03, 5.74861387e+02, 1.37643924e+00,\n",
       "        2.88102801e-03, 3.67521815e+02, 2.98961071e+00, 1.51253956e-01,\n",
       "        3.19858584e+02, 5.71281632e+01]),\n",
       " {'Rwp': 3.8129232757450415, 'GOF': 3.758348462721912},\n",
       " ['Back;0',\n",
       "  'Back;1',\n",
       "  'Back;2',\n",
       "  'Back;3',\n",
       "  'Back;4',\n",
       "  'pos0',\n",
       "  'int0',\n",
       "  'sig0',\n",
       "  'pos1',\n",
       "  'int1',\n",
       "  'sig1',\n",
       "  'pos2',\n",
       "  'int2',\n",
       "  'sig2',\n",
       "  'pos3',\n",
       "  'int3',\n",
       "  'sig3',\n",
       "  'pos4',\n",
       "  'int4',\n",
       "  'sig4',\n",
       "  'pos5',\n",
       "  'int5',\n",
       "  'sig5',\n",
       "  'pos6',\n",
       "  'int6',\n",
       "  'sig6',\n",
       "  'pos7',\n",
       "  'int7',\n",
       "  'sig7',\n",
       "  'pos8',\n",
       "  'int8',\n",
       "  'sig8',\n",
       "  'pos9',\n",
       "  'int9',\n",
       "  'sig9',\n",
       "  'pos10',\n",
       "  'int10',\n",
       "  'sig10'],\n",
       " {'Back;0': 2258.721843369445,\n",
       "  'Back;1': -321.98735500774086,\n",
       "  'Back;2': 351.0804760072061,\n",
       "  'Back;3': -125.66297237062682,\n",
       "  'Back;4': 82.47624009174358,\n",
       "  'nDebye': 0,\n",
       "  'nPeaks': 0,\n",
       "  'Back File': '',\n",
       "  'BF mult': 1.0,\n",
       "  'Type': 'PXC',\n",
       "  'Bank': 1.0,\n",
       "  'Lam1': 1.5405,\n",
       "  'Lam2': 1.5443,\n",
       "  'Zero': 0.0,\n",
       "  'Polariz.': 0.7,\n",
       "  'Azimuth': 0.0,\n",
       "  'I(L2)/I(L1)': 0.5,\n",
       "  'U': 2.0432141532813843,\n",
       "  'V': 11.458800039208487,\n",
       "  'W': 13.401233944613113,\n",
       "  'X': 0.8467938094652971,\n",
       "  'Y': 7.820418834830757,\n",
       "  'Z': 0.0,\n",
       "  'SH/L': 0.002,\n",
       "  'Source': '?',\n",
       "  'pos0': 44.513250056494655,\n",
       "  'int0': 164058.3597430937,\n",
       "  'sig0': 15.513059034395948,\n",
       "  'gam0': 4.115434921160595,\n",
       "  'pos1': 64.75711943488184,\n",
       "  'int1': 136752.44846765263,\n",
       "  'sig1': 28.39444643637455,\n",
       "  'gam1': 5.96156714417394,\n",
       "  'pos2': 82.03005484533995,\n",
       "  'int2': 102886.97085493182,\n",
       "  'sig2': 14.89466297827821,\n",
       "  'gam2': 7.92405698374505,\n",
       "  'pos3': 98.56335017926811,\n",
       "  'int3': 18108.583365603565,\n",
       "  'sig3': 14.454267882659568,\n",
       "  'gam3': 10.384280814099087,\n",
       "  'pos4': 115.8099241726613,\n",
       "  'int4': 35252.66842485701,\n",
       "  'sig4': 49.45043129292421,\n",
       "  'gam4': 14.062953805326874,\n",
       "  'pos5': 43.47426758520293,\n",
       "  'int5': 141817.62846580584,\n",
       "  'sig5': 17.845591059008985,\n",
       "  'gam5': 4.029611622445185,\n",
       "  'pos6': 50.66699577893929,\n",
       "  'int6': 71237.97752865855,\n",
       "  'sig6': 35.97377585341827,\n",
       "  'gam6': 4.639182784607145,\n",
       "  'pos7': 74.46408241451897,\n",
       "  'int7': 102450.16030845612,\n",
       "  'sig7': 20.251728592824445,\n",
       "  'gam7': 7.006472169966396,\n",
       "  'pos8': 90.41459252494684,\n",
       "  'int8': 80829.71606156365,\n",
       "  'sig8': 43.592944999848505,\n",
       "  'gam8': 9.079116788325818,\n",
       "  'pos9': 95.64432420562157,\n",
       "  'int9': 12547.736860561366,\n",
       "  'sig9': 14.256358598529758,\n",
       "  'gam9': 9.892599374995344,\n",
       "  'pos10': 109.1210946822647,\n",
       "  'int10': 174.37599919579174,\n",
       "  'sig10': -807.7482642838552,\n",
       "  'gam10': 12.448752820887401,\n",
       "  'Pdabc': []},\n",
       " ['Back;0',\n",
       "  'Back;1',\n",
       "  'Back;2',\n",
       "  'Back;3',\n",
       "  'Back;4',\n",
       "  'pos0',\n",
       "  'int0',\n",
       "  'sig0',\n",
       "  'pos1',\n",
       "  'int1',\n",
       "  'sig1',\n",
       "  'pos2',\n",
       "  'int2',\n",
       "  'sig2',\n",
       "  'pos3',\n",
       "  'int3',\n",
       "  'sig3',\n",
       "  'pos4',\n",
       "  'int4',\n",
       "  'sig4',\n",
       "  'pos5',\n",
       "  'int5',\n",
       "  'sig5',\n",
       "  'pos6',\n",
       "  'int6',\n",
       "  'sig6',\n",
       "  'pos7',\n",
       "  'int7',\n",
       "  'sig7',\n",
       "  'pos8',\n",
       "  'int8',\n",
       "  'sig8',\n",
       "  'pos9',\n",
       "  'int9',\n",
       "  'sig9',\n",
       "  'pos10',\n",
       "  'int10',\n",
       "  'sig10'],\n",
       " [])"
      ]
     },
     "execution_count": 27,
     "metadata": {},
     "output_type": "execute_result"
    }
   ],
   "source": [
    "# Need to use this order, otherwise fitting gets unstable\n",
    "hist.set_peakFlags(area=True)\n",
    "hist.refine_peaks()\n",
    "\n",
    "# Resetting the value doesn't seem to work...\n",
    "# for i,value in enumerate(hist.Peaks['peaks']):\n",
    "#     print(value[2])\n",
    "#     if value[2]<0:\n",
    "#         print(hist.Peaks['peaks'][i][2],-value[2])\n",
    "#         hist.Peaks['peaks'][i][2]=-value[2]\n",
    "        \n",
    "# hist.set_peakFlags(pos=True)\n",
    "# hist.refine_peaks('hold')\n",
    "        \n",
    "hist.set_peakFlags(pos=True,area=True)\n",
    "hist.refine_peaks()\n",
    "hist.set_peakFlags(pos=True,area=True,sig=True)\n",
    "hist.refine_peaks()"
   ]
  },
  {
   "cell_type": "code",
   "execution_count": null,
   "metadata": {
    "scrolled": true
   },
   "outputs": [],
   "source": []
  },
  {
   "cell_type": "code",
   "execution_count": 28,
   "metadata": {},
   "outputs": [],
   "source": [
    "#hist.set_peakFlags(area=True,pos=True,sig=True)"
   ]
  },
  {
   "cell_type": "code",
   "execution_count": null,
   "metadata": {},
   "outputs": [],
   "source": []
  },
  {
   "cell_type": "code",
   "execution_count": 29,
   "metadata": {},
   "outputs": [
    {
     "data": {
      "image/png": "[encoded data removed]",
      "text/plain": [
       "<Figure size 432x288 with 1 Axes>"
      ]
     },
     "metadata": {
      "needs_background": "light"
     },
     "output_type": "display_data"
    }
   ],
   "source": [
    "\n",
    "plt.xlim([43,44])\n",
    "\n",
    "plt.scatter(hist.data['data'][1][0], hist.data['data'][1][1], label='data', color='0.7')\n",
    "plt.plot(hist.data['data'][1][0], hist.data['data'][1][4], label='background', color='r')\n",
    "plt.plot(hist.data['data'][1][0], hist.data['data'][1][3], label='fit', color='b')\n",
    "plt.xlabel(\"2theta\")\n",
    "plt.ylabel(\"intensity\")\n",
    "plt.legend()\n",
    "plt.show()"
   ]
  },
  {
   "cell_type": "code",
   "execution_count": 30,
   "metadata": {},
   "outputs": [
    {
     "data": {
      "text/plain": [
       "GSASIIscriptable.G2PwdrData"
      ]
     },
     "execution_count": 30,
     "metadata": {},
     "output_type": "execute_result"
    }
   ],
   "source": [
    "type(hist)"
   ]
  },
  {
   "cell_type": "code",
   "execution_count": 31,
   "metadata": {},
   "outputs": [
    {
     "data": {
      "text/plain": [
       "44.513250056494655"
      ]
     },
     "execution_count": 31,
     "metadata": {},
     "output_type": "execute_result"
    }
   ],
   "source": [
    "hist.Peaks['peaks'][0][0]"
   ]
  },
  {
   "cell_type": "code",
   "execution_count": 32,
   "metadata": {},
   "outputs": [
    {
     "name": "stdout",
     "output_type": "stream",
     "text": [
      "164058.3597430937\n",
      "136752.44846765263\n",
      "102886.97085493182\n",
      "18108.583365603565\n",
      "35252.66842485701\n",
      "141817.62846580584\n",
      "71237.97752865855\n",
      "102450.16030845612\n",
      "80829.71606156365\n",
      "12547.736860561366\n",
      "174.37599919579174\n",
      "[[44.513250056494655, 164058.3597430937, 15.513059034395948, 4.115434921160595], [64.75711943488184, 136752.44846765263, 28.39444643637455, 5.96156714417394], [82.03005484533995, 102886.97085493182, 14.89466297827821, 7.92405698374505], [98.56335017926811, 18108.583365603565, 14.454267882659568, 10.384280814099087], [115.8099241726613, 35252.66842485701, 49.45043129292421, 14.062953805326874], [43.47426758520293, 141817.62846580584, 17.845591059008985, 4.029611622445185], [50.66699577893929, 71237.97752865855, 35.97377585341827, 4.639182784607145], [74.46408241451897, 102450.16030845612, 20.251728592824445, 7.006472169966396], [90.41459252494684, 80829.71606156365, 43.592944999848505, 9.079116788325818], [95.64432420562157, 12547.736860561366, 14.256358598529758, 9.892599374995344], [109.1210946822647, 174.37599919579174, -807.7482642838552, 12.448752820887401]]\n"
     ]
    }
   ],
   "source": [
    "for i,value in enumerate(hist.Peaks['peaks']):\n",
    "    print(value[2])\n",
    "    if value[2]<0:\n",
    "        print(hist.Peaks['peaks'][i][2],-value[2])\n",
    "        hist.Peaks['peaks'][i][2]=-value[2]\n",
    "# hist.PeakList[0][0]=0\n",
    "print(hist.PeakList)"
   ]
  },
  {
   "cell_type": "code",
   "execution_count": 33,
   "metadata": {},
   "outputs": [
    {
     "name": "stdout",
     "output_type": "stream",
     "text": [
      "164058.3597430937\n",
      "136752.44846765263\n",
      "102886.97085493182\n",
      "18108.583365603565\n",
      "35252.66842485701\n",
      "141817.62846580584\n",
      "71237.97752865855\n",
      "102450.16030845612\n",
      "80829.71606156365\n",
      "12547.736860561366\n",
      "174.37599919579174\n",
      "[[44.513250056494655, 164058.3597430937, 15.513059034395948, 4.115434921160595], [64.75711943488184, 136752.44846765263, 28.39444643637455, 5.96156714417394], [82.03005484533995, 102886.97085493182, 14.89466297827821, 7.92405698374505], [98.56335017926811, 18108.583365603565, 14.454267882659568, 10.384280814099087], [115.8099241726613, 35252.66842485701, 49.45043129292421, 14.062953805326874], [43.47426758520293, 141817.62846580584, 17.845591059008985, 4.029611622445185], [50.66699577893929, 71237.97752865855, 35.97377585341827, 4.639182784607145], [74.46408241451897, 102450.16030845612, 20.251728592824445, 7.006472169966396], [90.41459252494684, 80829.71606156365, 43.592944999848505, 9.079116788325818], [95.64432420562157, 12547.736860561366, 14.256358598529758, 9.892599374995344], [109.1210946822647, 174.37599919579174, -807.7482642838552, 12.448752820887401]]\n"
     ]
    }
   ],
   "source": [
    "for i,value in enumerate(hist.PeakList):\n",
    "    print(value[1])\n",
    "    if value[1]<0:\n",
    "        print(hist.PeakList[i][1],-value[1])\n",
    "        hist.PeakList[i][1]=-value[1]\n",
    "hist.PeakList[0][0]=0\n",
    "print(hist.PeakList)"
   ]
  },
  {
   "cell_type": "code",
   "execution_count": null,
   "metadata": {},
   "outputs": [],
   "source": []
  },
  {
   "cell_type": "markdown",
   "metadata": {},
   "source": [
    "### Maybe fit entire pattern for lattice parameters, then try peakfitting?\n",
    "- Seems like it works ok in the GUI, but need to allow the phase fraction to be refined (only on one)\n",
    "- Add constraint, (austenite + ferrite  =1) 0:0:scale, 1:0:scale\n",
    "- Need to refine both with the constraint enabled.  \n",
    "- weight fracitons are quite different than the phase fractions (lattice cell dimensions?)\n",
    "- Over estimation of the peak hights at first, then underestimate later\n",
    "- austenite=3.60097, ferrite=2.87564\n",
    "- Tried these parameters, had worse luck fitting...\n",
    "- Maybe use the scale factor from the sample parameters to get the areas close?"
   ]
  },
  {
   "cell_type": "code",
   "execution_count": null,
   "metadata": {},
   "outputs": [],
   "source": []
  },
  {
   "cell_type": "code",
   "execution_count": null,
   "metadata": {},
   "outputs": [],
   "source": []
  },
  {
   "cell_type": "code",
   "execution_count": null,
   "metadata": {},
   "outputs": [],
   "source": []
  },
  {
   "cell_type": "code",
   "execution_count": 34,
   "metadata": {},
   "outputs": [],
   "source": [
    "# Not working properly yet..."
   ]
  },
  {
   "cell_type": "code",
   "execution_count": 35,
   "metadata": {},
   "outputs": [],
   "source": [
    "# print('peak positions: ',[i[0] for i in hist.PeakList])\n",
    "# for i in range(len(hist.Peaks['peaks'])):\n",
    "#     print('peak',i,'pos=',hist.Peaks['peaks'][i][0],'sig=',hist.Peaks['sigDict']['pos'+str(i)])\n"
   ]
  },
  {
   "cell_type": "code",
   "execution_count": 36,
   "metadata": {},
   "outputs": [],
   "source": [
    "# for peak in PeaksList:\n",
    "#     hist.add_peak(1, ttheta=peak)\n",
    "# hist.set_peakFlags(area=True,pos=True,sig=True)\n"
   ]
  },
  {
   "cell_type": "code",
   "execution_count": null,
   "metadata": {},
   "outputs": [],
   "source": []
  },
  {
   "cell_type": "code",
   "execution_count": null,
   "metadata": {},
   "outputs": [],
   "source": []
  },
  {
   "cell_type": "code",
   "execution_count": null,
   "metadata": {},
   "outputs": [],
   "source": []
  },
  {
   "cell_type": "markdown",
   "metadata": {},
   "source": [
    "# pattern simulation, extract intensities from that?\n",
    "https://gsas-ii.readthedocs.io/en/latest/GSASIIscriptable.html#pattern-simulation"
   ]
  },
  {
   "cell_type": "code",
   "execution_count": 41,
   "metadata": {},
   "outputs": [
    {
     "name": "stdout",
     "output_type": "stream",
     "text": [
      "/Users/creuzige/Documents/NIST_Research/GitLab/austenitecalculator/ExampleData/austenite-Duplex.cif read by Reader CIF\n",
      "gpx file saved as /Users/creuzige/Documents/NIST_Research/GitLab/austenitecalculator/SaveData/Austenite-sim.gpx\n",
      "Simulating 1000 points from 5.0 to 120.0 degrees 2theta\n",
      "Instrument parameters read: /Users/creuzige/Documents/NIST_Research/GitLab/austenitecalculator/ExampleData/TestCalibration.instprm (G2 fmt) bank 1\n",
      "gpx file saved as /Users/creuzige/Documents/NIST_Research/GitLab/austenitecalculator/SaveData/Austenite-sim.gpx\n",
      " Hessian Levenberg-Marquardt SVD refinement on 1 variables:\n",
      "initial chi^2 910.33 with 1000 obs.\n",
      "Read from file:/Users/creuzige/Documents/NIST_Research/GitLab/austenitecalculator/SaveData/Austenite-sim.bak0.gpx\n",
      "Save to file  :/Users/creuzige/Documents/NIST_Research/GitLab/austenitecalculator/SaveData/Austenite-sim.gpx\n",
      "GPX file save successful\n",
      " Refinement results are in file: /Users/creuzige/Documents/NIST_Research/GitLab/austenitecalculator/SaveData/Austenite-sim.lst\n",
      " ***** Refinement successful *****\n",
      "gpx file saved as /Users/creuzige/Documents/NIST_Research/GitLab/austenitecalculator/SaveData/Austenite-sim.gpx\n"
     ]
    }
   ],
   "source": [
    "gpx = G2sc.G2Project(newgpx=SaveWrap('Austenite-sim.gpx')) # create a project    \n",
    "\n",
    "PhaseAustenite = gpx.add_phase(DataPathWrap(\"austenite-Duplex.cif\"),\n",
    "         phasename=\"Austenite\",fmthint='CIF')\n",
    "\n",
    "#PhaseFerrite = gpx.add_phase(DataPathWrap(\"ferrite-Duplex.cif\"),\n",
    "#         phasename=\"Ferrite\",fmthint='CIF')\n",
    "\n",
    "# add a simulated histogram and link it to the previous phase(s)\n",
    "hist1 = gpx.add_simulated_powder_histogram(\"Austenite simulation\",\n",
    "            DataPathWrap('TestCalibration.instprm'),5.,120.,Npoints=1000,\n",
    "            phases=gpx.phases(),scale=500000.)\n",
    "gpx.do_refinements()   # calculate pattern\n",
    "gpx.save()"
   ]
  },
  {
   "cell_type": "code",
   "execution_count": 44,
   "metadata": {},
   "outputs": [
    {
     "data": {
      "image/png": "[encoded data removed]",
      "text/plain": [
       "<Figure size 432x288 with 1 Axes>"
      ]
     },
     "metadata": {
      "needs_background": "light"
     },
     "output_type": "display_data"
    }
   ],
   "source": [
    "plt.xlim([40,50])\n",
    "\n",
    "plt.plot(hist1.data['data'][1][0], hist1.data['data'][1][1])\n",
    "plt.xlabel(\"2theta\")\n",
    "plt.ylabel(\"intensity\")\n",
    "plt.show()\n"
   ]
  },
  {
   "cell_type": "code",
   "execution_count": 45,
   "metadata": {},
   "outputs": [
    {
     "name": "stdout",
     "output_type": "stream",
     "text": [
      "/Users/creuzige/Documents/NIST_Research/GitLab/austenitecalculator/ExampleData/ferrite-Duplex.cif read by Reader CIF\n",
      "gpx file saved as /Users/creuzige/Documents/NIST_Research/GitLab/austenitecalculator/SaveData/Ferrite-sim.gpx\n",
      "Simulating 1000 points from 5.0 to 120.0 degrees 2theta\n",
      "Instrument parameters read: /Users/creuzige/Documents/NIST_Research/GitLab/austenitecalculator/ExampleData/TestCalibration.instprm (G2 fmt) bank 1\n",
      "gpx file saved as /Users/creuzige/Documents/NIST_Research/GitLab/austenitecalculator/SaveData/Ferrite-sim.gpx\n",
      " Hessian Levenberg-Marquardt SVD refinement on 1 variables:\n",
      "initial chi^2 922.18 with 1000 obs.\n",
      "Read from file:/Users/creuzige/Documents/NIST_Research/GitLab/austenitecalculator/SaveData/Ferrite-sim.bak0.gpx\n",
      "Save to file  :/Users/creuzige/Documents/NIST_Research/GitLab/austenitecalculator/SaveData/Ferrite-sim.gpx\n",
      "GPX file save successful\n",
      " Refinement results are in file: /Users/creuzige/Documents/NIST_Research/GitLab/austenitecalculator/SaveData/Ferrite-sim.lst\n",
      " ***** Refinement successful *****\n",
      "gpx file saved as /Users/creuzige/Documents/NIST_Research/GitLab/austenitecalculator/SaveData/Ferrite-sim.gpx\n"
     ]
    }
   ],
   "source": [
    "gpx = G2sc.G2Project(newgpx=SaveWrap('Ferrite-sim.gpx')) # create a project    \n",
    "\n",
    "PhaseFerrite = gpx.add_phase(DataPathWrap(\"ferrite-Duplex.cif\"),\n",
    "         phasename=\"Ferrite\",fmthint='CIF')\n",
    "\n",
    "#PhaseFerrite = gpx.add_phase(DataPathWrap(\"ferrite-Duplex.cif\"),\n",
    "#         phasename=\"Ferrite\",fmthint='CIF')\n",
    "\n",
    "# add a simulated histogram and link it to the previous phase(s)\n",
    "hist2 = gpx.add_simulated_powder_histogram(\"Ferrite simulation\",\n",
    "            DataPathWrap('TestCalibration.instprm'),5.,120.,Npoints=1000,\n",
    "            phases=gpx.phases(),scale=500000.)\n",
    "gpx.do_refinements()   # calculate pattern\n",
    "gpx.save()"
   ]
  },
  {
   "cell_type": "code",
   "execution_count": null,
   "metadata": {},
   "outputs": [],
   "source": []
  },
  {
   "cell_type": "markdown",
   "metadata": {},
   "source": [
    "## Used the GUI to investigate this data a bit more.  \n",
    "- Peakfits like I did above seem to work ok.  \n",
    "- Values of integrated intensity are closest to the I100 column of the reflection lists\n",
    "- Intensities and F values between this and the magic spreadsheet don't agree\n",
    "- Compositions are slightly different. Only wt% used in magic spreadsheet."
   ]
  },
  {
   "cell_type": "code",
   "execution_count": null,
   "metadata": {},
   "outputs": [],
   "source": []
  },
  {
   "cell_type": "code",
   "execution_count": null,
   "metadata": {},
   "outputs": [],
   "source": []
  },
  {
   "cell_type": "code",
   "execution_count": 38,
   "metadata": {},
   "outputs": [],
   "source": [
    "### Have not edited below this for austenite calculator"
   ]
  },
  {
   "cell_type": "code",
   "execution_count": null,
   "metadata": {},
   "outputs": [],
   "source": []
  },
  {
   "cell_type": "code",
   "execution_count": 39,
   "metadata": {},
   "outputs": [
    {
     "ename": "NameError",
     "evalue": "name 'TOF_calc' is not defined",
     "output_type": "error",
     "traceback": [
      "\u001b[0;31m---------------------------------------------------------------------------\u001b[0m",
      "\u001b[0;31mNameError\u001b[0m                                 Traceback (most recent call last)",
      "\u001b[0;32m<ipython-input-39-722e2a6bc6ab>\u001b[0m in \u001b[0;36m<module>\u001b[0;34m\u001b[0m\n\u001b[1;32m      2\u001b[0m \u001b[0mTOFlist\u001b[0m\u001b[0;34m=\u001b[0m\u001b[0;34m[\u001b[0m\u001b[0;34m]\u001b[0m\u001b[0;34m\u001b[0m\u001b[0;34m\u001b[0m\u001b[0m\n\u001b[1;32m      3\u001b[0m \u001b[0;32mfor\u001b[0m \u001b[0mi\u001b[0m \u001b[0;32min\u001b[0m \u001b[0mdlist\u001b[0m\u001b[0;34m:\u001b[0m\u001b[0;34m\u001b[0m\u001b[0;34m\u001b[0m\u001b[0m\n\u001b[0;32m----> 4\u001b[0;31m     \u001b[0mprint\u001b[0m\u001b[0;34m(\u001b[0m\u001b[0mTOF_calc\u001b[0m\u001b[0;34m(\u001b[0m\u001b[0mi\u001b[0m\u001b[0;34m,\u001b[0m\u001b[0;36m16324.50\u001b[0m\u001b[0;34m,\u001b[0m\u001b[0;36m6.86\u001b[0m\u001b[0;34m,\u001b[0m\u001b[0;36m0.00\u001b[0m\u001b[0;34m)\u001b[0m\u001b[0;34m)\u001b[0m\u001b[0;34m\u001b[0m\u001b[0;34m\u001b[0m\u001b[0m\n\u001b[0m\u001b[1;32m      5\u001b[0m     \u001b[0mTOFlist\u001b[0m\u001b[0;34m.\u001b[0m\u001b[0mappend\u001b[0m\u001b[0;34m(\u001b[0m\u001b[0mTOF_calc\u001b[0m\u001b[0;34m(\u001b[0m\u001b[0mi\u001b[0m\u001b[0;34m,\u001b[0m\u001b[0;36m16324.50\u001b[0m\u001b[0;34m,\u001b[0m\u001b[0;36m6.86\u001b[0m\u001b[0;34m,\u001b[0m\u001b[0;36m0.00\u001b[0m\u001b[0;34m)\u001b[0m\u001b[0;34m)\u001b[0m\u001b[0;34m\u001b[0m\u001b[0;34m\u001b[0m\u001b[0m\n",
      "\u001b[0;31mNameError\u001b[0m: name 'TOF_calc' is not defined"
     ]
    }
   ],
   "source": [
    "dlist=[2.0923, 2.0923-0.05, 2.0923+0.05]\n",
    "TOFlist=[]\n",
    "for i in dlist:\n",
    "    print(TOF_calc(i,16324.50,6.86,0.00))\n",
    "    TOFlist.append(TOF_calc(i,16324.50,6.86,0.00))"
   ]
  },
  {
   "cell_type": "code",
   "execution_count": null,
   "metadata": {},
   "outputs": [],
   "source": []
  },
  {
   "cell_type": "code",
   "execution_count": null,
   "metadata": {
    "scrolled": true
   },
   "outputs": [],
   "source": [
    "\n",
    "\n",
    "plt.xlim(TOFlist[1],TOFlist[2])\n",
    "plt.plot(hist.data['data'][1][0], hist.data['data'][1][1])\n",
    "plt.show()"
   ]
  },
  {
   "cell_type": "code",
   "execution_count": null,
   "metadata": {},
   "outputs": [],
   "source": []
  },
  {
   "cell_type": "code",
   "execution_count": null,
   "metadata": {},
   "outputs": [],
   "source": [
    "def OutputData(hist, append, Tick, LowLimit, HighLimit):\n",
    "    # plot fit and difference\n",
    "    plt.figure(figsize=[10,8])\n",
    "    plt.scatter(hist.data['data'][1][0], hist.data['data'][1][1],color='k',label='Data')\n",
    "    plt.plot(hist.data['data'][1][0], hist.data['data'][1][3],color='b',label='Computed Intensity')\n",
    "    plt.plot(hist.data['data'][1][0], hist.data['data'][1][5],'-o',color='g',label='Difference')\n",
    "    # vertical line for place of intial guess\n",
    "    plt.vlines(Tick,0,plt.gca().get_ylim()[0]*0.5)\n",
    "    # horizontal line to benchmark difference plot\n",
    "    plt.hlines(0,plt.gca().get_xlim()[0],plt.gca().get_xlim()[1],'0.7')\n",
    "    plt.xlim(LowLimit, HighLimit)\n",
    "    plt.legend()\n",
    "    # option to view on screen\n",
    "    #plt.show()\n",
    "    # option to save the plot\n",
    "    plt.savefig(\"GSASPeakFit-\"+append+\".png\", dpi=300)\n",
    "\n",
    "    keys = hist.Peaks['sigDict'].keys()\n",
    "    #print(keys)\n",
    "    with open(\"GSASPeakFit-\"+append+\".csv\",'a') as fd:\n",
    "        wr=csv.writer(fd)\n",
    "        dwr=csv.DictWriter(fd, keys)\n",
    "\n",
    "        wr.writerow(['# TOF position (pos)', 'Area (int)','Alpha (alp)','Beta (bet)','Sigma (sig)','Gamma (gam)'])\n",
    "        wr.writerow(['# Peak Parameter List'])\n",
    "        wr.writerow(['# Peak Parameter Flags'])\n",
    "        wr.writerow(hist.Peaks['peaks'][0][0::2])\n",
    "        wr.writerow(hist.Peaks['peaks'][0][1::2])\n",
    "        wr.writerow([\"########################\"])\n",
    "        wr.writerow(['# Background Values'])\n",
    "        wr.writerow(hist['Background'][0][3:])\n",
    "        wr.writerow([\"########################\"])\n",
    "        wr.writerow(['# SigDict Keys'])\n",
    "        wr.writerow(['# SigDict Values'])\n",
    "        dwr.writeheader()\n",
    "        dwr.writerows([hist.Peaks['sigDict']])\n",
    "        wr.writerow([\"########################\"])\n",
    "        wr.writerow(['# Covariance Matrix'])\n",
    "        wr.writerows(np.array(hist['Peak Fit Result'][1]))\n",
    "        wr.writerow([\"########################\"])        \n",
    "        wr.writerow(['# Correlation Matrix'])\n",
    "        wr.writerows(np.corrcoef(hist['Peak Fit Result'][1]))\n",
    "        wr.writerow([\"########################\"])        \n",
    "        wr.writerow(['# Reduced ChiSq (GOF)'])\n",
    "        wr.writerow([hist.data['Peak Fit Rvals']['GOF']])\n",
    "        wr.writerow([\"########################\"])   \n",
    "        wr.writerow(['# Dspacing (1 term) -/+ (3 terms)'])\n",
    "        try:\n",
    "            d=Dspace_calc(hist.Peaks['peaks'][0][0],16324.50,6.86,0.00)\n",
    "            d_minus=Dspace_calc(hist.Peaks['peaks'][0][0]-hist.Peaks['sigDict']['pos0'],16324.50,6.86,0.00)\n",
    "            d_plus=Dspace_calc(hist.Peaks['peaks'][0][0]+hist.Peaks['sigDict']['pos0'],16324.50,6.86,0.00)\n",
    "            wr.writerow([d,d_minus,d_plus])\n",
    "            wr.writerow([d,d-d_minus,d_plus-d])\n",
    "        except:\n",
    "            wr.writerow([Dspace_calc(hist.Peaks['peaks'][0][0],16324.50,6.86,0.00)])             \n",
    "    fd.close()"
   ]
  },
  {
   "cell_type": "code",
   "execution_count": null,
   "metadata": {},
   "outputs": [],
   "source": [
    "for i in range(len(hist.Peaks['peaks'])):\n",
    "    print(i)"
   ]
  },
  {
   "cell_type": "code",
   "execution_count": null,
   "metadata": {},
   "outputs": [],
   "source": [
    "hist['Background'][0][3:]"
   ]
  },
  {
   "cell_type": "code",
   "execution_count": null,
   "metadata": {},
   "outputs": [],
   "source": [
    "hist.Peaks['peaks'][0][0::2]"
   ]
  },
  {
   "cell_type": "code",
   "execution_count": null,
   "metadata": {},
   "outputs": [],
   "source": [
    "hist.Peaks['sigDict']"
   ]
  },
  {
   "cell_type": "code",
   "execution_count": null,
   "metadata": {},
   "outputs": [],
   "source": [
    "#OutputData(hist, \"\", TOFlist[0],TOFlist[1],TOFlist[2])\n",
    "# Doesn't work well prior to fitting"
   ]
  },
  {
   "cell_type": "code",
   "execution_count": null,
   "metadata": {},
   "outputs": [],
   "source": []
  },
  {
   "cell_type": "markdown",
   "metadata": {},
   "source": [
    "# Sequence 1, following Rawplot method"
   ]
  },
  {
   "cell_type": "code",
   "execution_count": null,
   "metadata": {},
   "outputs": [],
   "source": []
  },
  {
   "cell_type": "code",
   "execution_count": null,
   "metadata": {},
   "outputs": [],
   "source": [
    "# Define peaks to fit\n",
    "#Limit is between the 422 and 333 peaks\n",
    "\n",
    "hist.set_refinements({'Limits': [TOFlist[1],TOFlist[2]],  \n",
    "      'Background': {\"no. coeffs\": 2,'type': 'chebyschev-1', 'refine': True}\n",
    "                     })\n",
    "# TOF data isn't listed right now.\n",
    "peak1 = hist.add_peak(1, dspace=2.0923)\n",
    "\n",
    "\n"
   ]
  },
  {
   "cell_type": "code",
   "execution_count": null,
   "metadata": {
    "scrolled": false
   },
   "outputs": [],
   "source": [
    "# Following Rawplot method (seq1)\n",
    "\n",
    "#area alone doesn't work well, since there is no positions\n",
    "hist.set_peakFlags(area=True)\n",
    "hist.refine_peaks()\n",
    "OutputData(hist, \"Seq1-Step1-Area\",TOFlist[0],TOFlist[1],TOFlist[2])\n",
    "\n",
    "#\n",
    "hist.set_peakFlags(area=0,pos=True)\n",
    "hist.refine_peaks()\n",
    "OutputData(hist, \"Seq1-Step2-Pos\",TOFlist[0],TOFlist[1],TOFlist[2])\n",
    "\n",
    "hist.set_peakFlags(area=True,pos=True)\n",
    "hist.refine_peaks()\n",
    "OutputData(hist, \"Seq1-Step3-Pos-Area\",TOFlist[0],TOFlist[1],TOFlist[2])\n",
    "\n",
    "#These don't change sigma and gamma, but they do change alpha and beta...\n",
    "\n",
    "hist.set_peakFlags(area=True, pos=0, sig=True)\n",
    "hist.refine_peaks()\n",
    "OutputData(hist, \"Seq1-Step4-Area-Sig\",TOFlist[0],TOFlist[1],TOFlist[2])\n",
    "\n",
    "#hist.set_peakFlags(area=True, pos=True, gam=True)\n",
    "#hist.refine_peaks()\n",
    "\n",
    "hist.set_peakFlags(area=0, pos=0, sig=0, gam=True)\n",
    "hist.refine_peaks()\n",
    "OutputData(hist, \"Seq1-Step5-Gam\",TOFlist[0],TOFlist[1],TOFlist[2])\n",
    "\n",
    "hist.set_peakFlags(area=True, pos=True, sig=True, gam=0)\n",
    "hist.refine_peaks()\n",
    "OutputData(hist, \"Seq1-Step6-Area-Pos-Sig\",TOFlist[0],TOFlist[1],TOFlist[2])\n",
    "\n",
    "\n",
    "\n",
    "# hist.set_peakFlags(area=True, pos=True,alp=True,bet=True, sig=True, gam=True)\n",
    "# hist.refine_peaks()\n",
    "# OutputData(hist, \"Seq-Area-Pos-Sig-Gam-Alp-Bet\",TOFlist[0],TOFlist[1],TOFlist[2])\n"
   ]
  },
  {
   "cell_type": "code",
   "execution_count": null,
   "metadata": {},
   "outputs": [],
   "source": []
  },
  {
   "cell_type": "markdown",
   "metadata": {},
   "source": [
    "# Sequence 2 (Single background; alpha and beta refined, not gamma)"
   ]
  },
  {
   "cell_type": "code",
   "execution_count": null,
   "metadata": {},
   "outputs": [],
   "source": []
  },
  {
   "cell_type": "code",
   "execution_count": null,
   "metadata": {},
   "outputs": [],
   "source": [
    "# Define peaks to fit\n",
    "#Limit is between the 422 and 333 peaks\n",
    "\n",
    "hist.set_refinements({'Limits': [TOFlist[1],TOFlist[2]],  \n",
    "      'Background': {\"no. coeffs\": 1,'type': 'chebyschev-1', 'refine': True}\n",
    "                     })\n",
    "# TOF data isn't listed right now.\n",
    "peak1 = hist.add_peak(1, dspace=2.0923)\n",
    "\n",
    "\n"
   ]
  },
  {
   "cell_type": "code",
   "execution_count": null,
   "metadata": {
    "scrolled": false
   },
   "outputs": [],
   "source": [
    "# Following Rawplot method (seq2)\n",
    "\n",
    "#area alone doesn't work well, since there is no positions\n",
    "hist.set_peakFlags(area=True)\n",
    "hist.refine_peaks()\n",
    "OutputData(hist, \"Seq2-Step1-Area\",TOFlist[0],TOFlist[1],TOFlist[2])\n",
    "\n",
    "#\n",
    "hist.set_peakFlags(area=0,pos=True)\n",
    "hist.refine_peaks()\n",
    "OutputData(hist, \"Seq2-Step2-Pos\",TOFlist[0],TOFlist[1],TOFlist[2])\n",
    "\n",
    "hist.set_peakFlags(area=True,pos=True)\n",
    "hist.refine_peaks()\n",
    "OutputData(hist, \"Seq2-Step3-Pos-Area\",TOFlist[0],TOFlist[1],TOFlist[2])\n",
    "\n",
    "#These don't change sigma and gamma, but they do change alpha and beta...\n",
    "\n",
    "hist.set_peakFlags(area=True, pos=0, sig=True)\n",
    "hist.refine_peaks()\n",
    "OutputData(hist, \"Seq2-Step4-Area-Sig\",TOFlist[0],TOFlist[1],TOFlist[2])\n",
    "\n",
    "#hist.set_peakFlags(area=True, pos=True, gam=True)\n",
    "#hist.refine_peaks()\n",
    "\n",
    "hist.set_peakFlags(area=0, pos=0, sig=0, alp=True)\n",
    "hist.refine_peaks()\n",
    "OutputData(hist, \"Seq2-Step5-Alp\",TOFlist[0],TOFlist[1],TOFlist[2])\n",
    "\n",
    "hist.set_peakFlags(alp=0, bet=True)\n",
    "hist.refine_peaks()\n",
    "OutputData(hist, \"Seq2-Step6-Bet\",TOFlist[0],TOFlist[1],TOFlist[2])\n",
    "\n",
    "hist.set_peakFlags(area=True, pos=True, sig=True, bet=0)\n",
    "hist.refine_peaks()\n",
    "OutputData(hist, \"Seq2-Step7-Area-Pos-Sig\",TOFlist[0],TOFlist[1],TOFlist[2])\n",
    "\n",
    "\n",
    "\n",
    "# hist.set_peakFlags(area=True, pos=True,alp=True,bet=True, sig=True, gam=True)\n",
    "# hist.refine_peaks()\n",
    "# OutputData(hist, \"Seq-Area-Pos-Sig-Gam-Alp-Bet\",TOFlist[0],TOFlist[1],TOFlist[2])\n"
   ]
  },
  {
   "cell_type": "code",
   "execution_count": null,
   "metadata": {},
   "outputs": [],
   "source": []
  },
  {
   "cell_type": "code",
   "execution_count": null,
   "metadata": {},
   "outputs": [],
   "source": [
    "gpx.get_Covariance(['0:0:Back;0','0:0:Back;1','0:0:pos0','0:0:int0','sig0'])"
   ]
  },
  {
   "cell_type": "code",
   "execution_count": null,
   "metadata": {},
   "outputs": [],
   "source": [
    "hist.keys()"
   ]
  },
  {
   "cell_type": "code",
   "execution_count": null,
   "metadata": {},
   "outputs": [],
   "source": [
    "hist['Background']"
   ]
  },
  {
   "cell_type": "code",
   "execution_count": null,
   "metadata": {},
   "outputs": [],
   "source": [
    "hist['Peak Fit Result'][1]"
   ]
  },
  {
   "cell_type": "code",
   "execution_count": null,
   "metadata": {},
   "outputs": [],
   "source": [
    "np.corrcoef(hist['Peak Fit Result'][1])"
   ]
  },
  {
   "cell_type": "markdown",
   "metadata": {},
   "source": [
    "# Nothing run below this"
   ]
  },
  {
   "cell_type": "code",
   "execution_count": null,
   "metadata": {},
   "outputs": [],
   "source": []
  },
  {
   "cell_type": "code",
   "execution_count": null,
   "metadata": {},
   "outputs": [],
   "source": []
  },
  {
   "cell_type": "code",
   "execution_count": null,
   "metadata": {},
   "outputs": [],
   "source": []
  },
  {
   "cell_type": "code",
   "execution_count": null,
   "metadata": {},
   "outputs": [],
   "source": [
    "hist.Peaks['sigDict']"
   ]
  },
  {
   "cell_type": "code",
   "execution_count": null,
   "metadata": {
    "scrolled": false
   },
   "outputs": [],
   "source": [
    "hist.data"
   ]
  },
  {
   "cell_type": "code",
   "execution_count": null,
   "metadata": {},
   "outputs": [],
   "source": [
    "if 'C' in hist.data['Instrument Parameters'][0]['Type'][0]:\n",
    "    print(\"hi\")\n",
    "else:\n",
    "    print(\"low\")"
   ]
  },
  {
   "cell_type": "code",
   "execution_count": null,
   "metadata": {},
   "outputs": [],
   "source": [
    "hist.data['Peak Fit Rvals']['GOF']"
   ]
  },
  {
   "cell_type": "code",
   "execution_count": null,
   "metadata": {},
   "outputs": [],
   "source": []
  },
  {
   "cell_type": "code",
   "execution_count": null,
   "metadata": {},
   "outputs": [],
   "source": []
  },
  {
   "cell_type": "code",
   "execution_count": null,
   "metadata": {},
   "outputs": [],
   "source": []
  },
  {
   "cell_type": "code",
   "execution_count": null,
   "metadata": {},
   "outputs": [],
   "source": []
  },
  {
   "cell_type": "code",
   "execution_count": null,
   "metadata": {},
   "outputs": [],
   "source": [
    "hist.set_peakFlags(area=True, pos=True, sig=True)\n",
    "hist.refine_peaks()\n",
    "hist.set_peakFlags(area=True, pos=True, gam=True)\n",
    "hist.refine_peaks()\n",
    "hist.set_peakFlags(area=True, pos=True, sig=True, gam=True)\n",
    "hist.refine_peaks()"
   ]
  },
  {
   "cell_type": "code",
   "execution_count": null,
   "metadata": {},
   "outputs": [],
   "source": [
    "print('peak positions: ',[i[0] for i in hist.PeakList])\n",
    "for i in range(len(hist.Peaks['peaks'])):\n",
    "    print('peak',i,'pos=',hist.Peaks['peaks'][i][0],'sig=',hist.Peaks['sigDict']['pos'+str(i)])\n"
   ]
  },
  {
   "cell_type": "code",
   "execution_count": null,
   "metadata": {},
   "outputs": [],
   "source": [
    "hist.Peaks['sigDict']"
   ]
  },
  {
   "cell_type": "code",
   "execution_count": null,
   "metadata": {},
   "outputs": [],
   "source": []
  },
  {
   "cell_type": "code",
   "execution_count": null,
   "metadata": {},
   "outputs": [],
   "source": [
    "# fit peaks\n",
    "plt.plot(hist.data['data'][1][0], hist.data['data'][1][3],label='Computed Intensity')\n",
    "plt.xlim(11752.,40000.)\n",
    "plt.show()"
   ]
  },
  {
   "cell_type": "code",
   "execution_count": null,
   "metadata": {},
   "outputs": [],
   "source": [
    "# fit difference\n",
    "plt.figure(figsize=[10,8])\n",
    "plt.plot(hist.data['data'][1][0], hist.data['data'][1][1],color='k',label='Data')\n",
    "plt.plot(hist.data['data'][1][0], hist.data['data'][1][3],color='b',label='Computed Intensity')\n",
    "plt.plot(hist.data['data'][1][0], hist.data['data'][1][5],color='g',label='Difference')\n",
    "plt.xlim(11752.,40000.)\n",
    "plt.legend()\n",
    "plt.show()"
   ]
  },
  {
   "cell_type": "code",
   "execution_count": null,
   "metadata": {},
   "outputs": [],
   "source": [
    "for i in range(len(hist.Peaks['peaks'])):\n",
    "    print('peak',i)\n",
    "    print('TOF pos=',hist.Peaks['peaks'][i][0],'sig=',hist.Peaks['sigDict']['pos'+str(i)])\n",
    "    print('Dspace pos=', Dspace_calc(hist.Peaks['peaks'][i][0],16324.50,6.86,0.00),\n",
    "          'sig (pos)=',Dspace_calc(hist.Peaks['peaks'][i][0]+hist.Peaks['sigDict']['pos'+str(i)],16324.50,6.86,0.00)-\n",
    "          Dspace_calc(hist.Peaks['peaks'][i][0],16324.50,6.86,0.00),\n",
    "          'sig (neg)=',Dspace_calc(hist.Peaks['peaks'][i][0],16324.50,6.86,0.00)-\n",
    "          Dspace_calc(hist.Peaks['peaks'][i][0]-hist.Peaks['sigDict']['pos'+str(i)],16324.50,6.86,0.00))\n",
    "    \n",
    "    "
   ]
  },
  {
   "cell_type": "code",
   "execution_count": null,
   "metadata": {},
   "outputs": [],
   "source": [
    "print(hist.Peaks)"
   ]
  },
  {
   "cell_type": "markdown",
   "metadata": {},
   "source": [
    "## From GSASIIscriptable.py, lines 4007\n",
    "\n",
    "        :returns: dict with two elements where item\n",
    "          'peaks' is a list of peaks where each element is \n",
    "          [pos,pos-ref,area,area-ref,sig,sig-ref,gam,gam-ref], \n",
    "          where the -ref items are refinement flags and item\n",
    "          'sigDict' is a dict with possible items 'Back;#', \n",
    "          'pos#', 'int#', 'sig#', 'gam#'\n",
    "          \n",
    "Fitting output lists:pos       esd       int       esd      alp     esd     bet     esd      sig       esd       gam       esd      bins\n",
    "\n",
    "The fitting output values correspond to the column values"
   ]
  },
  {
   "cell_type": "code",
   "execution_count": null,
   "metadata": {},
   "outputs": [],
   "source": [
    "#print(hist.Peaks)\n",
    "HistDF=pd.DataFrame(hist.Peaks['peaks'], columns=['pos','pos-ref','area','area-ref','alph',\n",
    "                                                  'alph-ref','bet','bet-ref','Sig','Sig-ref',\n",
    "                                                  'Gam','gam-ref'])\n",
    "print(HistDF)"
   ]
  },
  {
   "cell_type": "code",
   "execution_count": null,
   "metadata": {},
   "outputs": [],
   "source": [
    "print(hist.Peaks['sigDict'])"
   ]
  },
  {
   "cell_type": "code",
   "execution_count": null,
   "metadata": {},
   "outputs": [],
   "source": [
    "SigDF=pd.DataFrame(hist.Peaks['sigDict'])#, columns=['pos','pos-ref','area','area-ref','alph',\n",
    "                                            #      'alph-ref','bet','bet-ref','Sig','Sig-ref',\n",
    "                                            #      'Gam','gam-ref'])\n",
    "print(SigDF)"
   ]
  },
  {
   "cell_type": "code",
   "execution_count": null,
   "metadata": {},
   "outputs": [],
   "source": [
    "DataList=[]\n",
    "for i in range(len(hist.Peaks['peaks'])):\n",
    "    #print('peak',i)\n",
    "    #print('TOF pos=',hist.Peaks['peaks'][i][0],'sig=',hist.Peaks['sigDict']['pos'+str(i)])\n",
    "    DataList.append([i,hist.Peaks['peaks'][i][0],hist.Peaks['sigDict']['pos'+str(i)]])\n",
    "#print(DataList)\n",
    "ListDF=pd.DataFrame(DataList, columns=['Peak index','TOF Pos','TOF esd'])\n",
    "\n",
    "#ListDF['Dspace Pos']=Dspace_calc(ListDF['TOF Pos'],16324.50,6.86,0.00)\n",
    "ListDF['Dspace Pos']=ListDF.apply(lambda x: Dspace_calc(x['TOF Pos'],16324.50,6.86,0.00), axis=1)\n",
    "ListDF['Dspace esd']=ListDF.apply(lambda x: Dspace_calc(x['TOF Pos']+x['TOF esd'],16324.50,6.86,0.00) - \n",
    "                                      Dspace_calc(x['TOF Pos'],16324.50,6.86,0.00), axis=1)\n",
    "print(ListDF)\n",
    "ListDF.to_csv('GSASPeakFit.csv')"
   ]
  },
  {
   "cell_type": "code",
   "execution_count": null,
   "metadata": {},
   "outputs": [],
   "source": [
    "##  See further down on sequential refinements\n",
    "# Sequential Refinement\n",
    "\n",
    "# gpx.set_Controls('cycles',10)"
   ]
  },
  {
   "cell_type": "code",
   "execution_count": null,
   "metadata": {},
   "outputs": [],
   "source": []
  },
  {
   "cell_type": "code",
   "execution_count": null,
   "metadata": {},
   "outputs": [],
   "source": []
  }
 ],
 "metadata": {
  "kernelspec": {
   "display_name": "Python 3",
   "language": "python",
   "name": "python3"
  },
  "language_info": {
   "codemirror_mode": {
    "name": "ipython",
    "version": 3
   },
   "file_extension": ".py",
   "mimetype": "text/x-python",
   "name": "python",
   "nbconvert_exporter": "python",
   "pygments_lexer": "ipython3",
   "version": "3.7.7"
  }
 },
 "nbformat": 4,
 "nbformat_minor": 4
}
