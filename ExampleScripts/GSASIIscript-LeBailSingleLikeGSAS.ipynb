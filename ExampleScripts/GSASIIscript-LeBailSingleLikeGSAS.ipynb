{
 "cells": [
  {
   "cell_type": "code",
   "execution_count": null,
   "metadata": {},
   "outputs": [],
   "source": [
    "#pip install PySPG"
   ]
  },
  {
   "cell_type": "code",
   "execution_count": 1,
   "metadata": {},
   "outputs": [],
   "source": [
    "# following tutorial at\n",
    "# https://gsas-ii.readthedocs.io/en/latest/GSASIIscriptable.html#peak-fitting"
   ]
  },
  {
   "cell_type": "code",
   "execution_count": 2,
   "metadata": {},
   "outputs": [
    {
     "name": "stdout",
     "output_type": "stream",
     "text": [
      "GSAS-II binary directory: /Users/creuzige/gsas2full/envs/gsas2pkg/GSASII/bindist\n",
      "7 values read from config file /Users/creuzige/gsas2full/envs/gsas2pkg/GSASII/config.py\n"
     ]
    }
   ],
   "source": [
    "import os,sys\n",
    "import matplotlib.pyplot as plt\n",
    "#import pandas as pd  # AC got a 'no module named pandas' error.  Do we need it?\n",
    "import numpy as np\n",
    "import math\n",
    "import csv\n",
    "\n",
    "# Eventually we'll have to find a common pathway, for now just change if this is commented out.\n",
    "#sys.path.insert(0,'/Users/dtn1/gsas2full/GSASII/') # needed to \"find\" GSAS-II modules\n",
    "sys.path.insert(0,'/Users/creuzige/gsas2full/envs/gsas2pkg/GSASII/') # needed to \"find\" GSAS-II modules\n",
    "\n",
    "import GSASIIscriptable as G2sc"
   ]
  },
  {
   "cell_type": "code",
   "execution_count": 3,
   "metadata": {},
   "outputs": [],
   "source": [
    "ScriptDirectory=os.getcwd()\n",
    "GitLabDirectory=os.path.dirname(os.getcwd())\n",
    "ExampleDataDirectory=os.path.join(GitLabDirectory,\"ExampleData\")\n",
    "SaveDataDirectory=os.path.join(GitLabDirectory,\"SaveData\")"
   ]
  },
  {
   "cell_type": "code",
   "execution_count": 4,
   "metadata": {},
   "outputs": [
    {
     "data": {
      "text/plain": [
       "'/Users/creuzige/Documents/NIST_Research/GitLab/austenitecalculator'"
      ]
     },
     "execution_count": 4,
     "metadata": {},
     "output_type": "execute_result"
    }
   ],
   "source": [
    "GitLabDirectory"
   ]
  },
  {
   "cell_type": "code",
   "execution_count": 5,
   "metadata": {
    "scrolled": false
   },
   "outputs": [
    {
     "name": "stdout",
     "output_type": "stream",
     "text": [
      "/Users/creuzige/Documents/NIST_Research/GitLab/austenitecalculator/ExampleData/Gonio_BB-HD-Cu_Gallipix3d[30-120]_New_Control_proper power.xrdml block # 1 read by Reader Panalytical xrdml (xml)\n",
      "Instrument parameters read: /Users/creuzige/Documents/NIST_Research/GitLab/austenitecalculator/ExampleData/TestCalibration.instprm (G2 fmt) bank 1\n"
     ]
    }
   ],
   "source": [
    "\n",
    "datadir = os.path.expanduser(ExampleDataDirectory)\n",
    "SaveDir= os.path.expanduser(SaveDataDirectory)\n",
    "DataPathWrap = lambda fil: os.path.join(datadir,fil)\n",
    "SaveWrap = lambda fil: os.path.join(SaveDir,fil)\n",
    "gpx = G2sc.G2Project(newgpx=SaveWrap('pkfit.gpx'))\n",
    "hist = gpx.add_powder_histogram(DataPathWrap('Gonio_BB-HD-Cu_Gallipix3d[30-120]_New_Control_proper power.xrdml'),\n",
    "                                DataPathWrap('TestCalibration.instprm'), # need to get a \n",
    "                                fmthint='Panalytical xrdml (xml)', databank=1, instbank=1)"
   ]
  },
  {
   "cell_type": "code",
   "execution_count": 6,
   "metadata": {},
   "outputs": [],
   "source": [
    "# Exploring the data structure.\n",
    "# For more details see the developers documentation \n",
    "# https://gsas-ii.readthedocs.io/en/latest/index.html"
   ]
  },
  {
   "cell_type": "code",
   "execution_count": 7,
   "metadata": {
    "scrolled": true
   },
   "outputs": [],
   "source": [
    "#hist.data['data'][0]['hId']\n",
    "#hist.data['Comments']\n",
    "#hist['data']['hId'].data"
   ]
  },
  {
   "cell_type": "code",
   "execution_count": 8,
   "metadata": {
    "scrolled": true
   },
   "outputs": [],
   "source": [
    "#len(hist.data['data']) # 3 objects\n",
    "\n",
    "#hist.data['data'][0] # dict: with some kind of meta-info?\n",
    "#hist.data['data'][1] # np.array: see below\n",
    "#hist.data['data'][2] # string: file name"
   ]
  },
  {
   "cell_type": "markdown",
   "metadata": {},
   "source": [
    "# From: https://gsas-ii.readthedocs.io/en/latest/GSASIIobj.html?highlight=Powder%20Diffraction%20Tree#powder-diffraction-tree-items\n",
    "    \n",
    "    Data \t\t\n",
    "\n",
    "(list) The data consist of a list of 6 np.arrays containing in order:\n",
    "\n",
    "    the x-postions (two-theta in degrees),\n",
    "    the intensity values (Yobs),\n",
    "    the weights for each Yobs value\n",
    "    the computed intensity values (Ycalc)\n",
    "    the background values\n",
    "    Yobs-Ycalc\n"
   ]
  },
  {
   "cell_type": "code",
   "execution_count": 9,
   "metadata": {},
   "outputs": [
    {
     "data": {
      "image/png": "[encoded data removed]",
      "text/plain": [
       "<Figure size 432x288 with 1 Axes>"
      ]
     },
     "metadata": {
      "needs_background": "light"
     },
     "output_type": "display_data"
    }
   ],
   "source": [
    "plt.plot(hist.data['data'][1][0], hist.data['data'][1][1])\n",
    "plt.xlabel(\"2theta\")\n",
    "plt.ylabel(\"intensity\")\n",
    "plt.show()\n"
   ]
  },
  {
   "cell_type": "markdown",
   "metadata": {},
   "source": [
    "## Add phases to the project"
   ]
  },
  {
   "cell_type": "code",
   "execution_count": 10,
   "metadata": {},
   "outputs": [
    {
     "name": "stdout",
     "output_type": "stream",
     "text": [
      "/Users/creuzige/Documents/NIST_Research/GitLab/austenitecalculator/ExampleData/austenite-Duplex.cif read by Reader CIF\n",
      "gpx file saved as /Users/creuzige/Documents/NIST_Research/GitLab/austenitecalculator/SaveData/pkfit.gpx\n",
      "/Users/creuzige/Documents/NIST_Research/GitLab/austenitecalculator/ExampleData/ferrite-Duplex.cif read by Reader CIF\n",
      "gpx file saved as /Users/creuzige/Documents/NIST_Research/GitLab/austenitecalculator/SaveData/pkfit.gpx\n"
     ]
    }
   ],
   "source": [
    "PhaseAustenite = gpx.add_phase(DataPathWrap(\"austenite-Duplex.cif\"),\n",
    "         phasename=\"Austenite\",fmthint='CIF')\n",
    "\n",
    "PhaseFerrite = gpx.add_phase(DataPathWrap(\"ferrite-Duplex.cif\"),\n",
    "         phasename=\"Ferrite\",fmthint='CIF')"
   ]
  },
  {
   "cell_type": "code",
   "execution_count": 11,
   "metadata": {},
   "outputs": [],
   "source": [
    "## Guess locations for peaks based on lattice parameter"
   ]
  },
  {
   "cell_type": "code",
   "execution_count": 12,
   "metadata": {},
   "outputs": [],
   "source": [
    "# Read the lattice parameter \n",
    "a0_Austenite=PhaseAustenite.data['General']['Cell'][1]\n",
    "a0_Ferrite=PhaseFerrite.data['General']['Cell'][1]"
   ]
  },
  {
   "cell_type": "code",
   "execution_count": null,
   "metadata": {},
   "outputs": [],
   "source": []
  },
  {
   "cell_type": "code",
   "execution_count": 13,
   "metadata": {},
   "outputs": [],
   "source": [
    "# Find the ka1 wavelength\n",
    "# hist.data['Comments']\n",
    "\n",
    "Ka1_wavelength=float([s for s in hist.data['Comments'] if s.startswith('Ka1')][0].split('=')[1])\n",
    "\n",
    "# Hardcode for testing\n",
    "#Ka1_wavelength=2.29092 # Cr wavelength for testing"
   ]
  },
  {
   "cell_type": "code",
   "execution_count": null,
   "metadata": {},
   "outputs": [],
   "source": []
  },
  {
   "cell_type": "markdown",
   "metadata": {},
   "source": [
    "# Calculate locations of peaks from .cif file\n",
    "\n"
   ]
  },
  {
   "cell_type": "markdown",
   "metadata": {},
   "source": [
    "## Bragg diffraction\n",
    "n * lambda=2 * d * sin(theta)"
   ]
  },
  {
   "cell_type": "code",
   "execution_count": 14,
   "metadata": {},
   "outputs": [],
   "source": [
    "#hardcoding HKL lists for now, likely better ways to do this later...\n",
    "HKL_BCC=[[1,1,0],[2,0,0],[2,1,1],[2,2,0],[3,1,0],[2,2,2],[3,2,1],[4,1,1]]\n",
    "HKL_FCC=[[1,1,1],[2,0,0],[2,2,0],[3,1,1],[2,2,2],[4,0,0],[3,3,1],[4,2,0],[4,2,2]]"
   ]
  },
  {
   "cell_type": "code",
   "execution_count": 15,
   "metadata": {},
   "outputs": [],
   "source": [
    "#for hkl in HKL_BCC:\n",
    "#    d=(a0_Ferrite/ math.sqrt(hkl[0]*hkl[0]+hkl[1]*hkl[1]+hkl[2]*hkl[2]))   \n",
    "    \n",
    "d_BCC=[a0_Ferrite/ math.sqrt(hkl[0]*hkl[0]+hkl[1]*hkl[1]+hkl[2]*hkl[2]) for hkl in HKL_BCC]\n",
    "SinTheta_BCC=[1*Ka1_wavelength/(2*d) for d in d_BCC]\n",
    "\n",
    "d_FCC=[a0_Austenite/ math.sqrt(hkl[0]*hkl[0]+hkl[1]*hkl[1]+hkl[2]*hkl[2]) for hkl in HKL_FCC]\n",
    "SinTheta_FCC=[1*Ka1_wavelength/(2*d) for d in d_FCC]"
   ]
  },
  {
   "cell_type": "code",
   "execution_count": 16,
   "metadata": {},
   "outputs": [],
   "source": [
    "# Create a list of 2Theta values from the dspacing and wavelength. Mark any non-physical values with np.nan\n",
    "TwoTheta_BCC=[np.nan]*len(SinTheta_BCC)\n",
    "for i,value in enumerate(SinTheta_BCC):\n",
    "    #print(value)\n",
    "    try:\n",
    "        TwoTheta_BCC[i]=(2*math.degrees(math.asin(value)))\n",
    "    except:\n",
    "        TwoTheta_BCC[i]=(np.nan)\n",
    "#print(TwoTheta_BCC)\n",
    "#print(HKL_BCC)       \n",
    "        \n",
    "TwoTheta_FCC=[np.nan]*len(SinTheta_FCC)\n",
    "for i,value in enumerate(SinTheta_FCC):\n",
    "    #print(value)\n",
    "    try:\n",
    "        TwoTheta_FCC[i]=(2*math.degrees(math.asin(value)))\n",
    "    except:\n",
    "        TwoTheta_FCC[i]=(np.nan)\n",
    "#print(TwoTheta_FCC)\n",
    "#print(HKL_FCC)\n",
    "\n"
   ]
  },
  {
   "cell_type": "code",
   "execution_count": 17,
   "metadata": {},
   "outputs": [],
   "source": [
    "# Create a list of TwoTheta in the data range\n",
    "#print(max(hist.data['data'][1][0]))\n",
    "\n",
    "TwoThetaInRange_BCC=[np.nan if i > max(hist.data['data'][1][0]) else i for i in TwoTheta_BCC]\n",
    "TwoThetaInRange_BCC=[np.nan if i < min(hist.data['data'][1][0]) else i for i in TwoThetaInRange_BCC]\n",
    "\n",
    "TwoThetaInRange_FCC=[np.nan if i > max(hist.data['data'][1][0]) else i for i in TwoTheta_FCC]\n",
    "TwoThetaInRange_FCC=[np.nan if i < min(hist.data['data'][1][0]) else i for i in TwoThetaInRange_FCC]\n",
    "\n",
    "\n",
    "#print(TwoTheta_FCC)\n",
    "#print(TwoThetaInRange_FCC)\n",
    "\n"
   ]
  },
  {
   "cell_type": "code",
   "execution_count": 18,
   "metadata": {},
   "outputs": [],
   "source": [
    "PeaksList=[]\n",
    "PeaksList = np.array(TwoThetaInRange_BCC)[~np.isnan(np.array(TwoThetaInRange_BCC))]\n",
    "PeaksList = np.concatenate((PeaksList,\n",
    "                           np.array(TwoThetaInRange_FCC)[~np.isnan(np.array(TwoThetaInRange_FCC))]),\n",
    "                           axis=0)\n",
    "PeaksList=list(PeaksList)\n",
    "# Don't sort, it actually makes keeping track of the different items harder...\n",
    "# PeaksList.sort()"
   ]
  },
  {
   "cell_type": "code",
   "execution_count": 19,
   "metadata": {},
   "outputs": [
    {
     "name": "stdout",
     "output_type": "stream",
     "text": [
      "[44.25400504560493, 64.37327635613593, 81.44495562762073, 97.75788776253452, 114.75469634990064, 43.20474072132704, 50.31626972156883, 73.91288231727276, 89.65561531281976, 94.83876690428124, 116.47470981868203]\n"
     ]
    }
   ],
   "source": [
    "print(PeaksList)"
   ]
  },
  {
   "cell_type": "code",
   "execution_count": null,
   "metadata": {},
   "outputs": [],
   "source": []
  },
  {
   "cell_type": "code",
   "execution_count": 20,
   "metadata": {},
   "outputs": [],
   "source": [
    "#CIF is slightly off, kludge for now...\n",
    "# Likely need to refine, adjust lattice parameters and start over again with peaks with non-negative intensities\n",
    "# Or fix the negative intensities...\n",
    "PeaksList=[x+0.5 for x in PeaksList]"
   ]
  },
  {
   "cell_type": "code",
   "execution_count": null,
   "metadata": {},
   "outputs": [],
   "source": []
  },
  {
   "cell_type": "code",
   "execution_count": 21,
   "metadata": {},
   "outputs": [],
   "source": [
    "# reset the peak list in case of errors...\n",
    "hist.Peaks['peaks']=[]"
   ]
  },
  {
   "cell_type": "markdown",
   "metadata": {},
   "source": [
    "## Start Fitting"
   ]
  },
  {
   "cell_type": "code",
   "execution_count": null,
   "metadata": {
    "scrolled": true
   },
   "outputs": [],
   "source": []
  },
  {
   "cell_type": "code",
   "execution_count": null,
   "metadata": {},
   "outputs": [],
   "source": []
  },
  {
   "cell_type": "code",
   "execution_count": 22,
   "metadata": {},
   "outputs": [
    {
     "name": "stdout",
     "output_type": "stream",
     "text": [
      "Number of function calls: 7 Number of observations: 3140 Number of parameters: 5\n",
      "fitpeak time =    0.029s,    0.010s/cycle\n",
      "Rwp =   34.25%, chi**2 =       940533, reduced chi**2 = 300.01\n",
      "Background coefficients for chebyschev-1 function\n",
      "value:   2358.63862  -324.96757   298.54077  -102.21858    74.60512\n",
      "esd  :     18.76352    30.97063    29.62959    24.74965    24.56130\n"
     ]
    }
   ],
   "source": [
    "hist.set_refinements({'Background': {\"no. coeffs\": 5,'type': 'chebyschev-1', 'refine': True}})\n",
    "hist.refine_peaks()"
   ]
  },
  {
   "cell_type": "code",
   "execution_count": 23,
   "metadata": {},
   "outputs": [
    {
     "data": {
      "image/png": "[encoded data removed]",
      "text/plain": [
       "<Figure size 432x288 with 1 Axes>"
      ]
     },
     "metadata": {
      "needs_background": "light"
     },
     "output_type": "display_data"
    }
   ],
   "source": [
    "plt.scatter(hist.data['data'][1][0], hist.data['data'][1][1], label='data', color='0.7')\n",
    "plt.plot(hist.data['data'][1][0], hist.data['data'][1][4], label='background', color='r')\n",
    "plt.plot(hist.data['data'][1][0], hist.data['data'][1][3], label='fit', color='b')\n",
    "plt.xlabel(\"2theta\")\n",
    "plt.ylabel(\"intensity\")\n",
    "plt.legend()\n",
    "plt.show()"
   ]
  },
  {
   "cell_type": "markdown",
   "metadata": {},
   "source": [
    "## Add a few peaks to the list\n",
    "\n",
    "- It seems like the peak positions are slightly off from the .cif file (about 0.4°)\n",
    "- This results in negative intensities for some of the higher peaks\n",
    "- Maybe look for maxima?  Or a series of fit sequences?\n",
    "- Error check negative peaks?"
   ]
  },
  {
   "cell_type": "code",
   "execution_count": 24,
   "metadata": {},
   "outputs": [],
   "source": [
    "#for peak in PeaksList[0:5]:\n",
    "for peak in PeaksList:\n",
    "    hist.add_peak(1, ttheta=peak)\n",
    "\n",
    "\n"
   ]
  },
  {
   "cell_type": "code",
   "execution_count": null,
   "metadata": {},
   "outputs": [],
   "source": []
  },
  {
   "cell_type": "code",
   "execution_count": 25,
   "metadata": {},
   "outputs": [
    {
     "name": "stdout",
     "output_type": "stream",
     "text": [
      "Number of function calls: 3 Number of observations: 3140 Number of parameters: 16\n",
      "fitpeak time =    0.066s,    0.066s/cycle\n",
      "Rwp =   28.95%, chi**2 =       672146, reduced chi**2 = 215.16\n",
      "Background coefficients for chebyschev-1 function\n",
      "value:   2311.08818  -323.81198   342.87760  -107.65019    48.45557\n",
      "esd  :     16.57061    27.42416    26.27250    21.77779    21.35645\n",
      "Peak coefficients:\n",
      "                pos       esd       int       esd       sig       esd       gam       esd      bins  \n",
      " Peak1   :  44.75401              9125.1    2013.7    18.465               4.135               4.35\n",
      " Peak2   :  64.87328             74308.4    3907.9    21.509               5.973               5.03\n",
      " Peak3   :  81.94496             62278.8    3760.9    24.894               7.913               5.75\n",
      " Peak4   :  98.25789              5673.8    2404.5    29.372              10.331               6.67\n",
      " Peak5   : 115.25470              6928.1    2832.1    36.560              13.918               8.04\n",
      " Peak6   :  43.70474             10728.1    2065.7    18.325               4.049               4.32\n",
      " Peak7   :  50.81627             26010.7    2678.1    19.305               4.652               4.54\n",
      " Peak8   :  74.41288             83950.4    4179.1    23.279               7.001               5.41\n",
      " Peak9   :  90.15562             22298.7    2746.9    26.946               9.041               6.18\n",
      " Peak10  :  95.33877              4477.4    2325.8    28.443               9.843               6.48\n",
      " Peak11  : 116.97471               -51.8    2798.0    37.527              14.376               8.22\n",
      "Number of function calls: 15 Number of observations: 3140 Number of parameters: 27\n",
      "fitpeak time =    0.271s,    0.039s/cycle\n",
      "Rwp =    4.45%, chi**2 =      15891.4, reduced chi**2 =   5.10\n",
      "Background coefficients for chebyschev-1 function\n",
      "value:   2259.52911  -320.55850   351.14344  -122.73812    81.57627\n",
      "esd  :      2.50137     4.14048     3.94018     3.29848     3.25750\n",
      "Peak coefficients:\n",
      "                pos       esd       int       esd       sig       esd       gam       esd      bins  \n",
      " Peak1   :  44.51322   0.00044  164400.4     829.1    18.433               4.115               4.34\n",
      " Peak2   :  64.75727   0.00059  135471.2     768.5    21.489               5.962               5.02\n",
      " Peak3   :  82.03033   0.00076  103314.4     712.4    24.913               7.924               5.76\n",
      " Peak4   :  98.56370   0.00316   18626.9     451.2    29.473              10.384               6.69\n",
      " Peak5   : 115.80979   0.00256   34624.0     576.4    36.866              14.063               8.10\n",
      " Peak6   :  43.47426   0.00047  141840.2     775.3    18.295               4.030               4.31\n",
      " Peak7   :  50.66688   0.00082   68729.7     573.2    19.284               4.639               4.53\n",
      " Peak8   :  74.46407   0.00074  102740.4     700.1    23.289               7.006               5.41\n",
      " Peak9   :  90.41506   0.00101   78917.8     648.7    27.016               9.079               6.19\n",
      " Peak10  :  95.64351   0.00415   12952.2     416.2    28.537               9.892               6.50\n",
      " Peak11  : 109.36714   3.28475     -93.0     382.1    33.646              12.503               7.50\n",
      "Number of function calls: 4 Number of observations: 3140 Number of parameters: 38\n",
      "fitpeak time =    0.093s,    0.046s/cycle\n",
      "Rwp =    3.81%, chi**2 =      11658.4, reduced chi**2 =   3.76\n",
      "Background coefficients for chebyschev-1 function\n",
      "value:   2258.72184  -321.98736   351.08048  -125.66297    82.47624\n",
      "esd  :      2.15304     3.56243     3.39470     2.84447     2.80935\n",
      "Peak coefficients:\n",
      "                pos       esd       int       esd       sig       esd       gam       esd      bins  \n",
      " Peak1   :  44.51325   0.00036  164058.4     712.6    15.513     0.321     4.115               4.34\n",
      " Peak2   :  64.75712   0.00056  136752.4     667.9    28.394     0.625     5.962               5.02\n",
      " Peak3   :  82.03005   0.00055  102887.0     611.0    14.895     0.494     7.924               5.76\n",
      " Peak4   :  98.56335   0.00220   18108.6     395.6    14.454     2.349    10.384               6.69\n",
      " Peak5   : 115.80992   0.00239   35252.7     528.4    49.450     4.005    14.063               8.10\n",
      " Peak6   :  43.47427   0.00041  141817.6     669.2    17.846     0.402     4.030               4.31\n",
      " Peak7   :  50.66700   0.00083   71238.0     516.2    35.974     1.228     4.639               4.53\n",
      " Peak8   :  74.46408   0.00060  102450.2     603.1    20.252     0.555     7.006               5.41\n",
      " Peak9   :  90.41459   0.00104   80829.7     574.9    43.593     1.376     9.079               6.19\n",
      " Peak10  :  95.64432   0.00288   12547.7     367.5    14.256     2.990     9.893               6.50\n",
      " Peak11  : 109.12109   0.15125     174.4     319.9  -807.748    57.128    12.449               7.48\n"
     ]
    }
   ],
   "source": [
    "# Need to use this order, otherwise fitting gets unstable\n",
    "hist.set_peakFlags(area=True)\n",
    "hist.refine_peaks()\n",
    "\n",
    "# Resetting the value doesn't seem to work...\n",
    "# for i,value in enumerate(hist.Peaks['peaks']):\n",
    "#     print(value[2])\n",
    "#     if value[2]<0:\n",
    "#         print(hist.Peaks['peaks'][i][2],-value[2])\n",
    "#         hist.Peaks['peaks'][i][2]=-value[2]\n",
    "        \n",
    "# hist.set_peakFlags(pos=True)\n",
    "# hist.refine_peaks()\n",
    "        \n",
    "hist.set_peakFlags(pos=True,area=True)\n",
    "hist.refine_peaks()\n",
    "hist.set_peakFlags(pos=True,area=True,sig=True)\n",
    "hist.refine_peaks()"
   ]
  },
  {
   "cell_type": "code",
   "execution_count": null,
   "metadata": {
    "scrolled": true
   },
   "outputs": [],
   "source": []
  },
  {
   "cell_type": "code",
   "execution_count": 26,
   "metadata": {},
   "outputs": [],
   "source": [
    "#hist.set_peakFlags(area=True,pos=True,sig=True)"
   ]
  },
  {
   "cell_type": "code",
   "execution_count": null,
   "metadata": {},
   "outputs": [],
   "source": []
  },
  {
   "cell_type": "code",
   "execution_count": 27,
   "metadata": {},
   "outputs": [
    {
     "data": {
      "image/png": "[encoded data removed]",
      "text/plain": [
       "<Figure size 432x288 with 1 Axes>"
      ]
     },
     "metadata": {
      "needs_background": "light"
     },
     "output_type": "display_data"
    }
   ],
   "source": [
    "\n",
    "plt.xlim([40,140])\n",
    "\n",
    "plt.scatter(hist.data['data'][1][0], hist.data['data'][1][1], label='data', color='0.7')\n",
    "plt.plot(hist.data['data'][1][0], hist.data['data'][1][4], label='background', color='r')\n",
    "plt.plot(hist.data['data'][1][0], hist.data['data'][1][3], label='fit', color='b')\n",
    "plt.xlabel(\"2theta\")\n",
    "plt.ylabel(\"intensity\")\n",
    "plt.legend()\n",
    "plt.show()"
   ]
  },
  {
   "cell_type": "code",
   "execution_count": null,
   "metadata": {},
   "outputs": [],
   "source": [
    "type(hist)"
   ]
  },
  {
   "cell_type": "code",
   "execution_count": null,
   "metadata": {},
   "outputs": [],
   "source": [
    "hist.Peaks['peaks'][0][0]"
   ]
  },
  {
   "cell_type": "code",
   "execution_count": null,
   "metadata": {},
   "outputs": [],
   "source": [
    "for i,value in enumerate(hist.Peaks['peaks']):\n",
    "    print(value[2])\n",
    "    if value[2]<0:\n",
    "        print(hist.Peaks['peaks'][i][2],-value[2])\n",
    "        hist.Peaks['peaks'][i][2]=-value[2]\n",
    "# hist.PeakList[0][0]=0\n",
    "print(hist.PeakList)"
   ]
  },
  {
   "cell_type": "code",
   "execution_count": null,
   "metadata": {},
   "outputs": [],
   "source": [
    "for i,value in enumerate(hist.PeakList):\n",
    "    print(value[1])\n",
    "    if value[1]<0:\n",
    "        print(hist.PeakList[i][1],-value[1])\n",
    "        hist.PeakList[i][1]=-value[1]\n",
    "hist.PeakList[0][0]=0\n",
    "print(hist.PeakList)"
   ]
  },
  {
   "cell_type": "code",
   "execution_count": null,
   "metadata": {},
   "outputs": [],
   "source": [
    "# Not working properly yet..."
   ]
  },
  {
   "cell_type": "code",
   "execution_count": null,
   "metadata": {},
   "outputs": [],
   "source": [
    "# print('peak positions: ',[i[0] for i in hist.PeakList])\n",
    "# for i in range(len(hist.Peaks['peaks'])):\n",
    "#     print('peak',i,'pos=',hist.Peaks['peaks'][i][0],'sig=',hist.Peaks['sigDict']['pos'+str(i)])\n"
   ]
  },
  {
   "cell_type": "code",
   "execution_count": null,
   "metadata": {},
   "outputs": [],
   "source": [
    "# for peak in PeaksList:\n",
    "#     hist.add_peak(1, ttheta=peak)\n",
    "# hist.set_peakFlags(area=True,pos=True,sig=True)\n"
   ]
  },
  {
   "cell_type": "code",
   "execution_count": null,
   "metadata": {},
   "outputs": [],
   "source": []
  },
  {
   "cell_type": "code",
   "execution_count": null,
   "metadata": {},
   "outputs": [],
   "source": []
  },
  {
   "cell_type": "code",
   "execution_count": null,
   "metadata": {},
   "outputs": [],
   "source": []
  },
  {
   "cell_type": "code",
   "execution_count": null,
   "metadata": {},
   "outputs": [],
   "source": [
    "## TODO: ADD pattern simulation, extract intensities from that?"
   ]
  },
  {
   "cell_type": "code",
   "execution_count": null,
   "metadata": {},
   "outputs": [],
   "source": []
  },
  {
   "cell_type": "code",
   "execution_count": null,
   "metadata": {},
   "outputs": [],
   "source": [
    "### Have not edited below this for austenite calculator"
   ]
  },
  {
   "cell_type": "code",
   "execution_count": null,
   "metadata": {},
   "outputs": [],
   "source": []
  },
  {
   "cell_type": "code",
   "execution_count": null,
   "metadata": {},
   "outputs": [],
   "source": [
    "dlist=[2.0923, 2.0923-0.05, 2.0923+0.05]\n",
    "TOFlist=[]\n",
    "for i in dlist:\n",
    "    print(TOF_calc(i,16324.50,6.86,0.00))\n",
    "    TOFlist.append(TOF_calc(i,16324.50,6.86,0.00))"
   ]
  },
  {
   "cell_type": "code",
   "execution_count": null,
   "metadata": {},
   "outputs": [],
   "source": []
  },
  {
   "cell_type": "code",
   "execution_count": null,
   "metadata": {
    "scrolled": true
   },
   "outputs": [],
   "source": [
    "\n",
    "\n",
    "plt.xlim(TOFlist[1],TOFlist[2])\n",
    "plt.plot(hist.data['data'][1][0], hist.data['data'][1][1])\n",
    "plt.show()"
   ]
  },
  {
   "cell_type": "code",
   "execution_count": null,
   "metadata": {},
   "outputs": [],
   "source": []
  },
  {
   "cell_type": "code",
   "execution_count": null,
   "metadata": {},
   "outputs": [],
   "source": [
    "def OutputData(hist, append, Tick, LowLimit, HighLimit):\n",
    "    # plot fit and difference\n",
    "    plt.figure(figsize=[10,8])\n",
    "    plt.scatter(hist.data['data'][1][0], hist.data['data'][1][1],color='k',label='Data')\n",
    "    plt.plot(hist.data['data'][1][0], hist.data['data'][1][3],color='b',label='Computed Intensity')\n",
    "    plt.plot(hist.data['data'][1][0], hist.data['data'][1][5],'-o',color='g',label='Difference')\n",
    "    # vertical line for place of intial guess\n",
    "    plt.vlines(Tick,0,plt.gca().get_ylim()[0]*0.5)\n",
    "    # horizontal line to benchmark difference plot\n",
    "    plt.hlines(0,plt.gca().get_xlim()[0],plt.gca().get_xlim()[1],'0.7')\n",
    "    plt.xlim(LowLimit, HighLimit)\n",
    "    plt.legend()\n",
    "    # option to view on screen\n",
    "    #plt.show()\n",
    "    # option to save the plot\n",
    "    plt.savefig(\"GSASPeakFit-\"+append+\".png\", dpi=300)\n",
    "\n",
    "    keys = hist.Peaks['sigDict'].keys()\n",
    "    #print(keys)\n",
    "    with open(\"GSASPeakFit-\"+append+\".csv\",'a') as fd:\n",
    "        wr=csv.writer(fd)\n",
    "        dwr=csv.DictWriter(fd, keys)\n",
    "\n",
    "        wr.writerow(['# TOF position (pos)', 'Area (int)','Alpha (alp)','Beta (bet)','Sigma (sig)','Gamma (gam)'])\n",
    "        wr.writerow(['# Peak Parameter List'])\n",
    "        wr.writerow(['# Peak Parameter Flags'])\n",
    "        wr.writerow(hist.Peaks['peaks'][0][0::2])\n",
    "        wr.writerow(hist.Peaks['peaks'][0][1::2])\n",
    "        wr.writerow([\"########################\"])\n",
    "        wr.writerow(['# Background Values'])\n",
    "        wr.writerow(hist['Background'][0][3:])\n",
    "        wr.writerow([\"########################\"])\n",
    "        wr.writerow(['# SigDict Keys'])\n",
    "        wr.writerow(['# SigDict Values'])\n",
    "        dwr.writeheader()\n",
    "        dwr.writerows([hist.Peaks['sigDict']])\n",
    "        wr.writerow([\"########################\"])\n",
    "        wr.writerow(['# Covariance Matrix'])\n",
    "        wr.writerows(np.array(hist['Peak Fit Result'][1]))\n",
    "        wr.writerow([\"########################\"])        \n",
    "        wr.writerow(['# Correlation Matrix'])\n",
    "        wr.writerows(np.corrcoef(hist['Peak Fit Result'][1]))\n",
    "        wr.writerow([\"########################\"])        \n",
    "        wr.writerow(['# Reduced ChiSq (GOF)'])\n",
    "        wr.writerow([hist.data['Peak Fit Rvals']['GOF']])\n",
    "        wr.writerow([\"########################\"])   \n",
    "        wr.writerow(['# Dspacing (1 term) -/+ (3 terms)'])\n",
    "        try:\n",
    "            d=Dspace_calc(hist.Peaks['peaks'][0][0],16324.50,6.86,0.00)\n",
    "            d_minus=Dspace_calc(hist.Peaks['peaks'][0][0]-hist.Peaks['sigDict']['pos0'],16324.50,6.86,0.00)\n",
    "            d_plus=Dspace_calc(hist.Peaks['peaks'][0][0]+hist.Peaks['sigDict']['pos0'],16324.50,6.86,0.00)\n",
    "            wr.writerow([d,d_minus,d_plus])\n",
    "            wr.writerow([d,d-d_minus,d_plus-d])\n",
    "        except:\n",
    "            wr.writerow([Dspace_calc(hist.Peaks['peaks'][0][0],16324.50,6.86,0.00)])             \n",
    "    fd.close()"
   ]
  },
  {
   "cell_type": "code",
   "execution_count": null,
   "metadata": {},
   "outputs": [],
   "source": [
    "for i in range(len(hist.Peaks['peaks'])):\n",
    "    print(i)"
   ]
  },
  {
   "cell_type": "code",
   "execution_count": null,
   "metadata": {},
   "outputs": [],
   "source": [
    "hist['Background'][0][3:]"
   ]
  },
  {
   "cell_type": "code",
   "execution_count": null,
   "metadata": {},
   "outputs": [],
   "source": [
    "hist.Peaks['peaks'][0][0::2]"
   ]
  },
  {
   "cell_type": "code",
   "execution_count": null,
   "metadata": {},
   "outputs": [],
   "source": [
    "hist.Peaks['sigDict']"
   ]
  },
  {
   "cell_type": "code",
   "execution_count": null,
   "metadata": {},
   "outputs": [],
   "source": [
    "#OutputData(hist, \"\", TOFlist[0],TOFlist[1],TOFlist[2])\n",
    "# Doesn't work well prior to fitting"
   ]
  },
  {
   "cell_type": "code",
   "execution_count": null,
   "metadata": {},
   "outputs": [],
   "source": []
  },
  {
   "cell_type": "markdown",
   "metadata": {},
   "source": [
    "# Sequence 1, following Rawplot method"
   ]
  },
  {
   "cell_type": "code",
   "execution_count": null,
   "metadata": {},
   "outputs": [],
   "source": []
  },
  {
   "cell_type": "code",
   "execution_count": null,
   "metadata": {},
   "outputs": [],
   "source": [
    "# Define peaks to fit\n",
    "#Limit is between the 422 and 333 peaks\n",
    "\n",
    "hist.set_refinements({'Limits': [TOFlist[1],TOFlist[2]],  \n",
    "      'Background': {\"no. coeffs\": 2,'type': 'chebyschev-1', 'refine': True}\n",
    "                     })\n",
    "# TOF data isn't listed right now.\n",
    "peak1 = hist.add_peak(1, dspace=2.0923)\n",
    "\n",
    "\n"
   ]
  },
  {
   "cell_type": "code",
   "execution_count": null,
   "metadata": {
    "scrolled": false
   },
   "outputs": [],
   "source": [
    "# Following Rawplot method (seq1)\n",
    "\n",
    "#area alone doesn't work well, since there is no positions\n",
    "hist.set_peakFlags(area=True)\n",
    "hist.refine_peaks()\n",
    "OutputData(hist, \"Seq1-Step1-Area\",TOFlist[0],TOFlist[1],TOFlist[2])\n",
    "\n",
    "#\n",
    "hist.set_peakFlags(area=0,pos=True)\n",
    "hist.refine_peaks()\n",
    "OutputData(hist, \"Seq1-Step2-Pos\",TOFlist[0],TOFlist[1],TOFlist[2])\n",
    "\n",
    "hist.set_peakFlags(area=True,pos=True)\n",
    "hist.refine_peaks()\n",
    "OutputData(hist, \"Seq1-Step3-Pos-Area\",TOFlist[0],TOFlist[1],TOFlist[2])\n",
    "\n",
    "#These don't change sigma and gamma, but they do change alpha and beta...\n",
    "\n",
    "hist.set_peakFlags(area=True, pos=0, sig=True)\n",
    "hist.refine_peaks()\n",
    "OutputData(hist, \"Seq1-Step4-Area-Sig\",TOFlist[0],TOFlist[1],TOFlist[2])\n",
    "\n",
    "#hist.set_peakFlags(area=True, pos=True, gam=True)\n",
    "#hist.refine_peaks()\n",
    "\n",
    "hist.set_peakFlags(area=0, pos=0, sig=0, gam=True)\n",
    "hist.refine_peaks()\n",
    "OutputData(hist, \"Seq1-Step5-Gam\",TOFlist[0],TOFlist[1],TOFlist[2])\n",
    "\n",
    "hist.set_peakFlags(area=True, pos=True, sig=True, gam=0)\n",
    "hist.refine_peaks()\n",
    "OutputData(hist, \"Seq1-Step6-Area-Pos-Sig\",TOFlist[0],TOFlist[1],TOFlist[2])\n",
    "\n",
    "\n",
    "\n",
    "# hist.set_peakFlags(area=True, pos=True,alp=True,bet=True, sig=True, gam=True)\n",
    "# hist.refine_peaks()\n",
    "# OutputData(hist, \"Seq-Area-Pos-Sig-Gam-Alp-Bet\",TOFlist[0],TOFlist[1],TOFlist[2])\n"
   ]
  },
  {
   "cell_type": "code",
   "execution_count": null,
   "metadata": {},
   "outputs": [],
   "source": []
  },
  {
   "cell_type": "markdown",
   "metadata": {},
   "source": [
    "# Sequence 2 (Single background; alpha and beta refined, not gamma)"
   ]
  },
  {
   "cell_type": "code",
   "execution_count": null,
   "metadata": {},
   "outputs": [],
   "source": []
  },
  {
   "cell_type": "code",
   "execution_count": null,
   "metadata": {},
   "outputs": [],
   "source": [
    "# Define peaks to fit\n",
    "#Limit is between the 422 and 333 peaks\n",
    "\n",
    "hist.set_refinements({'Limits': [TOFlist[1],TOFlist[2]],  \n",
    "      'Background': {\"no. coeffs\": 1,'type': 'chebyschev-1', 'refine': True}\n",
    "                     })\n",
    "# TOF data isn't listed right now.\n",
    "peak1 = hist.add_peak(1, dspace=2.0923)\n",
    "\n",
    "\n"
   ]
  },
  {
   "cell_type": "code",
   "execution_count": null,
   "metadata": {
    "scrolled": false
   },
   "outputs": [],
   "source": [
    "# Following Rawplot method (seq2)\n",
    "\n",
    "#area alone doesn't work well, since there is no positions\n",
    "hist.set_peakFlags(area=True)\n",
    "hist.refine_peaks()\n",
    "OutputData(hist, \"Seq2-Step1-Area\",TOFlist[0],TOFlist[1],TOFlist[2])\n",
    "\n",
    "#\n",
    "hist.set_peakFlags(area=0,pos=True)\n",
    "hist.refine_peaks()\n",
    "OutputData(hist, \"Seq2-Step2-Pos\",TOFlist[0],TOFlist[1],TOFlist[2])\n",
    "\n",
    "hist.set_peakFlags(area=True,pos=True)\n",
    "hist.refine_peaks()\n",
    "OutputData(hist, \"Seq2-Step3-Pos-Area\",TOFlist[0],TOFlist[1],TOFlist[2])\n",
    "\n",
    "#These don't change sigma and gamma, but they do change alpha and beta...\n",
    "\n",
    "hist.set_peakFlags(area=True, pos=0, sig=True)\n",
    "hist.refine_peaks()\n",
    "OutputData(hist, \"Seq2-Step4-Area-Sig\",TOFlist[0],TOFlist[1],TOFlist[2])\n",
    "\n",
    "#hist.set_peakFlags(area=True, pos=True, gam=True)\n",
    "#hist.refine_peaks()\n",
    "\n",
    "hist.set_peakFlags(area=0, pos=0, sig=0, alp=True)\n",
    "hist.refine_peaks()\n",
    "OutputData(hist, \"Seq2-Step5-Alp\",TOFlist[0],TOFlist[1],TOFlist[2])\n",
    "\n",
    "hist.set_peakFlags(alp=0, bet=True)\n",
    "hist.refine_peaks()\n",
    "OutputData(hist, \"Seq2-Step6-Bet\",TOFlist[0],TOFlist[1],TOFlist[2])\n",
    "\n",
    "hist.set_peakFlags(area=True, pos=True, sig=True, bet=0)\n",
    "hist.refine_peaks()\n",
    "OutputData(hist, \"Seq2-Step7-Area-Pos-Sig\",TOFlist[0],TOFlist[1],TOFlist[2])\n",
    "\n",
    "\n",
    "\n",
    "# hist.set_peakFlags(area=True, pos=True,alp=True,bet=True, sig=True, gam=True)\n",
    "# hist.refine_peaks()\n",
    "# OutputData(hist, \"Seq-Area-Pos-Sig-Gam-Alp-Bet\",TOFlist[0],TOFlist[1],TOFlist[2])\n"
   ]
  },
  {
   "cell_type": "code",
   "execution_count": null,
   "metadata": {},
   "outputs": [],
   "source": []
  },
  {
   "cell_type": "code",
   "execution_count": null,
   "metadata": {},
   "outputs": [],
   "source": [
    "gpx.get_Covariance(['0:0:Back;0','0:0:Back;1','0:0:pos0','0:0:int0','sig0'])"
   ]
  },
  {
   "cell_type": "code",
   "execution_count": null,
   "metadata": {},
   "outputs": [],
   "source": [
    "hist.keys()"
   ]
  },
  {
   "cell_type": "code",
   "execution_count": null,
   "metadata": {},
   "outputs": [],
   "source": [
    "hist['Background']"
   ]
  },
  {
   "cell_type": "code",
   "execution_count": null,
   "metadata": {},
   "outputs": [],
   "source": [
    "hist['Peak Fit Result'][1]"
   ]
  },
  {
   "cell_type": "code",
   "execution_count": null,
   "metadata": {},
   "outputs": [],
   "source": [
    "np.corrcoef(hist['Peak Fit Result'][1])"
   ]
  },
  {
   "cell_type": "markdown",
   "metadata": {},
   "source": [
    "# Nothing run below this"
   ]
  },
  {
   "cell_type": "code",
   "execution_count": null,
   "metadata": {},
   "outputs": [],
   "source": []
  },
  {
   "cell_type": "code",
   "execution_count": null,
   "metadata": {},
   "outputs": [],
   "source": []
  },
  {
   "cell_type": "code",
   "execution_count": null,
   "metadata": {},
   "outputs": [],
   "source": []
  },
  {
   "cell_type": "code",
   "execution_count": null,
   "metadata": {},
   "outputs": [],
   "source": [
    "hist.Peaks['sigDict']"
   ]
  },
  {
   "cell_type": "code",
   "execution_count": null,
   "metadata": {
    "scrolled": false
   },
   "outputs": [],
   "source": [
    "hist.data"
   ]
  },
  {
   "cell_type": "code",
   "execution_count": null,
   "metadata": {},
   "outputs": [],
   "source": [
    "if 'C' in hist.data['Instrument Parameters'][0]['Type'][0]:\n",
    "    print(\"hi\")\n",
    "else:\n",
    "    print(\"low\")"
   ]
  },
  {
   "cell_type": "code",
   "execution_count": null,
   "metadata": {},
   "outputs": [],
   "source": [
    "hist.data['Peak Fit Rvals']['GOF']"
   ]
  },
  {
   "cell_type": "code",
   "execution_count": null,
   "metadata": {},
   "outputs": [],
   "source": []
  },
  {
   "cell_type": "code",
   "execution_count": null,
   "metadata": {},
   "outputs": [],
   "source": []
  },
  {
   "cell_type": "code",
   "execution_count": null,
   "metadata": {},
   "outputs": [],
   "source": []
  },
  {
   "cell_type": "code",
   "execution_count": null,
   "metadata": {},
   "outputs": [],
   "source": []
  },
  {
   "cell_type": "code",
   "execution_count": null,
   "metadata": {},
   "outputs": [],
   "source": [
    "hist.set_peakFlags(area=True, pos=True, sig=True)\n",
    "hist.refine_peaks()\n",
    "hist.set_peakFlags(area=True, pos=True, gam=True)\n",
    "hist.refine_peaks()\n",
    "hist.set_peakFlags(area=True, pos=True, sig=True, gam=True)\n",
    "hist.refine_peaks()"
   ]
  },
  {
   "cell_type": "code",
   "execution_count": null,
   "metadata": {},
   "outputs": [],
   "source": [
    "print('peak positions: ',[i[0] for i in hist.PeakList])\n",
    "for i in range(len(hist.Peaks['peaks'])):\n",
    "    print('peak',i,'pos=',hist.Peaks['peaks'][i][0],'sig=',hist.Peaks['sigDict']['pos'+str(i)])\n"
   ]
  },
  {
   "cell_type": "code",
   "execution_count": null,
   "metadata": {},
   "outputs": [],
   "source": [
    "hist.Peaks['sigDict']"
   ]
  },
  {
   "cell_type": "code",
   "execution_count": null,
   "metadata": {},
   "outputs": [],
   "source": []
  },
  {
   "cell_type": "code",
   "execution_count": null,
   "metadata": {},
   "outputs": [],
   "source": [
    "# fit peaks\n",
    "plt.plot(hist.data['data'][1][0], hist.data['data'][1][3],label='Computed Intensity')\n",
    "plt.xlim(11752.,40000.)\n",
    "plt.show()"
   ]
  },
  {
   "cell_type": "code",
   "execution_count": null,
   "metadata": {},
   "outputs": [],
   "source": [
    "# fit difference\n",
    "plt.figure(figsize=[10,8])\n",
    "plt.plot(hist.data['data'][1][0], hist.data['data'][1][1],color='k',label='Data')\n",
    "plt.plot(hist.data['data'][1][0], hist.data['data'][1][3],color='b',label='Computed Intensity')\n",
    "plt.plot(hist.data['data'][1][0], hist.data['data'][1][5],color='g',label='Difference')\n",
    "plt.xlim(11752.,40000.)\n",
    "plt.legend()\n",
    "plt.show()"
   ]
  },
  {
   "cell_type": "code",
   "execution_count": null,
   "metadata": {},
   "outputs": [],
   "source": [
    "for i in range(len(hist.Peaks['peaks'])):\n",
    "    print('peak',i)\n",
    "    print('TOF pos=',hist.Peaks['peaks'][i][0],'sig=',hist.Peaks['sigDict']['pos'+str(i)])\n",
    "    print('Dspace pos=', Dspace_calc(hist.Peaks['peaks'][i][0],16324.50,6.86,0.00),\n",
    "          'sig (pos)=',Dspace_calc(hist.Peaks['peaks'][i][0]+hist.Peaks['sigDict']['pos'+str(i)],16324.50,6.86,0.00)-\n",
    "          Dspace_calc(hist.Peaks['peaks'][i][0],16324.50,6.86,0.00),\n",
    "          'sig (neg)=',Dspace_calc(hist.Peaks['peaks'][i][0],16324.50,6.86,0.00)-\n",
    "          Dspace_calc(hist.Peaks['peaks'][i][0]-hist.Peaks['sigDict']['pos'+str(i)],16324.50,6.86,0.00))\n",
    "    \n",
    "    "
   ]
  },
  {
   "cell_type": "code",
   "execution_count": null,
   "metadata": {},
   "outputs": [],
   "source": [
    "print(hist.Peaks)"
   ]
  },
  {
   "cell_type": "markdown",
   "metadata": {},
   "source": [
    "## From GSASIIscriptable.py, lines 4007\n",
    "\n",
    "        :returns: dict with two elements where item\n",
    "          'peaks' is a list of peaks where each element is \n",
    "          [pos,pos-ref,area,area-ref,sig,sig-ref,gam,gam-ref], \n",
    "          where the -ref items are refinement flags and item\n",
    "          'sigDict' is a dict with possible items 'Back;#', \n",
    "          'pos#', 'int#', 'sig#', 'gam#'\n",
    "          \n",
    "Fitting output lists:pos       esd       int       esd      alp     esd     bet     esd      sig       esd       gam       esd      bins\n",
    "\n",
    "The fitting output values correspond to the column values"
   ]
  },
  {
   "cell_type": "code",
   "execution_count": null,
   "metadata": {},
   "outputs": [],
   "source": [
    "#print(hist.Peaks)\n",
    "HistDF=pd.DataFrame(hist.Peaks['peaks'], columns=['pos','pos-ref','area','area-ref','alph',\n",
    "                                                  'alph-ref','bet','bet-ref','Sig','Sig-ref',\n",
    "                                                  'Gam','gam-ref'])\n",
    "print(HistDF)"
   ]
  },
  {
   "cell_type": "code",
   "execution_count": null,
   "metadata": {},
   "outputs": [],
   "source": [
    "print(hist.Peaks['sigDict'])"
   ]
  },
  {
   "cell_type": "code",
   "execution_count": null,
   "metadata": {},
   "outputs": [],
   "source": [
    "SigDF=pd.DataFrame(hist.Peaks['sigDict'])#, columns=['pos','pos-ref','area','area-ref','alph',\n",
    "                                            #      'alph-ref','bet','bet-ref','Sig','Sig-ref',\n",
    "                                            #      'Gam','gam-ref'])\n",
    "print(SigDF)"
   ]
  },
  {
   "cell_type": "code",
   "execution_count": null,
   "metadata": {},
   "outputs": [],
   "source": [
    "DataList=[]\n",
    "for i in range(len(hist.Peaks['peaks'])):\n",
    "    #print('peak',i)\n",
    "    #print('TOF pos=',hist.Peaks['peaks'][i][0],'sig=',hist.Peaks['sigDict']['pos'+str(i)])\n",
    "    DataList.append([i,hist.Peaks['peaks'][i][0],hist.Peaks['sigDict']['pos'+str(i)]])\n",
    "#print(DataList)\n",
    "ListDF=pd.DataFrame(DataList, columns=['Peak index','TOF Pos','TOF esd'])\n",
    "\n",
    "#ListDF['Dspace Pos']=Dspace_calc(ListDF['TOF Pos'],16324.50,6.86,0.00)\n",
    "ListDF['Dspace Pos']=ListDF.apply(lambda x: Dspace_calc(x['TOF Pos'],16324.50,6.86,0.00), axis=1)\n",
    "ListDF['Dspace esd']=ListDF.apply(lambda x: Dspace_calc(x['TOF Pos']+x['TOF esd'],16324.50,6.86,0.00) - \n",
    "                                      Dspace_calc(x['TOF Pos'],16324.50,6.86,0.00), axis=1)\n",
    "print(ListDF)\n",
    "ListDF.to_csv('GSASPeakFit.csv')"
   ]
  },
  {
   "cell_type": "code",
   "execution_count": null,
   "metadata": {},
   "outputs": [],
   "source": [
    "##  See further down on sequential refinements\n",
    "# Sequential Refinement\n",
    "\n",
    "# gpx.set_Controls('cycles',10)"
   ]
  },
  {
   "cell_type": "code",
   "execution_count": null,
   "metadata": {},
   "outputs": [],
   "source": []
  },
  {
   "cell_type": "code",
   "execution_count": null,
   "metadata": {},
   "outputs": [],
   "source": []
  }
 ],
 "metadata": {
  "kernelspec": {
   "display_name": "Python 3",
   "language": "python",
   "name": "python3"
  },
  "language_info": {
   "codemirror_mode": {
    "name": "ipython",
    "version": 3
   },
   "file_extension": ".py",
   "mimetype": "text/x-python",
   "name": "python",
   "nbconvert_exporter": "python",
   "pygments_lexer": "ipython3",
   "version": "3.7.7"
  }
 },
 "nbformat": 4,
 "nbformat_minor": 4
}
