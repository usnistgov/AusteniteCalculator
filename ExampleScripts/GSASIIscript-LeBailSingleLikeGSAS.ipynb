{
 "cells": [
  {
   "cell_type": "code",
   "execution_count": 108,
   "metadata": {},
   "outputs": [],
   "source": [
    "#pip install PySPG"
   ]
  },
  {
   "cell_type": "code",
   "execution_count": 109,
   "metadata": {},
   "outputs": [],
   "source": [
    "# following tutorial at\n",
    "# https://gsas-ii.readthedocs.io/en/latest/GSASIIscriptable.html#peak-fitting"
   ]
  },
  {
   "cell_type": "code",
   "execution_count": 110,
   "metadata": {},
   "outputs": [
    {
     "name": "stdout",
     "output_type": "stream",
     "text": [
      "Max's Computer\n"
     ]
    }
   ],
   "source": [
    "import os,sys\n",
    "import matplotlib.pyplot as plt\n",
    "#import pandas as pd  # AC got a 'no module named pandas' error.  Do we need it?\n",
    "import numpy as np\n",
    "import math\n",
    "import csv\n",
    "import re\n",
    "\n",
    "# Eventually we'll have to find a common pathway, for now just change if this is commented out.\n",
    "\n",
    "if re.search('dtn1',os.getcwd()) is not None:\n",
    "    print(\"David's computer\")\n",
    "    sys.path.insert(0,'/Users/dtn1/gsas2full/GSASII/') # needed to \"find\" GSAS-II modules\n",
    "\n",
    "elif re.search('creuzige',os.getcwd()) is not None:\n",
    "    print(\"Adam's computer\")\n",
    "    sys.path.insert(0,'/Users/creuzige/gsas2full/envs/gsas2pkg/GSASII/') # needed to \"find\" GSAS-II modules\n",
    "\n",
    "elif re.search('maxgarman', os.getcwd()) is not None:\n",
    "    print(\"Max's Computer\")\n",
    "    sys.path.insert(0, '../opt/anaconda3/GSASII')\n",
    "\n",
    "import GSASIIscriptable as G2sc"
   ]
  },
  {
   "cell_type": "code",
   "execution_count": 111,
   "metadata": {},
   "outputs": [],
   "source": [
    "ScriptDirectory=os.getcwd()\n",
    "GitLabDirectory=os.path.dirname(os.getcwd())\n",
    "ExampleDataDirectory=os.path.join(GitLabDirectory,\"ExampleData\")\n",
    "SaveDataDirectory=os.path.join(GitLabDirectory,\"SaveData\")"
   ]
  },
  {
   "cell_type": "code",
   "execution_count": 112,
   "metadata": {},
   "outputs": [
    {
     "data": {
      "text/plain": [
       "'/Users/maxgarman/AusteniteCalculator'"
      ]
     },
     "execution_count": 112,
     "metadata": {},
     "output_type": "execute_result"
    }
   ],
   "source": [
    "GitLabDirectory"
   ]
  },
  {
   "cell_type": "code",
   "execution_count": 113,
   "metadata": {
    "scrolled": false
   },
   "outputs": [
    {
     "name": "stdout",
     "output_type": "stream",
     "text": [
      "/Users/maxgarman/AusteniteCalculator/ExampleData/Gonio_BB-HD-Cu_Gallipix3d[30-120]_New_Control_proper power.xrdml block # 1 read by Reader Panalytical xrdml (xml)\n",
      "Instrument parameters read: /Users/maxgarman/AusteniteCalculator/ExampleData/TestCalibration.instprm (G2 fmt) bank 1\n"
     ]
    }
   ],
   "source": [
    "\n",
    "datadir = os.path.expanduser(ExampleDataDirectory)\n",
    "SaveDir= os.path.expanduser(SaveDataDirectory)\n",
    "DataPathWrap = lambda fil: os.path.join(datadir,fil)\n",
    "SaveWrap = lambda fil: os.path.join(SaveDir,fil)\n",
    "gpx = G2sc.G2Project(newgpx=SaveWrap('pkfit.gpx'))\n",
    "hist = gpx.add_powder_histogram(DataPathWrap('Gonio_BB-HD-Cu_Gallipix3d[30-120]_New_Control_proper power.xrdml'),\n",
    "                                DataPathWrap('TestCalibration.instprm'), # need to get a \n",
    "                                fmthint='Panalytical xrdml (xml)', databank=1, instbank=1)"
   ]
  },
  {
   "cell_type": "code",
   "execution_count": 114,
   "metadata": {},
   "outputs": [],
   "source": [
    "# Exploring the data structure.\n",
    "# For more details see the developers documentation \n",
    "# https://gsas-ii.readthedocs.io/en/latest/index.html"
   ]
  },
  {
   "cell_type": "code",
   "execution_count": 115,
   "metadata": {
    "scrolled": true
   },
   "outputs": [],
   "source": [
    "#hist.data['data'][0]['hId']\n",
    "#hist.data['Comments']\n",
    "#hist['data']['hId'].data"
   ]
  },
  {
   "cell_type": "code",
   "execution_count": 116,
   "metadata": {
    "scrolled": true
   },
   "outputs": [],
   "source": [
    "#len(hist.data['data']) # 3 objects\n",
    "\n",
    "#hist.data['data'][0] # dict: with some kind of meta-info?\n",
    "#hist.data['data'][1] # np.array: see below\n",
    "#hist.data['data'][2] # string: file name"
   ]
  },
  {
   "cell_type": "markdown",
   "metadata": {},
   "source": [
    "# From: https://gsas-ii.readthedocs.io/en/latest/GSASIIobj.html?highlight=Powder%20Diffraction%20Tree#powder-diffraction-tree-items\n",
    "    \n",
    "    Data \t\t\n",
    "\n",
    "(list) The data consist of a list of 6 np.arrays containing in order:\n",
    "\n",
    "    the x-postions (two-theta in degrees),\n",
    "    the intensity values (Yobs),\n",
    "    the weights for each Yobs value\n",
    "    the computed intensity values (Ycalc)\n",
    "    the background values\n",
    "    Yobs-Ycalc\n"
   ]
  },
  {
   "cell_type": "code",
   "execution_count": 117,
   "metadata": {},
   "outputs": [
    {
     "data": {
      "image/png": "[encoded data removed]",
      "text/plain": [
       "<Figure size 432x288 with 1 Axes>"
      ]
     },
     "metadata": {
      "needs_background": "light"
     },
     "output_type": "display_data"
    }
   ],
   "source": [
    "plt.plot(hist.data['data'][1][0], hist.data['data'][1][1])\n",
    "plt.xlabel(\"2theta\")\n",
    "plt.ylabel(\"intensity\")\n",
    "plt.show()\n"
   ]
  },
  {
   "cell_type": "markdown",
   "metadata": {},
   "source": [
    "## Add phases to the project"
   ]
  },
  {
   "cell_type": "code",
   "execution_count": 118,
   "metadata": {},
   "outputs": [
    {
     "name": "stdout",
     "output_type": "stream",
     "text": [
      "/Users/maxgarman/AusteniteCalculator/ExampleData/austenite-Duplex.cif read by Reader CIF\n",
      "gpx file saved as /Users/maxgarman/AusteniteCalculator/SaveData/pkfit.gpx\n",
      "/Users/maxgarman/AusteniteCalculator/ExampleData/ferrite-Duplex.cif read by Reader CIF\n",
      "gpx file saved as /Users/maxgarman/AusteniteCalculator/SaveData/pkfit.gpx\n"
     ]
    }
   ],
   "source": [
    "PhaseAustenite = gpx.add_phase(DataPathWrap(\"austenite-Duplex.cif\"),\n",
    "         phasename=\"Austenite\",fmthint='CIF')\n",
    "\n",
    "PhaseFerrite = gpx.add_phase(DataPathWrap(\"ferrite-Duplex.cif\"),\n",
    "         phasename=\"Ferrite\",fmthint='CIF')"
   ]
  },
  {
   "cell_type": "code",
   "execution_count": 119,
   "metadata": {},
   "outputs": [],
   "source": [
    "## Guess locations for peaks based on lattice parameter"
   ]
  },
  {
   "cell_type": "code",
   "execution_count": 120,
   "metadata": {},
   "outputs": [],
   "source": [
    "# Read the lattice parameter \n",
    "#a0_Austenite=PhaseAustenite.data['General']['Cell'][1]\n",
    "#a0_Ferrite=PhaseFerrite.data['General']['Cell'][1]\n",
    "\n",
    "# Fit values to check if the Peak Extraction has better luck\n",
    "a0_Austenite=3.600\n",
    "a0_Ferrite=2.8762"
   ]
  },
  {
   "cell_type": "code",
   "execution_count": null,
   "metadata": {},
   "outputs": [],
   "source": []
  },
  {
   "cell_type": "code",
   "execution_count": 121,
   "metadata": {},
   "outputs": [],
   "source": [
    "# Find the ka1 wavelength\n",
    "# hist.data['Comments']\n",
    "\n",
    "Ka1_wavelength=float([s for s in hist.data['Comments'] if s.startswith('Ka1')][0].split('=')[1])\n",
    "\n",
    "# Hardcode for testing\n",
    "#Ka1_wavelength=2.29092 # Cr wavelength for testing"
   ]
  },
  {
   "cell_type": "code",
   "execution_count": null,
   "metadata": {},
   "outputs": [],
   "source": []
  },
  {
   "cell_type": "markdown",
   "metadata": {},
   "source": [
    "# Calculate locations of peaks from .cif file\n",
    "\n"
   ]
  },
  {
   "cell_type": "markdown",
   "metadata": {},
   "source": [
    "## Bragg diffraction\n",
    "n * lambda=2 * d * sin(theta)"
   ]
  },
  {
   "cell_type": "code",
   "execution_count": 122,
   "metadata": {},
   "outputs": [],
   "source": [
    "#hardcoding HKL lists for now, likely better ways to do this later...\n",
    "HKL_BCC=[[1,1,0],[2,0,0],[2,1,1],[2,2,0],[3,1,0],[2,2,2],[3,2,1],[4,1,1]]\n",
    "HKL_FCC=[[1,1,1],[2,0,0],[2,2,0],[3,1,1],[2,2,2],[4,0,0],[3,3,1],[4,2,0],[4,2,2]]"
   ]
  },
  {
   "cell_type": "code",
   "execution_count": 123,
   "metadata": {},
   "outputs": [],
   "source": [
    "#for hkl in HKL_BCC:\n",
    "#    d=(a0_Ferrite/ math.sqrt(hkl[0]*hkl[0]+hkl[1]*hkl[1]+hkl[2]*hkl[2]))   \n",
    "    \n",
    "d_BCC=[a0_Ferrite/ math.sqrt(hkl[0]*hkl[0]+hkl[1]*hkl[1]+hkl[2]*hkl[2]) for hkl in HKL_BCC]\n",
    "SinTheta_BCC=[1*Ka1_wavelength/(2*d) for d in d_BCC]\n",
    "\n",
    "d_FCC=[a0_Austenite/ math.sqrt(hkl[0]*hkl[0]+hkl[1]*hkl[1]+hkl[2]*hkl[2]) for hkl in HKL_FCC]\n",
    "SinTheta_FCC=[1*Ka1_wavelength/(2*d) for d in d_FCC]"
   ]
  },
  {
   "cell_type": "code",
   "execution_count": 124,
   "metadata": {},
   "outputs": [
    {
     "data": {
      "text/plain": [
       "[2.0337805240487477,\n",
       " 1.4381,\n",
       " 1.1742037330321629,\n",
       " 1.0168902620243738,\n",
       " 0.9095343006176292,\n",
       " 0.8302874221216008,\n",
       " 0.768696783988515,\n",
       " 0.6779268413495827]"
      ]
     },
     "execution_count": 124,
     "metadata": {},
     "output_type": "execute_result"
    }
   ],
   "source": [
    "d_BCC"
   ]
  },
  {
   "cell_type": "code",
   "execution_count": 125,
   "metadata": {},
   "outputs": [],
   "source": [
    "# Create a list of 2Theta values from the dspacing and wavelength. Mark any non-physical values with np.nan\n",
    "TwoTheta_BCC=[np.nan]*len(SinTheta_BCC)\n",
    "for i,value in enumerate(SinTheta_BCC):\n",
    "    #print(value)\n",
    "    try:\n",
    "        TwoTheta_BCC[i]=(2*math.degrees(math.asin(value)))\n",
    "    except:\n",
    "        TwoTheta_BCC[i]=(np.nan)\n",
    "#print(TwoTheta_BCC)\n",
    "#print(HKL_BCC)       \n",
    "        \n",
    "TwoTheta_FCC=[np.nan]*len(SinTheta_FCC)\n",
    "for i,value in enumerate(SinTheta_FCC):\n",
    "    #print(value)\n",
    "    try:\n",
    "        TwoTheta_FCC[i]=(2*math.degrees(math.asin(value)))\n",
    "    except:\n",
    "        TwoTheta_FCC[i]=(np.nan)\n",
    "#print(TwoTheta_FCC)\n",
    "#print(HKL_FCC)\n",
    "\n"
   ]
  },
  {
   "cell_type": "code",
   "execution_count": 126,
   "metadata": {},
   "outputs": [],
   "source": [
    "# Create a list of TwoTheta in the data range\n",
    "#print(max(hist.data['data'][1][0]))\n",
    "\n",
    "TwoThetaInRange_BCC=[np.nan if i > max(hist.data['data'][1][0]) else i for i in TwoTheta_BCC]\n",
    "TwoThetaInRange_BCC=[np.nan if i < min(hist.data['data'][1][0]) else i for i in TwoThetaInRange_BCC]\n",
    "\n",
    "TwoThetaInRange_FCC=[np.nan if i > max(hist.data['data'][1][0]) else i for i in TwoTheta_FCC]\n",
    "TwoThetaInRange_FCC=[np.nan if i < min(hist.data['data'][1][0]) else i for i in TwoThetaInRange_FCC]\n",
    "\n",
    "\n",
    "#print(TwoTheta_FCC)\n",
    "#print(TwoThetaInRange_FCC)\n",
    "\n"
   ]
  },
  {
   "cell_type": "code",
   "execution_count": 127,
   "metadata": {},
   "outputs": [],
   "source": [
    "PeaksList=[]\n",
    "PeaksList = np.array(TwoThetaInRange_BCC)[~np.isnan(np.array(TwoThetaInRange_BCC))]\n",
    "PeaksList = np.concatenate((PeaksList,\n",
    "                           np.array(TwoThetaInRange_FCC)[~np.isnan(np.array(TwoThetaInRange_FCC))]),\n",
    "                           axis=0)\n",
    "PeaksList=list(PeaksList)\n",
    "# Don't sort, it actually makes keeping track of the different items harder...\n",
    "# PeaksList.sort()"
   ]
  },
  {
   "cell_type": "code",
   "execution_count": 128,
   "metadata": {},
   "outputs": [
    {
     "name": "stdout",
     "output_type": "stream",
     "text": [
      "[44.512834170653136, 64.77418924603545, 81.99379835803572, 98.48939129456159, 115.75557256664571, 43.50651939589083, 50.67428953446619, 74.4870534064565, 90.41527463400114, 95.67098491830755, 117.71590292777316]\n"
     ]
    }
   ],
   "source": [
    "print(PeaksList)"
   ]
  },
  {
   "cell_type": "code",
   "execution_count": null,
   "metadata": {},
   "outputs": [],
   "source": []
  },
  {
   "cell_type": "code",
   "execution_count": 129,
   "metadata": {},
   "outputs": [],
   "source": [
    "#CIF is slightly off, kludge for now...\n",
    "# Likely need to refine, adjust lattice parameters and start over again with peaks with non-negative intensities\n",
    "# Or fix the negative intensities...\n",
    "PeaksList=[x+0.5 for x in PeaksList]"
   ]
  },
  {
   "cell_type": "code",
   "execution_count": null,
   "metadata": {},
   "outputs": [],
   "source": []
  },
  {
   "cell_type": "code",
   "execution_count": 130,
   "metadata": {},
   "outputs": [],
   "source": [
    "# reset the peak list in case of errors...\n",
    "hist.Peaks['peaks']=[]"
   ]
  },
  {
   "cell_type": "markdown",
   "metadata": {},
   "source": [
    "## Start Fitting"
   ]
  },
  {
   "cell_type": "code",
   "execution_count": null,
   "metadata": {
    "scrolled": true
   },
   "outputs": [],
   "source": []
  },
  {
   "cell_type": "code",
   "execution_count": null,
   "metadata": {},
   "outputs": [],
   "source": []
  },
  {
   "cell_type": "code",
   "execution_count": 131,
   "metadata": {},
   "outputs": [
    {
     "name": "stdout",
     "output_type": "stream",
     "text": [
      "Number of function calls: 7 Number of observations: 3140 Number of parameters: 5\n",
      "fitpeak time =    0.035s,    0.012s/cycle\n",
      "Rwp =   34.25%, chi**2 =       940533, reduced chi**2 = 300.01\n",
      "Background coefficients for chebyschev-1 function\n",
      "value:   2358.63862  -324.96757   298.54077  -102.21858    74.60512\n",
      "esd  :     18.76352    30.97063    29.62959    24.74965    24.56130\n"
     ]
    },
    {
     "data": {
      "text/plain": [
       "({'Back;0': 18.763518424198292,\n",
       "  'Back;1': 30.970626765226825,\n",
       "  'Back;2': 29.629591213457925,\n",
       "  'Back;3': 24.749651164576715,\n",
       "  'Back;4': 24.561297441179025},\n",
       " (array([2358.63861521, -324.96757161,  298.54076704, -102.21857721,\n",
       "           74.60511932]),\n",
       "  array([[ 1.1735244 , -0.20545698,  1.15333329, -0.10391783,  0.57912169],\n",
       "         [-0.20545698,  3.197154  , -0.28853898,  1.37527663, -0.08905987],\n",
       "         [ 1.15333329, -0.28853898,  2.92627332, -0.18693209,  1.26759655],\n",
       "         [-0.10391783,  1.37527663, -0.18693209,  2.04174609, -0.13769551],\n",
       "         [ 0.57912169, -0.08905987,  1.26759655, -0.13769551,  2.0107875 ]]),\n",
       "  {'fvec': array([-1.63134087, -1.25567881, -0.38417849, ...,  3.21357246,\n",
       "           4.01609119,  2.47074978]),\n",
       "   'nfev': 7,\n",
       "   'njev': 6,\n",
       "   'fjac': array([[-1.18532501e+00,  1.48489515e-02,  1.49700174e-02, ...,\n",
       "            1.81777323e-02,  1.83272403e-02,  1.80318245e-02],\n",
       "          [ 1.06736706e-02,  8.31820270e-01,  2.05874272e-02, ...,\n",
       "           -2.62137631e-02, -2.65787410e-02, -2.62975373e-02],\n",
       "          [ 6.58759434e-02,  4.10452205e-02, -8.27241792e-01, ...,\n",
       "            2.58520432e-02,  2.63270460e-02,  2.61616588e-02],\n",
       "          [ 4.35410546e-01,  1.90348263e-04,  3.59267630e-01, ...,\n",
       "            6.47464484e-02,  6.55258293e-02,  6.47130318e-02],\n",
       "          [-3.96329759e-02, -3.56652378e-01,  9.37980134e-03, ...,\n",
       "           -5.16661029e-02, -5.22079292e-02, -5.14815637e-02]]),\n",
       "   'ipvt': array([1, 4, 5, 3, 2], dtype=int32),\n",
       "   'qtf': array([-3.05244718e-12,  8.77742323e-13,  7.18314297e-14, -1.54765090e-13,\n",
       "          -2.60347299e-13])},\n",
       "  'Both actual and predicted relative reductions in the sum of squares\\n  are at most 0.001000 and the relative error between two consecutive iterates is at \\n  most 0.000000',\n",
       "  3),\n",
       " array([18.76351842, 30.97062677, 29.62959121, 24.74965116, 24.56129744]),\n",
       " {'Rwp': 34.247244669820816, 'GOF': 300.0104846434412},\n",
       " ['Back;0', 'Back;1', 'Back;2', 'Back;3', 'Back;4'],\n",
       " {'Back;0': 2358.638615205059,\n",
       "  'Back;1': -324.96757161373284,\n",
       "  'Back;2': 298.540767044634,\n",
       "  'Back;3': -102.2185772129055,\n",
       "  'Back;4': 74.60511932400607,\n",
       "  'nDebye': 0,\n",
       "  'nPeaks': 0,\n",
       "  'Back File': '',\n",
       "  'BF mult': 1.0,\n",
       "  'Type': 'PXC',\n",
       "  'Bank': 1.0,\n",
       "  'Lam1': 1.5405,\n",
       "  'Lam2': 1.5443,\n",
       "  'Zero': 0.0,\n",
       "  'Polariz.': 0.7,\n",
       "  'Azimuth': 0.0,\n",
       "  'I(L2)/I(L1)': 0.5,\n",
       "  'U': 2.0432141532813843,\n",
       "  'V': 11.458800039208487,\n",
       "  'W': 13.401233944613113,\n",
       "  'X': 0.8467938094652971,\n",
       "  'Y': 7.820418834830757,\n",
       "  'Z': 0.0,\n",
       "  'SH/L': 0.002,\n",
       "  'Source': '?',\n",
       "  'Pdabc': []},\n",
       " ['Back;0', 'Back;1', 'Back;2', 'Back;3', 'Back;4'],\n",
       " [])"
      ]
     },
     "execution_count": 131,
     "metadata": {},
     "output_type": "execute_result"
    }
   ],
   "source": [
    "# Add controls for number of cycles?\n",
    "\n",
    "hist.set_refinements({'Background': {\"no. coeffs\": 5,'type': 'chebyschev-1', 'refine': True}})\n",
    "hist.refine_peaks()"
   ]
  },
  {
   "cell_type": "code",
   "execution_count": 132,
   "metadata": {},
   "outputs": [
    {
     "data": {
      "image/png": "[encoded data removed]",
      "text/plain": [
       "<Figure size 432x288 with 1 Axes>"
      ]
     },
     "metadata": {
      "needs_background": "light"
     },
     "output_type": "display_data"
    }
   ],
   "source": [
    "plt.scatter(hist.data['data'][1][0], hist.data['data'][1][1], label='data', color='0.7')\n",
    "plt.plot(hist.data['data'][1][0], hist.data['data'][1][4], label='background', color='r')\n",
    "plt.plot(hist.data['data'][1][0], hist.data['data'][1][3], label='fit', color='b')\n",
    "plt.xlabel(\"2theta\")\n",
    "plt.ylabel(\"intensity\")\n",
    "plt.legend()\n",
    "plt.show()"
   ]
  },
  {
   "cell_type": "markdown",
   "metadata": {},
   "source": [
    "## Add a few peaks to the list\n",
    "\n",
    "- It seems like the peak positions are slightly off from the .cif file (about 0.4°)\n",
    "- This results in negative intensities for some of the higher peaks\n",
    "- Maybe look for maxima?  Or a series of fit sequences?\n",
    "- Error check negative peaks?"
   ]
  },
  {
   "cell_type": "code",
   "execution_count": 133,
   "metadata": {},
   "outputs": [],
   "source": [
    "#for peak in PeaksList[0:5]:\n",
    "for peak in PeaksList:\n",
    "    hist.add_peak(1, ttheta=peak)\n",
    "\n",
    "\n"
   ]
  },
  {
   "cell_type": "code",
   "execution_count": null,
   "metadata": {},
   "outputs": [],
   "source": []
  },
  {
   "cell_type": "code",
   "execution_count": 134,
   "metadata": {
    "scrolled": false
   },
   "outputs": [
    {
     "name": "stdout",
     "output_type": "stream",
     "text": [
      "Number of function calls: 3 Number of observations: 3140 Number of parameters: 16\n",
      "fitpeak time =    0.069s,    0.069s/cycle\n",
      "Rwp =   34.10%, chi**2 =       932591, reduced chi**2 = 298.52\n",
      "Background coefficients for chebyschev-1 function\n",
      "value:   2336.65706  -351.32290   280.11559  -110.07137    60.98696\n",
      "esd  :     19.89219    32.79286    31.81470    26.17842    25.87051\n",
      "Peak coefficients:\n",
      "                pos       esd       int       esd       sig       esd       gam       esd      bins  \n",
      " Peak1   :  45.01283               959.6    5650.8    18.500               4.157               4.36\n",
      " Peak2   :  65.27419              5271.4    6382.5    21.578               6.014               5.04\n",
      " Peak3   :  82.49380             14848.1    7487.0    25.020               7.984               5.78\n",
      " Peak4   :  98.98939             10649.9    8223.6    29.615              10.459               6.72\n",
      " Peak5   : 116.25557             39555.4   10890.0    37.116              14.181               8.14\n",
      " Peak6   :  44.00652              6687.4    5869.8    18.365               4.073               4.32\n",
      " Peak7   :  51.17429             -1722.6    5623.9    19.357               4.684               4.55\n",
      " Peak8   :  74.98705              4080.5    6708.1    23.394               7.067               5.44\n",
      " Peak9   :  90.91527             18503.9    8013.6    27.154               9.154               6.22\n",
      " Peak10  :  96.17098                49.6    7530.7    28.701               9.979               6.54\n",
      " Peak11  : 118.21590              6494.6   10183.7    38.261              14.720               8.35\n",
      "Number of function calls: 20 Number of observations: 3140 Number of parameters: 27\n",
      "fitpeak time =    0.221s,    0.022s/cycle\n",
      "Rwp =   10.80%, chi**2 =      93463.6, reduced chi**2 =  30.02\n",
      "Background coefficients for chebyschev-1 function\n",
      "value:   2257.27060  -341.20838   314.93686  -124.97508    48.47305\n",
      "esd  :      6.22752    10.27598     9.90384     8.16202     8.05138\n",
      "Peak coefficients:\n",
      "                pos       esd       int       esd       sig       esd       gam       esd      bins  \n",
      " Peak1   :  43.47425   0.00115  405539.6    5386.8    18.295               4.030               4.31\n",
      " Peak2   :  64.75727   0.00143  388435.3    5339.3    21.489               5.962               5.02\n",
      " Peak3   :  82.03033   0.00185  296751.9    4949.6    24.913               7.924               5.76\n",
      " Peak4   :  98.56375   0.00782   52215.0    3133.8    29.473              10.384               6.69\n",
      " Peak5   : 115.80971   0.00599  102588.6    4018.0    36.866              14.063               8.10\n",
      " Peak6   :  44.51320   0.00106  470143.2    5760.6    18.433               4.115               4.34\n",
      " Peak7   :  51.34577   0.71263    -274.5    1771.8    19.381               4.699               4.55\n",
      " Peak8   :  74.46407   0.00178  295104.5    4864.7    23.289               7.006               5.41\n",
      " Peak9   :  90.41505   0.00246  225711.1    4507.1    27.016               9.079               6.19\n",
      " Peak10  :  83.22791   0.11646   -2278.3    2142.1    25.192               8.079               5.82\n",
      " Peak11  : 117.76893   0.02524   20378.7    3303.5    37.993              14.595               8.30\n",
      "Number of function calls: 4 Number of observations: 3140 Number of parameters: 38\n",
      "fitpeak time =    0.059s,    0.030s/cycle\n",
      "Rwp =   10.61%, chi**2 =      90243.5, reduced chi**2 =  29.09\n",
      "Background coefficients for chebyschev-1 function\n",
      "value:   2254.57496  -347.32368   309.31049  -129.02801    45.46933\n",
      "esd  :      6.28641    10.37398    10.03414     8.18998     8.05669\n",
      "Peak coefficients:\n",
      "                pos       esd       int       esd       sig       esd       gam       esd      bins  \n",
      " Peak1   :  43.47426   0.00113  405196.8    5333.7    17.627     1.108     4.030               4.31\n",
      " Peak2   :  64.75712   0.00156  391912.7    5323.7    28.262     1.730     5.962               5.02\n",
      " Peak3   :  82.03007   0.00152  295746.4    4870.3    14.894     1.371     7.924               5.76\n",
      " Peak4   :  98.56329   0.00610   50565.9    3144.0    13.174     6.375    10.384               6.69\n",
      " Peak5   : 115.81013   0.00656  105600.4    4254.8    53.877    11.235    14.063               8.10\n",
      " Peak6   :  44.51324   0.00100  468980.7    5679.4    15.353     0.886     4.115               4.34\n",
      " Peak7   :  51.34021   0.20730    -276.1    1626.7   -48.975    31.387     4.698               4.55\n",
      " Peak8   :  74.46408   0.00166  294315.3    4808.2    20.246     1.539     7.006               5.41\n",
      " Peak9   :  90.41458   0.00290  230956.0    4582.1    43.240     3.813     9.079               6.19\n",
      " Peak10  :  83.13186   0.24797   -3911.6    2970.0   682.904   904.917     8.067               5.81\n",
      " Peak11  : 117.77502   0.04290   25307.7    4057.1   196.368   114.453    14.596               8.30\n"
     ]
    },
    {
     "data": {
      "text/plain": [
       "({'Back;0': 6.286406497963487,\n",
       "  'Back;1': 10.373980506718862,\n",
       "  'Back;2': 10.03413821426792,\n",
       "  'Back;3': 8.189982821936464,\n",
       "  'Back;4': 8.056687836380199,\n",
       "  'pos0': 0.0011291287431514803,\n",
       "  'int0': 5333.683168816938,\n",
       "  'sig0': 1.1081327826820813,\n",
       "  'pos1': 0.0015566503119135771,\n",
       "  'int1': 5323.674316385728,\n",
       "  'sig1': 1.7300760392964771,\n",
       "  'pos2': 0.0015226184983287963,\n",
       "  'int2': 4870.273296978672,\n",
       "  'sig2': 1.3706701573109787,\n",
       "  'pos3': 0.00610403133776385,\n",
       "  'int3': 3144.03311404934,\n",
       "  'sig3': 6.374598956016044,\n",
       "  'pos4': 0.00655672523005126,\n",
       "  'int4': 4254.807427324087,\n",
       "  'sig4': 11.23529917639017,\n",
       "  'pos5': 0.0010045396639178229,\n",
       "  'int5': 5679.41447930453,\n",
       "  'sig5': 0.8859941795650389,\n",
       "  'pos6': 0.20729947514458608,\n",
       "  'int6': 1626.7181442434764,\n",
       "  'sig6': 31.387337149517148,\n",
       "  'pos7': 0.0016626279711562057,\n",
       "  'int7': 4808.174431069862,\n",
       "  'sig7': 1.5389834295241687,\n",
       "  'pos8': 0.00289930222551057,\n",
       "  'int8': 4582.139189145989,\n",
       "  'sig8': 3.8131558801592744,\n",
       "  'pos9': 0.2479677627228588,\n",
       "  'int9': 2969.9823157761207,\n",
       "  'sig9': 904.9170063408842,\n",
       "  'pos10': 0.04289832372638167,\n",
       "  'int10': 4057.1487260335343,\n",
       "  'sig10': 114.45314813495857},\n",
       " (array([ 2.25457496e+03, -3.47323679e+02,  3.09310486e+02, -1.29028007e+02,\n",
       "          4.54693347e+01,  4.34742600e+01,  4.05196808e+05,  1.76269669e+01,\n",
       "          6.47571208e+01,  3.91912661e+05,  2.82622061e+01,  8.20300674e+01,\n",
       "          2.95746363e+05,  1.48941082e+01,  9.85632851e+01,  5.05659272e+04,\n",
       "          1.31737720e+01,  1.15810130e+02,  1.05600424e+05,  5.38773883e+01,\n",
       "          4.45132369e+01,  4.68980726e+05,  1.53525307e+01,  5.13402150e+01,\n",
       "         -2.76070148e+02, -4.89751257e+01,  7.44640825e+01,  2.94315272e+05,\n",
       "          2.02460949e+01,  9.04145813e+01,  2.30955953e+05,  4.32404331e+01,\n",
       "          8.31318626e+01, -3.91163797e+03,  6.82903963e+02,  1.17775017e+02,\n",
       "          2.53076798e+04,  1.96368227e+02]),\n",
       "  array([[ 1.35840999e+00,  7.94343405e-02,  1.42646690e+00, ...,\n",
       "          -1.50313648e-04, -2.69479802e+02, -3.12947022e+00],\n",
       "         [ 7.94343405e-02,  3.69927657e+00,  2.10190769e-01, ...,\n",
       "          -2.09306343e-04, -4.51424455e+02, -5.24107957e+00],\n",
       "         [ 1.42646690e+00,  2.10190769e-01,  3.46087652e+00, ...,\n",
       "          -3.15775401e-04, -4.73475351e+02, -5.49618870e+00],\n",
       "         ...,\n",
       "         [-1.50313648e-04, -2.09306343e-04, -3.15775401e-04, ...,\n",
       "           6.32567086e-05,  1.03719547e-01,  3.55561379e-03],\n",
       "         [-2.69479802e+02, -4.51424455e+02, -4.73475351e+02, ...,\n",
       "           1.03719547e-01,  5.65806331e+05,  6.10774321e+03],\n",
       "         [-3.12947022e+00, -5.24107957e+00, -5.49618870e+00, ...,\n",
       "           3.55561379e-03,  6.10774321e+03,  4.50278729e+02]]),\n",
       "  {'fvec': array([-2.91608437, -2.54340719, -1.68062093, ..., -0.34552287,\n",
       "           0.41555734, -1.08364283]),\n",
       "   'nfev': 4,\n",
       "   'njev': 3,\n",
       "   'fjac': array([[-5.40864687e+03,  0.00000000e+00,  0.00000000e+00, ...,\n",
       "            0.00000000e+00,  0.00000000e+00,  0.00000000e+00],\n",
       "          [ 3.12347726e+00, -4.81842921e+03,  0.00000000e+00, ...,\n",
       "            0.00000000e+00,  0.00000000e+00,  0.00000000e+00],\n",
       "          [ 0.00000000e+00,  0.00000000e+00, -3.54313055e+03, ...,\n",
       "            0.00000000e+00,  0.00000000e+00,  0.00000000e+00],\n",
       "          ...,\n",
       "          [ 0.00000000e+00,  0.00000000e+00,  1.32196010e-12, ...,\n",
       "           -2.26142076e-03, -2.29492334e-03, -2.27261205e-03],\n",
       "          [ 1.90411282e-06,  5.96696779e-06,  0.00000000e+00, ...,\n",
       "           -1.95050792e-03, -1.98053779e-03, -1.96240007e-03],\n",
       "          [ 3.04853885e-06, -2.09354928e-06,  0.00000000e+00, ...,\n",
       "            1.85896096e-03,  1.88785494e-03,  1.87083513e-03]]),\n",
       "   'ipvt': array([21,  6, 12,  9, 27, 30, 15, 18, 36, 24, 33, 23,  8, 14, 29, 11, 32,\n",
       "           1, 17,  4,  5,  3,  2, 20, 26, 38, 35, 25, 34, 16, 37, 19, 31, 28,\n",
       "          13, 10,  7, 22], dtype=int32),\n",
       "   'qtf': array([-5.81737461e-01, -4.88063381e-02,  5.76001908e-02, -4.29403020e-01,\n",
       "          -6.01743808e-02, -3.27442094e-01,  8.69845446e-02,  7.38370550e-03,\n",
       "           1.29162220e-01,  1.08000922e+00, -1.40460543e+00, -8.42806109e-01,\n",
       "          -1.01339618e-01,  1.35130801e-01, -8.83867339e-02,  5.45472259e-01,\n",
       "           1.51407315e-01, -2.29409452e-02, -1.72463701e-01,  6.66047322e-03,\n",
       "          -2.17943179e-02,  1.48721856e-02,  7.17354496e-03, -7.01051364e-03,\n",
       "           2.65066486e-01, -9.53778311e-01, -2.36406633e+00,  5.51943021e-02,\n",
       "           1.85938356e+00, -2.99220890e-02, -3.29843882e-01, -6.19509234e-02,\n",
       "           4.70783102e-02,  3.80351847e-02, -4.04617459e-02,  4.58847426e-02,\n",
       "           1.52526254e-03, -8.33942280e-02])},\n",
       "  'Both actual and predicted relative reductions in the sum of squares\\n  are at most 0.001000',\n",
       "  1),\n",
       " array([6.28640650e+00, 1.03739805e+01, 1.00341382e+01, 8.18998282e+00,\n",
       "        8.05668784e+00, 1.12912874e-03, 5.33368317e+03, 1.10813278e+00,\n",
       "        1.55665031e-03, 5.32367432e+03, 1.73007604e+00, 1.52261850e-03,\n",
       "        4.87027330e+03, 1.37067016e+00, 6.10403134e-03, 3.14403311e+03,\n",
       "        6.37459896e+00, 6.55672523e-03, 4.25480743e+03, 1.12352992e+01,\n",
       "        1.00453966e-03, 5.67941448e+03, 8.85994180e-01, 2.07299475e-01,\n",
       "        1.62671814e+03, 3.13873371e+01, 1.66262797e-03, 4.80817443e+03,\n",
       "        1.53898343e+00, 2.89930223e-03, 4.58213919e+03, 3.81315588e+00,\n",
       "        2.47967763e-01, 2.96998232e+03, 9.04917006e+02, 4.28983237e-02,\n",
       "        4.05714873e+03, 1.14453148e+02]),\n",
       " {'Rwp': 10.60831901266389, 'GOF': 29.0920318209113},\n",
       " ['Back;0',\n",
       "  'Back;1',\n",
       "  'Back;2',\n",
       "  'Back;3',\n",
       "  'Back;4',\n",
       "  'pos0',\n",
       "  'int0',\n",
       "  'sig0',\n",
       "  'pos1',\n",
       "  'int1',\n",
       "  'sig1',\n",
       "  'pos2',\n",
       "  'int2',\n",
       "  'sig2',\n",
       "  'pos3',\n",
       "  'int3',\n",
       "  'sig3',\n",
       "  'pos4',\n",
       "  'int4',\n",
       "  'sig4',\n",
       "  'pos5',\n",
       "  'int5',\n",
       "  'sig5',\n",
       "  'pos6',\n",
       "  'int6',\n",
       "  'sig6',\n",
       "  'pos7',\n",
       "  'int7',\n",
       "  'sig7',\n",
       "  'pos8',\n",
       "  'int8',\n",
       "  'sig8',\n",
       "  'pos9',\n",
       "  'int9',\n",
       "  'sig9',\n",
       "  'pos10',\n",
       "  'int10',\n",
       "  'sig10'],\n",
       " {'Back;0': 2254.5749621936898,\n",
       "  'Back;1': -347.3236794338229,\n",
       "  'Back;2': 309.31048628902505,\n",
       "  'Back;3': -129.0280071240842,\n",
       "  'Back;4': 45.4693347038388,\n",
       "  'nDebye': 0,\n",
       "  'nPeaks': 0,\n",
       "  'Back File': '',\n",
       "  'BF mult': 1.0,\n",
       "  'Type': 'PXC',\n",
       "  'Bank': 1.0,\n",
       "  'Lam1': 1.5405,\n",
       "  'Lam2': 1.5443,\n",
       "  'Zero': 0.0,\n",
       "  'Polariz.': 0.7,\n",
       "  'Azimuth': 0.0,\n",
       "  'I(L2)/I(L1)': 0.5,\n",
       "  'U': 2.0432141532813843,\n",
       "  'V': 11.458800039208487,\n",
       "  'W': 13.401233944613113,\n",
       "  'X': 0.8467938094652971,\n",
       "  'Y': 7.820418834830757,\n",
       "  'Z': 0.0,\n",
       "  'SH/L': 0.002,\n",
       "  'Source': '?',\n",
       "  'pos0': 43.4742599676953,\n",
       "  'int0': 405196.8076088768,\n",
       "  'sig0': 17.62696691752256,\n",
       "  'gam0': 4.029610995781138,\n",
       "  'pos1': 64.75712081581544,\n",
       "  'int1': 391912.6612117177,\n",
       "  'sig1': 28.26220614482909,\n",
       "  'gam1': 5.961567283972024,\n",
       "  'pos2': 82.03006742342863,\n",
       "  'int2': 295746.3628421304,\n",
       "  'sig2': 14.894108246737552,\n",
       "  'gam2': 7.924058598638974,\n",
       "  'pos3': 98.56328512331973,\n",
       "  'int3': 50565.927204298445,\n",
       "  'sig3': 13.173771995664103,\n",
       "  'gam3': 10.3842695247332,\n",
       "  'pos4': 115.81012989475248,\n",
       "  'int4': 105600.42363295626,\n",
       "  'sig4': 53.877388298871516,\n",
       "  'gam4': 14.063008099654539,\n",
       "  'pos5': 44.5132368918583,\n",
       "  'int5': 468980.7255149152,\n",
       "  'sig5': 15.352530736990019,\n",
       "  'gam5': 4.1154338292375385,\n",
       "  'pos6': 51.340214982657216,\n",
       "  'int6': -276.0701476493372,\n",
       "  'sig6': -48.97512566863971,\n",
       "  'gam6': 4.6982111988957325,\n",
       "  'pos7': 74.46408254378565,\n",
       "  'int7': 294315.27181692584,\n",
       "  'sig7': 20.246094949604885,\n",
       "  'gam7': 7.0064721847945775,\n",
       "  'pos8': 90.41458132978518,\n",
       "  'int8': 230955.95253434218,\n",
       "  'sig8': 43.240433085972036,\n",
       "  'gam8': 9.079115130863675,\n",
       "  'pos9': 83.13186263547986,\n",
       "  'int9': -3911.637966140553,\n",
       "  'sig9': 682.9039626388073,\n",
       "  'gam9': 8.06676718619791,\n",
       "  'pos10': 117.77501695296695,\n",
       "  'int10': 25307.6797755219,\n",
       "  'sig10': 196.36822682383547,\n",
       "  'gam10': 14.596454992060863,\n",
       "  'Pdabc': []},\n",
       " ['Back;0',\n",
       "  'Back;1',\n",
       "  'Back;2',\n",
       "  'Back;3',\n",
       "  'Back;4',\n",
       "  'pos0',\n",
       "  'int0',\n",
       "  'sig0',\n",
       "  'pos1',\n",
       "  'int1',\n",
       "  'sig1',\n",
       "  'pos2',\n",
       "  'int2',\n",
       "  'sig2',\n",
       "  'pos3',\n",
       "  'int3',\n",
       "  'sig3',\n",
       "  'pos4',\n",
       "  'int4',\n",
       "  'sig4',\n",
       "  'pos5',\n",
       "  'int5',\n",
       "  'sig5',\n",
       "  'pos6',\n",
       "  'int6',\n",
       "  'sig6',\n",
       "  'pos7',\n",
       "  'int7',\n",
       "  'sig7',\n",
       "  'pos8',\n",
       "  'int8',\n",
       "  'sig8',\n",
       "  'pos9',\n",
       "  'int9',\n",
       "  'sig9',\n",
       "  'pos10',\n",
       "  'int10',\n",
       "  'sig10'],\n",
       " [])"
      ]
     },
     "execution_count": 134,
     "metadata": {},
     "output_type": "execute_result"
    }
   ],
   "source": [
    "# Need to use this order, otherwise fitting gets unstable\n",
    "hist.set_peakFlags(area=True)\n",
    "hist.refine_peaks()\n",
    "\n",
    "# Resetting the value doesn't seem to work...\n",
    "# for i,value in enumerate(hist.Peaks['peaks']):\n",
    "#     print(value[2])\n",
    "#     if value[2]<0:\n",
    "#         print(hist.Peaks['peaks'][i][2],-value[2])\n",
    "#         hist.Peaks['peaks'][i][2]=-value[2]\n",
    "        \n",
    "# hist.set_peakFlags(pos=True)\n",
    "# hist.refine_peaks('hold')\n",
    "        \n",
    "hist.set_peakFlags(pos=True,area=True)\n",
    "hist.refine_peaks()\n",
    "hist.set_peakFlags(pos=True,area=True,sig=True)\n",
    "hist.refine_peaks()"
   ]
  },
  {
   "cell_type": "code",
   "execution_count": null,
   "metadata": {
    "scrolled": true
   },
   "outputs": [],
   "source": []
  },
  {
   "cell_type": "code",
   "execution_count": 135,
   "metadata": {},
   "outputs": [],
   "source": [
    "#hist.set_peakFlags(area=True,pos=True,sig=True)"
   ]
  },
  {
   "cell_type": "code",
   "execution_count": null,
   "metadata": {},
   "outputs": [],
   "source": []
  },
  {
   "cell_type": "code",
   "execution_count": 136,
   "metadata": {},
   "outputs": [
    {
     "data": {
      "image/png": "[encoded data removed]",
      "text/plain": [
       "<Figure size 432x288 with 1 Axes>"
      ]
     },
     "metadata": {
      "needs_background": "light"
     },
     "output_type": "display_data"
    }
   ],
   "source": [
    "\n",
    "plt.xlim([40,120])\n",
    "\n",
    "plt.scatter(hist.data['data'][1][0], hist.data['data'][1][1], label='data', color='0.7')\n",
    "plt.plot(hist.data['data'][1][0], hist.data['data'][1][4], label='background', color='r')\n",
    "plt.plot(hist.data['data'][1][0], hist.data['data'][1][3], label='fit', color='b')\n",
    "plt.xlabel(\"2theta\")\n",
    "plt.ylabel(\"intensity\")\n",
    "plt.legend()\n",
    "plt.show()"
   ]
  },
  {
   "cell_type": "code",
   "execution_count": 104,
   "metadata": {},
   "outputs": [
    {
     "data": {
      "text/plain": [
       "GSASIIscriptable.G2PwdrData"
      ]
     },
     "execution_count": 104,
     "metadata": {},
     "output_type": "execute_result"
    }
   ],
   "source": [
    "type(hist)"
   ]
  },
  {
   "cell_type": "code",
   "execution_count": 105,
   "metadata": {},
   "outputs": [
    {
     "data": {
      "text/plain": [
       "69.0769425154267"
      ]
     },
     "execution_count": 105,
     "metadata": {},
     "output_type": "execute_result"
    }
   ],
   "source": [
    "hist.Peaks['peaks'][0][0]"
   ]
  },
  {
   "cell_type": "code",
   "execution_count": 106,
   "metadata": {},
   "outputs": [
    {
     "name": "stdout",
     "output_type": "stream",
     "text": [
      "-7330.789605912796\n",
      "-7330.789605912796 7330.789605912796\n",
      "-4715.071688844011\n",
      "-4715.071688844011 4715.071688844011\n",
      "-6809.962170197005\n",
      "-6809.962170197005 6809.962170197005\n",
      "-4118.794959845665\n",
      "-4118.794959845665 4118.794959845665\n",
      "[[69.0769425154267, 7330.789605912796, 54.69537239108769, 6.410539546837413], [106.09521678314687, 4715.071688844011, 147.29020920564562, 11.804628196916438], [67.38664215772212, 6809.962170197005, 64.65112664154506, 6.232012066323373], [79.55590608900027, 4118.794959845665, 68.52194413055517, 7.6124668534352615]]\n"
     ]
    }
   ],
   "source": [
    "for i,value in enumerate(hist.Peaks['peaks']):\n",
    "    print(value[2])\n",
    "    if value[2]<0:\n",
    "        print(hist.Peaks['peaks'][i][2],-value[2])\n",
    "        hist.Peaks['peaks'][i][2]=-value[2]\n",
    "# hist.PeakList[0][0]=0\n",
    "print(hist.PeakList)"
   ]
  },
  {
   "cell_type": "code",
   "execution_count": 107,
   "metadata": {},
   "outputs": [
    {
     "name": "stdout",
     "output_type": "stream",
     "text": [
      "7330.789605912796\n",
      "4715.071688844011\n",
      "6809.962170197005\n",
      "4118.794959845665\n",
      "[[69.0769425154267, 7330.789605912796, 54.69537239108769, 6.410539546837413], [106.09521678314687, 4715.071688844011, 147.29020920564562, 11.804628196916438], [67.38664215772212, 6809.962170197005, 64.65112664154506, 6.232012066323373], [79.55590608900027, 4118.794959845665, 68.52194413055517, 7.6124668534352615]]\n"
     ]
    }
   ],
   "source": [
    "for i,value in enumerate(hist.PeakList):\n",
    "    print(value[1])\n",
    "    if value[1]<0:\n",
    "        print(hist.PeakList[i][1],-value[1])\n",
    "        hist.PeakList[i][1]=-value[1]\n",
    "hist.PeakList[0][0]=0\n",
    "print(hist.PeakList)"
   ]
  },
  {
   "cell_type": "code",
   "execution_count": null,
   "metadata": {},
   "outputs": [],
   "source": []
  },
  {
   "cell_type": "markdown",
   "metadata": {},
   "source": [
    "### Recreate the lattice parameter a_0 from fit data\n",
    "Added 2021 Apr 01 - AC\n",
    "\n",
    "\n",
    "*We should probably work out data structures before too long*"
   ]
  },
  {
   "cell_type": "code",
   "execution_count": null,
   "metadata": {},
   "outputs": [],
   "source": []
  },
  {
   "cell_type": "code",
   "execution_count": 34,
   "metadata": {},
   "outputs": [],
   "source": [
    "#Find the hkls in range (may not be the ones fit, need to check)\n",
    "\n",
    "#TwoThetaInRange_BCC\n",
    "#HKL_BCC\n",
    "\n",
    "#Merged with BCC, then FCC\n",
    "hkl_list=[]\n",
    "for i,row in enumerate(TwoThetaInRange_BCC):\n",
    "    if np.isfinite(row):\n",
    "        hkl_list.append(HKL_BCC[i])\n",
    "for i,row in enumerate(TwoThetaInRange_FCC):\n",
    "    if np.isfinite(row):\n",
    "        hkl_list.append(HKL_FCC[i])\n",
    "        \n",
    "dspace_list=[]\n",
    "for row in hkl_list:\n",
    "    dspace_list.append(math.sqrt(row[0]*row[0]+row[1]*row[1]+row[2]*row[2]))"
   ]
  },
  {
   "cell_type": "code",
   "execution_count": 35,
   "metadata": {},
   "outputs": [
    {
     "data": {
      "text/plain": [
       "[1.4142135623730951,\n",
       " 2.0,\n",
       " 2.449489742783178,\n",
       " 2.8284271247461903,\n",
       " 3.1622776601683795,\n",
       " 1.7320508075688772,\n",
       " 2.0,\n",
       " 2.8284271247461903,\n",
       " 3.3166247903554,\n",
       " 3.4641016151377544,\n",
       " 4.0]"
      ]
     },
     "execution_count": 35,
     "metadata": {},
     "output_type": "execute_result"
    }
   ],
   "source": [
    "#hkl_list\n",
    "dspace_list"
   ]
  },
  {
   "cell_type": "code",
   "execution_count": 36,
   "metadata": {},
   "outputs": [
    {
     "name": "stdout",
     "output_type": "stream",
     "text": [
      "43.4742599676953 0.37034879510066937 1.4142135623730951 2.941463040500287\n",
      "64.75712081581544 0.5355108171637917 2.0 2.87687559358636\n",
      "82.03006742342863 0.656257032966677 2.449489742783178 2.875153186315563\n",
      "98.56328512331973 0.7579253664325247 2.8284271247461903 2.874603070774555\n",
      "115.81012989475248 0.847168893710896 3.1622776601683795 2.8753408410452272\n",
      "44.5132368918583 0.37875552740893453 1.7320508075688772 3.522580948578457\n",
      "51.340214982657216 0.4331889132543808 2.0 3.5564114243508285\n",
      "74.46408254378565 0.6050444602938538 2.8284271247461903 3.6009495644447562\n",
      "90.41458132978518 0.7096603927518479 3.3166247903554 3.600021623694204\n",
      "83.13186263547986 0.6634814465799138 3.4641016151377544 4.021806523443756\n",
      "117.77501695296695 0.8561544505773948 4.0 3.598878681202937\n"
     ]
    }
   ],
   "source": [
    "# Read the 2theta position\n",
    "hist.Peaks['peaks']\n",
    "FitPos=[row[0] for row in hist.Peaks['peaks']] # only way to access column in list of lists\n",
    "\n",
    "# Merge to determine the hkl\n",
    "\n",
    "\n",
    "a0_list=[]\n",
    "# probably should check if the lengths are the same\n",
    "if len(FitPos) == len(dspace_list):\n",
    "    for i,row in enumerate(FitPos):\n",
    "        #row/2.0 since row is 2theta...\n",
    "        a0_list.append((Ka1_wavelength*dspace_list[i])/(2*math.sin(math.radians(row/2.0))))\n",
    "        print(row,math.sin(math.radians(row/2.0)),dspace_list[i],a0_list[i])\n",
    "else:\n",
    "    print(\"These are not the same length\")\n",
    "\n",
    "# \n",
    "#n * lambda=2 * d * sin(theta)\n",
    "#Ka1_wavelength\n",
    "\n",
    "#[2*math.sin(math.radians(row))* for row in FitPos]\n",
    "\n",
    "#hist.Peaks['sigDict']"
   ]
  },
  {
   "cell_type": "code",
   "execution_count": null,
   "metadata": {},
   "outputs": [],
   "source": [
    "# Looks like it does things in order, but not verified...\n",
    "pos_keys=[key for key, value in hist.Peaks['sigDict'].items() if 'pos' in key]\n",
    "\n",
    "FitPos_uncert=[]\n",
    "for name in pos_keys:\n",
    "    FitPos_uncert.append(hist.Peaks['sigDict'][name])"
   ]
  },
  {
   "cell_type": "code",
   "execution_count": null,
   "metadata": {},
   "outputs": [],
   "source": [
    "# upper and lower bounds on uncertainties\n",
    "a0_uncert_LB=[]\n",
    "a0_uncert_UB=[]\n",
    "if len(FitPos_uncert) == len(dspace_list):\n",
    "    for i,row in enumerate(FitPos_uncert):\n",
    "        #row/2.0 since row is 2theta...\n",
    "        a0_uncert_UB.append((Ka1_wavelength*dspace_list[i])/(2*math.sin(math.radians((FitPos[i]+row)/2.0))))\n",
    "        a0_uncert_LB.append((Ka1_wavelength*dspace_list[i])/(2*math.sin(math.radians((FitPos[i]-row)/2.0))))\n",
    "        #print(row,math.sin(math.radians(row/2.0)),dspace_list[i],a0_list[i])\n",
    "else:\n",
    "    print(\"These are not the same length\")"
   ]
  },
  {
   "cell_type": "code",
   "execution_count": null,
   "metadata": {},
   "outputs": [],
   "source": [
    "print(a0_uncert_LB)\n",
    "\n",
    "print(a0_list)\n",
    "\n",
    "print(a0_uncert_UB)"
   ]
  },
  {
   "cell_type": "code",
   "execution_count": null,
   "metadata": {},
   "outputs": [],
   "source": [
    "hist.Peaks['sigDict']"
   ]
  },
  {
   "cell_type": "code",
   "execution_count": null,
   "metadata": {},
   "outputs": [],
   "source": [
    "a0_list"
   ]
  },
  {
   "cell_type": "markdown",
   "metadata": {},
   "source": [
    "### Maybe fit entire pattern for lattice parameters, then try peakfitting?\n",
    "- Seems like it works ok in the GUI, but need to allow the phase fraction to be refined (only on one)\n",
    "- Add constraint, (austenite + ferrite  =1) 0:0:scale, 1:0:scale\n",
    "- Need to refine both with the constraint enabled.  \n",
    "- weight fracitons are quite different than the phase fractions (lattice cell dimensions?)\n",
    "- Over estimation of the peak hights at first, then underestimate later\n",
    "- austenite=3.60097, ferrite=2.87564\n",
    "- Tried these parameters, had worse luck fitting...\n",
    "- Maybe use the scale factor from the sample parameters to get the areas close?"
   ]
  },
  {
   "cell_type": "code",
   "execution_count": null,
   "metadata": {},
   "outputs": [],
   "source": []
  },
  {
   "cell_type": "code",
   "execution_count": null,
   "metadata": {},
   "outputs": [],
   "source": []
  },
  {
   "cell_type": "code",
   "execution_count": null,
   "metadata": {},
   "outputs": [],
   "source": []
  },
  {
   "cell_type": "code",
   "execution_count": null,
   "metadata": {},
   "outputs": [],
   "source": [
    "# Not working properly yet..."
   ]
  },
  {
   "cell_type": "code",
   "execution_count": null,
   "metadata": {},
   "outputs": [],
   "source": [
    "# print('peak positions: ',[i[0] for i in hist.PeakList])\n",
    "# for i in range(len(hist.Peaks['peaks'])):\n",
    "#     print('peak',i,'pos=',hist.Peaks['peaks'][i][0],'sig=',hist.Peaks['sigDict']['pos'+str(i)])\n"
   ]
  },
  {
   "cell_type": "code",
   "execution_count": null,
   "metadata": {},
   "outputs": [],
   "source": [
    "# for peak in PeaksList:\n",
    "#     hist.add_peak(1, ttheta=peak)\n",
    "# hist.set_peakFlags(area=True,pos=True,sig=True)\n"
   ]
  },
  {
   "cell_type": "code",
   "execution_count": null,
   "metadata": {},
   "outputs": [],
   "source": []
  },
  {
   "cell_type": "code",
   "execution_count": null,
   "metadata": {},
   "outputs": [],
   "source": []
  },
  {
   "cell_type": "code",
   "execution_count": null,
   "metadata": {},
   "outputs": [],
   "source": []
  },
  {
   "cell_type": "markdown",
   "metadata": {},
   "source": [
    "# pattern simulation, extract intensities from that?\n",
    "https://gsas-ii.readthedocs.io/en/latest/GSASIIscriptable.html#pattern-simulation"
   ]
  },
  {
   "cell_type": "code",
   "execution_count": null,
   "metadata": {},
   "outputs": [],
   "source": [
    "gpx = G2sc.G2Project(newgpx=SaveWrap('Austenite-sim.gpx')) # create a project    \n",
    "\n",
    "PhaseAustenite = gpx.add_phase(DataPathWrap(\"austenite-Duplex.cif\"),\n",
    "         phasename=\"Austenite\",fmthint='CIF')\n",
    "\n",
    "#PhaseFerrite = gpx.add_phase(DataPathWrap(\"ferrite-Duplex.cif\"),\n",
    "#         phasename=\"Ferrite\",fmthint='CIF')\n",
    "\n",
    "histogram_scale=100.\n",
    "\n",
    "# add a simulated histogram and link it to the previous phase(s)\n",
    "hist1 = gpx.add_simulated_powder_histogram(\"Austenite simulation\",\n",
    "            DataPathWrap('TestCalibration.instprm'),5.,120.,Npoints=5000,\n",
    "            phases=gpx.phases(),scale=histogram_scale)\n",
    "gpx.do_refinements()   # calculate pattern\n",
    "gpx.save()"
   ]
  },
  {
   "cell_type": "code",
   "execution_count": null,
   "metadata": {},
   "outputs": [],
   "source": [
    "plt.xlim([40,120])\n",
    "\n",
    "plt.plot(hist1.data['data'][1][0], hist1.data['data'][1][1])\n",
    "plt.xlabel(\"2theta\")\n",
    "plt.ylabel(\"intensity\")\n",
    "plt.show()\n"
   ]
  },
  {
   "cell_type": "markdown",
   "metadata": {},
   "source": [
    "### Theoretical intensities are included in the Reflection Lists\n",
    "- see line ~817 in GSASIIobs.py for the full description of the reflection lists\n",
    "columns 0,1,2: h,k,l\n",
    "column 5: 2-theta\n",
    "column 9: Calculated structure factor squared (inludes anamolous scattering and thermal parameters?)\n",
    "column 11: Intensity correction (scales, polarization, preferred orientation, absorbtion, extinction)\n",
    "\n",
    "It's not clear where thermal parameters or the unit cell volume come in.\n",
    "Also not clear where "
   ]
  },
  {
   "cell_type": "code",
   "execution_count": null,
   "metadata": {},
   "outputs": [],
   "source": [
    "hist1.data"
   ]
  },
  {
   "cell_type": "code",
   "execution_count": null,
   "metadata": {},
   "outputs": [],
   "source": [
    "hist1.data['Reflection Lists']['Austenite']['RefList'][0][11]"
   ]
  },
  {
   "cell_type": "code",
   "execution_count": null,
   "metadata": {},
   "outputs": [],
   "source": [
    "hist1.data['Reflection Lists']['Austenite']['RefList'][:,9]"
   ]
  },
  {
   "cell_type": "markdown",
   "metadata": {},
   "source": [
    "#### Array of the strucutre factors and intensity corrections (theoretical intensities?) for this material"
   ]
  },
  {
   "cell_type": "code",
   "execution_count": null,
   "metadata": {},
   "outputs": [],
   "source": [
    "hist1.data['Reflection Lists']['Austenite']['RefList'][:,9] * hist1.data['Reflection Lists']['Austenite']['RefList'][:,11] / histogram_scale"
   ]
  },
  {
   "cell_type": "code",
   "execution_count": null,
   "metadata": {},
   "outputs": [],
   "source": [
    "hist1.data['Reflection Lists']"
   ]
  },
  {
   "cell_type": "code",
   "execution_count": null,
   "metadata": {},
   "outputs": [],
   "source": [
    "PhaseAustenite"
   ]
  },
  {
   "cell_type": "code",
   "execution_count": null,
   "metadata": {},
   "outputs": [],
   "source": []
  },
  {
   "cell_type": "code",
   "execution_count": null,
   "metadata": {},
   "outputs": [],
   "source": [
    "gpx = G2sc.G2Project(newgpx=SaveWrap('Ferrite-sim.gpx')) # create a project    \n",
    "\n",
    "PhaseFerrite = gpx.add_phase(DataPathWrap(\"ferrite-Duplex.cif\"),\n",
    "         phasename=\"Ferrite\",fmthint='CIF')\n",
    "\n",
    "#PhaseFerrite = gpx.add_phase(DataPathWrap(\"ferrite-Duplex.cif\"),\n",
    "#         phasename=\"Ferrite\",fmthint='CIF')\n",
    "\n",
    "# add a simulated histogram and link it to the previous phase(s)\n",
    "hist2 = gpx.add_simulated_powder_histogram(\"Ferrite simulation\",\n",
    "            DataPathWrap('TestCalibration.instprm'),5.,120.,Npoints=1000,\n",
    "            phases=gpx.phases(),scale=500000.)\n",
    "gpx.do_refinements()   # calculate pattern\n",
    "gpx.save()"
   ]
  },
  {
   "cell_type": "code",
   "execution_count": null,
   "metadata": {},
   "outputs": [],
   "source": []
  },
  {
   "cell_type": "markdown",
   "metadata": {},
   "source": [
    "## Used the GUI to investigate this data a bit more.  \n",
    "- Peakfits like I did above seem to work ok.  \n",
    "- Values of integrated intensity are closest to the I100 column of the reflection lists\n",
    "- Intensities and F values between this and the magic spreadsheet don't agree\n",
    "- Compositions are slightly different. Only wt% used in magic spreadsheet."
   ]
  },
  {
   "cell_type": "code",
   "execution_count": null,
   "metadata": {},
   "outputs": [],
   "source": []
  },
  {
   "cell_type": "code",
   "execution_count": null,
   "metadata": {},
   "outputs": [],
   "source": []
  },
  {
   "cell_type": "code",
   "execution_count": null,
   "metadata": {},
   "outputs": [],
   "source": [
    "### Have not edited below this for austenite calculator"
   ]
  },
  {
   "cell_type": "code",
   "execution_count": null,
   "metadata": {},
   "outputs": [],
   "source": []
  },
  {
   "cell_type": "code",
   "execution_count": null,
   "metadata": {},
   "outputs": [],
   "source": [
    "dlist=[2.0923, 2.0923-0.05, 2.0923+0.05]\n",
    "TOFlist=[]\n",
    "for i in dlist:\n",
    "    print(TOF_calc(i,16324.50,6.86,0.00))\n",
    "    TOFlist.append(TOF_calc(i,16324.50,6.86,0.00))"
   ]
  },
  {
   "cell_type": "code",
   "execution_count": null,
   "metadata": {},
   "outputs": [],
   "source": []
  },
  {
   "cell_type": "code",
   "execution_count": null,
   "metadata": {
    "scrolled": true
   },
   "outputs": [],
   "source": [
    "\n",
    "\n",
    "plt.xlim(TOFlist[1],TOFlist[2])\n",
    "plt.plot(hist.data['data'][1][0], hist.data['data'][1][1])\n",
    "plt.show()"
   ]
  },
  {
   "cell_type": "code",
   "execution_count": null,
   "metadata": {},
   "outputs": [],
   "source": []
  },
  {
   "cell_type": "code",
   "execution_count": null,
   "metadata": {},
   "outputs": [],
   "source": [
    "def OutputData(hist, append, Tick, LowLimit, HighLimit):\n",
    "    # plot fit and difference\n",
    "    plt.figure(figsize=[10,8])\n",
    "    plt.scatter(hist.data['data'][1][0], hist.data['data'][1][1],color='k',label='Data')\n",
    "    plt.plot(hist.data['data'][1][0], hist.data['data'][1][3],color='b',label='Computed Intensity')\n",
    "    plt.plot(hist.data['data'][1][0], hist.data['data'][1][5],'-o',color='g',label='Difference')\n",
    "    # vertical line for place of intial guess\n",
    "    plt.vlines(Tick,0,plt.gca().get_ylim()[0]*0.5)\n",
    "    # horizontal line to benchmark difference plot\n",
    "    plt.hlines(0,plt.gca().get_xlim()[0],plt.gca().get_xlim()[1],'0.7')\n",
    "    plt.xlim(LowLimit, HighLimit)\n",
    "    plt.legend()\n",
    "    # option to view on screen\n",
    "    #plt.show()\n",
    "    # option to save the plot\n",
    "    plt.savefig(\"GSASPeakFit-\"+append+\".png\", dpi=300)\n",
    "\n",
    "    keys = hist.Peaks['sigDict'].keys()\n",
    "    #print(keys)\n",
    "    with open(\"GSASPeakFit-\"+append+\".csv\",'a') as fd:\n",
    "        wr=csv.writer(fd)\n",
    "        dwr=csv.DictWriter(fd, keys)\n",
    "\n",
    "        wr.writerow(['# TOF position (pos)', 'Area (int)','Alpha (alp)','Beta (bet)','Sigma (sig)','Gamma (gam)'])\n",
    "        wr.writerow(['# Peak Parameter List'])\n",
    "        wr.writerow(['# Peak Parameter Flags'])\n",
    "        wr.writerow(hist.Peaks['peaks'][0][0::2])\n",
    "        wr.writerow(hist.Peaks['peaks'][0][1::2])\n",
    "        wr.writerow([\"########################\"])\n",
    "        wr.writerow(['# Background Values'])\n",
    "        wr.writerow(hist['Background'][0][3:])\n",
    "        wr.writerow([\"########################\"])\n",
    "        wr.writerow(['# SigDict Keys'])\n",
    "        wr.writerow(['# SigDict Values'])\n",
    "        dwr.writeheader()\n",
    "        dwr.writerows([hist.Peaks['sigDict']])\n",
    "        wr.writerow([\"########################\"])\n",
    "        wr.writerow(['# Covariance Matrix'])\n",
    "        wr.writerows(np.array(hist['Peak Fit Result'][1]))\n",
    "        wr.writerow([\"########################\"])        \n",
    "        wr.writerow(['# Correlation Matrix'])\n",
    "        wr.writerows(np.corrcoef(hist['Peak Fit Result'][1]))\n",
    "        wr.writerow([\"########################\"])        \n",
    "        wr.writerow(['# Reduced ChiSq (GOF)'])\n",
    "        wr.writerow([hist.data['Peak Fit Rvals']['GOF']])\n",
    "        wr.writerow([\"########################\"])   \n",
    "        wr.writerow(['# Dspacing (1 term) -/+ (3 terms)'])\n",
    "        try:\n",
    "            d=Dspace_calc(hist.Peaks['peaks'][0][0],16324.50,6.86,0.00)\n",
    "            d_minus=Dspace_calc(hist.Peaks['peaks'][0][0]-hist.Peaks['sigDict']['pos0'],16324.50,6.86,0.00)\n",
    "            d_plus=Dspace_calc(hist.Peaks['peaks'][0][0]+hist.Peaks['sigDict']['pos0'],16324.50,6.86,0.00)\n",
    "            wr.writerow([d,d_minus,d_plus])\n",
    "            wr.writerow([d,d-d_minus,d_plus-d])\n",
    "        except:\n",
    "            wr.writerow([Dspace_calc(hist.Peaks['peaks'][0][0],16324.50,6.86,0.00)])             \n",
    "    fd.close()"
   ]
  },
  {
   "cell_type": "code",
   "execution_count": null,
   "metadata": {},
   "outputs": [],
   "source": [
    "for i in range(len(hist.Peaks['peaks'])):\n",
    "    print(i)"
   ]
  },
  {
   "cell_type": "code",
   "execution_count": null,
   "metadata": {},
   "outputs": [],
   "source": [
    "hist['Background'][0][3:]"
   ]
  },
  {
   "cell_type": "code",
   "execution_count": null,
   "metadata": {},
   "outputs": [],
   "source": [
    "hist.Peaks['peaks'][0][0::2]"
   ]
  },
  {
   "cell_type": "code",
   "execution_count": null,
   "metadata": {},
   "outputs": [],
   "source": [
    "hist.Peaks['sigDict']"
   ]
  },
  {
   "cell_type": "code",
   "execution_count": null,
   "metadata": {},
   "outputs": [],
   "source": [
    "#OutputData(hist, \"\", TOFlist[0],TOFlist[1],TOFlist[2])\n",
    "# Doesn't work well prior to fitting"
   ]
  },
  {
   "cell_type": "code",
   "execution_count": null,
   "metadata": {},
   "outputs": [],
   "source": []
  },
  {
   "cell_type": "markdown",
   "metadata": {},
   "source": [
    "# Sequence 1, following Rawplot method"
   ]
  },
  {
   "cell_type": "code",
   "execution_count": null,
   "metadata": {},
   "outputs": [],
   "source": []
  },
  {
   "cell_type": "code",
   "execution_count": null,
   "metadata": {},
   "outputs": [],
   "source": [
    "# Define peaks to fit\n",
    "#Limit is between the 422 and 333 peaks\n",
    "\n",
    "hist.set_refinements({'Limits': [TOFlist[1],TOFlist[2]],  \n",
    "      'Background': {\"no. coeffs\": 2,'type': 'chebyschev-1', 'refine': True}\n",
    "                     })\n",
    "# TOF data isn't listed right now.\n",
    "peak1 = hist.add_peak(1, dspace=2.0923)\n",
    "\n",
    "\n"
   ]
  },
  {
   "cell_type": "code",
   "execution_count": null,
   "metadata": {
    "scrolled": false
   },
   "outputs": [],
   "source": [
    "# Following Rawplot method (seq1)\n",
    "\n",
    "#area alone doesn't work well, since there is no positions\n",
    "hist.set_peakFlags(area=True)\n",
    "hist.refine_peaks()\n",
    "OutputData(hist, \"Seq1-Step1-Area\",TOFlist[0],TOFlist[1],TOFlist[2])\n",
    "\n",
    "#\n",
    "hist.set_peakFlags(area=0,pos=True)\n",
    "hist.refine_peaks()\n",
    "OutputData(hist, \"Seq1-Step2-Pos\",TOFlist[0],TOFlist[1],TOFlist[2])\n",
    "\n",
    "hist.set_peakFlags(area=True,pos=True)\n",
    "hist.refine_peaks()\n",
    "OutputData(hist, \"Seq1-Step3-Pos-Area\",TOFlist[0],TOFlist[1],TOFlist[2])\n",
    "\n",
    "#These don't change sigma and gamma, but they do change alpha and beta...\n",
    "\n",
    "hist.set_peakFlags(area=True, pos=0, sig=True)\n",
    "hist.refine_peaks()\n",
    "OutputData(hist, \"Seq1-Step4-Area-Sig\",TOFlist[0],TOFlist[1],TOFlist[2])\n",
    "\n",
    "#hist.set_peakFlags(area=True, pos=True, gam=True)\n",
    "#hist.refine_peaks()\n",
    "\n",
    "hist.set_peakFlags(area=0, pos=0, sig=0, gam=True)\n",
    "hist.refine_peaks()\n",
    "OutputData(hist, \"Seq1-Step5-Gam\",TOFlist[0],TOFlist[1],TOFlist[2])\n",
    "\n",
    "hist.set_peakFlags(area=True, pos=True, sig=True, gam=0)\n",
    "hist.refine_peaks()\n",
    "OutputData(hist, \"Seq1-Step6-Area-Pos-Sig\",TOFlist[0],TOFlist[1],TOFlist[2])\n",
    "\n",
    "\n",
    "\n",
    "# hist.set_peakFlags(area=True, pos=True,alp=True,bet=True, sig=True, gam=True)\n",
    "# hist.refine_peaks()\n",
    "# OutputData(hist, \"Seq-Area-Pos-Sig-Gam-Alp-Bet\",TOFlist[0],TOFlist[1],TOFlist[2])\n"
   ]
  },
  {
   "cell_type": "code",
   "execution_count": null,
   "metadata": {},
   "outputs": [],
   "source": []
  },
  {
   "cell_type": "markdown",
   "metadata": {},
   "source": [
    "# Sequence 2 (Single background; alpha and beta refined, not gamma)"
   ]
  },
  {
   "cell_type": "code",
   "execution_count": null,
   "metadata": {},
   "outputs": [],
   "source": []
  },
  {
   "cell_type": "code",
   "execution_count": null,
   "metadata": {},
   "outputs": [],
   "source": [
    "# Define peaks to fit\n",
    "#Limit is between the 422 and 333 peaks\n",
    "\n",
    "hist.set_refinements({'Limits': [TOFlist[1],TOFlist[2]],  \n",
    "      'Background': {\"no. coeffs\": 1,'type': 'chebyschev-1', 'refine': True}\n",
    "                     })\n",
    "# TOF data isn't listed right now.\n",
    "peak1 = hist.add_peak(1, dspace=2.0923)\n",
    "\n",
    "\n"
   ]
  },
  {
   "cell_type": "code",
   "execution_count": null,
   "metadata": {
    "scrolled": false
   },
   "outputs": [],
   "source": [
    "# Following Rawplot method (seq2)\n",
    "\n",
    "#area alone doesn't work well, since there is no positions\n",
    "hist.set_peakFlags(area=True)\n",
    "hist.refine_peaks()\n",
    "OutputData(hist, \"Seq2-Step1-Area\",TOFlist[0],TOFlist[1],TOFlist[2])\n",
    "\n",
    "#\n",
    "hist.set_peakFlags(area=0,pos=True)\n",
    "hist.refine_peaks()\n",
    "OutputData(hist, \"Seq2-Step2-Pos\",TOFlist[0],TOFlist[1],TOFlist[2])\n",
    "\n",
    "hist.set_peakFlags(area=True,pos=True)\n",
    "hist.refine_peaks()\n",
    "OutputData(hist, \"Seq2-Step3-Pos-Area\",TOFlist[0],TOFlist[1],TOFlist[2])\n",
    "\n",
    "#These don't change sigma and gamma, but they do change alpha and beta...\n",
    "\n",
    "hist.set_peakFlags(area=True, pos=0, sig=True)\n",
    "hist.refine_peaks()\n",
    "OutputData(hist, \"Seq2-Step4-Area-Sig\",TOFlist[0],TOFlist[1],TOFlist[2])\n",
    "\n",
    "#hist.set_peakFlags(area=True, pos=True, gam=True)\n",
    "#hist.refine_peaks()\n",
    "\n",
    "hist.set_peakFlags(area=0, pos=0, sig=0, alp=True)\n",
    "hist.refine_peaks()\n",
    "OutputData(hist, \"Seq2-Step5-Alp\",TOFlist[0],TOFlist[1],TOFlist[2])\n",
    "\n",
    "hist.set_peakFlags(alp=0, bet=True)\n",
    "hist.refine_peaks()\n",
    "OutputData(hist, \"Seq2-Step6-Bet\",TOFlist[0],TOFlist[1],TOFlist[2])\n",
    "\n",
    "hist.set_peakFlags(area=True, pos=True, sig=True, bet=0)\n",
    "hist.refine_peaks()\n",
    "OutputData(hist, \"Seq2-Step7-Area-Pos-Sig\",TOFlist[0],TOFlist[1],TOFlist[2])\n",
    "\n",
    "\n",
    "\n",
    "# hist.set_peakFlags(area=True, pos=True,alp=True,bet=True, sig=True, gam=True)\n",
    "# hist.refine_peaks()\n",
    "# OutputData(hist, \"Seq-Area-Pos-Sig-Gam-Alp-Bet\",TOFlist[0],TOFlist[1],TOFlist[2])\n"
   ]
  },
  {
   "cell_type": "code",
   "execution_count": null,
   "metadata": {},
   "outputs": [],
   "source": []
  },
  {
   "cell_type": "code",
   "execution_count": null,
   "metadata": {},
   "outputs": [],
   "source": [
    "gpx.get_Covariance(['0:0:Back;0','0:0:Back;1','0:0:pos0','0:0:int0','sig0'])"
   ]
  },
  {
   "cell_type": "code",
   "execution_count": null,
   "metadata": {},
   "outputs": [],
   "source": [
    "hist.keys()"
   ]
  },
  {
   "cell_type": "code",
   "execution_count": null,
   "metadata": {},
   "outputs": [],
   "source": [
    "hist['Background']"
   ]
  },
  {
   "cell_type": "code",
   "execution_count": null,
   "metadata": {},
   "outputs": [],
   "source": [
    "hist['Peak Fit Result'][1]"
   ]
  },
  {
   "cell_type": "code",
   "execution_count": null,
   "metadata": {},
   "outputs": [],
   "source": [
    "np.corrcoef(hist['Peak Fit Result'][1])"
   ]
  },
  {
   "cell_type": "markdown",
   "metadata": {},
   "source": [
    "# Nothing run below this"
   ]
  },
  {
   "cell_type": "code",
   "execution_count": null,
   "metadata": {},
   "outputs": [],
   "source": []
  },
  {
   "cell_type": "code",
   "execution_count": null,
   "metadata": {},
   "outputs": [],
   "source": []
  },
  {
   "cell_type": "code",
   "execution_count": null,
   "metadata": {},
   "outputs": [],
   "source": []
  },
  {
   "cell_type": "code",
   "execution_count": null,
   "metadata": {},
   "outputs": [],
   "source": [
    "hist.Peaks['sigDict']"
   ]
  },
  {
   "cell_type": "code",
   "execution_count": null,
   "metadata": {
    "scrolled": false
   },
   "outputs": [],
   "source": [
    "hist.data"
   ]
  },
  {
   "cell_type": "code",
   "execution_count": null,
   "metadata": {},
   "outputs": [],
   "source": [
    "if 'C' in hist.data['Instrument Parameters'][0]['Type'][0]:\n",
    "    print(\"hi\")\n",
    "else:\n",
    "    print(\"low\")"
   ]
  },
  {
   "cell_type": "code",
   "execution_count": null,
   "metadata": {},
   "outputs": [],
   "source": [
    "hist.data['Peak Fit Rvals']['GOF']"
   ]
  },
  {
   "cell_type": "code",
   "execution_count": null,
   "metadata": {},
   "outputs": [],
   "source": []
  },
  {
   "cell_type": "code",
   "execution_count": null,
   "metadata": {},
   "outputs": [],
   "source": []
  },
  {
   "cell_type": "code",
   "execution_count": null,
   "metadata": {},
   "outputs": [],
   "source": []
  },
  {
   "cell_type": "code",
   "execution_count": null,
   "metadata": {},
   "outputs": [],
   "source": []
  },
  {
   "cell_type": "code",
   "execution_count": null,
   "metadata": {},
   "outputs": [],
   "source": [
    "hist.set_peakFlags(area=True, pos=True, sig=True)\n",
    "hist.refine_peaks()\n",
    "hist.set_peakFlags(area=True, pos=True, gam=True)\n",
    "hist.refine_peaks()\n",
    "hist.set_peakFlags(area=True, pos=True, sig=True, gam=True)\n",
    "hist.refine_peaks()"
   ]
  },
  {
   "cell_type": "code",
   "execution_count": null,
   "metadata": {},
   "outputs": [],
   "source": [
    "print('peak positions: ',[i[0] for i in hist.PeakList])\n",
    "for i in range(len(hist.Peaks['peaks'])):\n",
    "    print('peak',i,'pos=',hist.Peaks['peaks'][i][0],'sig=',hist.Peaks['sigDict']['pos'+str(i)])\n"
   ]
  },
  {
   "cell_type": "code",
   "execution_count": null,
   "metadata": {},
   "outputs": [],
   "source": [
    "hist.Peaks['sigDict']"
   ]
  },
  {
   "cell_type": "code",
   "execution_count": null,
   "metadata": {},
   "outputs": [],
   "source": []
  },
  {
   "cell_type": "code",
   "execution_count": null,
   "metadata": {},
   "outputs": [],
   "source": [
    "# fit peaks\n",
    "plt.plot(hist.data['data'][1][0], hist.data['data'][1][3],label='Computed Intensity')\n",
    "plt.xlim(11752.,40000.)\n",
    "plt.show()"
   ]
  },
  {
   "cell_type": "code",
   "execution_count": null,
   "metadata": {},
   "outputs": [],
   "source": [
    "# fit difference\n",
    "plt.figure(figsize=[10,8])\n",
    "plt.plot(hist.data['data'][1][0], hist.data['data'][1][1],color='k',label='Data')\n",
    "plt.plot(hist.data['data'][1][0], hist.data['data'][1][3],color='b',label='Computed Intensity')\n",
    "plt.plot(hist.data['data'][1][0], hist.data['data'][1][5],color='g',label='Difference')\n",
    "plt.xlim(11752.,40000.)\n",
    "plt.legend()\n",
    "plt.show()"
   ]
  },
  {
   "cell_type": "code",
   "execution_count": null,
   "metadata": {},
   "outputs": [],
   "source": [
    "for i in range(len(hist.Peaks['peaks'])):\n",
    "    print('peak',i)\n",
    "    print('TOF pos=',hist.Peaks['peaks'][i][0],'sig=',hist.Peaks['sigDict']['pos'+str(i)])\n",
    "    print('Dspace pos=', Dspace_calc(hist.Peaks['peaks'][i][0],16324.50,6.86,0.00),\n",
    "          'sig (pos)=',Dspace_calc(hist.Peaks['peaks'][i][0]+hist.Peaks['sigDict']['pos'+str(i)],16324.50,6.86,0.00)-\n",
    "          Dspace_calc(hist.Peaks['peaks'][i][0],16324.50,6.86,0.00),\n",
    "          'sig (neg)=',Dspace_calc(hist.Peaks['peaks'][i][0],16324.50,6.86,0.00)-\n",
    "          Dspace_calc(hist.Peaks['peaks'][i][0]-hist.Peaks['sigDict']['pos'+str(i)],16324.50,6.86,0.00))\n",
    "    \n",
    "    "
   ]
  },
  {
   "cell_type": "code",
   "execution_count": null,
   "metadata": {},
   "outputs": [],
   "source": [
    "print(hist.Peaks)"
   ]
  },
  {
   "cell_type": "markdown",
   "metadata": {},
   "source": [
    "## From GSASIIscriptable.py, lines 4007\n",
    "\n",
    "        :returns: dict with two elements where item\n",
    "          'peaks' is a list of peaks where each element is \n",
    "          [pos,pos-ref,area,area-ref,sig,sig-ref,gam,gam-ref], \n",
    "          where the -ref items are refinement flags and item\n",
    "          'sigDict' is a dict with possible items 'Back;#', \n",
    "          'pos#', 'int#', 'sig#', 'gam#'\n",
    "          \n",
    "Fitting output lists:pos       esd       int       esd      alp     esd     bet     esd      sig       esd       gam       esd      bins\n",
    "\n",
    "The fitting output values correspond to the column values"
   ]
  },
  {
   "cell_type": "code",
   "execution_count": null,
   "metadata": {},
   "outputs": [],
   "source": [
    "#print(hist.Peaks)\n",
    "HistDF=pd.DataFrame(hist.Peaks['peaks'], columns=['pos','pos-ref','area','area-ref','alph',\n",
    "                                                  'alph-ref','bet','bet-ref','Sig','Sig-ref',\n",
    "                                                  'Gam','gam-ref'])\n",
    "print(HistDF)"
   ]
  },
  {
   "cell_type": "code",
   "execution_count": null,
   "metadata": {},
   "outputs": [],
   "source": [
    "print(hist.Peaks['sigDict'])"
   ]
  },
  {
   "cell_type": "code",
   "execution_count": null,
   "metadata": {},
   "outputs": [],
   "source": [
    "SigDF=pd.DataFrame(hist.Peaks['sigDict'])#, columns=['pos','pos-ref','area','area-ref','alph',\n",
    "                                            #      'alph-ref','bet','bet-ref','Sig','Sig-ref',\n",
    "                                            #      'Gam','gam-ref'])\n",
    "print(SigDF)"
   ]
  },
  {
   "cell_type": "code",
   "execution_count": null,
   "metadata": {},
   "outputs": [],
   "source": [
    "DataList=[]\n",
    "for i in range(len(hist.Peaks['peaks'])):\n",
    "    #print('peak',i)\n",
    "    #print('TOF pos=',hist.Peaks['peaks'][i][0],'sig=',hist.Peaks['sigDict']['pos'+str(i)])\n",
    "    DataList.append([i,hist.Peaks['peaks'][i][0],hist.Peaks['sigDict']['pos'+str(i)]])\n",
    "#print(DataList)\n",
    "ListDF=pd.DataFrame(DataList, columns=['Peak index','TOF Pos','TOF esd'])\n",
    "\n",
    "#ListDF['Dspace Pos']=Dspace_calc(ListDF['TOF Pos'],16324.50,6.86,0.00)\n",
    "ListDF['Dspace Pos']=ListDF.apply(lambda x: Dspace_calc(x['TOF Pos'],16324.50,6.86,0.00), axis=1)\n",
    "ListDF['Dspace esd']=ListDF.apply(lambda x: Dspace_calc(x['TOF Pos']+x['TOF esd'],16324.50,6.86,0.00) - \n",
    "                                      Dspace_calc(x['TOF Pos'],16324.50,6.86,0.00), axis=1)\n",
    "print(ListDF)\n",
    "ListDF.to_csv('GSASPeakFit.csv')"
   ]
  },
  {
   "cell_type": "code",
   "execution_count": null,
   "metadata": {},
   "outputs": [],
   "source": [
    "##  See further down on sequential refinements\n",
    "# Sequential Refinement\n",
    "\n",
    "# gpx.set_Controls('cycles',10)"
   ]
  },
  {
   "cell_type": "code",
   "execution_count": null,
   "metadata": {},
   "outputs": [],
   "source": []
  },
  {
   "cell_type": "code",
   "execution_count": null,
   "metadata": {},
   "outputs": [],
   "source": []
  }
 ],
 "metadata": {
  "kernelspec": {
   "display_name": "Python 3 (ipykernel)",
   "language": "python",
   "name": "python3"
  },
  "language_info": {
   "codemirror_mode": {
    "name": "ipython",
    "version": 3
   },
   "file_extension": ".py",
   "mimetype": "text/x-python",
   "name": "python",
   "nbconvert_exporter": "python",
   "pygments_lexer": "ipython3",
   "version": "3.7.11"
  }
 },
 "nbformat": 4,
 "nbformat_minor": 4
}
