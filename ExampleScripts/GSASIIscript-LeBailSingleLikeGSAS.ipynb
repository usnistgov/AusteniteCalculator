{
 "cells": [
  {
   "cell_type": "code",
   "execution_count": 1,
   "metadata": {},
   "outputs": [],
   "source": [
    "#pip install PySPG"
   ]
  },
  {
   "cell_type": "code",
   "execution_count": 2,
   "metadata": {},
   "outputs": [],
   "source": [
    "# following tutorial at\n",
    "# https://gsas-ii.readthedocs.io/en/latest/GSASIIscriptable.html#peak-fitting"
   ]
  },
  {
   "cell_type": "code",
   "execution_count": 3,
   "metadata": {},
   "outputs": [
    {
     "name": "stdout",
     "output_type": "stream",
     "text": [
      "GSAS-II binary directory: C:\\Users\\dtn1\\gsas2full\\GSASII\\bindist\n",
      "6 values read from config file C:\\Users\\dtn1\\gsas2full\\GSASII\\config.py\n"
     ]
    }
   ],
   "source": [
    "import os,sys\n",
    "import matplotlib.pyplot as plt\n",
    "import pandas as pd\n",
    "import numpy as np\n",
    "import math\n",
    "import csv\n",
    "sys.path.insert(0,'/Users/dtn1/gsas2full/GSASII/') # needed to \"find\" GSAS-II modules\n",
    "import GSASIIscriptable as G2sc"
   ]
  },
  {
   "cell_type": "code",
   "execution_count": 4,
   "metadata": {},
   "outputs": [],
   "source": [
    "ScriptDirectory=os.getcwd()\n",
    "GitLabDirectory=os.path.dirname(os.getcwd())\n",
    "ExampleDataDirectory=os.path.join(GitLabDirectory,\"ExampleData\")\n",
    "SaveDataDirectory=os.path.join(GitLabDirectory,\"SaveData\")"
   ]
  },
  {
   "cell_type": "code",
   "execution_count": 9,
   "metadata": {},
   "outputs": [
    {
     "data": {
      "text/plain": [
       "'C:\\\\Users\\\\dtn1\\\\Documents\\\\AusteniteCalc\\\\austenitecalculator'"
      ]
     },
     "execution_count": 9,
     "metadata": {},
     "output_type": "execute_result"
    }
   ],
   "source": [
    "GitLabDirectory"
   ]
  },
  {
   "cell_type": "code",
   "execution_count": 10,
   "metadata": {
    "scrolled": false
   },
   "outputs": [
    {
     "name": "stdout",
     "output_type": "stream",
     "text": [
      "C:\\Users\\dtn1\\Documents\\AusteniteCalc\\austenitecalculator\\ExampleData\\Gonio_BB-HD-Cu_Gallipix3d[30-120]_New_Control_proper power.xrdml block # 1 read by Reader Panalytical xrdml (xml)\n",
      "Instrument parameters read: C:\\Users\\dtn1\\Documents\\AusteniteCalc\\austenitecalculator\\ExampleData\\TestCalibration.instprm (G2 fmt) bank 1\n"
     ]
    }
   ],
   "source": [
    "\n",
    "datadir = os.path.expanduser(ExampleDataDirectory)\n",
    "SaveDir= os.path.expanduser(SaveDataDirectory)\n",
    "DataPathWrap = lambda fil: os.path.join(datadir,fil)\n",
    "SaveWrap = lambda fil: os.path.join(SaveDir,fil)\n",
    "gpx = G2sc.G2Project(newgpx=SaveWrap('pkfit.gpx'))\n",
    "hist = gpx.add_powder_histogram(DataPathWrap('Gonio_BB-HD-Cu_Gallipix3d[30-120]_New_Control_proper power.xrdml'),\n",
    "                                DataPathWrap('TestCalibration.instprm'), # need to get a \n",
    "                                fmthint='Panalytical xrdml (xml)', databank=1, instbank=1)"
   ]
  },
  {
   "cell_type": "code",
   "execution_count": 14,
   "metadata": {},
   "outputs": [
    {
     "ename": "TypeError",
     "evalue": "list indices must be integers or slices, not str",
     "output_type": "error",
     "traceback": [
      "\u001b[1;31m---------------------------------------------------------------------------\u001b[0m",
      "\u001b[1;31mTypeError\u001b[0m                                 Traceback (most recent call last)",
      "\u001b[1;32m<ipython-input-14-f450552c4a6e>\u001b[0m in \u001b[0;36m<module>\u001b[1;34m\u001b[0m\n\u001b[0;32m      1\u001b[0m \u001b[1;31m#hist.data['data'][0]['hId']\u001b[0m\u001b[1;33m\u001b[0m\u001b[1;33m\u001b[0m\u001b[1;33m\u001b[0m\u001b[0m\n\u001b[0;32m      2\u001b[0m \u001b[1;31m#hist.data\u001b[0m\u001b[1;33m\u001b[0m\u001b[1;33m\u001b[0m\u001b[1;33m\u001b[0m\u001b[0m\n\u001b[1;32m----> 3\u001b[1;33m \u001b[0mhist\u001b[0m\u001b[1;33m[\u001b[0m\u001b[1;34m'data'\u001b[0m\u001b[1;33m]\u001b[0m\u001b[1;33m[\u001b[0m\u001b[1;34m'hId'\u001b[0m\u001b[1;33m]\u001b[0m\u001b[1;33m.\u001b[0m\u001b[0mdata\u001b[0m\u001b[1;33m\u001b[0m\u001b[1;33m\u001b[0m\u001b[0m\n\u001b[0m",
      "\u001b[1;31mTypeError\u001b[0m: list indices must be integers or slices, not str"
     ]
    }
   ],
   "source": [
    "#hist.data['data'][0]['hId']\n",
    "#hist.data\n",
    "#hist['data']['hId'].data"
   ]
  },
  {
   "cell_type": "code",
   "execution_count": 24,
   "metadata": {
    "scrolled": true
   },
   "outputs": [
    {
     "data": {
      "text/plain": [
       "[array([ 30.01432394,  30.04297182,  30.0716197 , ..., 119.8827235 ,\n",
       "        119.91137138, 119.94001926]),\n",
       " array([3252., 3228., 3176., ..., 2154., 2119., 2189.]),\n",
       " array([0.0003075 , 0.00030979, 0.00031486, ..., 0.00046425, 0.00047192,\n",
       "        0.00045683]),\n",
       " array([0., 0., 0., ..., 0., 0., 0.]),\n",
       " array([0., 0., 0., ..., 0., 0., 0.]),\n",
       " array([0., 0., 0., ..., 0., 0., 0.])]"
      ]
     },
     "execution_count": 24,
     "metadata": {},
     "output_type": "execute_result"
    }
   ],
   "source": [
    "#len(hist.data['data']) # 3 objects\n",
    "\n",
    "#hist.data['data'][0] # dict: with some kind of meta-info?\n",
    "#hist.data['data'][1] # np.array: see below\n",
    "#hist.data['data'][2] # string: file name"
   ]
  },
  {
   "cell_type": "markdown",
   "metadata": {},
   "source": [
    "# From: https://gsas-ii.readthedocs.io/en/latest/GSASIIobj.html?highlight=Powder%20Diffraction%20Tree#powder-diffraction-tree-items\n",
    "    \n",
    "    Data \t\t\n",
    "\n",
    "(list) The data consist of a list of 6 np.arrays containing in order:\n",
    "\n",
    "    the x-postions (two-theta in degrees),\n",
    "    the intensity values (Yobs),\n",
    "    the weights for each Yobs value\n",
    "    the computed intensity values (Ycalc)\n",
    "    the background values\n",
    "    Yobs-Ycalc\n"
   ]
  },
  {
   "cell_type": "code",
   "execution_count": 26,
   "metadata": {},
   "outputs": [
    {
     "data": {
      "image/png": "[encoded data removed]",
      "text/plain": [
       "<Figure size 432x288 with 1 Axes>"
      ]
     },
     "metadata": {
      "needs_background": "light"
     },
     "output_type": "display_data"
    }
   ],
   "source": [
    "plt.plot(hist.data['data'][1][0], hist.data['data'][1][1])\n",
    "plt.xlabel(\"2theta\")\n",
    "plt.ylabel(\"intensity\")\n",
    "plt.show()\n"
   ]
  },
  {
   "cell_type": "code",
   "execution_count": null,
   "metadata": {},
   "outputs": [],
   "source": []
  },
  {
   "cell_type": "code",
   "execution_count": null,
   "metadata": {},
   "outputs": [],
   "source": [
    "### Have not edited below this for austenite calculator"
   ]
  },
  {
   "cell_type": "code",
   "execution_count": null,
   "metadata": {},
   "outputs": [],
   "source": []
  },
  {
   "cell_type": "code",
   "execution_count": null,
   "metadata": {},
   "outputs": [],
   "source": [
    "dlist=[2.0923, 2.0923-0.05, 2.0923+0.05]\n",
    "TOFlist=[]\n",
    "for i in dlist:\n",
    "    print(TOF_calc(i,16324.50,6.86,0.00))\n",
    "    TOFlist.append(TOF_calc(i,16324.50,6.86,0.00))"
   ]
  },
  {
   "cell_type": "code",
   "execution_count": null,
   "metadata": {},
   "outputs": [],
   "source": []
  },
  {
   "cell_type": "code",
   "execution_count": null,
   "metadata": {
    "scrolled": true
   },
   "outputs": [],
   "source": [
    "\n",
    "\n",
    "plt.xlim(TOFlist[1],TOFlist[2])\n",
    "plt.plot(hist.data['data'][1][0], hist.data['data'][1][1])\n",
    "plt.show()"
   ]
  },
  {
   "cell_type": "code",
   "execution_count": null,
   "metadata": {},
   "outputs": [],
   "source": []
  },
  {
   "cell_type": "code",
   "execution_count": null,
   "metadata": {},
   "outputs": [],
   "source": [
    "def OutputData(hist, append, Tick, LowLimit, HighLimit):\n",
    "    # plot fit and difference\n",
    "    plt.figure(figsize=[10,8])\n",
    "    plt.scatter(hist.data['data'][1][0], hist.data['data'][1][1],color='k',label='Data')\n",
    "    plt.plot(hist.data['data'][1][0], hist.data['data'][1][3],color='b',label='Computed Intensity')\n",
    "    plt.plot(hist.data['data'][1][0], hist.data['data'][1][5],'-o',color='g',label='Difference')\n",
    "    # vertical line for place of intial guess\n",
    "    plt.vlines(Tick,0,plt.gca().get_ylim()[0]*0.5)\n",
    "    # horizontal line to benchmark difference plot\n",
    "    plt.hlines(0,plt.gca().get_xlim()[0],plt.gca().get_xlim()[1],'0.7')\n",
    "    plt.xlim(LowLimit, HighLimit)\n",
    "    plt.legend()\n",
    "    # option to view on screen\n",
    "    #plt.show()\n",
    "    # option to save the plot\n",
    "    plt.savefig(\"GSASPeakFit-\"+append+\".png\", dpi=300)\n",
    "\n",
    "    keys = hist.Peaks['sigDict'].keys()\n",
    "    #print(keys)\n",
    "    with open(\"GSASPeakFit-\"+append+\".csv\",'a') as fd:\n",
    "        wr=csv.writer(fd)\n",
    "        dwr=csv.DictWriter(fd, keys)\n",
    "\n",
    "        wr.writerow(['# TOF position (pos)', 'Area (int)','Alpha (alp)','Beta (bet)','Sigma (sig)','Gamma (gam)'])\n",
    "        wr.writerow(['# Peak Parameter List'])\n",
    "        wr.writerow(['# Peak Parameter Flags'])\n",
    "        wr.writerow(hist.Peaks['peaks'][0][0::2])\n",
    "        wr.writerow(hist.Peaks['peaks'][0][1::2])\n",
    "        wr.writerow([\"########################\"])\n",
    "        wr.writerow(['# Background Values'])\n",
    "        wr.writerow(hist['Background'][0][3:])\n",
    "        wr.writerow([\"########################\"])\n",
    "        wr.writerow(['# SigDict Keys'])\n",
    "        wr.writerow(['# SigDict Values'])\n",
    "        dwr.writeheader()\n",
    "        dwr.writerows([hist.Peaks['sigDict']])\n",
    "        wr.writerow([\"########################\"])\n",
    "        wr.writerow(['# Covariance Matrix'])\n",
    "        wr.writerows(np.array(hist['Peak Fit Result'][1]))\n",
    "        wr.writerow([\"########################\"])        \n",
    "        wr.writerow(['# Correlation Matrix'])\n",
    "        wr.writerows(np.corrcoef(hist['Peak Fit Result'][1]))\n",
    "        wr.writerow([\"########################\"])        \n",
    "        wr.writerow(['# Reduced ChiSq (GOF)'])\n",
    "        wr.writerow([hist.data['Peak Fit Rvals']['GOF']])\n",
    "        wr.writerow([\"########################\"])   \n",
    "        wr.writerow(['# Dspacing (1 term) -/+ (3 terms)'])\n",
    "        try:\n",
    "            d=Dspace_calc(hist.Peaks['peaks'][0][0],16324.50,6.86,0.00)\n",
    "            d_minus=Dspace_calc(hist.Peaks['peaks'][0][0]-hist.Peaks['sigDict']['pos0'],16324.50,6.86,0.00)\n",
    "            d_plus=Dspace_calc(hist.Peaks['peaks'][0][0]+hist.Peaks['sigDict']['pos0'],16324.50,6.86,0.00)\n",
    "            wr.writerow([d,d_minus,d_plus])\n",
    "            wr.writerow([d,d-d_minus,d_plus-d])\n",
    "        except:\n",
    "            wr.writerow([Dspace_calc(hist.Peaks['peaks'][0][0],16324.50,6.86,0.00)])             \n",
    "    fd.close()"
   ]
  },
  {
   "cell_type": "code",
   "execution_count": null,
   "metadata": {},
   "outputs": [],
   "source": [
    "for i in range(len(hist.Peaks['peaks'])):\n",
    "    print(i)"
   ]
  },
  {
   "cell_type": "code",
   "execution_count": null,
   "metadata": {},
   "outputs": [],
   "source": [
    "hist['Background'][0][3:]"
   ]
  },
  {
   "cell_type": "code",
   "execution_count": null,
   "metadata": {},
   "outputs": [],
   "source": [
    "hist.Peaks['peaks'][0][0::2]"
   ]
  },
  {
   "cell_type": "code",
   "execution_count": null,
   "metadata": {},
   "outputs": [],
   "source": [
    "hist.Peaks['sigDict']"
   ]
  },
  {
   "cell_type": "code",
   "execution_count": null,
   "metadata": {},
   "outputs": [],
   "source": [
    "#OutputData(hist, \"\", TOFlist[0],TOFlist[1],TOFlist[2])\n",
    "# Doesn't work well prior to fitting"
   ]
  },
  {
   "cell_type": "code",
   "execution_count": null,
   "metadata": {},
   "outputs": [],
   "source": []
  },
  {
   "cell_type": "markdown",
   "metadata": {},
   "source": [
    "# Sequence 1, following Rawplot method"
   ]
  },
  {
   "cell_type": "code",
   "execution_count": null,
   "metadata": {},
   "outputs": [],
   "source": []
  },
  {
   "cell_type": "code",
   "execution_count": null,
   "metadata": {},
   "outputs": [],
   "source": [
    "# Define peaks to fit\n",
    "#Limit is between the 422 and 333 peaks\n",
    "\n",
    "hist.set_refinements({'Limits': [TOFlist[1],TOFlist[2]],  \n",
    "      'Background': {\"no. coeffs\": 2,'type': 'chebyschev-1', 'refine': True}\n",
    "                     })\n",
    "# TOF data isn't listed right now.\n",
    "peak1 = hist.add_peak(1, dspace=2.0923)\n",
    "\n",
    "\n"
   ]
  },
  {
   "cell_type": "code",
   "execution_count": null,
   "metadata": {
    "scrolled": false
   },
   "outputs": [],
   "source": [
    "# Following Rawplot method (seq1)\n",
    "\n",
    "#area alone doesn't work well, since there is no positions\n",
    "hist.set_peakFlags(area=True)\n",
    "hist.refine_peaks()\n",
    "OutputData(hist, \"Seq1-Step1-Area\",TOFlist[0],TOFlist[1],TOFlist[2])\n",
    "\n",
    "#\n",
    "hist.set_peakFlags(area=0,pos=True)\n",
    "hist.refine_peaks()\n",
    "OutputData(hist, \"Seq1-Step2-Pos\",TOFlist[0],TOFlist[1],TOFlist[2])\n",
    "\n",
    "hist.set_peakFlags(area=True,pos=True)\n",
    "hist.refine_peaks()\n",
    "OutputData(hist, \"Seq1-Step3-Pos-Area\",TOFlist[0],TOFlist[1],TOFlist[2])\n",
    "\n",
    "#These don't change sigma and gamma, but they do change alpha and beta...\n",
    "\n",
    "hist.set_peakFlags(area=True, pos=0, sig=True)\n",
    "hist.refine_peaks()\n",
    "OutputData(hist, \"Seq1-Step4-Area-Sig\",TOFlist[0],TOFlist[1],TOFlist[2])\n",
    "\n",
    "#hist.set_peakFlags(area=True, pos=True, gam=True)\n",
    "#hist.refine_peaks()\n",
    "\n",
    "hist.set_peakFlags(area=0, pos=0, sig=0, gam=True)\n",
    "hist.refine_peaks()\n",
    "OutputData(hist, \"Seq1-Step5-Gam\",TOFlist[0],TOFlist[1],TOFlist[2])\n",
    "\n",
    "hist.set_peakFlags(area=True, pos=True, sig=True, gam=0)\n",
    "hist.refine_peaks()\n",
    "OutputData(hist, \"Seq1-Step6-Area-Pos-Sig\",TOFlist[0],TOFlist[1],TOFlist[2])\n",
    "\n",
    "\n",
    "\n",
    "# hist.set_peakFlags(area=True, pos=True,alp=True,bet=True, sig=True, gam=True)\n",
    "# hist.refine_peaks()\n",
    "# OutputData(hist, \"Seq-Area-Pos-Sig-Gam-Alp-Bet\",TOFlist[0],TOFlist[1],TOFlist[2])\n"
   ]
  },
  {
   "cell_type": "code",
   "execution_count": null,
   "metadata": {},
   "outputs": [],
   "source": []
  },
  {
   "cell_type": "markdown",
   "metadata": {},
   "source": [
    "# Sequence 2 (Single background; alpha and beta refined, not gamma)"
   ]
  },
  {
   "cell_type": "code",
   "execution_count": null,
   "metadata": {},
   "outputs": [],
   "source": []
  },
  {
   "cell_type": "code",
   "execution_count": null,
   "metadata": {},
   "outputs": [],
   "source": [
    "# Define peaks to fit\n",
    "#Limit is between the 422 and 333 peaks\n",
    "\n",
    "hist.set_refinements({'Limits': [TOFlist[1],TOFlist[2]],  \n",
    "      'Background': {\"no. coeffs\": 1,'type': 'chebyschev-1', 'refine': True}\n",
    "                     })\n",
    "# TOF data isn't listed right now.\n",
    "peak1 = hist.add_peak(1, dspace=2.0923)\n",
    "\n",
    "\n"
   ]
  },
  {
   "cell_type": "code",
   "execution_count": null,
   "metadata": {
    "scrolled": false
   },
   "outputs": [],
   "source": [
    "# Following Rawplot method (seq2)\n",
    "\n",
    "#area alone doesn't work well, since there is no positions\n",
    "hist.set_peakFlags(area=True)\n",
    "hist.refine_peaks()\n",
    "OutputData(hist, \"Seq2-Step1-Area\",TOFlist[0],TOFlist[1],TOFlist[2])\n",
    "\n",
    "#\n",
    "hist.set_peakFlags(area=0,pos=True)\n",
    "hist.refine_peaks()\n",
    "OutputData(hist, \"Seq2-Step2-Pos\",TOFlist[0],TOFlist[1],TOFlist[2])\n",
    "\n",
    "hist.set_peakFlags(area=True,pos=True)\n",
    "hist.refine_peaks()\n",
    "OutputData(hist, \"Seq2-Step3-Pos-Area\",TOFlist[0],TOFlist[1],TOFlist[2])\n",
    "\n",
    "#These don't change sigma and gamma, but they do change alpha and beta...\n",
    "\n",
    "hist.set_peakFlags(area=True, pos=0, sig=True)\n",
    "hist.refine_peaks()\n",
    "OutputData(hist, \"Seq2-Step4-Area-Sig\",TOFlist[0],TOFlist[1],TOFlist[2])\n",
    "\n",
    "#hist.set_peakFlags(area=True, pos=True, gam=True)\n",
    "#hist.refine_peaks()\n",
    "\n",
    "hist.set_peakFlags(area=0, pos=0, sig=0, alp=True)\n",
    "hist.refine_peaks()\n",
    "OutputData(hist, \"Seq2-Step5-Alp\",TOFlist[0],TOFlist[1],TOFlist[2])\n",
    "\n",
    "hist.set_peakFlags(alp=0, bet=True)\n",
    "hist.refine_peaks()\n",
    "OutputData(hist, \"Seq2-Step6-Bet\",TOFlist[0],TOFlist[1],TOFlist[2])\n",
    "\n",
    "hist.set_peakFlags(area=True, pos=True, sig=True, bet=0)\n",
    "hist.refine_peaks()\n",
    "OutputData(hist, \"Seq2-Step7-Area-Pos-Sig\",TOFlist[0],TOFlist[1],TOFlist[2])\n",
    "\n",
    "\n",
    "\n",
    "# hist.set_peakFlags(area=True, pos=True,alp=True,bet=True, sig=True, gam=True)\n",
    "# hist.refine_peaks()\n",
    "# OutputData(hist, \"Seq-Area-Pos-Sig-Gam-Alp-Bet\",TOFlist[0],TOFlist[1],TOFlist[2])\n"
   ]
  },
  {
   "cell_type": "code",
   "execution_count": null,
   "metadata": {},
   "outputs": [],
   "source": []
  },
  {
   "cell_type": "code",
   "execution_count": null,
   "metadata": {},
   "outputs": [],
   "source": [
    "gpx.get_Covariance(['0:0:Back;0','0:0:Back;1','0:0:pos0','0:0:int0','sig0'])"
   ]
  },
  {
   "cell_type": "code",
   "execution_count": null,
   "metadata": {},
   "outputs": [],
   "source": [
    "hist.keys()"
   ]
  },
  {
   "cell_type": "code",
   "execution_count": null,
   "metadata": {},
   "outputs": [],
   "source": [
    "hist['Background']"
   ]
  },
  {
   "cell_type": "code",
   "execution_count": null,
   "metadata": {},
   "outputs": [],
   "source": [
    "hist['Peak Fit Result'][1]"
   ]
  },
  {
   "cell_type": "code",
   "execution_count": null,
   "metadata": {},
   "outputs": [],
   "source": [
    "np.corrcoef(hist['Peak Fit Result'][1])"
   ]
  },
  {
   "cell_type": "markdown",
   "metadata": {},
   "source": [
    "# Nothing run below this"
   ]
  },
  {
   "cell_type": "code",
   "execution_count": null,
   "metadata": {},
   "outputs": [],
   "source": []
  },
  {
   "cell_type": "code",
   "execution_count": null,
   "metadata": {},
   "outputs": [],
   "source": []
  },
  {
   "cell_type": "code",
   "execution_count": null,
   "metadata": {},
   "outputs": [],
   "source": []
  },
  {
   "cell_type": "code",
   "execution_count": null,
   "metadata": {},
   "outputs": [],
   "source": [
    "hist.Peaks['sigDict']"
   ]
  },
  {
   "cell_type": "code",
   "execution_count": null,
   "metadata": {
    "scrolled": false
   },
   "outputs": [],
   "source": [
    "hist.data"
   ]
  },
  {
   "cell_type": "code",
   "execution_count": null,
   "metadata": {},
   "outputs": [],
   "source": [
    "if 'C' in hist.data['Instrument Parameters'][0]['Type'][0]:\n",
    "    print(\"hi\")\n",
    "else:\n",
    "    print(\"low\")"
   ]
  },
  {
   "cell_type": "code",
   "execution_count": null,
   "metadata": {},
   "outputs": [],
   "source": [
    "hist.data['Peak Fit Rvals']['GOF']"
   ]
  },
  {
   "cell_type": "code",
   "execution_count": null,
   "metadata": {},
   "outputs": [],
   "source": []
  },
  {
   "cell_type": "code",
   "execution_count": null,
   "metadata": {},
   "outputs": [],
   "source": []
  },
  {
   "cell_type": "code",
   "execution_count": null,
   "metadata": {},
   "outputs": [],
   "source": []
  },
  {
   "cell_type": "code",
   "execution_count": null,
   "metadata": {},
   "outputs": [],
   "source": []
  },
  {
   "cell_type": "code",
   "execution_count": null,
   "metadata": {},
   "outputs": [],
   "source": [
    "hist.set_peakFlags(area=True, pos=True, sig=True)\n",
    "hist.refine_peaks()\n",
    "hist.set_peakFlags(area=True, pos=True, gam=True)\n",
    "hist.refine_peaks()\n",
    "hist.set_peakFlags(area=True, pos=True, sig=True, gam=True)\n",
    "hist.refine_peaks()"
   ]
  },
  {
   "cell_type": "code",
   "execution_count": null,
   "metadata": {},
   "outputs": [],
   "source": [
    "print('peak positions: ',[i[0] for i in hist.PeakList])\n",
    "for i in range(len(hist.Peaks['peaks'])):\n",
    "    print('peak',i,'pos=',hist.Peaks['peaks'][i][0],'sig=',hist.Peaks['sigDict']['pos'+str(i)])\n"
   ]
  },
  {
   "cell_type": "code",
   "execution_count": null,
   "metadata": {},
   "outputs": [],
   "source": [
    "hist.Peaks['sigDict']"
   ]
  },
  {
   "cell_type": "code",
   "execution_count": null,
   "metadata": {},
   "outputs": [],
   "source": []
  },
  {
   "cell_type": "code",
   "execution_count": null,
   "metadata": {},
   "outputs": [],
   "source": [
    "# fit peaks\n",
    "plt.plot(hist.data['data'][1][0], hist.data['data'][1][3],label='Computed Intensity')\n",
    "plt.xlim(11752.,40000.)\n",
    "plt.show()"
   ]
  },
  {
   "cell_type": "code",
   "execution_count": null,
   "metadata": {},
   "outputs": [],
   "source": [
    "# fit difference\n",
    "plt.figure(figsize=[10,8])\n",
    "plt.plot(hist.data['data'][1][0], hist.data['data'][1][1],color='k',label='Data')\n",
    "plt.plot(hist.data['data'][1][0], hist.data['data'][1][3],color='b',label='Computed Intensity')\n",
    "plt.plot(hist.data['data'][1][0], hist.data['data'][1][5],color='g',label='Difference')\n",
    "plt.xlim(11752.,40000.)\n",
    "plt.legend()\n",
    "plt.show()"
   ]
  },
  {
   "cell_type": "code",
   "execution_count": null,
   "metadata": {},
   "outputs": [],
   "source": [
    "for i in range(len(hist.Peaks['peaks'])):\n",
    "    print('peak',i)\n",
    "    print('TOF pos=',hist.Peaks['peaks'][i][0],'sig=',hist.Peaks['sigDict']['pos'+str(i)])\n",
    "    print('Dspace pos=', Dspace_calc(hist.Peaks['peaks'][i][0],16324.50,6.86,0.00),\n",
    "          'sig (pos)=',Dspace_calc(hist.Peaks['peaks'][i][0]+hist.Peaks['sigDict']['pos'+str(i)],16324.50,6.86,0.00)-\n",
    "          Dspace_calc(hist.Peaks['peaks'][i][0],16324.50,6.86,0.00),\n",
    "          'sig (neg)=',Dspace_calc(hist.Peaks['peaks'][i][0],16324.50,6.86,0.00)-\n",
    "          Dspace_calc(hist.Peaks['peaks'][i][0]-hist.Peaks['sigDict']['pos'+str(i)],16324.50,6.86,0.00))\n",
    "    \n",
    "    "
   ]
  },
  {
   "cell_type": "code",
   "execution_count": null,
   "metadata": {},
   "outputs": [],
   "source": [
    "print(hist.Peaks)"
   ]
  },
  {
   "cell_type": "markdown",
   "metadata": {},
   "source": [
    "## From GSASIIscriptable.py, lines 4007\n",
    "\n",
    "        :returns: dict with two elements where item\n",
    "          'peaks' is a list of peaks where each element is \n",
    "          [pos,pos-ref,area,area-ref,sig,sig-ref,gam,gam-ref], \n",
    "          where the -ref items are refinement flags and item\n",
    "          'sigDict' is a dict with possible items 'Back;#', \n",
    "          'pos#', 'int#', 'sig#', 'gam#'\n",
    "          \n",
    "Fitting output lists:pos       esd       int       esd      alp     esd     bet     esd      sig       esd       gam       esd      bins\n",
    "\n",
    "The fitting output values correspond to the column values"
   ]
  },
  {
   "cell_type": "code",
   "execution_count": null,
   "metadata": {},
   "outputs": [],
   "source": [
    "#print(hist.Peaks)\n",
    "HistDF=pd.DataFrame(hist.Peaks['peaks'], columns=['pos','pos-ref','area','area-ref','alph',\n",
    "                                                  'alph-ref','bet','bet-ref','Sig','Sig-ref',\n",
    "                                                  'Gam','gam-ref'])\n",
    "print(HistDF)"
   ]
  },
  {
   "cell_type": "code",
   "execution_count": null,
   "metadata": {},
   "outputs": [],
   "source": [
    "print(hist.Peaks['sigDict'])"
   ]
  },
  {
   "cell_type": "code",
   "execution_count": null,
   "metadata": {},
   "outputs": [],
   "source": [
    "SigDF=pd.DataFrame(hist.Peaks['sigDict'])#, columns=['pos','pos-ref','area','area-ref','alph',\n",
    "                                            #      'alph-ref','bet','bet-ref','Sig','Sig-ref',\n",
    "                                            #      'Gam','gam-ref'])\n",
    "print(SigDF)"
   ]
  },
  {
   "cell_type": "code",
   "execution_count": null,
   "metadata": {},
   "outputs": [],
   "source": [
    "DataList=[]\n",
    "for i in range(len(hist.Peaks['peaks'])):\n",
    "    #print('peak',i)\n",
    "    #print('TOF pos=',hist.Peaks['peaks'][i][0],'sig=',hist.Peaks['sigDict']['pos'+str(i)])\n",
    "    DataList.append([i,hist.Peaks['peaks'][i][0],hist.Peaks['sigDict']['pos'+str(i)]])\n",
    "#print(DataList)\n",
    "ListDF=pd.DataFrame(DataList, columns=['Peak index','TOF Pos','TOF esd'])\n",
    "\n",
    "#ListDF['Dspace Pos']=Dspace_calc(ListDF['TOF Pos'],16324.50,6.86,0.00)\n",
    "ListDF['Dspace Pos']=ListDF.apply(lambda x: Dspace_calc(x['TOF Pos'],16324.50,6.86,0.00), axis=1)\n",
    "ListDF['Dspace esd']=ListDF.apply(lambda x: Dspace_calc(x['TOF Pos']+x['TOF esd'],16324.50,6.86,0.00) - \n",
    "                                      Dspace_calc(x['TOF Pos'],16324.50,6.86,0.00), axis=1)\n",
    "print(ListDF)\n",
    "ListDF.to_csv('GSASPeakFit.csv')"
   ]
  },
  {
   "cell_type": "code",
   "execution_count": null,
   "metadata": {},
   "outputs": [],
   "source": [
    "##  See further down on sequential refinements\n",
    "# Sequential Refinement\n",
    "\n",
    "# gpx.set_Controls('cycles',10)"
   ]
  },
  {
   "cell_type": "code",
   "execution_count": null,
   "metadata": {},
   "outputs": [],
   "source": []
  },
  {
   "cell_type": "code",
   "execution_count": null,
   "metadata": {},
   "outputs": [],
   "source": []
  }
 ],
 "metadata": {
  "kernelspec": {
   "display_name": "Python 3",
   "language": "python",
   "name": "python3"
  },
  "language_info": {
   "codemirror_mode": {
    "name": "ipython",
    "version": 3
   },
   "file_extension": ".py",
   "mimetype": "text/x-python",
   "name": "python",
   "nbconvert_exporter": "python",
   "pygments_lexer": "ipython3",
   "version": "3.7.1"
  }
 },
 "nbformat": 4,
 "nbformat_minor": 4
}
