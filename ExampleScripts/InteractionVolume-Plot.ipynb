{
 "cells": [
  {
   "cell_type": "code",
   "execution_count": null,
   "metadata": {},
   "outputs": [],
   "source": []
  },
  {
   "cell_type": "raw",
   "metadata": {},
   "source": [
    "As an x-ray passes through matter, there are several things that can happen:\n",
    "1) Nothing (continues along it's way)\n",
    "2) Scattered (diffraction, \"f_0\" in scattering factor calculations)\n",
    "3) 'Anomolously' scattered (flourescence and similar, \"f' \" in scattering factor calculations)\n",
    "4) Absorbed (\"f'' \" in scattering factor calculations)\n",
    "\n",
    "From Section 4.2.6.1.2 of International Tables for Crystallography Volume C: Mathematical, physical and chemical tables Second Edition.\n",
    "\n",
    "Absorbtion tends to be a fairly intuitive phenomena, so we'll start modeling there."
   ]
  },
  {
   "cell_type": "markdown",
   "metadata": {},
   "source": [
    "# Linear Model of Absorbption"
   ]
  },
  {
   "cell_type": "raw",
   "metadata": {},
   "source": [
    "Taken from p131 of \"Texture and Anisotropy\" by Kocks et al.  \n",
    "\n",
    "I = I_0 *  exp(-mu * t)\n",
    "Where:\n",
    "I_0 is the incident x-ray intensity\n",
    "mu is the linear absorbtion coefficient\n",
    "t is the thickness (distace) traveled by the x-rays\n",
    "\n",
    "mu is a function of the material being passed through and the x-ray energies\n",
    "mu/rho is the mass obsorbtion coefficent, (linear absorbtion coefficient divided by the density of material being passed through)"
   ]
  },
  {
   "cell_type": "code",
   "execution_count": null,
   "metadata": {},
   "outputs": [],
   "source": [
    "def I(A,M,t):\n",
    "    return A*np.exp(-M*t)"
   ]
  },
  {
   "cell_type": "code",
   "execution_count": null,
   "metadata": {},
   "outputs": [],
   "source": [
    "I(3,6,20)\n",
    "# code check"
   ]
  },
  {
   "cell_type": "raw",
   "metadata": {},
   "source": [
    "Mass absorbtion coefficients from Table 4.2.4.3 of International Tables for Crystallography Volume C: Mathematical, physical and chemical tables Second Edition. \n",
    "Density from Wikipedia https://en.wikipedia.org/wiki/Iron, https://en.wikipedia.org/wiki/Nickel\n",
    "or Concoa https://www.concoa.com/nitrogen_properties.html\n",
    "(mu/rho units of cm^2/g; rho units of g/cm^3):\n",
    "\n",
    "Copper k-alpha source, solid Fe material\n",
    "mu/rho = 302\n",
    "rho = 7.874 \n",
    "\n",
    "Chromium k-alpha source, solid Fe material\n",
    "mu/rho = 113\n",
    "rho = 7.874 \n",
    "\n",
    "Molybdenum k-alpha source, solid Fe material\n",
    "mu/rho = 37.6\n",
    "rho = 7.874 \n",
    "\n",
    "Copper k-alpha source, solid Ni material\n",
    "mu/rho = 48.8\n",
    "rho = 8.908\n",
    "\n",
    "Copper k-alpha source, solid N material\n",
    "mu/rho = 7.44\n",
    "rho = 0.0012506"
   ]
  },
  {
   "cell_type": "code",
   "execution_count": 1,
   "metadata": {},
   "outputs": [],
   "source": [
    "import numpy as np\n",
    "import matplotlib.pyplot as plt\n",
    "import pandas as pd\n",
    "# For these materials and x-ray sources; determine the thickness where I/I_0 = 0.5 and 0.9"
   ]
  },
  {
   "cell_type": "code",
   "execution_count": 2,
   "metadata": {},
   "outputs": [
    {
     "name": "stdout",
     "output_type": "stream",
     "text": [
      "[2.377948e+03 8.897620e+02 2.960624e+02 4.347104e+02 9.304500e-03]\n"
     ]
    }
   ],
   "source": [
    "mu = np.array([2377.948,889.762,296.0624,434.7104,0.0093045])\n",
    "print(mu)\n",
    "# mu = rho*(mu/rho) in order as given above."
   ]
  },
  {
   "cell_type": "code",
   "execution_count": 3,
   "metadata": {},
   "outputs": [
    {
     "name": "stdout",
     "output_type": "stream",
     "text": [
      "[2.91489629e+00 7.79025380e+00 2.34121989e+01 1.59450333e+01\n",
      " 7.44959085e+05] [4.43073253e-01 1.18414268e+00 3.55872666e+00 2.42369439e+00\n",
      " 1.13236085e+05]\n"
     ]
    }
   ],
   "source": [
    "thick1 = (np.log(0.5)/-mu)*10000 # put into um's\n",
    "thick2 = (np.log(0.9)/-mu)*10000\n",
    "print(thick1,thick2)\n",
    "# prints the thicknesses for each source, material, and fractonal intensity in microns."
   ]
  },
  {
   "cell_type": "markdown",
   "metadata": {},
   "source": [
    "# Probability based model"
   ]
  },
  {
   "cell_type": "raw",
   "metadata": {},
   "source": [
    "Another way to look at the I/I_0 values as a function of thickness is a probability diagram.  At each thickness "
   ]
  },
  {
   "cell_type": "code",
   "execution_count": null,
   "metadata": {},
   "outputs": [],
   "source": [
    "# Plot I/I_0 as a function of thickness for each of the materials and x-ray sources"
   ]
  },
  {
   "cell_type": "code",
   "execution_count": null,
   "metadata": {},
   "outputs": [],
   "source": [
    "t = np.linspace(0,0.006,5000) # 5000 linearly spaced numbers from 0-0.01(cm)\n",
    "y1 = np.exp(-2377.948*t) # for a Copper K-alpha source in Fe material\n",
    "y2 = np.exp(-889.762*t) # for a Chromium K-alpha source in Fe material\n",
    "y3 = np.exp(-296.0624*t) # for a Molybdenum K-alpha source in Fe material\n",
    "\n",
    "plt.plot(t, y1, label='Copper')\n",
    "plt.plot(t, y2, label='Chromium')\n",
    "plt.plot(t, y3, label='Molybdenum')\n",
    "plt.axhline(y=0.5, color='r', linestyle='-', label= 'Half Intensity') # Shows depth of half intensity\n",
    "\n",
    "plt.xlabel('Thickness (cm)')\n",
    "plt.ylabel('Fraction of Original Intensity')\n",
    "plt.title('Interaction Depth of Different K-Alpha X-Ray Sources in Fe')\n",
    "plt.legend()\n",
    "plt.show()\n",
    "\n",
    "# shows the plot"
   ]
  },
  {
   "cell_type": "code",
   "execution_count": null,
   "metadata": {},
   "outputs": [],
   "source": [
    "t = np.linspace(0,0.012,5000) # 5000 linearly spaced numbers from 0-0.01(cm)\n",
    "y = np.exp(-434.7104*t) # Copper k-alpha source, solid Ni material\n",
    "\n",
    "plt.plot(t, y)\n",
    "plt.axhline(y=0.5, color='r', linestyle='-') # Shows depth of half intensity\n",
    "\n",
    "plt.xlabel('Thickness (cm)')\n",
    "plt.ylabel('Fraction of Original Intensity')\n",
    "plt.title('Interaction Depth of Copper K-Alpha X-Ray Source in Ni')\n",
    "plt.show()\n",
    "\n",
    "# shows the plot"
   ]
  },
  {
   "cell_type": "code",
   "execution_count": null,
   "metadata": {},
   "outputs": [],
   "source": [
    "t = np.linspace(0,600,5000) # 5000 linearly spaced numbers from 0-0.01(cm)\n",
    "y = np.exp(-0.0093045*t) # Copper k-alpha source, gaseous N material\n",
    "\n",
    "plt.plot(t, y)\n",
    "plt.axhline(y=0.5, color='r', linestyle='-') # Shows depth of half intensity\n",
    "\n",
    "plt.xlabel('Thickness (cm)')\n",
    "plt.ylabel('Fraction of Original Intensity')\n",
    "plt.title('Interaction Depth of Copper K-Alpha X-Ray Source in N')\n",
    "\n",
    "plt.show()\n",
    "\n",
    "# shows the plot"
   ]
  },
  {
   "cell_type": "markdown",
   "metadata": {},
   "source": [
    "# Path to enter and exit at a given angle theta"
   ]
  },
  {
   "cell_type": "raw",
   "metadata": {},
   "source": [
    "When performing a diffraciton experiment, the path the x-rays is usually not perpendicular to the surface, but inclined at an angle \"theta\". (perpendicular to the surface would be theta=90 degrees)  The amount of material that the x-ray beam passes through is also a function of depth into the surface (\"z\").  \n"
   ]
  },
  {
   "cell_type": "code",
   "execution_count": null,
   "metadata": {},
   "outputs": [],
   "source": [
    "def Zdep(theta, t):\n",
    "    return np.sin(theta)*t"
   ]
  },
  {
   "cell_type": "raw",
   "metadata": {},
   "source": [
    "I/I_0(z) = exp(-mu*Zdep)"
   ]
  },
  {
   "cell_type": "code",
   "execution_count": null,
   "metadata": {},
   "outputs": [],
   "source": [
    "np.pi/2"
   ]
  },
  {
   "cell_type": "code",
   "execution_count": null,
   "metadata": {},
   "outputs": [],
   "source": [
    "# Either:\n",
    "# Develop and plot an analytical expression for I/I_0 as a function of depth z   \n",
    "# OR\n",
    "# For a series of points along z (~20) plot I/I_0"
   ]
  },
  {
   "cell_type": "code",
   "execution_count": null,
   "metadata": {},
   "outputs": [],
   "source": [
    "theta = np.linspace(0,1.571,5000) # 5000 linearly spaced numbers from 0-(pi/2) radians\n",
    "\n",
    "z1 = ((np.sin(theta)*np.log(0.25))/(-2377.948))*10000 # The z-depth for all theta values from 0-(pi/2) radians at a fractional intensity of 0.25\n",
    "z2 = ((np.sin(theta)*np.log(0.50))/(-2377.948))*10000 # The z-depth for all theta values from 0-(pi/2) radians at a fractional intensity of 0.50\n",
    "z3 = ((np.sin(theta)*np.log(0.10))/(-2377.948))*10000 # The z-depth for all theta values from 0-(pi/2) radians at a fractional intensity of 0.10\n",
    "\n",
    "plt.plot(theta, z3, label='90% Absorption')\n",
    "plt.plot(theta, z1, label='75% Absorption')\n",
    "plt.plot(theta, z2, label='50% Absorption')\n",
    "\n",
    "plt.legend()\n",
    "\n",
    "plt.xlabel('Theta (radians)')\n",
    "plt.ylabel('Z-depth in Fe (microns)')\n",
    "plt.title('Z-depth vs Theta for fractional intensities with a copper k-alpha source')\n",
    "\n",
    "plt.show()"
   ]
  },
  {
   "cell_type": "code",
   "execution_count": null,
   "metadata": {},
   "outputs": [],
   "source": [
    "theta = np.linspace(0,1.571,5000) # 5000 linearly spaced numbers from 0-(pi/2) radians\n",
    "z1 = ((np.sin(theta)*np.log(0.25))/(-889.762))*10000 # The z-depth for all theta values from 0-(pi/2) radians at a fractional intensity of 0.25\n",
    "z2 = ((np.sin(theta)*np.log(0.50))/(-889.762))*10000 # The z-depth for all theta values from 0-(pi/2) radians at a fractional intensity of 0.50\n",
    "z3 = ((np.sin(theta)*np.log(0.10))/(-889.762))*10000 # The z-depth for all theta values from 0-(pi/2) radians at a fractional intensity of 0.10\n",
    "\n",
    "plt.plot(theta, z3, label='90% Absorption')\n",
    "plt.plot(theta, z1, label='75% Absorption')\n",
    "plt.plot(theta, z2, label='50% Absorption')\n",
    "\n",
    "plt.legend()\n",
    "\n",
    "plt.xlabel('Theta (radians)')\n",
    "plt.ylabel('Z-depth in Fe (microns)')\n",
    "plt.title('Z-depth vs Theta for fractional intensities with a chromium k-alpha source')\n",
    "\n",
    "plt.show()"
   ]
  },
  {
   "cell_type": "code",
   "execution_count": null,
   "metadata": {},
   "outputs": [],
   "source": [
    "theta = np.linspace(0,1.571,5000) # 5000 linearly spaced numbers from 0-(pi/2) radians\n",
    "z1 = ((np.sin(theta)*np.log(0.25))/(-296.0624))*10000 # The z-depth for all theta values from 0-(pi/2) radians at a fractional intensity of 0.25\n",
    "z2 = ((np.sin(theta)*np.log(0.50))/(-296.0624))*10000 # The z-depth for all theta values from 0-(pi/2) radians at a fractional intensity of 0.50\n",
    "z3 = ((np.sin(theta)*np.log(0.10))/(-296.0624))*10000 # The z-depth for all theta values from 0-(pi/2) radians at a fractional intensity of 0.10\n",
    "\n",
    "plt.plot(theta, z3, label='90% Absorption')\n",
    "plt.plot(theta, z1, label='75% Absorption')\n",
    "plt.plot(theta, z2, label='50% Absorption')\n",
    "\n",
    "plt.legend()\n",
    "\n",
    "plt.xlabel('Theta (radians)')\n",
    "plt.ylabel('Z-depth in Fe (microns)')\n",
    "plt.title('Z-depth vs Theta for fractional intensities with a molybdenum k-alpha source')\n",
    "\n",
    "plt.show()"
   ]
  },
  {
   "cell_type": "markdown",
   "metadata": {},
   "source": [
    "## To add later to the model\n",
    "- multi-element absorbtion (weighted summation, see Kocks 131)\n"
   ]
  },
  {
   "cell_type": "code",
   "execution_count": null,
   "metadata": {},
   "outputs": [],
   "source": []
  },
  {
   "cell_type": "raw",
   "metadata": {},
   "source": [
    "    "
   ]
  },
  {
   "cell_type": "markdown",
   "metadata": {},
   "source": [
    "## Plot scattering by depth"
   ]
  },
  {
   "cell_type": "code",
   "execution_count": null,
   "metadata": {},
   "outputs": [],
   "source": [
    "# From powder diffraction, Theory and Practice by Dinnebier & Billinge\n",
    "# f(s)=f_0(s)+f'+if''\n",
    "# f^2=(f_0+f')^2+f''^2"
   ]
  },
  {
   "cell_type": "code",
   "execution_count": null,
   "metadata": {},
   "outputs": [],
   "source": []
  },
  {
   "cell_type": "code",
   "execution_count": 28,
   "metadata": {},
   "outputs": [],
   "source": [
    "# from GSAS-II fprime code, Cu-Kalpha radiation, Fe material\n",
    "f_prime= -1.134\n",
    "f_double_prime= 3.197\n",
    "mu_barns= 27759.97 #barns/atom\n",
    "\n",
    "# from GSAS-II absorb code, Cu-Kalpha radiation, Fe material\n",
    "# packing 0.85 to get powder density of 7.885 g/cm^3\n",
    "# estimated iron density is 9.277 otherwise\n",
    "\n",
    "mu_cm=2359.6 # cm^-1\n",
    "mu_um=2359.6/10000 # um^-1"
   ]
  },
  {
   "cell_type": "code",
   "execution_count": 29,
   "metadata": {},
   "outputs": [],
   "source": [
    "# from PureFe example, ferrite 110 peak \n",
    "twotheta_deg=44.25 #degrees\n",
    "theta_deg=22.125\n",
    "Fcsq = 1207.03 # (f_0*atoms_per_cell)^2\n",
    "lambda_Kalpha=1.5405\n",
    "sin_theta_div_lambda=.244\n",
    "atoms_per_cell=2\n",
    "\n",
    "# International Tables for Crystallography Table volume C 6.1.1.1\n",
    "#sin_theta_div_lambda=.24 (44.25 two_theta, 110 ferrite)\n",
    "f_elem=18.685\n"
   ]
  },
  {
   "cell_type": "code",
   "execution_count": 6,
   "metadata": {},
   "outputs": [],
   "source": [
    "\n",
    "# from PureFe example, ferrite 211 peak \n",
    "twotheta_deg=81.44 #degrees\n",
    "theta_deg=40.72\n",
    "Fcsq = 559.61\n",
    "lambda_Kalpha=1.5405\n",
    "sin_theta_div_lambda=.423\n",
    "atoms_per_cell=2\n",
    "\n",
    "# International Tables for Crystallography Table volume C 6.1.1.1\n",
    "\n",
    "#sin_theta_div_lambda=.42 (81.44 two_theta, 211 ferrite)\n",
    "f_elem=13.328\n",
    "\n"
   ]
  },
  {
   "cell_type": "code",
   "execution_count": 23,
   "metadata": {},
   "outputs": [],
   "source": [
    "\n",
    "\n",
    "# from PureFe example, ferrite 222 peak \n",
    "twotheta_deg=134.61 #degrees\n",
    "theta_deg=67.305\n",
    "Fcsq = 270.73\n",
    "lambda_Kalpha=1.5405\n",
    "sin_theta_div_lambda=.599\n",
    "atoms_per_cell=2\n",
    "\n",
    "# International Tables for Crystallography Table volume C 6.1.1.1\n",
    "#sin_theta_div_lambda=.6 (134.61 two_theta, 222 ferrite)\n",
    "f_elem=9.753\n",
    "\n"
   ]
  },
  {
   "cell_type": "code",
   "execution_count": null,
   "metadata": {},
   "outputs": [],
   "source": []
  },
  {
   "cell_type": "code",
   "execution_count": 5,
   "metadata": {},
   "outputs": [
    {
     "name": "stdout",
     "output_type": "stream",
     "text": [
      "1273.0336399999997\n"
     ]
    }
   ],
   "source": [
    "# check structure factor\n",
    "# not sure if f_double_prime is multiplied by atoms per cell or not...\n",
    "FF=(atoms_per_cell*(f_elem+f_prime))**2+(atoms_per_cell*f_double_prime)**2\n",
    "print(FF)"
   ]
  },
  {
   "cell_type": "code",
   "execution_count": 6,
   "metadata": {},
   "outputs": [
    {
     "name": "stdout",
     "output_type": "stream",
     "text": [
      "29.27511137049558\n"
     ]
    }
   ],
   "source": [
    "# Set max path length\n",
    "Max_intensity_drop=1/1000\n",
    "t_max_cm=(1/-mu_cm)*np.log(Max_intensity_drop) # change to mu_um?\n",
    "t_max_um=t_max_cm*10000 # this would go away\n",
    "print(t_max_um) "
   ]
  },
  {
   "cell_type": "code",
   "execution_count": 7,
   "metadata": {},
   "outputs": [],
   "source": [
    "# Set initial Intensity in x-ray counts\n",
    "I0=1000000"
   ]
  },
  {
   "cell_type": "code",
   "execution_count": 8,
   "metadata": {},
   "outputs": [],
   "source": [
    "# create a series of points along a line\n",
    "steps=25\n",
    "\n",
    "x_list=np.linspace(0,t_max_um*np.cos(np.radians(theta_deg)),num=steps)\n",
    "y_list=np.linspace(0,-t_max_um*np.sin(np.radians(theta_deg)),num=steps)"
   ]
  },
  {
   "cell_type": "code",
   "execution_count": 9,
   "metadata": {},
   "outputs": [],
   "source": [
    "df_endpoints = pd.DataFrame(data={'x': x_list, 'y': y_list})\n"
   ]
  },
  {
   "cell_type": "code",
   "execution_count": 10,
   "metadata": {},
   "outputs": [],
   "source": [
    "df_endpoints['length']=np.sqrt(df_endpoints['x']**2+df_endpoints['y']**2)\n",
    "df_endpoints['I']=I0 *  np.exp(-mu_um * df_endpoints['length'])"
   ]
  },
  {
   "cell_type": "code",
   "execution_count": 11,
   "metadata": {},
   "outputs": [
    {
     "data": {
      "text/html": [
       "<div>\n",
       "<style scoped>\n",
       "    .dataframe tbody tr th:only-of-type {\n",
       "        vertical-align: middle;\n",
       "    }\n",
       "\n",
       "    .dataframe tbody tr th {\n",
       "        vertical-align: top;\n",
       "    }\n",
       "\n",
       "    .dataframe thead th {\n",
       "        text-align: right;\n",
       "    }\n",
       "</style>\n",
       "<table border=\"1\" class=\"dataframe\">\n",
       "  <thead>\n",
       "    <tr style=\"text-align: right;\">\n",
       "      <th></th>\n",
       "      <th>x</th>\n",
       "      <th>y</th>\n",
       "      <th>length</th>\n",
       "      <th>I</th>\n",
       "    </tr>\n",
       "  </thead>\n",
       "  <tbody>\n",
       "    <tr>\n",
       "      <th>0</th>\n",
       "      <td>0.000000</td>\n",
       "      <td>0.000000</td>\n",
       "      <td>0.000000</td>\n",
       "      <td>1000000.000000</td>\n",
       "    </tr>\n",
       "    <tr>\n",
       "      <th>1</th>\n",
       "      <td>1.129976</td>\n",
       "      <td>-0.459410</td>\n",
       "      <td>1.219796</td>\n",
       "      <td>749894.209332</td>\n",
       "    </tr>\n",
       "    <tr>\n",
       "      <th>2</th>\n",
       "      <td>2.259952</td>\n",
       "      <td>-0.918820</td>\n",
       "      <td>2.439593</td>\n",
       "      <td>562341.325190</td>\n",
       "    </tr>\n",
       "    <tr>\n",
       "      <th>3</th>\n",
       "      <td>3.389928</td>\n",
       "      <td>-1.378230</td>\n",
       "      <td>3.659389</td>\n",
       "      <td>421696.503429</td>\n",
       "    </tr>\n",
       "    <tr>\n",
       "      <th>4</th>\n",
       "      <td>4.519903</td>\n",
       "      <td>-1.837640</td>\n",
       "      <td>4.879185</td>\n",
       "      <td>316227.766017</td>\n",
       "    </tr>\n",
       "    <tr>\n",
       "      <th>5</th>\n",
       "      <td>5.649879</td>\n",
       "      <td>-2.297050</td>\n",
       "      <td>6.098982</td>\n",
       "      <td>237137.370566</td>\n",
       "    </tr>\n",
       "    <tr>\n",
       "      <th>6</th>\n",
       "      <td>6.779855</td>\n",
       "      <td>-2.756460</td>\n",
       "      <td>7.318778</td>\n",
       "      <td>177827.941004</td>\n",
       "    </tr>\n",
       "    <tr>\n",
       "      <th>7</th>\n",
       "      <td>7.909831</td>\n",
       "      <td>-3.215870</td>\n",
       "      <td>8.538574</td>\n",
       "      <td>133352.143216</td>\n",
       "    </tr>\n",
       "    <tr>\n",
       "      <th>8</th>\n",
       "      <td>9.039807</td>\n",
       "      <td>-3.675280</td>\n",
       "      <td>9.758370</td>\n",
       "      <td>100000.000000</td>\n",
       "    </tr>\n",
       "    <tr>\n",
       "      <th>9</th>\n",
       "      <td>10.169783</td>\n",
       "      <td>-4.134690</td>\n",
       "      <td>10.978167</td>\n",
       "      <td>74989.420933</td>\n",
       "    </tr>\n",
       "    <tr>\n",
       "      <th>10</th>\n",
       "      <td>11.299759</td>\n",
       "      <td>-4.594101</td>\n",
       "      <td>12.197963</td>\n",
       "      <td>56234.132519</td>\n",
       "    </tr>\n",
       "    <tr>\n",
       "      <th>11</th>\n",
       "      <td>12.429734</td>\n",
       "      <td>-5.053511</td>\n",
       "      <td>13.417759</td>\n",
       "      <td>42169.650343</td>\n",
       "    </tr>\n",
       "    <tr>\n",
       "      <th>12</th>\n",
       "      <td>13.559710</td>\n",
       "      <td>-5.512921</td>\n",
       "      <td>14.637556</td>\n",
       "      <td>31622.776602</td>\n",
       "    </tr>\n",
       "    <tr>\n",
       "      <th>13</th>\n",
       "      <td>14.689686</td>\n",
       "      <td>-5.972331</td>\n",
       "      <td>15.857352</td>\n",
       "      <td>23713.737057</td>\n",
       "    </tr>\n",
       "    <tr>\n",
       "      <th>14</th>\n",
       "      <td>15.819662</td>\n",
       "      <td>-6.431741</td>\n",
       "      <td>17.077148</td>\n",
       "      <td>17782.794100</td>\n",
       "    </tr>\n",
       "    <tr>\n",
       "      <th>15</th>\n",
       "      <td>16.949638</td>\n",
       "      <td>-6.891151</td>\n",
       "      <td>18.296945</td>\n",
       "      <td>13335.214322</td>\n",
       "    </tr>\n",
       "    <tr>\n",
       "      <th>16</th>\n",
       "      <td>18.079614</td>\n",
       "      <td>-7.350561</td>\n",
       "      <td>19.516741</td>\n",
       "      <td>10000.000000</td>\n",
       "    </tr>\n",
       "    <tr>\n",
       "      <th>17</th>\n",
       "      <td>19.209590</td>\n",
       "      <td>-7.809971</td>\n",
       "      <td>20.736537</td>\n",
       "      <td>7498.942093</td>\n",
       "    </tr>\n",
       "    <tr>\n",
       "      <th>18</th>\n",
       "      <td>20.339565</td>\n",
       "      <td>-8.269381</td>\n",
       "      <td>21.956334</td>\n",
       "      <td>5623.413252</td>\n",
       "    </tr>\n",
       "    <tr>\n",
       "      <th>19</th>\n",
       "      <td>21.469541</td>\n",
       "      <td>-8.728791</td>\n",
       "      <td>23.176130</td>\n",
       "      <td>4216.965034</td>\n",
       "    </tr>\n",
       "    <tr>\n",
       "      <th>20</th>\n",
       "      <td>22.599517</td>\n",
       "      <td>-9.188201</td>\n",
       "      <td>24.395926</td>\n",
       "      <td>3162.277660</td>\n",
       "    </tr>\n",
       "    <tr>\n",
       "      <th>21</th>\n",
       "      <td>23.729493</td>\n",
       "      <td>-9.647611</td>\n",
       "      <td>25.615722</td>\n",
       "      <td>2371.373706</td>\n",
       "    </tr>\n",
       "    <tr>\n",
       "      <th>22</th>\n",
       "      <td>24.859469</td>\n",
       "      <td>-10.107021</td>\n",
       "      <td>26.835519</td>\n",
       "      <td>1778.279410</td>\n",
       "    </tr>\n",
       "    <tr>\n",
       "      <th>23</th>\n",
       "      <td>25.989445</td>\n",
       "      <td>-10.566431</td>\n",
       "      <td>28.055315</td>\n",
       "      <td>1333.521432</td>\n",
       "    </tr>\n",
       "    <tr>\n",
       "      <th>24</th>\n",
       "      <td>27.119421</td>\n",
       "      <td>-11.025841</td>\n",
       "      <td>29.275111</td>\n",
       "      <td>1000.000000</td>\n",
       "    </tr>\n",
       "  </tbody>\n",
       "</table>\n",
       "</div>"
      ],
      "text/plain": [
       "            x          y     length               I\n",
       "0    0.000000   0.000000   0.000000  1000000.000000\n",
       "1    1.129976  -0.459410   1.219796   749894.209332\n",
       "2    2.259952  -0.918820   2.439593   562341.325190\n",
       "3    3.389928  -1.378230   3.659389   421696.503429\n",
       "4    4.519903  -1.837640   4.879185   316227.766017\n",
       "5    5.649879  -2.297050   6.098982   237137.370566\n",
       "6    6.779855  -2.756460   7.318778   177827.941004\n",
       "7    7.909831  -3.215870   8.538574   133352.143216\n",
       "8    9.039807  -3.675280   9.758370   100000.000000\n",
       "9   10.169783  -4.134690  10.978167    74989.420933\n",
       "10  11.299759  -4.594101  12.197963    56234.132519\n",
       "11  12.429734  -5.053511  13.417759    42169.650343\n",
       "12  13.559710  -5.512921  14.637556    31622.776602\n",
       "13  14.689686  -5.972331  15.857352    23713.737057\n",
       "14  15.819662  -6.431741  17.077148    17782.794100\n",
       "15  16.949638  -6.891151  18.296945    13335.214322\n",
       "16  18.079614  -7.350561  19.516741    10000.000000\n",
       "17  19.209590  -7.809971  20.736537     7498.942093\n",
       "18  20.339565  -8.269381  21.956334     5623.413252\n",
       "19  21.469541  -8.728791  23.176130     4216.965034\n",
       "20  22.599517  -9.188201  24.395926     3162.277660\n",
       "21  23.729493  -9.647611  25.615722     2371.373706\n",
       "22  24.859469 -10.107021  26.835519     1778.279410\n",
       "23  25.989445 -10.566431  28.055315     1333.521432\n",
       "24  27.119421 -11.025841  29.275111     1000.000000"
      ]
     },
     "execution_count": 11,
     "metadata": {},
     "output_type": "execute_result"
    }
   ],
   "source": [
    "df_endpoints"
   ]
  },
  {
   "cell_type": "code",
   "execution_count": 24,
   "metadata": {},
   "outputs": [],
   "source": [
    "x_mid=[]\n",
    "y_mid=[]\n",
    "delta_I=[]\n",
    "for i in range(0,len(df_endpoints)-1):\n",
    "    #print(i)\n",
    "    x_mid.append((df_endpoints['x'].iloc[i]+df_endpoints['x'].iloc[i+1])/2)\n",
    "    y_mid.append((df_endpoints['y'].iloc[i]+df_endpoints['y'].iloc[i+1])/2)\n",
    "    delta_I.append(df_endpoints['I'].iloc[i]-df_endpoints['I'].iloc[i+1])\n",
    "    \n",
    "df_mid = pd.DataFrame(data={'x_mid': x_mid, 'y_mid': y_mid, 'delta_I':delta_I})"
   ]
  },
  {
   "cell_type": "code",
   "execution_count": 25,
   "metadata": {},
   "outputs": [],
   "source": [
    "# It's not clear to me how this should properly be calculated.  \n",
    "# f_prime can occasionally take positive values at higher energies.\n",
    "# That seems to imply a flourescing photon can cause additional scattering?\n",
    "\n",
    "# For now I am using rule of mixtures with absolute values\n",
    "df_mid['travel_dist']=np.sqrt(df_mid['x_mid']**2+df_mid['y_mid']**2)\n",
    "\n",
    "df_mid['absorbed']=df_mid['delta_I']*(f_double_prime/(f_double_prime+abs(f_prime)+f_elem))\n",
    "df_mid['anomalous']=df_mid['delta_I']*(abs(f_prime)/(f_double_prime+abs(f_prime)+f_elem))\n",
    "df_mid['scattered']=df_mid['delta_I']*(f_elem/(f_double_prime+abs(f_prime)+f_elem))\n",
    "\n",
    "#scattered, but not absorbed on return to the surface\n",
    "df_mid['Escaped']=df_mid['scattered'] *  np.exp(-mu_um * df_mid['travel_dist'])\n",
    "df_mid['RelativeEscaped']=df_mid['Escaped']/I0"
   ]
  },
  {
   "cell_type": "code",
   "execution_count": 26,
   "metadata": {},
   "outputs": [],
   "source": [
    "# Centroid of distribution\n",
    "Centroid_y=np.sum(df_mid['Escaped']*df_mid['y_mid'])/np.sum(df_mid['Escaped'])\n",
    "\n",
    "Centroid_x=np.sum(df_mid['Escaped']*df_mid['x_mid'])/np.sum(df_mid['Escaped'])"
   ]
  },
  {
   "cell_type": "code",
   "execution_count": 31,
   "metadata": {},
   "outputs": [
    {
     "data": {
      "text/html": [
       "<div>\n",
       "<style scoped>\n",
       "    .dataframe tbody tr th:only-of-type {\n",
       "        vertical-align: middle;\n",
       "    }\n",
       "\n",
       "    .dataframe tbody tr th {\n",
       "        vertical-align: top;\n",
       "    }\n",
       "\n",
       "    .dataframe thead th {\n",
       "        text-align: right;\n",
       "    }\n",
       "</style>\n",
       "<table border=\"1\" class=\"dataframe\">\n",
       "  <thead>\n",
       "    <tr style=\"text-align: right;\">\n",
       "      <th></th>\n",
       "      <th>x_mid</th>\n",
       "      <th>y_mid</th>\n",
       "      <th>delta_I</th>\n",
       "      <th>travel_dist</th>\n",
       "      <th>absorbed</th>\n",
       "      <th>anomalous</th>\n",
       "      <th>scattered</th>\n",
       "      <th>Escaped</th>\n",
       "      <th>RelativeEscaped</th>\n",
       "    </tr>\n",
       "  </thead>\n",
       "  <tbody>\n",
       "    <tr>\n",
       "      <th>0</th>\n",
       "      <td>0.564988</td>\n",
       "      <td>-0.229705</td>\n",
       "      <td>250105.790668</td>\n",
       "      <td>0.609898</td>\n",
       "      <td>34740.537572</td>\n",
       "      <td>12322.730562</td>\n",
       "      <td>203042.522533</td>\n",
       "      <td>175827.580639</td>\n",
       "      <td>1.758276e-01</td>\n",
       "    </tr>\n",
       "    <tr>\n",
       "      <th>1</th>\n",
       "      <td>1.694964</td>\n",
       "      <td>-0.689115</td>\n",
       "      <td>187552.884142</td>\n",
       "      <td>1.829694</td>\n",
       "      <td>26051.727955</td>\n",
       "      <td>9240.744292</td>\n",
       "      <td>152260.411896</td>\n",
       "      <td>98875.114701</td>\n",
       "      <td>9.887511e-02</td>\n",
       "    </tr>\n",
       "    <tr>\n",
       "      <th>2</th>\n",
       "      <td>2.824940</td>\n",
       "      <td>-1.148525</td>\n",
       "      <td>140644.821762</td>\n",
       "      <td>3.049491</td>\n",
       "      <td>19536.039936</td>\n",
       "      <td>6929.580634</td>\n",
       "      <td>114179.201191</td>\n",
       "      <td>55601.563030</td>\n",
       "      <td>5.560156e-02</td>\n",
       "    </tr>\n",
       "    <tr>\n",
       "      <th>3</th>\n",
       "      <td>3.954915</td>\n",
       "      <td>-1.607935</td>\n",
       "      <td>105468.737412</td>\n",
       "      <td>4.269287</td>\n",
       "      <td>14649.963221</td>\n",
       "      <td>5196.452391</td>\n",
       "      <td>85622.321800</td>\n",
       "      <td>31267.056637</td>\n",
       "      <td>3.126706e-02</td>\n",
       "    </tr>\n",
       "    <tr>\n",
       "      <th>4</th>\n",
       "      <td>5.084891</td>\n",
       "      <td>-2.067345</td>\n",
       "      <td>79090.395451</td>\n",
       "      <td>5.489083</td>\n",
       "      <td>10985.922587</td>\n",
       "      <td>3896.789557</td>\n",
       "      <td>64207.683307</td>\n",
       "      <td>17582.758064</td>\n",
       "      <td>1.758276e-02</td>\n",
       "    </tr>\n",
       "    <tr>\n",
       "      <th>5</th>\n",
       "      <td>6.214867</td>\n",
       "      <td>-2.526755</td>\n",
       "      <td>59309.429562</td>\n",
       "      <td>6.708880</td>\n",
       "      <td>8238.279732</td>\n",
       "      <td>2922.179924</td>\n",
       "      <td>48148.969907</td>\n",
       "      <td>9887.511470</td>\n",
       "      <td>9.887511e-03</td>\n",
       "    </tr>\n",
       "    <tr>\n",
       "      <th>6</th>\n",
       "      <td>7.344843</td>\n",
       "      <td>-2.986165</td>\n",
       "      <td>44475.797788</td>\n",
       "      <td>7.928676</td>\n",
       "      <td>6177.838266</td>\n",
       "      <td>2191.325803</td>\n",
       "      <td>36106.633718</td>\n",
       "      <td>5560.156303</td>\n",
       "      <td>5.560156e-03</td>\n",
       "    </tr>\n",
       "    <tr>\n",
       "      <th>7</th>\n",
       "      <td>8.474819</td>\n",
       "      <td>-3.445575</td>\n",
       "      <td>33352.143216</td>\n",
       "      <td>9.148472</td>\n",
       "      <td>4632.725142</td>\n",
       "      <td>1643.262531</td>\n",
       "      <td>27076.155544</td>\n",
       "      <td>3126.705664</td>\n",
       "      <td>3.126706e-03</td>\n",
       "    </tr>\n",
       "    <tr>\n",
       "      <th>8</th>\n",
       "      <td>9.604795</td>\n",
       "      <td>-3.904985</td>\n",
       "      <td>25010.579067</td>\n",
       "      <td>10.368269</td>\n",
       "      <td>3474.053757</td>\n",
       "      <td>1232.273056</td>\n",
       "      <td>20304.252253</td>\n",
       "      <td>1758.275806</td>\n",
       "      <td>1.758276e-03</td>\n",
       "    </tr>\n",
       "    <tr>\n",
       "      <th>9</th>\n",
       "      <td>10.734771</td>\n",
       "      <td>-4.364396</td>\n",
       "      <td>18755.288414</td>\n",
       "      <td>11.588065</td>\n",
       "      <td>2605.172795</td>\n",
       "      <td>924.074429</td>\n",
       "      <td>15226.041190</td>\n",
       "      <td>988.751147</td>\n",
       "      <td>9.887511e-04</td>\n",
       "    </tr>\n",
       "    <tr>\n",
       "      <th>10</th>\n",
       "      <td>11.864746</td>\n",
       "      <td>-4.823806</td>\n",
       "      <td>14064.482176</td>\n",
       "      <td>12.807861</td>\n",
       "      <td>1953.603994</td>\n",
       "      <td>692.958063</td>\n",
       "      <td>11417.920119</td>\n",
       "      <td>556.015630</td>\n",
       "      <td>5.560156e-04</td>\n",
       "    </tr>\n",
       "    <tr>\n",
       "      <th>11</th>\n",
       "      <td>12.994722</td>\n",
       "      <td>-5.283216</td>\n",
       "      <td>10546.873741</td>\n",
       "      <td>14.027658</td>\n",
       "      <td>1464.996322</td>\n",
       "      <td>519.645239</td>\n",
       "      <td>8562.232180</td>\n",
       "      <td>312.670566</td>\n",
       "      <td>3.126706e-04</td>\n",
       "    </tr>\n",
       "    <tr>\n",
       "      <th>12</th>\n",
       "      <td>14.124698</td>\n",
       "      <td>-5.742626</td>\n",
       "      <td>7909.039545</td>\n",
       "      <td>15.247454</td>\n",
       "      <td>1098.592259</td>\n",
       "      <td>389.678956</td>\n",
       "      <td>6420.768331</td>\n",
       "      <td>175.827581</td>\n",
       "      <td>1.758276e-04</td>\n",
       "    </tr>\n",
       "    <tr>\n",
       "      <th>13</th>\n",
       "      <td>15.254674</td>\n",
       "      <td>-6.202036</td>\n",
       "      <td>5930.942956</td>\n",
       "      <td>16.467250</td>\n",
       "      <td>823.827973</td>\n",
       "      <td>292.217992</td>\n",
       "      <td>4814.896991</td>\n",
       "      <td>98.875115</td>\n",
       "      <td>9.887511e-05</td>\n",
       "    </tr>\n",
       "    <tr>\n",
       "      <th>14</th>\n",
       "      <td>16.384650</td>\n",
       "      <td>-6.661446</td>\n",
       "      <td>4447.579779</td>\n",
       "      <td>17.687046</td>\n",
       "      <td>617.783827</td>\n",
       "      <td>219.132580</td>\n",
       "      <td>3610.663372</td>\n",
       "      <td>55.601563</td>\n",
       "      <td>5.560156e-05</td>\n",
       "    </tr>\n",
       "    <tr>\n",
       "      <th>15</th>\n",
       "      <td>17.514626</td>\n",
       "      <td>-7.120856</td>\n",
       "      <td>3335.214322</td>\n",
       "      <td>18.906843</td>\n",
       "      <td>463.272514</td>\n",
       "      <td>164.326253</td>\n",
       "      <td>2707.615554</td>\n",
       "      <td>31.267057</td>\n",
       "      <td>3.126706e-05</td>\n",
       "    </tr>\n",
       "    <tr>\n",
       "      <th>16</th>\n",
       "      <td>18.644602</td>\n",
       "      <td>-7.580266</td>\n",
       "      <td>2501.057907</td>\n",
       "      <td>20.126639</td>\n",
       "      <td>347.405376</td>\n",
       "      <td>123.227306</td>\n",
       "      <td>2030.425225</td>\n",
       "      <td>17.582758</td>\n",
       "      <td>1.758276e-05</td>\n",
       "    </tr>\n",
       "    <tr>\n",
       "      <th>17</th>\n",
       "      <td>19.774577</td>\n",
       "      <td>-8.039676</td>\n",
       "      <td>1875.528841</td>\n",
       "      <td>21.346435</td>\n",
       "      <td>260.517280</td>\n",
       "      <td>92.407443</td>\n",
       "      <td>1522.604119</td>\n",
       "      <td>9.887511</td>\n",
       "      <td>9.887511e-06</td>\n",
       "    </tr>\n",
       "    <tr>\n",
       "      <th>18</th>\n",
       "      <td>20.904553</td>\n",
       "      <td>-8.499086</td>\n",
       "      <td>1406.448218</td>\n",
       "      <td>22.566232</td>\n",
       "      <td>195.360399</td>\n",
       "      <td>69.295806</td>\n",
       "      <td>1141.792012</td>\n",
       "      <td>5.560156</td>\n",
       "      <td>5.560156e-06</td>\n",
       "    </tr>\n",
       "    <tr>\n",
       "      <th>19</th>\n",
       "      <td>22.034529</td>\n",
       "      <td>-8.958496</td>\n",
       "      <td>1054.687374</td>\n",
       "      <td>23.786028</td>\n",
       "      <td>146.499632</td>\n",
       "      <td>51.964524</td>\n",
       "      <td>856.223218</td>\n",
       "      <td>3.126706</td>\n",
       "      <td>3.126706e-06</td>\n",
       "    </tr>\n",
       "    <tr>\n",
       "      <th>20</th>\n",
       "      <td>23.164505</td>\n",
       "      <td>-9.417906</td>\n",
       "      <td>790.903955</td>\n",
       "      <td>25.005824</td>\n",
       "      <td>109.859226</td>\n",
       "      <td>38.967896</td>\n",
       "      <td>642.076833</td>\n",
       "      <td>1.758276</td>\n",
       "      <td>1.758276e-06</td>\n",
       "    </tr>\n",
       "    <tr>\n",
       "      <th>21</th>\n",
       "      <td>24.294481</td>\n",
       "      <td>-9.877316</td>\n",
       "      <td>593.094296</td>\n",
       "      <td>26.225621</td>\n",
       "      <td>82.382797</td>\n",
       "      <td>29.221799</td>\n",
       "      <td>481.489699</td>\n",
       "      <td>0.988751</td>\n",
       "      <td>9.887511e-07</td>\n",
       "    </tr>\n",
       "    <tr>\n",
       "      <th>22</th>\n",
       "      <td>25.424457</td>\n",
       "      <td>-10.336726</td>\n",
       "      <td>444.757978</td>\n",
       "      <td>27.445417</td>\n",
       "      <td>61.778383</td>\n",
       "      <td>21.913258</td>\n",
       "      <td>361.066337</td>\n",
       "      <td>0.556016</td>\n",
       "      <td>5.560156e-07</td>\n",
       "    </tr>\n",
       "    <tr>\n",
       "      <th>23</th>\n",
       "      <td>26.554433</td>\n",
       "      <td>-10.796136</td>\n",
       "      <td>333.521432</td>\n",
       "      <td>28.665213</td>\n",
       "      <td>46.327251</td>\n",
       "      <td>16.432625</td>\n",
       "      <td>270.761555</td>\n",
       "      <td>0.312671</td>\n",
       "      <td>3.126706e-07</td>\n",
       "    </tr>\n",
       "  </tbody>\n",
       "</table>\n",
       "</div>"
      ],
      "text/plain": [
       "        x_mid      y_mid        delta_I  travel_dist      absorbed  \\\n",
       "0    0.564988  -0.229705  250105.790668     0.609898  34740.537572   \n",
       "1    1.694964  -0.689115  187552.884142     1.829694  26051.727955   \n",
       "2    2.824940  -1.148525  140644.821762     3.049491  19536.039936   \n",
       "3    3.954915  -1.607935  105468.737412     4.269287  14649.963221   \n",
       "4    5.084891  -2.067345   79090.395451     5.489083  10985.922587   \n",
       "5    6.214867  -2.526755   59309.429562     6.708880   8238.279732   \n",
       "6    7.344843  -2.986165   44475.797788     7.928676   6177.838266   \n",
       "7    8.474819  -3.445575   33352.143216     9.148472   4632.725142   \n",
       "8    9.604795  -3.904985   25010.579067    10.368269   3474.053757   \n",
       "9   10.734771  -4.364396   18755.288414    11.588065   2605.172795   \n",
       "10  11.864746  -4.823806   14064.482176    12.807861   1953.603994   \n",
       "11  12.994722  -5.283216   10546.873741    14.027658   1464.996322   \n",
       "12  14.124698  -5.742626    7909.039545    15.247454   1098.592259   \n",
       "13  15.254674  -6.202036    5930.942956    16.467250    823.827973   \n",
       "14  16.384650  -6.661446    4447.579779    17.687046    617.783827   \n",
       "15  17.514626  -7.120856    3335.214322    18.906843    463.272514   \n",
       "16  18.644602  -7.580266    2501.057907    20.126639    347.405376   \n",
       "17  19.774577  -8.039676    1875.528841    21.346435    260.517280   \n",
       "18  20.904553  -8.499086    1406.448218    22.566232    195.360399   \n",
       "19  22.034529  -8.958496    1054.687374    23.786028    146.499632   \n",
       "20  23.164505  -9.417906     790.903955    25.005824    109.859226   \n",
       "21  24.294481  -9.877316     593.094296    26.225621     82.382797   \n",
       "22  25.424457 -10.336726     444.757978    27.445417     61.778383   \n",
       "23  26.554433 -10.796136     333.521432    28.665213     46.327251   \n",
       "\n",
       "       anomalous      scattered        Escaped  RelativeEscaped  \n",
       "0   12322.730562  203042.522533  175827.580639     1.758276e-01  \n",
       "1    9240.744292  152260.411896   98875.114701     9.887511e-02  \n",
       "2    6929.580634  114179.201191   55601.563030     5.560156e-02  \n",
       "3    5196.452391   85622.321800   31267.056637     3.126706e-02  \n",
       "4    3896.789557   64207.683307   17582.758064     1.758276e-02  \n",
       "5    2922.179924   48148.969907    9887.511470     9.887511e-03  \n",
       "6    2191.325803   36106.633718    5560.156303     5.560156e-03  \n",
       "7    1643.262531   27076.155544    3126.705664     3.126706e-03  \n",
       "8    1232.273056   20304.252253    1758.275806     1.758276e-03  \n",
       "9     924.074429   15226.041190     988.751147     9.887511e-04  \n",
       "10    692.958063   11417.920119     556.015630     5.560156e-04  \n",
       "11    519.645239    8562.232180     312.670566     3.126706e-04  \n",
       "12    389.678956    6420.768331     175.827581     1.758276e-04  \n",
       "13    292.217992    4814.896991      98.875115     9.887511e-05  \n",
       "14    219.132580    3610.663372      55.601563     5.560156e-05  \n",
       "15    164.326253    2707.615554      31.267057     3.126706e-05  \n",
       "16    123.227306    2030.425225      17.582758     1.758276e-05  \n",
       "17     92.407443    1522.604119       9.887511     9.887511e-06  \n",
       "18     69.295806    1141.792012       5.560156     5.560156e-06  \n",
       "19     51.964524     856.223218       3.126706     3.126706e-06  \n",
       "20     38.967896     642.076833       1.758276     1.758276e-06  \n",
       "21     29.221799     481.489699       0.988751     9.887511e-07  \n",
       "22     21.913258     361.066337       0.556016     5.560156e-07  \n",
       "23     16.432625     270.761555       0.312671     3.126706e-07  "
      ]
     },
     "execution_count": 31,
     "metadata": {},
     "output_type": "execute_result"
    }
   ],
   "source": [
    "df_mid"
   ]
  },
  {
   "cell_type": "code",
   "execution_count": 22,
   "metadata": {},
   "outputs": [
    {
     "data": {
      "image/png": "[encoded data removed]",
      "text/plain": [
       "<Figure size 432x288 with 1 Axes>"
      ]
     },
     "metadata": {
      "needs_background": "light"
     },
     "output_type": "display_data"
    }
   ],
   "source": [
    "\n",
    "plt.barh( df_mid['y_mid'],df_mid['Escaped'],color='0.9')\n",
    "plt.plot( df_mid['Escaped'], df_mid['y_mid'], 'ko', linestyle=\"-\")\n",
    "plt.hlines(Centroid_y, 0, df_mid['Escaped'].iloc[0], color='0.3',linestyle=\"--\")\n",
    "\n",
    "#plt.plot(theta, z1, label='75% Absorption')\n",
    "#plt.plot(theta, z2, label='50% Absorption')\n",
    "\n",
    "#plt.legend()\n",
    "\n",
    "plt.ylabel('Z-depth in Fe (microns)')\n",
    "plt.xlabel('Scattered x-rays (counts)')\n",
    "#plt.title('Z-depth vs Theta for fractional intensities with a copper k-alpha source')\n",
    "\n",
    "\n",
    "plt.show()"
   ]
  },
  {
   "cell_type": "code",
   "execution_count": 30,
   "metadata": {},
   "outputs": [
    {
     "name": "stdout",
     "output_type": "stream",
     "text": [
      "-0.8199833627565323\n"
     ]
    }
   ],
   "source": [
    "print(Centroid_y)"
   ]
  },
  {
   "cell_type": "code",
   "execution_count": 37,
   "metadata": {},
   "outputs": [
    {
     "data": {
      "image/png": "[encoded data removed]",
      "text/plain": [
       "<Figure size 432x288 with 1 Axes>"
      ]
     },
     "metadata": {
      "needs_background": "light"
     },
     "output_type": "display_data"
    }
   ],
   "source": [
    "\n",
    "plt.plot( df_mid['RelativeEscaped'] ,df_mid['y_mid'], 'ko', linestyle=\"-\")\n",
    "\n",
    "\n",
    "#plt.plot(theta, z1, label='75% Absorption')\n",
    "#plt.plot(theta, z2, label='50% Absorption')\n",
    "\n",
    "#plt.legend()\n",
    "\n",
    "plt.ylabel('Z-depth in Fe (microns)')\n",
    "plt.xlabel('Scattered x-rays / Incident x-rays ')\n",
    "#plt.title('Z-depth vs Theta for fractional intensities with a copper k-alpha source')\n",
    "\n",
    "\n",
    "plt.show()"
   ]
  },
  {
   "cell_type": "code",
   "execution_count": 38,
   "metadata": {},
   "outputs": [
    {
     "data": {
      "image/png": "[encoded data removed]",
      "text/plain": [
       "<Figure size 432x288 with 1 Axes>"
      ]
     },
     "metadata": {
      "needs_background": "light"
     },
     "output_type": "display_data"
    }
   ],
   "source": [
    "# layout \n",
    "\n",
    "#start x-ray height\n",
    "xray_start=50 \n",
    "\n",
    "plt.hlines(0, -150, 150, color='k')\n",
    "plt.plot([-xray_start/np.tan(np.radians(theta_deg)),0], [xray_start,0] , 'ko', linestyle=\"--\")\n",
    "plt.plot(x_list, y_list , 'bo', linestyle=\"--\")\n",
    "\n",
    "\n",
    "#plt.plot(theta, z1, label='75% Absorption')\n",
    "#plt.plot(theta, z2, label='50% Absorption')\n",
    "\n",
    "#plt.legend()\n",
    "\n",
    "plt.xlabel('X position (microns)')\n",
    "plt.ylabel('Z-depth in Fe (microns)')\n",
    "#plt.title('Z-depth vs Theta for fractional intensities with a copper k-alpha source')\n",
    "\n",
    "plt.xlim(-50,50)\n",
    "plt.ylim(-50,50)\n",
    "plt.gca().set_aspect('equal')\n",
    "plt.show()"
   ]
  },
  {
   "cell_type": "code",
   "execution_count": 42,
   "metadata": {},
   "outputs": [
    {
     "data": {
      "image/png": "[encoded data removed]",
      "text/plain": [
       "<Figure size 432x288 with 1 Axes>"
      ]
     },
     "metadata": {
      "needs_background": "light"
     },
     "output_type": "display_data"
    }
   ],
   "source": [
    "plt.bar( df_mid['x_mid'],df_mid['Escaped'],color='0.9')\n",
    "plt.plot( df_mid['x_mid'], df_mid['Escaped'], 'ko', linestyle=\"-\")\n",
    "plt.vlines(Centroid_x, 0, df_mid['Escaped'].iloc[0], color='0.3',linestyle=\"--\")\n",
    "plt.xlim([0,30])\n",
    "\n",
    "#plt.plot(theta, z1, label='75% Absorption')\n",
    "#plt.plot(theta, z2, label='50% Absorption')\n",
    "\n",
    "#plt.legend()\n",
    "\n",
    "plt.ylabel('Scattered x-rays (counts)')\n",
    "plt.xlabel('X distance in Fe (microns)')\n",
    "#plt.title('Z-depth vs Theta for fractional intensities with a copper k-alpha source')\n",
    "\n",
    "\n",
    "plt.show()"
   ]
  },
  {
   "cell_type": "code",
   "execution_count": 32,
   "metadata": {},
   "outputs": [
    {
     "name": "stdout",
     "output_type": "stream",
     "text": [
      "2.016850501788498\n"
     ]
    }
   ],
   "source": [
    "print(Centroid_x)"
   ]
  },
  {
   "cell_type": "code",
   "execution_count": null,
   "metadata": {},
   "outputs": [],
   "source": []
  }
 ],
 "metadata": {
  "kernelspec": {
   "display_name": "Python 3",
   "language": "python",
   "name": "python3"
  },
  "language_info": {
   "codemirror_mode": {
    "name": "ipython",
    "version": 3
   },
   "file_extension": ".py",
   "mimetype": "text/x-python",
   "name": "python",
   "nbconvert_exporter": "python",
   "pygments_lexer": "ipython3",
   "version": "3.8.8"
  }
 },
 "nbformat": 4,
 "nbformat_minor": 4
}
