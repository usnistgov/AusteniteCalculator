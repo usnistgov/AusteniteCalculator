{
 "cells": [
  {
   "cell_type": "code",
   "execution_count": null,
   "metadata": {},
   "outputs": [],
   "source": []
  },
  {
   "cell_type": "code",
   "execution_count": null,
   "metadata": {},
   "outputs": [],
   "source": []
  },
  {
   "cell_type": "code",
   "execution_count": null,
   "metadata": {},
   "outputs": [],
   "source": []
  },
  {
   "cell_type": "code",
   "execution_count": 1,
   "metadata": {},
   "outputs": [],
   "source": [
    "import numpy as np\n",
    "import matplotlib.pyplot as plt\n",
    "import pandas as pd\n",
    "# For these materials and x-ray sources; determine the thickness where I/I_0 = 0.5 and 0.9"
   ]
  },
  {
   "cell_type": "markdown",
   "metadata": {},
   "source": [
    "# Plot scattering by depth"
   ]
  },
  {
   "cell_type": "code",
   "execution_count": 2,
   "metadata": {},
   "outputs": [],
   "source": [
    "# From powder diffraction, Theory and Practice by Dinnebier & Billinge\n",
    "# f(s)=f_0(s)+f'+if''\n",
    "# f^2=(f_0+f')^2+f''^2"
   ]
  },
  {
   "cell_type": "code",
   "execution_count": null,
   "metadata": {},
   "outputs": [],
   "source": []
  },
  {
   "cell_type": "code",
   "execution_count": 3,
   "metadata": {},
   "outputs": [],
   "source": [
    "# Cu-Kalpha radiation, Fe material\n",
    "\n",
    "# From .cif file\n",
    "atoms_per_cell=2\n",
    "\n",
    "# from GSAS-II fprime code, Cu-Kalpha radiation, Fe material\n",
    "f_prime = -1.134\n",
    "f_double_prime= 3.197\n",
    "mu_barns= 27759.97 #barns/atom\n",
    "\n",
    "# from GSAS-II absorb code, Cu-Kalpha radiation, Fe material\n",
    "# packing 0.85 to get powder density of 7.885 g/cm^3\n",
    "# estimated iron density is 9.277 otherwise\n",
    "\n",
    "mu_cm=2359.6 # cm^-1\n",
    "mu_um=2359.6/10000 # um^-1"
   ]
  },
  {
   "cell_type": "code",
   "execution_count": null,
   "metadata": {},
   "outputs": [],
   "source": [
    "# Cu-Kalpha radiation, SRM487 Austenite\n",
    "\n",
    "# From .cif file\n",
    "atoms_per_cell=4\n",
    "\n",
    "# Transcribed from .cif file\n",
    "element_list=['Fe','Cr','Ni','Si','C','Mn']\n",
    "element_fraction=[0.526, 0.264,  0.191, 0.015, 0.002, 0.002]\n",
    "\n",
    "# from GSAS-II fprime code, Cu-Kalpha radiation, SRM487 Austenite\n",
    "# From fprime code\n",
    "element_f_prime=[-1.134,-0.164,-3.003,0.254,0.018,-.530]\n",
    "element_f_double_prime=[3.197,2.444,0.509,0.330,0.009,2.805]\n",
    "element_mu_barns=[27759.97,21217.63,4420.01,2866.66,78.60,24354.46]\n",
    "\n",
    "f_prime= -1.134\n",
    "f_double_prime= 3.197\n",
    "mu_barns= 27759.97 #barns/atom\n",
    "\n",
    "# from GSAS-II absorb code, Cu-Kalpha radiation, SRM487 Austenite\n",
    "# packing 0.85 to get powder density of 7.741 g/cm^3\n",
    "# Total  μ=   1795.78 cm⁻¹, Total μR=     71.83, Transmission exp(-2μR)=    0.0000%\n",
    "# Est. density= 9.107 g/cm³, Powder density=7.741 g/cm³\n",
    "# X-ray small angle scattering contrast   5209.43*10²°/cm⁴\n",
    "# Anomalous X-ray small angle scattering contrast   4730.84*10²°/cm⁴\n",
    "\n",
    "mu_cm=1795.78 # cm^-1\n",
    "mu_um=1795.78/10000 # um^-1"
   ]
  },
  {
   "cell_type": "code",
   "execution_count": null,
   "metadata": {},
   "outputs": [],
   "source": [
    "# Cu-Kalpha radiation, SRM487 Ferrite (martensite)\n",
    "\n",
    "# Transcribed from .cif file\n",
    "element_list=['Fe','Cr','Ni','Si','C','Mn']\n",
    "element_fraction=[0.806, 0.177,  0.001, 0.016, 0.001, 0.002]\n",
    "\n",
    "# from GSAS-II fprime code, \n",
    "element_f_prime=[-1.134,-0.164,-3.003,0.254,0.018,-.530]\n",
    "element_f_double_prime=[3.197,2.444,0.509,0.330,0.009,2.805]\n",
    "element_mu_barns=[27759.97,21217.63,4420.01,2866.66,78.60,24354.46]\n",
    "\n",
    "f_prime= -1.134\n",
    "f_double_prime= 3.197\n",
    "mu_barns= 27759.97 #barns/atom\n",
    "\n",
    "# from GSAS-II absorb code, Cu-Kalpha radiation, SRM487 Austenite\n",
    "# packing 0.85 to get powder density of 7.711 g/cm^3\n",
    "# Total  μ=   2218.59 cm⁻¹, Total μR=     88.74, Transmission exp(-2μR)=    0.0000%\n",
    "# Est. density= 9.072 g/cm³, Powder density=7.711 g/cm³\n",
    "# X-ray small angle scattering contrast   5125.33*10²°/cm⁴\n",
    "# Anomalous X-ray small angle scattering contrast   4755.62*10²°/cm⁴\n",
    "\n",
    "\n",
    "mu_cm=2218.59 # cm^-1\n",
    "mu_um=2218.59/10000 # um^-1"
   ]
  },
  {
   "cell_type": "markdown",
   "metadata": {},
   "source": [
    "### Data for 3 possible hkls\n",
    "#### Run only 1 of the 3 examples"
   ]
  },
  {
   "cell_type": "code",
   "execution_count": 4,
   "metadata": {},
   "outputs": [],
   "source": [
    "# from PureFe example, ferrite 110 peak \n",
    "twotheta_deg=44.25 #degrees\n",
    "theta_deg=22.125\n",
    "Fcsq = 1207.03 # (f_0*atoms_per_cell)^2\n",
    "lambda_Kalpha=1.5405\n",
    "sin_theta_div_lambda=.244\n",
    "multiplicity=12\n",
    "\n",
    "\n",
    "# International Tables for Crystallography Table volume C 6.1.1.1\n",
    "#sin_theta_div_lambda=.24 (44.25 two_theta, 110 ferrite)\n",
    "f_elem=18.685\n"
   ]
  },
  {
   "cell_type": "code",
   "execution_count": null,
   "metadata": {},
   "outputs": [],
   "source": [
    "\n",
    "# from PureFe example, ferrite 211 peak \n",
    "twotheta_deg=81.44 #degrees\n",
    "theta_deg=40.72\n",
    "Fcsq = 559.61\n",
    "lambda_Kalpha=1.5405\n",
    "sin_theta_div_lambda=.423\n",
    "atoms_per_cell=2\n",
    "multiplicity=24\n",
    "\n",
    "# International Tables for Crystallography Table volume C 6.1.1.1\n",
    "\n",
    "#sin_theta_div_lambda=.42 (81.44 two_theta, 211 ferrite)\n",
    "f_elem=13.328\n",
    "\n"
   ]
  },
  {
   "cell_type": "code",
   "execution_count": null,
   "metadata": {},
   "outputs": [],
   "source": [
    "\n",
    "\n",
    "# from PureFe example, ferrite 222 peak \n",
    "twotheta_deg=134.61 #degrees\n",
    "theta_deg=67.305\n",
    "Fcsq = 270.73\n",
    "lambda_Kalpha=1.5405\n",
    "sin_theta_div_lambda=.599\n",
    "atoms_per_cell=2\n",
    "multiplicity=8\n",
    "\n",
    "# International Tables for Crystallography Table volume C 6.1.1.1\n",
    "#sin_theta_div_lambda=.6 (134.61 two_theta, 222 ferrite)\n",
    "f_elem=9.753\n",
    "\n"
   ]
  },
  {
   "cell_type": "code",
   "execution_count": null,
   "metadata": {},
   "outputs": [],
   "source": []
  },
  {
   "cell_type": "code",
   "execution_count": 5,
   "metadata": {},
   "outputs": [
    {
     "name": "stdout",
     "output_type": "stream",
     "text": [
      "1273.0336399999997\n"
     ]
    }
   ],
   "source": [
    "# check structure factor\n",
    "# not sure if f_double_prime is multiplied by atoms per cell or not...\n",
    "FF=(atoms_per_cell*(f_elem+f_prime))**2+(atoms_per_cell*f_double_prime)**2\n",
    "print(FF)"
   ]
  },
  {
   "cell_type": "code",
   "execution_count": 6,
   "metadata": {},
   "outputs": [
    {
     "name": "stdout",
     "output_type": "stream",
     "text": [
      "29.27511137049558\n"
     ]
    }
   ],
   "source": [
    "# Set max path length\n",
    "Max_intensity_drop=1/1000\n",
    "t_max_cm=(1/-mu_cm)*np.log(Max_intensity_drop) # change to mu_um?\n",
    "t_max_um=t_max_cm*10000 # this would go away\n",
    "print(t_max_um) "
   ]
  },
  {
   "cell_type": "code",
   "execution_count": 7,
   "metadata": {},
   "outputs": [],
   "source": [
    "# Set initial Intensity in x-ray counts\n",
    "I0=1000000"
   ]
  },
  {
   "cell_type": "code",
   "execution_count": 8,
   "metadata": {},
   "outputs": [],
   "source": [
    "# create a series of points along a line\n",
    "steps=25\n",
    "\n",
    "x_list=np.linspace(0,t_max_um*np.cos(np.radians(theta_deg)),num=steps)\n",
    "y_list=np.linspace(0,-t_max_um*np.sin(np.radians(theta_deg)),num=steps)"
   ]
  },
  {
   "cell_type": "code",
   "execution_count": 9,
   "metadata": {},
   "outputs": [],
   "source": [
    "df_endpoints = pd.DataFrame(data={'x': x_list, 'y': y_list})\n"
   ]
  },
  {
   "cell_type": "code",
   "execution_count": 10,
   "metadata": {},
   "outputs": [],
   "source": [
    "df_endpoints['length']=np.sqrt(df_endpoints['x']**2+df_endpoints['y']**2)\n",
    "df_endpoints['I']=I0 *  np.exp(-mu_um * df_endpoints['length'])"
   ]
  },
  {
   "cell_type": "code",
   "execution_count": 11,
   "metadata": {},
   "outputs": [
    {
     "data": {
      "text/html": [
       "<div>\n",
       "<style scoped>\n",
       "    .dataframe tbody tr th:only-of-type {\n",
       "        vertical-align: middle;\n",
       "    }\n",
       "\n",
       "    .dataframe tbody tr th {\n",
       "        vertical-align: top;\n",
       "    }\n",
       "\n",
       "    .dataframe thead th {\n",
       "        text-align: right;\n",
       "    }\n",
       "</style>\n",
       "<table border=\"1\" class=\"dataframe\">\n",
       "  <thead>\n",
       "    <tr style=\"text-align: right;\">\n",
       "      <th></th>\n",
       "      <th>x</th>\n",
       "      <th>y</th>\n",
       "      <th>length</th>\n",
       "      <th>I</th>\n",
       "    </tr>\n",
       "  </thead>\n",
       "  <tbody>\n",
       "    <tr>\n",
       "      <th>0</th>\n",
       "      <td>0.000000</td>\n",
       "      <td>0.000000</td>\n",
       "      <td>0.000000</td>\n",
       "      <td>1000000.000000</td>\n",
       "    </tr>\n",
       "    <tr>\n",
       "      <th>1</th>\n",
       "      <td>1.129976</td>\n",
       "      <td>-0.459410</td>\n",
       "      <td>1.219796</td>\n",
       "      <td>749894.209332</td>\n",
       "    </tr>\n",
       "    <tr>\n",
       "      <th>2</th>\n",
       "      <td>2.259952</td>\n",
       "      <td>-0.918820</td>\n",
       "      <td>2.439593</td>\n",
       "      <td>562341.325190</td>\n",
       "    </tr>\n",
       "    <tr>\n",
       "      <th>3</th>\n",
       "      <td>3.389928</td>\n",
       "      <td>-1.378230</td>\n",
       "      <td>3.659389</td>\n",
       "      <td>421696.503429</td>\n",
       "    </tr>\n",
       "    <tr>\n",
       "      <th>4</th>\n",
       "      <td>4.519903</td>\n",
       "      <td>-1.837640</td>\n",
       "      <td>4.879185</td>\n",
       "      <td>316227.766017</td>\n",
       "    </tr>\n",
       "    <tr>\n",
       "      <th>5</th>\n",
       "      <td>5.649879</td>\n",
       "      <td>-2.297050</td>\n",
       "      <td>6.098982</td>\n",
       "      <td>237137.370566</td>\n",
       "    </tr>\n",
       "    <tr>\n",
       "      <th>6</th>\n",
       "      <td>6.779855</td>\n",
       "      <td>-2.756460</td>\n",
       "      <td>7.318778</td>\n",
       "      <td>177827.941004</td>\n",
       "    </tr>\n",
       "    <tr>\n",
       "      <th>7</th>\n",
       "      <td>7.909831</td>\n",
       "      <td>-3.215870</td>\n",
       "      <td>8.538574</td>\n",
       "      <td>133352.143216</td>\n",
       "    </tr>\n",
       "    <tr>\n",
       "      <th>8</th>\n",
       "      <td>9.039807</td>\n",
       "      <td>-3.675280</td>\n",
       "      <td>9.758370</td>\n",
       "      <td>100000.000000</td>\n",
       "    </tr>\n",
       "    <tr>\n",
       "      <th>9</th>\n",
       "      <td>10.169783</td>\n",
       "      <td>-4.134690</td>\n",
       "      <td>10.978167</td>\n",
       "      <td>74989.420933</td>\n",
       "    </tr>\n",
       "    <tr>\n",
       "      <th>10</th>\n",
       "      <td>11.299759</td>\n",
       "      <td>-4.594101</td>\n",
       "      <td>12.197963</td>\n",
       "      <td>56234.132519</td>\n",
       "    </tr>\n",
       "    <tr>\n",
       "      <th>11</th>\n",
       "      <td>12.429734</td>\n",
       "      <td>-5.053511</td>\n",
       "      <td>13.417759</td>\n",
       "      <td>42169.650343</td>\n",
       "    </tr>\n",
       "    <tr>\n",
       "      <th>12</th>\n",
       "      <td>13.559710</td>\n",
       "      <td>-5.512921</td>\n",
       "      <td>14.637556</td>\n",
       "      <td>31622.776602</td>\n",
       "    </tr>\n",
       "    <tr>\n",
       "      <th>13</th>\n",
       "      <td>14.689686</td>\n",
       "      <td>-5.972331</td>\n",
       "      <td>15.857352</td>\n",
       "      <td>23713.737057</td>\n",
       "    </tr>\n",
       "    <tr>\n",
       "      <th>14</th>\n",
       "      <td>15.819662</td>\n",
       "      <td>-6.431741</td>\n",
       "      <td>17.077148</td>\n",
       "      <td>17782.794100</td>\n",
       "    </tr>\n",
       "    <tr>\n",
       "      <th>15</th>\n",
       "      <td>16.949638</td>\n",
       "      <td>-6.891151</td>\n",
       "      <td>18.296945</td>\n",
       "      <td>13335.214322</td>\n",
       "    </tr>\n",
       "    <tr>\n",
       "      <th>16</th>\n",
       "      <td>18.079614</td>\n",
       "      <td>-7.350561</td>\n",
       "      <td>19.516741</td>\n",
       "      <td>10000.000000</td>\n",
       "    </tr>\n",
       "    <tr>\n",
       "      <th>17</th>\n",
       "      <td>19.209590</td>\n",
       "      <td>-7.809971</td>\n",
       "      <td>20.736537</td>\n",
       "      <td>7498.942093</td>\n",
       "    </tr>\n",
       "    <tr>\n",
       "      <th>18</th>\n",
       "      <td>20.339565</td>\n",
       "      <td>-8.269381</td>\n",
       "      <td>21.956334</td>\n",
       "      <td>5623.413252</td>\n",
       "    </tr>\n",
       "    <tr>\n",
       "      <th>19</th>\n",
       "      <td>21.469541</td>\n",
       "      <td>-8.728791</td>\n",
       "      <td>23.176130</td>\n",
       "      <td>4216.965034</td>\n",
       "    </tr>\n",
       "    <tr>\n",
       "      <th>20</th>\n",
       "      <td>22.599517</td>\n",
       "      <td>-9.188201</td>\n",
       "      <td>24.395926</td>\n",
       "      <td>3162.277660</td>\n",
       "    </tr>\n",
       "    <tr>\n",
       "      <th>21</th>\n",
       "      <td>23.729493</td>\n",
       "      <td>-9.647611</td>\n",
       "      <td>25.615722</td>\n",
       "      <td>2371.373706</td>\n",
       "    </tr>\n",
       "    <tr>\n",
       "      <th>22</th>\n",
       "      <td>24.859469</td>\n",
       "      <td>-10.107021</td>\n",
       "      <td>26.835519</td>\n",
       "      <td>1778.279410</td>\n",
       "    </tr>\n",
       "    <tr>\n",
       "      <th>23</th>\n",
       "      <td>25.989445</td>\n",
       "      <td>-10.566431</td>\n",
       "      <td>28.055315</td>\n",
       "      <td>1333.521432</td>\n",
       "    </tr>\n",
       "    <tr>\n",
       "      <th>24</th>\n",
       "      <td>27.119421</td>\n",
       "      <td>-11.025841</td>\n",
       "      <td>29.275111</td>\n",
       "      <td>1000.000000</td>\n",
       "    </tr>\n",
       "  </tbody>\n",
       "</table>\n",
       "</div>"
      ],
      "text/plain": [
       "            x          y     length               I\n",
       "0    0.000000   0.000000   0.000000  1000000.000000\n",
       "1    1.129976  -0.459410   1.219796   749894.209332\n",
       "2    2.259952  -0.918820   2.439593   562341.325190\n",
       "3    3.389928  -1.378230   3.659389   421696.503429\n",
       "4    4.519903  -1.837640   4.879185   316227.766017\n",
       "5    5.649879  -2.297050   6.098982   237137.370566\n",
       "6    6.779855  -2.756460   7.318778   177827.941004\n",
       "7    7.909831  -3.215870   8.538574   133352.143216\n",
       "8    9.039807  -3.675280   9.758370   100000.000000\n",
       "9   10.169783  -4.134690  10.978167    74989.420933\n",
       "10  11.299759  -4.594101  12.197963    56234.132519\n",
       "11  12.429734  -5.053511  13.417759    42169.650343\n",
       "12  13.559710  -5.512921  14.637556    31622.776602\n",
       "13  14.689686  -5.972331  15.857352    23713.737057\n",
       "14  15.819662  -6.431741  17.077148    17782.794100\n",
       "15  16.949638  -6.891151  18.296945    13335.214322\n",
       "16  18.079614  -7.350561  19.516741    10000.000000\n",
       "17  19.209590  -7.809971  20.736537     7498.942093\n",
       "18  20.339565  -8.269381  21.956334     5623.413252\n",
       "19  21.469541  -8.728791  23.176130     4216.965034\n",
       "20  22.599517  -9.188201  24.395926     3162.277660\n",
       "21  23.729493  -9.647611  25.615722     2371.373706\n",
       "22  24.859469 -10.107021  26.835519     1778.279410\n",
       "23  25.989445 -10.566431  28.055315     1333.521432\n",
       "24  27.119421 -11.025841  29.275111     1000.000000"
      ]
     },
     "execution_count": 11,
     "metadata": {},
     "output_type": "execute_result"
    }
   ],
   "source": [
    "df_endpoints"
   ]
  },
  {
   "cell_type": "code",
   "execution_count": 12,
   "metadata": {},
   "outputs": [],
   "source": [
    "x_mid=[]\n",
    "y_mid=[]\n",
    "delta_I=[]\n",
    "for i in range(0,len(df_endpoints)-1):\n",
    "    #print(i)\n",
    "    x_mid.append((df_endpoints['x'].iloc[i]+df_endpoints['x'].iloc[i+1])/2)\n",
    "    y_mid.append((df_endpoints['y'].iloc[i]+df_endpoints['y'].iloc[i+1])/2)\n",
    "    delta_I.append(df_endpoints['I'].iloc[i]-df_endpoints['I'].iloc[i+1])\n",
    "    \n",
    "df_mid = pd.DataFrame(data={'x_mid': x_mid, 'y_mid': y_mid, 'delta_I':delta_I})"
   ]
  },
  {
   "cell_type": "code",
   "execution_count": 13,
   "metadata": {},
   "outputs": [],
   "source": [
    "# It's not clear to me how this should properly be calculated.  \n",
    "# f_prime can occasionally take positive values at higher energies.\n",
    "# That seems to imply a flourescing photon can cause additional scattering?\n",
    "\n",
    "# For now I am using rule of mixtures with absolute values\n",
    "df_mid['travel_dist']=np.sqrt(df_mid['x_mid']**2+df_mid['y_mid']**2)\n",
    "\n",
    "df_mid['absorbed']=df_mid['delta_I']*(f_double_prime/(f_double_prime+abs(f_prime)+f_elem))\n",
    "df_mid['anomalous']=df_mid['delta_I']*(abs(f_prime)/(f_double_prime+abs(f_prime)+f_elem))\n",
    "df_mid['scattered']=df_mid['delta_I']*(f_elem/(f_double_prime+abs(f_prime)+f_elem))\n",
    "\n",
    "#scattered, but not absorbed on return to the surface\n",
    "df_mid['Escaped']=df_mid['scattered'] *  np.exp(-mu_um * df_mid['travel_dist'])\n",
    "df_mid['RelativeEscaped']=df_mid['Escaped']/I0"
   ]
  },
  {
   "cell_type": "code",
   "execution_count": 14,
   "metadata": {},
   "outputs": [],
   "source": [
    "# Centroid of distribution\n",
    "Centroid_y=np.sum(df_mid['Escaped']*df_mid['y_mid'])/np.sum(df_mid['Escaped'])\n",
    "\n",
    "Centroid_x=np.sum(df_mid['Escaped']*df_mid['x_mid'])/np.sum(df_mid['Escaped'])"
   ]
  },
  {
   "cell_type": "code",
   "execution_count": 15,
   "metadata": {},
   "outputs": [],
   "source": [
    "#df_mid"
   ]
  },
  {
   "cell_type": "code",
   "execution_count": 16,
   "metadata": {},
   "outputs": [
    {
     "data": {
      "image/png": "[encoded data removed]",
      "text/plain": [
       "<Figure size 720x576 with 1 Axes>"
      ]
     },
     "metadata": {
      "needs_background": "light"
     },
     "output_type": "display_data"
    }
   ],
   "source": [
    "plt.figure(figsize=(10,8))\n",
    "plt.barh( df_mid['y_mid'],df_mid['Escaped'],color='0.9')\n",
    "plt.plot( df_mid['Escaped'], df_mid['y_mid'], 'ko', linestyle=\"-\")\n",
    "plt.hlines(Centroid_y, 0, df_mid['Escaped'].iloc[0], color='0.3',linestyle=\"--\")\n",
    "\n",
    "#plt.plot(theta, z1, label='75% Absorption')\n",
    "#plt.plot(theta, z2, label='50% Absorption')\n",
    "\n",
    "#plt.legend()\n",
    "\n",
    "plt.ylabel('Z-depth in Fe (microns)', fontsize=18)\n",
    "plt.xlabel('Scattered x-rays (counts)', fontsize=18)\n",
    "#plt.title('Z-depth vs Theta for fractional intensities with a copper k-alpha source')\n",
    "\n",
    "\n",
    "plt.show()"
   ]
  },
  {
   "cell_type": "code",
   "execution_count": 17,
   "metadata": {},
   "outputs": [
    {
     "name": "stdout",
     "output_type": "stream",
     "text": [
      "-0.8199833627565323\n"
     ]
    }
   ],
   "source": [
    "print(Centroid_y)"
   ]
  },
  {
   "cell_type": "code",
   "execution_count": 18,
   "metadata": {},
   "outputs": [
    {
     "data": {
      "image/png": "[encoded data removed]",
      "text/plain": [
       "<Figure size 720x576 with 1 Axes>"
      ]
     },
     "metadata": {
      "needs_background": "light"
     },
     "output_type": "display_data"
    }
   ],
   "source": [
    "plt.figure(figsize=(10,8))\n",
    "plt.plot( df_mid['RelativeEscaped'] ,df_mid['y_mid'], 'ko', linestyle=\"-\")\n",
    "\n",
    "\n",
    "#plt.plot(theta, z1, label='75% Absorption')\n",
    "#plt.plot(theta, z2, label='50% Absorption')\n",
    "\n",
    "#plt.legend()\n",
    "\n",
    "plt.ylabel('Z-depth in Fe (microns)')\n",
    "plt.xlabel('Scattered x-rays / Incident x-rays ')\n",
    "#plt.title('Z-depth vs Theta for fractional intensities with a copper k-alpha source')\n",
    "\n",
    "\n",
    "plt.show()"
   ]
  },
  {
   "cell_type": "code",
   "execution_count": 19,
   "metadata": {},
   "outputs": [
    {
     "data": {
      "image/png": "[encoded data removed]",
      "text/plain": [
       "<Figure size 720x576 with 1 Axes>"
      ]
     },
     "metadata": {
      "needs_background": "light"
     },
     "output_type": "display_data"
    }
   ],
   "source": [
    "# layout \n",
    "plt.figure(figsize=(10,8))\n",
    "\n",
    "#start x-ray height\n",
    "xray_start=50 \n",
    "\n",
    "plt.hlines(0, -150, 150, color='k')\n",
    "plt.plot([-xray_start/np.tan(np.radians(theta_deg)),0], [xray_start,0] , 'ko', linestyle=\"--\")\n",
    "plt.plot(x_list, y_list , 'bo', linestyle=\"--\")\n",
    "\n",
    "\n",
    "#plt.plot(theta, z1, label='75% Absorption')\n",
    "#plt.plot(theta, z2, label='50% Absorption')\n",
    "\n",
    "#plt.legend()\n",
    "\n",
    "plt.xlabel('X position (microns)')\n",
    "plt.ylabel('Z-depth in Fe (microns)')\n",
    "#plt.title('Z-depth vs Theta for fractional intensities with a copper k-alpha source')\n",
    "\n",
    "plt.xlim(-50,50)\n",
    "plt.ylim(-50,50)\n",
    "plt.gca().set_aspect('equal')\n",
    "plt.show()"
   ]
  },
  {
   "cell_type": "code",
   "execution_count": null,
   "metadata": {},
   "outputs": [],
   "source": [
    "plt.figure(figsize=(10,8))\n",
    "plt.bar( df_mid['x_mid'],df_mid['Escaped'],color='0.9')\n",
    "plt.plot( df_mid['x_mid'], df_mid['Escaped'], 'ko', linestyle=\"-\")\n",
    "plt.vlines(Centroid_x, 0, df_mid['Escaped'].iloc[0], color='0.3',linestyle=\"--\")\n",
    "plt.xlim([0,30])\n",
    "\n",
    "#plt.plot(theta, z1, label='75% Absorption')\n",
    "#plt.plot(theta, z2, label='50% Absorption')\n",
    "\n",
    "#plt.legend()\n",
    "\n",
    "plt.ylabel('Scattered x-rays (counts)')\n",
    "plt.xlabel('X distance in Fe (microns)')\n",
    "#plt.title('Z-depth vs Theta for fractional intensities with a copper k-alpha source')\n",
    "\n",
    "\n",
    "plt.show()"
   ]
  },
  {
   "cell_type": "code",
   "execution_count": null,
   "metadata": {},
   "outputs": [],
   "source": [
    "print(Centroid_x)"
   ]
  },
  {
   "cell_type": "code",
   "execution_count": null,
   "metadata": {},
   "outputs": [],
   "source": []
  },
  {
   "cell_type": "markdown",
   "metadata": {},
   "source": [
    "## Number of particles\n",
    "The meaning of particles will depend on if the material is polycrystalline or a powder"
   ]
  },
  {
   "cell_type": "code",
   "execution_count": null,
   "metadata": {},
   "outputs": [],
   "source": [
    "# SRM487 Particle, Scan parameters\n",
    "\n",
    "# Particle Size data\n",
    "# Figure out how to enter non-spherical data (likely ellipse?)\n",
    "\n",
    "# Austenite powder between 53 um to 44 um; assuming 50\n",
    "# powder_size_um=50\n",
    "# powder_size_mm=powder_size_um/1000\n",
    "\n",
    "# Ferrite (martensite) powder between 44 um to 37 um; assuming 40\n",
    "powder_size_um=40\n",
    "powder_size_mm=powder_size_um/1000"
   ]
  },
  {
   "cell_type": "code",
   "execution_count": null,
   "metadata": {},
   "outputs": [],
   "source": [
    "# From ASTM E112, Appendix A2 \"EQUATIONS FOR CONVERSIONS AMONG VARIOUS GRAIN SIZE MEASUREMENTS\"\n",
    "# Assumes spherical grains, and many other assumptions...\n",
    "\n",
    "# D_bar == Mean spatial (volumetric) grain diameter\n",
    "# l_bar == Mean lineal intercept length\n",
    "# A_bar == Mean grain cross sectional area\n",
    "# N_bar_A == Number of grains per unit area\n",
    "\n",
    "\n",
    "D_bar = powder_size_mm\n",
    "l_bar= D_bar/1.5\n",
    "A_bar = ((l_bar)**2)*(4/np.pi)\n",
    "N_bar_A = 1/A_bar\n"
   ]
  },
  {
   "cell_type": "code",
   "execution_count": null,
   "metadata": {},
   "outputs": [],
   "source": [
    "print(D_bar,l_bar,A_bar, N_bar_A)"
   ]
  },
  {
   "cell_type": "code",
   "execution_count": null,
   "metadata": {},
   "outputs": [],
   "source": [
    "### X-ray system scan parameters from E211110-AAC-001_0019\n",
    "\n",
    "# Figure out a way to read these?  Also angular spread from detector distance\n",
    "# 0.6 mm slit, 1 mm collimator (snout)\n",
    "# seems like the spillover is neligible (X_centroid above) for ~mm sizes, but probably should include\n",
    "\n",
    "#options should be circle or rectangle\n",
    "beam_shape='circle'\n",
    "beam_size_axis1_mm=1\n",
    "\n",
    "#probably some additional try/except here\n",
    "if beam_shape=='circle':\n",
    "    beam_size_axis2_mm=beam_size_axis1_mm\n",
    "    \n",
    "\n",
    "#if the sample or x-ray system was moved\n",
    "raster_length_axis1_mm=4\n",
    "raster_length_axis2_mm=4\n",
    "\n",
    "raster_area_mm=(raster_length_axis1_mm+beam_size_axis1_mm)*(raster_length_axis2_mm+beam_size_axis2_mm)"
   ]
  },
  {
   "cell_type": "code",
   "execution_count": null,
   "metadata": {},
   "outputs": [],
   "source": [
    "# Will need phase fraction value, entering one for now\n",
    "# SRM487, nominally 30% austenite 70% martensite\n",
    "phase_fraction=.3"
   ]
  },
  {
   "cell_type": "code",
   "execution_count": null,
   "metadata": {},
   "outputs": [],
   "source": [
    "# Assumptions on crystallites per particle\n",
    "# Maybe an if statement?\n",
    "\n",
    "#crystalites_per_particle=1 # good for polycrystalline materials\n",
    "\n",
    "crystalites_per_particle=20 # estimate for powders range pretty widely, from 1 to 100...\n"
   ]
  },
  {
   "cell_type": "code",
   "execution_count": null,
   "metadata": {},
   "outputs": [],
   "source": [
    "# Need to add a metric for how many grains through the thickness.  \n",
    "# Right now l_bar > (or >>) penetration depth, so\n",
    "\n",
    "\n",
    "N_illuminated=N_bar_A*raster_area_mm*phase_fraction*crystalites_per_particle\n",
    "print(N_illuminated)"
   ]
  },
  {
   "cell_type": "markdown",
   "metadata": {},
   "source": [
    "## Number of grains diffracting\n",
    "From:\n",
    "Alexander, Leroy, Harold P. Klug, and Elizabeth Kummer. 1948. “Statistical Factors Affecting the Intensity of X‐Rays Diffracted by Crystalline Powders.” Journal of Applied Physics 19 (8): 742–53. https://doi.org/10.1063/1.1698200.\n"
   ]
  },
  {
   "cell_type": "markdown",
   "metadata": {},
   "source": [
    "#### X-ray diffractometer geometry parameters"
   ]
  },
  {
   "cell_type": "code",
   "execution_count": null,
   "metadata": {},
   "outputs": [],
   "source": [
    "# Doesn't seem to be in the instrument parameter file, but sometimes in the input file\n",
    "# All units in millimeters, using notation from Alexander 1948\n",
    "# H (heights) are perpendicular to the source-sample-detector plane\n",
    "# W (widths) are parallel to the source-sample-detector plane\n",
    "# _F is the source\n",
    "# _R is the detector (reciever)\n",
    "\n",
    "# See Fig 2 of Alexander 1948\n",
    "\n",
    "# Assumes a rectangular beam and reciever shape\n",
    "\n",
    "# Estimates for Bruker D8\n",
    "\n",
    "# Dimensions\n",
    "# Sample to Detector AND Sample to Source length\n",
    "L = 265 \n",
    "# Source slit width\n",
    "W_F = 1 \n",
    "# Source slit height\n",
    "H_F = 1\n",
    "\n",
    "# Detector slit width\n",
    "H_R = 70 # estimated from gamma; Farily consistent with the Eiger2_500k listed dimension of 77.1 x 38.4 mm\n",
    "\n",
    "# Angles (radians)\n",
    "# Crystallite rocking angle\n",
    "# ranges from a few seconds of an arc for \"ideal\" materials; minutes of an arc for 'most crystals';\n",
    "#   or a degree or more for imperfect/deformed crystals\n",
    "\n",
    "delta_theta_half=(0.5)*(np.pi/180)\n",
    "\n",
    "# gamma replaces H_R/L for 2D detector\n",
    "gamma = (15)*(np.pi/180)  # Estimated width; equal to 0.261 radians"
   ]
  },
  {
   "cell_type": "code",
   "execution_count": null,
   "metadata": {},
   "outputs": [],
   "source": [
    "# Termed 'p' in Alexander 1948\n",
    "diffracting_fraction=((multiplicity/4*np.pi)*(W_F/L+delta_theta_half)*\n",
    "                      (H_F/L+H_R/L)*(1/(2*(np.sin(theta_deg*np.pi/180)))))\n",
    "print(diffracting_fraction)"
   ]
  },
  {
   "cell_type": "code",
   "execution_count": null,
   "metadata": {},
   "outputs": [],
   "source": [
    "print(\"  Number Illuminated: \",N_illuminated)\n",
    "print(\"Fraction Diffracting: \",diffracting_fraction)\n",
    "print(\"  Number Diffracting: \",N_illuminated*diffracting_fraction)"
   ]
  },
  {
   "cell_type": "code",
   "execution_count": null,
   "metadata": {},
   "outputs": [],
   "source": []
  },
  {
   "cell_type": "markdown",
   "metadata": {},
   "source": [
    "# Prior plots"
   ]
  },
  {
   "cell_type": "code",
   "execution_count": null,
   "metadata": {},
   "outputs": [],
   "source": []
  },
  {
   "cell_type": "raw",
   "metadata": {},
   "source": [
    "As an x-ray passes through matter, there are several things that can happen:\n",
    "1) Nothing (continues along it's way)\n",
    "2) Scattered (diffraction, \"f_0\" in scattering factor calculations)\n",
    "3) 'Anomolously' scattered (flourescence and similar, \"f' \" in scattering factor calculations)\n",
    "4) Absorbed (\"f'' \" in scattering factor calculations)\n",
    "\n",
    "From Section 4.2.6.1.2 of International Tables for Crystallography Volume C: Mathematical, physical and chemical tables Second Edition.\n",
    "\n",
    "Absorbtion tends to be a fairly intuitive phenomena, so we'll start modeling there."
   ]
  },
  {
   "cell_type": "markdown",
   "metadata": {},
   "source": [
    "# Linear Model of Absorbption"
   ]
  },
  {
   "cell_type": "raw",
   "metadata": {},
   "source": [
    "Taken from p131 of \"Texture and Anisotropy\" by Kocks et al.  \n",
    "\n",
    "I = I_0 *  exp(-mu * t)\n",
    "Where:\n",
    "I_0 is the incident x-ray intensity\n",
    "mu is the linear absorbtion coefficient\n",
    "t is the thickness (distace) traveled by the x-rays\n",
    "\n",
    "mu is a function of the material being passed through and the x-ray energies\n",
    "mu/rho is the mass obsorbtion coefficent, (linear absorbtion coefficient divided by the density of material being passed through)"
   ]
  },
  {
   "cell_type": "code",
   "execution_count": null,
   "metadata": {},
   "outputs": [],
   "source": [
    "def I(A,M,t):\n",
    "    return A*np.exp(-M*t)"
   ]
  },
  {
   "cell_type": "code",
   "execution_count": null,
   "metadata": {},
   "outputs": [],
   "source": [
    "I(3,6,20)\n",
    "# code check"
   ]
  },
  {
   "cell_type": "raw",
   "metadata": {},
   "source": [
    "Mass absorbtion coefficients from Table 4.2.4.3 of International Tables for Crystallography Volume C: Mathematical, physical and chemical tables Second Edition. \n",
    "Density from Wikipedia https://en.wikipedia.org/wiki/Iron, https://en.wikipedia.org/wiki/Nickel\n",
    "or Concoa https://www.concoa.com/nitrogen_properties.html\n",
    "(mu/rho units of cm^2/g; rho units of g/cm^3):\n",
    "\n",
    "Copper k-alpha source, solid Fe material\n",
    "mu/rho = 302\n",
    "rho = 7.874 \n",
    "\n",
    "Chromium k-alpha source, solid Fe material\n",
    "mu/rho = 113\n",
    "rho = 7.874 \n",
    "\n",
    "Molybdenum k-alpha source, solid Fe material\n",
    "mu/rho = 37.6\n",
    "rho = 7.874 \n",
    "\n",
    "Copper k-alpha source, solid Ni material\n",
    "mu/rho = 48.8\n",
    "rho = 8.908\n",
    "\n",
    "Copper k-alpha source, solid N material\n",
    "mu/rho = 7.44\n",
    "rho = 0.0012506"
   ]
  },
  {
   "cell_type": "code",
   "execution_count": null,
   "metadata": {},
   "outputs": [],
   "source": [
    "mu = np.array([2377.948,889.762,296.0624,434.7104,0.0093045])\n",
    "print(mu)\n",
    "# mu = rho*(mu/rho) in order as given above."
   ]
  },
  {
   "cell_type": "code",
   "execution_count": null,
   "metadata": {},
   "outputs": [],
   "source": [
    "thick1 = (np.log(0.5)/-mu)*10000 # put into um's\n",
    "thick2 = (np.log(0.9)/-mu)*10000\n",
    "print(thick1,thick2)\n",
    "# prints the thicknesses for each source, material, and fractonal intensity in microns."
   ]
  },
  {
   "cell_type": "markdown",
   "metadata": {},
   "source": [
    "# Probability based model"
   ]
  },
  {
   "cell_type": "raw",
   "metadata": {},
   "source": [
    "Another way to look at the I/I_0 values as a function of thickness is a probability diagram.  At each thickness "
   ]
  },
  {
   "cell_type": "code",
   "execution_count": null,
   "metadata": {},
   "outputs": [],
   "source": [
    "# Plot I/I_0 as a function of thickness for each of the materials and x-ray sources"
   ]
  },
  {
   "cell_type": "code",
   "execution_count": null,
   "metadata": {},
   "outputs": [],
   "source": [
    "t = np.linspace(0,0.006,5000) # 5000 linearly spaced numbers from 0-0.01(cm)\n",
    "y1 = np.exp(-2377.948*t) # for a Copper K-alpha source in Fe material\n",
    "y2 = np.exp(-889.762*t) # for a Chromium K-alpha source in Fe material\n",
    "y3 = np.exp(-296.0624*t) # for a Molybdenum K-alpha source in Fe material\n",
    "\n",
    "plt.plot(t, y1, label='Copper')\n",
    "plt.plot(t, y2, label='Chromium')\n",
    "plt.plot(t, y3, label='Molybdenum')\n",
    "plt.axhline(y=0.5, color='r', linestyle='-', label= 'Half Intensity') # Shows depth of half intensity\n",
    "\n",
    "plt.xlabel('Thickness (cm)')\n",
    "plt.ylabel('Fraction of Original Intensity')\n",
    "plt.title('Interaction Depth of Different K-Alpha X-Ray Sources in Fe')\n",
    "plt.legend()\n",
    "plt.show()\n",
    "\n",
    "# shows the plot"
   ]
  },
  {
   "cell_type": "code",
   "execution_count": null,
   "metadata": {},
   "outputs": [],
   "source": [
    "t = np.linspace(0,0.012,5000) # 5000 linearly spaced numbers from 0-0.01(cm)\n",
    "y = np.exp(-434.7104*t) # Copper k-alpha source, solid Ni material\n",
    "\n",
    "plt.plot(t, y)\n",
    "plt.axhline(y=0.5, color='r', linestyle='-') # Shows depth of half intensity\n",
    "\n",
    "plt.xlabel('Thickness (cm)')\n",
    "plt.ylabel('Fraction of Original Intensity')\n",
    "plt.title('Interaction Depth of Copper K-Alpha X-Ray Source in Ni')\n",
    "plt.show()\n",
    "\n",
    "# shows the plot"
   ]
  },
  {
   "cell_type": "code",
   "execution_count": null,
   "metadata": {},
   "outputs": [],
   "source": [
    "t = np.linspace(0,600,5000) # 5000 linearly spaced numbers from 0-0.01(cm)\n",
    "y = np.exp(-0.0093045*t) # Copper k-alpha source, gaseous N material\n",
    "\n",
    "plt.plot(t, y)\n",
    "plt.axhline(y=0.5, color='r', linestyle='-') # Shows depth of half intensity\n",
    "\n",
    "plt.xlabel('Thickness (cm)')\n",
    "plt.ylabel('Fraction of Original Intensity')\n",
    "plt.title('Interaction Depth of Copper K-Alpha X-Ray Source in N')\n",
    "\n",
    "plt.show()\n",
    "\n",
    "# shows the plot"
   ]
  },
  {
   "cell_type": "markdown",
   "metadata": {},
   "source": [
    "# Path to enter and exit at a given angle theta"
   ]
  },
  {
   "cell_type": "raw",
   "metadata": {},
   "source": [
    "When performing a diffraciton experiment, the path the x-rays is usually not perpendicular to the surface, but inclined at an angle \"theta\". (perpendicular to the surface would be theta=90 degrees)  The amount of material that the x-ray beam passes through is also a function of depth into the surface (\"z\").  \n"
   ]
  },
  {
   "cell_type": "code",
   "execution_count": null,
   "metadata": {},
   "outputs": [],
   "source": [
    "def Zdep(theta, t):\n",
    "    return np.sin(theta)*t"
   ]
  },
  {
   "cell_type": "raw",
   "metadata": {},
   "source": [
    "I/I_0(z) = exp(-mu*Zdep)"
   ]
  },
  {
   "cell_type": "code",
   "execution_count": null,
   "metadata": {},
   "outputs": [],
   "source": [
    "np.pi/2"
   ]
  },
  {
   "cell_type": "code",
   "execution_count": null,
   "metadata": {},
   "outputs": [],
   "source": [
    "# Either:\n",
    "# Develop and plot an analytical expression for I/I_0 as a function of depth z   \n",
    "# OR\n",
    "# For a series of points along z (~20) plot I/I_0"
   ]
  },
  {
   "cell_type": "code",
   "execution_count": null,
   "metadata": {},
   "outputs": [],
   "source": [
    "theta = np.linspace(0,1.571,5000) # 5000 linearly spaced numbers from 0-(pi/2) radians\n",
    "\n",
    "z1 = ((np.sin(theta)*np.log(0.25))/(-2377.948))*10000 # The z-depth for all theta values from 0-(pi/2) radians at a fractional intensity of 0.25\n",
    "z2 = ((np.sin(theta)*np.log(0.50))/(-2377.948))*10000 # The z-depth for all theta values from 0-(pi/2) radians at a fractional intensity of 0.50\n",
    "z3 = ((np.sin(theta)*np.log(0.10))/(-2377.948))*10000 # The z-depth for all theta values from 0-(pi/2) radians at a fractional intensity of 0.10\n",
    "\n",
    "plt.plot(theta, z3, label='90% Absorption')\n",
    "plt.plot(theta, z1, label='75% Absorption')\n",
    "plt.plot(theta, z2, label='50% Absorption')\n",
    "\n",
    "plt.legend()\n",
    "\n",
    "plt.xlabel('Theta (radians)')\n",
    "plt.ylabel('Z-depth in Fe (microns)')\n",
    "plt.title('Z-depth vs Theta for fractional intensities with a copper k-alpha source')\n",
    "\n",
    "plt.show()"
   ]
  },
  {
   "cell_type": "code",
   "execution_count": null,
   "metadata": {},
   "outputs": [],
   "source": [
    "theta = np.linspace(0,1.571,5000) # 5000 linearly spaced numbers from 0-(pi/2) radians\n",
    "z1 = ((np.sin(theta)*np.log(0.25))/(-889.762))*10000 # The z-depth for all theta values from 0-(pi/2) radians at a fractional intensity of 0.25\n",
    "z2 = ((np.sin(theta)*np.log(0.50))/(-889.762))*10000 # The z-depth for all theta values from 0-(pi/2) radians at a fractional intensity of 0.50\n",
    "z3 = ((np.sin(theta)*np.log(0.10))/(-889.762))*10000 # The z-depth for all theta values from 0-(pi/2) radians at a fractional intensity of 0.10\n",
    "\n",
    "plt.plot(theta, z3, label='90% Absorption')\n",
    "plt.plot(theta, z1, label='75% Absorption')\n",
    "plt.plot(theta, z2, label='50% Absorption')\n",
    "\n",
    "plt.legend()\n",
    "\n",
    "plt.xlabel('Theta (radians)')\n",
    "plt.ylabel('Z-depth in Fe (microns)')\n",
    "plt.title('Z-depth vs Theta for fractional intensities with a chromium k-alpha source')\n",
    "\n",
    "plt.show()"
   ]
  },
  {
   "cell_type": "code",
   "execution_count": null,
   "metadata": {},
   "outputs": [],
   "source": [
    "theta = np.linspace(0,1.571,5000) # 5000 linearly spaced numbers from 0-(pi/2) radians\n",
    "z1 = ((np.sin(theta)*np.log(0.25))/(-296.0624))*10000 # The z-depth for all theta values from 0-(pi/2) radians at a fractional intensity of 0.25\n",
    "z2 = ((np.sin(theta)*np.log(0.50))/(-296.0624))*10000 # The z-depth for all theta values from 0-(pi/2) radians at a fractional intensity of 0.50\n",
    "z3 = ((np.sin(theta)*np.log(0.10))/(-296.0624))*10000 # The z-depth for all theta values from 0-(pi/2) radians at a fractional intensity of 0.10\n",
    "\n",
    "plt.plot(theta, z3, label='90% Absorption')\n",
    "plt.plot(theta, z1, label='75% Absorption')\n",
    "plt.plot(theta, z2, label='50% Absorption')\n",
    "\n",
    "plt.legend()\n",
    "\n",
    "plt.xlabel('Theta (radians)')\n",
    "plt.ylabel('Z-depth in Fe (microns)')\n",
    "plt.title('Z-depth vs Theta for fractional intensities with a molybdenum k-alpha source')\n",
    "\n",
    "plt.show()"
   ]
  },
  {
   "cell_type": "markdown",
   "metadata": {},
   "source": [
    "## To add later to the model\n",
    "- multi-element absorbtion (weighted summation, see Kocks 131)\n"
   ]
  },
  {
   "cell_type": "code",
   "execution_count": null,
   "metadata": {},
   "outputs": [],
   "source": []
  },
  {
   "cell_type": "raw",
   "metadata": {},
   "source": [
    "    "
   ]
  }
 ],
 "metadata": {
  "kernelspec": {
   "display_name": "Python 3 (ipykernel)",
   "language": "python",
   "name": "python3"
  },
  "language_info": {
   "codemirror_mode": {
    "name": "ipython",
    "version": 3
   },
   "file_extension": ".py",
   "mimetype": "text/x-python",
   "name": "python",
   "nbconvert_exporter": "python",
   "pygments_lexer": "ipython3",
   "version": "3.7.13"
  }
 },
 "nbformat": 4,
 "nbformat_minor": 4
}
