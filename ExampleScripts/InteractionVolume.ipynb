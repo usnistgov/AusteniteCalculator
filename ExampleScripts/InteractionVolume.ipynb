{
 "cells": [
  {
   "cell_type": "code",
   "execution_count": null,
   "metadata": {},
   "outputs": [],
   "source": []
  },
  {
   "cell_type": "raw",
   "metadata": {},
   "source": [
    "As an x-ray passes through matter, there are several things that can happen:\n",
    "1) Nothing (continues along it's way)\n",
    "2) Scattered (diffraction, \"f_0\" in scattering factor calculations)\n",
    "3) 'Anomolously' scattered (flourescence and similar, \"f' \" in scattering factor calculations)\n",
    "4) Absorbed (\"f'' \" in scattering factor calculations)\n",
    "\n",
    "From Section 4.2.6.1.2 of International Tables for Crystallography Volume C: Mathematical, physical and chemical tables Second Edition.\n",
    "\n",
    "Absorbtion tends to be a fairly intuitive phenomena, so we'll start modeling there."
   ]
  },
  {
   "cell_type": "markdown",
   "metadata": {},
   "source": [
    "# Linear Model of Absorbption"
   ]
  },
  {
   "cell_type": "raw",
   "metadata": {},
   "source": [
    "Taken from p131 of \"Texture and Anisotropy\" by Kocks et al.  \n",
    "\n",
    "I = I_0 *  exp(-mu * t)\n",
    "Where:\n",
    "I_0 is the incident x-ray intensity\n",
    "mu is the linear absorbtion coefficient\n",
    "t is the thickness (distace) traveled by the x-rays\n",
    "\n",
    "mu is a function of the material being passed through and the x-ray energies\n",
    "mu/rho is the mass obsorbtion coefficent, (linear absorbtion coefficient divided by the density of material being passed through)"
   ]
  },
  {
   "cell_type": "code",
   "execution_count": null,
   "metadata": {},
   "outputs": [],
   "source": [
    "def I(A,M,t):\n",
    "    return A*np.exp(-M*t)"
   ]
  },
  {
   "cell_type": "code",
   "execution_count": null,
   "metadata": {},
   "outputs": [],
   "source": [
    "I(3,6,20)\n",
    "# code check"
   ]
  },
  {
   "cell_type": "raw",
   "metadata": {},
   "source": [
    "Mass absorbtion coefficients from Table 4.2.4.3 of International Tables for Crystallography Volume C: Mathematical, physical and chemical tables Second Edition. \n",
    "Density from Wikipedia https://en.wikipedia.org/wiki/Iron, https://en.wikipedia.org/wiki/Nickel\n",
    "or Concoa https://www.concoa.com/nitrogen_properties.html\n",
    "(mu/rho units of cm^2/g; rho units of g/cm^3):\n",
    "\n",
    "Copper k-alpha source, solid Fe material\n",
    "mu/rho = 302\n",
    "rho = 7.874 \n",
    "\n",
    "Chromium k-alpha source, solid Fe material\n",
    "mu/rho = 113\n",
    "rho = 7.874 \n",
    "\n",
    "Molybdenum k-alpha source, solid Fe material\n",
    "mu/rho = 37.6\n",
    "rho = 7.874 \n",
    "\n",
    "Copper k-alpha source, solid Ni material\n",
    "mu/rho = 48.8\n",
    "rho = 8.908\n",
    "\n",
    "Copper k-alpha source, solid N material\n",
    "mu/rho = 7.44\n",
    "rho = 0.0012506"
   ]
  },
  {
   "cell_type": "code",
   "execution_count": null,
   "metadata": {},
   "outputs": [],
   "source": [
    "import numpy as np\n",
    "import matplotlib.pyplot as plt\n",
    "# For these materials and x-ray sources; determine the thickness where I/I_0 = 0.5 and 0.9"
   ]
  },
  {
   "cell_type": "code",
   "execution_count": null,
   "metadata": {},
   "outputs": [],
   "source": [
    "mu = np.array([2377.948,889.762,296.0624,434.7104,0.0093045])\n",
    "print(mu)\n",
    "# mu = rho*(mu/rho) in order as given above."
   ]
  },
  {
   "cell_type": "code",
   "execution_count": null,
   "metadata": {},
   "outputs": [],
   "source": [
    "thick1 = (np.log(0.5)/-mu)*10000 # put into um's\n",
    "thick2 = (np.log(0.9)/-mu)*10000\n",
    "print(thick1,thick2)\n",
    "# prints the thicknesses for each source, material, and fractonal intensity in microns."
   ]
  },
  {
   "cell_type": "markdown",
   "metadata": {},
   "source": [
    "# Probability based model"
   ]
  },
  {
   "cell_type": "raw",
   "metadata": {},
   "source": [
    "Another way to look at the I/I_0 values as a function of thickness is a probability diagram.  At each thickness "
   ]
  },
  {
   "cell_type": "code",
   "execution_count": null,
   "metadata": {},
   "outputs": [],
   "source": [
    "# Plot I/I_0 as a function of thickness for each of the materials and x-ray sources"
   ]
  },
  {
   "cell_type": "code",
   "execution_count": null,
   "metadata": {},
   "outputs": [],
   "source": [
    "t = np.linspace(0,0.006,5000) # 5000 linearly spaced numbers from 0-0.01(cm)\n",
    "y1 = np.exp(-2377.948*t) # for a Copper K-alpha source in Fe material\n",
    "y2 = np.exp(-889.762*t) # for a Chromium K-alpha source in Fe material\n",
    "y3 = np.exp(-296.0624*t) # for a Molybdenum K-alpha source in Fe material\n",
    "\n",
    "plt.plot(t, y1, label='Copper')\n",
    "plt.plot(t, y2, label='Chromium')\n",
    "plt.plot(t, y3, label='Molybdenum')\n",
    "plt.axhline(y=0.5, color='r', linestyle='-', label= 'Half Intensity') # Shows depth of half intensity\n",
    "\n",
    "plt.xlabel('Thickness (cm)')\n",
    "plt.ylabel('Fraction of Original Intensity')\n",
    "plt.title('Interaction Depth of Different K-Alpha X-Ray Sources in Fe')\n",
    "plt.legend()\n",
    "plt.show()\n",
    "\n",
    "# shows the plot"
   ]
  },
  {
   "cell_type": "code",
   "execution_count": null,
   "metadata": {},
   "outputs": [],
   "source": [
    "t = np.linspace(0,0.012,5000) # 5000 linearly spaced numbers from 0-0.01(cm)\n",
    "y = np.exp(-434.7104*t) # Copper k-alpha source, solid Ni material\n",
    "\n",
    "plt.plot(t, y)\n",
    "plt.axhline(y=0.5, color='r', linestyle='-') # Shows depth of half intensity\n",
    "\n",
    "plt.xlabel('Thickness (cm)')\n",
    "plt.ylabel('Fraction of Original Intensity')\n",
    "plt.title('Interaction Depth of Copper K-Alpha X-Ray Source in Ni')\n",
    "plt.show()\n",
    "\n",
    "# shows the plot"
   ]
  },
  {
   "cell_type": "code",
   "execution_count": null,
   "metadata": {},
   "outputs": [],
   "source": [
    "t = np.linspace(0,600,5000) # 5000 linearly spaced numbers from 0-0.01(cm)\n",
    "y = np.exp(-0.0093045*t) # Copper k-alpha source, gaseous N material\n",
    "\n",
    "plt.plot(t, y)\n",
    "plt.axhline(y=0.5, color='r', linestyle='-') # Shows depth of half intensity\n",
    "\n",
    "plt.xlabel('Thickness (cm)')\n",
    "plt.ylabel('Fraction of Original Intensity')\n",
    "plt.title('Interaction Depth of Copper K-Alpha X-Ray Source in N')\n",
    "\n",
    "plt.show()\n",
    "\n",
    "# shows the plot"
   ]
  },
  {
   "cell_type": "markdown",
   "metadata": {},
   "source": [
    "# Path to enter and exit at a given angle theta"
   ]
  },
  {
   "cell_type": "raw",
   "metadata": {},
   "source": [
    "When performing a diffraciton experiment, the path the x-rays is usually not perpendicular to the surface, but inclined at an angle \"theta\". (perpendicular to the surface would be theta=90 degrees)  The amount of material that the x-ray beam passes through is also a function of depth into the surface (\"z\").  \n"
   ]
  },
  {
   "cell_type": "code",
   "execution_count": null,
   "metadata": {},
   "outputs": [],
   "source": [
    "def Zdep(theta, t):\n",
    "    return np.sin(theta)*t"
   ]
  },
  {
   "cell_type": "raw",
   "metadata": {},
   "source": [
    "I/I_0(z) = exp(-mu*Zdep)"
   ]
  },
  {
   "cell_type": "code",
   "execution_count": null,
   "metadata": {},
   "outputs": [],
   "source": [
    "np.pi/2"
   ]
  },
  {
   "cell_type": "code",
   "execution_count": null,
   "metadata": {},
   "outputs": [],
   "source": [
    "# Either:\n",
    "# Develop and plot an analytical expression for I/I_0 as a function of depth z   \n",
    "# OR\n",
    "# For a series of points along z (~20) plot I/I_0"
   ]
  },
  {
   "cell_type": "code",
   "execution_count": null,
   "metadata": {},
   "outputs": [],
   "source": [
    "theta = np.linspace(0,1.571,5000) # 5000 linearly spaced numbers from 0-(pi/2) radians\n",
    "\n",
    "z1 = ((np.sin(theta)*np.log(0.25))/(-2377.948))*10000 # The z-depth for all theta values from 0-(pi/2) radians at a fractional intensity of 0.25\n",
    "z2 = ((np.sin(theta)*np.log(0.50))/(-2377.948))*10000 # The z-depth for all theta values from 0-(pi/2) radians at a fractional intensity of 0.50\n",
    "z3 = ((np.sin(theta)*np.log(0.10))/(-2377.948))*10000 # The z-depth for all theta values from 0-(pi/2) radians at a fractional intensity of 0.10\n",
    "\n",
    "plt.plot(theta, z3, label='90% Absorption')\n",
    "plt.plot(theta, z1, label='75% Absorption')\n",
    "plt.plot(theta, z2, label='50% Absorption')\n",
    "\n",
    "plt.legend()\n",
    "\n",
    "plt.xlabel('Theta (radians)')\n",
    "plt.ylabel('Z-depth in Fe (microns)')\n",
    "plt.title('Z-depth vs Theta for fractional intensities with a copper k-alpha source')\n",
    "\n",
    "plt.show()"
   ]
  },
  {
   "cell_type": "code",
   "execution_count": null,
   "metadata": {},
   "outputs": [],
   "source": [
    "theta = np.linspace(0,1.571,5000) # 5000 linearly spaced numbers from 0-(pi/2) radians\n",
    "z1 = ((np.sin(theta)*np.log(0.25))/(-889.762))*10000 # The z-depth for all theta values from 0-(pi/2) radians at a fractional intensity of 0.25\n",
    "z2 = ((np.sin(theta)*np.log(0.50))/(-889.762))*10000 # The z-depth for all theta values from 0-(pi/2) radians at a fractional intensity of 0.50\n",
    "z3 = ((np.sin(theta)*np.log(0.10))/(-889.762))*10000 # The z-depth for all theta values from 0-(pi/2) radians at a fractional intensity of 0.10\n",
    "\n",
    "plt.plot(theta, z3, label='90% Absorption')\n",
    "plt.plot(theta, z1, label='75% Absorption')\n",
    "plt.plot(theta, z2, label='50% Absorption')\n",
    "\n",
    "plt.legend()\n",
    "\n",
    "plt.xlabel('Theta (radians)')\n",
    "plt.ylabel('Z-depth in Fe (microns)')\n",
    "plt.title('Z-depth vs Theta for fractional intensities with a chromium k-alpha source')\n",
    "\n",
    "plt.show()"
   ]
  },
  {
   "cell_type": "code",
   "execution_count": null,
   "metadata": {},
   "outputs": [],
   "source": [
    "theta = np.linspace(0,1.571,5000) # 5000 linearly spaced numbers from 0-(pi/2) radians\n",
    "z1 = ((np.sin(theta)*np.log(0.25))/(-296.0624))*10000 # The z-depth for all theta values from 0-(pi/2) radians at a fractional intensity of 0.25\n",
    "z2 = ((np.sin(theta)*np.log(0.50))/(-296.0624))*10000 # The z-depth for all theta values from 0-(pi/2) radians at a fractional intensity of 0.50\n",
    "z3 = ((np.sin(theta)*np.log(0.10))/(-296.0624))*10000 # The z-depth for all theta values from 0-(pi/2) radians at a fractional intensity of 0.10\n",
    "\n",
    "plt.plot(theta, z3, label='90% Absorption')\n",
    "plt.plot(theta, z1, label='75% Absorption')\n",
    "plt.plot(theta, z2, label='50% Absorption')\n",
    "\n",
    "plt.legend()\n",
    "\n",
    "plt.xlabel('Theta (radians)')\n",
    "plt.ylabel('Z-depth in Fe (microns)')\n",
    "plt.title('Z-depth vs Theta for fractional intensities with a molybdenum k-alpha source')\n",
    "\n",
    "plt.show()"
   ]
  },
  {
   "cell_type": "markdown",
   "metadata": {},
   "source": [
    "## To add later to the model\n",
    "- multi-element absorbtion (weighted summation, see Kocks 131)\n"
   ]
  },
  {
   "cell_type": "code",
   "execution_count": null,
   "metadata": {},
   "outputs": [],
   "source": []
  },
  {
   "cell_type": "raw",
   "metadata": {},
   "source": []
  },
  {
   "cell_type": "code",
   "execution_count": null,
   "metadata": {},
   "outputs": [],
   "source": []
  }
 ],
 "metadata": {
  "kernelspec": {
   "display_name": "Python 3",
   "language": "python",
   "name": "python3"
  },
  "language_info": {
   "codemirror_mode": {
    "name": "ipython",
    "version": 3
   },
   "file_extension": ".py",
   "mimetype": "text/x-python",
   "name": "python",
   "nbconvert_exporter": "python",
   "pygments_lexer": "ipython3",
   "version": "3.8.8"
  }
 },
 "nbformat": 4,
 "nbformat_minor": 4
}
