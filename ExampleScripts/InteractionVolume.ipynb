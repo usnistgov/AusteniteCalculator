{
 "cells": [
  {
   "cell_type": "code",
   "execution_count": null,
   "metadata": {},
   "outputs": [],
   "source": []
  },
  {
   "cell_type": "raw",
   "metadata": {},
   "source": [
    "As an x-ray passes through matter, there are several things that can happen:\n",
    "1) Nothing (continues along it's way)\n",
    "2) Scattered (diffraction, \"f_0\" in scattering factor calculations)\n",
    "3) 'Anomolously' scattered (flourescence and similar, \"f' \" in scattering factor calculations)\n",
    "4) Absorbed (\"f'' \" in scattering factor calculations)\n",
    "\n",
    "From Section 4.2.6.1.2 of International Tables for Crystallography Volume C: Mathematical, physical and chemical tables Second Edition.\n",
    "\n",
    "Absorbtion tends to be a fairly intuitive phenomena, so we'll start modeling there."
   ]
  },
  {
   "cell_type": "markdown",
   "metadata": {},
   "source": [
    "# Linear Model of Absorbption"
   ]
  },
  {
   "cell_type": "raw",
   "metadata": {},
   "source": [
    "Taken from p131 of \"Texture and Anisotropy\" by Kocks et al.  \n",
    "\n",
    "I = I_0 *  exp(-mu * t)\n",
    "Where:\n",
    "I_0 is the incident x-ray intensity\n",
    "mu is the linear absorbtion coefficient\n",
    "t is the thickness (distace) traveled by the x-rays\n",
    "\n",
    "mu is a function of the material being passed through and the x-ray energies\n",
    "mu/rho is the mass obsorbtion coefficent, (linear absorbtion coefficient divided by the density of material being passed through)"
   ]
  },
  {
   "cell_type": "code",
   "execution_count": null,
   "metadata": {},
   "outputs": [],
   "source": []
  },
  {
   "cell_type": "raw",
   "metadata": {},
   "source": [
    "Mass absorbtion coefficients from Table 4.2.4.3 of International Tables for Crystallography Volume C: Mathematical, physical and chemical tables Second Edition. \n",
    "Density from Wikipedia https://en.wikipedia.org/wiki/Iron, https://en.wikipedia.org/wiki/Nickel\n",
    "or Concoa https://www.concoa.com/nitrogen_properties.html\n",
    "(mu/rho units of cm^2/g; rho units of g/cm^3):\n",
    "\n",
    "Copper k-alpha source, solid Fe material\n",
    "mu/rho = 302\n",
    "rho = 7.874 \n",
    "\n",
    "Chromium k-alpha source, solid Fe material\n",
    "mu/rho = 113\n",
    "rho = 7.874 \n",
    "\n",
    "Molybdenum k-alpha source, solid Fe material\n",
    "mu/rho = 37.6\n",
    "rho = 7.874 \n",
    "\n",
    "Copper k-alpha source, solid Ni material\n",
    "mu/rho = 48.8\n",
    "rho = 8.908\n",
    "\n",
    "Copper k-alpha source, solid N material\n",
    "mu/rho = 7.44\n",
    "rho = 1.1606"
   ]
  },
  {
   "cell_type": "code",
   "execution_count": null,
   "metadata": {},
   "outputs": [],
   "source": [
    "# For these materials and x-ray sources; determine the thickness where I/I_0 = 0.5 and 0.9"
   ]
  },
  {
   "cell_type": "code",
   "execution_count": null,
   "metadata": {},
   "outputs": [],
   "source": []
  },
  {
   "cell_type": "markdown",
   "metadata": {},
   "source": [
    "# Probability based model"
   ]
  },
  {
   "cell_type": "raw",
   "metadata": {},
   "source": [
    "Another way to look at the I/I_0 values as a function of thickness is a probability diagram.  At each thickness "
   ]
  },
  {
   "cell_type": "code",
   "execution_count": null,
   "metadata": {},
   "outputs": [],
   "source": [
    "# Plot I/I_0 as a function of thickness for each of the materials and x-ray sources"
   ]
  },
  {
   "cell_type": "raw",
   "metadata": {},
   "source": [
    "\n"
   ]
  },
  {
   "cell_type": "markdown",
   "metadata": {},
   "source": [
    "# Path to enter and exit at a given angle theta"
   ]
  },
  {
   "cell_type": "raw",
   "metadata": {},
   "source": [
    "When performing a diffraciton experiment, the path the x-rays is usually not perpendicular to the surface, but inclined at an angle \"theta\". (perpendicular to the surface would be theta=90 degrees)  The amount of material that the x-ray beam passes through is also a function of depth into the surface (\"z\").  \n"
   ]
  },
  {
   "cell_type": "code",
   "execution_count": null,
   "metadata": {},
   "outputs": [],
   "source": []
  },
  {
   "cell_type": "code",
   "execution_count": null,
   "metadata": {},
   "outputs": [],
   "source": [
    "# Either:\n",
    "# Develop and plot an analytical expression for I/I_0 as a function of depth z   \n",
    "# OR\n",
    "# For a series of points along z (~20) plot I/I_0"
   ]
  },
  {
   "cell_type": "code",
   "execution_count": null,
   "metadata": {},
   "outputs": [],
   "source": []
  },
  {
   "cell_type": "markdown",
   "metadata": {},
   "source": [
    "## To add later to the model\n",
    "- multi-element absorbtion (weighted summation, see Kocks 131)\n"
   ]
  },
  {
   "cell_type": "code",
   "execution_count": null,
   "metadata": {},
   "outputs": [],
   "source": []
  },
  {
   "cell_type": "raw",
   "metadata": {},
   "source": []
  },
  {
   "cell_type": "code",
   "execution_count": null,
   "metadata": {},
   "outputs": [],
   "source": []
  }
 ],
 "metadata": {
  "kernelspec": {
   "display_name": "Python 3.6 (SNS)",
   "language": "python",
   "name": "sns-py36"
  },
  "language_info": {
   "codemirror_mode": {
    "name": "ipython",
    "version": 3
   },
   "file_extension": ".py",
   "mimetype": "text/x-python",
   "name": "python",
   "nbconvert_exporter": "python",
   "pygments_lexer": "ipython3",
   "version": "3.6.8"
  }
 },
 "nbformat": 4,
 "nbformat_minor": 4
}
