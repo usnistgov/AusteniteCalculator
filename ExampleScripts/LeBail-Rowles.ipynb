{
 "cells": [
  {
   "cell_type": "code",
   "execution_count": 1,
   "metadata": {},
   "outputs": [],
   "source": [
    "#pip install PySPG"
   ]
  },
  {
   "cell_type": "code",
   "execution_count": 2,
   "metadata": {},
   "outputs": [],
   "source": [
    "# following tutorial at\n",
    "# https://gsas-ii.readthedocs.io/en/latest/GSASIIscriptable.html#peak-fitting"
   ]
  },
  {
   "cell_type": "code",
   "execution_count": 3,
   "metadata": {},
   "outputs": [],
   "source": [
    "import os,sys\n",
    "import matplotlib.pyplot as plt\n",
    "#import pandas as pd  # AC got a 'no module named pandas' error.  Do we need it?\n",
    "import numpy as np\n",
    "import math\n",
    "import csv\n",
    "import re\n",
    "import json\n",
    "from importlib import reload"
   ]
  },
  {
   "cell_type": "code",
   "execution_count": 4,
   "metadata": {},
   "outputs": [
    {
     "name": "stdout",
     "output_type": "stream",
     "text": [
      "Adam's computer\n",
      "GSAS-II binary directory: /Users/creuzige/gsas2full/envs/gsas-AustCalc/GSASII/bindist\n",
      "6 values read from config file /Users/creuzige/gsas2full/envs/gsas-AustCalc/GSASII/config.py\n",
      "Drat, patching for Big Sur\n"
     ]
    }
   ],
   "source": [
    "\n",
    "# Eventually we'll have to find a common pathway, for now just change if this is commented out.\n",
    "\n",
    "if re.search('dtn1',os.getcwd()) is not None:\n",
    "    print(\"David's computer\")\n",
    "    sys.path.insert(0,'/Users/dtn1/gsas2full/GSASII/') # needed to \"find\" GSAS-II modules\n",
    "\n",
    "elif re.search('creuzige',os.getcwd()) is not None:\n",
    "    print(\"Adam's computer\")\n",
    "    sys.path.insert(0,'/Users/creuzige/gsas2full/envs/gsas-AustCalc/GSASII/') # needed to \"find\" GSAS-II modules\n",
    "# Note difference between paths\n",
    "#    sys.path.insert(0,'/Users/creuzige/gsas2full/envs/gsas2pkg/GSASII/') # needed to \"find\" GSAS-II modules\n",
    "    \n",
    "    \n",
    "elif re.search('maxgarman', os.getcwd()) is not None:\n",
    "    print(\"Max's Computer\")\n",
    "    sys.path.insert(0, '../opt/anaconda3/GSASII')\n",
    "\n",
    "import GSASIIscriptable as G2sc"
   ]
  },
  {
   "cell_type": "markdown",
   "metadata": {},
   "source": [
    "### Import Austenite Calculator Modules"
   ]
  },
  {
   "cell_type": "code",
   "execution_count": 5,
   "metadata": {},
   "outputs": [
    {
     "name": "stderr",
     "output_type": "stream",
     "text": [
      "/Users/creuzige/gsas2full/envs/gsas-AustCalc/lib/python3.7/site-packages/tqdm/auto.py:22: TqdmWarning:\n",
      "\n",
      "IProgress not found. Please update jupyter and ipywidgets. See https://ipywidgets.readthedocs.io/en/stable/user_install.html\n",
      "\n"
     ]
    }
   ],
   "source": [
    "sys.path.insert(0, '../app')\n",
    "\n",
    "import compute_results\n",
    "import compute_uncertainties\n",
    "import fit"
   ]
  },
  {
   "cell_type": "code",
   "execution_count": 6,
   "metadata": {},
   "outputs": [],
   "source": [
    "datadir, cif_fnames, workdir, xrdml_fnames, instprm_fname, json_fname = compute_results.gather_example(\"Example05\")"
   ]
  },
  {
   "cell_type": "code",
   "execution_count": 7,
   "metadata": {},
   "outputs": [],
   "source": [
    "with open(os.path.join(datadir, json_fname), 'r') as f:\n",
    "    xtal_data = json.loads(f.read())"
   ]
  },
  {
   "cell_type": "code",
   "execution_count": null,
   "metadata": {},
   "outputs": [],
   "source": []
  },
  {
   "cell_type": "code",
   "execution_count": 8,
   "metadata": {},
   "outputs": [
    {
     "data": {
      "text/plain": [
       "'E211110-AAC-001_019-000_exported.csv'"
      ]
     },
     "execution_count": 8,
     "metadata": {},
     "output_type": "execute_result"
    }
   ],
   "source": [
    "xrdml_fnames[0]"
   ]
  },
  {
   "cell_type": "code",
   "execution_count": 9,
   "metadata": {},
   "outputs": [],
   "source": [
    "xrdml_fname=xrdml_fnames[0]"
   ]
  },
  {
   "cell_type": "code",
   "execution_count": 10,
   "metadata": {},
   "outputs": [
    {
     "data": {
      "text/plain": [
       "'Example05.json'"
      ]
     },
     "execution_count": 10,
     "metadata": {},
     "output_type": "execute_result"
    }
   ],
   "source": [
    "json_fname"
   ]
  },
  {
   "cell_type": "code",
   "execution_count": 71,
   "metadata": {},
   "outputs": [
    {
     "data": {
      "text/plain": [
       "<module 'fit' from '../app/fit.py'>"
      ]
     },
     "execution_count": 71,
     "metadata": {},
     "output_type": "execute_result"
    }
   ],
   "source": [
    "reload(compute_results)\n",
    "reload(fit)"
   ]
  },
  {
   "cell_type": "code",
   "execution_count": 72,
   "metadata": {
    "scrolled": true
   },
   "outputs": [
    {
     "name": "stdout",
     "output_type": "stream",
     "text": [
      "Issue Flagged\n",
      "\n",
      "\n",
      " Read in diffraction data\n",
      "\n",
      "/Users/creuzige/Documents/NIST_Research/GitHub/AusteniteCalculator/ExampleData/Example05/E211110-AAC-001_019-000_exported.csv block # 1 read by Reader comma/tab/semicolon separated\n",
      "Instrument parameters read: /Users/creuzige/Documents/NIST_Research/GitHub/AusteniteCalculator/ExampleData/Example05/BrukerD8_E211110.instprm (G2 fmt) bank 1\n",
      "\n",
      "\n",
      " Calculate Theoretical Intensities\n",
      "\n",
      "/Users/creuzige/Documents/NIST_Research/GitHub/AusteniteCalculator/ExampleData/Example05/austenite-SRM487.cif read by Reader CIF\n",
      "gpx file saved as /Users/creuzige/Documents/NIST_Research/GitHub/AusteniteCalculator/server_workdir/austenite-SRM487.cif.gpx\n",
      "Simulating 5000 points from 36.11004 to 119.11664 degrees 2theta\n",
      "Instrument parameters read: /Users/creuzige/Documents/NIST_Research/GitHub/AusteniteCalculator/ExampleData/Example05/BrukerD8_E211110.instprm (G2 fmt) bank 1\n",
      "gpx file saved as /Users/creuzige/Documents/NIST_Research/GitHub/AusteniteCalculator/server_workdir/austenite-SRM487.cif.gpx\n",
      " Hessian Levenberg-Marquardt SVD refinement on 1 variables:\n",
      "initial chi^2 7756.6 with 5000 obs.\n",
      "Read from file:/Users/creuzige/Documents/NIST_Research/GitHub/AusteniteCalculator/server_workdir/austenite-SRM487.cif.bak0.gpx\n",
      "Save to file  :/Users/creuzige/Documents/NIST_Research/GitHub/AusteniteCalculator/server_workdir/austenite-SRM487.cif.gpx\n",
      "GPX file save successful\n",
      " Refinement results are in file: /Users/creuzige/Documents/NIST_Research/GitHub/AusteniteCalculator/server_workdir/austenite-SRM487.cif.lst\n",
      " ***** Refinement successful *****\n",
      "gpx file saved as /Users/creuzige/Documents/NIST_Research/GitHub/AusteniteCalculator/server_workdir/austenite-SRM487.cif.gpx\n",
      "Issue Flagged\n",
      "/Users/creuzige/Documents/NIST_Research/GitHub/AusteniteCalculator/ExampleData/Example05/ferrite-SRM487.cif read by Reader CIF\n",
      "gpx file saved as /Users/creuzige/Documents/NIST_Research/GitHub/AusteniteCalculator/server_workdir/ferrite-SRM487.cif.gpx\n",
      "Simulating 5000 points from 36.11004 to 119.11664 degrees 2theta\n",
      "Instrument parameters read: /Users/creuzige/Documents/NIST_Research/GitHub/AusteniteCalculator/ExampleData/Example05/BrukerD8_E211110.instprm (G2 fmt) bank 1\n",
      "gpx file saved as /Users/creuzige/Documents/NIST_Research/GitHub/AusteniteCalculator/server_workdir/ferrite-SRM487.cif.gpx\n",
      " Hessian Levenberg-Marquardt SVD refinement on 1 variables:\n",
      "initial chi^2 9994.6 with 5000 obs.\n",
      "Read from file:/Users/creuzige/Documents/NIST_Research/GitHub/AusteniteCalculator/server_workdir/ferrite-SRM487.cif.bak0.gpx\n",
      "Save to file  :/Users/creuzige/Documents/NIST_Research/GitHub/AusteniteCalculator/server_workdir/ferrite-SRM487.cif.gpx\n",
      "GPX file save successful\n",
      " Refinement results are in file: /Users/creuzige/Documents/NIST_Research/GitHub/AusteniteCalculator/server_workdir/ferrite-SRM487.cif.lst\n",
      " ***** Refinement successful *****\n",
      "gpx file saved as /Users/creuzige/Documents/NIST_Research/GitHub/AusteniteCalculator/server_workdir/ferrite-SRM487.cif.gpx\n",
      "Issue Flagged\n",
      "\n",
      "\n",
      " Theoretical Intensity Dataframe\n",
      "      h    k    l   mul   two_theta    F_calc_sq      I_corr         R_calc  \\\n",
      "0   1.0  1.0  1.0   8.0   43.592701  4521.730212   57.756097  261157.488495   \n",
      "1   1.0  1.0  0.0  12.0   44.575327  1162.762396  162.151009  188543.095996   \n",
      "2   2.0  0.0  0.0   6.0   50.776560  3832.365714   31.933122  122379.401644   \n",
      "3   2.0  0.0  0.0   6.0   64.871065   754.402497   39.325432   29667.204383   \n",
      "4   2.0  2.0  0.0  12.0   74.651315  2211.652779   31.901393   70554.803969   \n",
      "5   2.0  1.0  1.0  24.0   82.126580   535.482238  109.841828   58818.347681   \n",
      "6   3.0  1.0  1.0  24.0   90.633001  1585.249209   50.946695   80763.208598   \n",
      "7   2.0  2.0  2.0   8.0   95.909713  1434.681511   16.418527   23555.356762   \n",
      "8   2.0  2.0  0.0  12.0   98.666720   404.025419   47.738589   19287.603286   \n",
      "9   3.0  1.0  0.0  24.0  115.999180   319.065305  100.683225   32124.523895   \n",
      "10  4.0  0.0  0.0   6.0  118.074218  1006.366091   13.103579   13186.997490   \n",
      "\n",
      "                   Phase  Texture Correction  \n",
      "0   austenite-SRM487.cif                   1  \n",
      "1     ferrite-SRM487.cif                   1  \n",
      "2   austenite-SRM487.cif                   1  \n",
      "3     ferrite-SRM487.cif                   1  \n",
      "4   austenite-SRM487.cif                   1  \n",
      "5     ferrite-SRM487.cif                   1  \n",
      "6   austenite-SRM487.cif                   1  \n",
      "7   austenite-SRM487.cif                   1  \n",
      "8     ferrite-SRM487.cif                   1  \n",
      "9     ferrite-SRM487.cif                   1  \n",
      "10  austenite-SRM487.cif                   1  \n",
      "\n",
      "\n",
      " Read in Phase Data\n",
      "\n",
      "/Users/creuzige/Documents/NIST_Research/GitHub/AusteniteCalculator/ExampleData/Example05/austenite-SRM487.cif read by Reader CIF\n",
      "gpx file saved as /Users/creuzige/Documents/NIST_Research/GitHub/AusteniteCalculator/server_workdir/pkfit.gpx\n",
      "/Users/creuzige/Documents/NIST_Research/GitHub/AusteniteCalculator/ExampleData/Example05/ferrite-SRM487.cif read by Reader CIF\n",
      "gpx file saved as /Users/creuzige/Documents/NIST_Research/GitHub/AusteniteCalculator/server_workdir/pkfit.gpx\n",
      "using the Lam1 value, multiple wavelengths\n",
      "\n",
      "\n",
      " Series of Individual Peak Fits of Experimental Data \n",
      "\n",
      "\n",
      "\n",
      " Fit attempt number  0  \n",
      "\n",
      "Fitting entire pattern\n",
      "\n",
      "Histograms List: \n",
      "Histogram Name:  PWDR E211110-AAC-001_019-000_exported.csv\n",
      "Print phases\n",
      "Phase Name:  austenite-SRM487.cif\n",
      "Phase Name:  ferrite-SRM487.cif\n",
      "Link phases\n",
      "gpx file saved as /Users/creuzige/Documents/NIST_Research/GitHub/AusteniteCalculator/server_workdir/pkfit.gpx\n",
      " Hessian Levenberg-Marquardt SVD refinement on 6 variables:\n",
      "initial chi^2 5.5654e+05 with 4145 obs.\n",
      "Cycle 0: 0.05s, Chi**2: 37554 for 4145 obs., Lambda: 0,  Delta: 0.933, SVD=0\n",
      "Cycle 1: 0.05s, Chi**2: 37554 for 4145 obs., Lambda: 0,  Delta: 1.51e-08, SVD=0\n",
      "converged\n",
      "Maximum shift/esd = 180.894 for all cycles\n",
      "Read from file:/Users/creuzige/Documents/NIST_Research/GitHub/AusteniteCalculator/server_workdir/pkfit.bak0.gpx\n",
      "Save to file  :/Users/creuzige/Documents/NIST_Research/GitHub/AusteniteCalculator/server_workdir/pkfit.gpx\n",
      "GPX file save successful\n",
      " Refinement results are in file: /Users/creuzige/Documents/NIST_Research/GitHub/AusteniteCalculator/server_workdir/pkfit.lst\n",
      " ***** Refinement successful *****\n",
      "gpx file saved as /Users/creuzige/Documents/NIST_Research/GitHub/AusteniteCalculator/server_workdir/pkfit.gpx\n",
      " Hessian Levenberg-Marquardt SVD refinement on 9 variables:\n",
      "initial chi^2 37554 with 4145 obs.\n",
      "Cycle 0: 0.06s, Chi**2: 7030.9 for 4145 obs., Lambda: 0,  Delta: 0.813, SVD=0\n",
      "Cycle 1: 0.04s, Chi**2: 5562.4 for 4145 obs., Lambda: 0,  Delta: 0.209, SVD=0\n",
      "divergence: chi^2 6717 on 4145 obs. (0 SVD zeros)\n",
      "\tincreasing Marquardt lambda to 1.0e-03\n",
      "divergence: chi^2 6717.5 on 4145 obs. (0 SVD zeros)\n",
      "\tincreasing Marquardt lambda to 1.0e-02\n",
      "divergence: chi^2 6721 on 4145 obs. (0 SVD zeros)\n",
      "\tincreasing Marquardt lambda to 1.0e-01\n",
      "divergence: chi^2 6747.5 on 4145 obs. (0 SVD zeros)\n",
      "\tincreasing Marquardt lambda to 1.0e+00\n",
      "divergence: chi^2 6808.6 on 4145 obs. (0 SVD zeros)\n",
      "\tincreasing Marquardt lambda to 1.0e+01\n",
      "divergence: chi^2 6841.9 on 4145 obs. (0 SVD zeros)\n",
      "\tincreasing Marquardt lambda to 1.0e+02\n",
      "ouch #4 stuck: chisq-new 6842 > chisq0 5562 with lambda 1e+02\n",
      "Maximum shift/esd = 5.399 for all cycles\n",
      "Note highly correlated parameters:\n",
      "     1::A0 and :0:Zero (@75.77%)\n",
      "Read from file:/Users/creuzige/Documents/NIST_Research/GitHub/AusteniteCalculator/server_workdir/pkfit.bak0.gpx\n",
      "Save to file  :/Users/creuzige/Documents/NIST_Research/GitHub/AusteniteCalculator/server_workdir/pkfit.gpx\n",
      "GPX file save successful\n",
      " Refinement results are in file: /Users/creuzige/Documents/NIST_Research/GitHub/AusteniteCalculator/server_workdir/pkfit.lst\n",
      " ***** Refinement successful *****\n",
      "Reported from refinement:\n",
      "Note highly correlated parameters:\n",
      "     1::A0 and :0:Zero (@75.77%)\n",
      "gpx file saved as /Users/creuzige/Documents/NIST_Research/GitHub/AusteniteCalculator/server_workdir/pkfit.gpx\n",
      " Hessian Levenberg-Marquardt SVD refinement on 11 variables:\n",
      "initial chi^2 6850.8 with 4145 obs.\n",
      "Cycle 0: 0.06s, Chi**2: 2038.7 for 4145 obs., Lambda: 0,  Delta: 0.702, SVD=0\n",
      "Cycle 1: 0.06s, Chi**2: 1813.8 for 4145 obs., Lambda: 0,  Delta: 0.11, SVD=0\n",
      "Cycle 2: 0.06s, Chi**2: 1701.9 for 4145 obs., Lambda: 0,  Delta: 0.0617, SVD=0\n",
      "divergence: chi^2 1894.8 on 4145 obs. (0 SVD zeros)\n",
      "\tincreasing Marquardt lambda to 1.0e-03\n",
      "divergence: chi^2 1894.5 on 4145 obs. (0 SVD zeros)\n",
      "\tincreasing Marquardt lambda to 1.0e-02\n",
      "divergence: chi^2 1892.5 on 4145 obs. (0 SVD zeros)\n",
      "\tincreasing Marquardt lambda to 1.0e-01\n",
      "divergence: chi^2 1878.1 on 4145 obs. (0 SVD zeros)\n",
      "\tincreasing Marquardt lambda to 1.0e+00\n"
     ]
    },
    {
     "name": "stdout",
     "output_type": "stream",
     "text": [
      "divergence: chi^2 1843.1 on 4145 obs. (0 SVD zeros)\n",
      "\tincreasing Marquardt lambda to 1.0e+01\n",
      "divergence: chi^2 1824.9 on 4145 obs. (0 SVD zeros)\n",
      "\tincreasing Marquardt lambda to 1.0e+02\n",
      "ouch #4 stuck: chisq-new 1825 > chisq0 1702 with lambda 1e+02\n",
      "Maximum shift/esd = 68.442 for all cycles\n",
      "Note highly correlated parameters:\n",
      "     1::A0 and :0:Zero (@79.43%)\n",
      "Read from file:/Users/creuzige/Documents/NIST_Research/GitHub/AusteniteCalculator/server_workdir/pkfit.bak0.gpx\n",
      "Save to file  :/Users/creuzige/Documents/NIST_Research/GitHub/AusteniteCalculator/server_workdir/pkfit.gpx\n",
      "GPX file save successful\n",
      " Refinement results are in file: /Users/creuzige/Documents/NIST_Research/GitHub/AusteniteCalculator/server_workdir/pkfit.lst\n",
      " ***** Refinement successful *****\n",
      "Reported from refinement:\n",
      "Note highly correlated parameters:\n",
      "     1::A0 and :0:Zero (@79.43%)\n",
      "gpx file saved as /Users/creuzige/Documents/NIST_Research/GitHub/AusteniteCalculator/server_workdir/pkfit.gpx\n",
      " Hessian Levenberg-Marquardt SVD refinement on 13 variables:\n",
      "initial chi^2 1821.4 with 4145 obs.\n",
      "divergence: chi^2 1944.9 on 4145 obs. (0 SVD zeros)\n",
      "\tincreasing Marquardt lambda to 1.0e-03\n",
      "divergence: chi^2 1924.9 on 4145 obs. (0 SVD zeros)\n",
      "\tincreasing Marquardt lambda to 1.0e-02\n",
      "Cycle 0: 0.10s, Chi**2: 1816.2 for 4145 obs., Lambda: 0.01,  Delta: 0.00284, SVD=0\n",
      "divergence: chi^2 2056.7 on 4145 obs. (0 SVD zeros)\n",
      "\tincreasing Marquardt lambda to 1.0e-02\n",
      "divergence: chi^2 1959.5 on 4145 obs. (0 SVD zeros)\n",
      "\tincreasing Marquardt lambda to 1.0e-01\n",
      "divergence: chi^2 1850.8 on 4145 obs. (0 SVD zeros)\n",
      "\tincreasing Marquardt lambda to 1.0e+00\n",
      "divergence: chi^2 1844.5 on 4145 obs. (0 SVD zeros)\n",
      "\tincreasing Marquardt lambda to 1.0e+01\n",
      "divergence: chi^2 1862.9 on 4145 obs. (0 SVD zeros)\n",
      "\tincreasing Marquardt lambda to 1.0e+02\n",
      "ouch #4 stuck: chisq-new 1863 > chisq0 1816 with lambda 1e+02\n",
      "Maximum shift/esd = 4.124 for all cycles\n",
      "Note highly correlated parameters:\n",
      " ** 0:0:Mustrain;i and 0:0:Size;i (@97.71%)\n",
      "Read from file:/Users/creuzige/Documents/NIST_Research/GitHub/AusteniteCalculator/server_workdir/pkfit.bak0.gpx\n",
      "Save to file  :/Users/creuzige/Documents/NIST_Research/GitHub/AusteniteCalculator/server_workdir/pkfit.gpx\n",
      "GPX file save successful\n",
      " Refinement results are in file: /Users/creuzige/Documents/NIST_Research/GitHub/AusteniteCalculator/server_workdir/pkfit.lst\n",
      " ***** Refinement successful *****\n",
      "Reported from refinement:\n",
      "Note highly correlated parameters:\n",
      " ** 0:0:Mustrain;i and 0:0:Size;i (@97.71%)\n",
      "Histograms data: \n",
      "Histogram data:  {'Reflection Lists': {'austenite-SRM487.cif': {'Super': False, 'FF': {'El': ['Fe', 'Cr', 'Ni', 'Si', 'C', 'Mn'], 'FF': array([[18.65956625, 16.86425756, 20.70683625,  8.99059692,  3.0474994 ,\n",
      "        17.66055991],\n",
      "       [17.43878426, 15.64125621, 19.43313848,  8.48726699,  2.67379051,\n",
      "        16.47331433],\n",
      "       [14.00756845, 12.38082539, 15.75516748,  7.26360981,  1.9717722 ,\n",
      "        13.18763524],\n",
      "       [12.330635  , 10.89140079, 13.88964832,  6.60763212,  1.766161  ,\n",
      "        11.61177421],\n",
      "       [11.87937418, 10.50262339, 13.37908534,  6.4110954 ,  1.72089205,\n",
      "        11.19148975],\n",
      "       [10.44850316,  9.30758051, 11.73105244,  5.70812506,  1.59432572,\n",
      "         9.87278849]])}, 'Type': 'PXC', 'RefList': array([[1.00000000e+00, 1.00000000e+00, 1.00000000e+00, 8.00000000e+00,\n",
      "        2.07429434e+00, 4.35822548e+01, 1.92355531e+01, 1.39307725e+01,\n",
      "        5.08587916e+03, 5.08587916e+03, 0.00000000e+00, 4.89879489e+00,\n",
      "        1.00000000e+00, 1.00000000e+00, 1.00000000e+00],\n",
      "       [2.00000000e+00, 0.00000000e+00, 0.00000000e+00, 6.00000000e+00,\n",
      "        1.79639159e+00, 5.07666308e+01, 1.89112079e+01, 1.63856363e+01,\n",
      "        3.55171081e+03, 3.55171081e+03, 0.00000000e+00, 2.70826191e+00,\n",
      "        1.00000000e+00, 1.00000000e+00, 1.00000000e+00],\n",
      "       [2.00000000e+00, 2.00000000e+00, 0.00000000e+00, 1.20000000e+01,\n",
      "        1.27024068e+00, 7.46433763e+01, 1.86438631e+01, 2.58796186e+01,\n",
      "        2.28553175e+03, 2.28553175e+03, 0.00000000e+00, 2.70495448e+00,\n",
      "        1.00000000e+00, 1.00000000e+00, 1.00000000e+00],\n",
      "       [3.00000000e+00, 1.00000000e+00, 1.00000000e+00, 2.40000000e+01,\n",
      "        1.08326489e+00, 9.06267823e+01, 1.96689302e+01, 3.41070486e+01,\n",
      "        1.48211093e+03, 1.48211093e+03, 0.00000000e+00, 4.31936516e+00,\n",
      "        1.00000000e+00, 1.00000000e+00, 1.00000000e+00],\n",
      "       [2.00000000e+00, 2.00000000e+00, 2.00000000e+00, 8.00000000e+00,\n",
      "        1.03714717e+00, 9.59041701e+01, 2.03907391e+01, 3.73474133e+01,\n",
      "        1.37007342e+03, 1.37007342e+03, 0.00000000e+00, 1.39195971e+00,\n",
      "        1.00000000e+00, 1.00000000e+00, 1.00000000e+00],\n",
      "       [4.00000000e+00, 0.00000000e+00, 0.00000000e+00, 6.00000000e+00,\n",
      "        8.98195796e-01, 1.18072533e+02, 2.79551366e+01, 5.58815104e+01,\n",
      "        6.57525467e+02, 6.57525467e+02, 0.00000000e+00, 1.11087284e+00,\n",
      "        1.00000000e+00, 1.00000000e+00, 1.00000000e+00]])}, 'ferrite-SRM487.cif': {'Super': False, 'FF': {'El': ['Fe', 'Cr', 'Ni', 'Si', 'C', 'Mn'], 'FF': array([[18.48849173, 16.69160173, 20.52899727,  8.91526956,  2.99065172,\n",
      "        17.49376888],\n",
      "       [15.28174853, 13.55798402, 17.14156325,  7.71445958,  2.18060286,\n",
      "        14.39820806],\n",
      "       [13.1625207 , 11.621693  , 14.82109451,  6.94558713,  1.85982039,\n",
      "        12.39094443],\n",
      "       [11.66205825, 10.31733704, 13.13178005,  6.31261396,  1.70023017,\n",
      "        10.98976048],\n",
      "       [10.5543433 ,  9.39387623, 11.85471224,  5.76499587,  1.60313474,\n",
      "         9.9694752 ]])}, 'Type': 'PXC', 'RefList': array([[1.00000000e+00, 1.00000000e+00, 0.00000000e+00, 1.20000000e+01,\n",
      "        2.03085696e+00, 4.45641524e+01, 1.91861675e+01, 9.56960975e+00,\n",
      "        5.01239278e+03, 5.01239278e+03, 0.00000000e+00, 1.37530246e+01,\n",
      "        1.00000000e+00, 1.00000000e+00, 1.00000000e+00],\n",
      "       [2.00000000e+00, 0.00000000e+00, 0.00000000e+00, 6.00000000e+00,\n",
      "        1.43603273e+00, 6.48610116e+01, 1.85693799e+01, 1.42499652e+01,\n",
      "        2.74030666e+03, 2.74030666e+03, 0.00000000e+00, 3.33466308e+00,\n",
      "        1.00000000e+00, 1.00000000e+00, 1.00000000e+00],\n",
      "       [2.00000000e+00, 1.00000000e+00, 1.00000000e+00, 2.40000000e+01,\n",
      "        1.17251581e+00, 8.21176975e+01, 1.89488583e+01, 1.91794993e+01,\n",
      "        2.32170392e+03, 2.32170392e+03, 0.00000000e+00, 9.31285637e+00,\n",
      "        1.00000000e+00, 1.00000000e+00, 1.00000000e+00],\n",
      "       [2.00000000e+00, 2.00000000e+00, 0.00000000e+00, 1.20000000e+01,\n",
      "        1.01542848e+00, 9.86592923e+01, 2.08767205e+01, 2.53402790e+01,\n",
      "        1.63619899e+03, 1.63619899e+03, 0.00000000e+00, 4.04703996e+00,\n",
      "        1.00000000e+00, 1.00000000e+00, 1.00000000e+00],\n",
      "       [3.00000000e+00, 1.00000000e+00, 0.00000000e+00, 2.40000000e+01,\n",
      "        9.08226843e-01, 1.15993921e+02, 2.67454158e+01, 3.45734274e+01,\n",
      "        1.24108402e+03, 1.24108402e+03, 0.00000000e+00, 8.53487419e+00,\n",
      "        1.00000000e+00, 1.00000000e+00, 1.00000000e+00]])}}, 'Limits': [(36.11004, 119.11664), [36.11004, 119.11664]], 'data': [{'wtFactor': 1.0, 'Dummy': False, 'ranId': 2535706893817433267, 'Offset': [0.0, 0.0], 'delOffset': 78.392334, 'refOffset': -391.96167, 'refDelt': 391.96167, 'Yminmax': [65.56727, 3919.6167], 'hId': 0, 'sumwYo': 577735.46571, 'wRb': 7.887308792465947, '1:0:Rf^2': 0.0, 'Nobs': 4145, 'Durbin-Watson': 0.5309756456123633, 'wRmin': 8.470279731065052, '1:0:Nref': 5, 'Rb': 6.262002826493182, '0:0:Rf': 0.0, '1:0:sumInt': 175514.4918331087, '1::Name': 'ferrite-SRM487.cif', '0::Name': 'austenite-SRM487.cif', '0:0:Rf^2': 0.0, '0:0:sumInt': 74477.9380414248, 'wR': 5.702105108960771, '1:0:Rf': 0.0, 'R': 4.106600009689602, '0:0:Nref': 6}, masked_array(\n",
      "  data=[[36.11004, 36.13006, 36.15008, 36.17009, 36.19011, 36.21013,\n",
      "         36.23015, 36.25016, 36.27018, 36.2902, 36.31022, 36.33024,\n",
      "         36.35025, 36.37027, 36.39029, 36.41031, 36.43032, 36.45034,\n",
      "         36.47036, 36.49038, 36.5104, 36.53041, 36.55043, 36.57045,\n",
      "         36.59047, 36.61049, 36.6305, 36.65052, 36.67054, 36.69056,\n",
      "         36.71058, 36.73059, 36.75061, 36.77063, 36.79065, 36.81067,\n",
      "         36.83068, 36.8507, 36.87072, 36.89074, 36.91075, 36.93077,\n",
      "         36.95079, 36.97081, 36.99083, 37.01084, 37.03086, 37.05088,\n",
      "         37.0709, 37.09092, 118.13362, 118.15368, 118.17374, 118.1938,\n",
      "         118.21386, 118.23392, 118.25398, 118.27404, 118.2941, 118.31417,\n",
      "         118.33423, 118.35429, 118.37435, 118.39441, 118.41447,\n",
      "         118.43453, 118.45459, 118.47465, 118.49472, 118.51478,\n",
      "         118.53484, 118.5549, 118.57496, 118.59502, 118.61509, 118.63515,\n",
      "         118.65521, 118.67527, 118.69533, 118.7154, 118.73546, 118.75552,\n",
      "         118.77558, 118.79564, 118.81571, 118.83577, 118.85583,\n",
      "         118.87589, 118.89595, 118.91601, 118.93608, 118.95614, 118.9762,\n",
      "         118.99627, 119.01633, 119.03639, 119.05645, 119.07651,\n",
      "         119.09658, 119.11664],\n",
      "        [252.57216, 250.12965, 242.60526, 246.10153, 236.57152,\n",
      "         241.55143, 253.91873, 252.14789, 234.72414, 251.93613,\n",
      "         246.46287, 243.66543, 242.56348, 239.41164, 245.80055,\n",
      "         251.06177, 245.29993, 230.89422, 236.97956, 245.28574,\n",
      "         238.76371, 240.37397, 239.75585, 243.47401, 246.3399, 244.45367,\n",
      "         239.31956, 236.37851, 243.74213, 233.19557, 242.59652,\n",
      "         238.78083, 246.97058, 235.82922, 239.17022, 238.70803,\n",
      "         233.85366, 246.04501, 231.73508, 231.18943, 238.19019,\n",
      "         246.50866, 233.11652, 239.78722, 235.7254, 240.15924, 248.78967,\n",
      "         229.15631, 232.54059, 237.49334, 84.83746, 86.23683, 83.3445,\n",
      "         88.88402, 90.5639, 93.48852, 88.79007, 88.41584, 81.92624,\n",
      "         89.21647, 87.30591, 82.09218, 81.47546, 85.08419, 87.25576,\n",
      "         80.54038, 82.04428, 78.25597, 77.88094, 86.35004, 83.65091,\n",
      "         81.43486, 88.44206, 87.61987, 80.1835, 80.24989, 80.96859,\n",
      "         88.16735, 81.50581, 78.37337, 77.27232, 79.51283, 82.50444,\n",
      "         78.6241, 76.61013, 80.05523, 78.45463, 78.84128, 83.5672,\n",
      "         78.85554, 80.151, 71.53668, 79.46409, 78.56131, 79.60619,\n",
      "         81.15165, 77.72657, 71.88422, 75.80985, 83.26618],\n",
      "        [0.003959264552356048, 0.003997926675226228,\n",
      "         0.004121922171019705, 0.004063363604444068,\n",
      "         0.004227051506453524, 0.004139905112546839,\n",
      "         0.003938267964714537, 0.00396592650448116, 0.004260320221004963,\n",
      "         0.003969259986648203, 0.004057406294100202,\n",
      "         0.004103987996984226, 0.004122632145614006,\n",
      "         0.004176906352590041, 0.004068339147329003,\n",
      "         0.003983083525620009, 0.00407664201127167, 0.004330987583838175,\n",
      "         0.0042197732158841044, 0.004076877848667435,\n",
      "         0.004188241169480906, 0.004160184232926718,\n",
      "         0.004170909698345212, 0.00410721456470857,\n",
      "         0.0040594317039180415, 0.004090754702107765,\n",
      "         0.0041785134487126755, 0.004230503018231226,\n",
      "         0.004102696567064545, 0.004288246127488614,\n",
      "         0.004122070671087945, 0.00418794088285898, 0.004049065277329794,\n",
      "         0.004240356644524372, 0.004181122549454527,\n",
      "         0.004189218100455187, 0.004276178529769429,\n",
      "         0.0040642970162247955, 0.004315272422284964,\n",
      "         0.004325457266796324, 0.00419832571610107, 0.004056652614151568,\n",
      "         0.004289700275210011, 0.004170364041920166,\n",
      "         0.004242224215124887, 0.004163903916418123,\n",
      "         0.004019459489616269, 0.0043638335771770806,\n",
      "         0.004300324515388905, 0.004210644391122715,\n",
      "         0.011787245869925857, 0.011595973553295037, 0.01199839221544313,\n",
      "         0.01125061625250523, 0.011041927302159027, 0.010696500490113654,\n",
      "         0.011262520685027052, 0.011310190572187065, 0.01220610148836319,\n",
      "         0.011208692744736482, 0.011453978316015492,\n",
      "         0.012181428243226091, 0.012273634294301622,\n",
      "         0.011753064817329751, 0.011460561457490028,\n",
      "         0.012416132131484852, 0.012188540139544159,\n",
      "         0.012778577787739389, 0.012840112099314672,\n",
      "         0.011580770547413759, 0.011954442575699416,\n",
      "         0.012279753412727669, 0.011306837493382673,\n",
      "         0.011412936357928857, 0.012471393740607482,\n",
      "         0.012461076270634142, 0.012350468249477976,\n",
      "         0.011342067103071602, 0.012269064009056533,\n",
      "         0.012759436017616699, 0.01294124467856019, 0.012576586696763278,\n",
      "         0.012120559814720273, 0.012718746542090783,\n",
      "         0.013053104073834622, 0.012491376266110285,\n",
      "         0.012746220331419575, 0.01268371086821523, 0.011966417446079323,\n",
      "         0.012681417183878265, 0.012476450699305062,\n",
      "         0.013978842741933228, 0.01258430065706409, 0.012728911979700948,\n",
      "         0.012561837213915149, 0.012322608351154904,\n",
      "         0.012865613393206469, 0.013911258966154185, 0.01319089801655062,\n",
      "         0.01200967787882187],\n",
      "        [245.49729346867034, 245.30631011377636, 245.11553321931942,\n",
      "         244.92505778499657, 244.73469358633054, 244.5445356738355,\n",
      "         244.35458424405815, 244.16493413942942, 243.97539553280768,\n",
      "         243.78606344383135, 243.5969380282612, 243.40801928171868,\n",
      "         243.21940121080533, 243.03089546738147, 242.84259641373322,\n",
      "         242.65450423566438, 242.46671259121774, 242.2790338078654,\n",
      "         242.09156204807758, 241.90429711042023, 241.71723916603668,\n",
      "         241.53048159523195, 241.3438377215946, 241.15740127678495,\n",
      "         240.97117182119092, 240.78514968638385, 240.59942773073791,\n",
      "         240.41382041961745, 240.22842059733853, 240.0432283497957,\n",
      "         239.85824390449247, 239.67355936112634, 239.48899036819503,\n",
      "         239.30462940215912, 239.12047655660402, 238.93653177987713,\n",
      "         238.75288697346215, 238.56935863037467, 238.3860389204941,\n",
      "         238.2029276806015, 238.02011648867088, 237.83742262714188,\n",
      "         237.65493787133732, 237.47266196137303, 237.29059529306448,\n",
      "         237.10882885428867, 236.92718116088727, 236.74574277935523,\n",
      "         236.56451416530496, 236.3834954912749, 86.20221760681173,\n",
      "         86.0281930200455, 85.81870012792182, 85.58537423623105,\n",
      "         85.3392184860451, 85.09031911569363, 84.84730986518396,\n",
      "         84.61711089342157, 84.40461371911714, 84.21287176752486,\n",
      "         84.04389279320151, 83.89736247845411, 83.77169826320534,\n",
      "         83.66398125466648, 83.57010892593912, 83.48470011389482,\n",
      "         83.40174524217026, 83.31508465205067, 83.21828605712022,\n",
      "         83.10585910795984, 82.97337391418513, 82.81810482223588,\n",
      "         82.63918697065054, 82.43783307914414, 82.21662309274798,\n",
      "         81.97971127375955, 81.73164348314698, 81.47722750078974,\n",
      "         81.22094827831363, 80.96684409884732, 80.71847719094555,\n",
      "         80.47828215474, 80.24811871542528, 80.02923220078394,\n",
      "         79.82215976457175, 79.62753462284728, 79.44512745689265,\n",
      "         79.27470980453327, 79.11584396258546, 78.96798801012382,\n",
      "         78.83048917052199, 78.70280895574224, 78.5843294374955,\n",
      "         78.47430995172036, 78.37228374005362, 78.27759505539161,\n",
      "         78.18968948916057, 78.10805438670386, 78.03214288391358,\n",
      "         77.96161704538451],\n",
      "        [245.09272765378782, 244.89973146494094, 244.70692651872022,\n",
      "         244.51440884300285, 244.32198588127983, 244.12975375694893,\n",
      "         243.937712335006, 243.74595726254472, 243.55429674547014,\n",
      "         243.362826526127, 243.17154646970346, 242.98045644143576,\n",
      "         242.78965161394134, 242.59894114313602, 242.40842029655144,\n",
      "         242.21808893961645, 242.0280418665874, 241.83808899094822,\n",
      "         241.64832520160078, 241.45875036416626, 241.26936434431417,\n",
      "         241.08026146484798, 240.89125258321408, 240.70243211652618,\n",
      "         240.51379993064603, 240.32535589148367, 240.1371938520658,\n",
      "         239.94912561044887, 239.7612451136349, 239.57355222772634,\n",
      "         239.3860468188735, 239.19882227199903, 239.01169132242367,\n",
      "         238.82474744871107, 238.63799051720392, 238.45142039429325,\n",
      "         238.26512999846702, 238.07893299897074, 237.89292240759946,\n",
      "         237.70709809093657, 237.52155259553152, 237.33610033535044,\n",
      "         237.1508339499835, 236.9657533062064, 236.7808582708434,\n",
      "         236.59624092700682, 236.411716616591, 236.22737751541632,\n",
      "         236.04322349049932, 235.85925440890463, 75.19658911762102,\n",
      "         75.20424397314687, 75.2119402715832, 75.21967807529339,\n",
      "         75.22745744668933, 75.23527844823147, 75.24314114242868,\n",
      "         75.25104559183842, 75.25899185906654, 75.2669839993494,\n",
      "         75.27501411115065, 75.28308622891035, 75.29120041542848,\n",
      "         75.29935673355348, 75.3075552461823, 75.31579601626045,\n",
      "         75.32407910678184, 75.33240458078896, 75.34077668341439,\n",
      "         75.34918713492138, 75.35764015936401, 75.36613581997878,\n",
      "         75.3746741800507, 75.38325530291327, 75.39188356171617,\n",
      "         75.40055042175105, 75.40926023489978, 75.41801306468987,\n",
      "         75.42680897469738, 75.43565244562454, 75.44453472854408,\n",
      "         75.45346028273197, 75.46242917195826, 75.47144146004159,\n",
      "         75.48050173603062, 75.48960103519185, 75.4987439249888,\n",
      "         75.507930469434, 75.51716073258864, 75.52643477856226,\n",
      "         75.53575732746955, 75.54511915351004, 75.5545249550215,\n",
      "         75.56397951808904, 75.57347348550401, 75.58301162147855,\n",
      "         75.59259399046181, 75.60222065695152, 75.61189651761855,\n",
      "         75.6216119949712],\n",
      "        [7.074866531329661, 4.823339886223636, -2.51027321931943,\n",
      "         1.1764722150034288, -8.163173586330544, -2.993105673835487,\n",
      "         9.564145755941865, 7.98295586057057, -9.251255532807676,\n",
      "         8.150066556168639, 2.865931971738803, 0.25741071828130657,\n",
      "         -0.6559212108053316, -3.619255467381464, 2.9579535862667683,\n",
      "         8.40726576433562, 2.8332174087822466, -11.384813807865413,\n",
      "         -5.112002048077585, 3.3814428895797732, -2.953529166036674,\n",
      "         -1.1565115952319331, -1.587987721594601, 2.3166087232150403,\n",
      "         5.368728178809079, 3.668520313616142, -1.2798677307379194,\n",
      "         -4.035310419617446, 3.513709402661476, -6.847658349795694,\n",
      "         2.73827609550753, -0.8927293611263281, 7.4815896318049795,\n",
      "         -3.47540940215913, 0.04974344339598247, -0.22850177987712073,\n",
      "         -4.899226973462163, 7.475651369625325, -6.650958920494077,\n",
      "         -7.0134976806015175, 0.17007351132912163, 8.671237372858116,\n",
      "         -4.538417871337316, 2.3145580386269557, -1.5651952930644768,\n",
      "         3.0504111457113368, 11.862488839112729, -7.589432779355235,\n",
      "         -4.023924165304948, 1.1098445087250752, -1.364757606811736,\n",
      "         0.20863697995449115, -2.4742001279218186, 3.2986457637689597,\n",
      "         5.224681513954906, 8.398200884306362, 3.942760134816041,\n",
      "         3.7987291065784348, -2.47837371911713, 5.003598232475142,\n",
      "         3.2620172067984896, -1.805182478454114, -2.296238263205339,\n",
      "         1.4202087453335253, 3.6856510740608712, -2.9443201138948183,\n",
      "         -1.3574652421702638, -5.059114652050667, -5.337346057120229,\n",
      "         3.2441808920401627, 0.6775360858148645, -1.3832448222358806,\n",
      "         5.802873029349456, 5.1820369208558645, -2.033123092747985,\n",
      "         -1.7298212737595549, -0.763053483146976, 6.690122499210261,\n",
      "         0.2848617216863687, -2.5934740988473237, -3.4461571909455557,\n",
      "         -0.9654521547400066, 2.2563212845747245, -1.4051322007839389,\n",
      "         -3.212029764571753, 0.4276953771527161, -0.9904974568926548,\n",
      "         -0.43342980453327584, 4.451356037414541, -0.11244801012381345,\n",
      "         1.3205108294780104, -7.166128955742238, 0.8797605625045009,\n",
      "         0.08700004827964847, 1.2339062599463801, 2.874054944608389,\n",
      "         -0.4631194891605759, -6.223834386703857, -2.222292883913582,\n",
      "         5.304562954615491]],\n",
      "  mask=[[False, False, False, ..., False, False, False],\n",
      "        [False, False, False, ..., False, False, False],\n",
      "        [False, False, False, ..., False, False, False],\n",
      "        [False, False, False, ..., False, False, False],\n",
      "        [False, False, False, ..., False, False, False],\n",
      "        [False, False, False, ..., False, False, False]],\n"
     ]
    },
    {
     "name": "stdout",
     "output_type": "stream",
     "text": [
      "  fill_value=1e+20), 'PWDR E211110-AAC-001_019-000_exported.csv'], 'Index Peak List': [[], []], 'Comments': [], 'Unit Cells List': [], 'Sample Parameters': {'InstrName': '', 'ranId': 2535706893817433267, 'Scale': [8.476233813559377, True], 'Type': 'Bragg-Brentano', 'Absorption': [0.0, False], 'DisplaceX': [0.0, False], 'DisplaceY': [0.0, False], 'Temperature': 300, 'Pressure': 0.1, 'Time': 0.0, 'FreePrm1': 0.0, 'FreePrm2': 0.0, 'FreePrm3': 0.0, 'Gonio. radius': 200.0, 'Omega': 0.0, 'Chi': 0.0, 'Phi': 0.0, 'Azimuth': 0.0, 'Materials': [{'Name': 'vacuum', 'VolFrac': 1.0}, {'Name': 'vacuum', 'VolFrac': 0.0}], 'Thick': 1.0, 'Contrast': [0.0, 0.0], 'Trans': 1.0, 'SlitLen': 0.0, 'Shift': [0.0, False], 'Transparency': [0.0, False], 'SurfRoughA': [0.0, False], 'SurfRoughB': [0.0, False]}, 'Peak List': {'peaks': [], 'sigDict': {}}, 'Background': [['chebyschev-1', True, 5, 121.68817421580675, -71.56811232544584, 34.040157418348244, -13.167445503962474, 4.628838190224508], {'nDebye': 0, 'debyeTerms': [], 'nPeaks': 0, 'peaksList': [], 'background PWDR': ['', 1.0, False]}], 'Instrument Parameters': [{'Type': ['PXC', 'PXC', False], 'Bank': [1.0, 1.0, False], 'Lam1': [1.5405, 1.5405, False], 'Lam2': [1.5443, 1.5443, False], 'Zero': [0.0, -0.013211489852118882, True], 'Polariz.': [0.7, 0.7, False], 'Azimuth': [0.0, 0.0, False], 'I(L2)/I(L1)': [0.5, 0.5, False], 'U': [9.415874063652902, 9.415874063652902, False], 'V': [-12.57478502333727, -12.57478502333727, False], 'W': [22.75787728686985, 22.75787728686985, False], 'X': [0.6625974091166742, 0.6625974091166742, False], 'Y': [2.501062523941929, 2.501062523941929, False], 'Z': [0.0, 0.0, False], 'SH/L': [0.002, 0.002, False], 'Source': ['?', '?', False]}, {}]}\n",
      "Phase data: \n",
      "Phase data:  {'ranId': 9144931858637482256, 'General': {'Name': 'austenite-SRM487.cif', 'Type': 'nuclear', 'Modulated': False, 'AtomPtrs': [3, 1, 7, 9], 'SGData': {'SGGray': False, 'SpGrp': 'F m -3 m', 'SGLaue': 'm3m', 'SGInv': True, 'SGLatt': 'F', 'SGUniq': '', 'SGFixed': False, 'SGOps': [[array([[1., 0., 0.],\n",
      "       [0., 1., 0.],\n",
      "       [0., 0., 1.]], dtype=float32), array([0., 0., 0.], dtype=float32)], [array([[0., 0., 1.],\n",
      "       [1., 0., 0.],\n",
      "       [0., 1., 0.]], dtype=float32), array([0., 0., 0.], dtype=float32)], [array([[0., 1., 0.],\n",
      "       [0., 0., 1.],\n",
      "       [1., 0., 0.]], dtype=float32), array([0., 0., 0.], dtype=float32)], [array([[ 1.,  0.,  0.],\n",
      "       [ 0.,  1.,  0.],\n",
      "       [ 0.,  0., -1.]], dtype=float32), array([0., 0., 0.], dtype=float32)], [array([[ 0.,  0., -1.],\n",
      "       [ 1.,  0.,  0.],\n",
      "       [ 0.,  1.,  0.]], dtype=float32), array([0., 0., 0.], dtype=float32)], [array([[ 0.,  1.,  0.],\n",
      "       [ 0.,  0., -1.],\n",
      "       [ 1.,  0.,  0.]], dtype=float32), array([0., 0., 0.], dtype=float32)], [array([[ 0.,  0., -1.],\n",
      "       [ 1.,  0.,  0.],\n",
      "       [ 0., -1.,  0.]], dtype=float32), array([0., 0., 0.], dtype=float32)], [array([[ 0., -1.,  0.],\n",
      "       [ 0.,  0., -1.],\n",
      "       [ 1.,  0.,  0.]], dtype=float32), array([0., 0., 0.], dtype=float32)], [array([[ 0.,  1.,  0.],\n",
      "       [ 0.,  0., -1.],\n",
      "       [-1.,  0.,  0.]], dtype=float32), array([0., 0., 0.], dtype=float32)], [array([[-1.,  0.,  0.],\n",
      "       [ 0.,  1.,  0.],\n",
      "       [ 0.,  0., -1.]], dtype=float32), array([0., 0., 0.], dtype=float32)], [array([[ 0.,  0., -1.],\n",
      "       [-1.,  0.,  0.],\n",
      "       [ 0.,  1.,  0.]], dtype=float32), array([0., 0., 0.], dtype=float32)], [array([[ 1.,  0.,  0.],\n",
      "       [ 0., -1.,  0.],\n",
      "       [ 0.,  0., -1.]], dtype=float32), array([0., 0., 0.], dtype=float32)], [array([[0., 1., 0.],\n",
      "       [1., 0., 0.],\n",
      "       [0., 0., 1.]], dtype=float32), array([0., 0., 0.], dtype=float32)], [array([[0., 0., 1.],\n",
      "       [0., 1., 0.],\n",
      "       [1., 0., 0.]], dtype=float32), array([0., 0., 0.], dtype=float32)], [array([[1., 0., 0.],\n",
      "       [0., 0., 1.],\n",
      "       [0., 1., 0.]], dtype=float32), array([0., 0., 0.], dtype=float32)], [array([[ 0.,  1.,  0.],\n",
      "       [ 1.,  0.,  0.],\n",
      "       [ 0.,  0., -1.]], dtype=float32), array([0., 0., 0.], dtype=float32)], [array([[ 0.,  0., -1.],\n",
      "       [ 0.,  1.,  0.],\n",
      "       [ 1.,  0.,  0.]], dtype=float32), array([0., 0., 0.], dtype=float32)], [array([[ 1.,  0.,  0.],\n",
      "       [ 0.,  0., -1.],\n",
      "       [ 0.,  1.,  0.]], dtype=float32), array([0., 0., 0.], dtype=float32)], [array([[ 0.,  0., -1.],\n",
      "       [ 0.,  1.,  0.],\n",
      "       [-1.,  0.,  0.]], dtype=float32), array([0., 0., 0.], dtype=float32)], [array([[-1.,  0.,  0.],\n",
      "       [ 0.,  0., -1.],\n",
      "       [ 0.,  1.,  0.]], dtype=float32), array([0., 0., 0.], dtype=float32)], [array([[ 1.,  0.,  0.],\n",
      "       [ 0.,  0., -1.],\n",
      "       [ 0., -1.,  0.]], dtype=float32), array([0., 0., 0.], dtype=float32)], [array([[ 0., -1.,  0.],\n",
      "       [ 1.,  0.,  0.],\n",
      "       [ 0.,  0., -1.]], dtype=float32), array([0., 0., 0.], dtype=float32)], [array([[ 0.,  0., -1.],\n",
      "       [ 0., -1.,  0.],\n",
      "       [ 1.,  0.,  0.]], dtype=float32), array([0., 0., 0.], dtype=float32)], [array([[ 0.,  1.,  0.],\n",
      "       [-1.,  0.,  0.],\n",
      "       [ 0.,  0., -1.]], dtype=float32), array([0., 0., 0.], dtype=float32)]], 'SGGen': [0, 0, 0, 4, 7, 7, 0, 0, 0, 0, 0, 0, 8, 8, 8, 12, 20, 20, 8, 19, 8, 19, 19, 19, 4, 4, 4, 0, 3, 3, 4, 4, 4, 4, 4, 4, 12, 12, 12, 8, 16, 16, 12, 23, 12, 23, 23, 23], 'BNSlattsym': ['F', [0, 0, 0]], 'SGCen': array([[0. , 0. , 0. ],\n",
      "       [0. , 0.5, 0.5],\n",
      "       [0.5, 0. , 0.5],\n",
      "       [0.5, 0.5, 0. ]]), 'SGSys': 'cubic', 'SGPolax': '', 'SGPtGrp': 'm3m', 'SSGKl': [], 'SGSpin': [1, 1, 1, 1, 1, 1, 1]}, 'Cell': [True, 3.5927831833312527, 3.5927831833312527, 3.5927831833312527, 90.0, 90.0, 90.0, 46.37597228243222], 'Pawley dmin': 1.0, 'Data plot type': 'None', 'SH Texture': {'Order': 0, 'Model': 'cylindrical', 'Sample omega': [False, 0.0], 'Sample chi': [False, 0.0], 'Sample phi': [False, 0.0], 'SH Coeff': [False, {}], 'SHShow': False, 'PFhkl': [0, 0, 1], 'PFxyz': [0, 0, 1], 'PlotType': 'Pole figure', 'Penalty': [[''], 0.1, False, 1.0]}, 'Super': 0, 'AtomTypes': ['Fe', 'Cr', 'Ni', 'Si', 'C', 'Mn'], 'Isotopes': {'Fe': {'Nat. Abund.': {'Mass': 55.847, 'SL': [0.945, 0], 'SA': 2.56}, '54': {'Mass': 53.94, 'SL': [0.42, 0], 'SA': 2.25}, '56': {'Mass': 55.935, 'SL': [1.01, 0], 'SA': 2.59}, '57': {'Mass': 56.935, 'SL': [0.23, 0], 'SA': 2.48}, '58': {'Mass': 57.933, 'SL': [1.5, 0], 'SA': 1.28}}, 'Cr': {'Nat. Abund.': {'Mass': 51.996, 'SL': [0.3635, 0], 'SA': 3.05}, '50': {'Mass': 49.946, 'SL': [-0.45, 0], 'SA': 15.8}, '52': {'Mass': 51.941, 'SL': [0.4914, 0], 'SA': 0.76}, '53': {'Mass': 52.941, 'SL': [-0.42, 0], 'SA': 18.1}, '54': {'Mass': 53.939, 'SL': [0.455, 0], 'SA': 0.36}}, 'Ni': {'Nat. Abund.': {'Mass': 58.7, 'SL': [1.03, 0], 'SA': 4.49}, '58': {'Mass': 57.935, 'SL': [1.44, 0], 'SA': 4.6}, '60': {'Mass': 58.931, 'SL': [0.28, 0], 'SA': 2.9}, '61': {'Mass': 60.931, 'SL': [0.76, 0], 'SA': 2.5}, '62': {'Mass': 61.928, 'SL': [-0.87, 0], 'SA': 14.5}, '64': {'Mass': 63.928, 'SL': [-0.037, 0], 'SA': 1.52}}, 'Si': {'Nat. Abund.': {'Mass': 28.086, 'SL': [0.41507, 0], 'SA': 0.171}, '28': {'Mass': 27.977, 'SL': [0.4107, 0], 'SA': 0.177}, '29': {'Mass': 28.976, 'SL': [0.47, 0], 'SA': 0.101}, '30': {'Mass': 29.974, 'SL': [0.458, 0], 'SA': 0.107}}, 'C': {'Nat. Abund.': {'Mass': 12.011, 'SL': [0.6648, 0], 'SA': 0.0035}, '12': {'Mass': 12.0, 'SL': [0.6654, 0], 'SA': 0.00353}, '13': {'Mass': 13.003, 'SL': [0.619, 0], 'SA': 0.00137}}, 'Mn': {'Nat. Abund.': {'Mass': 54.938, 'SL': [-0.375, 0], 'SA': 13.3}, '55': {'Mass': 54.938, 'SL': [-0.375, 0], 'SA': 13.3}}}, 'Isotope': {'Fe': 'Nat. Abund.', 'Cr': 'Nat. Abund.', 'Ni': 'Nat. Abund.', 'Si': 'Nat. Abund.', 'C': 'Nat. Abund.', 'Mn': 'Nat. Abund.'}, 'POhkl': [0, 0, 1], 'Map': {'MapType': '', 'RefList': '', 'GridStep': 0.25, 'Show bonds': True, 'rho': [], 'rhoMax': 0.0, 'mapSize': 10.0, 'cutOff': 50.0, 'Flip': False}, 'Flip': {'RefList': '', 'GridStep': 0.25, 'Norm element': 'None', 'k-factor': 0.1, 'k-Max': 20.0, 'testHKL': [[0, 0, 2], [2, 0, 0], [1, 1, 1], [0, 2, 0], [1, 2, 3]]}, 'doPawley': False, 'Pawley dmax': 100.0, 'Pawley neg wt': 0.0, '3Dproj': '', 'doDysnomia': False, 'MCSA controls': {'Data source': '', 'Annealing': [0.7, 0.1, 250], 'dmin': 2.8, 'Algorithm': 'log', 'fast parms': [0.8, 0.6], 'log slope': 0.9, 'Cycles': 1, 'Results': [], 'newDmin': True}, 'HydIds': {}, 'Compare': {'Oatoms': '', 'Tatoms': '', 'Tilts': {'Otilts': [], 'Ttilts': []}, 'Bonds': {'Obonds': [], 'Tbonds': []}, 'Vects': {'Ovec': [], 'Tvec': []}, 'dVects': {'Ovec': [], 'Tvec': []}, 'Sampling': 1.0}, 'NoAtoms': {'Fe': 2.104, 'Cr': 1.056, 'Ni': 0.764, 'Si': 0.06, 'C': 0.008, 'Mn': 0.008}, 'BondRadii': [1.47, 1.56, 1.45, 1.52, 1.12, 1.54], 'AngleRadii': [1.27, 1.36, 1.25, 1.32, 0.92, 1.3], 'vdWRadii': [1.7, 1.7, 1.63, 2.1, 1.95, 1.7], 'AtomMass': [55.847, 51.996, 58.7, 28.086, 12.011, 54.938], 'Color': [(224, 102, 51), (138, 153, 199), (80, 208, 80), (240, 200, 160), (144, 144, 144), (156, 122, 199)], 'Mydir': '/Users/creuzige/Documents/NIST_Research/GitHub/AusteniteCalculator/ExampleData/Example05', 'Z': 25, 'F000X': 100.0, 'F000N': 3.1862786000000005, 'Mass': 219.47741600000003}, 'Atoms': [['Fe1', 'Fe', '', 0.0, 0.0, 0.0, 0.526, 'm3m', 4, 'I', 0.007, 0.0, 0.0, 0.0, 0.0, 0.0, 0.0, 5906236879538766956], ['Cr2', 'Cr', '', 0.0, 0.0, 0.0, 0.264, 'm3m', 4, 'I', 0.007, 0.0, 0.0, 0.0, 0.0, 0.0, 0.0, 7043594122309489057], ['Ni3', 'Ni', '', 0.0, 0.0, 0.0, 0.191, 'm3m', 4, 'I', 0.007, 0.0, 0.0, 0.0, 0.0, 0.0, 0.0, 2754018465105350008], ['Si4', 'Si', '', 0.0, 0.0, 0.0, 0.015, 'm3m', 4, 'I', 0.007, 0.0, 0.0, 0.0, 0.0, 0.0, 0.0, 2524793152225766130], ['C5', 'C', '', 0.0, 0.0, 0.0, 0.002, 'm3m', 4, 'I', 0.007, 0.0, 0.0, 0.0, 0.0, 0.0, 0.0, 6259714313273813063], ['Mn6', 'Mn', '', 0.0, 0.0, 0.0, 0.002, 'm3m', 4, 'I', 0.007, 0.0, 0.0, 0.0, 0.0, 0.0, 0.0, 6202511434485978574]], 'Drawing': {}, 'Histograms': {'PWDR E211110-AAC-001_019-000_exported.csv': {'Histogram': 'PWDR E211110-AAC-001_019-000_exported.csv', 'Show': False, 'Scale': [1.0, False], 'Pref.Ori.': ['MD', 1.0, False, [0, 0, 1], 0, {}, [], 0.1], 'Size': ['isotropic', [4.4352170821772035, 1.0, 1.0], [True, False, False], [0, 0, 1], [1.0, 1.0, 1.0, 0.0, 0.0, 0.0], [False, False, False, False, False, False]], 'Mustrain': ['isotropic', [5240.005165786252, 1000.0, 1.0], [True, False, False], [0, 0, 1], [0.01, 0.01], [False, False]], 'HStrain': [[0.0, 0.0], [False, False]], 'Extinction': [0.0, False], 'Babinet': {'BabA': [0.0, False], 'BabU': [0.0, False]}, 'hId': 0, 'Use': True, 'LeBail': True}}, 'Pawley ref': [], 'RBModels': {}, 'pId': 0}\n",
      "Phase data:  {'ranId': 4804975356914562334, 'General': {'Name': 'ferrite-SRM487.cif', 'Type': 'nuclear', 'Modulated': False, 'AtomPtrs': [3, 1, 7, 9], 'SGData': {'SGGray': False, 'SpGrp': 'I m -3 m', 'SGLaue': 'm3m', 'SGInv': True, 'SGLatt': 'I', 'SGUniq': '', 'SGFixed': False, 'SGOps': [[array([[1., 0., 0.],\n",
      "       [0., 1., 0.],\n",
      "       [0., 0., 1.]], dtype=float32), array([0., 0., 0.], dtype=float32)], [array([[0., 0., 1.],\n",
      "       [1., 0., 0.],\n",
      "       [0., 1., 0.]], dtype=float32), array([0., 0., 0.], dtype=float32)], [array([[0., 1., 0.],\n",
      "       [0., 0., 1.],\n",
      "       [1., 0., 0.]], dtype=float32), array([0., 0., 0.], dtype=float32)], [array([[ 1.,  0.,  0.],\n",
      "       [ 0.,  1.,  0.],\n",
      "       [ 0.,  0., -1.]], dtype=float32), array([0., 0., 0.], dtype=float32)], [array([[ 0.,  0., -1.],\n",
      "       [ 1.,  0.,  0.],\n",
      "       [ 0.,  1.,  0.]], dtype=float32), array([0., 0., 0.], dtype=float32)], [array([[ 0.,  1.,  0.],\n",
      "       [ 0.,  0., -1.],\n",
      "       [ 1.,  0.,  0.]], dtype=float32), array([0., 0., 0.], dtype=float32)], [array([[ 0.,  0., -1.],\n",
      "       [ 1.,  0.,  0.],\n",
      "       [ 0., -1.,  0.]], dtype=float32), array([0., 0., 0.], dtype=float32)], [array([[ 0., -1.,  0.],\n",
      "       [ 0.,  0., -1.],\n",
      "       [ 1.,  0.,  0.]], dtype=float32), array([0., 0., 0.], dtype=float32)], [array([[ 0.,  1.,  0.],\n",
      "       [ 0.,  0., -1.],\n",
      "       [-1.,  0.,  0.]], dtype=float32), array([0., 0., 0.], dtype=float32)], [array([[-1.,  0.,  0.],\n",
      "       [ 0.,  1.,  0.],\n",
      "       [ 0.,  0., -1.]], dtype=float32), array([0., 0., 0.], dtype=float32)], [array([[ 0.,  0., -1.],\n",
      "       [-1.,  0.,  0.],\n",
      "       [ 0.,  1.,  0.]], dtype=float32), array([0., 0., 0.], dtype=float32)], [array([[ 1.,  0.,  0.],\n",
      "       [ 0., -1.,  0.],\n",
      "       [ 0.,  0., -1.]], dtype=float32), array([0., 0., 0.], dtype=float32)], [array([[0., 1., 0.],\n",
      "       [1., 0., 0.],\n",
      "       [0., 0., 1.]], dtype=float32), array([0., 0., 0.], dtype=float32)], [array([[0., 0., 1.],\n",
      "       [0., 1., 0.],\n",
      "       [1., 0., 0.]], dtype=float32), array([0., 0., 0.], dtype=float32)], [array([[1., 0., 0.],\n",
      "       [0., 0., 1.],\n",
      "       [0., 1., 0.]], dtype=float32), array([0., 0., 0.], dtype=float32)], [array([[ 0.,  1.,  0.],\n",
      "       [ 1.,  0.,  0.],\n",
      "       [ 0.,  0., -1.]], dtype=float32), array([0., 0., 0.], dtype=float32)], [array([[ 0.,  0., -1.],\n",
      "       [ 0.,  1.,  0.],\n",
      "       [ 1.,  0.,  0.]], dtype=float32), array([0., 0., 0.], dtype=float32)], [array([[ 1.,  0.,  0.],\n",
      "       [ 0.,  0., -1.],\n",
      "       [ 0.,  1.,  0.]], dtype=float32), array([0., 0., 0.], dtype=float32)], [array([[ 0.,  0., -1.],\n",
      "       [ 0.,  1.,  0.],\n",
      "       [-1.,  0.,  0.]], dtype=float32), array([0., 0., 0.], dtype=float32)], [array([[-1.,  0.,  0.],\n",
      "       [ 0.,  0., -1.],\n",
      "       [ 0.,  1.,  0.]], dtype=float32), array([0., 0., 0.], dtype=float32)], [array([[ 1.,  0.,  0.],\n",
      "       [ 0.,  0., -1.],\n",
      "       [ 0., -1.,  0.]], dtype=float32), array([0., 0., 0.], dtype=float32)], [array([[ 0., -1.,  0.],\n",
      "       [ 1.,  0.,  0.],\n",
      "       [ 0.,  0., -1.]], dtype=float32), array([0., 0., 0.], dtype=float32)], [array([[ 0.,  0., -1.],\n",
      "       [ 0., -1.,  0.],\n",
      "       [ 1.,  0.,  0.]], dtype=float32), array([0., 0., 0.], dtype=float32)], [array([[ 0.,  1.,  0.],\n",
      "       [-1.,  0.,  0.],\n",
      "       [ 0.,  0., -1.]], dtype=float32), array([0., 0., 0.], dtype=float32)]], 'SGGen': [0, 0, 0, 4, 7, 7, 0, 0, 0, 0, 0, 0, 8, 8, 8, 12, 20, 20, 8, 19, 8, 19, 19, 19, 4, 4, 4, 0, 3, 3, 4, 4, 4, 4, 4, 4, 12, 12, 12, 8, 16, 16, 12, 23, 12, 23, 23, 23], 'BNSlattsym': ['I', [0, 0, 0]], 'SGCen': array([[0. , 0. , 0. ],\n",
      "       [0.5, 0.5, 0.5]]), 'SGSys': 'cubic', 'SGPolax': '', 'SGPtGrp': 'm3m', 'SSGKl': [], 'SGSpin': [1, 1, 1, 1]}, 'Cell': [True, 2.8720654544355817, 2.8720654544355817, 2.8720654544355817, 90.0, 90.0, 90.0, 23.690978564871198], 'Pawley dmin': 1.0, 'Data plot type': 'None', 'SH Texture': {'Order': 0, 'Model': 'cylindrical', 'Sample omega': [False, 0.0], 'Sample chi': [False, 0.0], 'Sample phi': [False, 0.0], 'SH Coeff': [False, {}], 'SHShow': False, 'PFhkl': [0, 0, 1], 'PFxyz': [0, 0, 1], 'PlotType': 'Pole figure', 'Penalty': [[''], 0.1, False, 1.0]}, 'Super': 0, 'AtomTypes': ['Fe', 'Cr', 'Si', 'Mn', 'C', 'Ni'], 'Isotopes': {'Fe': {'Nat. Abund.': {'Mass': 55.847, 'SL': [0.945, 0], 'SA': 2.56}, '54': {'Mass': 53.94, 'SL': [0.42, 0], 'SA': 2.25}, '56': {'Mass': 55.935, 'SL': [1.01, 0], 'SA': 2.59}, '57': {'Mass': 56.935, 'SL': [0.23, 0], 'SA': 2.48}, '58': {'Mass': 57.933, 'SL': [1.5, 0], 'SA': 1.28}}, 'Cr': {'Nat. Abund.': {'Mass': 51.996, 'SL': [0.3635, 0], 'SA': 3.05}, '50': {'Mass': 49.946, 'SL': [-0.45, 0], 'SA': 15.8}, '52': {'Mass': 51.941, 'SL': [0.4914, 0], 'SA': 0.76}, '53': {'Mass': 52.941, 'SL': [-0.42, 0], 'SA': 18.1}, '54': {'Mass': 53.939, 'SL': [0.455, 0], 'SA': 0.36}}, 'Si': {'Nat. Abund.': {'Mass': 28.086, 'SL': [0.41507, 0], 'SA': 0.171}, '28': {'Mass': 27.977, 'SL': [0.4107, 0], 'SA': 0.177}, '29': {'Mass': 28.976, 'SL': [0.47, 0], 'SA': 0.101}, '30': {'Mass': 29.974, 'SL': [0.458, 0], 'SA': 0.107}}, 'Mn': {'Nat. Abund.': {'Mass': 54.938, 'SL': [-0.375, 0], 'SA': 13.3}, '55': {'Mass': 54.938, 'SL': [-0.375, 0], 'SA': 13.3}}, 'C': {'Nat. Abund.': {'Mass': 12.011, 'SL': [0.6648, 0], 'SA': 0.0035}, '12': {'Mass': 12.0, 'SL': [0.6654, 0], 'SA': 0.00353}, '13': {'Mass': 13.003, 'SL': [0.619, 0], 'SA': 0.00137}}, 'Ni': {'Nat. Abund.': {'Mass': 58.7, 'SL': [1.03, 0], 'SA': 4.49}, '58': {'Mass': 57.935, 'SL': [1.44, 0], 'SA': 4.6}, '60': {'Mass': 58.931, 'SL': [0.28, 0], 'SA': 2.9}, '61': {'Mass': 60.931, 'SL': [0.76, 0], 'SA': 2.5}, '62': {'Mass': 61.928, 'SL': [-0.87, 0], 'SA': 14.5}, '64': {'Mass': 63.928, 'SL': [-0.037, 0], 'SA': 1.52}}}, 'Isotope': {'Fe': 'Nat. Abund.', 'Cr': 'Nat. Abund.', 'Si': 'Nat. Abund.', 'Mn': 'Nat. Abund.', 'C': 'Nat. Abund.', 'Ni': 'Nat. Abund.'}, 'POhkl': [0, 0, 1], 'Map': {'MapType': '', 'RefList': '', 'GridStep': 0.25, 'Show bonds': True, 'rho': [], 'rhoMax': 0.0, 'mapSize': 10.0, 'cutOff': 50.0, 'Flip': False}, 'Flip': {'RefList': '', 'GridStep': 0.25, 'Norm element': 'None', 'k-factor': 0.1, 'k-Max': 20.0, 'testHKL': [[0, 0, 2], [2, 0, 0], [1, 1, 1], [0, 2, 0], [1, 2, 3]]}, 'doPawley': False, 'Pawley dmax': 100.0, 'Pawley neg wt': 0.0, '3Dproj': '', 'doDysnomia': False, 'MCSA controls': {'Data source': '', 'Annealing': [0.7, 0.1, 250], 'dmin': 2.8, 'Algorithm': 'log', 'fast parms': [0.8, 0.6], 'log slope': 0.9, 'Cycles': 1, 'Results': [], 'newDmin': True}, 'HydIds': {}, 'Compare': {'Oatoms': '', 'Tatoms': '', 'Tilts': {'Otilts': [], 'Ttilts': []}, 'Bonds': {'Obonds': [], 'Tbonds': []}, 'Vects': {'Ovec': [], 'Tvec': []}, 'dVects': {'Ovec': [], 'Tvec': []}, 'Sampling': 1.0}, 'NoAtoms': {'Fe': 1.612, 'Cr': 0.354, 'Si': 0.032, 'Mn': 0.004, 'C': 0.002, 'Ni': 0.002}, 'BondRadii': [1.47, 1.56, 1.52, 1.54, 1.12, 1.45], 'AngleRadii': [1.27, 1.36, 1.32, 1.3, 0.92, 1.25], 'vdWRadii': [1.7, 1.7, 2.1, 1.7, 1.95, 1.63], 'AtomMass': [55.847, 51.996, 28.086, 54.938, 12.011, 58.7], 'Color': [(224, 102, 51), (138, 153, 199), (240, 200, 160), (156, 122, 199), (144, 144, 144), (80, 208, 80)], 'Mydir': '/Users/creuzige/Documents/NIST_Research/GitHub/AusteniteCalculator/ExampleData/Example05', 'Z': 28, 'F000X': 56.168, 'F000N': 1.6671908399999997, 'Mass': 109.69187400000001}, 'Atoms': [['Fe1', 'Fe', '', 0.0, 0.0, 0.0, 0.806, 'm3m', 2, 'I', 0.004, 0.0, 0.0, 0.0, 0.0, 0.0, 0.0, 3534680163284327908], ['Cr2', 'Cr', '', 0.0, 0.0, 0.0, 0.177, 'm3m', 2, 'I', 0.004, 0.0, 0.0, 0.0, 0.0, 0.0, 0.0, 1170873671771325635], ['Si3', 'Si', '', 0.0, 0.0, 0.0, 0.016, 'm3m', 2, 'I', 0.004, 0.0, 0.0, 0.0, 0.0, 0.0, 0.0, 5658180347087811266], ['Mn4', 'Mn', '', 0.0, 0.0, 0.0, 0.002, 'm3m', 2, 'I', 0.004, 0.0, 0.0, 0.0, 0.0, 0.0, 0.0, 4038339312262101256], ['C5', 'C', '', 0.0, 0.0, 0.0, 0.001, 'm3m', 2, 'I', 0.004, 0.0, 0.0, 0.0, 0.0, 0.0, 0.0, 755245590985285645], ['Ni6', 'Ni', '', 0.0, 0.0, 0.0, 0.001, 'm3m', 2, 'I', 0.004, 0.0, 0.0, 0.0, 0.0, 0.0, 0.0, 907014491344851381]], 'Drawing': {}, 'Histograms': {'PWDR E211110-AAC-001_019-000_exported.csv': {'Histogram': 'PWDR E211110-AAC-001_019-000_exported.csv', 'Show': False, 'Scale': [1.0, False], 'Pref.Ori.': ['MD', 1.0, False, [0, 0, 1], 0, {}, [], 0.1], 'Size': ['isotropic', [1.647198748094045, 1.0, 1.0], [True, False, False], [0, 0, 1], [1.0, 1.0, 1.0, 0.0, 0.0, 0.0], [False, False, False, False, False, False]], 'Mustrain': ['isotropic', [3087.8609409506425, 1000.0, 1.0], [True, False, False], [0, 0, 1], [0.01, 0.01], [False, False]], 'HStrain': [[0.0, 0.0], [False, False]], 'Extinction': [0.0, False], 'Babinet': {'BabA': [0.0, False], 'BabU': [0.0, False]}, 'hId': 0, 'Use': True, 'LeBail': True}}, 'Pawley ref': [], 'RBModels': {}, 'pId': 1}\n",
      " \n",
      "\n",
      " End of Rowles \n",
      "\n",
      "\n"
     ]
    },
    {
     "ename": "IndexError",
     "evalue": "single positional indexer is out-of-bounds",
     "output_type": "error",
     "traceback": [
      "\u001b[0;31m---------------------------------------------------------------------------\u001b[0m",
      "\u001b[0;31mIndexError\u001b[0m                                Traceback (most recent call last)",
      "\u001b[0;32m/var/folders/v9/ngxtw14j51df87wb0kzts7kc001758/T/ipykernel_27677/519195364.py\u001b[0m in \u001b[0;36m<module>\u001b[0;34m\u001b[0m\n\u001b[0;32m----> 1\u001b[0;31m \u001b[0mcompute_results\u001b[0m\u001b[0;34m.\u001b[0m\u001b[0mcompute\u001b[0m\u001b[0;34m(\u001b[0m\u001b[0mdatadir\u001b[0m\u001b[0;34m,\u001b[0m\u001b[0mworkdir\u001b[0m\u001b[0;34m,\u001b[0m\u001b[0mxrdml_fname\u001b[0m\u001b[0;34m,\u001b[0m\u001b[0minstprm_fname\u001b[0m\u001b[0;34m,\u001b[0m\u001b[0mcif_fnames\u001b[0m\u001b[0;34m,\u001b[0m\u001b[0mxtal_data\u001b[0m\u001b[0;34m,\u001b[0m\u001b[0mG2sc\u001b[0m\u001b[0;34m)\u001b[0m\u001b[0;34m\u001b[0m\u001b[0;34m\u001b[0m\u001b[0m\n\u001b[0m",
      "\u001b[0;32m~/Documents/NIST_Research/GitHub/AusteniteCalculator/app/compute_results.py\u001b[0m in \u001b[0;36mcompute\u001b[0;34m(datadir, workdir, xrdml_fname, instprm_fname, cif_fnames, xtal_data, G2sc)\u001b[0m\n\u001b[1;32m    183\u001b[0m \u001b[0;34m\u001b[0m\u001b[0m\n\u001b[1;32m    184\u001b[0m         \u001b[0mt_peaks\u001b[0m \u001b[0;34m=\u001b[0m \u001b[0mpd\u001b[0m\u001b[0;34m.\u001b[0m\u001b[0mDataFrame\u001b[0m\u001b[0;34m(\u001b[0m\u001b[0mhist\u001b[0m\u001b[0;34m.\u001b[0m\u001b[0mdata\u001b[0m\u001b[0;34m[\u001b[0m\u001b[0;34m'Peak List'\u001b[0m\u001b[0;34m]\u001b[0m\u001b[0;34m[\u001b[0m\u001b[0;34m'peaks'\u001b[0m\u001b[0;34m]\u001b[0m\u001b[0;34m)\u001b[0m\u001b[0;34m\u001b[0m\u001b[0;34m\u001b[0m\u001b[0m\n\u001b[0;32m--> 185\u001b[0;31m         \u001b[0mt_sigma\u001b[0m \u001b[0;34m=\u001b[0m \u001b[0mt_peaks\u001b[0m\u001b[0;34m.\u001b[0m\u001b[0miloc\u001b[0m\u001b[0;34m[\u001b[0m\u001b[0;34m:\u001b[0m\u001b[0;34m,\u001b[0m\u001b[0;36m4\u001b[0m\u001b[0;34m]\u001b[0m\u001b[0;34m\u001b[0m\u001b[0;34m\u001b[0m\u001b[0m\n\u001b[0m\u001b[1;32m    186\u001b[0m         \u001b[0mt_gamma\u001b[0m \u001b[0;34m=\u001b[0m \u001b[0mt_peaks\u001b[0m\u001b[0;34m.\u001b[0m\u001b[0miloc\u001b[0m\u001b[0;34m[\u001b[0m\u001b[0;34m:\u001b[0m\u001b[0;34m,\u001b[0m\u001b[0;36m6\u001b[0m\u001b[0;34m]\u001b[0m\u001b[0;34m\u001b[0m\u001b[0;34m\u001b[0m\u001b[0m\n\u001b[1;32m    187\u001b[0m         \u001b[0mt_int\u001b[0m \u001b[0;34m=\u001b[0m \u001b[0mt_peaks\u001b[0m\u001b[0;34m.\u001b[0m\u001b[0miloc\u001b[0m\u001b[0;34m[\u001b[0m\u001b[0;34m:\u001b[0m\u001b[0;34m,\u001b[0m\u001b[0;36m2\u001b[0m\u001b[0;34m]\u001b[0m\u001b[0;34m\u001b[0m\u001b[0;34m\u001b[0m\u001b[0m\n",
      "\u001b[0;32m~/gsas2full/envs/gsas-AustCalc/lib/python3.7/site-packages/pandas/core/indexing.py\u001b[0m in \u001b[0;36m__getitem__\u001b[0;34m(self, key)\u001b[0m\n\u001b[1;32m    923\u001b[0m                 \u001b[0;32mwith\u001b[0m \u001b[0msuppress\u001b[0m\u001b[0;34m(\u001b[0m\u001b[0mKeyError\u001b[0m\u001b[0;34m,\u001b[0m \u001b[0mIndexError\u001b[0m\u001b[0;34m)\u001b[0m\u001b[0;34m:\u001b[0m\u001b[0;34m\u001b[0m\u001b[0;34m\u001b[0m\u001b[0m\n\u001b[1;32m    924\u001b[0m                     \u001b[0;32mreturn\u001b[0m \u001b[0mself\u001b[0m\u001b[0;34m.\u001b[0m\u001b[0mobj\u001b[0m\u001b[0;34m.\u001b[0m\u001b[0m_get_value\u001b[0m\u001b[0;34m(\u001b[0m\u001b[0;34m*\u001b[0m\u001b[0mkey\u001b[0m\u001b[0;34m,\u001b[0m \u001b[0mtakeable\u001b[0m\u001b[0;34m=\u001b[0m\u001b[0mself\u001b[0m\u001b[0;34m.\u001b[0m\u001b[0m_takeable\u001b[0m\u001b[0;34m)\u001b[0m\u001b[0;34m\u001b[0m\u001b[0;34m\u001b[0m\u001b[0m\n\u001b[0;32m--> 925\u001b[0;31m             \u001b[0;32mreturn\u001b[0m \u001b[0mself\u001b[0m\u001b[0;34m.\u001b[0m\u001b[0m_getitem_tuple\u001b[0m\u001b[0;34m(\u001b[0m\u001b[0mkey\u001b[0m\u001b[0;34m)\u001b[0m\u001b[0;34m\u001b[0m\u001b[0;34m\u001b[0m\u001b[0m\n\u001b[0m\u001b[1;32m    926\u001b[0m         \u001b[0;32melse\u001b[0m\u001b[0;34m:\u001b[0m\u001b[0;34m\u001b[0m\u001b[0;34m\u001b[0m\u001b[0m\n\u001b[1;32m    927\u001b[0m             \u001b[0;31m# we by definition only have the 0th axis\u001b[0m\u001b[0;34m\u001b[0m\u001b[0;34m\u001b[0m\u001b[0;34m\u001b[0m\u001b[0m\n",
      "\u001b[0;32m~/gsas2full/envs/gsas-AustCalc/lib/python3.7/site-packages/pandas/core/indexing.py\u001b[0m in \u001b[0;36m_getitem_tuple\u001b[0;34m(self, tup)\u001b[0m\n\u001b[1;32m   1504\u001b[0m     \u001b[0;32mdef\u001b[0m \u001b[0m_getitem_tuple\u001b[0m\u001b[0;34m(\u001b[0m\u001b[0mself\u001b[0m\u001b[0;34m,\u001b[0m \u001b[0mtup\u001b[0m\u001b[0;34m:\u001b[0m \u001b[0mtuple\u001b[0m\u001b[0;34m)\u001b[0m\u001b[0;34m:\u001b[0m\u001b[0;34m\u001b[0m\u001b[0;34m\u001b[0m\u001b[0m\n\u001b[1;32m   1505\u001b[0m \u001b[0;34m\u001b[0m\u001b[0m\n\u001b[0;32m-> 1506\u001b[0;31m         \u001b[0mself\u001b[0m\u001b[0;34m.\u001b[0m\u001b[0m_has_valid_tuple\u001b[0m\u001b[0;34m(\u001b[0m\u001b[0mtup\u001b[0m\u001b[0;34m)\u001b[0m\u001b[0;34m\u001b[0m\u001b[0;34m\u001b[0m\u001b[0m\n\u001b[0m\u001b[1;32m   1507\u001b[0m         \u001b[0;32mwith\u001b[0m \u001b[0msuppress\u001b[0m\u001b[0;34m(\u001b[0m\u001b[0mIndexingError\u001b[0m\u001b[0;34m)\u001b[0m\u001b[0;34m:\u001b[0m\u001b[0;34m\u001b[0m\u001b[0;34m\u001b[0m\u001b[0m\n\u001b[1;32m   1508\u001b[0m             \u001b[0;32mreturn\u001b[0m \u001b[0mself\u001b[0m\u001b[0;34m.\u001b[0m\u001b[0m_getitem_lowerdim\u001b[0m\u001b[0;34m(\u001b[0m\u001b[0mtup\u001b[0m\u001b[0;34m)\u001b[0m\u001b[0;34m\u001b[0m\u001b[0;34m\u001b[0m\u001b[0m\n",
      "\u001b[0;32m~/gsas2full/envs/gsas-AustCalc/lib/python3.7/site-packages/pandas/core/indexing.py\u001b[0m in \u001b[0;36m_has_valid_tuple\u001b[0;34m(self, key)\u001b[0m\n\u001b[1;32m    752\u001b[0m         \u001b[0;32mfor\u001b[0m \u001b[0mi\u001b[0m\u001b[0;34m,\u001b[0m \u001b[0mk\u001b[0m \u001b[0;32min\u001b[0m \u001b[0menumerate\u001b[0m\u001b[0;34m(\u001b[0m\u001b[0mkey\u001b[0m\u001b[0;34m)\u001b[0m\u001b[0;34m:\u001b[0m\u001b[0;34m\u001b[0m\u001b[0;34m\u001b[0m\u001b[0m\n\u001b[1;32m    753\u001b[0m             \u001b[0;32mtry\u001b[0m\u001b[0;34m:\u001b[0m\u001b[0;34m\u001b[0m\u001b[0;34m\u001b[0m\u001b[0m\n\u001b[0;32m--> 754\u001b[0;31m                 \u001b[0mself\u001b[0m\u001b[0;34m.\u001b[0m\u001b[0m_validate_key\u001b[0m\u001b[0;34m(\u001b[0m\u001b[0mk\u001b[0m\u001b[0;34m,\u001b[0m \u001b[0mi\u001b[0m\u001b[0;34m)\u001b[0m\u001b[0;34m\u001b[0m\u001b[0;34m\u001b[0m\u001b[0m\n\u001b[0m\u001b[1;32m    755\u001b[0m             \u001b[0;32mexcept\u001b[0m \u001b[0mValueError\u001b[0m \u001b[0;32mas\u001b[0m \u001b[0merr\u001b[0m\u001b[0;34m:\u001b[0m\u001b[0;34m\u001b[0m\u001b[0;34m\u001b[0m\u001b[0m\n\u001b[1;32m    756\u001b[0m                 raise ValueError(\n",
      "\u001b[0;32m~/gsas2full/envs/gsas-AustCalc/lib/python3.7/site-packages/pandas/core/indexing.py\u001b[0m in \u001b[0;36m_validate_key\u001b[0;34m(self, key, axis)\u001b[0m\n\u001b[1;32m   1407\u001b[0m             \u001b[0;32mreturn\u001b[0m\u001b[0;34m\u001b[0m\u001b[0;34m\u001b[0m\u001b[0m\n\u001b[1;32m   1408\u001b[0m         \u001b[0;32melif\u001b[0m \u001b[0mis_integer\u001b[0m\u001b[0;34m(\u001b[0m\u001b[0mkey\u001b[0m\u001b[0;34m)\u001b[0m\u001b[0;34m:\u001b[0m\u001b[0;34m\u001b[0m\u001b[0;34m\u001b[0m\u001b[0m\n\u001b[0;32m-> 1409\u001b[0;31m             \u001b[0mself\u001b[0m\u001b[0;34m.\u001b[0m\u001b[0m_validate_integer\u001b[0m\u001b[0;34m(\u001b[0m\u001b[0mkey\u001b[0m\u001b[0;34m,\u001b[0m \u001b[0maxis\u001b[0m\u001b[0;34m)\u001b[0m\u001b[0;34m\u001b[0m\u001b[0;34m\u001b[0m\u001b[0m\n\u001b[0m\u001b[1;32m   1410\u001b[0m         \u001b[0;32melif\u001b[0m \u001b[0misinstance\u001b[0m\u001b[0;34m(\u001b[0m\u001b[0mkey\u001b[0m\u001b[0;34m,\u001b[0m \u001b[0mtuple\u001b[0m\u001b[0;34m)\u001b[0m\u001b[0;34m:\u001b[0m\u001b[0;34m\u001b[0m\u001b[0;34m\u001b[0m\u001b[0m\n\u001b[1;32m   1411\u001b[0m             \u001b[0;31m# a tuple should already have been caught by this point\u001b[0m\u001b[0;34m\u001b[0m\u001b[0;34m\u001b[0m\u001b[0;34m\u001b[0m\u001b[0m\n",
      "\u001b[0;32m~/gsas2full/envs/gsas-AustCalc/lib/python3.7/site-packages/pandas/core/indexing.py\u001b[0m in \u001b[0;36m_validate_integer\u001b[0;34m(self, key, axis)\u001b[0m\n\u001b[1;32m   1498\u001b[0m         \u001b[0mlen_axis\u001b[0m \u001b[0;34m=\u001b[0m \u001b[0mlen\u001b[0m\u001b[0;34m(\u001b[0m\u001b[0mself\u001b[0m\u001b[0;34m.\u001b[0m\u001b[0mobj\u001b[0m\u001b[0;34m.\u001b[0m\u001b[0m_get_axis\u001b[0m\u001b[0;34m(\u001b[0m\u001b[0maxis\u001b[0m\u001b[0;34m)\u001b[0m\u001b[0;34m)\u001b[0m\u001b[0;34m\u001b[0m\u001b[0;34m\u001b[0m\u001b[0m\n\u001b[1;32m   1499\u001b[0m         \u001b[0;32mif\u001b[0m \u001b[0mkey\u001b[0m \u001b[0;34m>=\u001b[0m \u001b[0mlen_axis\u001b[0m \u001b[0;32mor\u001b[0m \u001b[0mkey\u001b[0m \u001b[0;34m<\u001b[0m \u001b[0;34m-\u001b[0m\u001b[0mlen_axis\u001b[0m\u001b[0;34m:\u001b[0m\u001b[0;34m\u001b[0m\u001b[0;34m\u001b[0m\u001b[0m\n\u001b[0;32m-> 1500\u001b[0;31m             \u001b[0;32mraise\u001b[0m \u001b[0mIndexError\u001b[0m\u001b[0;34m(\u001b[0m\u001b[0;34m\"single positional indexer is out-of-bounds\"\u001b[0m\u001b[0;34m)\u001b[0m\u001b[0;34m\u001b[0m\u001b[0;34m\u001b[0m\u001b[0m\n\u001b[0m\u001b[1;32m   1501\u001b[0m \u001b[0;34m\u001b[0m\u001b[0m\n\u001b[1;32m   1502\u001b[0m     \u001b[0;31m# -------------------------------------------------------------------\u001b[0m\u001b[0;34m\u001b[0m\u001b[0;34m\u001b[0m\u001b[0;34m\u001b[0m\u001b[0m\n",
      "\u001b[0;31mIndexError\u001b[0m: single positional indexer is out-of-bounds"
     ]
    }
   ],
   "source": [
    "\n",
    "compute_results.compute(datadir,workdir,xrdml_fname,instprm_fname,cif_fnames,xtal_data,G2sc)"
   ]
  },
  {
   "cell_type": "code",
   "execution_count": null,
   "metadata": {},
   "outputs": [],
   "source": []
  },
  {
   "cell_type": "code",
   "execution_count": null,
   "metadata": {},
   "outputs": [],
   "source": []
  },
  {
   "cell_type": "code",
   "execution_count": null,
   "metadata": {},
   "outputs": [],
   "source": []
  },
  {
   "cell_type": "code",
   "execution_count": null,
   "metadata": {},
   "outputs": [],
   "source": []
  },
  {
   "cell_type": "markdown",
   "metadata": {},
   "source": [
    "# OLD SCRIPT PARTS"
   ]
  },
  {
   "cell_type": "code",
   "execution_count": null,
   "metadata": {},
   "outputs": [],
   "source": []
  },
  {
   "cell_type": "code",
   "execution_count": null,
   "metadata": {},
   "outputs": [],
   "source": []
  },
  {
   "cell_type": "code",
   "execution_count": null,
   "metadata": {},
   "outputs": [],
   "source": [
    "gpx=G2sc.G2Project(os.path.join('..','server_workdir','pkfit.gpx'))"
   ]
  },
  {
   "cell_type": "code",
   "execution_count": null,
   "metadata": {},
   "outputs": [],
   "source": [
    "h=gpx.histograms()\n",
    "h[0].data"
   ]
  },
  {
   "cell_type": "code",
   "execution_count": null,
   "metadata": {},
   "outputs": [],
   "source": []
  },
  {
   "cell_type": "code",
   "execution_count": null,
   "metadata": {},
   "outputs": [],
   "source": [
    "ScriptDirectory=os.getcwd()\n",
    "GitLabDirectory=os.path.dirname(os.getcwd())\n",
    "ExampleDataDirectory=os.path.join(GitLabDirectory,\"ExampleData\",\"Example01\")\n",
    "SaveDataDirectory=os.path.join(GitLabDirectory,\"SaveData\")"
   ]
  },
  {
   "cell_type": "code",
   "execution_count": null,
   "metadata": {},
   "outputs": [],
   "source": [
    "GitLabDirectory"
   ]
  },
  {
   "cell_type": "code",
   "execution_count": null,
   "metadata": {
    "scrolled": true
   },
   "outputs": [],
   "source": [
    "\n",
    "datadir = os.path.expanduser(ExampleDataDirectory)\n",
    "SaveDir= os.path.expanduser(SaveDataDirectory)\n",
    "DataPathWrap = lambda fil: os.path.join(datadir,fil)\n",
    "SaveWrap = lambda fil: os.path.join(SaveDir,fil)\n",
    "gpx = G2sc.G2Project(newgpx=SaveWrap('pkfit.gpx'))\n",
    "hist = gpx.add_powder_histogram(DataPathWrap('Gonio_BB-HD-Cu_Gallipix3d[30-120]_New_Control_proper_power.xrdml'),\n",
    "                                DataPathWrap('TestCalibration.instprm'), # need to get a \n",
    "                                fmthint='Panalytical xrdml (xml)', databank=1, instbank=1)"
   ]
  },
  {
   "cell_type": "code",
   "execution_count": null,
   "metadata": {},
   "outputs": [],
   "source": [
    "# Exploring the data structure.\n",
    "# For more details see the developers documentation \n",
    "# https://gsas-ii.readthedocs.io/en/latest/index.html"
   ]
  },
  {
   "cell_type": "code",
   "execution_count": null,
   "metadata": {},
   "outputs": [],
   "source": [
    "#Alternate Data "
   ]
  },
  {
   "cell_type": "code",
   "execution_count": null,
   "metadata": {
    "scrolled": false
   },
   "outputs": [],
   "source": [
    "# ScriptDirectory=os.getcwd()\n",
    "# GitLabDirectory=os.path.dirname(os.getcwd())\n",
    "# ExampleDataDirectory=os.path.join(GitLabDirectory,\"ExampleData/Example01\")\n",
    "# SaveDataDirectory=os.path.join(GitLabDirectory,\"SaveData\")\n",
    "\n",
    "# datadir = os.path.expanduser(ExampleDataDirectory)\n",
    "# SaveDir= os.path.expanduser(SaveDataDirectory)\n",
    "# DataPathWrap = lambda fil: os.path.join(datadir,fil)\n",
    "# SaveWrap = lambda fil: os.path.join(SaveDir,fil)\n",
    "# gpx = G2sc.G2Project(newgpx=SaveWrap('pkfit.gpx'))\n",
    "# hist = gpx.add_powder_histogram(DataPathWrap('Gonio_BB-HD-Cu_Gallipix3d[30-120]_New_Control_proper_power.xrdml'),\n",
    "#                                 DataPathWrap('TestCalibration.instprm'), # need to get a \n",
    "#                                 fmthint='Panalytical xrdml (xml)', databank=1, instbank=1)"
   ]
  },
  {
   "cell_type": "code",
   "execution_count": null,
   "metadata": {
    "scrolled": true
   },
   "outputs": [],
   "source": [
    "#hist.data['data'][0]['hId']\n",
    "#hist.data['Comments']\n",
    "#hist['data']['hId'].data"
   ]
  },
  {
   "cell_type": "code",
   "execution_count": null,
   "metadata": {
    "scrolled": true
   },
   "outputs": [],
   "source": [
    "#len(hist.data['data']) # 3 objects\n",
    "\n",
    "#hist.data['data'][0] # dict: with some kind of meta-info?\n",
    "#hist.data['data'][1] # np.array: see below\n",
    "#hist.data['data'][2] # string: file name"
   ]
  },
  {
   "cell_type": "markdown",
   "metadata": {},
   "source": [
    "# From: https://gsas-ii.readthedocs.io/en/latest/GSASIIobj.html?highlight=Powder%20Diffraction%20Tree#powder-diffraction-tree-items\n",
    "    \n",
    "    Data \t\t\n",
    "\n",
    "(list) The data consist of a list of 6 np.arrays containing in order:\n",
    "\n",
    "    the x-postions (two-theta in degrees),\n",
    "    the intensity values (Yobs),\n",
    "    the weights for each Yobs value\n",
    "    the computed intensity values (Ycalc)\n",
    "    the background values\n",
    "    Yobs-Ycalc\n"
   ]
  },
  {
   "cell_type": "code",
   "execution_count": null,
   "metadata": {},
   "outputs": [],
   "source": [
    "plt.plot(hist.data['data'][1][0], hist.data['data'][1][1])\n",
    "plt.xlabel(\"2theta\")\n",
    "plt.ylabel(\"intensity\")\n",
    "plt.show()\n"
   ]
  },
  {
   "cell_type": "markdown",
   "metadata": {},
   "source": [
    "## Add phases to the project"
   ]
  },
  {
   "cell_type": "code",
   "execution_count": null,
   "metadata": {},
   "outputs": [],
   "source": [
    "PhaseAustenite = gpx.add_phase(DataPathWrap(\"austenite-Duplex.cif\"),\n",
    "         phasename=\"Austenite\",fmthint='CIF')\n",
    "\n",
    "PhaseFerrite = gpx.add_phase(DataPathWrap(\"ferrite-Duplex.cif\"),\n",
    "         phasename=\"Ferrite\",fmthint='CIF')"
   ]
  },
  {
   "cell_type": "code",
   "execution_count": null,
   "metadata": {},
   "outputs": [],
   "source": [
    "## Guess locations for peaks based on lattice parameter"
   ]
  },
  {
   "cell_type": "code",
   "execution_count": null,
   "metadata": {},
   "outputs": [],
   "source": [
    "# Read the lattice parameter \n",
    "#a0_Austenite=PhaseAustenite.data['General']['Cell'][1]\n",
    "#a0_Ferrite=PhaseFerrite.data['General']['Cell'][1]\n",
    "\n",
    "# Fit values to check if the Peak Extraction has better luck\n",
    "a0_Austenite=3.600\n",
    "a0_Ferrite=2.8762"
   ]
  },
  {
   "cell_type": "code",
   "execution_count": null,
   "metadata": {},
   "outputs": [],
   "source": []
  },
  {
   "cell_type": "code",
   "execution_count": null,
   "metadata": {},
   "outputs": [],
   "source": [
    "# Find the ka1 wavelength\n",
    "# hist.data['Comments']\n",
    "\n",
    "Ka1_wavelength=float([s for s in hist.data['Comments'] if s.startswith('Ka1')][0].split('=')[1])\n",
    "\n",
    "# Hardcode for testing\n",
    "#Ka1_wavelength=2.29092 # Cr wavelength for testing"
   ]
  },
  {
   "cell_type": "code",
   "execution_count": null,
   "metadata": {},
   "outputs": [],
   "source": []
  },
  {
   "cell_type": "markdown",
   "metadata": {},
   "source": [
    "# Calculate locations of peaks from .cif file\n",
    "\n"
   ]
  },
  {
   "cell_type": "markdown",
   "metadata": {},
   "source": [
    "## Bragg diffraction\n",
    "n * lambda=2 * d * sin(theta)"
   ]
  },
  {
   "cell_type": "code",
   "execution_count": null,
   "metadata": {},
   "outputs": [],
   "source": [
    "#hardcoding HKL lists for now, likely better ways to do this later...\n",
    "HKL_BCC=[[1,1,0],[2,0,0],[2,1,1],[2,2,0],[3,1,0],[2,2,2],[3,2,1],[4,1,1]]\n",
    "HKL_FCC=[[1,1,1],[2,0,0],[2,2,0],[3,1,1],[2,2,2],[4,0,0],[3,3,1],[4,2,0],[4,2,2]]"
   ]
  },
  {
   "cell_type": "code",
   "execution_count": null,
   "metadata": {},
   "outputs": [],
   "source": [
    "#for hkl in HKL_BCC:\n",
    "#    d=(a0_Ferrite/ math.sqrt(hkl[0]*hkl[0]+hkl[1]*hkl[1]+hkl[2]*hkl[2]))   \n",
    "    \n",
    "d_BCC=[a0_Ferrite/ math.sqrt(hkl[0]*hkl[0]+hkl[1]*hkl[1]+hkl[2]*hkl[2]) for hkl in HKL_BCC]\n",
    "SinTheta_BCC=[1*Ka1_wavelength/(2*d) for d in d_BCC]\n",
    "\n",
    "d_FCC=[a0_Austenite/ math.sqrt(hkl[0]*hkl[0]+hkl[1]*hkl[1]+hkl[2]*hkl[2]) for hkl in HKL_FCC]\n",
    "SinTheta_FCC=[1*Ka1_wavelength/(2*d) for d in d_FCC]"
   ]
  },
  {
   "cell_type": "code",
   "execution_count": null,
   "metadata": {},
   "outputs": [],
   "source": [
    "d_BCC"
   ]
  },
  {
   "cell_type": "code",
   "execution_count": null,
   "metadata": {},
   "outputs": [],
   "source": [
    "# Create a list of 2Theta values from the dspacing and wavelength. Mark any non-physical values with np.nan\n",
    "TwoTheta_BCC=[np.nan]*len(SinTheta_BCC)\n",
    "for i,value in enumerate(SinTheta_BCC):\n",
    "    #print(value)\n",
    "    try:\n",
    "        TwoTheta_BCC[i]=(2*math.degrees(math.asin(value)))\n",
    "    except:\n",
    "        TwoTheta_BCC[i]=(np.nan)\n",
    "#print(TwoTheta_BCC)\n",
    "#print(HKL_BCC)       \n",
    "        \n",
    "TwoTheta_FCC=[np.nan]*len(SinTheta_FCC)\n",
    "for i,value in enumerate(SinTheta_FCC):\n",
    "    #print(value)\n",
    "    try:\n",
    "        TwoTheta_FCC[i]=(2*math.degrees(math.asin(value)))\n",
    "    except:\n",
    "        TwoTheta_FCC[i]=(np.nan)\n",
    "#print(TwoTheta_FCC)\n",
    "#print(HKL_FCC)\n",
    "\n"
   ]
  },
  {
   "cell_type": "code",
   "execution_count": null,
   "metadata": {},
   "outputs": [],
   "source": [
    "# Create a list of TwoTheta in the data range\n",
    "#print(max(hist.data['data'][1][0]))\n",
    "\n",
    "TwoThetaInRange_BCC=[np.nan if i > max(hist.data['data'][1][0]) else i for i in TwoTheta_BCC]\n",
    "TwoThetaInRange_BCC=[np.nan if i < min(hist.data['data'][1][0]) else i for i in TwoThetaInRange_BCC]\n",
    "\n",
    "TwoThetaInRange_FCC=[np.nan if i > max(hist.data['data'][1][0]) else i for i in TwoTheta_FCC]\n",
    "TwoThetaInRange_FCC=[np.nan if i < min(hist.data['data'][1][0]) else i for i in TwoThetaInRange_FCC]\n",
    "\n",
    "\n",
    "#print(TwoTheta_FCC)\n",
    "#print(TwoThetaInRange_FCC)\n",
    "\n"
   ]
  },
  {
   "cell_type": "code",
   "execution_count": null,
   "metadata": {},
   "outputs": [],
   "source": [
    "PeaksList=[]\n",
    "PeaksList = np.array(TwoThetaInRange_BCC)[~np.isnan(np.array(TwoThetaInRange_BCC))]\n",
    "PeaksList = np.concatenate((PeaksList,\n",
    "                           np.array(TwoThetaInRange_FCC)[~np.isnan(np.array(TwoThetaInRange_FCC))]),\n",
    "                           axis=0)\n",
    "PeaksList=list(PeaksList)\n",
    "# Don't sort, it actually makes keeping track of the different items harder...\n",
    "# PeaksList.sort()"
   ]
  },
  {
   "cell_type": "code",
   "execution_count": null,
   "metadata": {},
   "outputs": [],
   "source": [
    "print(PeaksList)"
   ]
  },
  {
   "cell_type": "code",
   "execution_count": null,
   "metadata": {},
   "outputs": [],
   "source": []
  },
  {
   "cell_type": "code",
   "execution_count": null,
   "metadata": {},
   "outputs": [],
   "source": [
    "#CIF is slightly off, kludge for now...\n",
    "# Likely need to refine, adjust lattice parameters and start over again with peaks with non-negative intensities\n",
    "# Or fix the negative intensities...\n",
    "PeaksList=[x+0.5 for x in PeaksList]"
   ]
  },
  {
   "cell_type": "code",
   "execution_count": null,
   "metadata": {},
   "outputs": [],
   "source": []
  },
  {
   "cell_type": "code",
   "execution_count": null,
   "metadata": {},
   "outputs": [],
   "source": [
    "# reset the peak list in case of errors...\n",
    "hist.Peaks['peaks']=[]"
   ]
  },
  {
   "cell_type": "markdown",
   "metadata": {},
   "source": [
    "## Start Fitting"
   ]
  },
  {
   "cell_type": "code",
   "execution_count": null,
   "metadata": {
    "scrolled": true
   },
   "outputs": [],
   "source": []
  },
  {
   "cell_type": "code",
   "execution_count": null,
   "metadata": {},
   "outputs": [],
   "source": []
  },
  {
   "cell_type": "code",
   "execution_count": null,
   "metadata": {},
   "outputs": [],
   "source": [
    "# Add controls for number of cycles?\n",
    "\n",
    "hist.set_refinements({'Background': {\"no. coeffs\": 5,'type': 'chebyschev-1', 'refine': True}})\n",
    "hist.refine_peaks()"
   ]
  },
  {
   "cell_type": "code",
   "execution_count": null,
   "metadata": {},
   "outputs": [],
   "source": [
    "plt.scatter(hist.data['data'][1][0], hist.data['data'][1][1], label='data', color='0.7')\n",
    "plt.plot(hist.data['data'][1][0], hist.data['data'][1][4], label='background', color='r')\n",
    "plt.plot(hist.data['data'][1][0], hist.data['data'][1][3], label='fit', color='b')\n",
    "plt.xlabel(\"2theta\")\n",
    "plt.ylabel(\"intensity\")\n",
    "plt.legend()\n",
    "plt.show()"
   ]
  },
  {
   "cell_type": "markdown",
   "metadata": {},
   "source": [
    "## Add a few peaks to the list\n",
    "\n",
    "- It seems like the peak positions are slightly off from the .cif file (about 0.4°)\n",
    "- This results in negative intensities for some of the higher peaks\n",
    "- Maybe look for maxima?  Or a series of fit sequences?\n",
    "- Error check negative peaks?"
   ]
  },
  {
   "cell_type": "code",
   "execution_count": null,
   "metadata": {},
   "outputs": [],
   "source": [
    "#for peak in PeaksList[0:5]:\n",
    "for peak in PeaksList:\n",
    "    hist.add_peak(1, ttheta=peak)\n",
    "\n",
    "\n"
   ]
  },
  {
   "cell_type": "code",
   "execution_count": null,
   "metadata": {},
   "outputs": [],
   "source": []
  },
  {
   "cell_type": "code",
   "execution_count": null,
   "metadata": {
    "scrolled": false
   },
   "outputs": [],
   "source": [
    "# Need to use this order, otherwise fitting gets unstable\n",
    "hist.set_peakFlags(pos=False,area=True,sig=False,gam=False )\n",
    "hist.refine_peaks(mode='useIP')\n",
    "\n",
    "# Resetting the value doesn't seem to work...\n",
    "# for i,value in enumerate(hist.Peaks['peaks']):\n",
    "#     print(value[2])\n",
    "#     if value[2]<0:\n",
    "#         print(hist.Peaks['peaks'][i][2],-value[2])\n",
    "#         hist.Peaks['peaks'][i][2]=-value[2]\n",
    "        \n",
    "# hist.set_peakFlags(pos=True)\n",
    "# hist.refine_peaks('hold')\n",
    "        \n",
    "hist.set_peakFlags(pos=True,area=True,sig=False,gam=False)\n",
    "hist.refine_peaks(mode='useIP')\n",
    "hist.set_peakFlags(pos=True,area=True,sig=True,gam=False)\n",
    "hist.refine_peaks(mode='useIP')\n",
    "hist.set_peakFlags(pos=True,area=True,sig=False,gam=True)\n",
    "hist.refine_peaks(mode='hold')"
   ]
  },
  {
   "cell_type": "code",
   "execution_count": null,
   "metadata": {},
   "outputs": [],
   "source": [
    "hist?"
   ]
  },
  {
   "cell_type": "code",
   "execution_count": null,
   "metadata": {
    "scrolled": true
   },
   "outputs": [],
   "source": [
    "hist.data['data']"
   ]
  },
  {
   "cell_type": "code",
   "execution_count": null,
   "metadata": {},
   "outputs": [],
   "source": [
    "hist.data.keys()\n"
   ]
  },
  {
   "cell_type": "code",
   "execution_count": null,
   "metadata": {},
   "outputs": [],
   "source": [
    "hist.data['Peak Fit Rvals']['GOF']"
   ]
  },
  {
   "cell_type": "code",
   "execution_count": null,
   "metadata": {},
   "outputs": [],
   "source": [
    "#hist.set_peakFlags(area=True,pos=True,sig=True)"
   ]
  },
  {
   "cell_type": "code",
   "execution_count": null,
   "metadata": {},
   "outputs": [],
   "source": []
  },
  {
   "cell_type": "code",
   "execution_count": null,
   "metadata": {},
   "outputs": [],
   "source": [
    "\n",
    "plt.xlim([40,120])\n",
    "\n",
    "plt.scatter(hist.data['data'][1][0], hist.data['data'][1][1], label='data', color='0.7')\n",
    "plt.plot(hist.data['data'][1][0], hist.data['data'][1][4], label='background', color='r')\n",
    "plt.plot(hist.data['data'][1][0], hist.data['data'][1][3], label='fit', color='b')\n",
    "plt.xlabel(\"2theta\")\n",
    "plt.ylabel(\"intensity\")\n",
    "plt.legend()\n",
    "plt.show()"
   ]
  },
  {
   "cell_type": "code",
   "execution_count": null,
   "metadata": {},
   "outputs": [],
   "source": [
    "\n",
    "plt.xlim([44,45])\n",
    "\n",
    "plt.scatter(hist.data['data'][1][0], hist.data['data'][1][1], label='data', color='0.7')\n",
    "plt.plot(hist.data['data'][1][0], hist.data['data'][1][4], label='background', color='r')\n",
    "plt.plot(hist.data['data'][1][0], hist.data['data'][1][3], label='fit', color='b')\n",
    "plt.xlabel(\"2theta\")\n",
    "plt.ylabel(\"intensity\")\n",
    "plt.legend()\n",
    "plt.show()"
   ]
  },
  {
   "cell_type": "code",
   "execution_count": null,
   "metadata": {},
   "outputs": [],
   "source": [
    "type(hist)"
   ]
  },
  {
   "cell_type": "code",
   "execution_count": null,
   "metadata": {},
   "outputs": [],
   "source": [
    "hist.Peaks['peaks'][0][0]"
   ]
  },
  {
   "cell_type": "code",
   "execution_count": null,
   "metadata": {},
   "outputs": [],
   "source": [
    "for i,value in enumerate(hist.Peaks['peaks']):\n",
    "    print(value[2])\n",
    "    if value[2]<0:\n",
    "        print(hist.Peaks['peaks'][i][2],-value[2])\n",
    "        hist.Peaks['peaks'][i][2]=-value[2]\n",
    "# hist.PeakList[0][0]=0\n",
    "print(hist.PeakList)"
   ]
  },
  {
   "cell_type": "code",
   "execution_count": null,
   "metadata": {},
   "outputs": [],
   "source": [
    "for i,value in enumerate(hist.PeakList):\n",
    "    print(value[1])\n",
    "    if value[1]<0:\n",
    "        print(hist.PeakList[i][1],-value[1])\n",
    "        hist.PeakList[i][1]=-value[1]\n",
    "hist.PeakList[0][0]=0\n",
    "print(hist.PeakList)"
   ]
  },
  {
   "cell_type": "code",
   "execution_count": null,
   "metadata": {},
   "outputs": [],
   "source": []
  },
  {
   "cell_type": "markdown",
   "metadata": {},
   "source": [
    "### Determine background values\n",
    "\n",
    "- Using fit/data counts over the range risks including nearby peaks"
   ]
  },
  {
   "cell_type": "code",
   "execution_count": null,
   "metadata": {},
   "outputs": [],
   "source": [
    "for peak in hist.data['Peak List']['peaks']:\n",
    "    print(peak)\n",
    "    print(peak[0], 4*peak[4]/100)\n",
    "    x_min=peak[0]- 4*peak[4]/100\n",
    "    x_max=peak[0]+4*peak[4]/100\n",
    "    \n",
    "    indexes = [index for index, value in enumerate(hist.data['data'][1][0]) if value > x_min and value < x_max ]\n",
    "\n",
    "    back_counts=0\n",
    "    data_counts=0\n",
    "    fit_counts=0\n",
    "    \n",
    "    for index in indexes:\n",
    "    \n",
    "        back_counts=back_counts+hist.data['data'][1][4][index]\n",
    "        fit_counts=fit_counts+hist.data['data'][1][3][index]\n",
    "        data_counts=data_counts+hist.data['data'][1][1][index]\n",
    "        # print(index, hist.data['data'][1][0][index],hist.data['data'][1][4][index])\n",
    "    #print(peak[2],back_counts,peak[2]/back_counts,\"\\n\")\n",
    "    print(peak[2]/math.sqrt(back_counts+peak[2]))\n",
    "    print(peak[2],back_counts,back_counts+peak[2], math.sqrt(back_counts+peak[2]))\n",
    "    print(\"\\n\")"
   ]
  },
  {
   "cell_type": "code",
   "execution_count": null,
   "metadata": {},
   "outputs": [],
   "source": []
  },
  {
   "cell_type": "code",
   "execution_count": null,
   "metadata": {},
   "outputs": [],
   "source": [
    "hist.data['data'][1][0], hist.data['data'][1][4],"
   ]
  },
  {
   "cell_type": "code",
   "execution_count": null,
   "metadata": {},
   "outputs": [],
   "source": []
  },
  {
   "cell_type": "markdown",
   "metadata": {},
   "source": [
    "### Recreate the lattice parameter a_0 from fit data\n",
    "Added 2021 Apr 01 - AC\n",
    "\n",
    "\n",
    "*We should probably work out data structures before too long*"
   ]
  },
  {
   "cell_type": "code",
   "execution_count": null,
   "metadata": {},
   "outputs": [],
   "source": []
  },
  {
   "cell_type": "code",
   "execution_count": null,
   "metadata": {},
   "outputs": [],
   "source": [
    "#Find the hkls in range (may not be the ones fit, need to check)\n",
    "\n",
    "#TwoThetaInRange_BCC\n",
    "#HKL_BCC\n",
    "\n",
    "#Merged with BCC, then FCC\n",
    "hkl_list=[]\n",
    "for i,row in enumerate(TwoThetaInRange_BCC):\n",
    "    if np.isfinite(row):\n",
    "        hkl_list.append(HKL_BCC[i])\n",
    "for i,row in enumerate(TwoThetaInRange_FCC):\n",
    "    if np.isfinite(row):\n",
    "        hkl_list.append(HKL_FCC[i])\n",
    "        \n",
    "dspace_list=[]\n",
    "for row in hkl_list:\n",
    "    dspace_list.append(math.sqrt(row[0]*row[0]+row[1]*row[1]+row[2]*row[2]))"
   ]
  },
  {
   "cell_type": "code",
   "execution_count": null,
   "metadata": {},
   "outputs": [],
   "source": [
    "#hkl_list\n",
    "dspace_list"
   ]
  },
  {
   "cell_type": "code",
   "execution_count": null,
   "metadata": {},
   "outputs": [],
   "source": [
    "# Read the 2theta position\n",
    "hist.Peaks['peaks']\n",
    "FitPos=[row[0] for row in hist.Peaks['peaks']] # only way to access column in list of lists\n",
    "\n",
    "# Merge to determine the hkl\n",
    "\n",
    "\n",
    "a0_list=[]\n",
    "# probably should check if the lengths are the same\n",
    "if len(FitPos) == len(dspace_list):\n",
    "    for i,row in enumerate(FitPos):\n",
    "        #row/2.0 since row is 2theta...\n",
    "        a0_list.append((Ka1_wavelength*dspace_list[i])/(2*math.sin(math.radians(row/2.0))))\n",
    "        print(row,math.sin(math.radians(row/2.0)),dspace_list[i],a0_list[i])\n",
    "else:\n",
    "    print(\"These are not the same length\")\n",
    "\n",
    "# \n",
    "#n * lambda=2 * d * sin(theta)\n",
    "#Ka1_wavelength\n",
    "\n",
    "#[2*math.sin(math.radians(row))* for row in FitPos]\n",
    "\n",
    "#hist.Peaks['sigDict']"
   ]
  },
  {
   "cell_type": "code",
   "execution_count": null,
   "metadata": {},
   "outputs": [],
   "source": [
    "# Looks like it does things in order, but not verified...\n",
    "pos_keys=[key for key, value in hist.Peaks['sigDict'].items() if 'pos' in key]\n",
    "\n",
    "FitPos_uncert=[]\n",
    "for name in pos_keys:\n",
    "    FitPos_uncert.append(hist.Peaks['sigDict'][name])"
   ]
  },
  {
   "cell_type": "code",
   "execution_count": null,
   "metadata": {},
   "outputs": [],
   "source": [
    "# upper and lower bounds on uncertainties\n",
    "a0_uncert_LB=[]\n",
    "a0_uncert_UB=[]\n",
    "if len(FitPos_uncert) == len(dspace_list):\n",
    "    for i,row in enumerate(FitPos_uncert):\n",
    "        #row/2.0 since row is 2theta...\n",
    "        a0_uncert_UB.append((Ka1_wavelength*dspace_list[i])/(2*math.sin(math.radians((FitPos[i]+row)/2.0))))\n",
    "        a0_uncert_LB.append((Ka1_wavelength*dspace_list[i])/(2*math.sin(math.radians((FitPos[i]-row)/2.0))))\n",
    "        #print(row,math.sin(math.radians(row/2.0)),dspace_list[i],a0_list[i])\n",
    "else:\n",
    "    print(\"These are not the same length\")"
   ]
  },
  {
   "cell_type": "code",
   "execution_count": null,
   "metadata": {},
   "outputs": [],
   "source": [
    "print(a0_uncert_LB)\n",
    "\n",
    "print(a0_list)\n",
    "\n",
    "print(a0_uncert_UB)"
   ]
  },
  {
   "cell_type": "code",
   "execution_count": null,
   "metadata": {},
   "outputs": [],
   "source": [
    "hist.Peaks['sigDict']"
   ]
  },
  {
   "cell_type": "code",
   "execution_count": null,
   "metadata": {},
   "outputs": [],
   "source": [
    "a0_list"
   ]
  },
  {
   "cell_type": "markdown",
   "metadata": {},
   "source": [
    "### Maybe fit entire pattern for lattice parameters, then try peakfitting?\n",
    "- Seems like it works ok in the GUI, but need to allow the phase fraction to be refined (only on one)\n",
    "- Add constraint, (austenite + ferrite  =1) 0:0:scale, 1:0:scale\n",
    "- Need to refine both with the constraint enabled.  \n",
    "- weight fracitons are quite different than the phase fractions (lattice cell dimensions?)\n",
    "- Over estimation of the peak hights at first, then underestimate later\n",
    "- austenite=3.60097, ferrite=2.87564\n",
    "- Tried these parameters, had worse luck fitting...\n",
    "- Maybe use the scale factor from the sample parameters to get the areas close?"
   ]
  },
  {
   "cell_type": "code",
   "execution_count": null,
   "metadata": {},
   "outputs": [],
   "source": []
  },
  {
   "cell_type": "code",
   "execution_count": null,
   "metadata": {},
   "outputs": [],
   "source": []
  },
  {
   "cell_type": "code",
   "execution_count": null,
   "metadata": {},
   "outputs": [],
   "source": []
  },
  {
   "cell_type": "code",
   "execution_count": null,
   "metadata": {},
   "outputs": [],
   "source": [
    "# Not working properly yet..."
   ]
  },
  {
   "cell_type": "code",
   "execution_count": null,
   "metadata": {},
   "outputs": [],
   "source": [
    "# print('peak positions: ',[i[0] for i in hist.PeakList])\n",
    "# for i in range(len(hist.Peaks['peaks'])):\n",
    "#     print('peak',i,'pos=',hist.Peaks['peaks'][i][0],'sig=',hist.Peaks['sigDict']['pos'+str(i)])\n"
   ]
  },
  {
   "cell_type": "code",
   "execution_count": null,
   "metadata": {},
   "outputs": [],
   "source": [
    "# for peak in PeaksList:\n",
    "#     hist.add_peak(1, ttheta=peak)\n",
    "# hist.set_peakFlags(area=True,pos=True,sig=True)\n"
   ]
  },
  {
   "cell_type": "markdown",
   "metadata": {},
   "source": [
    "# pattern simulation, extract intensities from that?\n",
    "https://gsas-ii.readthedocs.io/en/latest/GSASIIscriptable.html#pattern-simulation"
   ]
  },
  {
   "cell_type": "code",
   "execution_count": null,
   "metadata": {},
   "outputs": [],
   "source": [
    "gpx = G2sc.G2Project(newgpx=SaveWrap('Austenite-sim.gpx')) # create a project    \n",
    "\n",
    "PhaseAustenite = gpx.add_phase(DataPathWrap(\"austenite-Duplex.cif\"),\n",
    "         phasename=\"Austenite\",fmthint='CIF')\n",
    "\n",
    "#PhaseFerrite = gpx.add_phase(DataPathWrap(\"ferrite-Duplex.cif\"),\n",
    "#         phasename=\"Ferrite\",fmthint='CIF')\n",
    "\n",
    "histogram_scale=100.\n",
    "\n",
    "# add a simulated histogram and link it to the previous phase(s)\n",
    "hist1 = gpx.add_simulated_powder_histogram(\"Austenite simulation\",\n",
    "            DataPathWrap('TestCalibration.instprm'),5.,120.,Npoints=5000,\n",
    "            phases=gpx.phases(),scale=histogram_scale)\n",
    "gpx.do_refinements()   # calculate pattern\n",
    "gpx.save()"
   ]
  },
  {
   "cell_type": "code",
   "execution_count": null,
   "metadata": {},
   "outputs": [],
   "source": [
    "plt.xlim([40,120])\n",
    "\n",
    "plt.plot(hist1.data['data'][1][0], hist1.data['data'][1][1])\n",
    "plt.xlabel(\"2theta\")\n",
    "plt.ylabel(\"intensity\")\n",
    "plt.show()\n"
   ]
  },
  {
   "cell_type": "markdown",
   "metadata": {},
   "source": [
    "### Theoretical intensities are included in the Reflection Lists\n",
    "- see line ~817 in GSASIIobs.py for the full description of the reflection lists\n",
    "columns 0,1,2: h,k,l\n",
    "column 5: 2-theta\n",
    "column 9: Calculated structure factor squared (inludes anamolous scattering and thermal parameters?)\n",
    "column 11: Intensity correction (scales, polarization, preferred orientation, absorbtion, extinction)\n",
    "\n",
    "It's not clear where thermal parameters or the unit cell volume come in.\n",
    "Also not clear where "
   ]
  },
  {
   "cell_type": "code",
   "execution_count": null,
   "metadata": {},
   "outputs": [],
   "source": [
    "hist1.data"
   ]
  },
  {
   "cell_type": "code",
   "execution_count": null,
   "metadata": {},
   "outputs": [],
   "source": [
    "hist1.data['Reflection Lists']['Austenite']['RefList'][:,9]*hist1.data['Reflection Lists']['Austenite']['RefList'][:,11]"
   ]
  },
  {
   "cell_type": "code",
   "execution_count": null,
   "metadata": {},
   "outputs": [],
   "source": [
    "hist1.data['Reflection Lists']['Austenite']['RefList'][:,11]"
   ]
  },
  {
   "cell_type": "markdown",
   "metadata": {},
   "source": [
    "#### Array of the strucutre factors and intensity corrections (theoretical intensities?) for this material"
   ]
  },
  {
   "cell_type": "code",
   "execution_count": null,
   "metadata": {},
   "outputs": [],
   "source": [
    "hist1.data['Reflection Lists']['Austenite']['RefList'][:,9] * hist1.data['Reflection Lists']['Austenite']['RefList'][:,11] / histogram_scale"
   ]
  },
  {
   "cell_type": "code",
   "execution_count": null,
   "metadata": {},
   "outputs": [],
   "source": [
    "hist1.data['Reflection Lists']"
   ]
  },
  {
   "cell_type": "code",
   "execution_count": null,
   "metadata": {},
   "outputs": [],
   "source": [
    "PhaseAustenite"
   ]
  },
  {
   "cell_type": "code",
   "execution_count": null,
   "metadata": {},
   "outputs": [],
   "source": []
  },
  {
   "cell_type": "code",
   "execution_count": null,
   "metadata": {},
   "outputs": [],
   "source": [
    "gpx = G2sc.G2Project(newgpx=SaveWrap('Ferrite-sim.gpx')) # create a project    \n",
    "\n",
    "PhaseFerrite = gpx.add_phase(DataPathWrap(\"ferrite-Duplex.cif\"),\n",
    "         phasename=\"Ferrite\",fmthint='CIF')\n",
    "\n",
    "#PhaseFerrite = gpx.add_phase(DataPathWrap(\"ferrite-Duplex.cif\"),\n",
    "#         phasename=\"Ferrite\",fmthint='CIF')\n",
    "\n",
    "# add a simulated histogram and link it to the previous phase(s)\n",
    "hist2 = gpx.add_simulated_powder_histogram(\"Ferrite simulation\",\n",
    "            DataPathWrap('TestCalibration.instprm'),5.,120.,Npoints=1000,\n",
    "            phases=gpx.phases(),scale=500000.)\n",
    "gpx.do_refinements()   # calculate pattern\n",
    "gpx.save()"
   ]
  },
  {
   "cell_type": "code",
   "execution_count": null,
   "metadata": {},
   "outputs": [],
   "source": []
  },
  {
   "cell_type": "markdown",
   "metadata": {},
   "source": [
    "## Used the GUI to investigate this data a bit more.  \n",
    "- Peakfits like I did above seem to work ok.  \n",
    "- Values of integrated intensity are closest to the I100 column of the reflection lists\n",
    "- Intensities and F values between this and the magic spreadsheet don't agree\n",
    "- Compositions are slightly different. Only wt% used in magic spreadsheet."
   ]
  },
  {
   "cell_type": "code",
   "execution_count": null,
   "metadata": {},
   "outputs": [],
   "source": []
  },
  {
   "cell_type": "code",
   "execution_count": null,
   "metadata": {},
   "outputs": [],
   "source": []
  },
  {
   "cell_type": "code",
   "execution_count": null,
   "metadata": {},
   "outputs": [],
   "source": [
    "### Have not edited below this for austenite calculator"
   ]
  },
  {
   "cell_type": "code",
   "execution_count": null,
   "metadata": {},
   "outputs": [],
   "source": []
  },
  {
   "cell_type": "code",
   "execution_count": null,
   "metadata": {},
   "outputs": [],
   "source": [
    "dlist=[2.0923, 2.0923-0.05, 2.0923+0.05]\n",
    "TOFlist=[]\n",
    "for i in dlist:\n",
    "    print(TOF_calc(i,16324.50,6.86,0.00))\n",
    "    TOFlist.append(TOF_calc(i,16324.50,6.86,0.00))"
   ]
  },
  {
   "cell_type": "code",
   "execution_count": null,
   "metadata": {},
   "outputs": [],
   "source": []
  },
  {
   "cell_type": "code",
   "execution_count": null,
   "metadata": {
    "scrolled": true
   },
   "outputs": [],
   "source": [
    "\n",
    "\n",
    "plt.xlim(TOFlist[1],TOFlist[2])\n",
    "plt.plot(hist.data['data'][1][0], hist.data['data'][1][1])\n",
    "plt.show()"
   ]
  },
  {
   "cell_type": "code",
   "execution_count": null,
   "metadata": {},
   "outputs": [],
   "source": []
  },
  {
   "cell_type": "code",
   "execution_count": null,
   "metadata": {},
   "outputs": [],
   "source": [
    "def OutputData(hist, append, Tick, LowLimit, HighLimit):\n",
    "    # plot fit and difference\n",
    "    plt.figure(figsize=[10,8])\n",
    "    plt.scatter(hist.data['data'][1][0], hist.data['data'][1][1],color='k',label='Data')\n",
    "    plt.plot(hist.data['data'][1][0], hist.data['data'][1][3],color='b',label='Computed Intensity')\n",
    "    plt.plot(hist.data['data'][1][0], hist.data['data'][1][5],'-o',color='g',label='Difference')\n",
    "    # vertical line for place of intial guess\n",
    "    plt.vlines(Tick,0,plt.gca().get_ylim()[0]*0.5)\n",
    "    # horizontal line to benchmark difference plot\n",
    "    plt.hlines(0,plt.gca().get_xlim()[0],plt.gca().get_xlim()[1],'0.7')\n",
    "    plt.xlim(LowLimit, HighLimit)\n",
    "    plt.legend()\n",
    "    # option to view on screen\n",
    "    #plt.show()\n",
    "    # option to save the plot\n",
    "    plt.savefig(\"GSASPeakFit-\"+append+\".png\", dpi=300)\n",
    "\n",
    "    keys = hist.Peaks['sigDict'].keys()\n",
    "    #print(keys)\n",
    "    with open(\"GSASPeakFit-\"+append+\".csv\",'a') as fd:\n",
    "        wr=csv.writer(fd)\n",
    "        dwr=csv.DictWriter(fd, keys)\n",
    "\n",
    "        wr.writerow(['# TOF position (pos)', 'Area (int)','Alpha (alp)','Beta (bet)','Sigma (sig)','Gamma (gam)'])\n",
    "        wr.writerow(['# Peak Parameter List'])\n",
    "        wr.writerow(['# Peak Parameter Flags'])\n",
    "        wr.writerow(hist.Peaks['peaks'][0][0::2])\n",
    "        wr.writerow(hist.Peaks['peaks'][0][1::2])\n",
    "        wr.writerow([\"########################\"])\n",
    "        wr.writerow(['# Background Values'])\n",
    "        wr.writerow(hist['Background'][0][3:])\n",
    "        wr.writerow([\"########################\"])\n",
    "        wr.writerow(['# SigDict Keys'])\n",
    "        wr.writerow(['# SigDict Values'])\n",
    "        dwr.writeheader()\n",
    "        dwr.writerows([hist.Peaks['sigDict']])\n",
    "        wr.writerow([\"########################\"])\n",
    "        wr.writerow(['# Covariance Matrix'])\n",
    "        wr.writerows(np.array(hist['Peak Fit Result'][1]))\n",
    "        wr.writerow([\"########################\"])        \n",
    "        wr.writerow(['# Correlation Matrix'])\n",
    "        wr.writerows(np.corrcoef(hist['Peak Fit Result'][1]))\n",
    "        wr.writerow([\"########################\"])        \n",
    "        wr.writerow(['# Reduced ChiSq (GOF)'])\n",
    "        wr.writerow([hist.data['Peak Fit Rvals']['GOF']])\n",
    "        wr.writerow([\"########################\"])   \n",
    "        wr.writerow(['# Dspacing (1 term) -/+ (3 terms)'])\n",
    "        try:\n",
    "            d=Dspace_calc(hist.Peaks['peaks'][0][0],16324.50,6.86,0.00)\n",
    "            d_minus=Dspace_calc(hist.Peaks['peaks'][0][0]-hist.Peaks['sigDict']['pos0'],16324.50,6.86,0.00)\n",
    "            d_plus=Dspace_calc(hist.Peaks['peaks'][0][0]+hist.Peaks['sigDict']['pos0'],16324.50,6.86,0.00)\n",
    "            wr.writerow([d,d_minus,d_plus])\n",
    "            wr.writerow([d,d-d_minus,d_plus-d])\n",
    "        except:\n",
    "            wr.writerow([Dspace_calc(hist.Peaks['peaks'][0][0],16324.50,6.86,0.00)])             \n",
    "    fd.close()"
   ]
  },
  {
   "cell_type": "code",
   "execution_count": null,
   "metadata": {},
   "outputs": [],
   "source": [
    "for i in range(len(hist.Peaks['peaks'])):\n",
    "    print(i)"
   ]
  },
  {
   "cell_type": "code",
   "execution_count": null,
   "metadata": {},
   "outputs": [],
   "source": [
    "hist['Background'][0][3:]"
   ]
  },
  {
   "cell_type": "code",
   "execution_count": null,
   "metadata": {},
   "outputs": [],
   "source": [
    "hist.Peaks['peaks'][0][0::2]"
   ]
  },
  {
   "cell_type": "code",
   "execution_count": null,
   "metadata": {},
   "outputs": [],
   "source": [
    "hist.Peaks['sigDict']"
   ]
  },
  {
   "cell_type": "code",
   "execution_count": null,
   "metadata": {},
   "outputs": [],
   "source": [
    "#OutputData(hist, \"\", TOFlist[0],TOFlist[1],TOFlist[2])\n",
    "# Doesn't work well prior to fitting"
   ]
  },
  {
   "cell_type": "code",
   "execution_count": null,
   "metadata": {},
   "outputs": [],
   "source": []
  },
  {
   "cell_type": "markdown",
   "metadata": {},
   "source": [
    "# Sequence 1, following Rawplot method"
   ]
  },
  {
   "cell_type": "code",
   "execution_count": null,
   "metadata": {},
   "outputs": [],
   "source": []
  },
  {
   "cell_type": "code",
   "execution_count": null,
   "metadata": {},
   "outputs": [],
   "source": [
    "# Define peaks to fit\n",
    "#Limit is between the 422 and 333 peaks\n",
    "\n",
    "hist.set_refinements({'Limits': [TOFlist[1],TOFlist[2]],  \n",
    "      'Background': {\"no. coeffs\": 2,'type': 'chebyschev-1', 'refine': True}\n",
    "                     })\n",
    "# TOF data isn't listed right now.\n",
    "peak1 = hist.add_peak(1, dspace=2.0923)\n",
    "\n",
    "\n"
   ]
  },
  {
   "cell_type": "code",
   "execution_count": null,
   "metadata": {
    "scrolled": false
   },
   "outputs": [],
   "source": [
    "# Following Rawplot method (seq1)\n",
    "\n",
    "#area alone doesn't work well, since there is no positions\n",
    "hist.set_peakFlags(area=True)\n",
    "hist.refine_peaks()\n",
    "OutputData(hist, \"Seq1-Step1-Area\",TOFlist[0],TOFlist[1],TOFlist[2])\n",
    "\n",
    "#\n",
    "hist.set_peakFlags(area=0,pos=True)\n",
    "hist.refine_peaks()\n",
    "OutputData(hist, \"Seq1-Step2-Pos\",TOFlist[0],TOFlist[1],TOFlist[2])\n",
    "\n",
    "hist.set_peakFlags(area=True,pos=True)\n",
    "hist.refine_peaks()\n",
    "OutputData(hist, \"Seq1-Step3-Pos-Area\",TOFlist[0],TOFlist[1],TOFlist[2])\n",
    "\n",
    "#These don't change sigma and gamma, but they do change alpha and beta...\n",
    "\n",
    "hist.set_peakFlags(area=True, pos=0, sig=True)\n",
    "hist.refine_peaks()\n",
    "OutputData(hist, \"Seq1-Step4-Area-Sig\",TOFlist[0],TOFlist[1],TOFlist[2])\n",
    "\n",
    "#hist.set_peakFlags(area=True, pos=True, gam=True)\n",
    "#hist.refine_peaks()\n",
    "\n",
    "hist.set_peakFlags(area=0, pos=0, sig=0, gam=True)\n",
    "hist.refine_peaks()\n",
    "OutputData(hist, \"Seq1-Step5-Gam\",TOFlist[0],TOFlist[1],TOFlist[2])\n",
    "\n",
    "hist.set_peakFlags(area=True, pos=True, sig=True, gam=0)\n",
    "hist.refine_peaks()\n",
    "OutputData(hist, \"Seq1-Step6-Area-Pos-Sig\",TOFlist[0],TOFlist[1],TOFlist[2])\n",
    "\n",
    "\n",
    "\n",
    "# hist.set_peakFlags(area=True, pos=True,alp=True,bet=True, sig=True, gam=True)\n",
    "# hist.refine_peaks()\n",
    "# OutputData(hist, \"Seq-Area-Pos-Sig-Gam-Alp-Bet\",TOFlist[0],TOFlist[1],TOFlist[2])\n"
   ]
  },
  {
   "cell_type": "code",
   "execution_count": null,
   "metadata": {},
   "outputs": [],
   "source": []
  },
  {
   "cell_type": "markdown",
   "metadata": {},
   "source": [
    "# Sequence 2 (Single background; alpha and beta refined, not gamma)"
   ]
  },
  {
   "cell_type": "code",
   "execution_count": null,
   "metadata": {},
   "outputs": [],
   "source": []
  },
  {
   "cell_type": "code",
   "execution_count": null,
   "metadata": {},
   "outputs": [],
   "source": [
    "# Define peaks to fit\n",
    "#Limit is between the 422 and 333 peaks\n",
    "\n",
    "hist.set_refinements({'Limits': [TOFlist[1],TOFlist[2]],  \n",
    "      'Background': {\"no. coeffs\": 1,'type': 'chebyschev-1', 'refine': True}\n",
    "                     })\n",
    "# TOF data isn't listed right now.\n",
    "peak1 = hist.add_peak(1, dspace=2.0923)\n",
    "\n",
    "\n"
   ]
  },
  {
   "cell_type": "code",
   "execution_count": null,
   "metadata": {
    "scrolled": false
   },
   "outputs": [],
   "source": [
    "# Following Rawplot method (seq2)\n",
    "\n",
    "#area alone doesn't work well, since there is no positions\n",
    "hist.set_peakFlags(area=True)\n",
    "hist.refine_peaks()\n",
    "OutputData(hist, \"Seq2-Step1-Area\",TOFlist[0],TOFlist[1],TOFlist[2])\n",
    "\n",
    "#\n",
    "hist.set_peakFlags(area=0,pos=True)\n",
    "hist.refine_peaks()\n",
    "OutputData(hist, \"Seq2-Step2-Pos\",TOFlist[0],TOFlist[1],TOFlist[2])\n",
    "\n",
    "hist.set_peakFlags(area=True,pos=True)\n",
    "hist.refine_peaks()\n",
    "OutputData(hist, \"Seq2-Step3-Pos-Area\",TOFlist[0],TOFlist[1],TOFlist[2])\n",
    "\n",
    "#These don't change sigma and gamma, but they do change alpha and beta...\n",
    "\n",
    "hist.set_peakFlags(area=True, pos=0, sig=True)\n",
    "hist.refine_peaks()\n",
    "OutputData(hist, \"Seq2-Step4-Area-Sig\",TOFlist[0],TOFlist[1],TOFlist[2])\n",
    "\n",
    "#hist.set_peakFlags(area=True, pos=True, gam=True)\n",
    "#hist.refine_peaks()\n",
    "\n",
    "hist.set_peakFlags(area=0, pos=0, sig=0, alp=True)\n",
    "hist.refine_peaks()\n",
    "OutputData(hist, \"Seq2-Step5-Alp\",TOFlist[0],TOFlist[1],TOFlist[2])\n",
    "\n",
    "hist.set_peakFlags(alp=0, bet=True)\n",
    "hist.refine_peaks()\n",
    "OutputData(hist, \"Seq2-Step6-Bet\",TOFlist[0],TOFlist[1],TOFlist[2])\n",
    "\n",
    "hist.set_peakFlags(area=True, pos=True, sig=True, bet=0)\n",
    "hist.refine_peaks()\n",
    "OutputData(hist, \"Seq2-Step7-Area-Pos-Sig\",TOFlist[0],TOFlist[1],TOFlist[2])\n",
    "\n",
    "\n",
    "\n",
    "# hist.set_peakFlags(area=True, pos=True,alp=True,bet=True, sig=True, gam=True)\n",
    "# hist.refine_peaks()\n",
    "# OutputData(hist, \"Seq-Area-Pos-Sig-Gam-Alp-Bet\",TOFlist[0],TOFlist[1],TOFlist[2])\n"
   ]
  },
  {
   "cell_type": "code",
   "execution_count": null,
   "metadata": {},
   "outputs": [],
   "source": []
  },
  {
   "cell_type": "code",
   "execution_count": null,
   "metadata": {},
   "outputs": [],
   "source": [
    "gpx.get_Covariance(['0:0:Back;0','0:0:Back;1','0:0:pos0','0:0:int0','sig0'])"
   ]
  },
  {
   "cell_type": "code",
   "execution_count": null,
   "metadata": {},
   "outputs": [],
   "source": [
    "hist.keys()"
   ]
  },
  {
   "cell_type": "code",
   "execution_count": null,
   "metadata": {},
   "outputs": [],
   "source": [
    "hist['Background']"
   ]
  },
  {
   "cell_type": "code",
   "execution_count": null,
   "metadata": {},
   "outputs": [],
   "source": [
    "hist['Peak Fit Result'][1]"
   ]
  },
  {
   "cell_type": "code",
   "execution_count": null,
   "metadata": {},
   "outputs": [],
   "source": [
    "np.corrcoef(hist['Peak Fit Result'][1])"
   ]
  },
  {
   "cell_type": "markdown",
   "metadata": {},
   "source": [
    "# Nothing run below this"
   ]
  },
  {
   "cell_type": "code",
   "execution_count": null,
   "metadata": {},
   "outputs": [],
   "source": []
  },
  {
   "cell_type": "code",
   "execution_count": null,
   "metadata": {},
   "outputs": [],
   "source": []
  },
  {
   "cell_type": "code",
   "execution_count": null,
   "metadata": {},
   "outputs": [],
   "source": []
  },
  {
   "cell_type": "code",
   "execution_count": null,
   "metadata": {},
   "outputs": [],
   "source": [
    "hist.Peaks['sigDict']"
   ]
  },
  {
   "cell_type": "code",
   "execution_count": null,
   "metadata": {
    "scrolled": false
   },
   "outputs": [],
   "source": [
    "hist.data"
   ]
  },
  {
   "cell_type": "code",
   "execution_count": null,
   "metadata": {},
   "outputs": [],
   "source": [
    "if 'C' in hist.data['Instrument Parameters'][0]['Type'][0]:\n",
    "    print(\"hi\")\n",
    "else:\n",
    "    print(\"low\")"
   ]
  },
  {
   "cell_type": "code",
   "execution_count": null,
   "metadata": {},
   "outputs": [],
   "source": [
    "hist.data['Peak Fit Rvals']['GOF']"
   ]
  },
  {
   "cell_type": "code",
   "execution_count": null,
   "metadata": {},
   "outputs": [],
   "source": []
  },
  {
   "cell_type": "code",
   "execution_count": null,
   "metadata": {},
   "outputs": [],
   "source": []
  },
  {
   "cell_type": "code",
   "execution_count": null,
   "metadata": {},
   "outputs": [],
   "source": []
  },
  {
   "cell_type": "code",
   "execution_count": null,
   "metadata": {},
   "outputs": [],
   "source": []
  },
  {
   "cell_type": "code",
   "execution_count": null,
   "metadata": {},
   "outputs": [],
   "source": [
    "hist.set_peakFlags(area=True, pos=True, sig=True)\n",
    "hist.refine_peaks()\n",
    "hist.set_peakFlags(area=True, pos=True, gam=True)\n",
    "hist.refine_peaks()\n",
    "hist.set_peakFlags(area=True, pos=True, sig=True, gam=True)\n",
    "hist.refine_peaks()"
   ]
  },
  {
   "cell_type": "code",
   "execution_count": null,
   "metadata": {},
   "outputs": [],
   "source": [
    "print('peak positions: ',[i[0] for i in hist.PeakList])\n",
    "for i in range(len(hist.Peaks['peaks'])):\n",
    "    print('peak',i,'pos=',hist.Peaks['peaks'][i][0],'sig=',hist.Peaks['sigDict']['pos'+str(i)])\n"
   ]
  },
  {
   "cell_type": "code",
   "execution_count": null,
   "metadata": {},
   "outputs": [],
   "source": [
    "hist.Peaks['sigDict']"
   ]
  },
  {
   "cell_type": "code",
   "execution_count": null,
   "metadata": {},
   "outputs": [],
   "source": []
  },
  {
   "cell_type": "code",
   "execution_count": null,
   "metadata": {},
   "outputs": [],
   "source": [
    "# fit peaks\n",
    "plt.plot(hist.data['data'][1][0], hist.data['data'][1][3],label='Computed Intensity')\n",
    "plt.xlim(11752.,40000.)\n",
    "plt.show()"
   ]
  },
  {
   "cell_type": "code",
   "execution_count": null,
   "metadata": {},
   "outputs": [],
   "source": [
    "# fit difference\n",
    "plt.figure(figsize=[10,8])\n",
    "plt.plot(hist.data['data'][1][0], hist.data['data'][1][1],color='k',label='Data')\n",
    "plt.plot(hist.data['data'][1][0], hist.data['data'][1][3],color='b',label='Computed Intensity')\n",
    "plt.plot(hist.data['data'][1][0], hist.data['data'][1][5],color='g',label='Difference')\n",
    "plt.xlim(11752.,40000.)\n",
    "plt.legend()\n",
    "plt.show()"
   ]
  },
  {
   "cell_type": "code",
   "execution_count": null,
   "metadata": {},
   "outputs": [],
   "source": [
    "for i in range(len(hist.Peaks['peaks'])):\n",
    "    print('peak',i)\n",
    "    print('TOF pos=',hist.Peaks['peaks'][i][0],'sig=',hist.Peaks['sigDict']['pos'+str(i)])\n",
    "    print('Dspace pos=', Dspace_calc(hist.Peaks['peaks'][i][0],16324.50,6.86,0.00),\n",
    "          'sig (pos)=',Dspace_calc(hist.Peaks['peaks'][i][0]+hist.Peaks['sigDict']['pos'+str(i)],16324.50,6.86,0.00)-\n",
    "          Dspace_calc(hist.Peaks['peaks'][i][0],16324.50,6.86,0.00),\n",
    "          'sig (neg)=',Dspace_calc(hist.Peaks['peaks'][i][0],16324.50,6.86,0.00)-\n",
    "          Dspace_calc(hist.Peaks['peaks'][i][0]-hist.Peaks['sigDict']['pos'+str(i)],16324.50,6.86,0.00))\n",
    "    \n",
    "    "
   ]
  },
  {
   "cell_type": "code",
   "execution_count": null,
   "metadata": {},
   "outputs": [],
   "source": [
    "print(hist.Peaks)"
   ]
  },
  {
   "cell_type": "markdown",
   "metadata": {},
   "source": [
    "## From GSASIIscriptable.py, lines 4007\n",
    "\n",
    "        :returns: dict with two elements where item\n",
    "          'peaks' is a list of peaks where each element is \n",
    "          [pos,pos-ref,area,area-ref,sig,sig-ref,gam,gam-ref], \n",
    "          where the -ref items are refinement flags and item\n",
    "          'sigDict' is a dict with possible items 'Back;#', \n",
    "          'pos#', 'int#', 'sig#', 'gam#'\n",
    "          \n",
    "Fitting output lists:pos       esd       int       esd      alp     esd     bet     esd      sig       esd       gam       esd      bins\n",
    "\n",
    "The fitting output values correspond to the column values"
   ]
  },
  {
   "cell_type": "code",
   "execution_count": null,
   "metadata": {},
   "outputs": [],
   "source": [
    "#print(hist.Peaks)\n",
    "HistDF=pd.DataFrame(hist.Peaks['peaks'], columns=['pos','pos-ref','area','area-ref','alph',\n",
    "                                                  'alph-ref','bet','bet-ref','Sig','Sig-ref',\n",
    "                                                  'Gam','gam-ref'])\n",
    "print(HistDF)"
   ]
  },
  {
   "cell_type": "code",
   "execution_count": null,
   "metadata": {},
   "outputs": [],
   "source": [
    "print(hist.Peaks['sigDict'])"
   ]
  },
  {
   "cell_type": "code",
   "execution_count": null,
   "metadata": {},
   "outputs": [],
   "source": [
    "SigDF=pd.DataFrame(hist.Peaks['sigDict'])#, columns=['pos','pos-ref','area','area-ref','alph',\n",
    "                                            #      'alph-ref','bet','bet-ref','Sig','Sig-ref',\n",
    "                                            #      'Gam','gam-ref'])\n",
    "print(SigDF)"
   ]
  },
  {
   "cell_type": "code",
   "execution_count": null,
   "metadata": {},
   "outputs": [],
   "source": [
    "DataList=[]\n",
    "for i in range(len(hist.Peaks['peaks'])):\n",
    "    #print('peak',i)\n",
    "    #print('TOF pos=',hist.Peaks['peaks'][i][0],'sig=',hist.Peaks['sigDict']['pos'+str(i)])\n",
    "    DataList.append([i,hist.Peaks['peaks'][i][0],hist.Peaks['sigDict']['pos'+str(i)]])\n",
    "#print(DataList)\n",
    "ListDF=pd.DataFrame(DataList, columns=['Peak index','TOF Pos','TOF esd'])\n",
    "\n",
    "#ListDF['Dspace Pos']=Dspace_calc(ListDF['TOF Pos'],16324.50,6.86,0.00)\n",
    "ListDF['Dspace Pos']=ListDF.apply(lambda x: Dspace_calc(x['TOF Pos'],16324.50,6.86,0.00), axis=1)\n",
    "ListDF['Dspace esd']=ListDF.apply(lambda x: Dspace_calc(x['TOF Pos']+x['TOF esd'],16324.50,6.86,0.00) - \n",
    "                                      Dspace_calc(x['TOF Pos'],16324.50,6.86,0.00), axis=1)\n",
    "print(ListDF)\n",
    "ListDF.to_csv('GSASPeakFit.csv')"
   ]
  },
  {
   "cell_type": "code",
   "execution_count": null,
   "metadata": {},
   "outputs": [],
   "source": [
    "##  See further down on sequential refinements\n",
    "# Sequential Refinement\n",
    "\n",
    "# gpx.set_Controls('cycles',10)"
   ]
  },
  {
   "cell_type": "code",
   "execution_count": null,
   "metadata": {},
   "outputs": [],
   "source": []
  },
  {
   "cell_type": "code",
   "execution_count": null,
   "metadata": {},
   "outputs": [],
   "source": []
  }
 ],
 "metadata": {
  "kernelspec": {
   "display_name": "Python 3 (ipykernel)",
   "language": "python",
   "name": "python3"
  },
  "language_info": {
   "codemirror_mode": {
    "name": "ipython",
    "version": 3
   },
   "file_extension": ".py",
   "mimetype": "text/x-python",
   "name": "python",
   "nbconvert_exporter": "python",
   "pygments_lexer": "ipython3",
   "version": "3.7.11"
  }
 },
 "nbformat": 4,
 "nbformat_minor": 4
}
