{
 "cells": [
  {
   "cell_type": "code",
   "execution_count": 1,
   "metadata": {},
   "outputs": [
    {
     "name": "stdout",
     "output_type": "stream",
     "text": [
      "GSAS-II binary directory: /Users/creuzige/gsas2full/envs/gsas2pkg/GSASII/bindist\n",
      "6 values read from config file /Users/creuzige/gsas2full/envs/gsas2pkg/GSASII/config.py\n"
     ]
    }
   ],
   "source": [
    "import os,sys\n",
    "import matplotlib.pyplot as plt\n",
    "#import pandas as pd  # AC got a 'no module named pandas' error.  Do we need it?\n",
    "import numpy as np\n",
    "import math\n",
    "import csv\n",
    "import scipy\n",
    "\n",
    "# Eventually we'll have to find a common pathway, for now just change if this is commented out.\n",
    "#sys.path.insert(0,'/Users/dtn1/gsas2full/GSASII/') # needed to \"find\" GSAS-II modules\n",
    "sys.path.insert(0,'/Users/creuzige/gsas2full/envs/gsas2pkg/GSASII/') # needed to \"find\" GSAS-II modules\n",
    "\n",
    "import GSASIIscriptable as G2sc"
   ]
  },
  {
   "cell_type": "markdown",
   "metadata": {},
   "source": [
    "#### Convert to keV to use FPcalc"
   ]
  },
  {
   "cell_type": "code",
   "execution_count": 2,
   "metadata": {},
   "outputs": [],
   "source": [
    "def LambdaAng2keV(Lambda):\n",
    "    '''\n",
    "    Convert between wavelength in angstroms and energy in keV\n",
    "    '''\n",
    "    keV=scipy.constants.h*scipy.constants.c/(Lambda*1e-10*scipy.constants.value(\"electron volt\")*1000)\n",
    "    return keV"
   ]
  },
  {
   "cell_type": "markdown",
   "metadata": {},
   "source": [
    "### Hardcoded values\n",
    "- for now, eventually these will be from the data"
   ]
  },
  {
   "cell_type": "code",
   "execution_count": 3,
   "metadata": {
    "scrolled": true
   },
   "outputs": [
    {
     "name": "stdout",
     "output_type": "stream",
     "text": [
      "22.3\n",
      "1.54178\n",
      "0.24611563227503605\n"
     ]
    }
   ],
   "source": [
    "# Theta from Ferrite 110, from Jatczak\n",
    "Theta= 44.60/2 # degrees\n",
    "# Theta= 44.60/2 # degrees\n",
    "print(Theta)\n",
    "\n",
    "\n",
    "# Cu radiation from Jatczak\n",
    "Lambda=1.54178 # angstrom\n",
    "\n",
    "# Cu radiation from GSASII\n",
    "#Lambda=1.5405 # angstrom, 8.0477 keV\n",
    "\n",
    "# K-beta peak\n",
    "#Lambda=1.392 # angstrom, 8.0477 keV\n",
    "print(Lambda)\n",
    "\n",
    "# Calculate the sin(theta)/lambda value\n",
    "sTL=math.sin(math.radians(Theta))/Lambda\n",
    "print(sTL)\n",
    "\n",
    "\n"
   ]
  },
  {
   "cell_type": "markdown",
   "metadata": {},
   "source": [
    "### Phase Composition values\n",
    "- Trying to use IUCR .cif definitions\n",
    "- Overall composition entered by the user\n",
    "- Should check if atom_site_occupancy equals 1?"
   ]
  },
  {
   "cell_type": "code",
   "execution_count": 4,
   "metadata": {},
   "outputs": [],
   "source": [
    "Phase={\n",
    "    'Fe': {\n",
    "    \"atom_site_type_symbol\": \"Fe\",# CIF term\n",
    "    \"atom_site_occupancy\":0.8, # CIF term\n",
    "    \"atom_site_occupancy_uncert\":0.08 # estimage\n",
    "    },\n",
    "    'Ni': {\n",
    "    \"atom_site_type_symbol\": \"Ni\",# CIF term\n",
    "    \"atom_site_occupancy\":0.1, # CIF term\n",
    "    \"atom_site_occupancy_uncert\":0.01 #      \n",
    "    },\n",
    "    'Cr': {\n",
    "    \"atom_site_type_symbol\": \"Cr\",# CIF term\n",
    "    \"atom_site_occupancy\": 0.1, # CIF term\n",
    "    \"atom_site_occupancy_uncert\":0.01 #  \n",
    "    }\n",
    "}"
   ]
  },
  {
   "cell_type": "code",
   "execution_count": 13,
   "metadata": {},
   "outputs": [
    {
     "name": "stdout",
     "output_type": "stream",
     "text": [
      "18.490979644372967\n",
      "-1.1413067330877997\n",
      "0.8\n",
      "13.879738329028136\n",
      "\n",
      "20.531584781362227\n",
      "-2.98321132822868\n",
      "0.1\n",
      "15.634575674341491\n",
      "\n",
      "16.694110542807746\n",
      "-0.16619379065626416\n",
      "0.1\n",
      "17.28736734955664\n",
      "\n"
     ]
    }
   ],
   "source": [
    "TotalScattering=0\n",
    "\n",
    "for key in Phase:\n",
    "    # Find the coefficients to calculate scattering factor\n",
    "    FormFactor=G2sc.G2elem.GetFormFactorCoeff(Phase[key][\"atom_site_type_symbol\"])[0]\n",
    "    #print(FormFactor)\n",
    "    # Use coefficients to calculate the first term scattering\n",
    "    ScatteringFactor0=(G2sc.G2elem.ScatFac(FormFactor, (sTL**2))[0])\n",
    "    print(ScatteringFactor0)\n",
    "    \n",
    "    # Find the electron orbital structures\n",
    "    \n",
    "    Orbitals=G2sc.G2elem.GetXsectionCoeff(Phase[key][\"atom_site_type_symbol\"])\n",
    "    (f_prime, f_2prime, mu)= G2sc.G2elem.FPcalc(Orbitals,LambdaAng2keV(Lambda))\n",
    "    print(f_prime)\n",
    "    print(Phase[key][\"atom_site_occupancy\"])\n",
    "    TotalScattering=TotalScattering+(ScatteringFactor0+f_prime)*Phase[key][\"atom_site_occupancy\"]\n",
    "    \n",
    "    # Need to add mechanism to calculate the scattering uncertainty\n",
    "    \n",
    "    print(TotalScattering)\n",
    "    print()"
   ]
  },
  {
   "cell_type": "code",
   "execution_count": null,
   "metadata": {},
   "outputs": [],
   "source": []
  },
  {
   "cell_type": "code",
   "execution_count": null,
   "metadata": {},
   "outputs": [],
   "source": []
  },
  {
   "cell_type": "markdown",
   "metadata": {},
   "source": [
    "## Prior attempts, not used\n",
    "- Reading in the table directly"
   ]
  },
  {
   "cell_type": "code",
   "execution_count": null,
   "metadata": {},
   "outputs": [],
   "source": [
    "import importlib.util\n",
    "spec = importlib.util.spec_from_file_location(\"atmdata.py\",\n",
    "                                              \"/Users/creuzige/gsas2full/envs/gsas2pkg/GSASII/atmdata.py\")\n",
    "AtomDataModule = importlib.util.module_from_spec(spec)\n",
    "spec.loader.exec_module(AtomDataModule)\n"
   ]
  },
  {
   "cell_type": "code",
   "execution_count": null,
   "metadata": {},
   "outputs": [],
   "source": [
    "print(AtomDataModule.XrayFF['Fe'])\n",
    "print(AtomDataModule.XrayFF['Fe']['fa'])"
   ]
  },
  {
   "cell_type": "code",
   "execution_count": null,
   "metadata": {},
   "outputs": [],
   "source": [
    "print(AtomDataModule.XrayFF['Fe']['fa'][1])"
   ]
  },
  {
   "cell_type": "code",
   "execution_count": null,
   "metadata": {},
   "outputs": [],
   "source": [
    "# Cu radiation Ferrite 110 values from Jatczak\n",
    "#Theta= 44.60/2 # degrees\n",
    "Theta= 44.10/2 # degrees\n",
    "#Lambda=1.54178 # angstrom\n",
    "\n",
    "#Values in GSASII\n",
    "#Lambda=1.5405 # angstrom, 8.0477 keV\n",
    "Lambda=1.392 # angstrom, 8.0477 keV\n",
    "\n",
    "\n",
    "\n",
    "sTL=math.sin(math.radians(Theta))/Lambda\n",
    "print(sTL)\n",
    "\n",
    "AtomicScatteringCoeff(AtomDataModule.XrayFF['Fe'],sTL)\n"
   ]
  },
  {
   "cell_type": "code",
   "execution_count": null,
   "metadata": {},
   "outputs": [],
   "source": [
    "def AtomicScatteringCoeff(AtomDict, SinTheta_Lambda):\n",
    "    FF=0\n",
    "    for i in [0,1,2,3]:\n",
    "        FF=FF+AtomDict['fa'][i]*math.exp(-AtomDict['fb'][i]*SinTheta_Lambda**2)\n",
    "    FF=FF+AtomDict['fc']\n",
    "    return FF"
   ]
  }
 ],
 "metadata": {
  "kernelspec": {
   "display_name": "Python 3",
   "language": "python",
   "name": "python3"
  },
  "language_info": {
   "codemirror_mode": {
    "name": "ipython",
    "version": 3
   },
   "file_extension": ".py",
   "mimetype": "text/x-python",
   "name": "python",
   "nbconvert_exporter": "python",
   "pygments_lexer": "ipython3",
   "version": "3.7.1"
  }
 },
 "nbformat": 4,
 "nbformat_minor": 4
}
