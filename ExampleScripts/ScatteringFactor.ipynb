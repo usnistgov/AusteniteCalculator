{
 "cells": [
  {
   "cell_type": "code",
   "execution_count": null,
   "metadata": {},
   "outputs": [],
   "source": []
  },
  {
   "cell_type": "code",
   "execution_count": 2,
   "metadata": {},
   "outputs": [],
   "source": [
    "import os,sys\n",
    "import matplotlib.pyplot as plt\n",
    "#import pandas as pd  # AC got a 'no module named pandas' error.  Do we need it?\n",
    "import numpy as np\n",
    "import math\n",
    "import csv\n",
    "import scipy\n",
    "\n",
    "# Eventually we'll have to find a common pathway, for now just change if this is commented out.\n",
    "#sys.path.insert(0,'/Users/dtn1/gsas2full/GSASII/') # needed to \"find\" GSAS-II modules\n",
    "#sys.path.insert(0,'/Users/creuzige/gsas2full/envs/gsas2pkg/GSASII/') # needed to \"find\" GSAS-II modules\n",
    "\n",
    "#import GSASIIscriptable as G2sc"
   ]
  },
  {
   "cell_type": "markdown",
   "metadata": {},
   "source": [
    "## Reading in the table directly"
   ]
  },
  {
   "cell_type": "code",
   "execution_count": 6,
   "metadata": {},
   "outputs": [
    {
     "name": "stdout",
     "output_type": "stream",
     "text": [
      "{'Z': 26, 'fa': [11.7695, 7.3573, 3.5222, 2.3045], 'fb': [4.7611, 0.3072, 15.3535, 76.8805], 'fc': 1.0369}\n"
     ]
    }
   ],
   "source": [
    "import importlib.util\n",
    "spec = importlib.util.spec_from_file_location(\"atmdata.py\",\n",
    "                                              \"/Users/creuzige/gsas2full/envs/gsas2pkg/GSASII/atmdata.py\")\n",
    "AtomDataModule = importlib.util.module_from_spec(spec)\n",
    "spec.loader.exec_module(AtomDataModule)\n"
   ]
  },
  {
   "cell_type": "code",
   "execution_count": 7,
   "metadata": {},
   "outputs": [
    {
     "name": "stdout",
     "output_type": "stream",
     "text": [
      "{'Z': 26, 'fa': [11.7695, 7.3573, 3.5222, 2.3045], 'fb': [4.7611, 0.3072, 15.3535, 76.8805], 'fc': 1.0369}\n",
      "[11.7695, 7.3573, 3.5222, 2.3045]\n"
     ]
    }
   ],
   "source": [
    "print(AtomDataModule.XrayFF['Fe'])\n",
    "print(AtomDataModule.XrayFF['Fe']['fa'])"
   ]
  },
  {
   "cell_type": "code",
   "execution_count": 8,
   "metadata": {},
   "outputs": [
    {
     "name": "stdout",
     "output_type": "stream",
     "text": [
      "7.3573\n"
     ]
    }
   ],
   "source": [
    "print(AtomDataModule.XrayFF['Fe']['fa'][1])"
   ]
  },
  {
   "cell_type": "code",
   "execution_count": 50,
   "metadata": {},
   "outputs": [
    {
     "name": "stdout",
     "output_type": "stream",
     "text": [
      "0.24632012952223634\n"
     ]
    },
    {
     "data": {
      "text/plain": [
       "18.484212349418332"
      ]
     },
     "execution_count": 50,
     "metadata": {},
     "output_type": "execute_result"
    }
   ],
   "source": [
    "# Cu radiation Ferrite 110 values from Jatczak\n",
    "Theta= 44.60/2 # degrees\n",
    "#Lambda=1.54178 # angstrom\n",
    "\n",
    "#Values in GSASII\n",
    "Lambda=1.5405 # angstrom, 8.0477 keV\n",
    "\n",
    "\n",
    "\n",
    "sTL=math.sin(math.radians(Theta))/Lambda\n",
    "print(sTL)\n",
    "\n",
    "AtomicScatteringCoeff(AtomDataModule.XrayFF['Fe'],sTL)\n"
   ]
  },
  {
   "cell_type": "code",
   "execution_count": 49,
   "metadata": {},
   "outputs": [],
   "source": [
    "def AtomicScatteringCoeff(AtomDict, SinTheta_Lambda):\n",
    "    FF=0\n",
    "    for i in [0,1,2,3]:\n",
    "        FF=FF+AtomDict['fa'][i]*math.exp(-AtomDict['fb'][i]*SinTheta_Lambda**2)\n",
    "    FF=FF+AtomDict['fc']\n",
    "    return FF"
   ]
  },
  {
   "cell_type": "markdown",
   "metadata": {},
   "source": [
    "## Using FPCalc"
   ]
  },
  {
   "cell_type": "code",
   "execution_count": 53,
   "metadata": {},
   "outputs": [],
   "source": [
    "sys.path.insert(0,'/Users/creuzige/gsas2full/envs/gsas2pkg/GSASII/') # needed to \"find\" GSAS-II modules\n",
    "\n",
    "import GSASIIscriptable as G2sc\n",
    "\n",
    "# pick which element to get form factor (may come back as a list)\n",
    "Atom=G2sc.G2elem.GetFormFactorCoeff('Fe')\n",
    "Atom[0] # non ionized version\n",
    "\n",
    "F=(G2sc.G2elem.ScatFac(Atom[0], (sTL**2))[0]) #[0] to return first term (out of one)\n",
    "\n"
   ]
  },
  {
   "cell_type": "code",
   "execution_count": null,
   "metadata": {},
   "outputs": [],
   "source": []
  },
  {
   "cell_type": "code",
   "execution_count": 54,
   "metadata": {},
   "outputs": [],
   "source": [
    "def LambdaAng2keV(Lambda):\n",
    "    '''\n",
    "    Convert between wavelength in angstroms and energy in keV\n",
    "    '''\n",
    "    keV=scipy.constants.h*scipy.constants.c/(Lambda*1e-10*scipy.constants.value(\"electron volt\")*1000)\n",
    "    return keV"
   ]
  },
  {
   "cell_type": "code",
   "execution_count": 55,
   "metadata": {},
   "outputs": [
    {
     "data": {
      "text/plain": [
       "8.04830888888025"
      ]
     },
     "execution_count": 55,
     "metadata": {},
     "output_type": "execute_result"
    }
   ],
   "source": [
    "LambdaAng2keV(Lambda)"
   ]
  },
  {
   "cell_type": "code",
   "execution_count": 56,
   "metadata": {},
   "outputs": [],
   "source": [
    "Orbitals=G2sc.G2elem.GetXsectionCoeff('Fe')\n",
    "\n",
    "LambdaAng2keV(Lambda)\n",
    "#print(Orbitals)\n",
    "(f_prime, f_2prime, mu)= G2sc.G2elem.FPcalc(Orbitals,LambdaAng2keV(Lambda))\n"
   ]
  },
  {
   "cell_type": "code",
   "execution_count": 58,
   "metadata": {},
   "outputs": [
    {
     "name": "stdout",
     "output_type": "stream",
     "text": [
      "18.484212349418332 -1.1330686781563117 17.35114367126202\n"
     ]
    }
   ],
   "source": [
    "print(F, f_prime, F+f_prime)"
   ]
  },
  {
   "cell_type": "code",
   "execution_count": null,
   "metadata": {},
   "outputs": [],
   "source": []
  }
 ],
 "metadata": {
  "kernelspec": {
   "display_name": "Python 3",
   "language": "python",
   "name": "python3"
  },
  "language_info": {
   "codemirror_mode": {
    "name": "ipython",
    "version": 3
   },
   "file_extension": ".py",
   "mimetype": "text/x-python",
   "name": "python",
   "nbconvert_exporter": "python",
   "pygments_lexer": "ipython3",
   "version": "3.7.7"
  }
 },
 "nbformat": 4,
 "nbformat_minor": 4
}
