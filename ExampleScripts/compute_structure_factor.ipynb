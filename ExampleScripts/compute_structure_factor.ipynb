{
 "cells": [
  {
   "cell_type": "code",
   "execution_count": 1,
   "metadata": {},
   "outputs": [
    {
     "name": "stdout",
     "output_type": "stream",
     "text": [
      "======================================================================\n",
      "Failed to run pyspg in C:\\Users\\dtn1\\gsas2full\\GSASII\\bindist\n",
      "error: No module named 'pyspg'\n",
      "======================================================================\n",
      "======================================================================\n",
      "Failed to run pyspg in C:\\Users\\dtn1\\gsas2full\\GSASII\\bindist\n",
      "error: No module named 'pyspg'\n",
      "======================================================================\n",
      "Attempting to download GSAS-II binary files...\n",
      "Running svn command:\n",
      "  C:\\Users\\dtn1\\gsas2full\\Library\\bin\\svn.exe list https://subversion.xray.aps.anl.gov/pyGSAS/Binaries/ --non-interactive --trust-server-cert \n",
      "FYI: The current numpy version, 1.19.2, is newer than the newest dist version 1.19\n",
      "Loading files to C:\\Users\\dtn1\\gsas2full\\GSASII\\bindist\\\n",
      "  from https://subversion.xray.aps.anl.gov/pyGSAS/Binaries/win_64_p3.8_n1.19/\n",
      "\n",
      "svn command:  C:\\Users\\dtn1\\gsas2full\\Library\\bin\\svn.exe switch https://subversion.xray.aps.anl.gov/pyGSAS/Binaries/win_64_p3.8_n1.19/ C:\\Users\\dtn1\\gsas2full\\GSASII\\bindist\\ --non-interactive --trust-server-cert --accept theirs-conflict --force -rHEAD --ignore-ancestry \n",
      "\n",
      "=== Output from svn switch===========================================\n",
      "D    C:\\Users\\dtn1\\gsas2full\\GSASII\\bindist\\histogram2d.cp37-win_amd64.pyd\n",
      "D    C:\\Users\\dtn1\\gsas2full\\GSASII\\bindist\\pack_f.cp37-win_amd64.pyd\n",
      "D    C:\\Users\\dtn1\\gsas2full\\GSASII\\bindist\\libquadmath-0.dll\n",
      "D    C:\\Users\\dtn1\\gsas2full\\GSASII\\bindist\\libgfortran-3.dll\n",
      "D    C:\\Users\\dtn1\\gsas2full\\GSASII\\bindist\\libwinpthread-1.dll\n",
      "D    C:\\Users\\dtn1\\gsas2full\\GSASII\\bindist\\pypowder.cp37-win_amd64.pyd\n",
      "D    C:\\Users\\dtn1\\gsas2full\\GSASII\\bindist\\pytexture.cp37-win_amd64.pyd\n",
      "D    C:\\Users\\dtn1\\gsas2full\\GSASII\\bindist\\pydiffax.cp37-win_amd64.pyd\n",
      "D    C:\\Users\\dtn1\\gsas2full\\GSASII\\bindist\\unpack_cbf.cp37-win_amd64.pyd\n",
      "D    C:\\Users\\dtn1\\gsas2full\\GSASII\\bindist\\histosigma2d.cp37-win_amd64.pyd\n",
      "D    C:\\Users\\dtn1\\gsas2full\\GSASII\\bindist\\polymask.cp37-win_amd64.pyd\n",
      "D    C:\\Users\\dtn1\\gsas2full\\GSASII\\bindist\\libgcc_s_seh-1.dll\n",
      "D    C:\\Users\\dtn1\\gsas2full\\GSASII\\bindist\\spotmask.cp37-win_amd64.pyd\n",
      "D    C:\\Users\\dtn1\\gsas2full\\GSASII\\bindist\\pyspg.cp37-win_amd64.pyd\n",
      "A    C:\\Users\\dtn1\\gsas2full\\GSASII\\bindist\\pypowder.cp38-win_amd64.pyd\n",
      "A    C:\\Users\\dtn1\\gsas2full\\GSASII\\bindist\\pytexture.cp38-win_amd64.pyd\n",
      "A    C:\\Users\\dtn1\\gsas2full\\GSASII\\bindist\\pydiffax.cp38-win_amd64.pyd\n",
      "A    C:\\Users\\dtn1\\gsas2full\\GSASII\\bindist\\unpack_cbf.cp38-win_amd64.pyd\n",
      "A    C:\\Users\\dtn1\\gsas2full\\GSASII\\bindist\\histosigma2d.cp38-win_amd64.pyd\n",
      "A    C:\\Users\\dtn1\\gsas2full\\GSASII\\bindist\\polymask.cp38-win_amd64.pyd\n",
      "A    C:\\Users\\dtn1\\gsas2full\\GSASII\\bindist\\spotmask.cp38-win_amd64.pyd\n",
      "A    C:\\Users\\dtn1\\gsas2full\\GSASII\\bindist\\pyspg.cp38-win_amd64.pyd\n",
      "A    C:\\Users\\dtn1\\gsas2full\\GSASII\\bindist\\fellipse.cp38-win_amd64.pyd\n",
      "A    C:\\Users\\dtn1\\gsas2full\\GSASII\\bindist\\histogram2d.cp38-win_amd64.pyd\n",
      "A    C:\\Users\\dtn1\\gsas2full\\GSASII\\bindist\\pack_f.cp38-win_amd64.pyd\n",
      "U    C:\\Users\\dtn1\\gsas2full\\GSASII\\bindist\\Build.notes.txt\n",
      "Updated to revision 5037.\n",
      "======================================================================\n",
      "\n",
      "GSAS-II binary directory: C:\\Users\\dtn1\\gsas2full\\GSASII\\bindist\n",
      "6 values read from config file C:\\Users\\dtn1\\gsas2full\\GSASII\\config.py\n",
      "ImportError for wx/mpl in GSASIIctrlGUI: ignore if docs build\n"
     ]
    }
   ],
   "source": [
    "import os,sys\n",
    "import matplotlib.pyplot as plt\n",
    "#import pandas as pd  # AC got a 'no module named pandas' error.  Do we need it?\n",
    "import numpy as np\n",
    "import math\n",
    "import csv\n",
    "import scipy\n",
    "\n",
    "# Eventually we'll have to find a common pathway, for now just change if this is commented out.\n",
    "sys.path.insert(0,'/Users/dtn1/gsas2full/GSASII/') # needed to \"find\" GSAS-II modules\n",
    "#sys.path.insert(0,'/Users/creuzige/gsas2full/envs/gsas2pkg/GSASII/') # needed to \"find\" GSAS-II modules\n",
    "\n",
    "import GSASIIscriptable as G2sc"
   ]
  },
  {
   "cell_type": "code",
   "execution_count": 2,
   "metadata": {},
   "outputs": [],
   "source": [
    "def LambdaAng2keV(Lambda):\n",
    "    '''\n",
    "    Convert between wavelength in angstroms and energy in keV\n",
    "    '''\n",
    "    keV=scipy.constants.h*scipy.constants.c/(Lambda*1e-10*scipy.constants.value(\"electron volt\")*1000)\n",
    "    return keV"
   ]
  },
  {
   "cell_type": "code",
   "execution_count": 3,
   "metadata": {},
   "outputs": [
    {
     "name": "stdout",
     "output_type": "stream",
     "text": [
      "22.3\n",
      "1.54178\n"
     ]
    }
   ],
   "source": [
    "# Theta from Ferrite 110, from Jatczak\n",
    "Theta= 44.60/2 # degrees\n",
    "# Theta= 44.60/2 # degrees\n",
    "print(Theta)\n",
    "\n",
    "\n",
    "# Cu radiation from Jatczak\n",
    "Lambda=1.54178 # angstrom\n",
    "\n",
    "# Cu radiation from GSASII\n",
    "#Lambda=1.5405 # angstrom, 8.0477 keV\n",
    "\n",
    "# K-beta peak\n",
    "#Lambda=1.392 # angstrom, 8.0477 keV\n",
    "print(Lambda)"
   ]
  },
  {
   "cell_type": "code",
   "execution_count": 4,
   "metadata": {},
   "outputs": [],
   "source": [
    "phase_dict = {\n",
    "    'Fe': {\n",
    "        \"atom_site_type_symbol\": \"Fe\",# CIF term\n",
    "        \"atom_site_occupancy\":0.8, # CIF term\n",
    "        \"atom_site_occupancy_uncert\":0.08 # estimage\n",
    "    },\n",
    "    'Ni': {\n",
    "        \"atom_site_type_symbol\": \"Ni\",# CIF term\n",
    "        \"atom_site_occupancy\":0.1, # CIF term\n",
    "        \"atom_site_occupancy_uncert\":0.01 #      \n",
    "    },\n",
    "    'Cr': {\n",
    "        \"atom_site_type_symbol\": \"Cr\",# CIF term\n",
    "        \"atom_site_occupancy\": 0.1, # CIF term\n",
    "        \"atom_site_occupancy_uncert\":0.01 #  \n",
    "    }\n",
    "}"
   ]
  },
  {
   "cell_type": "code",
   "execution_count": 27,
   "metadata": {},
   "outputs": [],
   "source": [
    "def compute_structure_factor(element,theta,llambda,phase_dict,method):\n",
    "    \n",
    "    sTL=math.sin(math.radians(theta))/llambda\n",
    "\n",
    "    key = element\n",
    "    \n",
    "    # Find the coefficients to calculate scattering factor\n",
    "    FormFactor=G2sc.G2elem.GetFormFactorCoeff(phase_dict[key][\"atom_site_type_symbol\"])[0]\n",
    "    #print(FormFactor)\n",
    "    # Use coefficients to calculate the first term scattering\n",
    "    ScatteringFactor0=(G2sc.G2elem.ScatFac(FormFactor, (sTL**2))[0])\n",
    "    #print(ScatteringFactor0)\n",
    "\n",
    "    # Find the electron orbital structures\n",
    "    Orbitals=G2sc.G2elem.GetXsectionCoeff(phase_dict[key][\"atom_site_type_symbol\"])\n",
    "    (f_prime, f_2prime, mu)= G2sc.G2elem.FPcalc(Orbitals,LambdaAng2keV(llambda))\n",
    "    #print(f_prime)\n",
    "    #print(Phase[key][\"atom_site_occupancy\"])\n",
    "    \n",
    "    if method == 'formula':\n",
    "        mean_scattering = (ScatteringFactor0+f_prime)*phase_dict[key][\"atom_site_occupancy\"]\n",
    "        sd_scattering = (ScatteringFactor0+f_prime)*phase_dict[key][\"atom_site_occupancy_uncert\"]\n",
    "    \n",
    "    elif method == 'mcmc':\n",
    "        n = 20000\n",
    "        mean_scattering = mean_scattering = (ScatteringFactor0+f_prime)*phase_dict[key][\"atom_site_occupancy\"]\n",
    "        loc = phase_dict[key][\"atom_site_occupancy\"]\n",
    "        scale = phase_dict[key][\"atom_site_occupancy_uncert\"]\n",
    "        sd_scattering = np.std( (ScatteringFactor0+f_prime)*np.random.normal(loc,scale,n) )\n",
    "      \n",
    "    return mean_scattering, sd_scattering\n",
    "    "
   ]
  },
  {
   "cell_type": "code",
   "execution_count": 28,
   "metadata": {},
   "outputs": [
    {
     "name": "stdout",
     "output_type": "stream",
     "text": [
      "(13.879738329028136, 1.3879738329028135)\n",
      "(1.7548373453133548, 0.17548373453133548)\n",
      "(1.6527916752151481, 0.1652791675215148)\n"
     ]
    }
   ],
   "source": [
    "print(compute_structure_factor(element='Fe',theta=44.60/2,llambda=1.54178,phase_dict=phase_dict,method='formula'))\n",
    "print(compute_structure_factor(element='Ni',theta=44.60/2,llambda=1.54178,phase_dict=phase_dict,method='formula'))\n",
    "print(compute_structure_factor(element='Cr',theta=44.60/2,llambda=1.54178,phase_dict=phase_dict,method='formula'))"
   ]
  },
  {
   "cell_type": "code",
   "execution_count": 30,
   "metadata": {},
   "outputs": [
    {
     "name": "stdout",
     "output_type": "stream",
     "text": [
      "(13.879738329028136, 1.3915583809854073)\n",
      "(1.7548373453133548, 0.1756796610483934)\n",
      "(1.6527916752151481, 0.16648079198163457)\n"
     ]
    }
   ],
   "source": [
    "print(compute_structure_factor(element='Fe',theta=44.60/2,llambda=1.54178,phase_dict=phase_dict,method='mcmc'))\n",
    "print(compute_structure_factor(element='Ni',theta=44.60/2,llambda=1.54178,phase_dict=phase_dict,method='mcmc'))\n",
    "print(compute_structure_factor(element='Cr',theta=44.60/2,llambda=1.54178,phase_dict=phase_dict,method='mcmc'))"
   ]
  },
  {
   "cell_type": "code",
   "execution_count": null,
   "metadata": {},
   "outputs": [],
   "source": []
  }
 ],
 "metadata": {
  "kernelspec": {
   "display_name": "Python 3",
   "language": "python",
   "name": "python3"
  },
  "language_info": {
   "codemirror_mode": {
    "name": "ipython",
    "version": 3
   },
   "file_extension": ".py",
   "mimetype": "text/x-python",
   "name": "python",
   "nbconvert_exporter": "python",
   "pygments_lexer": "ipython3",
   "version": "3.8.5"
  }
 },
 "nbformat": 4,
 "nbformat_minor": 5
}
