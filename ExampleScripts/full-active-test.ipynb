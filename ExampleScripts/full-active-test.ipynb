{
 "cells": [
  {
   "cell_type": "code",
   "execution_count": null,
   "id": "b108884f",
   "metadata": {},
   "outputs": [],
   "source": []
  },
  {
   "cell_type": "code",
   "execution_count": 1,
   "id": "57fe1697",
   "metadata": {},
   "outputs": [
    {
     "name": "stdout",
     "output_type": "stream",
     "text": [
      "Adam's computer\n",
      "GSAS-II binary directory: /Users/creuzige/gsas2full/envs/gsas2full-active/GSASII/bindist\n",
      "6 values read from config file /Users/creuzige/gsas2full/envs/gsas2full-active/GSASII/config.py\n",
      "Drat, patching for Big Sur\n"
     ]
    }
   ],
   "source": [
    "import os,sys\n",
    "import matplotlib.pyplot as plt\n",
    "#import pandas as pd  # AC got a 'no module named pandas' error.  Do we need it?\n",
    "import numpy as np\n",
    "import math\n",
    "import csv\n",
    "import re\n",
    "\n",
    "# Eventually we'll have to find a common pathway, for now just change if this is commented out.\n",
    "\n",
    "if re.search('dtn1',os.getcwd()) is not None:\n",
    "    print(\"David's computer\")\n",
    "    sys.path.insert(0,'/Users/dtn1/gsas2full/GSASII/') # needed to \"find\" GSAS-II modules\n",
    "\n",
    "elif re.search('creuzige',os.getcwd()) is not None:\n",
    "    print(\"Adam's computer\")\n",
    "    sys.path.insert(0,'/Users/creuzige/gsas2full/envs/gsas2full-active/GSASII/') # needed to \"find\" GSAS-II modules\n",
    "# Note difference between paths\n",
    "#    sys.path.insert(0,'/Users/creuzige/gsas2full/envs/gsas2pkg/GSASII/') # needed to \"find\" GSAS-II modules\n",
    "    \n",
    "    \n",
    "elif re.search('maxgarman', os.getcwd()) is not None:\n",
    "    print(\"Max's Computer\")\n",
    "    sys.path.insert(0, '../opt/anaconda3/GSASII')\n",
    "\n",
    "import GSASIIscriptable as G2sc\n"
   ]
  },
  {
   "cell_type": "code",
   "execution_count": 2,
   "id": "41dffe9f",
   "metadata": {},
   "outputs": [
    {
     "name": "stdout",
     "output_type": "stream",
     "text": [
      "Updating files at /Users/creuzige/gsas2full/envs/gsas2full-active/GSASII\n",
      "subversion command:\n",
      "  /Users/creuzige/gsas2full/envs/gsas2full-active/bin/svn update /Users/creuzige/gsas2full/envs/gsas2full-active/GSASII -r5300 --non-interactive --accept theirs-conflict --force --trust-server-cert \n",
      "Updating '/Users/creuzige/gsas2full/envs/gsas2full-active/GSASII':\n",
      "U    /Users/creuzige/gsas2full/envs/gsas2full-active/GSASII/imports/G2pwd_BrukerRAW.py\n",
      "D    /Users/creuzige/gsas2full/envs/gsas2full-active/GSASII/nistlat.py\n",
      "U    /Users/creuzige/gsas2full/envs/gsas2full-active/GSASII/GSASIImath.py\n",
      "U    /Users/creuzige/gsas2full/envs/gsas2full-active/GSASII/GSASIIpwd.py\n",
      "U    /Users/creuzige/gsas2full/envs/gsas2full-active/GSASII/GSASIIseqGUI.py\n",
      "U    /Users/creuzige/gsas2full/envs/gsas2full-active/GSASII/GSASIIpwdGUI.py\n",
      "U    /Users/creuzige/gsas2full/envs/gsas2full-active/GSASII/ReadMarCCDFrame.py\n",
      "U    /Users/creuzige/gsas2full/envs/gsas2full-active/GSASII/docs/source/packages.rst\n",
      "U    /Users/creuzige/gsas2full/envs/gsas2full-active/GSASII/GSASIImapvars.py\n",
      "U    /Users/creuzige/gsas2full/envs/gsas2full-active/GSASII/GSASIIobj.py\n",
      "U    /Users/creuzige/gsas2full/envs/gsas2full-active/GSASII/GSASIIconstrGUI.py\n",
      "D    /Users/creuzige/gsas2full/envs/gsas2full-active/GSASII/fsource/LATTIC.f\n",
      "D    /Users/creuzige/gsas2full/envs/gsas2full-active/GSASII/fsource/NISTlatsubs\n",
      "D    /Users/creuzige/gsas2full/envs/gsas2full-active/GSASII/fsource/convcell.f\n",
      "U    /Users/creuzige/gsas2full/envs/gsas2full-active/GSASII/fsource/SConstruct\n",
      "U    /Users/creuzige/gsas2full/envs/gsas2full-active/GSASII/GSASIIstrMath.py\n",
      "U    /Users/creuzige/gsas2full/envs/gsas2full-active/GSASII/GSASIIElem.py\n",
      "U    /Users/creuzige/gsas2full/envs/gsas2full-active/GSASII/GSASIIphsGUI.py\n",
      "U    /Users/creuzige/gsas2full/envs/gsas2full-active/GSASII/GSASIIstrIO.py\n",
      "U    /Users/creuzige/gsas2full/envs/gsas2full-active/GSASII/help/Tutorials.html\n",
      "U    /Users/creuzige/gsas2full/envs/gsas2full-active/GSASII/help/gsasII-pwdr.html\n",
      "U    /Users/creuzige/gsas2full/envs/gsas2full-active/GSASII/help/gsasII-phase.html\n",
      "U    /Users/creuzige/gsas2full/envs/gsas2full-active/GSASII/help/gsasII_files/filelist.xml\n",
      "U    /Users/creuzige/gsas2full/envs/gsas2full-active/GSASII/help/gsasII_files/image010.png\n",
      "U    /Users/creuzige/gsas2full/envs/gsas2full-active/GSASII/help/gsasII_files/image002.png\n",
      "U    /Users/creuzige/gsas2full/envs/gsas2full-active/GSASII/help/gsasII_files/image020.png\n",
      "U    /Users/creuzige/gsas2full/envs/gsas2full-active/GSASII/help/gsasII_files/image012.png\n",
      "U    /Users/creuzige/gsas2full/envs/gsas2full-active/GSASII/help/gsasII_files/image021.png\n",
      "U    /Users/creuzige/gsas2full/envs/gsas2full-active/GSASII/help/gsasII_files/image004.png\n",
      "U    /Users/creuzige/gsas2full/envs/gsas2full-active/GSASII/help/gsasII_files/image022.png\n",
      "U    /Users/creuzige/gsas2full/envs/gsas2full-active/GSASII/help/gsasII_files/image023.png\n",
      "U    /Users/creuzige/gsas2full/envs/gsas2full-active/GSASII/help/gsasII_files/image014.png\n",
      "U    /Users/creuzige/gsas2full/envs/gsas2full-active/GSASII/help/gsasII_files/image006.png\n",
      "U    /Users/creuzige/gsas2full/envs/gsas2full-active/GSASII/help/gsasII_files/image024.png\n",
      "U    /Users/creuzige/gsas2full/envs/gsas2full-active/GSASII/help/gsasII_files/image016.png\n",
      "U    /Users/creuzige/gsas2full/envs/gsas2full-active/GSASII/help/gsasII_files/image025.png\n",
      "U    /Users/creuzige/gsas2full/envs/gsas2full-active/GSASII/help/gsasII_files/image008.png\n",
      "U    /Users/creuzige/gsas2full/envs/gsas2full-active/GSASII/help/gsasII_files/image026.png\n",
      "U    /Users/creuzige/gsas2full/envs/gsas2full-active/GSASII/help/gsasII_files/image018.png\n",
      "U    /Users/creuzige/gsas2full/envs/gsas2full-active/GSASII/help/gsasII_files/image027.png\n",
      "U    /Users/creuzige/gsas2full/envs/gsas2full-active/GSASII/help/gsasII.html\n",
      "U    /Users/creuzige/gsas2full/envs/gsas2full-active/GSASII/testXNFF.py\n",
      "U    /Users/creuzige/gsas2full/envs/gsas2full-active/GSASII/GSASIIIO.py\n",
      "U    /Users/creuzige/gsas2full/envs/gsas2full-active/GSASII/GSASIIctrlGUI.py\n",
      "U    /Users/creuzige/gsas2full/envs/gsas2full-active/GSASII/atmdata.py\n",
      "U    /Users/creuzige/gsas2full/envs/gsas2full-active/GSASII/GSASIIplot.py\n",
      "U    /Users/creuzige/gsas2full/envs/gsas2full-active/GSASII/GSASIIdataGUI.py\n",
      "G    /Users/creuzige/gsas2full/envs/gsas2full-active/GSASII/GSASIIscriptable.py\n",
      "U    /Users/creuzige/gsas2full/envs/gsas2full-active/GSASII/ElementTable.py\n",
      "U    /Users/creuzige/gsas2full/envs/gsas2full-active/GSASII/GSASIIstrMain.py\n",
      "U    /Users/creuzige/gsas2full/envs/gsas2full-active/GSASII/GSASIIddataGUI.py\n",
      "U    /Users/creuzige/gsas2full/envs/gsas2full-active/GSASII/PlotXNFF.py\n",
      "U    /Users/creuzige/gsas2full/envs/gsas2full-active/GSASII/GSASIIpy3.py\n",
      "U    /Users/creuzige/gsas2full/envs/gsas2full-active/GSASII/exports/G2export_CIF.py\n",
      "U    /Users/creuzige/gsas2full/envs/gsas2full-active/GSASII/GSASIIimgGUI.py\n",
      "Updated to revision 5300.\n",
      "\n"
     ]
    }
   ],
   "source": [
    "sys.path.insert(0,'/Users/creuzige/gsas2full/envs/gsas2full-active/GSASII/')\n",
    "import GSASIIpath\n",
    "GSASIIpath.svnUpdateDir(version=5300)"
   ]
  },
  {
   "cell_type": "code",
   "execution_count": null,
   "id": "9c9117f6",
   "metadata": {},
   "outputs": [],
   "source": [
    "GSASIIpath.svnUpdateDir(version=5321)"
   ]
  }
 ],
 "metadata": {
  "kernelspec": {
   "display_name": "Python 3 (ipykernel)",
   "language": "python",
   "name": "python3"
  },
  "language_info": {
   "codemirror_mode": {
    "name": "ipython",
    "version": 3
   },
   "file_extension": ".py",
   "mimetype": "text/x-python",
   "name": "python",
   "nbconvert_exporter": "python",
   "pygments_lexer": "ipython3",
   "version": "3.7.13"
  }
 },
 "nbformat": 4,
 "nbformat_minor": 5
}
