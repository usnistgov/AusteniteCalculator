{
 "cells": [
  {
   "cell_type": "code",
   "execution_count": 3,
   "id": "e6fbe199",
   "metadata": {},
   "outputs": [],
   "source": [
    "import numpy as np\n",
    "from scipy.stats import invgamma, t\n",
    "import matplotlib.pyplot as plt"
   ]
  },
  {
   "cell_type": "code",
   "execution_count": 4,
   "id": "2f73ec6e",
   "metadata": {},
   "outputs": [],
   "source": [
    "def gen_mu_sigma(x,n_draws):\n",
    "    \n",
    "    # p(mu,simga) \\prop_to 1/sigma OR uniform prior on mu, log(sigma)\n",
    "    # BDA pg: 66\n",
    "    \n",
    "    x_var = np.var(x)\n",
    "    n_x = x.shape[0]\n",
    "    v = n_x-1\n",
    "    tau2 = x_var\n",
    "    \n",
    "    sigma2 = invgamma.rvs(a=v/2,scale=v*tau2/2,size=n_draws)\n",
    "    mu = t.rvs(df=n_x-1, loc=np.mean(x), scale=np.sqrt(x_var/n_x), size=n_draws)\n",
    "    \n",
    "    return mu, sigma2\n",
    "\n",
    "def get_posterior_samples_cp(I,R,sigma_I,phases,n_draws):\n",
    "\n",
    "    I = np.array(I)\n",
    "    R = np.array(R)\n",
    "    sigma_I = np.array(sigma_I)\n",
    "    phases = np.array(phases)\n",
    "\n",
    "    Z = I/R\n",
    "    unique_phase_names = np.unique(phases)\n",
    "\n",
    "    res_dict = {}\n",
    "\n",
    "    for ii in range(len(unique_phase_names)):\n",
    "\n",
    "        res_dict[unique_phase_names[ii]] = gen_mu_sigma(Z[phases==unique_phase_names[ii]],n_draws)\n",
    "\n",
    "    return res_dict\n",
    "    \n",
    "    "
   ]
  },
  {
   "cell_type": "code",
   "execution_count": null,
   "id": "d11301e2",
   "metadata": {},
   "outputs": [],
   "source": [
    "mu, sigma2 = gen_mu_sigma(np.random.normal(0,1,100),1000)"
   ]
  },
  {
   "cell_type": "code",
   "execution_count": null,
   "id": "08876acf",
   "metadata": {},
   "outputs": [],
   "source": [
    "plt.hist(mu)\n",
    "plt.show()\n",
    "plt.hist(np.sqrt(sigma2))\n",
    "plt.show()"
   ]
  },
  {
   "cell_type": "code",
   "execution_count": null,
   "id": "1531f34d",
   "metadata": {},
   "outputs": [],
   "source": []
  },
  {
   "cell_type": "code",
   "execution_count": null,
   "id": "f7f0569d",
   "metadata": {},
   "outputs": [],
   "source": []
  }
 ],
 "metadata": {
  "kernelspec": {
   "display_name": "Python 3 (ipykernel)",
   "language": "python",
   "name": "python3"
  },
  "language_info": {
   "codemirror_mode": {
    "name": "ipython",
    "version": 3
   },
   "file_extension": ".py",
   "mimetype": "text/x-python",
   "name": "python",
   "nbconvert_exporter": "python",
   "pygments_lexer": "ipython3",
   "version": "3.7.1"
  }
 },
 "nbformat": 4,
 "nbformat_minor": 5
}
