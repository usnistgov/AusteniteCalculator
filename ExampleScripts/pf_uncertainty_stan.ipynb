{
 "cells": [
  {
   "cell_type": "markdown",
   "id": "27cb2a0a",
   "metadata": {},
   "source": [
    "### Fitting for one sample"
   ]
  },
  {
   "cell_type": "code",
   "execution_count": 2,
   "id": "bad8884a",
   "metadata": {},
   "outputs": [],
   "source": [
    "import numpy as np\n",
    "import pandas as pd\n",
    "import matplotlib.pyplot as plt\n",
    "import time\n",
    "import seaborn as sns\n",
    "import os\n",
    "from cmdstanpy import cmdstan_path, CmdStanModel"
   ]
  },
  {
   "cell_type": "code",
   "execution_count": 3,
   "id": "10ada352",
   "metadata": {},
   "outputs": [],
   "source": [
    "indata = pd.read_csv('intensity_table.csv')"
   ]
  },
  {
   "cell_type": "code",
   "execution_count": 4,
   "id": "10d72e00",
   "metadata": {},
   "outputs": [],
   "source": [
    "mydf = pd.DataFrame({\n",
    "    'I':indata.int_fit,\n",
    "    'R':indata.R_calc,\n",
    "    'sigma_I':indata.u_int_fit,\n",
    "    'phases':indata.Phase,\n",
    "    'two_th':indata.two_theta\n",
    "})\n",
    "\n",
    "mydf['IR'] = mydf.I / mydf.R\n",
    "mydf['sig_IR'] = mydf['sigma_I']/mydf.R\n",
    "\n",
    "mydf = mydf.sort_values('phases').reset_index(drop=True)"
   ]
  },
  {
   "cell_type": "code",
   "execution_count": 5,
   "id": "cef8ef51",
   "metadata": {},
   "outputs": [
    {
     "data": {
      "text/plain": [
       "<AxesSubplot:xlabel='two_th', ylabel='IR'>"
      ]
     },
     "execution_count": 5,
     "metadata": {},
     "output_type": "execute_result"
    },
    {
     "data": {
      "image/png": "[encoded data removed]",
      "text/plain": [
       "<Figure size 432x288 with 1 Axes>"
      ]
     },
     "metadata": {
      "needs_background": "light"
     },
     "output_type": "display_data"
    }
   ],
   "source": [
    "sns.scatterplot(data=mydf,x='two_th',y='IR',hue='phases')"
   ]
  },
  {
   "cell_type": "code",
   "execution_count": 6,
   "id": "8e2fb359",
   "metadata": {},
   "outputs": [
    {
     "data": {
      "text/html": [
       "<div>\n",
       "<style scoped>\n",
       "    .dataframe tbody tr th:only-of-type {\n",
       "        vertical-align: middle;\n",
       "    }\n",
       "\n",
       "    .dataframe tbody tr th {\n",
       "        vertical-align: top;\n",
       "    }\n",
       "\n",
       "    .dataframe thead th {\n",
       "        text-align: right;\n",
       "    }\n",
       "</style>\n",
       "<table border=\"1\" class=\"dataframe\">\n",
       "  <thead>\n",
       "    <tr style=\"text-align: right;\">\n",
       "      <th></th>\n",
       "      <th>I</th>\n",
       "      <th>R</th>\n",
       "      <th>sigma_I</th>\n",
       "      <th>phases</th>\n",
       "      <th>two_th</th>\n",
       "      <th>IR</th>\n",
       "      <th>sig_IR</th>\n",
       "    </tr>\n",
       "  </thead>\n",
       "  <tbody>\n",
       "    <tr>\n",
       "      <th>0</th>\n",
       "      <td>21716.194</td>\n",
       "      <td>261157.488</td>\n",
       "      <td>168.301</td>\n",
       "      <td>austenite-SRM487.cif</td>\n",
       "      <td>43.593</td>\n",
       "      <td>0.083154</td>\n",
       "      <td>0.000644</td>\n",
       "    </tr>\n",
       "    <tr>\n",
       "      <th>1</th>\n",
       "      <td>7812.145</td>\n",
       "      <td>122379.402</td>\n",
       "      <td>123.253</td>\n",
       "      <td>austenite-SRM487.cif</td>\n",
       "      <td>50.777</td>\n",
       "      <td>0.063835</td>\n",
       "      <td>0.001007</td>\n",
       "    </tr>\n",
       "    <tr>\n",
       "      <th>2</th>\n",
       "      <td>4734.357</td>\n",
       "      <td>70554.804</td>\n",
       "      <td>103.257</td>\n",
       "      <td>austenite-SRM487.cif</td>\n",
       "      <td>74.651</td>\n",
       "      <td>0.067102</td>\n",
       "      <td>0.001464</td>\n",
       "    </tr>\n",
       "    <tr>\n",
       "      <th>3</th>\n",
       "      <td>4864.974</td>\n",
       "      <td>80763.209</td>\n",
       "      <td>110.421</td>\n",
       "      <td>austenite-SRM487.cif</td>\n",
       "      <td>90.633</td>\n",
       "      <td>0.060238</td>\n",
       "      <td>0.001367</td>\n",
       "    </tr>\n",
       "    <tr>\n",
       "      <th>4</th>\n",
       "      <td>1368.346</td>\n",
       "      <td>23555.357</td>\n",
       "      <td>80.239</td>\n",
       "      <td>austenite-SRM487.cif</td>\n",
       "      <td>95.910</td>\n",
       "      <td>0.058091</td>\n",
       "      <td>0.003406</td>\n",
       "    </tr>\n",
       "  </tbody>\n",
       "</table>\n",
       "</div>"
      ],
      "text/plain": [
       "           I           R  sigma_I                phases  two_th        IR  \\\n",
       "0  21716.194  261157.488  168.301  austenite-SRM487.cif  43.593  0.083154   \n",
       "1   7812.145  122379.402  123.253  austenite-SRM487.cif  50.777  0.063835   \n",
       "2   4734.357   70554.804  103.257  austenite-SRM487.cif  74.651  0.067102   \n",
       "3   4864.974   80763.209  110.421  austenite-SRM487.cif  90.633  0.060238   \n",
       "4   1368.346   23555.357   80.239  austenite-SRM487.cif  95.910  0.058091   \n",
       "\n",
       "     sig_IR  \n",
       "0  0.000644  \n",
       "1  0.001007  \n",
       "2  0.001464  \n",
       "3  0.001367  \n",
       "4  0.003406  "
      ]
     },
     "execution_count": 6,
     "metadata": {},
     "output_type": "execute_result"
    }
   ],
   "source": [
    "mydf.head()"
   ]
  },
  {
   "cell_type": "code",
   "execution_count": 7,
   "id": "6505a072",
   "metadata": {},
   "outputs": [],
   "source": [
    "mydf['phase_id'] = 0"
   ]
  },
  {
   "cell_type": "code",
   "execution_count": 8,
   "id": "8d5d1352",
   "metadata": {},
   "outputs": [],
   "source": [
    "unique_phases = np.unique(mydf.phases)"
   ]
  },
  {
   "cell_type": "code",
   "execution_count": 9,
   "id": "14c14a88",
   "metadata": {},
   "outputs": [],
   "source": [
    "for ii, pn in enumerate(unique_phases):\n",
    "    mydf.loc[mydf['phases'] == pn,'phase_id'] = ii+1"
   ]
  },
  {
   "cell_type": "code",
   "execution_count": 10,
   "id": "d929f093",
   "metadata": {},
   "outputs": [
    {
     "data": {
      "text/html": [
       "<div>\n",
       "<style scoped>\n",
       "    .dataframe tbody tr th:only-of-type {\n",
       "        vertical-align: middle;\n",
       "    }\n",
       "\n",
       "    .dataframe tbody tr th {\n",
       "        vertical-align: top;\n",
       "    }\n",
       "\n",
       "    .dataframe thead th {\n",
       "        text-align: right;\n",
       "    }\n",
       "</style>\n",
       "<table border=\"1\" class=\"dataframe\">\n",
       "  <thead>\n",
       "    <tr style=\"text-align: right;\">\n",
       "      <th></th>\n",
       "      <th>I</th>\n",
       "      <th>R</th>\n",
       "      <th>sigma_I</th>\n",
       "      <th>phases</th>\n",
       "      <th>two_th</th>\n",
       "      <th>IR</th>\n",
       "      <th>sig_IR</th>\n",
       "      <th>phase_id</th>\n",
       "    </tr>\n",
       "  </thead>\n",
       "  <tbody>\n",
       "    <tr>\n",
       "      <th>0</th>\n",
       "      <td>21716.194</td>\n",
       "      <td>261157.488</td>\n",
       "      <td>168.301</td>\n",
       "      <td>austenite-SRM487.cif</td>\n",
       "      <td>43.593</td>\n",
       "      <td>0.083154</td>\n",
       "      <td>0.000644</td>\n",
       "      <td>1</td>\n",
       "    </tr>\n",
       "    <tr>\n",
       "      <th>1</th>\n",
       "      <td>7812.145</td>\n",
       "      <td>122379.402</td>\n",
       "      <td>123.253</td>\n",
       "      <td>austenite-SRM487.cif</td>\n",
       "      <td>50.777</td>\n",
       "      <td>0.063835</td>\n",
       "      <td>0.001007</td>\n",
       "      <td>1</td>\n",
       "    </tr>\n",
       "    <tr>\n",
       "      <th>2</th>\n",
       "      <td>4734.357</td>\n",
       "      <td>70554.804</td>\n",
       "      <td>103.257</td>\n",
       "      <td>austenite-SRM487.cif</td>\n",
       "      <td>74.651</td>\n",
       "      <td>0.067102</td>\n",
       "      <td>0.001464</td>\n",
       "      <td>1</td>\n",
       "    </tr>\n",
       "    <tr>\n",
       "      <th>3</th>\n",
       "      <td>4864.974</td>\n",
       "      <td>80763.209</td>\n",
       "      <td>110.421</td>\n",
       "      <td>austenite-SRM487.cif</td>\n",
       "      <td>90.633</td>\n",
       "      <td>0.060238</td>\n",
       "      <td>0.001367</td>\n",
       "      <td>1</td>\n",
       "    </tr>\n",
       "    <tr>\n",
       "      <th>4</th>\n",
       "      <td>1368.346</td>\n",
       "      <td>23555.357</td>\n",
       "      <td>80.239</td>\n",
       "      <td>austenite-SRM487.cif</td>\n",
       "      <td>95.910</td>\n",
       "      <td>0.058091</td>\n",
       "      <td>0.003406</td>\n",
       "      <td>1</td>\n",
       "    </tr>\n",
       "  </tbody>\n",
       "</table>\n",
       "</div>"
      ],
      "text/plain": [
       "           I           R  sigma_I                phases  two_th        IR  \\\n",
       "0  21716.194  261157.488  168.301  austenite-SRM487.cif  43.593  0.083154   \n",
       "1   7812.145  122379.402  123.253  austenite-SRM487.cif  50.777  0.063835   \n",
       "2   4734.357   70554.804  103.257  austenite-SRM487.cif  74.651  0.067102   \n",
       "3   4864.974   80763.209  110.421  austenite-SRM487.cif  90.633  0.060238   \n",
       "4   1368.346   23555.357   80.239  austenite-SRM487.cif  95.910  0.058091   \n",
       "\n",
       "     sig_IR  phase_id  \n",
       "0  0.000644         1  \n",
       "1  0.001007         1  \n",
       "2  0.001464         1  \n",
       "3  0.001367         1  \n",
       "4  0.003406         1  "
      ]
     },
     "execution_count": 10,
     "metadata": {},
     "output_type": "execute_result"
    }
   ],
   "source": [
    "mydf.head()"
   ]
  },
  {
   "cell_type": "markdown",
   "id": "47583e0c",
   "metadata": {},
   "source": [
    "### Stan starts here"
   ]
  },
  {
   "cell_type": "code",
   "execution_count": 50,
   "id": "dce89f15",
   "metadata": {},
   "outputs": [],
   "source": [
    "stan_file = 'one_sample.stan'"
   ]
  },
  {
   "cell_type": "code",
   "execution_count": 36,
   "id": "f5b909ab",
   "metadata": {},
   "outputs": [
    {
     "name": "stderr",
     "output_type": "stream",
     "text": [
      "INFO:cmdstanpy:compiling stan file C:\\Users\\dtn1\\Documents\\AusteniteCalc\\austenitecalculator\\ExampleScripts\\one_sample.stan to exe file C:\\Users\\dtn1\\Documents\\AusteniteCalc\\austenitecalculator\\ExampleScripts\\one_sample.exe\n",
      "INFO:cmdstanpy:compiled model executable: C:\\Users\\dtn1\\Documents\\AusteniteCalc\\austenitecalculator\\ExampleScripts\\one_sample.exe\n",
      "WARNING:cmdstanpy:Stan compiler has produced 1 warnings:\n",
      "WARNING:cmdstanpy:\n",
      "--- Translating Stan model to C++ code ---\n",
      "bin/stanc.exe  --o=C:/Users/dtn1/Documents/AusteniteCalc/austenitecalculator/ExampleScripts/one_sample.hpp C:/Users/dtn1/Documents/AusteniteCalc/austenitecalculator/ExampleScripts/one_sample.stan\n",
      "Warning in 'C:/Users/dtn1/Documents/AusteniteCalc/austenitecalculator/ExampleScripts/one_sample.stan', line 5, column 4: Declaration\n",
      "    of arrays by placing brackets after a variable name is deprecated and\n",
      "    will be removed in Stan 2.32.0. Instead use the array keyword before the\n",
      "    type. This can be changed automatically using the auto-format flag to\n",
      "    stanc\n",
      "\n",
      "--- Compiling, linking C++ code ---\n",
      "g++ -std=c++1y -m64 -D_REENTRANT -Wall -Wno-unused-function -Wno-uninitialized -Wno-unused-but-set-variable -Wno-unused-variable -Wno-sign-compare -Wno-unused-local-typedefs -Wno-int-in-bool-context -Wno-attributes -Wno-ignored-attributes      -I stan/lib/stan_math/lib/tbb_2020.3/include    -O3 -I src -I stan/src -I lib/rapidjson_1.1.0/ -I lib/CLI11-1.9.1/ -I stan/lib/stan_math/ -I stan/lib/stan_math/lib/eigen_3.3.9 -I stan/lib/stan_math/lib/boost_1.75.0 -I stan/lib/stan_math/lib/sundials_6.0.0/include -I stan/lib/stan_math/lib/sundials_6.0.0/src/sundials  -D_USE_MATH_DEFINES  -DBOOST_DISABLE_ASSERTS          -c  -x c++ -o C:/Users/dtn1/Documents/AusteniteCalc/austenitecalculator/ExampleScripts/one_sample.o C:/Users/dtn1/Documents/AusteniteCalc/austenitecalculator/ExampleScripts/one_sample.hpp\n",
      "g++ -std=c++1y -m64 -D_REENTRANT -Wall -Wno-unused-function -Wno-uninitialized -Wno-unused-but-set-variable -Wno-unused-variable -Wno-sign-compare -Wno-unused-local-typedefs -Wno-int-in-bool-context -Wno-attributes -Wno-ignored-attributes      -I stan/lib/stan_math/lib/tbb_2020.3/include    -O3 -I src -I stan/src -I lib/rapidjson_1.1.0/ -I lib/CLI11-1.9.1/ -I stan/lib/stan_math/ -I stan/lib/stan_math/lib/eigen_3.3.9 -I stan/lib/stan_math/lib/boost_1.75.0 -I stan/lib/stan_math/lib/sundials_6.0.0/include -I stan/lib/stan_math/lib/sundials_6.0.0/src/sundials  -D_USE_MATH_DEFINES  -DBOOST_DISABLE_ASSERTS                -Wl,-L,\"C:/Users/dtn1/Anaconda3/envs/gsas-AustCalc/Library/bin/cmdstan/stan/lib/stan_math/lib/tbb\" -Wl,-rpath,\"C:/Users/dtn1/Anaconda3/envs/gsas-AustCalc/Library/bin/cmdstan/stan/lib/stan_math/lib/tbb\"      C:/Users/dtn1/Documents/AusteniteCalc/austenitecalculator/ExampleScripts/one_sample.o src/cmdstan/main.o  -static-libgcc -static-libstdc++      -Wl,-L,\"C:/Users/dtn1/Anaconda3/envs/gsas-AustCalc/Library/bin/cmdstan/stan/lib/stan_math/lib/tbb\" -Wl,-rpath,\"C:/Users/dtn1/Anaconda3/envs/gsas-AustCalc/Library/bin/cmdstan/stan/lib/stan_math/lib/tbb\"   stan/lib/stan_math/lib/sundials_6.0.0/lib/libsundials_nvecserial.a stan/lib/stan_math/lib/sundials_6.0.0/lib/libsundials_cvodes.a stan/lib/stan_math/lib/sundials_6.0.0/lib/libsundials_idas.a stan/lib/stan_math/lib/sundials_6.0.0/lib/libsundials_kinsol.a  stan/lib/stan_math/lib/tbb/tbb.dll -o C:/Users/dtn1/Documents/AusteniteCalc/austenitecalculator/ExampleScripts/one_sample.exe\n",
      "rm -f C:/Users/dtn1/Documents/AusteniteCalc/austenitecalculator/ExampleScripts/one_sample.o\n",
      "\n"
     ]
    }
   ],
   "source": [
    "model = CmdStanModel(stan_file=stan_file)"
   ]
  },
  {
   "cell_type": "code",
   "execution_count": 51,
   "id": "2a05224b",
   "metadata": {},
   "outputs": [
    {
     "data": {
      "text/plain": [
       "['.ipynb_checkpoints',\n",
       " 'cif_composition_simulations.ipynb',\n",
       " 'compute_structure_factor.ipynb',\n",
       " 'GSASIIscript-LeBailSingleLikeGSAS.ipynb',\n",
       " 'hello_world.exe',\n",
       " 'hello_world.hpp',\n",
       " 'hello_world.stan',\n",
       " 'intensity_table.csv',\n",
       " 'InteractionVolume-Plot.ipynb',\n",
       " 'InteractionVolume.ipynb',\n",
       " 'one_sample.exe',\n",
       " 'one_sample.hpp',\n",
       " 'one_sample.stan',\n",
       " 'pf_uncertainty_conjugate_priors.ipynb',\n",
       " 'pf_uncertainty_stan.ipynb',\n",
       " 'pf_uncertainty_with_pymc3.ipynb',\n",
       " 'pf_uq_math.ipynb',\n",
       " 'ScatteringFactor.ipynb',\n",
       " 'XRDSystem-parameters.xlsx']"
      ]
     },
     "execution_count": 51,
     "metadata": {},
     "output_type": "execute_result"
    }
   ],
   "source": [
    "os.listdir()"
   ]
  },
  {
   "cell_type": "code",
   "execution_count": 52,
   "id": "7e70ba50",
   "metadata": {},
   "outputs": [],
   "source": [
    "stan_data = {\n",
    "    \"N\":mydf.shape[0],\n",
    "    \"N_phases\":len(np.unique(mydf.phases)),\n",
    "    \"Y\":mydf.IR,\n",
    "    \"phase\":mydf.phase_id,\n",
    "    \"prior_scale\":np.std(mydf.IR),\n",
    "    \"prior_location\":np.mean(mydf.IR)\n",
    "}\n",
    "\n",
    "stan_init = {\n",
    "    \"mu_phase\":np.mean(mydf.IR),\n",
    "    \"sigma_exp\":np.std(mydf.IR)\n",
    "}"
   ]
  },
  {
   "cell_type": "code",
   "execution_count": 58,
   "id": "c108c3e7",
   "metadata": {},
   "outputs": [
    {
     "name": "stderr",
     "output_type": "stream",
     "text": [
      "INFO:cmdstanpy:CmdStan start processing\n"
     ]
    },
    {
     "data": {
      "application/vnd.jupyter.widget-view+json": {
       "model_id": "4d7d2f5b230a409cab467a2f7cf4394f",
       "version_major": 2,
       "version_minor": 0
      },
      "text/plain": [
       "chain 1 |          | 00:00 Status"
      ]
     },
     "metadata": {},
     "output_type": "display_data"
    },
    {
     "data": {
      "application/vnd.jupyter.widget-view+json": {
       "model_id": "fad59e0cccc249339322d449b0831265",
       "version_major": 2,
       "version_minor": 0
      },
      "text/plain": [
       "chain 2 |          | 00:00 Status"
      ]
     },
     "metadata": {},
     "output_type": "display_data"
    },
    {
     "data": {
      "application/vnd.jupyter.widget-view+json": {
       "model_id": "48f35f993f97422b8e55570c6f72a505",
       "version_major": 2,
       "version_minor": 0
      },
      "text/plain": [
       "chain 3 |          | 00:00 Status"
      ]
     },
     "metadata": {},
     "output_type": "display_data"
    },
    {
     "data": {
      "application/vnd.jupyter.widget-view+json": {
       "model_id": "16c138b47f5245fe871bb3950a7115c8",
       "version_major": 2,
       "version_minor": 0
      },
      "text/plain": [
       "chain 4 |          | 00:00 Status"
      ]
     },
     "metadata": {},
     "output_type": "display_data"
    },
    {
     "name": "stdout",
     "output_type": "stream",
     "text": [
      "                                                                                                                                                                                                                                                                                                                                                                                                                                                                                                "
     ]
    },
    {
     "name": "stderr",
     "output_type": "stream",
     "text": [
      "INFO:cmdstanpy:CmdStan done processing.\n"
     ]
    },
    {
     "name": "stdout",
     "output_type": "stream",
     "text": [
      "\n"
     ]
    }
   ],
   "source": [
    "start = time.time()\n",
    "fit = model.sample(data=stan_data,\n",
    "                   #inits=stan_init,\n",
    "                   chains=4,\n",
    "                   iter_warmup=1000, \n",
    "                   iter_sampling=1000)\n",
    "end = time.time()"
   ]
  },
  {
   "cell_type": "code",
   "execution_count": 59,
   "id": "aeda897c",
   "metadata": {},
   "outputs": [
    {
     "data": {
      "text/html": [
       "<div>\n",
       "<style scoped>\n",
       "    .dataframe tbody tr th:only-of-type {\n",
       "        vertical-align: middle;\n",
       "    }\n",
       "\n",
       "    .dataframe tbody tr th {\n",
       "        vertical-align: top;\n",
       "    }\n",
       "\n",
       "    .dataframe thead th {\n",
       "        text-align: right;\n",
       "    }\n",
       "</style>\n",
       "<table border=\"1\" class=\"dataframe\">\n",
       "  <thead>\n",
       "    <tr style=\"text-align: right;\">\n",
       "      <th></th>\n",
       "      <th>Mean</th>\n",
       "      <th>MCSE</th>\n",
       "      <th>StdDev</th>\n",
       "      <th>5%</th>\n",
       "      <th>50%</th>\n",
       "      <th>95%</th>\n",
       "      <th>N_Eff</th>\n",
       "      <th>N_Eff/s</th>\n",
       "      <th>R_hat</th>\n",
       "    </tr>\n",
       "    <tr>\n",
       "      <th>name</th>\n",
       "      <th></th>\n",
       "      <th></th>\n",
       "      <th></th>\n",
       "      <th></th>\n",
       "      <th></th>\n",
       "      <th></th>\n",
       "      <th></th>\n",
       "      <th></th>\n",
       "      <th></th>\n",
       "    </tr>\n",
       "  </thead>\n",
       "  <tbody>\n",
       "    <tr>\n",
       "      <th>lp__</th>\n",
       "      <td>20.000</td>\n",
       "      <td>0.05600</td>\n",
       "      <td>1.800</td>\n",
       "      <td>17.000</td>\n",
       "      <td>20.000</td>\n",
       "      <td>22.000</td>\n",
       "      <td>1000.0</td>\n",
       "      <td>3400.0</td>\n",
       "      <td>1.0</td>\n",
       "    </tr>\n",
       "    <tr>\n",
       "      <th>sigma_exp[1]</th>\n",
       "      <td>0.035</td>\n",
       "      <td>0.00044</td>\n",
       "      <td>0.017</td>\n",
       "      <td>0.019</td>\n",
       "      <td>0.031</td>\n",
       "      <td>0.063</td>\n",
       "      <td>1435.0</td>\n",
       "      <td>4673.0</td>\n",
       "      <td>1.0</td>\n",
       "    </tr>\n",
       "    <tr>\n",
       "      <th>sigma_exp[2]</th>\n",
       "      <td>0.055</td>\n",
       "      <td>0.00074</td>\n",
       "      <td>0.026</td>\n",
       "      <td>0.027</td>\n",
       "      <td>0.049</td>\n",
       "      <td>0.110</td>\n",
       "      <td>1296.0</td>\n",
       "      <td>4220.0</td>\n",
       "      <td>1.0</td>\n",
       "    </tr>\n",
       "    <tr>\n",
       "      <th>phase_mu[1]</th>\n",
       "      <td>0.057</td>\n",
       "      <td>0.00038</td>\n",
       "      <td>0.016</td>\n",
       "      <td>0.034</td>\n",
       "      <td>0.057</td>\n",
       "      <td>0.082</td>\n",
       "      <td>1675.0</td>\n",
       "      <td>5457.0</td>\n",
       "      <td>1.0</td>\n",
       "    </tr>\n",
       "    <tr>\n",
       "      <th>phase_mu[2]</th>\n",
       "      <td>0.280</td>\n",
       "      <td>0.00097</td>\n",
       "      <td>0.028</td>\n",
       "      <td>0.230</td>\n",
       "      <td>0.280</td>\n",
       "      <td>0.320</td>\n",
       "      <td>857.0</td>\n",
       "      <td>2793.0</td>\n",
       "      <td>1.0</td>\n",
       "    </tr>\n",
       "  </tbody>\n",
       "</table>\n",
       "</div>"
      ],
      "text/plain": [
       "                Mean     MCSE  StdDev      5%     50%     95%   N_Eff  \\\n",
       "name                                                                    \n",
       "lp__          20.000  0.05600   1.800  17.000  20.000  22.000  1000.0   \n",
       "sigma_exp[1]   0.035  0.00044   0.017   0.019   0.031   0.063  1435.0   \n",
       "sigma_exp[2]   0.055  0.00074   0.026   0.027   0.049   0.110  1296.0   \n",
       "phase_mu[1]    0.057  0.00038   0.016   0.034   0.057   0.082  1675.0   \n",
       "phase_mu[2]    0.280  0.00097   0.028   0.230   0.280   0.320   857.0   \n",
       "\n",
       "              N_Eff/s  R_hat  \n",
       "name                          \n",
       "lp__           3400.0    1.0  \n",
       "sigma_exp[1]   4673.0    1.0  \n",
       "sigma_exp[2]   4220.0    1.0  \n",
       "phase_mu[1]    5457.0    1.0  \n",
       "phase_mu[2]    2793.0    1.0  "
      ]
     },
     "execution_count": 59,
     "metadata": {},
     "output_type": "execute_result"
    }
   ],
   "source": [
    "fit.summary()"
   ]
  },
  {
   "cell_type": "markdown",
   "id": "b8dcc460",
   "metadata": {},
   "source": [
    "### Multiple samples"
   ]
  },
  {
   "cell_type": "code",
   "execution_count": 12,
   "id": "f382b004",
   "metadata": {},
   "outputs": [],
   "source": [
    "multiple_df = pd.concat((mydf.copy(),mydf.copy(),mydf.copy())).reset_index(drop=True)\n",
    "multiple_df['sample_id'] = np.repeat((0,1,2),11)\n",
    "np.random.seed(123)\n",
    "\n",
    "for ii in range(3):\n",
    "    multiple_df.loc[multiple_df['sample_id']==ii,'I'] = multiple_df['I'].loc[multiple_df['sample_id']==ii]*(1+ii/2)\n",
    "    \n",
    "multiple_df['I'] = multiple_df['I'] + np.random.normal(0,multiple_df['I']/10,multiple_df.shape[0])\n",
    "multiple_df['IR'] = multiple_df['I']/multiple_df['R']"
   ]
  },
  {
   "cell_type": "code",
   "execution_count": 39,
   "id": "e231fbc4",
   "metadata": {},
   "outputs": [],
   "source": [
    "multiple_df['sample_id'] = multiple_df['sample_id'] + 1"
   ]
  },
  {
   "cell_type": "code",
   "execution_count": 40,
   "id": "7ec049fa",
   "metadata": {},
   "outputs": [
    {
     "data": {
      "text/html": [
       "<div>\n",
       "<style scoped>\n",
       "    .dataframe tbody tr th:only-of-type {\n",
       "        vertical-align: middle;\n",
       "    }\n",
       "\n",
       "    .dataframe tbody tr th {\n",
       "        vertical-align: top;\n",
       "    }\n",
       "\n",
       "    .dataframe thead th {\n",
       "        text-align: right;\n",
       "    }\n",
       "</style>\n",
       "<table border=\"1\" class=\"dataframe\">\n",
       "  <thead>\n",
       "    <tr style=\"text-align: right;\">\n",
       "      <th></th>\n",
       "      <th>I</th>\n",
       "      <th>R</th>\n",
       "      <th>sigma_I</th>\n",
       "      <th>phases</th>\n",
       "      <th>two_th</th>\n",
       "      <th>IR</th>\n",
       "      <th>sig_IR</th>\n",
       "      <th>phase_id</th>\n",
       "      <th>sample_id</th>\n",
       "    </tr>\n",
       "  </thead>\n",
       "  <tbody>\n",
       "    <tr>\n",
       "      <th>0</th>\n",
       "      <td>19358.617521</td>\n",
       "      <td>261157.488</td>\n",
       "      <td>168.301</td>\n",
       "      <td>austenite-SRM487.cif</td>\n",
       "      <td>43.593</td>\n",
       "      <td>0.074126</td>\n",
       "      <td>0.000644</td>\n",
       "      <td>1</td>\n",
       "      <td>1</td>\n",
       "    </tr>\n",
       "    <tr>\n",
       "      <th>1</th>\n",
       "      <td>8591.285724</td>\n",
       "      <td>122379.402</td>\n",
       "      <td>123.253</td>\n",
       "      <td>austenite-SRM487.cif</td>\n",
       "      <td>50.777</td>\n",
       "      <td>0.070202</td>\n",
       "      <td>0.001007</td>\n",
       "      <td>1</td>\n",
       "      <td>1</td>\n",
       "    </tr>\n",
       "    <tr>\n",
       "      <th>2</th>\n",
       "      <td>4868.329123</td>\n",
       "      <td>70554.804</td>\n",
       "      <td>103.257</td>\n",
       "      <td>austenite-SRM487.cif</td>\n",
       "      <td>74.651</td>\n",
       "      <td>0.069001</td>\n",
       "      <td>0.001464</td>\n",
       "      <td>1</td>\n",
       "      <td>1</td>\n",
       "    </tr>\n",
       "    <tr>\n",
       "      <th>3</th>\n",
       "      <td>4132.165538</td>\n",
       "      <td>80763.209</td>\n",
       "      <td>110.421</td>\n",
       "      <td>austenite-SRM487.cif</td>\n",
       "      <td>90.633</td>\n",
       "      <td>0.051164</td>\n",
       "      <td>0.001367</td>\n",
       "      <td>1</td>\n",
       "      <td>1</td>\n",
       "    </tr>\n",
       "    <tr>\n",
       "      <th>4</th>\n",
       "      <td>1289.173466</td>\n",
       "      <td>23555.357</td>\n",
       "      <td>80.239</td>\n",
       "      <td>austenite-SRM487.cif</td>\n",
       "      <td>95.910</td>\n",
       "      <td>0.054730</td>\n",
       "      <td>0.003406</td>\n",
       "      <td>1</td>\n",
       "      <td>1</td>\n",
       "    </tr>\n",
       "  </tbody>\n",
       "</table>\n",
       "</div>"
      ],
      "text/plain": [
       "              I           R  sigma_I                phases  two_th        IR  \\\n",
       "0  19358.617521  261157.488  168.301  austenite-SRM487.cif  43.593  0.074126   \n",
       "1   8591.285724  122379.402  123.253  austenite-SRM487.cif  50.777  0.070202   \n",
       "2   4868.329123   70554.804  103.257  austenite-SRM487.cif  74.651  0.069001   \n",
       "3   4132.165538   80763.209  110.421  austenite-SRM487.cif  90.633  0.051164   \n",
       "4   1289.173466   23555.357   80.239  austenite-SRM487.cif  95.910  0.054730   \n",
       "\n",
       "     sig_IR  phase_id  sample_id  \n",
       "0  0.000644         1          1  \n",
       "1  0.001007         1          1  \n",
       "2  0.001464         1          1  \n",
       "3  0.001367         1          1  \n",
       "4  0.003406         1          1  "
      ]
     },
     "execution_count": 40,
     "metadata": {},
     "output_type": "execute_result"
    }
   ],
   "source": [
    "multiple_df.head()"
   ]
  },
  {
   "cell_type": "code",
   "execution_count": 41,
   "id": "52189cdc",
   "metadata": {},
   "outputs": [
    {
     "data": {
      "text/plain": [
       "<seaborn.axisgrid.FacetGrid at 0x22f39deeb38>"
      ]
     },
     "execution_count": 41,
     "metadata": {},
     "output_type": "execute_result"
    },
    {
     "data": {
      "image/png": "[encoded data removed]",
      "text/plain": [
       "<Figure size 648x216 with 3 Axes>"
      ]
     },
     "metadata": {
      "needs_background": "light"
     },
     "output_type": "display_data"
    }
   ],
   "source": [
    "#multiple_df\n",
    "g = sns.FacetGrid(multiple_df,col='sample_id',hue='phases')\n",
    "g.map(sns.scatterplot,'two_th','IR')"
   ]
  },
  {
   "cell_type": "markdown",
   "id": "af1e259a",
   "metadata": {},
   "source": [
    "### Stan starts here"
   ]
  },
  {
   "cell_type": "code",
   "execution_count": 42,
   "id": "ff4d0207",
   "metadata": {},
   "outputs": [],
   "source": [
    "stan_file = 'multiple_samples.stan'"
   ]
  },
  {
   "cell_type": "code",
   "execution_count": 43,
   "id": "42e2a25f",
   "metadata": {
    "scrolled": true
   },
   "outputs": [
    {
     "name": "stderr",
     "output_type": "stream",
     "text": [
      "INFO:cmdstanpy:compiling stan file C:\\Users\\dtn1\\Documents\\AusteniteCalc\\austenitecalculator\\ExampleScripts\\multiple_samples.stan to exe file C:\\Users\\dtn1\\Documents\\AusteniteCalc\\austenitecalculator\\ExampleScripts\\multiple_samples.exe\n",
      "INFO:cmdstanpy:compiled model executable: C:\\Users\\dtn1\\Documents\\AusteniteCalc\\austenitecalculator\\ExampleScripts\\multiple_samples.exe\n"
     ]
    }
   ],
   "source": [
    "model = CmdStanModel(stan_file=stan_file)"
   ]
  },
  {
   "cell_type": "code",
   "execution_count": 44,
   "id": "a859b1fe",
   "metadata": {},
   "outputs": [],
   "source": [
    "stan_data = {\n",
    "    \"N\":multiple_df.shape[0],\n",
    "    \"N_samples\":len(np.unique(multiple_df.sample_id)),\n",
    "    \"N_phases\":len(np.unique(multiple_df.phases)),\n",
    "    \"Y\":multiple_df.IR,\n",
    "    \"phase\":multiple_df.phase_id,\n",
    "    \"group\":multiple_df.sample_id,\n",
    "    \"prior_scale\":np.std(multiple_df.IR),\n",
    "    \"prior_location\":np.mean(multiple_df.IR)\n",
    "}\n",
    "\n",
    "stan_init = {\n",
    "    \"mu_phase\":np.mean(multiple_df.IR),\n",
    "    \"sigma_exp\":np.std(multiple_df.IR),\n",
    "    \"sigma_sample\":np.std(multiple_df.IR),\n",
    "    \"group_effect\":0\n",
    "}"
   ]
  },
  {
   "cell_type": "code",
   "execution_count": 45,
   "id": "d876bbd3",
   "metadata": {},
   "outputs": [
    {
     "name": "stderr",
     "output_type": "stream",
     "text": [
      "INFO:cmdstanpy:CmdStan start processing\n"
     ]
    },
    {
     "data": {
      "application/vnd.jupyter.widget-view+json": {
       "model_id": "45e33d279c6f451bb1fe458f8ade7c26",
       "version_major": 2,
       "version_minor": 0
      },
      "text/plain": [
       "chain 1 |          | 00:00 Status"
      ]
     },
     "metadata": {},
     "output_type": "display_data"
    },
    {
     "data": {
      "application/vnd.jupyter.widget-view+json": {
       "model_id": "7e79253d75ec41739e0528d110973cbb",
       "version_major": 2,
       "version_minor": 0
      },
      "text/plain": [
       "chain 2 |          | 00:00 Status"
      ]
     },
     "metadata": {},
     "output_type": "display_data"
    },
    {
     "data": {
      "application/vnd.jupyter.widget-view+json": {
       "model_id": "6e2ace065f4040e8acaa50fee41498b7",
       "version_major": 2,
       "version_minor": 0
      },
      "text/plain": [
       "chain 3 |          | 00:00 Status"
      ]
     },
     "metadata": {},
     "output_type": "display_data"
    },
    {
     "data": {
      "application/vnd.jupyter.widget-view+json": {
       "model_id": "787e5ddaf115466b981e6be89cc260ac",
       "version_major": 2,
       "version_minor": 0
      },
      "text/plain": [
       "chain 4 |          | 00:00 Status"
      ]
     },
     "metadata": {},
     "output_type": "display_data"
    },
    {
     "name": "stdout",
     "output_type": "stream",
     "text": [
      "                                                                                                                                                                                                                                                                                                                                                                                                                                                                                                "
     ]
    },
    {
     "name": "stderr",
     "output_type": "stream",
     "text": [
      "INFO:cmdstanpy:CmdStan done processing.\n"
     ]
    },
    {
     "name": "stdout",
     "output_type": "stream",
     "text": [
      "\n"
     ]
    }
   ],
   "source": [
    "start = time.time()\n",
    "fit = model.sample(data=stan_data,\n",
    "                   #inits=stan_init,\n",
    "                   chains=4,\n",
    "                   iter_warmup=1000, \n",
    "                   iter_sampling=1000)\n",
    "end = time.time()"
   ]
  },
  {
   "cell_type": "code",
   "execution_count": 46,
   "id": "f0bc40dc",
   "metadata": {},
   "outputs": [
    {
     "data": {
      "text/html": [
       "<div>\n",
       "<style scoped>\n",
       "    .dataframe tbody tr th:only-of-type {\n",
       "        vertical-align: middle;\n",
       "    }\n",
       "\n",
       "    .dataframe tbody tr th {\n",
       "        vertical-align: top;\n",
       "    }\n",
       "\n",
       "    .dataframe thead th {\n",
       "        text-align: right;\n",
       "    }\n",
       "</style>\n",
       "<table border=\"1\" class=\"dataframe\">\n",
       "  <thead>\n",
       "    <tr style=\"text-align: right;\">\n",
       "      <th></th>\n",
       "      <th>Mean</th>\n",
       "      <th>MCSE</th>\n",
       "      <th>StdDev</th>\n",
       "      <th>5%</th>\n",
       "      <th>50%</th>\n",
       "      <th>95%</th>\n",
       "      <th>N_Eff</th>\n",
       "      <th>N_Eff/s</th>\n",
       "      <th>R_hat</th>\n",
       "    </tr>\n",
       "    <tr>\n",
       "      <th>name</th>\n",
       "      <th></th>\n",
       "      <th></th>\n",
       "      <th></th>\n",
       "      <th></th>\n",
       "      <th></th>\n",
       "      <th></th>\n",
       "      <th></th>\n",
       "      <th></th>\n",
       "      <th></th>\n",
       "    </tr>\n",
       "  </thead>\n",
       "  <tbody>\n",
       "    <tr>\n",
       "      <th>lp__</th>\n",
       "      <td>68.0000</td>\n",
       "      <td>0.06600</td>\n",
       "      <td>2.2000</td>\n",
       "      <td>64.000</td>\n",
       "      <td>69.0000</td>\n",
       "      <td>71.000</td>\n",
       "      <td>1100.0</td>\n",
       "      <td>1200.0</td>\n",
       "      <td>1.0</td>\n",
       "    </tr>\n",
       "    <tr>\n",
       "      <th>sigma_sample</th>\n",
       "      <td>0.0670</td>\n",
       "      <td>0.00150</td>\n",
       "      <td>0.0510</td>\n",
       "      <td>0.016</td>\n",
       "      <td>0.0530</td>\n",
       "      <td>0.170</td>\n",
       "      <td>1200.0</td>\n",
       "      <td>1300.0</td>\n",
       "      <td>1.0</td>\n",
       "    </tr>\n",
       "    <tr>\n",
       "      <th>sigma_exp[1]</th>\n",
       "      <td>0.0430</td>\n",
       "      <td>0.00023</td>\n",
       "      <td>0.0088</td>\n",
       "      <td>0.031</td>\n",
       "      <td>0.0420</td>\n",
       "      <td>0.059</td>\n",
       "      <td>1458.0</td>\n",
       "      <td>1572.0</td>\n",
       "      <td>1.0</td>\n",
       "    </tr>\n",
       "    <tr>\n",
       "      <th>sigma_exp[2]</th>\n",
       "      <td>0.1300</td>\n",
       "      <td>0.00058</td>\n",
       "      <td>0.0260</td>\n",
       "      <td>0.090</td>\n",
       "      <td>0.1200</td>\n",
       "      <td>0.170</td>\n",
       "      <td>2043.0</td>\n",
       "      <td>2202.0</td>\n",
       "      <td>1.0</td>\n",
       "    </tr>\n",
       "    <tr>\n",
       "      <th>phase_mu[1]</th>\n",
       "      <td>0.0870</td>\n",
       "      <td>0.00160</td>\n",
       "      <td>0.0380</td>\n",
       "      <td>0.028</td>\n",
       "      <td>0.0850</td>\n",
       "      <td>0.160</td>\n",
       "      <td>566.0</td>\n",
       "      <td>610.0</td>\n",
       "      <td>1.0</td>\n",
       "    </tr>\n",
       "    <tr>\n",
       "      <th>phase_mu[2]</th>\n",
       "      <td>0.4100</td>\n",
       "      <td>0.00180</td>\n",
       "      <td>0.0480</td>\n",
       "      <td>0.340</td>\n",
       "      <td>0.4100</td>\n",
       "      <td>0.500</td>\n",
       "      <td>722.0</td>\n",
       "      <td>778.0</td>\n",
       "      <td>1.0</td>\n",
       "    </tr>\n",
       "    <tr>\n",
       "      <th>group_effect[1]</th>\n",
       "      <td>-0.0390</td>\n",
       "      <td>0.00160</td>\n",
       "      <td>0.0400</td>\n",
       "      <td>-0.120</td>\n",
       "      <td>-0.0330</td>\n",
       "      <td>0.018</td>\n",
       "      <td>595.0</td>\n",
       "      <td>641.0</td>\n",
       "      <td>1.0</td>\n",
       "    </tr>\n",
       "    <tr>\n",
       "      <th>group_effect[2]</th>\n",
       "      <td>0.0027</td>\n",
       "      <td>0.00150</td>\n",
       "      <td>0.0380</td>\n",
       "      <td>-0.064</td>\n",
       "      <td>0.0046</td>\n",
       "      <td>0.063</td>\n",
       "      <td>610.0</td>\n",
       "      <td>657.0</td>\n",
       "      <td>1.0</td>\n",
       "    </tr>\n",
       "    <tr>\n",
       "      <th>group_effect[3]</th>\n",
       "      <td>0.0250</td>\n",
       "      <td>0.00160</td>\n",
       "      <td>0.0390</td>\n",
       "      <td>-0.044</td>\n",
       "      <td>0.0240</td>\n",
       "      <td>0.089</td>\n",
       "      <td>627.0</td>\n",
       "      <td>675.0</td>\n",
       "      <td>1.0</td>\n",
       "    </tr>\n",
       "  </tbody>\n",
       "</table>\n",
       "</div>"
      ],
      "text/plain": [
       "                    Mean     MCSE  StdDev      5%      50%     95%   N_Eff  \\\n",
       "name                                                                         \n",
       "lp__             68.0000  0.06600  2.2000  64.000  69.0000  71.000  1100.0   \n",
       "sigma_sample      0.0670  0.00150  0.0510   0.016   0.0530   0.170  1200.0   \n",
       "sigma_exp[1]      0.0430  0.00023  0.0088   0.031   0.0420   0.059  1458.0   \n",
       "sigma_exp[2]      0.1300  0.00058  0.0260   0.090   0.1200   0.170  2043.0   \n",
       "phase_mu[1]       0.0870  0.00160  0.0380   0.028   0.0850   0.160   566.0   \n",
       "phase_mu[2]       0.4100  0.00180  0.0480   0.340   0.4100   0.500   722.0   \n",
       "group_effect[1]  -0.0390  0.00160  0.0400  -0.120  -0.0330   0.018   595.0   \n",
       "group_effect[2]   0.0027  0.00150  0.0380  -0.064   0.0046   0.063   610.0   \n",
       "group_effect[3]   0.0250  0.00160  0.0390  -0.044   0.0240   0.089   627.0   \n",
       "\n",
       "                 N_Eff/s  R_hat  \n",
       "name                             \n",
       "lp__              1200.0    1.0  \n",
       "sigma_sample      1300.0    1.0  \n",
       "sigma_exp[1]      1572.0    1.0  \n",
       "sigma_exp[2]      2202.0    1.0  \n",
       "phase_mu[1]        610.0    1.0  \n",
       "phase_mu[2]        778.0    1.0  \n",
       "group_effect[1]    641.0    1.0  \n",
       "group_effect[2]    657.0    1.0  \n",
       "group_effect[3]    675.0    1.0  "
      ]
     },
     "execution_count": 46,
     "metadata": {},
     "output_type": "execute_result"
    }
   ],
   "source": [
    "fit.summary()"
   ]
  },
  {
   "cell_type": "code",
   "execution_count": 47,
   "id": "5cfe2753",
   "metadata": {},
   "outputs": [
    {
     "data": {
      "text/plain": [
       "1.2190110683441162"
      ]
     },
     "execution_count": 47,
     "metadata": {},
     "output_type": "execute_result"
    }
   ],
   "source": [
    "end - start"
   ]
  },
  {
   "cell_type": "code",
   "execution_count": null,
   "id": "8675c4bf",
   "metadata": {},
   "outputs": [],
   "source": []
  }
 ],
 "metadata": {
  "kernelspec": {
   "display_name": "Python 3 (ipykernel)",
   "language": "python",
   "name": "python3"
  },
  "language_info": {
   "codemirror_mode": {
    "name": "ipython",
    "version": 3
   },
   "file_extension": ".py",
   "mimetype": "text/x-python",
   "name": "python",
   "nbconvert_exporter": "python",
   "pygments_lexer": "ipython3",
   "version": "3.7.1"
  }
 },
 "nbformat": 4,
 "nbformat_minor": 5
}
