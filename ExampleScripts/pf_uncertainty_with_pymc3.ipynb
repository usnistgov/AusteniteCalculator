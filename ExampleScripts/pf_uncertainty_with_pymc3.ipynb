{
 "cells": [
  {
   "cell_type": "markdown",
   "id": "7cfe9ff8",
   "metadata": {},
   "source": [
    "### Phase fraction uncertainty quantification"
   ]
  },
  {
   "cell_type": "markdown",
   "id": "8fa57436",
   "metadata": {},
   "source": [
    "For a given phase, define the normalized intensities as\n",
    "\n",
    "$$Z_i = I_i / R_i$$\n",
    "\n",
    "For now, we'll assume the $R_i$ are known completely while we figure out how to implement them efficiently in GSAS. (Either way this is likely a small component of uncertainty relative to the experimental variability of the $I_i$'s.)\n",
    "\n",
    "There is uncertainty in the $I_i$'s both due to experimental set up as well as the fitting procedure. We'll assume these sources of uncertainty are independent, and thus additive. Thus we model\n",
    "\n",
    "$$\n",
    "I_i \\sim N(\\mu_I, \\sigma_{exp}^2 + \\sigma_{fit}^2)\n",
    "$$\n",
    "\n",
    "and so \n",
    "\n",
    "$$\n",
    "Z_i \\sim N\\big(\\mu_z, R_i^{-2}(\\sigma_{exp}^2 + \\sigma_{fit}^2)\\big)\n",
    "$$\n",
    "\n",
    "$\\sigma^2_{fit}$ will be assumed known from the fitting procedure, while $\\sigma^2_{exp}$ will have to be estimated from data. Since we won't estimate $\\mu_I$ directly, we will simply denote $\\mu_z$ as $\\mu$.\n",
    "\n",
    "In the Bayesian framework, we can write\n",
    "\n",
    "\\begin{align}\n",
    "p(\\mu, \\sigma^2_{exp} | Z_i) &\\propto p(Z_i|\\mu, \\sigma^2_{exp}) p(\\mu, \\sigma^2_{exp}) \\\\\n",
    "&= N(Z_i,\\mu,R_i^{-2}(\\sigma^2_{exp} + \\sigma^2_{fit})) p(\\mu,\\sigma^2_{exp})\n",
    "\\end{align}\n",
    "\n",
    "where the prior distributions will be a standard choice such as a truncated $t_4$ scaled to the MAD. \n",
    "\n",
    "Estimation for the other phases will follow similarly."
   ]
  },
  {
   "cell_type": "markdown",
   "id": "be3868b1",
   "metadata": {},
   "source": [
    "### Example"
   ]
  },
  {
   "cell_type": "code",
   "execution_count": 20,
   "id": "2ef8a839",
   "metadata": {},
   "outputs": [],
   "source": [
    "import numpy as np\n",
    "import pandas as pd\n",
    "import matplotlib.pyplot as plt\n",
    "import arviz as az\n",
    "import pymc3 as pm\n",
    "from scipy.stats import median_abs_deviation as mad\n"
   ]
  },
  {
   "cell_type": "code",
   "execution_count": 21,
   "id": "ab1eccff",
   "metadata": {},
   "outputs": [
    {
     "name": "stdout",
     "output_type": "stream",
     "text": [
      "0.11.2\n",
      "3.6\n"
     ]
    }
   ],
   "source": [
    "print(az.__version__)\n",
    "print(pm.__version__)"
   ]
  },
  {
   "cell_type": "code",
   "execution_count": 144,
   "id": "12856b9f",
   "metadata": {},
   "outputs": [],
   "source": [
    "mydf = pd.DataFrame({\n",
    "    'I':np.random.normal(np.repeat([100,150],6),10 ),\n",
    "    'R':np.random.normal(50,10,12),\n",
    "    'sigma_I':np.ones(12)/10,\n",
    "    'phases':np.repeat([0,1],6)\n",
    "})\n",
    "\n",
    "mydf['Z'] = mydf['I']/mydf['R']\n",
    "Z = np.array(mydf['Z'])\n",
    "R = np.array(mydf['R'])\n",
    "sigma_I = np.array(mydf['sigma_I'])\n",
    "phases = np.array(mydf['phases'])\n",
    "unique_phases = np.unique(phases)"
   ]
  },
  {
   "cell_type": "code",
   "execution_count": 157,
   "id": "036b95fc",
   "metadata": {},
   "outputs": [
    {
     "name": "stdout",
     "output_type": "stream",
     "text": [
      "Z    0.305902\n",
      "dtype: float64\n",
      "[1.88153905 3.03086653]\n"
     ]
    }
   ],
   "source": [
    "prior_scale=np.mean(mydf.loc[:,['phases','Z']].groupby('phases').std())\n",
    "prior_mean_centers = np.array(mydf.loc[:,['phases','Z']].groupby('phases').mean()).flatten()\n",
    "print(prior_scale)\n",
    "print(prior_mean_centers)"
   ]
  },
  {
   "cell_type": "code",
   "execution_count": 158,
   "id": "edbd7ab7",
   "metadata": {},
   "outputs": [
    {
     "data": {
      "image/png": "[encoded data removed]",
      "text/plain": [
       "<Figure size 432x288 with 1 Axes>"
      ]
     },
     "metadata": {
      "needs_background": "light"
     },
     "output_type": "display_data"
    }
   ],
   "source": [
    "plt.plot(np.arange(6),Z[0:6],'bo')\n",
    "plt.axhline(y=np.mean(Z[0:6]),color='blue')\n",
    "plt.plot(np.arange(6),Z[6:12],'ro')\n",
    "plt.axhline(y=np.mean(Z[6:12]),color='red')\n",
    "plt.show()"
   ]
  },
  {
   "cell_type": "code",
   "execution_count": 159,
   "id": "ae49bb74",
   "metadata": {},
   "outputs": [],
   "source": [
    "basic_model = pm.Model() \n",
    "\n",
    "with basic_model:\n",
    "    \n",
    "    # Priors for unknown model parameters\n",
    "    sigma_exp = pm.HalfStudentT(\"sigma_exp\", sd=prior_scale, nu=4,shape=1)\n",
    "    mu = pm.Normal(\"mu\", \n",
    "                   mu=prior_mean_centers, \n",
    "                   sd=prior_scale*3,\n",
    "                   shape=len(unique_phases))\n",
    "    \n",
    "    full_sigma = pm.math.sqrt( (1/R**2)*(sigma_I**2 + pm.math.sqr(sigma_exp) ))\n",
    "\n",
    "    # Likelihood (sampling distribution) of observations\n",
    "    Y_obs = pm.Normal(\"Y_obs\", mu=mu[phases], sd=full_sigma, observed=Z)"
   ]
  },
  {
   "cell_type": "code",
   "execution_count": 160,
   "id": "db925ffb",
   "metadata": {},
   "outputs": [
    {
     "data": {
      "image/svg+xml": [
       "<?xml version=\"1.0\" encoding=\"UTF-8\" standalone=\"no\"?>\r\n",
       "<!DOCTYPE svg PUBLIC \"-//W3C//DTD SVG 1.1//EN\"\r\n",
       " \"http://www.w3.org/Graphics/SVG/1.1/DTD/svg11.dtd\">\r\n",
       "<!-- Generated by graphviz version 2.38.0 (20140413.2041)\r\n",
       " -->\r\n",
       "<!-- Title: %3 Pages: 1 -->\r\n",
       "<svg width=\"376pt\" height=\"182pt\"\r\n",
       " viewBox=\"0.00 0.00 375.54 182.00\" xmlns=\"http://www.w3.org/2000/svg\" xmlns:xlink=\"http://www.w3.org/1999/xlink\">\r\n",
       "<g id=\"graph0\" class=\"graph\" transform=\"scale(1 1) rotate(0) translate(4 178)\">\r\n",
       "<title>%3</title>\r\n",
       "<polygon fill=\"white\" stroke=\"none\" points=\"-4,4 -4,-178 371.54,-178 371.54,4 -4,4\"/>\r\n",
       "<g id=\"clust1\" class=\"cluster\"><title>cluster2</title>\r\n",
       "<path fill=\"none\" stroke=\"black\" d=\"M239.54,-91C239.54,-91 347.54,-91 347.54,-91 353.54,-91 359.54,-97 359.54,-103 359.54,-103 359.54,-154 359.54,-154 359.54,-160 353.54,-166 347.54,-166 347.54,-166 239.54,-166 239.54,-166 233.54,-166 227.54,-160 227.54,-154 227.54,-154 227.54,-103 227.54,-103 227.54,-97 233.54,-91 239.54,-91\"/>\r\n",
       "<text text-anchor=\"middle\" x=\"348.04\" y=\"-98.8\" font-family=\"Times New Roman,serif\" font-size=\"14.00\">2</text>\r\n",
       "</g>\r\n",
       "<g id=\"clust2\" class=\"cluster\"><title>cluster12</title>\r\n",
       "<path fill=\"none\" stroke=\"black\" d=\"M129.54,-8C129.54,-8 265.54,-8 265.54,-8 271.54,-8 277.54,-14 277.54,-20 277.54,-20 277.54,-71 277.54,-71 277.54,-77 271.54,-83 265.54,-83 265.54,-83 129.54,-83 129.54,-83 123.54,-83 117.54,-77 117.54,-71 117.54,-71 117.54,-20 117.54,-20 117.54,-14 123.54,-8 129.54,-8\"/>\r\n",
       "<text text-anchor=\"middle\" x=\"262.54\" y=\"-15.8\" font-family=\"Times New Roman,serif\" font-size=\"14.00\">12</text>\r\n",
       "</g>\r\n",
       "<!-- sigma_exp -->\r\n",
       "<g id=\"node1\" class=\"node\"><title>sigma_exp</title>\r\n",
       "<ellipse fill=\"none\" stroke=\"black\" cx=\"108.54\" cy=\"-140\" rx=\"108.581\" ry=\"18\"/>\r\n",
       "<text text-anchor=\"middle\" x=\"108.54\" y=\"-136.3\" font-family=\"Times New Roman,serif\" font-size=\"14.00\">sigma_exp ~ HalfStudentT</text>\r\n",
       "</g>\r\n",
       "<!-- Y_obs -->\r\n",
       "<g id=\"node3\" class=\"node\"><title>Y_obs</title>\r\n",
       "<ellipse fill=\"lightgrey\" stroke=\"black\" cx=\"197.54\" cy=\"-57\" rx=\"72.2875\" ry=\"18\"/>\r\n",
       "<text text-anchor=\"middle\" x=\"197.54\" y=\"-53.3\" font-family=\"Times New Roman,serif\" font-size=\"14.00\">Y_obs ~ Normal</text>\r\n",
       "</g>\r\n",
       "<!-- sigma_exp&#45;&gt;Y_obs -->\r\n",
       "<g id=\"edge1\" class=\"edge\"><title>sigma_exp&#45;&gt;Y_obs</title>\r\n",
       "<path fill=\"none\" stroke=\"black\" d=\"M126.981,-122.217C139.955,-110.409 157.492,-94.4487 171.836,-81.3937\"/>\r\n",
       "<polygon fill=\"black\" stroke=\"black\" points=\"174.388,-83.804 179.428,-74.4846 169.676,-78.627 174.388,-83.804\"/>\r\n",
       "</g>\r\n",
       "<!-- mu -->\r\n",
       "<g id=\"node2\" class=\"node\"><title>mu</title>\r\n",
       "<ellipse fill=\"none\" stroke=\"black\" cx=\"293.54\" cy=\"-140\" rx=\"58.4896\" ry=\"18\"/>\r\n",
       "<text text-anchor=\"middle\" x=\"293.54\" y=\"-136.3\" font-family=\"Times New Roman,serif\" font-size=\"14.00\">mu ~ Normal</text>\r\n",
       "</g>\r\n",
       "<!-- mu&#45;&gt;Y_obs -->\r\n",
       "<g id=\"edge2\" class=\"edge\"><title>mu&#45;&gt;Y_obs</title>\r\n",
       "<path fill=\"none\" stroke=\"black\" d=\"M274.113,-122.608C259.93,-110.641 240.514,-94.2588 224.782,-80.9852\"/>\r\n",
       "<polygon fill=\"black\" stroke=\"black\" points=\"226.839,-78.1409 216.939,-74.3672 222.324,-83.491 226.839,-78.1409\"/>\r\n",
       "</g>\r\n",
       "</g>\r\n",
       "</svg>\r\n"
      ],
      "text/plain": [
       "<graphviz.dot.Digraph at 0x2626ba3ee10>"
      ]
     },
     "execution_count": 160,
     "metadata": {},
     "output_type": "execute_result"
    }
   ],
   "source": [
    "pm.model_to_graphviz(basic_model)"
   ]
  },
  {
   "cell_type": "code",
   "execution_count": 161,
   "id": "40f34340",
   "metadata": {},
   "outputs": [
    {
     "name": "stderr",
     "output_type": "stream",
     "text": [
      "Auto-assigning NUTS sampler...\n",
      "Initializing NUTS using jitter+adapt_diag...\n",
      "Multiprocess sampling (4 chains in 4 jobs)\n",
      "NUTS: [mu, sigma_exp]\n",
      "Sampling 4 chains: 100%|███████████████████████████████████████████████████████| 6000/6000 [00:07<00:00, 851.62draws/s]\n"
     ]
    }
   ],
   "source": [
    "with basic_model:\n",
    "    trace = pm.sample(500, return_inferencedata=False,tune=1000)"
   ]
  },
  {
   "cell_type": "code",
   "execution_count": 163,
   "id": "584679b8",
   "metadata": {},
   "outputs": [
    {
     "data": {
      "text/plain": [
       "(2000, 2)"
      ]
     },
     "execution_count": 163,
     "metadata": {},
     "output_type": "execute_result"
    }
   ],
   "source": [
    "trace['mu'].shape"
   ]
  },
  {
   "cell_type": "code",
   "execution_count": 167,
   "id": "75fb9951",
   "metadata": {},
   "outputs": [
    {
     "data": {
      "image/png": "[encoded data removed]",
      "text/plain": [
       "<Figure size 432x288 with 1 Axes>"
      ]
     },
     "metadata": {
      "needs_background": "light"
     },
     "output_type": "display_data"
    },
    {
     "data": {
      "image/png": "[encoded data removed]",
      "text/plain": [
       "<Figure size 432x288 with 1 Axes>"
      ]
     },
     "metadata": {
      "needs_background": "light"
     },
     "output_type": "display_data"
    },
    {
     "data": {
      "image/png": "[encoded data removed]",
      "text/plain": [
       "<Figure size 432x288 with 1 Axes>"
      ]
     },
     "metadata": {
      "needs_background": "light"
     },
     "output_type": "display_data"
    }
   ],
   "source": [
    "plt.hist(trace['mu'][:,0],bins=20)\n",
    "plt.show()\n",
    "plt.hist(trace['mu'][:,1],bins=20)\n",
    "plt.show()\n",
    "plt.hist(trace['mu'][:,0]/trace['mu'][:,1])\n",
    "plt.show()"
   ]
  },
  {
   "cell_type": "code",
   "execution_count": 168,
   "id": "ca5d8264",
   "metadata": {},
   "outputs": [
    {
     "data": {
      "text/plain": [
       "(array([  7.,  10.,  42.,  69., 110., 167., 223., 219., 229., 168., 175.,\n",
       "        143., 111.,  75.,  61.,  55.,  36.,  26.,  15.,  12.,  13.,   6.,\n",
       "          7.,   3.,   5.,   4.,   2.,   3.,   0.,   4.]),\n",
       " array([ 8.74916695,  9.51390148, 10.27863601, 11.04337055, 11.80810508,\n",
       "        12.57283961, 13.33757415, 14.10230868, 14.86704321, 15.63177775,\n",
       "        16.39651228, 17.16124681, 17.92598135, 18.69071588, 19.45545041,\n",
       "        20.22018495, 20.98491948, 21.74965401, 22.51438855, 23.27912308,\n",
       "        24.04385761, 24.80859215, 25.57332668, 26.33806121, 27.10279575,\n",
       "        27.86753028, 28.63226481, 29.39699935, 30.16173388, 30.92646841,\n",
       "        31.69120295]),\n",
       " <BarContainer object of 30 artists>)"
      ]
     },
     "execution_count": 168,
     "metadata": {},
     "output_type": "execute_result"
    },
    {
     "data": {
      "image/png": "[encoded data removed]",
      "text/plain": [
       "<Figure size 432x288 with 1 Axes>"
      ]
     },
     "metadata": {
      "needs_background": "light"
     },
     "output_type": "display_data"
    }
   ],
   "source": [
    "plt.hist(trace['sigma_exp'],bins=30)"
   ]
  }
 ],
 "metadata": {
  "kernelspec": {
   "display_name": "Python 3 (ipykernel)",
   "language": "python",
   "name": "python3"
  },
  "language_info": {
   "codemirror_mode": {
    "name": "ipython",
    "version": 3
   },
   "file_extension": ".py",
   "mimetype": "text/x-python",
   "name": "python",
   "nbconvert_exporter": "python",
   "pygments_lexer": "ipython3",
   "version": "3.7.1"
  }
 },
 "nbformat": 4,
 "nbformat_minor": 5
}
