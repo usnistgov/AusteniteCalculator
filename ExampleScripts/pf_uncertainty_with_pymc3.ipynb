{
 "cells": [
  {
   "cell_type": "markdown",
   "id": "7cfe9ff8",
   "metadata": {},
   "source": [
    "### Phase fraction uncertainty quantification"
   ]
  },
  {
   "cell_type": "markdown",
   "id": "8fa57436",
   "metadata": {},
   "source": [
    "For a given phase, define the normalized intensities as\n",
    "\n",
    "$$Z_i = I_i / R_i$$\n",
    "\n",
    "For now, we'll assume the $R_i$ are known completely while we figure out how to implement them efficiently in GSAS. (Either way this is likely a small component of uncertainty relative to the experimental variability of the $I_i$'s.)\n",
    "\n",
    "There is uncertainty in the $I_i$'s both due to experimental set up as well as the fitting procedure. We'll assume these sources of uncertainty are independent, and thus additive. Thus we model\n",
    "\n",
    "$$\n",
    "I_i \\sim N(\\mu_I, \\sigma_{exp}^2 + \\sigma_{fit}^2)\n",
    "$$\n",
    "\n",
    "and so \n",
    "\n",
    "$$\n",
    "Z_i \\sim N\\big(\\mu_z, R_i^{-2}(\\sigma_{exp}^2 + \\sigma_{fit}^2)\\big)\n",
    "$$\n",
    "\n",
    "$\\sigma^2_{fit}$ will be assumed known from the fitting procedure, while $\\sigma^2_{exp}$ will have to be estimated from data. Since we won't estimate $\\mu_I$ directly, we will simply denote $\\mu_z$ as $\\mu$.\n",
    "\n",
    "In the Bayesian framework, we can write\n",
    "\n",
    "\\begin{align}\n",
    "p(\\mu, \\sigma^2_{exp} | Z_i) &\\propto p(Z_i|\\mu, \\sigma^2_{exp}) p(\\mu, \\sigma^2_{exp}) \\\\\n",
    "&= N(Z_i,\\mu,R_i^{-2}(\\sigma^2_{exp} + \\sigma^2_{fit})) p(\\mu,\\sigma^2_{exp})\n",
    "\\end{align}\n",
    "\n",
    "where the prior distributions will be a standard choice such as a truncated $t_4$ scaled to the MAD. \n",
    "\n",
    "Estimation for the other phases will follow similarly."
   ]
  },
  {
   "cell_type": "markdown",
   "id": "be3868b1",
   "metadata": {},
   "source": [
    "### Example"
   ]
  },
  {
   "cell_type": "code",
   "execution_count": 1,
   "id": "2ef8a839",
   "metadata": {},
   "outputs": [
    {
     "name": "stderr",
     "output_type": "stream",
     "text": [
      "WARNING (theano.tensor.blas): Using NumPy C-API based implementation for BLAS functions.\n"
     ]
    }
   ],
   "source": [
    "import numpy as np\n",
    "import pandas as pd\n",
    "import matplotlib.pyplot as plt\n",
    "import arviz as az\n",
    "import pymc3 as pm\n",
    "from scipy.stats import median_abs_deviation as mad\n"
   ]
  },
  {
   "cell_type": "code",
   "execution_count": 2,
   "id": "ab1eccff",
   "metadata": {},
   "outputs": [
    {
     "name": "stdout",
     "output_type": "stream",
     "text": [
      "0.11.2\n",
      "3.6\n"
     ]
    }
   ],
   "source": [
    "print(az.__version__)\n",
    "print(pm.__version__)"
   ]
  },
  {
   "cell_type": "code",
   "execution_count": 3,
   "id": "15d0a956",
   "metadata": {},
   "outputs": [],
   "source": [
    "mydf = pd.DataFrame({\n",
    "    'I':np.random.normal(np.repeat([100,150],6),10 ),\n",
    "    'R':np.random.normal(50,10,12),\n",
    "    'sigma_I':np.ones(12)/10,\n",
    "    'phases':np.repeat([0,1],6)\n",
    "})"
   ]
  },
  {
   "cell_type": "code",
   "execution_count": 4,
   "id": "2972ff48",
   "metadata": {},
   "outputs": [
    {
     "name": "stdout",
     "output_type": "stream",
     "text": [
      "             I          R  sigma_I  phases\n",
      "0    83.048972  62.020377      0.1       0\n",
      "1    94.117755  56.827988      0.1       0\n",
      "2   101.340651  50.632634      0.1       0\n",
      "3   103.895957  50.398570      0.1       0\n",
      "4   115.254648  22.560709      0.1       0\n",
      "5    97.927012  64.732158      0.1       0\n",
      "6   152.668687  29.727430      0.1       1\n",
      "7   144.397902  43.983893      0.1       1\n",
      "8   150.915517  61.749592      0.1       1\n",
      "9   155.954088  57.293368      0.1       1\n",
      "10  140.167089  72.673921      0.1       1\n",
      "11  141.999102  31.573140      0.1       1\n"
     ]
    }
   ],
   "source": [
    "print(mydf)"
   ]
  },
  {
   "cell_type": "code",
   "execution_count": 33,
   "id": "12856b9f",
   "metadata": {},
   "outputs": [],
   "source": [
    "def run_mcmc(I,R,sigma_I,phases,plot=False):\n",
    "\n",
    "    I = np.array(I)\n",
    "    R = np.array(R)\n",
    "    sigma_I = np.array(sigma_I)\n",
    "    phases = np.array(phases)\n",
    "    phase_names = phases.copy()\n",
    "\n",
    "    Z = I/R\n",
    "    unique_phase_names = np.unique(phase_names)\n",
    "\n",
    "    phases = np.zeros(len(phases),dtype=np.int8)\n",
    "    \n",
    "    for ii in range(len(unique_phase_names)):\n",
    "\n",
    "        phases[phase_names==unique_phase_names[ii]] = int(ii)\n",
    "\n",
    "    unique_phases = np.unique(phases)\n",
    "    phase_stds = np.zeros(len(unique_phases))\n",
    "\n",
    "\n",
    "    for ii in range(len(unique_phases)):\n",
    "\n",
    "        phase_stds[ii] = np.std(Z[phases==unique_phases[ii]])\n",
    "\n",
    "    prior_scale=np.mean(phase_stds)\n",
    "    prior_mean_centers = np.ones(len(unique_phases))\n",
    "\n",
    "    print(prior_scale)\n",
    "    print(prior_mean_centers)   \n",
    "\n",
    "    if plot:\n",
    "        plt.plot(np.arange(6),Z[0:6],'bo')\n",
    "        plt.axhline(y=np.mean(Z[0:6]),color='blue')\n",
    "        plt.plot(np.arange(6),Z[6:12],'ro')\n",
    "        plt.axhline(y=np.mean(Z[6:12]),color='red')\n",
    "        plt.show()\n",
    "\n",
    "    basic_model = pm.Model() \n",
    "\n",
    "    with basic_model:\n",
    "        \n",
    "        # Priors for unknown model parameters\n",
    "        sigma_exp = pm.HalfStudentT(\"sigma_exp\", sd=prior_scale*3, nu=4,shape=1)\n",
    "        mu = pm.Normal(\"mu\", \n",
    "                       mu=prior_mean_centers, \n",
    "                       sd=prior_scale*3,\n",
    "                       shape=len(unique_phases))\n",
    "        \n",
    "        full_sigma = pm.math.sqrt( (1/R**2)*(sigma_I**2 + pm.math.sqr(sigma_exp) ))\n",
    "\n",
    "        # Likelihood (sampling distribution) of observations\n",
    "        Y_obs = pm.Normal(\"Y_obs\", mu=mu[phases], sd=full_sigma, observed=Z)\n",
    "\n",
    "        if plot:\n",
    "            pm.model_to_graphviz(basic_model)\n",
    "\n",
    "        trace = pm.sample(500, return_inferencedata=False,tune=1000)\n",
    "\n",
    "    return trace\n",
    "\n",
    "    "
   ]
  },
  {
   "cell_type": "code",
   "execution_count": 34,
   "id": "40f34340",
   "metadata": {},
   "outputs": [
    {
     "name": "stdout",
     "output_type": "stream",
     "text": [
      "1.2131834004711544\n",
      "[1. 1.]\n"
     ]
    },
    {
     "data": {
      "image/png": "[encoded data removed]",
      "text/plain": [
       "<Figure size 432x288 with 1 Axes>"
      ]
     },
     "metadata": {
      "needs_background": "light"
     },
     "output_type": "display_data"
    },
    {
     "name": "stderr",
     "output_type": "stream",
     "text": [
      "Auto-assigning NUTS sampler...\n",
      "Initializing NUTS using jitter+adapt_diag...\n",
      "Multiprocess sampling (4 chains in 4 jobs)\n",
      "NUTS: [mu, sigma_exp]\n",
      "Sampling 4 chains: 100%|██████████| 6000/6000 [00:06<00:00, 915.97draws/s] \n"
     ]
    }
   ],
   "source": [
    "res = run_mcmc(mydf.I,mydf.R,mydf.sigma_I,mydf.phases,plot=True)"
   ]
  },
  {
   "cell_type": "code",
   "execution_count": 35,
   "id": "584679b8",
   "metadata": {},
   "outputs": [
    {
     "name": "stdout",
     "output_type": "stream",
     "text": [
      "<class 'list'>\n",
      "<class 'numpy.ndarray'>\n",
      "(2000, 2)\n"
     ]
    }
   ],
   "source": [
    "print(type(res.varnames))\n",
    "print(type(res['mu']))\n",
    "print(res['mu'].shape)"
   ]
  },
  {
   "cell_type": "code",
   "execution_count": 36,
   "id": "75fb9951",
   "metadata": {},
   "outputs": [
    {
     "data": {
      "image/png": "[encoded data removed]",
      "text/plain": [
       "<Figure size 432x288 with 1 Axes>"
      ]
     },
     "metadata": {
      "needs_background": "light"
     },
     "output_type": "display_data"
    },
    {
     "data": {
      "image/png": "[encoded data removed]",
      "text/plain": [
       "<Figure size 432x288 with 1 Axes>"
      ]
     },
     "metadata": {
      "needs_background": "light"
     },
     "output_type": "display_data"
    },
    {
     "data": {
      "image/png": "[encoded data removed]",
      "text/plain": [
       "<Figure size 432x288 with 1 Axes>"
      ]
     },
     "metadata": {
      "needs_background": "light"
     },
     "output_type": "display_data"
    }
   ],
   "source": [
    "plt.hist(res['mu'][:,0],bins=20)\n",
    "plt.show()\n",
    "plt.hist(res['mu'][:,1],bins=20)\n",
    "plt.show()\n",
    "plt.hist(res['mu'][:,0]/(res['mu'][:,0] + res['mu'][:,1]))\n",
    "plt.show()"
   ]
  },
  {
   "cell_type": "code",
   "execution_count": 168,
   "id": "ca5d8264",
   "metadata": {},
   "outputs": [
    {
     "data": {
      "text/plain": [
       "(array([  7.,  10.,  42.,  69., 110., 167., 223., 219., 229., 168., 175.,\n",
       "        143., 111.,  75.,  61.,  55.,  36.,  26.,  15.,  12.,  13.,   6.,\n",
       "          7.,   3.,   5.,   4.,   2.,   3.,   0.,   4.]),\n",
       " array([ 8.74916695,  9.51390148, 10.27863601, 11.04337055, 11.80810508,\n",
       "        12.57283961, 13.33757415, 14.10230868, 14.86704321, 15.63177775,\n",
       "        16.39651228, 17.16124681, 17.92598135, 18.69071588, 19.45545041,\n",
       "        20.22018495, 20.98491948, 21.74965401, 22.51438855, 23.27912308,\n",
       "        24.04385761, 24.80859215, 25.57332668, 26.33806121, 27.10279575,\n",
       "        27.86753028, 28.63226481, 29.39699935, 30.16173388, 30.92646841,\n",
       "        31.69120295]),\n",
       " <BarContainer object of 30 artists>)"
      ]
     },
     "execution_count": 168,
     "metadata": {},
     "output_type": "execute_result"
    },
    {
     "data": {
      "image/png": "[encoded data removed]",
      "text/plain": [
       "<Figure size 432x288 with 1 Axes>"
      ]
     },
     "metadata": {
      "needs_background": "light"
     },
     "output_type": "display_data"
    }
   ],
   "source": [
    "plt.hist(trace['sigma_exp'],bins=30)"
   ]
  }
 ],
 "metadata": {
  "kernelspec": {
   "display_name": "Python 3 (ipykernel)",
   "language": "python",
   "name": "python3"
  },
  "language_info": {
   "codemirror_mode": {
    "name": "ipython",
    "version": 3
   },
   "file_extension": ".py",
   "mimetype": "text/x-python",
   "name": "python",
   "nbconvert_exporter": "python",
   "pygments_lexer": "ipython3",
   "version": "3.7.1"
  }
 },
 "nbformat": 4,
 "nbformat_minor": 5
}
