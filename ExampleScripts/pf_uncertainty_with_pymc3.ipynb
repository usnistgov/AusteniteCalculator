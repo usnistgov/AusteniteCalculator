{
 "cells": [
  {
   "cell_type": "markdown",
   "id": "7cfe9ff8",
   "metadata": {},
   "source": [
    "### Phase fraction uncertainty quantification"
   ]
  },
  {
   "cell_type": "markdown",
   "id": "8fa57436",
   "metadata": {},
   "source": [
    "For a given phase, define the normalized intensities as\n",
    "\n",
    "$$Z_i = I_i / R_i$$\n",
    "\n",
    "For now, we'll assume the $R_i$ are known completely while we figure out how to implement them efficiently in GSAS. (Either way this is likely a small component of uncertainty relative to the experimental variability of the $I_i$'s.)\n",
    "\n",
    "There is uncertainty in the $I_i$'s both due to experimental set up as well as the fitting procedure. We'll assume these sources of uncertainty are independent, and thus additive. Thus we model\n",
    "\n",
    "$$\n",
    "I_i \\sim N(\\mu_I, \\sigma_{I,exp}^2 + \\sigma_{fit_i}^2)\n",
    "$$\n",
    "\n",
    "and so \n",
    "\n",
    "$$\n",
    "Z_i \\sim N\\big(\\mu_z, \\sigma_{Z,exp}^2 + \\frac{\\sigma_{fit_i}^2}{R_i^{2}} \\big)\n",
    "$$\n",
    "\n",
    "$\\sigma^2_{fit_i}$ will be assumed known from the fitting procedure, while $\\sigma^2_{Z,exp}$ will have to be estimated from data. Since we won't estimate $\\mu_I$ and $\\sigma^2_{I,exp}$ directly, we will simply denote $\\mu_Z$ and $\\sigma_Z$ as $\\mu$ and $\\sigma$ respectively.\n",
    "\n",
    "In the Bayesian framework, we can write\n",
    "\n",
    "\\begin{align}\n",
    "p(\\mu, \\sigma^2_{exp} | Z_i) &\\propto p(Z_i|\\mu, \\sigma^2_{exp}) p(\\mu, \\sigma^2_{exp}) \\\\\n",
    "&= N(Z_i,\\mu,\\sigma^2_{exp} + R_i^{-2}\\sigma^2_{fit}) p(\\mu,\\sigma^2_{exp})\n",
    "\\end{align}\n",
    "\n",
    "where the prior distributions will be a standard choice such as a truncated $t_4$ scaled to the MAD. \n",
    "\n",
    "Estimation for the other phases will follow similarly."
   ]
  },
  {
   "cell_type": "markdown",
   "id": "be3868b1",
   "metadata": {},
   "source": [
    "### Example"
   ]
  },
  {
   "cell_type": "code",
   "execution_count": 1,
   "id": "2ef8a839",
   "metadata": {},
   "outputs": [
    {
     "name": "stderr",
     "output_type": "stream",
     "text": [
      "WARNING (theano.tensor.blas): Using NumPy C-API based implementation for BLAS functions.\n"
     ]
    }
   ],
   "source": [
    "import numpy as np\n",
    "import pandas as pd\n",
    "import matplotlib.pyplot as plt\n",
    "import arviz as az\n",
    "import pymc3 as pm\n",
    "from scipy.stats import median_abs_deviation as mad\n",
    "import plotly.express as px\n",
    "import seaborn as sns\n",
    "from scipy.stats import invgamma, t\n",
    "from scipy.linalg import sqrtm\n",
    "from statsmodels.stats.meta_analysis import combine_effects\n",
    "import time\n"
   ]
  },
  {
   "cell_type": "code",
   "execution_count": 2,
   "id": "ab1eccff",
   "metadata": {},
   "outputs": [
    {
     "name": "stdout",
     "output_type": "stream",
     "text": [
      "0.11.2\n",
      "3.6\n"
     ]
    }
   ],
   "source": [
    "print(az.__version__)\n",
    "print(pm.__version__)"
   ]
  },
  {
   "cell_type": "code",
   "execution_count": 3,
   "id": "022528c8",
   "metadata": {},
   "outputs": [],
   "source": [
    "indata = pd.read_csv('intensity_table.csv')"
   ]
  },
  {
   "cell_type": "code",
   "execution_count": 4,
   "id": "d7c95a08",
   "metadata": {},
   "outputs": [],
   "source": [
    "#indata.head()"
   ]
  },
  {
   "cell_type": "code",
   "execution_count": 5,
   "id": "15d0a956",
   "metadata": {},
   "outputs": [],
   "source": [
    "mydf = pd.DataFrame({\n",
    "    'I':indata.int_fit,\n",
    "    'R':indata.R_calc,\n",
    "    'sigma_I':indata.u_int_fit,\n",
    "    'phases':indata.Phase,\n",
    "    'two_th':indata.two_theta\n",
    "})\n",
    "\n",
    "mydf['IR'] = mydf.I / mydf.R\n",
    "mydf['sig_IR'] = mydf['sigma_I']/mydf.R\n",
    "\n",
    "mydf = mydf.sort_values('phases').reset_index(drop=True)"
   ]
  },
  {
   "cell_type": "code",
   "execution_count": 6,
   "id": "2972ff48",
   "metadata": {},
   "outputs": [
    {
     "name": "stdout",
     "output_type": "stream",
     "text": [
      "            I           R  sigma_I                phases   two_th        IR  \\\n",
      "0   21716.194  261157.488  168.301  austenite-SRM487.cif   43.593  0.083154   \n",
      "1    7812.145  122379.402  123.253  austenite-SRM487.cif   50.777  0.063835   \n",
      "2    4734.357   70554.804  103.257  austenite-SRM487.cif   74.651  0.067102   \n",
      "3    4864.974   80763.209  110.421  austenite-SRM487.cif   90.633  0.060238   \n",
      "4    1368.346   23555.357   80.239  austenite-SRM487.cif   95.910  0.058091   \n",
      "5      92.318   13186.997   47.393  austenite-SRM487.cif  118.074  0.007001   \n",
      "6   62590.189  188543.096  258.280    ferrite-SRM487.cif   44.575  0.331968   \n",
      "7    7283.611   29667.204  113.272    ferrite-SRM487.cif   64.871  0.245511   \n",
      "8   17954.038   58818.348  152.070    ferrite-SRM487.cif   82.127  0.305246   \n",
      "9    5211.789   19287.603   98.365    ferrite-SRM487.cif   98.667  0.270214   \n",
      "10   7830.424   32124.524  122.684    ferrite-SRM487.cif  116.249  0.243752   \n",
      "\n",
      "      sig_IR  \n",
      "0   0.000644  \n",
      "1   0.001007  \n",
      "2   0.001464  \n",
      "3   0.001367  \n",
      "4   0.003406  \n",
      "5   0.003594  \n",
      "6   0.001370  \n",
      "7   0.003818  \n",
      "8   0.002585  \n",
      "9   0.005100  \n",
      "10  0.003819  \n"
     ]
    }
   ],
   "source": [
    "print(mydf)"
   ]
  },
  {
   "cell_type": "code",
   "execution_count": 7,
   "id": "666b3508",
   "metadata": {},
   "outputs": [
    {
     "data": {
      "text/plain": [
       "<AxesSubplot:xlabel='two_th', ylabel='IR'>"
      ]
     },
     "execution_count": 7,
     "metadata": {},
     "output_type": "execute_result"
    },
    {
     "data": {
      "image/png": "[encoded data removed]",
      "text/plain": [
       "<Figure size 432x288 with 1 Axes>"
      ]
     },
     "metadata": {
      "needs_background": "light"
     },
     "output_type": "display_data"
    }
   ],
   "source": [
    "sns.scatterplot(data=mydf,x='two_th',y='IR',hue='phases')"
   ]
  },
  {
   "cell_type": "code",
   "execution_count": 8,
   "id": "f9707eaf",
   "metadata": {},
   "outputs": [],
   "source": [
    "# conjugate priors\n",
    "def gen_mu_sigma(x,n_draws):\n",
    "    \n",
    "    # p(mu,simga) \\prop_to 1/sigma OR uniform prior on mu, log(sigma)\n",
    "    # BDA pg: 66\n",
    "    \n",
    "    x_var = np.var(x)\n",
    "    n_x = x.shape[0]\n",
    "    v = n_x-1\n",
    "    tau2 = x_var\n",
    "    \n",
    "    sigma2 = invgamma.rvs(a=v/2,scale=v*tau2/2,size=n_draws)\n",
    "    mu = t.rvs(df=n_x-1, loc=np.mean(x), scale=np.sqrt(x_var/n_x), size=n_draws)\n",
    "    \n",
    "    while np.sum(mu < 0) > 0:\n",
    "        mu[mu < 0] = t.rvs(df=n_x-1, loc=np.mean(x), scale=np.sqrt(x_var/n_x), size=len(mu[mu < 0]))\n",
    "    \n",
    "    return mu, sigma2\n",
    "\n",
    "def get_posterior_samples_cp(I,R,sigma_I,phases,n_draws):\n",
    "\n",
    "    I = np.array(I)\n",
    "    R = np.array(R)\n",
    "    sigma_I = np.array(sigma_I)\n",
    "    phases = np.array(phases)\n",
    "\n",
    "    Z = I/R\n",
    "    unique_phase_names = np.unique(phases)\n",
    "\n",
    "    res_dict = {}\n",
    "\n",
    "    for ii in range(len(unique_phase_names)):\n",
    "\n",
    "        res_dict[unique_phase_names[ii]] = gen_mu_sigma(Z[phases==unique_phase_names[ii]],n_draws)\n",
    "\n",
    "    return res_dict\n",
    "    \n",
    "    "
   ]
  },
  {
   "cell_type": "code",
   "execution_count": 9,
   "id": "12856b9f",
   "metadata": {},
   "outputs": [],
   "source": [
    "def run_mcmc(I,R,sigma_I,phases,pfs,plot=False):\n",
    "\n",
    "    I = np.array(I)[pfs]\n",
    "    R = np.array(R)[pfs]\n",
    "    sigma_I = np.array(sigma_I)[pfs]\n",
    "    phases = np.array(phases)[pfs]\n",
    "\n",
    "    phase_counts = np.unique(phases, return_counts=True)[1]\n",
    "\n",
    "    if np.min(phase_counts) <= 2:\n",
    "        print(\"Phases with fewer than 2 observations present.\")\n",
    "        return None\n",
    "\n",
    "    phase_names = phases.copy()\n",
    "\n",
    "    Z = I/R\n",
    "    unique_phase_names = np.unique(phase_names)\n",
    "\n",
    "    phases = np.zeros(len(phases),dtype=np.int8)\n",
    "    \n",
    "    # create numeric index for each phase\n",
    "    for ii in range(len(unique_phase_names)):\n",
    "\n",
    "        phases[phase_names==unique_phase_names[ii]] = int(ii)\n",
    "\n",
    "    unique_phases = np.unique(phases)\n",
    "    phase_stds = np.zeros(len(unique_phases))\n",
    "\n",
    "    # standard deviations for each phase\n",
    "    for ii in range(len(unique_phases)):\n",
    "\n",
    "        phase_stds[ii] = np.std(Z[phases==unique_phases[ii]])\n",
    "\n",
    "    # prior scale and means\n",
    "    prior_scale=np.mean(phase_stds)\n",
    "    prior_mean_centers = np.ones(len(unique_phases))\n",
    "\n",
    "    #print(prior_scale)\n",
    "    #print(prior_mean_centers)   \n",
    "\n",
    "    if plot:\n",
    "        plt.scatter(x=np.arange(len(Z)),y=Z,c=phases)\n",
    "        print(\"Z: {}\".format(Z))\n",
    "        print(\"phases: {}\".format(phases))\n",
    "\n",
    "    basic_model = pm.Model() \n",
    "\n",
    "    with basic_model:\n",
    "        \n",
    "        # Priors for unknown model parameters\n",
    "        sigma_exp = pm.HalfStudentT(\"sigma_exp\", sd=prior_scale*2, nu=4,shape=len(unique_phases))\n",
    "        mu = pm.TruncatedNormal(\"mu\", \n",
    "                       mu=prior_mean_centers, \n",
    "                       sd=np.std(Z)*10,\n",
    "                       lower=0,\n",
    "                       shape=len(unique_phases))\n",
    "        \n",
    "        full_sigma = pm.math.sqrt( (1/R**2)*(sigma_I**2) + pm.math.sqr(sigma_exp[phases]) )\n",
    "\n",
    "        # Likelihood (sampling distribution) of observations\n",
    "        Y_obs = pm.Normal(\"Y_obs\", mu=mu[phases], sd=full_sigma, observed=Z)\n",
    "\n",
    "        trace = pm.sample(1000, return_inferencedata=False,tune=1000,cores=None,chains=None)\n",
    "        \n",
    "        mu_norm = np.apply_along_axis(lambda x: x/np.sum(x),1,trace['mu'])\n",
    "        \n",
    "        mu_df = pd.DataFrame(mu_norm,columns=unique_phase_names)\n",
    "        mu_df = pd.melt(mu_df,value_vars = unique_phase_names,var_name='which_phase',value_name='value')\n",
    "        \n",
    "\n",
    "    summary_table = pd.DataFrame({\n",
    "        'phase':unique_phase_names,\n",
    "        'PF_Est':np.zeros(len(unique_phase_names)),\n",
    "        'PF_L95':np.zeros(len(unique_phase_names)),\n",
    "        'PF_U95':np.zeros(len(unique_phase_names))\n",
    "    })\n",
    "\n",
    "    for ii, pn in enumerate(unique_phase_names):\n",
    "\n",
    "        quantiles = np.quantile(mu_df['value'].loc[mu_df['which_phase']==pn],[.5,.025,.975])\n",
    "        summary_table.loc[summary_table['phase'] == pn, ['PF_Est','PF_L95','PF_U95']] = quantiles\n",
    "\n",
    "    return {'mu_df':mu_df,'trace':trace,\n",
    "            'unique_phase_names':unique_phase_names,\n",
    "            'summary_table':summary_table}"
   ]
  },
  {
   "cell_type": "code",
   "execution_count": 10,
   "id": "a225cfe6",
   "metadata": {},
   "outputs": [
    {
     "data": {
      "text/plain": [
       "0     austenite-SRM487.cif\n",
       "1     austenite-SRM487.cif\n",
       "2     austenite-SRM487.cif\n",
       "3     austenite-SRM487.cif\n",
       "4     austenite-SRM487.cif\n",
       "5     austenite-SRM487.cif\n",
       "6       ferrite-SRM487.cif\n",
       "7       ferrite-SRM487.cif\n",
       "8       ferrite-SRM487.cif\n",
       "9       ferrite-SRM487.cif\n",
       "10      ferrite-SRM487.cif\n",
       "Name: phases, dtype: object"
      ]
     },
     "execution_count": 10,
     "metadata": {},
     "output_type": "execute_result"
    }
   ],
   "source": [
    "mydf.phases"
   ]
  },
  {
   "cell_type": "code",
   "execution_count": 11,
   "id": "702a64f3",
   "metadata": {},
   "outputs": [
    {
     "name": "stdout",
     "output_type": "stream",
     "text": [
      "Z: [0.08315363 0.06383546 0.06710184 0.0602375  0.05809065 0.00700068\n",
      " 0.33196755 0.24551053 0.30524553 0.27021445 0.24375222]\n",
      "phases: [0 0 0 0 0 0 1 1 1 1 1]\n"
     ]
    },
    {
     "name": "stderr",
     "output_type": "stream",
     "text": [
      "Auto-assigning NUTS sampler...\n",
      "Initializing NUTS using jitter+adapt_diag...\n",
      "Multiprocess sampling (4 chains in 4 jobs)\n",
      "NUTS: [mu, sigma_exp]\n",
      "Sampling 4 chains: 100%|██████████████████████████████████████████████████████| 8000/8000 [00:05<00:00, 1574.19draws/s]\n",
      "There was 1 divergence after tuning. Increase `target_accept` or reparameterize.\n",
      "The acceptance probability does not match the target. It is 0.6856490652806753, but should be close to 0.8. Try to increase the number of tuning steps.\n"
     ]
    },
    {
     "name": "stdout",
     "output_type": "stream",
     "text": [
      "40.25115132331848\n"
     ]
    },
    {
     "data": {
      "image/png": "[encoded data removed]",
      "text/plain": [
       "<Figure size 432x288 with 1 Axes>"
      ]
     },
     "metadata": {
      "needs_background": "light"
     },
     "output_type": "display_data"
    }
   ],
   "source": [
    "start = time.time()\n",
    "res = run_mcmc(mydf.I,mydf.R,mydf.sigma_I,mydf.phases,np.array([True]*len(mydf.phases)),plot=True)\n",
    "end = time.time()\n",
    "print(end - start)"
   ]
  },
  {
   "cell_type": "code",
   "execution_count": 19,
   "id": "5b208e59",
   "metadata": {},
   "outputs": [],
   "source": [
    "apf = res['mu_df'].value[res['mu_df'].which_phase == 'ferrite-SRM487.cif']"
   ]
  },
  {
   "cell_type": "code",
   "execution_count": 20,
   "id": "751eb879",
   "metadata": {},
   "outputs": [
    {
     "data": {
      "text/plain": [
       "(4000, 2)"
      ]
     },
     "execution_count": 20,
     "metadata": {},
     "output_type": "execute_result"
    }
   ],
   "source": [
    "res['trace']['mu'].shape"
   ]
  },
  {
   "cell_type": "code",
   "execution_count": 21,
   "id": "9e235754",
   "metadata": {},
   "outputs": [
    {
     "data": {
      "text/plain": [
       "array([0.75425795, 0.80959822, 0.83137977, 0.85349046, 0.90672834])"
      ]
     },
     "execution_count": 21,
     "metadata": {},
     "output_type": "execute_result"
    }
   ],
   "source": [
    "np.quantile(apf,[.025,.25,.5,.75,.975])"
   ]
  },
  {
   "cell_type": "code",
   "execution_count": 22,
   "id": "d58f93d2",
   "metadata": {},
   "outputs": [
    {
     "data": {
      "text/plain": [
       "<AxesSubplot:xlabel='value', ylabel='Count'>"
      ]
     },
     "execution_count": 22,
     "metadata": {},
     "output_type": "execute_result"
    },
    {
     "data": {
      "image/png": "[encoded data removed]",
      "text/plain": [
       "<Figure size 432x288 with 1 Axes>"
      ]
     },
     "metadata": {
      "needs_background": "light"
     },
     "output_type": "display_data"
    }
   ],
   "source": [
    "sns.histplot(x=apf)"
   ]
  },
  {
   "cell_type": "markdown",
   "id": "2fa07c03",
   "metadata": {},
   "source": [
    "### Multiple Datasets"
   ]
  },
  {
   "cell_type": "code",
   "execution_count": 3,
   "id": "4707639b",
   "metadata": {},
   "outputs": [],
   "source": [
    "indata = pd.read_csv('intensity_table.csv')"
   ]
  },
  {
   "cell_type": "code",
   "execution_count": 4,
   "id": "af7af47f",
   "metadata": {},
   "outputs": [],
   "source": [
    "mydf = pd.DataFrame({\n",
    "    'I':indata.int_fit,\n",
    "    'R':indata.R_calc,\n",
    "    'sigma_I':indata.u_int_fit,\n",
    "    'phases':indata.Phase,\n",
    "    'two_th':indata.two_theta\n",
    "})\n",
    "\n",
    "mydf['IR'] = mydf.I / mydf.R\n",
    "mydf['sig_IR'] = mydf['sigma_I']/mydf.R\n",
    "\n",
    "mydf = mydf.sort_values('phases').reset_index(drop=True)"
   ]
  },
  {
   "cell_type": "code",
   "execution_count": 5,
   "id": "ef860655",
   "metadata": {},
   "outputs": [],
   "source": [
    "multiple_df = pd.concat((mydf.copy(),mydf.copy(),mydf.copy())).reset_index(drop=True)"
   ]
  },
  {
   "cell_type": "code",
   "execution_count": 6,
   "id": "246c824b",
   "metadata": {},
   "outputs": [],
   "source": [
    "multiple_df['sample_id'] = np.repeat((0,1,2),11)"
   ]
  },
  {
   "cell_type": "code",
   "execution_count": 10,
   "id": "16e05432",
   "metadata": {},
   "outputs": [],
   "source": [
    "np.random.seed(123)"
   ]
  },
  {
   "cell_type": "code",
   "execution_count": 11,
   "id": "abdba83d",
   "metadata": {},
   "outputs": [],
   "source": [
    "for ii in range(3):\n",
    "    multiple_df.loc[multiple_df['sample_id']==ii,'I'] = multiple_df['I'].loc[multiple_df['sample_id']==ii]*(1+ii/2)\n",
    "    \n",
    "multiple_df['I'] = multiple_df['I'] + np.random.normal(0,multiple_df['I']/10,multiple_df.shape[0])\n",
    "multiple_df['IR'] = multiple_df['I']/multiple_df['R']"
   ]
  },
  {
   "cell_type": "code",
   "execution_count": 40,
   "id": "8b1269b5",
   "metadata": {},
   "outputs": [
    {
     "data": {
      "text/html": [
       "<div>\n",
       "<style scoped>\n",
       "    .dataframe tbody tr th:only-of-type {\n",
       "        vertical-align: middle;\n",
       "    }\n",
       "\n",
       "    .dataframe tbody tr th {\n",
       "        vertical-align: top;\n",
       "    }\n",
       "\n",
       "    .dataframe thead th {\n",
       "        text-align: right;\n",
       "    }\n",
       "</style>\n",
       "<table border=\"1\" class=\"dataframe\">\n",
       "  <thead>\n",
       "    <tr style=\"text-align: right;\">\n",
       "      <th></th>\n",
       "      <th>I</th>\n",
       "      <th>R</th>\n",
       "      <th>sigma_I</th>\n",
       "      <th>phases</th>\n",
       "      <th>two_th</th>\n",
       "      <th>IR</th>\n",
       "      <th>sig_IR</th>\n",
       "      <th>sample_id</th>\n",
       "    </tr>\n",
       "  </thead>\n",
       "  <tbody>\n",
       "    <tr>\n",
       "      <th>0</th>\n",
       "      <td>19106.409978</td>\n",
       "      <td>261157.488</td>\n",
       "      <td>168.301</td>\n",
       "      <td>austenite-SRM487.cif</td>\n",
       "      <td>43.593</td>\n",
       "      <td>0.073160</td>\n",
       "      <td>0.000644</td>\n",
       "      <td>0</td>\n",
       "    </tr>\n",
       "    <tr>\n",
       "      <th>1</th>\n",
       "      <td>6977.054213</td>\n",
       "      <td>122379.402</td>\n",
       "      <td>123.253</td>\n",
       "      <td>austenite-SRM487.cif</td>\n",
       "      <td>50.777</td>\n",
       "      <td>0.057012</td>\n",
       "      <td>0.001007</td>\n",
       "      <td>0</td>\n",
       "    </tr>\n",
       "    <tr>\n",
       "      <th>2</th>\n",
       "      <td>3741.333244</td>\n",
       "      <td>70554.804</td>\n",
       "      <td>103.257</td>\n",
       "      <td>austenite-SRM487.cif</td>\n",
       "      <td>74.651</td>\n",
       "      <td>0.053027</td>\n",
       "      <td>0.001464</td>\n",
       "      <td>0</td>\n",
       "    </tr>\n",
       "    <tr>\n",
       "      <th>3</th>\n",
       "      <td>4021.310566</td>\n",
       "      <td>80763.209</td>\n",
       "      <td>110.421</td>\n",
       "      <td>austenite-SRM487.cif</td>\n",
       "      <td>90.633</td>\n",
       "      <td>0.049791</td>\n",
       "      <td>0.001367</td>\n",
       "      <td>0</td>\n",
       "    </tr>\n",
       "    <tr>\n",
       "      <th>4</th>\n",
       "      <td>1304.384150</td>\n",
       "      <td>23555.357</td>\n",
       "      <td>80.239</td>\n",
       "      <td>austenite-SRM487.cif</td>\n",
       "      <td>95.910</td>\n",
       "      <td>0.055375</td>\n",
       "      <td>0.003406</td>\n",
       "      <td>0</td>\n",
       "    </tr>\n",
       "    <tr>\n",
       "      <th>5</th>\n",
       "      <td>107.248019</td>\n",
       "      <td>13186.997</td>\n",
       "      <td>47.393</td>\n",
       "      <td>austenite-SRM487.cif</td>\n",
       "      <td>118.074</td>\n",
       "      <td>0.008133</td>\n",
       "      <td>0.003594</td>\n",
       "      <td>0</td>\n",
       "    </tr>\n",
       "    <tr>\n",
       "      <th>6</th>\n",
       "      <td>50553.218664</td>\n",
       "      <td>188543.096</td>\n",
       "      <td>258.280</td>\n",
       "      <td>ferrite-SRM487.cif</td>\n",
       "      <td>44.575</td>\n",
       "      <td>0.268126</td>\n",
       "      <td>0.001370</td>\n",
       "      <td>0</td>\n",
       "    </tr>\n",
       "    <tr>\n",
       "      <th>7</th>\n",
       "      <td>6283.580636</td>\n",
       "      <td>29667.204</td>\n",
       "      <td>113.272</td>\n",
       "      <td>ferrite-SRM487.cif</td>\n",
       "      <td>64.871</td>\n",
       "      <td>0.211802</td>\n",
       "      <td>0.003818</td>\n",
       "      <td>0</td>\n",
       "    </tr>\n",
       "    <tr>\n",
       "      <th>8</th>\n",
       "      <td>21415.720763</td>\n",
       "      <td>58818.348</td>\n",
       "      <td>152.070</td>\n",
       "      <td>ferrite-SRM487.cif</td>\n",
       "      <td>82.127</td>\n",
       "      <td>0.364099</td>\n",
       "      <td>0.002585</td>\n",
       "      <td>0</td>\n",
       "    </tr>\n",
       "    <tr>\n",
       "      <th>9</th>\n",
       "      <td>5150.655271</td>\n",
       "      <td>19287.603</td>\n",
       "      <td>98.365</td>\n",
       "      <td>ferrite-SRM487.cif</td>\n",
       "      <td>98.667</td>\n",
       "      <td>0.267045</td>\n",
       "      <td>0.005100</td>\n",
       "      <td>0</td>\n",
       "    </tr>\n",
       "    <tr>\n",
       "      <th>10</th>\n",
       "      <td>7841.360354</td>\n",
       "      <td>32124.524</td>\n",
       "      <td>122.684</td>\n",
       "      <td>ferrite-SRM487.cif</td>\n",
       "      <td>116.249</td>\n",
       "      <td>0.244093</td>\n",
       "      <td>0.003819</td>\n",
       "      <td>0</td>\n",
       "    </tr>\n",
       "    <tr>\n",
       "      <th>11</th>\n",
       "      <td>48274.293423</td>\n",
       "      <td>261157.488</td>\n",
       "      <td>168.301</td>\n",
       "      <td>austenite-SRM487.cif</td>\n",
       "      <td>43.593</td>\n",
       "      <td>0.184847</td>\n",
       "      <td>0.000644</td>\n",
       "      <td>1</td>\n",
       "    </tr>\n",
       "    <tr>\n",
       "      <th>12</th>\n",
       "      <td>20861.365090</td>\n",
       "      <td>122379.402</td>\n",
       "      <td>123.253</td>\n",
       "      <td>austenite-SRM487.cif</td>\n",
       "      <td>50.777</td>\n",
       "      <td>0.170465</td>\n",
       "      <td>0.001007</td>\n",
       "      <td>1</td>\n",
       "    </tr>\n",
       "    <tr>\n",
       "      <th>13</th>\n",
       "      <td>8512.816395</td>\n",
       "      <td>70554.804</td>\n",
       "      <td>103.257</td>\n",
       "      <td>austenite-SRM487.cif</td>\n",
       "      <td>74.651</td>\n",
       "      <td>0.120655</td>\n",
       "      <td>0.001464</td>\n",
       "      <td>1</td>\n",
       "    </tr>\n",
       "    <tr>\n",
       "      <th>14</th>\n",
       "      <td>10837.660213</td>\n",
       "      <td>80763.209</td>\n",
       "      <td>110.421</td>\n",
       "      <td>austenite-SRM487.cif</td>\n",
       "      <td>90.633</td>\n",
       "      <td>0.134191</td>\n",
       "      <td>0.001367</td>\n",
       "      <td>1</td>\n",
       "    </tr>\n",
       "    <tr>\n",
       "      <th>15</th>\n",
       "      <td>3466.264994</td>\n",
       "      <td>23555.357</td>\n",
       "      <td>80.239</td>\n",
       "      <td>austenite-SRM487.cif</td>\n",
       "      <td>95.910</td>\n",
       "      <td>0.147154</td>\n",
       "      <td>0.003406</td>\n",
       "      <td>1</td>\n",
       "    </tr>\n",
       "    <tr>\n",
       "      <th>16</th>\n",
       "      <td>214.437503</td>\n",
       "      <td>13186.997</td>\n",
       "      <td>47.393</td>\n",
       "      <td>austenite-SRM487.cif</td>\n",
       "      <td>118.074</td>\n",
       "      <td>0.016261</td>\n",
       "      <td>0.003594</td>\n",
       "      <td>1</td>\n",
       "    </tr>\n",
       "    <tr>\n",
       "      <th>17</th>\n",
       "      <td>207418.405991</td>\n",
       "      <td>188543.096</td>\n",
       "      <td>258.280</td>\n",
       "      <td>ferrite-SRM487.cif</td>\n",
       "      <td>44.575</td>\n",
       "      <td>1.100111</td>\n",
       "      <td>0.001370</td>\n",
       "      <td>1</td>\n",
       "    </tr>\n",
       "    <tr>\n",
       "      <th>18</th>\n",
       "      <td>19782.029448</td>\n",
       "      <td>29667.204</td>\n",
       "      <td>113.272</td>\n",
       "      <td>ferrite-SRM487.cif</td>\n",
       "      <td>64.871</td>\n",
       "      <td>0.666798</td>\n",
       "      <td>0.003818</td>\n",
       "      <td>1</td>\n",
       "    </tr>\n",
       "    <tr>\n",
       "      <th>19</th>\n",
       "      <td>40750.700503</td>\n",
       "      <td>58818.348</td>\n",
       "      <td>152.070</td>\n",
       "      <td>ferrite-SRM487.cif</td>\n",
       "      <td>82.127</td>\n",
       "      <td>0.692823</td>\n",
       "      <td>0.002585</td>\n",
       "      <td>1</td>\n",
       "    </tr>\n",
       "    <tr>\n",
       "      <th>20</th>\n",
       "      <td>12418.688833</td>\n",
       "      <td>19287.603</td>\n",
       "      <td>98.365</td>\n",
       "      <td>ferrite-SRM487.cif</td>\n",
       "      <td>98.667</td>\n",
       "      <td>0.643869</td>\n",
       "      <td>0.005100</td>\n",
       "      <td>1</td>\n",
       "    </tr>\n",
       "    <tr>\n",
       "      <th>21</th>\n",
       "      <td>21406.498151</td>\n",
       "      <td>32124.524</td>\n",
       "      <td>122.684</td>\n",
       "      <td>ferrite-SRM487.cif</td>\n",
       "      <td>116.249</td>\n",
       "      <td>0.666360</td>\n",
       "      <td>0.003819</td>\n",
       "      <td>1</td>\n",
       "    </tr>\n",
       "    <tr>\n",
       "      <th>22</th>\n",
       "      <td>66972.739594</td>\n",
       "      <td>261157.488</td>\n",
       "      <td>168.301</td>\n",
       "      <td>austenite-SRM487.cif</td>\n",
       "      <td>43.593</td>\n",
       "      <td>0.256446</td>\n",
       "      <td>0.000644</td>\n",
       "      <td>2</td>\n",
       "    </tr>\n",
       "    <tr>\n",
       "      <th>23</th>\n",
       "      <td>35455.301309</td>\n",
       "      <td>122379.402</td>\n",
       "      <td>123.253</td>\n",
       "      <td>austenite-SRM487.cif</td>\n",
       "      <td>50.777</td>\n",
       "      <td>0.289716</td>\n",
       "      <td>0.001007</td>\n",
       "      <td>2</td>\n",
       "    </tr>\n",
       "    <tr>\n",
       "      <th>24</th>\n",
       "      <td>13301.156544</td>\n",
       "      <td>70554.804</td>\n",
       "      <td>103.257</td>\n",
       "      <td>austenite-SRM487.cif</td>\n",
       "      <td>74.651</td>\n",
       "      <td>0.188522</td>\n",
       "      <td>0.001464</td>\n",
       "      <td>2</td>\n",
       "    </tr>\n",
       "    <tr>\n",
       "      <th>25</th>\n",
       "      <td>17643.934572</td>\n",
       "      <td>80763.209</td>\n",
       "      <td>110.421</td>\n",
       "      <td>austenite-SRM487.cif</td>\n",
       "      <td>90.633</td>\n",
       "      <td>0.218465</td>\n",
       "      <td>0.001367</td>\n",
       "      <td>2</td>\n",
       "    </tr>\n",
       "    <tr>\n",
       "      <th>26</th>\n",
       "      <td>6818.031756</td>\n",
       "      <td>23555.357</td>\n",
       "      <td>80.239</td>\n",
       "      <td>austenite-SRM487.cif</td>\n",
       "      <td>95.910</td>\n",
       "      <td>0.289447</td>\n",
       "      <td>0.003406</td>\n",
       "      <td>2</td>\n",
       "    </tr>\n",
       "    <tr>\n",
       "      <th>27</th>\n",
       "      <td>308.484874</td>\n",
       "      <td>13186.997</td>\n",
       "      <td>47.393</td>\n",
       "      <td>austenite-SRM487.cif</td>\n",
       "      <td>118.074</td>\n",
       "      <td>0.023393</td>\n",
       "      <td>0.003594</td>\n",
       "      <td>2</td>\n",
       "    </tr>\n",
       "    <tr>\n",
       "      <th>28</th>\n",
       "      <td>259776.326023</td>\n",
       "      <td>188543.096</td>\n",
       "      <td>258.280</td>\n",
       "      <td>ferrite-SRM487.cif</td>\n",
       "      <td>44.575</td>\n",
       "      <td>1.377809</td>\n",
       "      <td>0.001370</td>\n",
       "      <td>2</td>\n",
       "    </tr>\n",
       "    <tr>\n",
       "      <th>29</th>\n",
       "      <td>25355.836399</td>\n",
       "      <td>29667.204</td>\n",
       "      <td>113.272</td>\n",
       "      <td>ferrite-SRM487.cif</td>\n",
       "      <td>64.871</td>\n",
       "      <td>0.854676</td>\n",
       "      <td>0.003818</td>\n",
       "      <td>2</td>\n",
       "    </tr>\n",
       "    <tr>\n",
       "      <th>30</th>\n",
       "      <td>77786.414142</td>\n",
       "      <td>58818.348</td>\n",
       "      <td>152.070</td>\n",
       "      <td>ferrite-SRM487.cif</td>\n",
       "      <td>82.127</td>\n",
       "      <td>1.322486</td>\n",
       "      <td>0.002585</td>\n",
       "      <td>2</td>\n",
       "    </tr>\n",
       "    <tr>\n",
       "      <th>31</th>\n",
       "      <td>18746.418541</td>\n",
       "      <td>19287.603</td>\n",
       "      <td>98.365</td>\n",
       "      <td>ferrite-SRM487.cif</td>\n",
       "      <td>98.667</td>\n",
       "      <td>0.971941</td>\n",
       "      <td>0.005100</td>\n",
       "      <td>2</td>\n",
       "    </tr>\n",
       "    <tr>\n",
       "      <th>32</th>\n",
       "      <td>24006.280154</td>\n",
       "      <td>32124.524</td>\n",
       "      <td>122.684</td>\n",
       "      <td>ferrite-SRM487.cif</td>\n",
       "      <td>116.249</td>\n",
       "      <td>0.747288</td>\n",
       "      <td>0.003819</td>\n",
       "      <td>2</td>\n",
       "    </tr>\n",
       "  </tbody>\n",
       "</table>\n",
       "</div>"
      ],
      "text/plain": [
       "                I           R  sigma_I                phases   two_th  \\\n",
       "0    19106.409978  261157.488  168.301  austenite-SRM487.cif   43.593   \n",
       "1     6977.054213  122379.402  123.253  austenite-SRM487.cif   50.777   \n",
       "2     3741.333244   70554.804  103.257  austenite-SRM487.cif   74.651   \n",
       "3     4021.310566   80763.209  110.421  austenite-SRM487.cif   90.633   \n",
       "4     1304.384150   23555.357   80.239  austenite-SRM487.cif   95.910   \n",
       "5      107.248019   13186.997   47.393  austenite-SRM487.cif  118.074   \n",
       "6    50553.218664  188543.096  258.280    ferrite-SRM487.cif   44.575   \n",
       "7     6283.580636   29667.204  113.272    ferrite-SRM487.cif   64.871   \n",
       "8    21415.720763   58818.348  152.070    ferrite-SRM487.cif   82.127   \n",
       "9     5150.655271   19287.603   98.365    ferrite-SRM487.cif   98.667   \n",
       "10    7841.360354   32124.524  122.684    ferrite-SRM487.cif  116.249   \n",
       "11   48274.293423  261157.488  168.301  austenite-SRM487.cif   43.593   \n",
       "12   20861.365090  122379.402  123.253  austenite-SRM487.cif   50.777   \n",
       "13    8512.816395   70554.804  103.257  austenite-SRM487.cif   74.651   \n",
       "14   10837.660213   80763.209  110.421  austenite-SRM487.cif   90.633   \n",
       "15    3466.264994   23555.357   80.239  austenite-SRM487.cif   95.910   \n",
       "16     214.437503   13186.997   47.393  austenite-SRM487.cif  118.074   \n",
       "17  207418.405991  188543.096  258.280    ferrite-SRM487.cif   44.575   \n",
       "18   19782.029448   29667.204  113.272    ferrite-SRM487.cif   64.871   \n",
       "19   40750.700503   58818.348  152.070    ferrite-SRM487.cif   82.127   \n",
       "20   12418.688833   19287.603   98.365    ferrite-SRM487.cif   98.667   \n",
       "21   21406.498151   32124.524  122.684    ferrite-SRM487.cif  116.249   \n",
       "22   66972.739594  261157.488  168.301  austenite-SRM487.cif   43.593   \n",
       "23   35455.301309  122379.402  123.253  austenite-SRM487.cif   50.777   \n",
       "24   13301.156544   70554.804  103.257  austenite-SRM487.cif   74.651   \n",
       "25   17643.934572   80763.209  110.421  austenite-SRM487.cif   90.633   \n",
       "26    6818.031756   23555.357   80.239  austenite-SRM487.cif   95.910   \n",
       "27     308.484874   13186.997   47.393  austenite-SRM487.cif  118.074   \n",
       "28  259776.326023  188543.096  258.280    ferrite-SRM487.cif   44.575   \n",
       "29   25355.836399   29667.204  113.272    ferrite-SRM487.cif   64.871   \n",
       "30   77786.414142   58818.348  152.070    ferrite-SRM487.cif   82.127   \n",
       "31   18746.418541   19287.603   98.365    ferrite-SRM487.cif   98.667   \n",
       "32   24006.280154   32124.524  122.684    ferrite-SRM487.cif  116.249   \n",
       "\n",
       "          IR    sig_IR  sample_id  \n",
       "0   0.073160  0.000644          0  \n",
       "1   0.057012  0.001007          0  \n",
       "2   0.053027  0.001464          0  \n",
       "3   0.049791  0.001367          0  \n",
       "4   0.055375  0.003406          0  \n",
       "5   0.008133  0.003594          0  \n",
       "6   0.268126  0.001370          0  \n",
       "7   0.211802  0.003818          0  \n",
       "8   0.364099  0.002585          0  \n",
       "9   0.267045  0.005100          0  \n",
       "10  0.244093  0.003819          0  \n",
       "11  0.184847  0.000644          1  \n",
       "12  0.170465  0.001007          1  \n",
       "13  0.120655  0.001464          1  \n",
       "14  0.134191  0.001367          1  \n",
       "15  0.147154  0.003406          1  \n",
       "16  0.016261  0.003594          1  \n",
       "17  1.100111  0.001370          1  \n",
       "18  0.666798  0.003818          1  \n",
       "19  0.692823  0.002585          1  \n",
       "20  0.643869  0.005100          1  \n",
       "21  0.666360  0.003819          1  \n",
       "22  0.256446  0.000644          2  \n",
       "23  0.289716  0.001007          2  \n",
       "24  0.188522  0.001464          2  \n",
       "25  0.218465  0.001367          2  \n",
       "26  0.289447  0.003406          2  \n",
       "27  0.023393  0.003594          2  \n",
       "28  1.377809  0.001370          2  \n",
       "29  0.854676  0.003818          2  \n",
       "30  1.322486  0.002585          2  \n",
       "31  0.971941  0.005100          2  \n",
       "32  0.747288  0.003819          2  "
      ]
     },
     "execution_count": 40,
     "metadata": {},
     "output_type": "execute_result"
    }
   ],
   "source": [
    "multiple_df"
   ]
  },
  {
   "cell_type": "code",
   "execution_count": 13,
   "id": "766db3bc",
   "metadata": {},
   "outputs": [
    {
     "data": {
      "text/plain": [
       "<seaborn.axisgrid.FacetGrid at 0x2c3d8f63fd0>"
      ]
     },
     "execution_count": 13,
     "metadata": {},
     "output_type": "execute_result"
    },
    {
     "data": {
      "image/png": "[encoded data removed]",
      "text/plain": [
       "<Figure size 648x216 with 3 Axes>"
      ]
     },
     "metadata": {
      "needs_background": "light"
     },
     "output_type": "display_data"
    }
   ],
   "source": [
    "g = sns.FacetGrid(multiple_df,col='sample_id',hue='phases')\n",
    "g.map(sns.scatterplot,'two_th','IR')"
   ]
  },
  {
   "cell_type": "code",
   "execution_count": 41,
   "id": "76ef24eb",
   "metadata": {},
   "outputs": [],
   "source": [
    "def run_mcmc_multiple(I,R,sigma_I,phases,pfs,sample_ids):\n",
    "\n",
    "    I = np.array(I)[pfs]\n",
    "    R = np.array(R)[pfs]\n",
    "    sigma_I = np.array(sigma_I)[pfs]\n",
    "    phases = np.array(phases)[pfs]\n",
    "    sample_ids = np.array(sample_ids)[pfs]\n",
    "    \n",
    "    # make sure no phase has <=2 counts\n",
    "    phase_counts = np.unique(phases, return_counts=True)[1]\n",
    "\n",
    "    if np.min(phase_counts) <= 2:\n",
    "        print(\"Phases with fewer than 3 observations present.\")\n",
    "        return None\n",
    "\n",
    "    phase_names = phases.copy() # save as backups\n",
    "\n",
    "    Z = I/R\n",
    "    unique_phase_names = np.unique(phase_names)\n",
    "    phases = np.zeros(len(phases),dtype=np.int8)\n",
    "    \n",
    "    unique_sample_ids = np.unique(sample_ids)\n",
    "    \n",
    "    # create numeric index for each phase\n",
    "    for ii in range(len(unique_phase_names)):\n",
    "        phases[phase_names==unique_phase_names[ii]] = int(ii)\n",
    "\n",
    "    unique_phases = np.unique(phases)\n",
    "    group_stds = np.zeros((len(unique_phases),len(unique_sample_ids)))\n",
    "    group_mns = np.zeros((len(unique_phases),len(unique_sample_ids)))\n",
    "\n",
    "    # standard deviations for each phase\n",
    "    for ii, up in enumerate(unique_phases):\n",
    "        for jj, usi in enumerate(unique_sample_ids):\n",
    "            group_stds[ii,jj] = np.std(Z[ (phases==up) & (sample_ids == usi) ])\n",
    "            group_mns[ii,jj] = np.mean(Z[ (phases==up) & (sample_ids == usi) ])\n",
    "\n",
    "    # prior scale and means\n",
    "    prior_scale = np.mean(group_stds,axis=None)\n",
    "    phase_prior_mean_centers = np.mean(group_mns,axis=1)\n",
    "    print(\"phase prior centers\") \n",
    "    print(phase_prior_mean_centers)\n",
    "    sample_prior_mean_centers = np.mean(group_mns,axis=0)\n",
    "    print(\"sample prior centers\")\n",
    "    print(sample_prior_mean_centers)\n",
    "\n",
    "    basic_model = pm.Model() \n",
    "\n",
    "    with basic_model:\n",
    "        \n",
    "        # Priors\n",
    "        \n",
    "        # sigma for sample effect\n",
    "        sigma_sample = pm.HalfStudentT(\"sigma_sample\",sd=np.std(sample_prior_mean_centers)*2,nu=4)\n",
    "        \n",
    "        # sample effect\n",
    "        sample_effect = pm.Normal(\"sample_effect\",\n",
    "                                  mu=0,\n",
    "                                  sd=sigma_sample,\n",
    "                                  shape=unique_sample_ids.shape[0])\n",
    "        \n",
    "        # phase normalized intensity means\n",
    "        phase_mu = pm.TruncatedNormal(\"phase_mu\", \n",
    "                                      mu=phase_prior_mean_centers, \n",
    "                                      sd=np.std(phase_prior_mean_centers)*10,\n",
    "                                      lower=0,\n",
    "                                      shape=unique_phases.shape[0])\n",
    "        \n",
    "        # experimental error (can vary with phase)\n",
    "        sigma_exp = pm.HalfStudentT(\"sigma_exp\", sd=prior_scale*2, nu=4,shape=len(unique_phases))\n",
    "\n",
    "        # Likelihood (sampling distribution) of observations\n",
    "        Y_obs = pm.Normal(\"Y_obs\", \n",
    "                          mu=phase_mu[phases] + sample_effect[sample_ids], \n",
    "                          sd=sigma_exp[phases],\n",
    "                          #sd=pm.math.sqrt((1/R**2)*(sigma_I**2) + pm.math.sqr(sigma_exp[phases])), \n",
    "                          observed=Z)\n",
    "\n",
    "        trace = pm.sample(2000, return_inferencedata=False,tune=1000,cores=None,chains=None)\n",
    "        \n",
    "        mu_norm = np.apply_along_axis(lambda x: x/np.sum(x),1,trace['phase_mu'])\n",
    "        \n",
    "        mu_df = pd.DataFrame(mu_norm,columns=unique_phase_names)\n",
    "        mu_df = pd.melt(mu_df,value_vars = unique_phase_names,var_name='which_phase',value_name='value')\n",
    "        \n",
    "\n",
    "    summary_table = pd.DataFrame({\n",
    "        'phase':unique_phase_names,\n",
    "        'PF_Est':np.zeros(len(unique_phase_names)),\n",
    "        'PF_L95':np.zeros(len(unique_phase_names)),\n",
    "        'PF_U95':np.zeros(len(unique_phase_names))\n",
    "    })\n",
    "\n",
    "    for ii, pn in enumerate(unique_phase_names):\n",
    "\n",
    "        quantiles = np.quantile(mu_df['value'].loc[mu_df['which_phase']==pn],[.5,.025,.975])\n",
    "        summary_table.loc[summary_table['phase'] == pn, ['PF_Est','PF_L95','PF_U95']] = quantiles\n",
    "\n",
    "    return {'mu_df':mu_df,'trace':trace,\n",
    "            'unique_phase_names':unique_phase_names,\n",
    "            'summary_table':summary_table}"
   ]
  },
  {
   "cell_type": "code",
   "execution_count": 42,
   "id": "01cb7d8f",
   "metadata": {},
   "outputs": [
    {
     "name": "stdout",
     "output_type": "stream",
     "text": [
      "phase prior centers\n",
      "[0.12978122 0.69328836]\n",
      "sample prior centers\n",
      "[0.16022471 0.44146056 0.63291909]\n"
     ]
    },
    {
     "name": "stderr",
     "output_type": "stream",
     "text": [
      "Auto-assigning NUTS sampler...\n",
      "Initializing NUTS using jitter+adapt_diag...\n",
      "Multiprocess sampling (4 chains in 4 jobs)\n",
      "NUTS: [sigma_exp, phase_mu, sample_effect, sigma_sample]\n",
      "Sampling 4 chains: 100%|████████████████████████████████████████████████████| 12000/12000 [00:11<00:00, 1002.18draws/s]\n",
      "There were 291 divergences after tuning. Increase `target_accept` or reparameterize.\n",
      "The acceptance probability does not match the target. It is 0.6568633303588546, but should be close to 0.8. Try to increase the number of tuning steps.\n",
      "There were 80 divergences after tuning. Increase `target_accept` or reparameterize.\n",
      "The acceptance probability does not match the target. It is 0.7097546356560106, but should be close to 0.8. Try to increase the number of tuning steps.\n",
      "There were 12 divergences after tuning. Increase `target_accept` or reparameterize.\n",
      "There were 24 divergences after tuning. Increase `target_accept` or reparameterize.\n",
      "The gelman-rubin statistic is larger than 1.05 for some parameters. This indicates slight problems during sampling.\n",
      "The estimated number of effective samples is smaller than 200 for some parameters.\n"
     ]
    }
   ],
   "source": [
    "res = run_mcmc_multiple(I=multiple_df['I'],\n",
    "                        R=multiple_df['R'],\n",
    "                        sigma_I=multiple_df['sigma_I'],\n",
    "                        phases=multiple_df['phases'],\n",
    "                        pfs=np.array([True]*multiple_df.shape[0]),\n",
    "                        sample_ids=multiple_df['sample_id'])"
   ]
  },
  {
   "cell_type": "code",
   "execution_count": 16,
   "id": "6d7063bd",
   "metadata": {},
   "outputs": [
    {
     "data": {
      "text/plain": [
       "<seaborn.axisgrid.FacetGrid at 0x2c3d9150518>"
      ]
     },
     "execution_count": 16,
     "metadata": {},
     "output_type": "execute_result"
    },
    {
     "data": {
      "image/png": "[encoded data removed]",
      "text/plain": [
       "<Figure size 648x216 with 3 Axes>"
      ]
     },
     "metadata": {
      "needs_background": "light"
     },
     "output_type": "display_data"
    }
   ],
   "source": [
    "g = sns.FacetGrid(multiple_df,col='sample_id',hue='phases')\n",
    "g.map(sns.scatterplot,'two_th','IR')"
   ]
  },
  {
   "cell_type": "code",
   "execution_count": 21,
   "id": "489ac1e9",
   "metadata": {},
   "outputs": [
    {
     "data": {
      "text/html": [
       "<div>\n",
       "<style scoped>\n",
       "    .dataframe tbody tr th:only-of-type {\n",
       "        vertical-align: middle;\n",
       "    }\n",
       "\n",
       "    .dataframe tbody tr th {\n",
       "        vertical-align: top;\n",
       "    }\n",
       "\n",
       "    .dataframe thead th {\n",
       "        text-align: right;\n",
       "    }\n",
       "</style>\n",
       "<table border=\"1\" class=\"dataframe\">\n",
       "  <thead>\n",
       "    <tr style=\"text-align: right;\">\n",
       "      <th></th>\n",
       "      <th>phase</th>\n",
       "      <th>PF_Est</th>\n",
       "      <th>PF_L95</th>\n",
       "      <th>PF_U95</th>\n",
       "    </tr>\n",
       "  </thead>\n",
       "  <tbody>\n",
       "    <tr>\n",
       "      <th>0</th>\n",
       "      <td>austenite-SRM487.cif</td>\n",
       "      <td>0.15889</td>\n",
       "      <td>0.024969</td>\n",
       "      <td>0.253753</td>\n",
       "    </tr>\n",
       "    <tr>\n",
       "      <th>1</th>\n",
       "      <td>ferrite-SRM487.cif</td>\n",
       "      <td>0.84111</td>\n",
       "      <td>0.746247</td>\n",
       "      <td>0.975031</td>\n",
       "    </tr>\n",
       "  </tbody>\n",
       "</table>\n",
       "</div>"
      ],
      "text/plain": [
       "                  phase   PF_Est    PF_L95    PF_U95\n",
       "0  austenite-SRM487.cif  0.15889  0.024969  0.253753\n",
       "1    ferrite-SRM487.cif  0.84111  0.746247  0.975031"
      ]
     },
     "execution_count": 21,
     "metadata": {},
     "output_type": "execute_result"
    }
   ],
   "source": [
    "res['summary_table']"
   ]
  },
  {
   "cell_type": "code",
   "execution_count": 39,
   "id": "e097975b",
   "metadata": {},
   "outputs": [
    {
     "data": {
      "text/plain": [
       "<AxesSubplot:xlabel='value', ylabel='Count'>"
      ]
     },
     "execution_count": 39,
     "metadata": {},
     "output_type": "execute_result"
    },
    {
     "data": {
      "image/png": "[encoded data removed]",
      "text/plain": [
       "<Figure size 432x288 with 1 Axes>"
      ]
     },
     "metadata": {
      "needs_background": "light"
     },
     "output_type": "display_data"
    }
   ],
   "source": [
    "sns.histplot(data=res['mu_df'],x='value',hue='which_phase')"
   ]
  },
  {
   "cell_type": "code",
   "execution_count": 19,
   "id": "2e26bd26",
   "metadata": {},
   "outputs": [
    {
     "data": {
      "text/plain": [
       "(array([  49.,  260.,  866., 1814., 2330., 1646.,  759.,  223.,   48.,\n",
       "           5.]),\n",
       " array([0.34860419, 0.42719573, 0.50578726, 0.5843788 , 0.66297033,\n",
       "        0.74156186, 0.8201534 , 0.89874493, 0.97733647, 1.055928  ,\n",
       "        1.13451953]),\n",
       " <BarContainer object of 10 artists>)"
      ]
     },
     "execution_count": 19,
     "metadata": {},
     "output_type": "execute_result"
    },
    {
     "data": {
      "image/png": "[encoded data removed]",
      "text/plain": [
       "<Figure size 432x288 with 1 Axes>"
      ]
     },
     "metadata": {
      "needs_background": "light"
     },
     "output_type": "display_data"
    }
   ],
   "source": [
    "plt.hist(res['trace']['phase_mu'][:,1])"
   ]
  },
  {
   "cell_type": "code",
   "execution_count": 20,
   "id": "cfe07c81",
   "metadata": {},
   "outputs": [
    {
     "data": {
      "text/plain": [
       "0.12978122243828658"
      ]
     },
     "execution_count": 20,
     "metadata": {},
     "output_type": "execute_result"
    }
   ],
   "source": [
    "np.mean(multiple_df['IR'].loc[multiple_df['phases'] == np.unique(multiple_df['phases'])[0]])"
   ]
  },
  {
   "cell_type": "code",
   "execution_count": 81,
   "id": "a0a5905f",
   "metadata": {},
   "outputs": [
    {
     "data": {
      "text/html": [
       "<div>\n",
       "<style scoped>\n",
       "    .dataframe tbody tr th:only-of-type {\n",
       "        vertical-align: middle;\n",
       "    }\n",
       "\n",
       "    .dataframe tbody tr th {\n",
       "        vertical-align: top;\n",
       "    }\n",
       "\n",
       "    .dataframe thead th {\n",
       "        text-align: right;\n",
       "    }\n",
       "</style>\n",
       "<table border=\"1\" class=\"dataframe\">\n",
       "  <thead>\n",
       "    <tr style=\"text-align: right;\">\n",
       "      <th></th>\n",
       "      <th>I</th>\n",
       "      <th>R</th>\n",
       "      <th>sigma_I</th>\n",
       "      <th>phases</th>\n",
       "      <th>two_th</th>\n",
       "      <th>IR</th>\n",
       "      <th>sig_IR</th>\n",
       "      <th>sample_id</th>\n",
       "    </tr>\n",
       "  </thead>\n",
       "  <tbody>\n",
       "    <tr>\n",
       "      <th>0</th>\n",
       "      <td>17210.289709</td>\n",
       "      <td>261157.488</td>\n",
       "      <td>168.301</td>\n",
       "      <td>austenite-SRM487.cif</td>\n",
       "      <td>43.593</td>\n",
       "      <td>0.065900</td>\n",
       "      <td>0.000644</td>\n",
       "      <td>0</td>\n",
       "    </tr>\n",
       "    <tr>\n",
       "      <th>1</th>\n",
       "      <td>7044.282150</td>\n",
       "      <td>122379.402</td>\n",
       "      <td>123.253</td>\n",
       "      <td>austenite-SRM487.cif</td>\n",
       "      <td>50.777</td>\n",
       "      <td>0.057561</td>\n",
       "      <td>0.001007</td>\n",
       "      <td>0</td>\n",
       "    </tr>\n",
       "    <tr>\n",
       "      <th>2</th>\n",
       "      <td>4696.534702</td>\n",
       "      <td>70554.804</td>\n",
       "      <td>103.257</td>\n",
       "      <td>austenite-SRM487.cif</td>\n",
       "      <td>74.651</td>\n",
       "      <td>0.066566</td>\n",
       "      <td>0.001464</td>\n",
       "      <td>0</td>\n",
       "    </tr>\n",
       "    <tr>\n",
       "      <th>3</th>\n",
       "      <td>4178.107625</td>\n",
       "      <td>80763.209</td>\n",
       "      <td>110.421</td>\n",
       "      <td>austenite-SRM487.cif</td>\n",
       "      <td>90.633</td>\n",
       "      <td>0.051733</td>\n",
       "      <td>0.001367</td>\n",
       "      <td>0</td>\n",
       "    </tr>\n",
       "    <tr>\n",
       "      <th>4</th>\n",
       "      <td>1191.115307</td>\n",
       "      <td>23555.357</td>\n",
       "      <td>80.239</td>\n",
       "      <td>austenite-SRM487.cif</td>\n",
       "      <td>95.910</td>\n",
       "      <td>0.050567</td>\n",
       "      <td>0.003406</td>\n",
       "      <td>0</td>\n",
       "    </tr>\n",
       "  </tbody>\n",
       "</table>\n",
       "</div>"
      ],
      "text/plain": [
       "              I           R  sigma_I                phases  two_th        IR  \\\n",
       "0  17210.289709  261157.488  168.301  austenite-SRM487.cif  43.593  0.065900   \n",
       "1   7044.282150  122379.402  123.253  austenite-SRM487.cif  50.777  0.057561   \n",
       "2   4696.534702   70554.804  103.257  austenite-SRM487.cif  74.651  0.066566   \n",
       "3   4178.107625   80763.209  110.421  austenite-SRM487.cif  90.633  0.051733   \n",
       "4   1191.115307   23555.357   80.239  austenite-SRM487.cif  95.910  0.050567   \n",
       "\n",
       "     sig_IR  sample_id  \n",
       "0  0.000644          0  \n",
       "1  0.001007          0  \n",
       "2  0.001464          0  \n",
       "3  0.001367          0  \n",
       "4  0.003406          0  "
      ]
     },
     "execution_count": 81,
     "metadata": {},
     "output_type": "execute_result"
    }
   ],
   "source": [
    "multiple_df.head()"
   ]
  },
  {
   "cell_type": "code",
   "execution_count": null,
   "id": "2d2cb939",
   "metadata": {},
   "outputs": [],
   "source": []
  }
 ],
 "metadata": {
  "kernelspec": {
   "display_name": "Python 3 (ipykernel)",
   "language": "python",
   "name": "python3"
  },
  "language_info": {
   "codemirror_mode": {
    "name": "ipython",
    "version": 3
   },
   "file_extension": ".py",
   "mimetype": "text/x-python",
   "name": "python",
   "nbconvert_exporter": "python",
   "pygments_lexer": "ipython3",
   "version": "3.7.1"
  }
 },
 "nbformat": 4,
 "nbformat_minor": 5
}
