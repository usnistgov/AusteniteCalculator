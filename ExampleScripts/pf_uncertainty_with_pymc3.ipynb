{
 "cells": [
  {
   "cell_type": "markdown",
   "id": "7cfe9ff8",
   "metadata": {},
   "source": [
    "### Phase fraction uncertainty quantification"
   ]
  },
  {
   "cell_type": "markdown",
   "id": "8fa57436",
   "metadata": {},
   "source": [
    "For a given phase, define the normalized intensities as\n",
    "\n",
    "$$Z_i = I_i / R_i$$\n",
    "\n",
    "For now, we'll assume the $R_i$ are known completely while we figure out how to implement them efficiently in GSAS. (Either way this is likely a small component of uncertainty relative to the experimental variability of the $I_i$'s.)\n",
    "\n",
    "There is uncertainty in the $I_i$'s both due to experimental set up as well as the fitting procedure. We'll assume these sources of uncertainty are independent, and thus additive. Thus we model\n",
    "\n",
    "$$\n",
    "I_i \\sim N(\\mu_I, \\sigma_{I,exp}^2 + \\sigma_{fit_i}^2)\n",
    "$$\n",
    "\n",
    "and so \n",
    "\n",
    "$$\n",
    "Z_i \\sim N\\big(\\mu_z, \\sigma_{Z,exp}^2 + \\frac{\\sigma_{fit_i}^2}{R_i^{2}} \\big)\n",
    "$$\n",
    "\n",
    "$\\sigma^2_{fit_i}$ will be assumed known from the fitting procedure, while $\\sigma^2_{Z,exp}$ will have to be estimated from data. Since we won't estimate $\\mu_I$ and $\\sigma^2_{I,exp}$ directly, we will simply denote $\\mu_Z$ and $\\sigma_Z$ as $\\mu$ and $\\sigma$ respectively.\n",
    "\n",
    "In the Bayesian framework, we can write\n",
    "\n",
    "\\begin{align}\n",
    "p(\\mu, \\sigma^2_{exp} | Z_i) &\\propto p(Z_i|\\mu, \\sigma^2_{exp}) p(\\mu, \\sigma^2_{exp}) \\\\\n",
    "&= N(Z_i,\\mu,\\sigma^2_{exp} + R_i^{-2}\\sigma^2_{fit}) p(\\mu,\\sigma^2_{exp})\n",
    "\\end{align}\n",
    "\n",
    "where the prior distributions will be a standard choice such as a truncated $t_4$ scaled to the MAD. \n",
    "\n",
    "Estimation for the other phases will follow similarly."
   ]
  },
  {
   "cell_type": "markdown",
   "id": "be3868b1",
   "metadata": {},
   "source": [
    "### Example"
   ]
  },
  {
   "cell_type": "code",
   "execution_count": 49,
   "id": "2ef8a839",
   "metadata": {},
   "outputs": [],
   "source": [
    "import numpy as np\n",
    "import pandas as pd\n",
    "import matplotlib.pyplot as plt\n",
    "import arviz as az\n",
    "import pymc3 as pm\n",
    "from scipy.stats import median_abs_deviation as mad\n",
    "import plotly.express as px\n",
    "import seaborn as sns\n",
    "from scipy.stats import invgamma, t\n",
    "from statsmodels.stats.meta_analysis import combine_effects\n"
   ]
  },
  {
   "cell_type": "code",
   "execution_count": 50,
   "id": "ab1eccff",
   "metadata": {},
   "outputs": [
    {
     "name": "stdout",
     "output_type": "stream",
     "text": [
      "0.11.2\n",
      "3.6\n"
     ]
    }
   ],
   "source": [
    "print(az.__version__)\n",
    "print(pm.__version__)"
   ]
  },
  {
   "cell_type": "code",
   "execution_count": 70,
   "id": "022528c8",
   "metadata": {},
   "outputs": [],
   "source": [
    "indata = pd.read_csv('intensity_table.csv')"
   ]
  },
  {
   "cell_type": "code",
   "execution_count": 71,
   "id": "d7c95a08",
   "metadata": {},
   "outputs": [],
   "source": [
    "#indata.head()"
   ]
  },
  {
   "cell_type": "code",
   "execution_count": 72,
   "id": "15d0a956",
   "metadata": {},
   "outputs": [],
   "source": [
    "mydf = pd.DataFrame({\n",
    "    'I':indata.int_fit,\n",
    "    'R':indata.R_calc,\n",
    "    'sigma_I':indata.u_int_fit,\n",
    "    'phases':indata.Phase,\n",
    "    'two_th':indata.two_theta\n",
    "})\n",
    "\n",
    "mydf['IR'] = mydf.I / mydf.R\n",
    "mydf['sig_IR'] = mydf['sigma_I']/mydf.R\n",
    "\n",
    "mydf = mydf.sort_values('phases').reset_index(drop=True)"
   ]
  },
  {
   "cell_type": "code",
   "execution_count": 73,
   "id": "2972ff48",
   "metadata": {},
   "outputs": [
    {
     "name": "stdout",
     "output_type": "stream",
     "text": [
      "            I           R  sigma_I                phases   two_th        IR  \\\n",
      "0   21716.194  261157.488  168.301  austenite-SRM487.cif   43.593  0.083154   \n",
      "1    7812.145  122379.402  123.253  austenite-SRM487.cif   50.777  0.063835   \n",
      "2    4734.357   70554.804  103.257  austenite-SRM487.cif   74.651  0.067102   \n",
      "3    4864.974   80763.209  110.421  austenite-SRM487.cif   90.633  0.060238   \n",
      "4    1368.346   23555.357   80.239  austenite-SRM487.cif   95.910  0.058091   \n",
      "5      92.318   13186.997   47.393  austenite-SRM487.cif  118.074  0.007001   \n",
      "6   62590.189  188543.096  258.280    ferrite-SRM487.cif   44.575  0.331968   \n",
      "7    7283.611   29667.204  113.272    ferrite-SRM487.cif   64.871  0.245511   \n",
      "8   17954.038   58818.348  152.070    ferrite-SRM487.cif   82.127  0.305246   \n",
      "9    5211.789   19287.603   98.365    ferrite-SRM487.cif   98.667  0.270214   \n",
      "10   7830.424   32124.524  122.684    ferrite-SRM487.cif  116.249  0.243752   \n",
      "\n",
      "      sig_IR  \n",
      "0   0.000644  \n",
      "1   0.001007  \n",
      "2   0.001464  \n",
      "3   0.001367  \n",
      "4   0.003406  \n",
      "5   0.003594  \n",
      "6   0.001370  \n",
      "7   0.003818  \n",
      "8   0.002585  \n",
      "9   0.005100  \n",
      "10  0.003819  \n"
     ]
    }
   ],
   "source": [
    "print(mydf)"
   ]
  },
  {
   "cell_type": "code",
   "execution_count": 8,
   "id": "666b3508",
   "metadata": {},
   "outputs": [
    {
     "data": {
      "text/plain": [
       "<AxesSubplot:xlabel='two_th', ylabel='IR'>"
      ]
     },
     "execution_count": 8,
     "metadata": {},
     "output_type": "execute_result"
    },
    {
     "data": {
      "image/png": "[encoded data removed]",
      "text/plain": [
       "<Figure size 432x288 with 1 Axes>"
      ]
     },
     "metadata": {
      "needs_background": "light"
     },
     "output_type": "display_data"
    }
   ],
   "source": [
    "sns.scatterplot(data=mydf,x='two_th',y='IR',hue='phases')"
   ]
  },
  {
   "cell_type": "code",
   "execution_count": 21,
   "id": "e4fef4b1",
   "metadata": {},
   "outputs": [],
   "source": [
    "# conjugate priors\n",
    "def gen_mu_sigma(x,n_draws):\n",
    "    \n",
    "    # p(mu,simga) \\prop_to 1/sigma OR uniform prior on mu, log(sigma)\n",
    "    # BDA pg: 66\n",
    "    \n",
    "    x_var = np.var(x)\n",
    "    n_x = x.shape[0]\n",
    "    v = n_x-1\n",
    "    tau2 = x_var\n",
    "    \n",
    "    sigma2 = invgamma.rvs(a=v/2,scale=v*tau2/2,size=n_draws)\n",
    "    mu = t.rvs(df=n_x-1, loc=np.mean(x), scale=np.sqrt(x_var/n_x), size=n_draws)\n",
    "    \n",
    "    while np.sum(mu < 0) > 0:\n",
    "        mu[mu < 0] = t.rvs(df=n_x-1, loc=np.mean(x), scale=np.sqrt(x_var/n_x), size=len(mu[mu < 0]))\n",
    "    \n",
    "    return mu, sigma2\n",
    "\n",
    "def get_posterior_samples_cp(I,R,sigma_I,phases,n_draws):\n",
    "\n",
    "    I = np.array(I)\n",
    "    R = np.array(R)\n",
    "    sigma_I = np.array(sigma_I)\n",
    "    phases = np.array(phases)\n",
    "\n",
    "    Z = I/R\n",
    "    unique_phase_names = np.unique(phases)\n",
    "\n",
    "    res_dict = {}\n",
    "\n",
    "    for ii in range(len(unique_phase_names)):\n",
    "\n",
    "        res_dict[unique_phase_names[ii]] = gen_mu_sigma(Z[phases==unique_phase_names[ii]],n_draws)\n",
    "\n",
    "    return res_dict\n",
    "    \n",
    "    "
   ]
  },
  {
   "cell_type": "code",
   "execution_count": 37,
   "id": "12856b9f",
   "metadata": {},
   "outputs": [],
   "source": [
    "def run_mcmc(I,R,sigma_I,phases,pfs,method,plot=False):\n",
    "\n",
    "    I = np.array(I)[pfs]\n",
    "    R = np.array(R)[pfs]\n",
    "    sigma_I = np.array(sigma_I)[pfs]\n",
    "    phases = np.array(phases)[pfs]\n",
    "\n",
    "\n",
    "    phase_counts = np.unique(phases, return_counts=True)[1]\n",
    "\n",
    "    if np.min(phase_counts) <= 2:\n",
    "        return None\n",
    "\n",
    "    phase_names = phases.copy()\n",
    "\n",
    "    Z = I/R\n",
    "    unique_phase_names = np.unique(phase_names)\n",
    "\n",
    "    phases = np.zeros(len(phases),dtype=np.int8)\n",
    "    \n",
    "    # create numeric index for each phase\n",
    "    for ii in range(len(unique_phase_names)):\n",
    "\n",
    "        phases[phase_names==unique_phase_names[ii]] = int(ii)\n",
    "\n",
    "    unique_phases = np.unique(phases)\n",
    "    phase_stds = np.zeros(len(unique_phases))\n",
    "\n",
    "    # standard deviations for each phase\n",
    "    for ii in range(len(unique_phases)):\n",
    "\n",
    "        phase_stds[ii] = np.std(Z[phases==unique_phases[ii]])\n",
    "\n",
    "    # prior scale and means\n",
    "    prior_scale=np.mean(phase_stds)\n",
    "    prior_mean_centers = np.ones(len(unique_phases))\n",
    "\n",
    "    #print(prior_scale)\n",
    "    #print(prior_mean_centers)   \n",
    "\n",
    "    if plot:\n",
    "        plt.scatter(x=np.arange(len(Z)),y=Z,c=phases)\n",
    "        print(\"Z: {}\".format(Z))\n",
    "        print(\"phases: {}\".format(phases))\n",
    "\n",
    "    basic_model = pm.Model() \n",
    "\n",
    "    with basic_model:\n",
    "        \n",
    "        # Priors for unknown model parameters\n",
    "        sigma_exp = pm.HalfStudentT(\"sigma_exp\", sd=prior_scale*2, nu=4,shape=len(unique_phases))\n",
    "        mu = pm.TruncatedNormal(\"mu\", \n",
    "                       mu=prior_mean_centers, \n",
    "                       sd=np.std(Z)*10,\n",
    "                       lower=0,\n",
    "                       shape=len(unique_phases))\n",
    "        \n",
    "        full_sigma = pm.math.sqrt( (1/R**2)*(sigma_I**2) + pm.math.sqr(sigma_exp[phases]) )\n",
    "\n",
    "        # Likelihood (sampling distribution) of observations\n",
    "        Y_obs = pm.Normal(\"Y_obs\", mu=mu[phases], sd=full_sigma, observed=Z)\n",
    "\n",
    "        #if plot:\n",
    "            #pm.model_to_graphviz(basic_model)\n",
    "\n",
    "        \n",
    "        \n",
    "        if method == 'vi': # this didn't seem to work well at all\n",
    "            print(\"Variational Inference\")\n",
    "            mean_field = pm.fit(method=\"advi\")\n",
    "            \n",
    "            return mean_field\n",
    "            \n",
    "        else:\n",
    "            trace = pm.sample(1000, return_inferencedata=False,tune=1000)\n",
    "\n",
    "            mu_norm = np.apply_along_axis(lambda x: x/np.sum(x),1,trace['mu'])\n",
    "\n",
    "            mu_df = pd.DataFrame(mu_norm,columns=unique_phase_names)\n",
    "            mu_df = pd.melt(mu_df,value_vars = unique_phase_names,var_name='which_phase',value_name='value')\n",
    "\n",
    "            #sig_df = pd.DataFrame(trace['sigma_exp'],columns=unique_phase_names)\n",
    "            #sig_df = pd.melt(sig_df,value_vars = unique_phase_names,var_name='which_phase',value_name='value')\n",
    "\n",
    "            return {'mu_df':mu_df,'trace':trace,'unique_phase_names':unique_phase_names}"
   ]
  },
  {
   "cell_type": "code",
   "execution_count": 78,
   "id": "aa92f187",
   "metadata": {},
   "outputs": [
    {
     "data": {
      "text/plain": [
       "[0.08315363333560628,\n",
       " 0.06383545655828585,\n",
       " 0.06710183760130635,\n",
       " 0.060237502449908845,\n",
       " 0.05809065003769631,\n",
       " 0.007000684082964454]"
      ]
     },
     "execution_count": 78,
     "metadata": {},
     "output_type": "execute_result"
    }
   ],
   "source": [
    "list(mydf['IR'].iloc[0:6])"
   ]
  },
  {
   "cell_type": "code",
   "execution_count": 79,
   "id": "ddc8b9f3",
   "metadata": {},
   "outputs": [
    {
     "data": {
      "text/plain": [
       "[0.0006444425595026399,\n",
       " 0.0010071384398495427,\n",
       " 0.0014635006285326794,\n",
       " 0.0013672190762008974,\n",
       " 0.003406401354901987,\n",
       " 0.0035939190704297576]"
      ]
     },
     "execution_count": 79,
     "metadata": {},
     "output_type": "execute_result"
    }
   ],
   "source": [
    "list(mydf['sig_IR'].iloc[0:6])"
   ]
  },
  {
   "cell_type": "code",
   "execution_count": 107,
   "id": "72f5fdd3",
   "metadata": {},
   "outputs": [],
   "source": [
    "res1_dsl = combine_effects(mydf['IR'].iloc[0:6],mydf['sig_IR'].iloc[0:6]**2,method_re='iterated')\n",
    "res2_dsl = combine_effects(mydf['IR'].iloc[6:11],mydf['sig_IR'].iloc[6:11]**2,method_re='iterated')"
   ]
  },
  {
   "cell_type": "code",
   "execution_count": 108,
   "id": "7f0adfc2",
   "metadata": {},
   "outputs": [],
   "source": [
    "mn1 = res1_dsl.summary_frame().eff.iloc[7]\n",
    "mn2 = res2_dsl.summary_frame().eff.iloc[7]\n",
    "sd1 = res1_dsl.summary_frame().sd_eff.iloc[7]\n",
    "sd2 = res2_dsl.summary_frame().sd_eff.iloc[7]"
   ]
  },
  {
   "cell_type": "code",
   "execution_count": 110,
   "id": "e24c022b",
   "metadata": {},
   "outputs": [],
   "source": [
    "samps = np.random.normal(loc=[mn1,mn2],scale=[sd1,sd2],size=(8000,2))\n",
    "apf_rma = x=samps[:,0]/np.sum(samps,axis=1)"
   ]
  },
  {
   "cell_type": "code",
   "execution_count": 119,
   "id": "2c6b0489",
   "metadata": {},
   "outputs": [
    {
     "data": {
      "text/html": [
       "<div>\n",
       "<style scoped>\n",
       "    .dataframe tbody tr th:only-of-type {\n",
       "        vertical-align: middle;\n",
       "    }\n",
       "\n",
       "    .dataframe tbody tr th {\n",
       "        vertical-align: top;\n",
       "    }\n",
       "\n",
       "    .dataframe thead th {\n",
       "        text-align: right;\n",
       "    }\n",
       "</style>\n",
       "<table border=\"1\" class=\"dataframe\">\n",
       "  <thead>\n",
       "    <tr style=\"text-align: right;\">\n",
       "      <th></th>\n",
       "      <th>eff</th>\n",
       "      <th>sd_eff</th>\n",
       "      <th>ci_low</th>\n",
       "      <th>ci_upp</th>\n",
       "      <th>w_fe</th>\n",
       "      <th>w_re</th>\n",
       "    </tr>\n",
       "  </thead>\n",
       "  <tbody>\n",
       "    <tr>\n",
       "      <th>0</th>\n",
       "      <td>0.083154</td>\n",
       "      <td>0.000644</td>\n",
       "      <td>0.081891</td>\n",
       "      <td>0.084417</td>\n",
       "      <td>0.528134</td>\n",
       "      <td>0.167814</td>\n",
       "    </tr>\n",
       "    <tr>\n",
       "      <th>1</th>\n",
       "      <td>0.063835</td>\n",
       "      <td>0.001007</td>\n",
       "      <td>0.061862</td>\n",
       "      <td>0.065809</td>\n",
       "      <td>0.216239</td>\n",
       "      <td>0.167661</td>\n",
       "    </tr>\n",
       "    <tr>\n",
       "      <th>2</th>\n",
       "      <td>0.067102</td>\n",
       "      <td>0.001464</td>\n",
       "      <td>0.064233</td>\n",
       "      <td>0.069970</td>\n",
       "      <td>0.102406</td>\n",
       "      <td>0.167375</td>\n",
       "    </tr>\n",
       "    <tr>\n",
       "      <th>3</th>\n",
       "      <td>0.060238</td>\n",
       "      <td>0.001367</td>\n",
       "      <td>0.057558</td>\n",
       "      <td>0.062917</td>\n",
       "      <td>0.117337</td>\n",
       "      <td>0.167444</td>\n",
       "    </tr>\n",
       "    <tr>\n",
       "      <th>4</th>\n",
       "      <td>0.058091</td>\n",
       "      <td>0.003406</td>\n",
       "      <td>0.051414</td>\n",
       "      <td>0.064767</td>\n",
       "      <td>0.018903</td>\n",
       "      <td>0.165014</td>\n",
       "    </tr>\n",
       "    <tr>\n",
       "      <th>5</th>\n",
       "      <td>0.007001</td>\n",
       "      <td>0.003594</td>\n",
       "      <td>-0.000043</td>\n",
       "      <td>0.014045</td>\n",
       "      <td>0.016981</td>\n",
       "      <td>0.164691</td>\n",
       "    </tr>\n",
       "    <tr>\n",
       "      <th>fixed effect</th>\n",
       "      <td>0.072877</td>\n",
       "      <td>0.000468</td>\n",
       "      <td>0.071959</td>\n",
       "      <td>0.073795</td>\n",
       "      <td>1.000000</td>\n",
       "      <td>NaN</td>\n",
       "    </tr>\n",
       "    <tr>\n",
       "      <th>random effect</th>\n",
       "      <td>0.056713</td>\n",
       "      <td>0.010519</td>\n",
       "      <td>0.036096</td>\n",
       "      <td>0.077331</td>\n",
       "      <td>NaN</td>\n",
       "      <td>1.000000</td>\n",
       "    </tr>\n",
       "    <tr>\n",
       "      <th>fixed effect wls</th>\n",
       "      <td>0.072877</td>\n",
       "      <td>0.005890</td>\n",
       "      <td>0.061333</td>\n",
       "      <td>0.084420</td>\n",
       "      <td>1.000000</td>\n",
       "      <td>NaN</td>\n",
       "    </tr>\n",
       "    <tr>\n",
       "      <th>random effect wls</th>\n",
       "      <td>0.056713</td>\n",
       "      <td>0.010519</td>\n",
       "      <td>0.036096</td>\n",
       "      <td>0.077331</td>\n",
       "      <td>NaN</td>\n",
       "      <td>1.000000</td>\n",
       "    </tr>\n",
       "  </tbody>\n",
       "</table>\n",
       "</div>"
      ],
      "text/plain": [
       "                        eff    sd_eff    ci_low    ci_upp      w_fe      w_re\n",
       "0                  0.083154  0.000644  0.081891  0.084417  0.528134  0.167814\n",
       "1                  0.063835  0.001007  0.061862  0.065809  0.216239  0.167661\n",
       "2                  0.067102  0.001464  0.064233  0.069970  0.102406  0.167375\n",
       "3                  0.060238  0.001367  0.057558  0.062917  0.117337  0.167444\n",
       "4                  0.058091  0.003406  0.051414  0.064767  0.018903  0.165014\n",
       "5                  0.007001  0.003594 -0.000043  0.014045  0.016981  0.164691\n",
       "fixed effect       0.072877  0.000468  0.071959  0.073795  1.000000       NaN\n",
       "random effect      0.056713  0.010519  0.036096  0.077331       NaN  1.000000\n",
       "fixed effect wls   0.072877  0.005890  0.061333  0.084420  1.000000       NaN\n",
       "random effect wls  0.056713  0.010519  0.036096  0.077331       NaN  1.000000"
      ]
     },
     "execution_count": 119,
     "metadata": {},
     "output_type": "execute_result"
    }
   ],
   "source": [
    "res1_dsl.summary_frame()#.loc['random effect','eff']"
   ]
  },
  {
   "cell_type": "code",
   "execution_count": 111,
   "id": "e9586569",
   "metadata": {},
   "outputs": [
    {
     "data": {
      "text/plain": [
       "array([0.10318305, 0.13705136, 0.15451835, 0.170799  , 0.20199725])"
      ]
     },
     "execution_count": 111,
     "metadata": {},
     "output_type": "execute_result"
    }
   ],
   "source": [
    "np.quantile(apf_rma,[.025,.25,.5,.75,.975])"
   ]
  },
  {
   "cell_type": "code",
   "execution_count": 112,
   "id": "e49d1a54",
   "metadata": {},
   "outputs": [
    {
     "data": {
      "text/plain": [
       "<AxesSubplot:ylabel='Count'>"
      ]
     },
     "execution_count": 112,
     "metadata": {},
     "output_type": "execute_result"
    },
    {
     "data": {
      "image/png": "[encoded data removed]",
      "text/plain": [
       "<Figure size 432x288 with 1 Axes>"
      ]
     },
     "metadata": {
      "needs_background": "light"
     },
     "output_type": "display_data"
    }
   ],
   "source": [
    "sns.histplot(x=apf_rma)"
   ]
  },
  {
   "cell_type": "code",
   "execution_count": 23,
   "id": "25fd3297",
   "metadata": {},
   "outputs": [
    {
     "data": {
      "text/plain": [
       "0     austenite-SRM487.cif\n",
       "1       ferrite-SRM487.cif\n",
       "2     austenite-SRM487.cif\n",
       "3       ferrite-SRM487.cif\n",
       "4     austenite-SRM487.cif\n",
       "5       ferrite-SRM487.cif\n",
       "6     austenite-SRM487.cif\n",
       "7     austenite-SRM487.cif\n",
       "8       ferrite-SRM487.cif\n",
       "9       ferrite-SRM487.cif\n",
       "10    austenite-SRM487.cif\n",
       "Name: phases, dtype: object"
      ]
     },
     "execution_count": 23,
     "metadata": {},
     "output_type": "execute_result"
    }
   ],
   "source": [
    "mydf.phases"
   ]
  },
  {
   "cell_type": "code",
   "execution_count": 38,
   "id": "702a64f3",
   "metadata": {},
   "outputs": [
    {
     "name": "stdout",
     "output_type": "stream",
     "text": [
      "Z: [0.08315363 0.33196755 0.06383546 0.24551053 0.06710184 0.30524553\n",
      " 0.0602375  0.05809065 0.27021445 0.24375222 0.00700068]\n",
      "phases: [0 1 0 1 0 1 0 0 1 1 0]\n",
      "Variational Inference\n"
     ]
    },
    {
     "name": "stderr",
     "output_type": "stream",
     "text": [
      "INFO (theano.gof.compilelock): Refreshing lock C:\\Users\\dtn1\\AppData\\Local\\Theano\\compiledir_Windows-10-10.0.19041-SP0-Intel64_Family_6_Model_158_Stepping_13_GenuineIntel-3.7.1-64\\lock_dir\\lock\n",
      "INFO (theano.gof.compilelock): Refreshing lock C:\\Users\\dtn1\\AppData\\Local\\Theano\\compiledir_Windows-10-10.0.19041-SP0-Intel64_Family_6_Model_158_Stepping_13_GenuineIntel-3.7.1-64\\lock_dir\\lock\n",
      "Average Loss = 0.34638: 100%|██████████████████████████████████████████████████| 10000/10000 [00:07<00:00, 1295.76it/s]\n",
      "Finished [100%]: Average Loss = 0.30175\n"
     ]
    },
    {
     "data": {
      "image/png": "[encoded data removed]",
      "text/plain": [
       "<Figure size 432x288 with 1 Axes>"
      ]
     },
     "metadata": {
      "needs_background": "light"
     },
     "output_type": "display_data"
    }
   ],
   "source": [
    "res = run_mcmc(mydf.I,mydf.R,mydf.sigma_I,mydf.phases,np.array([True]*len(mydf.phases)), method='mcmc',plot=True)"
   ]
  },
  {
   "cell_type": "code",
   "execution_count": null,
   "id": "7f3dafac",
   "metadata": {},
   "outputs": [],
   "source": []
  },
  {
   "cell_type": "code",
   "execution_count": 28,
   "id": "aa371eaf",
   "metadata": {},
   "outputs": [],
   "source": [
    "apf = res['mu_df'].value[res['mu_df'].which_phase == 'austenite-SRM487.cif']"
   ]
  },
  {
   "cell_type": "code",
   "execution_count": 31,
   "id": "d529c7b2",
   "metadata": {},
   "outputs": [
    {
     "data": {
      "text/plain": [
       "array([0.09332121, 0.14728237, 0.16916028, 0.19056018, 0.23988315])"
      ]
     },
     "execution_count": 31,
     "metadata": {},
     "output_type": "execute_result"
    }
   ],
   "source": [
    "np.quantile(apf,[.025,.25,.5,.75,.975])"
   ]
  },
  {
   "cell_type": "code",
   "execution_count": 29,
   "id": "b40074b1",
   "metadata": {},
   "outputs": [
    {
     "data": {
      "text/plain": [
       "<AxesSubplot:xlabel='value', ylabel='Count'>"
      ]
     },
     "execution_count": 29,
     "metadata": {},
     "output_type": "execute_result"
    },
    {
     "data": {
      "image/png": "[encoded data removed]",
      "text/plain": [
       "<Figure size 432x288 with 1 Axes>"
      ]
     },
     "metadata": {
      "needs_background": "light"
     },
     "output_type": "display_data"
    }
   ],
   "source": [
    "sns.histplot(x=apf)"
   ]
  },
  {
   "cell_type": "code",
   "execution_count": 27,
   "id": "aa6a1a2a",
   "metadata": {},
   "outputs": [
    {
     "data": {
      "text/html": [
       "<div>\n",
       "<style scoped>\n",
       "    .dataframe tbody tr th:only-of-type {\n",
       "        vertical-align: middle;\n",
       "    }\n",
       "\n",
       "    .dataframe tbody tr th {\n",
       "        vertical-align: top;\n",
       "    }\n",
       "\n",
       "    .dataframe thead th {\n",
       "        text-align: right;\n",
       "    }\n",
       "</style>\n",
       "<table border=\"1\" class=\"dataframe\">\n",
       "  <thead>\n",
       "    <tr style=\"text-align: right;\">\n",
       "      <th></th>\n",
       "      <th>which_phase</th>\n",
       "      <th>value</th>\n",
       "    </tr>\n",
       "  </thead>\n",
       "  <tbody>\n",
       "    <tr>\n",
       "      <th>0</th>\n",
       "      <td>austenite-SRM487.cif</td>\n",
       "      <td>0.169703</td>\n",
       "    </tr>\n",
       "    <tr>\n",
       "      <th>1</th>\n",
       "      <td>austenite-SRM487.cif</td>\n",
       "      <td>0.133843</td>\n",
       "    </tr>\n",
       "    <tr>\n",
       "      <th>2</th>\n",
       "      <td>austenite-SRM487.cif</td>\n",
       "      <td>0.188317</td>\n",
       "    </tr>\n",
       "    <tr>\n",
       "      <th>3</th>\n",
       "      <td>austenite-SRM487.cif</td>\n",
       "      <td>0.200057</td>\n",
       "    </tr>\n",
       "    <tr>\n",
       "      <th>4</th>\n",
       "      <td>austenite-SRM487.cif</td>\n",
       "      <td>0.113091</td>\n",
       "    </tr>\n",
       "    <tr>\n",
       "      <th>...</th>\n",
       "      <td>...</td>\n",
       "      <td>...</td>\n",
       "    </tr>\n",
       "    <tr>\n",
       "      <th>7995</th>\n",
       "      <td>ferrite-SRM487.cif</td>\n",
       "      <td>0.853269</td>\n",
       "    </tr>\n",
       "    <tr>\n",
       "      <th>7996</th>\n",
       "      <td>ferrite-SRM487.cif</td>\n",
       "      <td>0.828290</td>\n",
       "    </tr>\n",
       "    <tr>\n",
       "      <th>7997</th>\n",
       "      <td>ferrite-SRM487.cif</td>\n",
       "      <td>0.801562</td>\n",
       "    </tr>\n",
       "    <tr>\n",
       "      <th>7998</th>\n",
       "      <td>ferrite-SRM487.cif</td>\n",
       "      <td>0.845942</td>\n",
       "    </tr>\n",
       "    <tr>\n",
       "      <th>7999</th>\n",
       "      <td>ferrite-SRM487.cif</td>\n",
       "      <td>0.823532</td>\n",
       "    </tr>\n",
       "  </tbody>\n",
       "</table>\n",
       "<p>8000 rows × 2 columns</p>\n",
       "</div>"
      ],
      "text/plain": [
       "               which_phase     value\n",
       "0     austenite-SRM487.cif  0.169703\n",
       "1     austenite-SRM487.cif  0.133843\n",
       "2     austenite-SRM487.cif  0.188317\n",
       "3     austenite-SRM487.cif  0.200057\n",
       "4     austenite-SRM487.cif  0.113091\n",
       "...                    ...       ...\n",
       "7995    ferrite-SRM487.cif  0.853269\n",
       "7996    ferrite-SRM487.cif  0.828290\n",
       "7997    ferrite-SRM487.cif  0.801562\n",
       "7998    ferrite-SRM487.cif  0.845942\n",
       "7999    ferrite-SRM487.cif  0.823532\n",
       "\n",
       "[8000 rows x 2 columns]"
      ]
     },
     "execution_count": 27,
     "metadata": {},
     "output_type": "execute_result"
    }
   ],
   "source": [
    "res['mu_df']"
   ]
  },
  {
   "cell_type": "code",
   "execution_count": null,
   "id": "e3317bd4",
   "metadata": {},
   "outputs": [],
   "source": [
    "dummy = np.unique([1,1,3],return_counts=True)"
   ]
  },
  {
   "cell_type": "code",
   "execution_count": null,
   "id": "09de912c",
   "metadata": {},
   "outputs": [],
   "source": [
    "dummy[1]"
   ]
  },
  {
   "cell_type": "code",
   "execution_count": null,
   "id": "76244687",
   "metadata": {},
   "outputs": [],
   "source": [
    "fig = px.histogram(res['mu_df'],x='value',color='which_phase',opacity=.7,barmode='overlay',histnorm='probability density')"
   ]
  },
  {
   "cell_type": "code",
   "execution_count": null,
   "id": "371d35ab",
   "metadata": {},
   "outputs": [],
   "source": [
    "fig"
   ]
  },
  {
   "cell_type": "code",
   "execution_count": 122,
   "id": "c615c78e",
   "metadata": {},
   "outputs": [
    {
     "data": {
      "text/plain": [
       "array([ 0.67538799, -0.56292907, -0.29313207,  1.00968466])"
      ]
     },
     "execution_count": 122,
     "metadata": {},
     "output_type": "execute_result"
    }
   ],
   "source": [
    "np.random.normal(1,1,size=4)"
   ]
  },
  {
   "cell_type": "code",
   "execution_count": 124,
   "id": "8e7912ce",
   "metadata": {},
   "outputs": [],
   "source": [
    "dummy = pd.DataFrame({\n",
    "    'x':[1,2,3,4,5,6],\n",
    "    'g':['a','a','a','b','b','b']\n",
    "})"
   ]
  },
  {
   "cell_type": "code",
   "execution_count": 132,
   "id": "46040a73",
   "metadata": {},
   "outputs": [
    {
     "data": {
      "application/vnd.plotly.v1+json": {
       "config": {
        "plotlyServerURL": "https://plot.ly"
       },
       "data": [
        {
         "alignmentgroup": "True",
         "bingroup": "x",
         "hovertemplate": "g=a<br>x=%{x}<br>count=%{y}<extra></extra>",
         "legendgroup": "a",
         "marker": {
          "color": "#636efa",
          "pattern": {
           "shape": ""
          }
         },
         "name": "a",
         "offsetgroup": "a",
         "orientation": "v",
         "showlegend": true,
         "type": "histogram",
         "x": [
          1,
          2,
          3
         ],
         "xaxis": "x",
         "yaxis": "y"
        },
        {
         "alignmentgroup": "True",
         "bingroup": "x",
         "hovertemplate": "g=b<br>x=%{x}<br>count=%{y}<extra></extra>",
         "legendgroup": "b",
         "marker": {
          "color": "#EF553B",
          "pattern": {
           "shape": ""
          }
         },
         "name": "b",
         "offsetgroup": "b",
         "orientation": "v",
         "showlegend": true,
         "type": "histogram",
         "x": [
          4,
          5,
          6
         ],
         "xaxis": "x",
         "yaxis": "y"
        }
       ],
       "layout": {
        "barmode": "relative",
        "legend": {
         "title": {
          "text": "g"
         },
         "tracegroupgap": 0
        },
        "margin": {
         "t": 60
        },
        "shapes": [
         {
          "type": "line",
          "x0": 1,
          "x1": 1,
          "xref": "x",
          "y0": 0,
          "y1": 1,
          "yref": "y domain"
         }
        ],
        "template": {
         "data": {
          "bar": [
           {
            "error_x": {
             "color": "#2a3f5f"
            },
            "error_y": {
             "color": "#2a3f5f"
            },
            "marker": {
             "line": {
              "color": "#E5ECF6",
              "width": 0.5
             },
             "pattern": {
              "fillmode": "overlay",
              "size": 10,
              "solidity": 0.2
             }
            },
            "type": "bar"
           }
          ],
          "barpolar": [
           {
            "marker": {
             "line": {
              "color": "#E5ECF6",
              "width": 0.5
             },
             "pattern": {
              "fillmode": "overlay",
              "size": 10,
              "solidity": 0.2
             }
            },
            "type": "barpolar"
           }
          ],
          "carpet": [
           {
            "aaxis": {
             "endlinecolor": "#2a3f5f",
             "gridcolor": "white",
             "linecolor": "white",
             "minorgridcolor": "white",
             "startlinecolor": "#2a3f5f"
            },
            "baxis": {
             "endlinecolor": "#2a3f5f",
             "gridcolor": "white",
             "linecolor": "white",
             "minorgridcolor": "white",
             "startlinecolor": "#2a3f5f"
            },
            "type": "carpet"
           }
          ],
          "choropleth": [
           {
            "colorbar": {
             "outlinewidth": 0,
             "ticks": ""
            },
            "type": "choropleth"
           }
          ],
          "contour": [
           {
            "colorbar": {
             "outlinewidth": 0,
             "ticks": ""
            },
            "colorscale": [
             [
              0,
              "#0d0887"
             ],
             [
              0.1111111111111111,
              "#46039f"
             ],
             [
              0.2222222222222222,
              "#7201a8"
             ],
             [
              0.3333333333333333,
              "#9c179e"
             ],
             [
              0.4444444444444444,
              "#bd3786"
             ],
             [
              0.5555555555555556,
              "#d8576b"
             ],
             [
              0.6666666666666666,
              "#ed7953"
             ],
             [
              0.7777777777777778,
              "#fb9f3a"
             ],
             [
              0.8888888888888888,
              "#fdca26"
             ],
             [
              1,
              "#f0f921"
             ]
            ],
            "type": "contour"
           }
          ],
          "contourcarpet": [
           {
            "colorbar": {
             "outlinewidth": 0,
             "ticks": ""
            },
            "type": "contourcarpet"
           }
          ],
          "heatmap": [
           {
            "colorbar": {
             "outlinewidth": 0,
             "ticks": ""
            },
            "colorscale": [
             [
              0,
              "#0d0887"
             ],
             [
              0.1111111111111111,
              "#46039f"
             ],
             [
              0.2222222222222222,
              "#7201a8"
             ],
             [
              0.3333333333333333,
              "#9c179e"
             ],
             [
              0.4444444444444444,
              "#bd3786"
             ],
             [
              0.5555555555555556,
              "#d8576b"
             ],
             [
              0.6666666666666666,
              "#ed7953"
             ],
             [
              0.7777777777777778,
              "#fb9f3a"
             ],
             [
              0.8888888888888888,
              "#fdca26"
             ],
             [
              1,
              "#f0f921"
             ]
            ],
            "type": "heatmap"
           }
          ],
          "heatmapgl": [
           {
            "colorbar": {
             "outlinewidth": 0,
             "ticks": ""
            },
            "colorscale": [
             [
              0,
              "#0d0887"
             ],
             [
              0.1111111111111111,
              "#46039f"
             ],
             [
              0.2222222222222222,
              "#7201a8"
             ],
             [
              0.3333333333333333,
              "#9c179e"
             ],
             [
              0.4444444444444444,
              "#bd3786"
             ],
             [
              0.5555555555555556,
              "#d8576b"
             ],
             [
              0.6666666666666666,
              "#ed7953"
             ],
             [
              0.7777777777777778,
              "#fb9f3a"
             ],
             [
              0.8888888888888888,
              "#fdca26"
             ],
             [
              1,
              "#f0f921"
             ]
            ],
            "type": "heatmapgl"
           }
          ],
          "histogram": [
           {
            "marker": {
             "pattern": {
              "fillmode": "overlay",
              "size": 10,
              "solidity": 0.2
             }
            },
            "type": "histogram"
           }
          ],
          "histogram2d": [
           {
            "colorbar": {
             "outlinewidth": 0,
             "ticks": ""
            },
            "colorscale": [
             [
              0,
              "#0d0887"
             ],
             [
              0.1111111111111111,
              "#46039f"
             ],
             [
              0.2222222222222222,
              "#7201a8"
             ],
             [
              0.3333333333333333,
              "#9c179e"
             ],
             [
              0.4444444444444444,
              "#bd3786"
             ],
             [
              0.5555555555555556,
              "#d8576b"
             ],
             [
              0.6666666666666666,
              "#ed7953"
             ],
             [
              0.7777777777777778,
              "#fb9f3a"
             ],
             [
              0.8888888888888888,
              "#fdca26"
             ],
             [
              1,
              "#f0f921"
             ]
            ],
            "type": "histogram2d"
           }
          ],
          "histogram2dcontour": [
           {
            "colorbar": {
             "outlinewidth": 0,
             "ticks": ""
            },
            "colorscale": [
             [
              0,
              "#0d0887"
             ],
             [
              0.1111111111111111,
              "#46039f"
             ],
             [
              0.2222222222222222,
              "#7201a8"
             ],
             [
              0.3333333333333333,
              "#9c179e"
             ],
             [
              0.4444444444444444,
              "#bd3786"
             ],
             [
              0.5555555555555556,
              "#d8576b"
             ],
             [
              0.6666666666666666,
              "#ed7953"
             ],
             [
              0.7777777777777778,
              "#fb9f3a"
             ],
             [
              0.8888888888888888,
              "#fdca26"
             ],
             [
              1,
              "#f0f921"
             ]
            ],
            "type": "histogram2dcontour"
           }
          ],
          "mesh3d": [
           {
            "colorbar": {
             "outlinewidth": 0,
             "ticks": ""
            },
            "type": "mesh3d"
           }
          ],
          "parcoords": [
           {
            "line": {
             "colorbar": {
              "outlinewidth": 0,
              "ticks": ""
             }
            },
            "type": "parcoords"
           }
          ],
          "pie": [
           {
            "automargin": true,
            "type": "pie"
           }
          ],
          "scatter": [
           {
            "marker": {
             "colorbar": {
              "outlinewidth": 0,
              "ticks": ""
             }
            },
            "type": "scatter"
           }
          ],
          "scatter3d": [
           {
            "line": {
             "colorbar": {
              "outlinewidth": 0,
              "ticks": ""
             }
            },
            "marker": {
             "colorbar": {
              "outlinewidth": 0,
              "ticks": ""
             }
            },
            "type": "scatter3d"
           }
          ],
          "scattercarpet": [
           {
            "marker": {
             "colorbar": {
              "outlinewidth": 0,
              "ticks": ""
             }
            },
            "type": "scattercarpet"
           }
          ],
          "scattergeo": [
           {
            "marker": {
             "colorbar": {
              "outlinewidth": 0,
              "ticks": ""
             }
            },
            "type": "scattergeo"
           }
          ],
          "scattergl": [
           {
            "marker": {
             "colorbar": {
              "outlinewidth": 0,
              "ticks": ""
             }
            },
            "type": "scattergl"
           }
          ],
          "scattermapbox": [
           {
            "marker": {
             "colorbar": {
              "outlinewidth": 0,
              "ticks": ""
             }
            },
            "type": "scattermapbox"
           }
          ],
          "scatterpolar": [
           {
            "marker": {
             "colorbar": {
              "outlinewidth": 0,
              "ticks": ""
             }
            },
            "type": "scatterpolar"
           }
          ],
          "scatterpolargl": [
           {
            "marker": {
             "colorbar": {
              "outlinewidth": 0,
              "ticks": ""
             }
            },
            "type": "scatterpolargl"
           }
          ],
          "scatterternary": [
           {
            "marker": {
             "colorbar": {
              "outlinewidth": 0,
              "ticks": ""
             }
            },
            "type": "scatterternary"
           }
          ],
          "surface": [
           {
            "colorbar": {
             "outlinewidth": 0,
             "ticks": ""
            },
            "colorscale": [
             [
              0,
              "#0d0887"
             ],
             [
              0.1111111111111111,
              "#46039f"
             ],
             [
              0.2222222222222222,
              "#7201a8"
             ],
             [
              0.3333333333333333,
              "#9c179e"
             ],
             [
              0.4444444444444444,
              "#bd3786"
             ],
             [
              0.5555555555555556,
              "#d8576b"
             ],
             [
              0.6666666666666666,
              "#ed7953"
             ],
             [
              0.7777777777777778,
              "#fb9f3a"
             ],
             [
              0.8888888888888888,
              "#fdca26"
             ],
             [
              1,
              "#f0f921"
             ]
            ],
            "type": "surface"
           }
          ],
          "table": [
           {
            "cells": {
             "fill": {
              "color": "#EBF0F8"
             },
             "line": {
              "color": "white"
             }
            },
            "header": {
             "fill": {
              "color": "#C8D4E3"
             },
             "line": {
              "color": "white"
             }
            },
            "type": "table"
           }
          ]
         },
         "layout": {
          "annotationdefaults": {
           "arrowcolor": "#2a3f5f",
           "arrowhead": 0,
           "arrowwidth": 1
          },
          "autotypenumbers": "strict",
          "coloraxis": {
           "colorbar": {
            "outlinewidth": 0,
            "ticks": ""
           }
          },
          "colorscale": {
           "diverging": [
            [
             0,
             "#8e0152"
            ],
            [
             0.1,
             "#c51b7d"
            ],
            [
             0.2,
             "#de77ae"
            ],
            [
             0.3,
             "#f1b6da"
            ],
            [
             0.4,
             "#fde0ef"
            ],
            [
             0.5,
             "#f7f7f7"
            ],
            [
             0.6,
             "#e6f5d0"
            ],
            [
             0.7,
             "#b8e186"
            ],
            [
             0.8,
             "#7fbc41"
            ],
            [
             0.9,
             "#4d9221"
            ],
            [
             1,
             "#276419"
            ]
           ],
           "sequential": [
            [
             0,
             "#0d0887"
            ],
            [
             0.1111111111111111,
             "#46039f"
            ],
            [
             0.2222222222222222,
             "#7201a8"
            ],
            [
             0.3333333333333333,
             "#9c179e"
            ],
            [
             0.4444444444444444,
             "#bd3786"
            ],
            [
             0.5555555555555556,
             "#d8576b"
            ],
            [
             0.6666666666666666,
             "#ed7953"
            ],
            [
             0.7777777777777778,
             "#fb9f3a"
            ],
            [
             0.8888888888888888,
             "#fdca26"
            ],
            [
             1,
             "#f0f921"
            ]
           ],
           "sequentialminus": [
            [
             0,
             "#0d0887"
            ],
            [
             0.1111111111111111,
             "#46039f"
            ],
            [
             0.2222222222222222,
             "#7201a8"
            ],
            [
             0.3333333333333333,
             "#9c179e"
            ],
            [
             0.4444444444444444,
             "#bd3786"
            ],
            [
             0.5555555555555556,
             "#d8576b"
            ],
            [
             0.6666666666666666,
             "#ed7953"
            ],
            [
             0.7777777777777778,
             "#fb9f3a"
            ],
            [
             0.8888888888888888,
             "#fdca26"
            ],
            [
             1,
             "#f0f921"
            ]
           ]
          },
          "colorway": [
           "#636efa",
           "#EF553B",
           "#00cc96",
           "#ab63fa",
           "#FFA15A",
           "#19d3f3",
           "#FF6692",
           "#B6E880",
           "#FF97FF",
           "#FECB52"
          ],
          "font": {
           "color": "#2a3f5f"
          },
          "geo": {
           "bgcolor": "white",
           "lakecolor": "white",
           "landcolor": "#E5ECF6",
           "showlakes": true,
           "showland": true,
           "subunitcolor": "white"
          },
          "hoverlabel": {
           "align": "left"
          },
          "hovermode": "closest",
          "mapbox": {
           "style": "light"
          },
          "paper_bgcolor": "white",
          "plot_bgcolor": "#E5ECF6",
          "polar": {
           "angularaxis": {
            "gridcolor": "white",
            "linecolor": "white",
            "ticks": ""
           },
           "bgcolor": "#E5ECF6",
           "radialaxis": {
            "gridcolor": "white",
            "linecolor": "white",
            "ticks": ""
           }
          },
          "scene": {
           "xaxis": {
            "backgroundcolor": "#E5ECF6",
            "gridcolor": "white",
            "gridwidth": 2,
            "linecolor": "white",
            "showbackground": true,
            "ticks": "",
            "zerolinecolor": "white"
           },
           "yaxis": {
            "backgroundcolor": "#E5ECF6",
            "gridcolor": "white",
            "gridwidth": 2,
            "linecolor": "white",
            "showbackground": true,
            "ticks": "",
            "zerolinecolor": "white"
           },
           "zaxis": {
            "backgroundcolor": "#E5ECF6",
            "gridcolor": "white",
            "gridwidth": 2,
            "linecolor": "white",
            "showbackground": true,
            "ticks": "",
            "zerolinecolor": "white"
           }
          },
          "shapedefaults": {
           "line": {
            "color": "#2a3f5f"
           }
          },
          "ternary": {
           "aaxis": {
            "gridcolor": "white",
            "linecolor": "white",
            "ticks": ""
           },
           "baxis": {
            "gridcolor": "white",
            "linecolor": "white",
            "ticks": ""
           },
           "bgcolor": "#E5ECF6",
           "caxis": {
            "gridcolor": "white",
            "linecolor": "white",
            "ticks": ""
           }
          },
          "title": {
           "x": 0.05
          },
          "xaxis": {
           "automargin": true,
           "gridcolor": "white",
           "linecolor": "white",
           "ticks": "",
           "title": {
            "standoff": 15
           },
           "zerolinecolor": "white",
           "zerolinewidth": 2
          },
          "yaxis": {
           "automargin": true,
           "gridcolor": "white",
           "linecolor": "white",
           "ticks": "",
           "title": {
            "standoff": 15
           },
           "zerolinecolor": "white",
           "zerolinewidth": 2
          }
         }
        },
        "xaxis": {
         "anchor": "y",
         "domain": [
          0,
          1
         ],
         "title": {
          "text": "x"
         }
        },
        "yaxis": {
         "anchor": "x",
         "domain": [
          0,
          1
         ],
         "title": {
          "text": "count"
         }
        }
       }
      },
      "text/html": [
       "<div>                            <div id=\"525d96f2-9382-44b5-b3b6-8d10999c708e\" class=\"plotly-graph-div\" style=\"height:525px; width:100%;\"></div>            <script type=\"text/javascript\">                require([\"plotly\"], function(Plotly) {                    window.PLOTLYENV=window.PLOTLYENV || {};                                    if (document.getElementById(\"525d96f2-9382-44b5-b3b6-8d10999c708e\")) {                    Plotly.newPlot(                        \"525d96f2-9382-44b5-b3b6-8d10999c708e\",                        [{\"alignmentgroup\":\"True\",\"bingroup\":\"x\",\"hovertemplate\":\"g=a<br>x=%{x}<br>count=%{y}<extra></extra>\",\"legendgroup\":\"a\",\"marker\":{\"color\":\"#636efa\",\"pattern\":{\"shape\":\"\"}},\"name\":\"a\",\"offsetgroup\":\"a\",\"orientation\":\"v\",\"showlegend\":true,\"type\":\"histogram\",\"x\":[1,2,3],\"xaxis\":\"x\",\"yaxis\":\"y\"},{\"alignmentgroup\":\"True\",\"bingroup\":\"x\",\"hovertemplate\":\"g=b<br>x=%{x}<br>count=%{y}<extra></extra>\",\"legendgroup\":\"b\",\"marker\":{\"color\":\"#EF553B\",\"pattern\":{\"shape\":\"\"}},\"name\":\"b\",\"offsetgroup\":\"b\",\"orientation\":\"v\",\"showlegend\":true,\"type\":\"histogram\",\"x\":[4,5,6],\"xaxis\":\"x\",\"yaxis\":\"y\"}],                        {\"barmode\":\"relative\",\"legend\":{\"title\":{\"text\":\"g\"},\"tracegroupgap\":0},\"margin\":{\"t\":60},\"shapes\":[{\"type\":\"line\",\"x0\":1,\"x1\":1,\"xref\":\"x\",\"y0\":0,\"y1\":1,\"yref\":\"y domain\"}],\"template\":{\"data\":{\"bar\":[{\"error_x\":{\"color\":\"#2a3f5f\"},\"error_y\":{\"color\":\"#2a3f5f\"},\"marker\":{\"line\":{\"color\":\"#E5ECF6\",\"width\":0.5},\"pattern\":{\"fillmode\":\"overlay\",\"size\":10,\"solidity\":0.2}},\"type\":\"bar\"}],\"barpolar\":[{\"marker\":{\"line\":{\"color\":\"#E5ECF6\",\"width\":0.5},\"pattern\":{\"fillmode\":\"overlay\",\"size\":10,\"solidity\":0.2}},\"type\":\"barpolar\"}],\"carpet\":[{\"aaxis\":{\"endlinecolor\":\"#2a3f5f\",\"gridcolor\":\"white\",\"linecolor\":\"white\",\"minorgridcolor\":\"white\",\"startlinecolor\":\"#2a3f5f\"},\"baxis\":{\"endlinecolor\":\"#2a3f5f\",\"gridcolor\":\"white\",\"linecolor\":\"white\",\"minorgridcolor\":\"white\",\"startlinecolor\":\"#2a3f5f\"},\"type\":\"carpet\"}],\"choropleth\":[{\"colorbar\":{\"outlinewidth\":0,\"ticks\":\"\"},\"type\":\"choropleth\"}],\"contour\":[{\"colorbar\":{\"outlinewidth\":0,\"ticks\":\"\"},\"colorscale\":[[0.0,\"#0d0887\"],[0.1111111111111111,\"#46039f\"],[0.2222222222222222,\"#7201a8\"],[0.3333333333333333,\"#9c179e\"],[0.4444444444444444,\"#bd3786\"],[0.5555555555555556,\"#d8576b\"],[0.6666666666666666,\"#ed7953\"],[0.7777777777777778,\"#fb9f3a\"],[0.8888888888888888,\"#fdca26\"],[1.0,\"#f0f921\"]],\"type\":\"contour\"}],\"contourcarpet\":[{\"colorbar\":{\"outlinewidth\":0,\"ticks\":\"\"},\"type\":\"contourcarpet\"}],\"heatmap\":[{\"colorbar\":{\"outlinewidth\":0,\"ticks\":\"\"},\"colorscale\":[[0.0,\"#0d0887\"],[0.1111111111111111,\"#46039f\"],[0.2222222222222222,\"#7201a8\"],[0.3333333333333333,\"#9c179e\"],[0.4444444444444444,\"#bd3786\"],[0.5555555555555556,\"#d8576b\"],[0.6666666666666666,\"#ed7953\"],[0.7777777777777778,\"#fb9f3a\"],[0.8888888888888888,\"#fdca26\"],[1.0,\"#f0f921\"]],\"type\":\"heatmap\"}],\"heatmapgl\":[{\"colorbar\":{\"outlinewidth\":0,\"ticks\":\"\"},\"colorscale\":[[0.0,\"#0d0887\"],[0.1111111111111111,\"#46039f\"],[0.2222222222222222,\"#7201a8\"],[0.3333333333333333,\"#9c179e\"],[0.4444444444444444,\"#bd3786\"],[0.5555555555555556,\"#d8576b\"],[0.6666666666666666,\"#ed7953\"],[0.7777777777777778,\"#fb9f3a\"],[0.8888888888888888,\"#fdca26\"],[1.0,\"#f0f921\"]],\"type\":\"heatmapgl\"}],\"histogram\":[{\"marker\":{\"pattern\":{\"fillmode\":\"overlay\",\"size\":10,\"solidity\":0.2}},\"type\":\"histogram\"}],\"histogram2d\":[{\"colorbar\":{\"outlinewidth\":0,\"ticks\":\"\"},\"colorscale\":[[0.0,\"#0d0887\"],[0.1111111111111111,\"#46039f\"],[0.2222222222222222,\"#7201a8\"],[0.3333333333333333,\"#9c179e\"],[0.4444444444444444,\"#bd3786\"],[0.5555555555555556,\"#d8576b\"],[0.6666666666666666,\"#ed7953\"],[0.7777777777777778,\"#fb9f3a\"],[0.8888888888888888,\"#fdca26\"],[1.0,\"#f0f921\"]],\"type\":\"histogram2d\"}],\"histogram2dcontour\":[{\"colorbar\":{\"outlinewidth\":0,\"ticks\":\"\"},\"colorscale\":[[0.0,\"#0d0887\"],[0.1111111111111111,\"#46039f\"],[0.2222222222222222,\"#7201a8\"],[0.3333333333333333,\"#9c179e\"],[0.4444444444444444,\"#bd3786\"],[0.5555555555555556,\"#d8576b\"],[0.6666666666666666,\"#ed7953\"],[0.7777777777777778,\"#fb9f3a\"],[0.8888888888888888,\"#fdca26\"],[1.0,\"#f0f921\"]],\"type\":\"histogram2dcontour\"}],\"mesh3d\":[{\"colorbar\":{\"outlinewidth\":0,\"ticks\":\"\"},\"type\":\"mesh3d\"}],\"parcoords\":[{\"line\":{\"colorbar\":{\"outlinewidth\":0,\"ticks\":\"\"}},\"type\":\"parcoords\"}],\"pie\":[{\"automargin\":true,\"type\":\"pie\"}],\"scatter\":[{\"marker\":{\"colorbar\":{\"outlinewidth\":0,\"ticks\":\"\"}},\"type\":\"scatter\"}],\"scatter3d\":[{\"line\":{\"colorbar\":{\"outlinewidth\":0,\"ticks\":\"\"}},\"marker\":{\"colorbar\":{\"outlinewidth\":0,\"ticks\":\"\"}},\"type\":\"scatter3d\"}],\"scattercarpet\":[{\"marker\":{\"colorbar\":{\"outlinewidth\":0,\"ticks\":\"\"}},\"type\":\"scattercarpet\"}],\"scattergeo\":[{\"marker\":{\"colorbar\":{\"outlinewidth\":0,\"ticks\":\"\"}},\"type\":\"scattergeo\"}],\"scattergl\":[{\"marker\":{\"colorbar\":{\"outlinewidth\":0,\"ticks\":\"\"}},\"type\":\"scattergl\"}],\"scattermapbox\":[{\"marker\":{\"colorbar\":{\"outlinewidth\":0,\"ticks\":\"\"}},\"type\":\"scattermapbox\"}],\"scatterpolar\":[{\"marker\":{\"colorbar\":{\"outlinewidth\":0,\"ticks\":\"\"}},\"type\":\"scatterpolar\"}],\"scatterpolargl\":[{\"marker\":{\"colorbar\":{\"outlinewidth\":0,\"ticks\":\"\"}},\"type\":\"scatterpolargl\"}],\"scatterternary\":[{\"marker\":{\"colorbar\":{\"outlinewidth\":0,\"ticks\":\"\"}},\"type\":\"scatterternary\"}],\"surface\":[{\"colorbar\":{\"outlinewidth\":0,\"ticks\":\"\"},\"colorscale\":[[0.0,\"#0d0887\"],[0.1111111111111111,\"#46039f\"],[0.2222222222222222,\"#7201a8\"],[0.3333333333333333,\"#9c179e\"],[0.4444444444444444,\"#bd3786\"],[0.5555555555555556,\"#d8576b\"],[0.6666666666666666,\"#ed7953\"],[0.7777777777777778,\"#fb9f3a\"],[0.8888888888888888,\"#fdca26\"],[1.0,\"#f0f921\"]],\"type\":\"surface\"}],\"table\":[{\"cells\":{\"fill\":{\"color\":\"#EBF0F8\"},\"line\":{\"color\":\"white\"}},\"header\":{\"fill\":{\"color\":\"#C8D4E3\"},\"line\":{\"color\":\"white\"}},\"type\":\"table\"}]},\"layout\":{\"annotationdefaults\":{\"arrowcolor\":\"#2a3f5f\",\"arrowhead\":0,\"arrowwidth\":1},\"autotypenumbers\":\"strict\",\"coloraxis\":{\"colorbar\":{\"outlinewidth\":0,\"ticks\":\"\"}},\"colorscale\":{\"diverging\":[[0,\"#8e0152\"],[0.1,\"#c51b7d\"],[0.2,\"#de77ae\"],[0.3,\"#f1b6da\"],[0.4,\"#fde0ef\"],[0.5,\"#f7f7f7\"],[0.6,\"#e6f5d0\"],[0.7,\"#b8e186\"],[0.8,\"#7fbc41\"],[0.9,\"#4d9221\"],[1,\"#276419\"]],\"sequential\":[[0.0,\"#0d0887\"],[0.1111111111111111,\"#46039f\"],[0.2222222222222222,\"#7201a8\"],[0.3333333333333333,\"#9c179e\"],[0.4444444444444444,\"#bd3786\"],[0.5555555555555556,\"#d8576b\"],[0.6666666666666666,\"#ed7953\"],[0.7777777777777778,\"#fb9f3a\"],[0.8888888888888888,\"#fdca26\"],[1.0,\"#f0f921\"]],\"sequentialminus\":[[0.0,\"#0d0887\"],[0.1111111111111111,\"#46039f\"],[0.2222222222222222,\"#7201a8\"],[0.3333333333333333,\"#9c179e\"],[0.4444444444444444,\"#bd3786\"],[0.5555555555555556,\"#d8576b\"],[0.6666666666666666,\"#ed7953\"],[0.7777777777777778,\"#fb9f3a\"],[0.8888888888888888,\"#fdca26\"],[1.0,\"#f0f921\"]]},\"colorway\":[\"#636efa\",\"#EF553B\",\"#00cc96\",\"#ab63fa\",\"#FFA15A\",\"#19d3f3\",\"#FF6692\",\"#B6E880\",\"#FF97FF\",\"#FECB52\"],\"font\":{\"color\":\"#2a3f5f\"},\"geo\":{\"bgcolor\":\"white\",\"lakecolor\":\"white\",\"landcolor\":\"#E5ECF6\",\"showlakes\":true,\"showland\":true,\"subunitcolor\":\"white\"},\"hoverlabel\":{\"align\":\"left\"},\"hovermode\":\"closest\",\"mapbox\":{\"style\":\"light\"},\"paper_bgcolor\":\"white\",\"plot_bgcolor\":\"#E5ECF6\",\"polar\":{\"angularaxis\":{\"gridcolor\":\"white\",\"linecolor\":\"white\",\"ticks\":\"\"},\"bgcolor\":\"#E5ECF6\",\"radialaxis\":{\"gridcolor\":\"white\",\"linecolor\":\"white\",\"ticks\":\"\"}},\"scene\":{\"xaxis\":{\"backgroundcolor\":\"#E5ECF6\",\"gridcolor\":\"white\",\"gridwidth\":2,\"linecolor\":\"white\",\"showbackground\":true,\"ticks\":\"\",\"zerolinecolor\":\"white\"},\"yaxis\":{\"backgroundcolor\":\"#E5ECF6\",\"gridcolor\":\"white\",\"gridwidth\":2,\"linecolor\":\"white\",\"showbackground\":true,\"ticks\":\"\",\"zerolinecolor\":\"white\"},\"zaxis\":{\"backgroundcolor\":\"#E5ECF6\",\"gridcolor\":\"white\",\"gridwidth\":2,\"linecolor\":\"white\",\"showbackground\":true,\"ticks\":\"\",\"zerolinecolor\":\"white\"}},\"shapedefaults\":{\"line\":{\"color\":\"#2a3f5f\"}},\"ternary\":{\"aaxis\":{\"gridcolor\":\"white\",\"linecolor\":\"white\",\"ticks\":\"\"},\"baxis\":{\"gridcolor\":\"white\",\"linecolor\":\"white\",\"ticks\":\"\"},\"bgcolor\":\"#E5ECF6\",\"caxis\":{\"gridcolor\":\"white\",\"linecolor\":\"white\",\"ticks\":\"\"}},\"title\":{\"x\":0.05},\"xaxis\":{\"automargin\":true,\"gridcolor\":\"white\",\"linecolor\":\"white\",\"ticks\":\"\",\"title\":{\"standoff\":15},\"zerolinecolor\":\"white\",\"zerolinewidth\":2},\"yaxis\":{\"automargin\":true,\"gridcolor\":\"white\",\"linecolor\":\"white\",\"ticks\":\"\",\"title\":{\"standoff\":15},\"zerolinecolor\":\"white\",\"zerolinewidth\":2}}},\"xaxis\":{\"anchor\":\"y\",\"domain\":[0.0,1.0],\"title\":{\"text\":\"x\"}},\"yaxis\":{\"anchor\":\"x\",\"domain\":[0.0,1.0],\"title\":{\"text\":\"count\"}}},                        {\"responsive\": true}                    ).then(function(){\n",
       "                            \n",
       "var gd = document.getElementById('525d96f2-9382-44b5-b3b6-8d10999c708e');\n",
       "var x = new MutationObserver(function (mutations, observer) {{\n",
       "        var display = window.getComputedStyle(gd).display;\n",
       "        if (!display || display === 'none') {{\n",
       "            console.log([gd, 'removed!']);\n",
       "            Plotly.purge(gd);\n",
       "            observer.disconnect();\n",
       "        }}\n",
       "}});\n",
       "\n",
       "// Listen for the removal of the full notebook cells\n",
       "var notebookContainer = gd.closest('#notebook-container');\n",
       "if (notebookContainer) {{\n",
       "    x.observe(notebookContainer, {childList: true});\n",
       "}}\n",
       "\n",
       "// Listen for the clearing of the current output cell\n",
       "var outputEl = gd.closest('.output');\n",
       "if (outputEl) {{\n",
       "    x.observe(outputEl, {childList: true});\n",
       "}}\n",
       "\n",
       "                        })                };                });            </script>        </div>"
      ]
     },
     "metadata": {},
     "output_type": "display_data"
    }
   ],
   "source": [
    "px.histogram(dummy,x='x',color='g').add_vline(1)"
   ]
  },
  {
   "cell_type": "code",
   "execution_count": null,
   "id": "88b851ed",
   "metadata": {},
   "outputs": [],
   "source": []
  }
 ],
 "metadata": {
  "kernelspec": {
   "display_name": "Python 3 (ipykernel)",
   "language": "python",
   "name": "python3"
  },
  "language_info": {
   "codemirror_mode": {
    "name": "ipython",
    "version": 3
   },
   "file_extension": ".py",
   "mimetype": "text/x-python",
   "name": "python",
   "nbconvert_exporter": "python",
   "pygments_lexer": "ipython3",
   "version": "3.7.1"
  }
 },
 "nbformat": 4,
 "nbformat_minor": 5
}
