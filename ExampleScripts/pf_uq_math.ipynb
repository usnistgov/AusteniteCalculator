{
 "cells": [
  {
   "cell_type": "markdown",
   "id": "f7c317f2",
   "metadata": {},
   "source": [
    "## Phase Fraction Uncertainty Quantification"
   ]
  },
  {
   "cell_type": "markdown",
   "id": "c63ba3ed",
   "metadata": {},
   "source": [
    "### Model"
   ]
  },
  {
   "cell_type": "markdown",
   "id": "93ed26c5",
   "metadata": {},
   "source": [
    "For a given material (e.g. Austenite), in a particular experimental setup, let $\\mu_\\alpha$ be the true average normalized intensity. That is,\n",
    "\n",
    "$$\n",
    "\\mu_\\alpha := \\mathbb{E} ( \\bar{I})  = \n",
    "\\mathbb{E} \\bigg( \\sum_{i=1}^n \\frac{I_{\\alpha,hkl(\\theta_i)}}{r_{\\alpha,hkl(\\theta_i)}} \\bigg) \n",
    "$$\n",
    "To suppress notation, denote $\\phi_{\\alpha,i} := \\frac{I_{\\alpha,hkl(\\theta_i)}}{r_{\\alpha,hkl(\\theta_i)}} - \\mu_\\alpha$ \n",
    "\n",
    "We assume that\n",
    "$$\n",
    "\\phi_{\\alpha,i} \\overset{iid}{\\sim} N(0,\\sigma^2_i) \n",
    "$$\n",
    "\n",
    "That is, the $\\phi_{\\alpha,i}$ equal the true average intensity in expectation, but are allowed to have varying spreads across the two theta range.\n",
    "\n",
    "We then have that\n",
    "\n",
    "$$\n",
    "\\bar{I} = \\mu_\\alpha + \\sum_i \\phi_{\\alpha,i}\n",
    "$$\n",
    "and so\n",
    "$$\n",
    "\\bar{I} \\sim N\\bigg(\\mu_\\alpha, \\sum_i \\sigma^2_i \\bigg)\n",
    "$$\n",
    "\n",
    "The parameters $r_{\\alpha,hkl(\\theta)}$ are known up to an uncertainty of $\\sigma_r$. That is, we have a 'guess' for the $r_i$, but don't know them exactly. We will represent our uncertainty using some specified probability distribution $p_r(r_i|\\mu_{r_i},\\sigma^2_{r_i})$.\n"
   ]
  },
  {
   "cell_type": "markdown",
   "id": "161493a9",
   "metadata": {},
   "source": [
    "### Inference for $\\mu_\\alpha$"
   ]
  },
  {
   "cell_type": "markdown",
   "id": "f9f808ab",
   "metadata": {},
   "source": [
    "Within a Bayesian framework, our goal is to compute the posterior distribution of the true average intensity, given the observed intensities. That is, we want the expression for, and samples from, the following:\n",
    "\n",
    "$$\n",
    "p(\\mu_\\alpha| I_{\\alpha,hkl(\\theta_i)}), \\; i=1,...,n\n",
    "$$\n",
    "\n",
    "We can rewrite this as\n",
    "\n",
    "$$\n",
    "p(\\mu_\\alpha | I_{\\alpha,hkl(\\theta_i)}) =\n",
    "\\int p(\\mu_\\alpha, \\sigma_i, r_i | I_{\\alpha,hkl(\\theta_i)}) \\; d\\sigma dr\n",
    "$$\n",
    "For the RHS,\n",
    "\n",
    "\\begin{align}\n",
    " p(\\mu_\\alpha, \\sigma_i, r_i | I_{\\alpha,hkl(\\theta_i)}) \n",
    "&\\propto \n",
    "  p(I_{\\alpha,hkl(\\theta_i)}  | \\mu_\\alpha, r_i, \\sigma_i) \\; p(\\mu_\\alpha, \\sigma_i, r_i)  \\\\\n",
    " &=  N\\big(I_{\\alpha,hkl(\\theta_i)}|\\mu_\\alpha,(\\sigma_i r_i)^2\\big)  \\; p(\\mu_\\alpha) p( \\sigma_i) p(r_i)  \n",
    "\\end{align}"
   ]
  },
  {
   "cell_type": "markdown",
   "id": "d5f97b2c",
   "metadata": {},
   "source": [
    "We can then sample the posterior using standard MCMC libraries."
   ]
  }
 ],
 "metadata": {
  "kernelspec": {
   "display_name": "Python 3 (ipykernel)",
   "language": "python",
   "name": "python3"
  },
  "language_info": {
   "codemirror_mode": {
    "name": "ipython",
    "version": 3
   },
   "file_extension": ".py",
   "mimetype": "text/x-python",
   "name": "python",
   "nbconvert_exporter": "python",
   "pygments_lexer": "ipython3",
   "version": "3.7.1"
  }
 },
 "nbformat": 4,
 "nbformat_minor": 5
}
